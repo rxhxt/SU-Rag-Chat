{
 "cells": [
  {
   "cell_type": "code",
   "execution_count": 1,
   "id": "45dc5dd7",
   "metadata": {},
   "outputs": [
    {
     "name": "stdout",
     "output_type": "stream",
     "text": [
      "Requirement already satisfied: boilerpy3 in ./rag_env/lib/python3.13/site-packages (1.0.7)\n",
      "\n",
      "\u001b[1m[\u001b[0m\u001b[34;49mnotice\u001b[0m\u001b[1;39;49m]\u001b[0m\u001b[39;49m A new release of pip is available: \u001b[0m\u001b[31;49m24.3.1\u001b[0m\u001b[39;49m -> \u001b[0m\u001b[32;49m25.1.1\u001b[0m\n",
      "\u001b[1m[\u001b[0m\u001b[34;49mnotice\u001b[0m\u001b[1;39;49m]\u001b[0m\u001b[39;49m To update, run: \u001b[0m\u001b[32;49mpip install --upgrade pip\u001b[0m\n"
     ]
    }
   ],
   "source": [
    "!pip install boilerpy3"
   ]
  },
  {
   "cell_type": "code",
   "execution_count": 2,
   "id": "da727c89",
   "metadata": {},
   "outputs": [],
   "source": [
    "from boilerpy3 import extractors\n",
    "extractor = extractors.DefaultExtractor()\n",
    "new_ext = extractors.KeepEverythingExtractor()"
   ]
  },
  {
   "cell_type": "code",
   "execution_count": 3,
   "id": "3c342d78",
   "metadata": {},
   "outputs": [
    {
     "data": {
      "text/html": [
       "<div>\n",
       "<style scoped>\n",
       "    .dataframe tbody tr th:only-of-type {\n",
       "        vertical-align: middle;\n",
       "    }\n",
       "\n",
       "    .dataframe tbody tr th {\n",
       "        vertical-align: top;\n",
       "    }\n",
       "\n",
       "    .dataframe thead th {\n",
       "        text-align: right;\n",
       "    }\n",
       "</style>\n",
       "<table border=\"1\" class=\"dataframe\">\n",
       "  <thead>\n",
       "    <tr style=\"text-align: right;\">\n",
       "      <th></th>\n",
       "      <th>URL</th>\n",
       "      <th>mainGroup</th>\n",
       "      <th>subGroup</th>\n",
       "      <th>Unnamed: 3</th>\n",
       "      <th>Unnamed: 4</th>\n",
       "      <th>Unnamed: 5</th>\n",
       "      <th>Unnamed: 6</th>\n",
       "      <th>Unnamed: 7</th>\n",
       "    </tr>\n",
       "  </thead>\n",
       "  <tbody>\n",
       "    <tr>\n",
       "      <th>0</th>\n",
       "      <td>https:www.seattleu.edu/</td>\n",
       "      <td>NaN</td>\n",
       "      <td>NaN</td>\n",
       "      <td>NaN</td>\n",
       "      <td>NaN</td>\n",
       "      <td>NaN</td>\n",
       "      <td>NaN</td>\n",
       "      <td>NaN</td>\n",
       "    </tr>\n",
       "    <tr>\n",
       "      <th>1</th>\n",
       "      <td>https:www.seattleu.edu/search/</td>\n",
       "      <td>search</td>\n",
       "      <td>NaN</td>\n",
       "      <td>NaN</td>\n",
       "      <td>NaN</td>\n",
       "      <td>NaN</td>\n",
       "      <td>NaN</td>\n",
       "      <td>NaN</td>\n",
       "    </tr>\n",
       "    <tr>\n",
       "      <th>2</th>\n",
       "      <td>https:www.seattleu.edu/map/</td>\n",
       "      <td>map</td>\n",
       "      <td>NaN</td>\n",
       "      <td>NaN</td>\n",
       "      <td>NaN</td>\n",
       "      <td>NaN</td>\n",
       "      <td>NaN</td>\n",
       "      <td>NaN</td>\n",
       "    </tr>\n",
       "    <tr>\n",
       "      <th>3</th>\n",
       "      <td>https:www.seattleu.edu/admissions-aid/</td>\n",
       "      <td>admissions-aid</td>\n",
       "      <td>NaN</td>\n",
       "      <td>NaN</td>\n",
       "      <td>NaN</td>\n",
       "      <td>NaN</td>\n",
       "      <td>NaN</td>\n",
       "      <td>NaN</td>\n",
       "    </tr>\n",
       "    <tr>\n",
       "      <th>4</th>\n",
       "      <td>https:www.seattleu.edu/admissions-aid/undergra...</td>\n",
       "      <td>admissions-aid</td>\n",
       "      <td>undergraduate-admissions</td>\n",
       "      <td>NaN</td>\n",
       "      <td>NaN</td>\n",
       "      <td>NaN</td>\n",
       "      <td>NaN</td>\n",
       "      <td>NaN</td>\n",
       "    </tr>\n",
       "  </tbody>\n",
       "</table>\n",
       "</div>"
      ],
      "text/plain": [
       "                                                 URL       mainGroup  \\\n",
       "0                            https:www.seattleu.edu/             NaN   \n",
       "1                     https:www.seattleu.edu/search/          search   \n",
       "2                        https:www.seattleu.edu/map/             map   \n",
       "3             https:www.seattleu.edu/admissions-aid/  admissions-aid   \n",
       "4  https:www.seattleu.edu/admissions-aid/undergra...  admissions-aid   \n",
       "\n",
       "                   subGroup Unnamed: 3 Unnamed: 4 Unnamed: 5 Unnamed: 6  \\\n",
       "0                       NaN        NaN        NaN        NaN        NaN   \n",
       "1                       NaN        NaN        NaN        NaN        NaN   \n",
       "2                       NaN        NaN        NaN        NaN        NaN   \n",
       "3                       NaN        NaN        NaN        NaN        NaN   \n",
       "4  undergraduate-admissions        NaN        NaN        NaN        NaN   \n",
       "\n",
       "  Unnamed: 7  \n",
       "0        NaN  \n",
       "1        NaN  \n",
       "2        NaN  \n",
       "3        NaN  \n",
       "4        NaN  "
      ]
     },
     "execution_count": 3,
     "metadata": {},
     "output_type": "execute_result"
    }
   ],
   "source": [
    "import pandas as pd\n",
    "df = pd.read_csv('site_groups.csv')\n",
    "df.head()"
   ]
  },
  {
   "cell_type": "code",
   "execution_count": 4,
   "id": "01ef73fa",
   "metadata": {},
   "outputs": [
    {
     "name": "stderr",
     "output_type": "stream",
     "text": [
      "  0%|          | 0/6321 [00:00<?, ?it/s]"
     ]
    },
    {
     "name": "stdout",
     "output_type": "stream",
     "text": [
      "Extracted content from https://www.seattleu.edu/directory/ and saved to JSON.\n"
     ]
    },
    {
     "name": "stderr",
     "output_type": "stream",
     "text": [
      " 22%|██▏       | 1384/6321 [00:10<00:37, 133.04it/s]"
     ]
    },
    {
     "name": "stdout",
     "output_type": "stream",
     "text": [
      "Extracted content from https://www.seattleu.edu/directory/profiles/ and saved to JSON.\n",
      "Extracted content from https://www.seattleu.edu/directory/profiles/nicole-plastino.php and saved to JSON.\n"
     ]
    },
    {
     "name": "stderr",
     "output_type": "stream",
     "text": [
      " 22%|██▏       | 1386/6321 [00:30<02:20, 35.04it/s] "
     ]
    },
    {
     "name": "stdout",
     "output_type": "stream",
     "text": [
      "Extracted content from https://www.seattleu.edu/directory/profiles/keith-mobley-phd-lmhcs-lcmhcs-acs-ncc.php and saved to JSON.\n"
     ]
    },
    {
     "name": "stderr",
     "output_type": "stream",
     "text": [
      " 22%|██▏       | 1387/6321 [00:40<03:34, 23.03it/s]"
     ]
    },
    {
     "name": "stdout",
     "output_type": "stream",
     "text": [
      "Extracted content from https://www.seattleu.edu/directory/profiles/aaron-clarry.php and saved to JSON.\n"
     ]
    },
    {
     "name": "stderr",
     "output_type": "stream",
     "text": [
      " 22%|██▏       | 1388/6321 [00:51<05:18, 15.48it/s]"
     ]
    },
    {
     "name": "stdout",
     "output_type": "stream",
     "text": [
      "Extracted content from https://www.seattleu.edu/directory/profiles/aaron-day-edd.php and saved to JSON.\n"
     ]
    },
    {
     "name": "stderr",
     "output_type": "stream",
     "text": [
      " 22%|██▏       | 1389/6321 [01:01<07:46, 10.57it/s]"
     ]
    },
    {
     "name": "stdout",
     "output_type": "stream",
     "text": [
      "Extracted content from https://www.seattleu.edu/directory/profiles/aaron-morgan.php and saved to JSON.\n"
     ]
    },
    {
     "name": "stderr",
     "output_type": "stream",
     "text": [
      " 22%|██▏       | 1391/6321 [01:11<11:19,  7.26it/s]"
     ]
    },
    {
     "name": "stdout",
     "output_type": "stream",
     "text": [
      "Error processing https:www.seattleu.edu/directory/profiles/aaron-sanchez.php: HTTP Error 404: Not Found\n",
      "Extracted content from https://www.seattleu.edu/directory/profiles/aaron-m-thornburg-jd-llm-mba-mir.php and saved to JSON.\n"
     ]
    },
    {
     "name": "stderr",
     "output_type": "stream",
     "text": [
      " 22%|██▏       | 1392/6321 [01:21<18:20,  4.48it/s]"
     ]
    },
    {
     "name": "stdout",
     "output_type": "stream",
     "text": [
      "Extracted content from https://www.seattleu.edu/directory/profiles/abbie-white.php and saved to JSON.\n"
     ]
    },
    {
     "name": "stderr",
     "output_type": "stream",
     "text": [
      " 22%|██▏       | 1393/6321 [01:32<28:18,  2.90it/s]"
     ]
    },
    {
     "name": "stdout",
     "output_type": "stream",
     "text": [
      "Extracted content from https://www.seattleu.edu/directory/profiles/abdoulaye-ahmadou.php and saved to JSON.\n"
     ]
    },
    {
     "name": "stderr",
     "output_type": "stream",
     "text": [
      " 22%|██▏       | 1394/6321 [01:42<41:56,  1.96it/s]"
     ]
    },
    {
     "name": "stdout",
     "output_type": "stream",
     "text": [
      "Extracted content from https://www.seattleu.edu/directory/profiles/abebe-belete-dnp-arnp-pmhnp-bc.php and saved to JSON.\n"
     ]
    },
    {
     "name": "stderr",
     "output_type": "stream",
     "text": [
      " 22%|██▏       | 1395/6321 [01:52<1:00:40,  1.35it/s]"
     ]
    },
    {
     "name": "stdout",
     "output_type": "stream",
     "text": [
      "Extracted content from https://www.seattleu.edu/directory/profiles/ada-shen-jaffe.php and saved to JSON.\n"
     ]
    },
    {
     "name": "stderr",
     "output_type": "stream",
     "text": [
      " 22%|██▏       | 1396/6321 [02:02<1:25:52,  1.05s/it]"
     ]
    },
    {
     "name": "stdout",
     "output_type": "stream",
     "text": [
      "Extracted content from https://www.seattleu.edu/directory/profiles/adair-dingle-phd.php and saved to JSON.\n"
     ]
    },
    {
     "name": "stderr",
     "output_type": "stream",
     "text": [
      " 22%|██▏       | 1397/6321 [02:12<1:59:09,  1.45s/it]"
     ]
    },
    {
     "name": "stdout",
     "output_type": "stream",
     "text": [
      "Extracted content from https://www.seattleu.edu/directory/profiles/adriana-padilla.php and saved to JSON.\n"
     ]
    },
    {
     "name": "stderr",
     "output_type": "stream",
     "text": [
      " 22%|██▏       | 1399/6321 [02:23<2:31:07,  1.84s/it]"
     ]
    },
    {
     "name": "stdout",
     "output_type": "stream",
     "text": [
      "Error processing https:www.seattleu.edu/directory/profiles/adrienne-clark.php: HTTP Error 404: Not Found\n",
      "Extracted content from https://www.seattleu.edu/directory/profiles/aggie-raschuk.php and saved to JSON.\n"
     ]
    },
    {
     "name": "stderr",
     "output_type": "stream",
     "text": [
      " 22%|██▏       | 1400/6321 [02:33<3:39:57,  2.68s/it]"
     ]
    },
    {
     "name": "stdout",
     "output_type": "stream",
     "text": [
      "Extracted content from https://www.seattleu.edu/directory/profiles/agnieszka-miguel-phd.php and saved to JSON.\n"
     ]
    },
    {
     "name": "stderr",
     "output_type": "stream",
     "text": [
      " 22%|██▏       | 1401/6321 [02:43<4:57:28,  3.63s/it]"
     ]
    },
    {
     "name": "stdout",
     "output_type": "stream",
     "text": [
      "Extracted content from https://www.seattleu.edu/directory/profiles/aika-foz.php and saved to JSON.\n"
     ]
    },
    {
     "name": "stderr",
     "output_type": "stream",
     "text": [
      " 22%|██▏       | 1402/6321 [02:53<6:20:55,  4.65s/it]"
     ]
    },
    {
     "name": "stdout",
     "output_type": "stream",
     "text": [
      "Extracted content from https://www.seattleu.edu/directory/profiles/aileah-slepski.php and saved to JSON.\n"
     ]
    },
    {
     "name": "stderr",
     "output_type": "stream",
     "text": [
      " 22%|██▏       | 1404/6321 [03:04<6:11:25,  4.53s/it]"
     ]
    },
    {
     "name": "stdout",
     "output_type": "stream",
     "text": [
      "Error processing https:www.seattleu.edu/directory/profiles/aimee-davignon-dnp-mph-cnm.php: HTTP Error 404: Not Found\n",
      "Extracted content from https://www.seattleu.edu/directory/profiles/aisha-ali.php and saved to JSON.\n"
     ]
    },
    {
     "name": "stderr",
     "output_type": "stream",
     "text": [
      " 22%|██▏       | 1405/6321 [03:14<7:55:05,  5.80s/it]"
     ]
    },
    {
     "name": "stdout",
     "output_type": "stream",
     "text": [
      "Extracted content from https://www.seattleu.edu/directory/profiles/ajay-abraham-phd.php and saved to JSON.\n"
     ]
    },
    {
     "name": "stderr",
     "output_type": "stream",
     "text": [
      " 22%|██▏       | 1406/6321 [03:24<9:22:07,  6.86s/it]"
     ]
    },
    {
     "name": "stdout",
     "output_type": "stream",
     "text": [
      "Extracted content from https://www.seattleu.edu/directory/profiles/al-ansari-phd.php and saved to JSON.\n"
     ]
    },
    {
     "name": "stderr",
     "output_type": "stream",
     "text": [
      " 22%|██▏       | 1407/6321 [03:34<10:32:11,  7.72s/it]"
     ]
    },
    {
     "name": "stdout",
     "output_type": "stream",
     "text": [
      "Extracted content from https://www.seattleu.edu/directory/profiles/al-eisenbarth.php and saved to JSON.\n"
     ]
    },
    {
     "name": "stderr",
     "output_type": "stream",
     "text": [
      " 22%|██▏       | 1408/6321 [03:44<11:25:56,  8.38s/it]"
     ]
    },
    {
     "name": "stdout",
     "output_type": "stream",
     "text": [
      "Extracted content from https://www.seattleu.edu/directory/profiles/alan-adamian.php and saved to JSON.\n"
     ]
    },
    {
     "name": "stderr",
     "output_type": "stream",
     "text": [
      " 22%|██▏       | 1409/6321 [03:55<12:06:17,  8.87s/it]"
     ]
    },
    {
     "name": "stdout",
     "output_type": "stream",
     "text": [
      "Extracted content from https://www.seattleu.edu/directory/profiles/alan-mygatt-tauber.php and saved to JSON.\n"
     ]
    },
    {
     "name": "stderr",
     "output_type": "stream",
     "text": [
      " 22%|██▏       | 1410/6321 [04:05<12:36:25,  9.24s/it]"
     ]
    },
    {
     "name": "stdout",
     "output_type": "stream",
     "text": [
      "Extracted content from https://www.seattleu.edu/directory/profiles/alan-troy.php and saved to JSON.\n"
     ]
    },
    {
     "name": "stderr",
     "output_type": "stream",
     "text": [
      " 22%|██▏       | 1411/6321 [04:15<13:01:00,  9.54s/it]"
     ]
    },
    {
     "name": "stdout",
     "output_type": "stream",
     "text": [
      "Extracted content from https://www.seattleu.edu/directory/profiles/alana-aweau.php and saved to JSON.\n"
     ]
    },
    {
     "name": "stderr",
     "output_type": "stream",
     "text": [
      " 22%|██▏       | 1412/6321 [04:25<13:15:31,  9.72s/it]"
     ]
    },
    {
     "name": "stdout",
     "output_type": "stream",
     "text": [
      "Extracted content from https://www.seattleu.edu/directory/profiles/alana-honigman-msw-licsw.php and saved to JSON.\n"
     ]
    },
    {
     "name": "stderr",
     "output_type": "stream",
     "text": [
      " 22%|██▏       | 1413/6321 [04:35<13:25:55,  9.85s/it]"
     ]
    },
    {
     "name": "stdout",
     "output_type": "stream",
     "text": [
      "Extracted content from https://www.seattleu.edu/directory/profiles/albert-dejaen.php and saved to JSON.\n"
     ]
    },
    {
     "name": "stderr",
     "output_type": "stream",
     "text": [
      " 22%|██▏       | 1414/6321 [04:46<13:33:37,  9.95s/it]"
     ]
    },
    {
     "name": "stdout",
     "output_type": "stream",
     "text": [
      "Extracted content from https://www.seattleu.edu/directory/profiles/albert-pack.php and saved to JSON.\n"
     ]
    },
    {
     "name": "stderr",
     "output_type": "stream",
     "text": [
      " 22%|██▏       | 1415/6321 [04:56<13:38:56, 10.02s/it]"
     ]
    },
    {
     "name": "stdout",
     "output_type": "stream",
     "text": [
      "Extracted content from https://www.seattleu.edu/directory/profiles/albert-vanderhoeven.php and saved to JSON.\n"
     ]
    },
    {
     "name": "stderr",
     "output_type": "stream",
     "text": [
      " 22%|██▏       | 1416/6321 [05:06<13:42:26, 10.06s/it]"
     ]
    },
    {
     "name": "stdout",
     "output_type": "stream",
     "text": [
      "Extracted content from https://www.seattleu.edu/directory/profiles/aldis-e-purs-phd.php and saved to JSON.\n"
     ]
    },
    {
     "name": "stderr",
     "output_type": "stream",
     "text": [
      " 22%|██▏       | 1417/6321 [05:16<13:45:24, 10.10s/it]"
     ]
    },
    {
     "name": "stdout",
     "output_type": "stream",
     "text": [
      "Extracted content from https://www.seattleu.edu/directory/profiles/aleksandra-petrovic-phd.php and saved to JSON.\n"
     ]
    },
    {
     "name": "stderr",
     "output_type": "stream",
     "text": [
      " 22%|██▏       | 1418/6321 [05:26<13:46:42, 10.12s/it]"
     ]
    },
    {
     "name": "stdout",
     "output_type": "stream",
     "text": [
      "Extracted content from https://www.seattleu.edu/directory/profiles/alex-guevara.php and saved to JSON.\n"
     ]
    },
    {
     "name": "stderr",
     "output_type": "stream",
     "text": [
      " 22%|██▏       | 1419/6321 [05:36<13:49:22, 10.15s/it]"
     ]
    },
    {
     "name": "stdout",
     "output_type": "stream",
     "text": [
      "Extracted content from https://www.seattleu.edu/directory/profiles/alex-kushner.php and saved to JSON.\n"
     ]
    },
    {
     "name": "stderr",
     "output_type": "stream",
     "text": [
      " 22%|██▏       | 1420/6321 [05:47<13:48:57, 10.15s/it]"
     ]
    },
    {
     "name": "stdout",
     "output_type": "stream",
     "text": [
      "Extracted content from https://www.seattleu.edu/directory/profiles/alex-larochelle.php and saved to JSON.\n"
     ]
    },
    {
     "name": "stderr",
     "output_type": "stream",
     "text": [
      " 22%|██▏       | 1421/6321 [05:57<13:49:19, 10.15s/it]"
     ]
    },
    {
     "name": "stdout",
     "output_type": "stream",
     "text": [
      "Extracted content from https://www.seattleu.edu/directory/profiles/alex-tabet.php and saved to JSON.\n"
     ]
    },
    {
     "name": "stderr",
     "output_type": "stream",
     "text": [
      " 22%|██▏       | 1422/6321 [06:07<13:48:53, 10.15s/it]"
     ]
    },
    {
     "name": "stdout",
     "output_type": "stream",
     "text": [
      "Extracted content from https://www.seattleu.edu/directory/profiles/alexander-johnston-phd.php and saved to JSON.\n"
     ]
    },
    {
     "name": "stderr",
     "output_type": "stream",
     "text": [
      " 23%|██▎       | 1423/6321 [06:17<13:48:54, 10.15s/it]"
     ]
    },
    {
     "name": "stdout",
     "output_type": "stream",
     "text": [
      "Extracted content from https://www.seattleu.edu/directory/profiles/alexander-mentkowski.php and saved to JSON.\n"
     ]
    },
    {
     "name": "stderr",
     "output_type": "stream",
     "text": [
      " 23%|██▎       | 1424/6321 [06:27<13:48:55, 10.16s/it]"
     ]
    },
    {
     "name": "stdout",
     "output_type": "stream",
     "text": [
      "Extracted content from https://www.seattleu.edu/directory/profiles/alexander-mouton-mfa.php and saved to JSON.\n"
     ]
    },
    {
     "name": "stderr",
     "output_type": "stream",
     "text": [
      " 23%|██▎       | 1425/6321 [06:37<13:49:02, 10.16s/it]"
     ]
    },
    {
     "name": "stdout",
     "output_type": "stream",
     "text": [
      "Extracted content from https://www.seattleu.edu/directory/profiles/alexandra-l-adame-phd.php and saved to JSON.\n"
     ]
    },
    {
     "name": "stderr",
     "output_type": "stream",
     "text": [
      " 23%|██▎       | 1426/6321 [06:48<13:50:01, 10.17s/it]"
     ]
    },
    {
     "name": "stdout",
     "output_type": "stream",
     "text": [
      "Extracted content from https://www.seattleu.edu/directory/profiles/alexandra-cratsenberg.php and saved to JSON.\n"
     ]
    },
    {
     "name": "stderr",
     "output_type": "stream",
     "text": [
      " 23%|██▎       | 1427/6321 [06:58<13:52:33, 10.21s/it]"
     ]
    },
    {
     "name": "stdout",
     "output_type": "stream",
     "text": [
      "Extracted content from https://www.seattleu.edu/directory/profiles/alexandra-smith-phd.php and saved to JSON.\n"
     ]
    },
    {
     "name": "stderr",
     "output_type": "stream",
     "text": [
      " 23%|██▎       | 1428/6321 [07:08<13:50:57, 10.19s/it]"
     ]
    },
    {
     "name": "stdout",
     "output_type": "stream",
     "text": [
      "Extracted content from https://www.seattleu.edu/directory/profiles/alexis-bonn.php and saved to JSON.\n"
     ]
    },
    {
     "name": "stderr",
     "output_type": "stream",
     "text": [
      " 23%|██▎       | 1429/6321 [07:18<13:50:21, 10.18s/it]"
     ]
    },
    {
     "name": "stdout",
     "output_type": "stream",
     "text": [
      "Extracted content from https://www.seattleu.edu/directory/profiles/alexis-grossnicklaus.php and saved to JSON.\n"
     ]
    },
    {
     "name": "stderr",
     "output_type": "stream",
     "text": [
      " 23%|██▎       | 1430/6321 [07:28<13:49:33, 10.18s/it]"
     ]
    },
    {
     "name": "stdout",
     "output_type": "stream",
     "text": [
      "Extracted content from https://www.seattleu.edu/directory/profiles/alexis-koutlas.php and saved to JSON.\n"
     ]
    },
    {
     "name": "stderr",
     "output_type": "stream",
     "text": [
      " 23%|██▎       | 1431/6321 [07:38<13:48:38, 10.17s/it]"
     ]
    },
    {
     "name": "stdout",
     "output_type": "stream",
     "text": [
      "Extracted content from https://www.seattleu.edu/directory/profiles/alfred-grigsby.php and saved to JSON.\n"
     ]
    },
    {
     "name": "stderr",
     "output_type": "stream",
     "text": [
      " 23%|██▎       | 1432/6321 [07:49<13:48:20, 10.17s/it]"
     ]
    },
    {
     "name": "stdout",
     "output_type": "stream",
     "text": [
      "Extracted content from https://www.seattleu.edu/directory/profiles/alic-g-shook-phd-rn.php and saved to JSON.\n"
     ]
    },
    {
     "name": "stderr",
     "output_type": "stream",
     "text": [
      " 23%|██▎       | 1433/6321 [07:59<13:48:21, 10.17s/it]"
     ]
    },
    {
     "name": "stdout",
     "output_type": "stream",
     "text": [
      "Extracted content from https://www.seattleu.edu/directory/profiles/alice-gosti.php and saved to JSON.\n"
     ]
    },
    {
     "name": "stderr",
     "output_type": "stream",
     "text": [
      " 23%|██▎       | 1434/6321 [08:09<13:47:58, 10.17s/it]"
     ]
    },
    {
     "name": "stdout",
     "output_type": "stream",
     "text": [
      "Extracted content from https://www.seattleu.edu/directory/profiles/alicia-arnott.php and saved to JSON.\n"
     ]
    },
    {
     "name": "stderr",
     "output_type": "stream",
     "text": [
      " 23%|██▎       | 1435/6321 [08:19<13:51:22, 10.21s/it]"
     ]
    },
    {
     "name": "stdout",
     "output_type": "stream",
     "text": [
      "Extracted content from https://www.seattleu.edu/directory/profiles/alicia-kan.php and saved to JSON.\n"
     ]
    },
    {
     "name": "stderr",
     "output_type": "stream",
     "text": [
      " 23%|██▎       | 1437/6321 [08:30<9:44:55,  7.19s/it] "
     ]
    },
    {
     "name": "stdout",
     "output_type": "stream",
     "text": [
      "Error processing https:www.seattleu.edu/directory/profiles/allie-lai.php: HTTP Error 404: Not Found\n",
      "Extracted content from https://www.seattleu.edu/directory/profiles/alison-havran.php and saved to JSON.\n"
     ]
    },
    {
     "name": "stderr",
     "output_type": "stream",
     "text": [
      " 23%|██▎       | 1438/6321 [08:40<10:57:00,  8.07s/it]"
     ]
    },
    {
     "name": "stdout",
     "output_type": "stream",
     "text": [
      "Extracted content from https://www.seattleu.edu/directory/profiles/allison-henrich-phd.php and saved to JSON.\n"
     ]
    },
    {
     "name": "stderr",
     "output_type": "stream",
     "text": [
      " 23%|██▎       | 1439/6321 [08:50<11:48:40,  8.71s/it]"
     ]
    },
    {
     "name": "stdout",
     "output_type": "stream",
     "text": [
      "Extracted content from https://www.seattleu.edu/directory/profiles/al-obrien-mpa.php and saved to JSON.\n"
     ]
    },
    {
     "name": "stderr",
     "output_type": "stream",
     "text": [
      " 23%|██▎       | 1440/6321 [09:00<12:23:56,  9.14s/it]"
     ]
    },
    {
     "name": "stdout",
     "output_type": "stream",
     "text": [
      "Extracted content from https://www.seattleu.edu/directory/profiles/ally-king.php and saved to JSON.\n"
     ]
    },
    {
     "name": "stderr",
     "output_type": "stream",
     "text": [
      " 23%|██▎       | 1441/6321 [09:10<12:47:47,  9.44s/it]"
     ]
    },
    {
     "name": "stdout",
     "output_type": "stream",
     "text": [
      "Extracted content from https://www.seattleu.edu/directory/profiles/alvin-logan-phd.php and saved to JSON.\n"
     ]
    },
    {
     "name": "stderr",
     "output_type": "stream",
     "text": [
      " 23%|██▎       | 1442/6321 [09:20<13:05:32,  9.66s/it]"
     ]
    },
    {
     "name": "stdout",
     "output_type": "stream",
     "text": [
      "Extracted content from https://www.seattleu.edu/directory/profiles/alvin-moser-phd.php and saved to JSON.\n"
     ]
    },
    {
     "name": "stderr",
     "output_type": "stream",
     "text": [
      " 23%|██▎       | 1443/6321 [09:31<13:18:12,  9.82s/it]"
     ]
    },
    {
     "name": "stdout",
     "output_type": "stream",
     "text": [
      "Extracted content from https://www.seattleu.edu/directory/profiles/aly-bedford-bfa.php and saved to JSON.\n"
     ]
    },
    {
     "name": "stderr",
     "output_type": "stream",
     "text": [
      " 23%|██▎       | 1444/6321 [09:41<13:29:30,  9.96s/it]"
     ]
    },
    {
     "name": "stdout",
     "output_type": "stream",
     "text": [
      "Extracted content from https://www.seattleu.edu/directory/profiles/aly-cotte.php and saved to JSON.\n"
     ]
    },
    {
     "name": "stderr",
     "output_type": "stream",
     "text": [
      " 23%|██▎       | 1445/6321 [09:51<13:36:14, 10.04s/it]"
     ]
    },
    {
     "name": "stdout",
     "output_type": "stream",
     "text": [
      "Extracted content from https://www.seattleu.edu/directory/profiles/alyssa-ehrenfried.php and saved to JSON.\n"
     ]
    },
    {
     "name": "stderr",
     "output_type": "stream",
     "text": [
      " 23%|██▎       | 1446/6321 [10:01<13:39:19, 10.08s/it]"
     ]
    },
    {
     "name": "stdout",
     "output_type": "stream",
     "text": [
      "Extracted content from https://www.seattleu.edu/directory/profiles/alyssa-spingola-msn-arnp.php and saved to JSON.\n"
     ]
    },
    {
     "name": "stderr",
     "output_type": "stream",
     "text": [
      " 23%|██▎       | 1447/6321 [10:12<13:42:06, 10.12s/it]"
     ]
    },
    {
     "name": "stdout",
     "output_type": "stream",
     "text": [
      "Extracted content from https://www.seattleu.edu/directory/profiles/amanda-heffernan-phd-cnm-arnp.php and saved to JSON.\n"
     ]
    },
    {
     "name": "stderr",
     "output_type": "stream",
     "text": [
      " 23%|██▎       | 1448/6321 [10:22<13:43:03, 10.13s/it]"
     ]
    },
    {
     "name": "stdout",
     "output_type": "stream",
     "text": [
      "Extracted content from https://www.seattleu.edu/directory/profiles/amanda-manitach.php and saved to JSON.\n"
     ]
    },
    {
     "name": "stderr",
     "output_type": "stream",
     "text": [
      " 23%|██▎       | 1449/6321 [10:32<13:43:40, 10.14s/it]"
     ]
    },
    {
     "name": "stdout",
     "output_type": "stream",
     "text": [
      "Extracted content from https://www.seattleu.edu/directory/profiles/amanda-mcleroy.php and saved to JSON.\n"
     ]
    },
    {
     "name": "stderr",
     "output_type": "stream",
     "text": [
      " 23%|██▎       | 1450/6321 [10:42<13:44:45, 10.16s/it]"
     ]
    },
    {
     "name": "stdout",
     "output_type": "stream",
     "text": [
      "Extracted content from https://www.seattleu.edu/directory/profiles/amanda-paschall.php and saved to JSON.\n"
     ]
    },
    {
     "name": "stderr",
     "output_type": "stream",
     "text": [
      " 23%|██▎       | 1451/6321 [10:52<13:45:17, 10.17s/it]"
     ]
    },
    {
     "name": "stdout",
     "output_type": "stream",
     "text": [
      "Extracted content from https://www.seattleu.edu/directory/profiles/amanda-simpfender.php and saved to JSON.\n"
     ]
    },
    {
     "name": "stderr",
     "output_type": "stream",
     "text": [
      " 23%|██▎       | 1452/6321 [11:03<13:48:47, 10.21s/it]"
     ]
    },
    {
     "name": "stdout",
     "output_type": "stream",
     "text": [
      "Extracted content from https://www.seattleu.edu/directory/profiles/amanda-snellinger.php and saved to JSON.\n"
     ]
    },
    {
     "name": "stderr",
     "output_type": "stream",
     "text": [
      " 23%|██▎       | 1453/6321 [11:13<13:47:35, 10.20s/it]"
     ]
    },
    {
     "name": "stdout",
     "output_type": "stream",
     "text": [
      "Extracted content from https://www.seattleu.edu/directory/profiles/amber-brockel.php and saved to JSON.\n"
     ]
    },
    {
     "name": "stderr",
     "output_type": "stream",
     "text": [
      " 23%|██▎       | 1454/6321 [11:23<13:46:14, 10.19s/it]"
     ]
    },
    {
     "name": "stdout",
     "output_type": "stream",
     "text": [
      "Extracted content from https://www.seattleu.edu/directory/profiles/ambera-dedic.php and saved to JSON.\n"
     ]
    },
    {
     "name": "stderr",
     "output_type": "stream",
     "text": [
      " 23%|██▎       | 1455/6321 [11:33<13:45:59, 10.18s/it]"
     ]
    },
    {
     "name": "stdout",
     "output_type": "stream",
     "text": [
      "Extracted content from https://www.seattleu.edu/directory/profiles/amelia-derr-phd-msw.php and saved to JSON.\n"
     ]
    },
    {
     "name": "stderr",
     "output_type": "stream",
     "text": [
      " 23%|██▎       | 1456/6321 [11:43<13:46:03, 10.19s/it]"
     ]
    },
    {
     "name": "stdout",
     "output_type": "stream",
     "text": [
      "Extracted content from https://www.seattleu.edu/directory/profiles/amelia-marckworth.php and saved to JSON.\n"
     ]
    },
    {
     "name": "stderr",
     "output_type": "stream",
     "text": [
      " 23%|██▎       | 1457/6321 [11:53<13:46:25, 10.19s/it]"
     ]
    },
    {
     "name": "stdout",
     "output_type": "stream",
     "text": [
      "Extracted content from https://www.seattleu.edu/directory/profiles/ami-kinnamon.php and saved to JSON.\n"
     ]
    },
    {
     "name": "stderr",
     "output_type": "stream",
     "text": [
      " 23%|██▎       | 1458/6321 [12:04<13:45:15, 10.18s/it]"
     ]
    },
    {
     "name": "stdout",
     "output_type": "stream",
     "text": [
      "Extracted content from https://www.seattleu.edu/directory/profiles/amie-zimmer-phd.php and saved to JSON.\n"
     ]
    },
    {
     "name": "stderr",
     "output_type": "stream",
     "text": [
      " 23%|██▎       | 1459/6321 [12:14<13:44:51, 10.18s/it]"
     ]
    },
    {
     "name": "stdout",
     "output_type": "stream",
     "text": [
      "Extracted content from https://www.seattleu.edu/directory/profiles/amin-riazi-phd.php and saved to JSON.\n"
     ]
    },
    {
     "name": "stderr",
     "output_type": "stream",
     "text": [
      " 23%|██▎       | 1460/6321 [12:24<13:47:30, 10.21s/it]"
     ]
    },
    {
     "name": "stdout",
     "output_type": "stream",
     "text": [
      "Extracted content from https://www.seattleu.edu/directory/profiles/amiya-m-brown-mfa.php and saved to JSON.\n"
     ]
    },
    {
     "name": "stderr",
     "output_type": "stream",
     "text": [
      " 23%|██▎       | 1461/6321 [12:34<13:45:46, 10.19s/it]"
     ]
    },
    {
     "name": "stdout",
     "output_type": "stream",
     "text": [
      "Extracted content from https://www.seattleu.edu/directory/profiles/amy-crusan-kramer.php and saved to JSON.\n"
     ]
    },
    {
     "name": "stderr",
     "output_type": "stream",
     "text": [
      " 23%|██▎       | 1462/6321 [12:44<13:44:23, 10.18s/it]"
     ]
    },
    {
     "name": "stdout",
     "output_type": "stream",
     "text": [
      "Extracted content from https://www.seattleu.edu/directory/profiles/amy-keljo-dnp-arnp-fnp-bc-mph.php and saved to JSON.\n"
     ]
    },
    {
     "name": "stderr",
     "output_type": "stream",
     "text": [
      " 23%|██▎       | 1463/6321 [12:55<13:44:08, 10.18s/it]"
     ]
    },
    {
     "name": "stdout",
     "output_type": "stream",
     "text": [
      "Extracted content from https://www.seattleu.edu/directory/profiles/amy-lagerstrom.php and saved to JSON.\n"
     ]
    },
    {
     "name": "stderr",
     "output_type": "stream",
     "text": [
      " 23%|██▎       | 1464/6321 [13:05<13:44:31, 10.19s/it]"
     ]
    },
    {
     "name": "stdout",
     "output_type": "stream",
     "text": [
      "Extracted content from https://www.seattleu.edu/directory/profiles/amy-obrien-med.php and saved to JSON.\n"
     ]
    },
    {
     "name": "stderr",
     "output_type": "stream",
     "text": [
      " 23%|██▎       | 1465/6321 [13:15<13:43:30, 10.18s/it]"
     ]
    },
    {
     "name": "stdout",
     "output_type": "stream",
     "text": [
      "Extracted content from https://www.seattleu.edu/directory/profiles/amy-walker-phd-rn.php and saved to JSON.\n"
     ]
    },
    {
     "name": "stderr",
     "output_type": "stream",
     "text": [
      " 23%|██▎       | 1466/6321 [13:25<13:42:43, 10.17s/it]"
     ]
    },
    {
     "name": "stdout",
     "output_type": "stream",
     "text": [
      "Extracted content from https://www.seattleu.edu/directory/profiles/ana-margarita-rivero-arias-phd.php and saved to JSON.\n"
     ]
    },
    {
     "name": "stderr",
     "output_type": "stream",
     "text": [
      " 23%|██▎       | 1467/6321 [13:35<13:42:34, 10.17s/it]"
     ]
    },
    {
     "name": "stdout",
     "output_type": "stream",
     "text": [
      "Extracted content from https://www.seattleu.edu/directory/profiles/anastasia-tschida-msw.php and saved to JSON.\n"
     ]
    },
    {
     "name": "stderr",
     "output_type": "stream",
     "text": [
      " 23%|██▎       | 1468/6321 [13:46<13:46:12, 10.21s/it]"
     ]
    },
    {
     "name": "stdout",
     "output_type": "stream",
     "text": [
      "Extracted content from https://www.seattleu.edu/directory/profiles/andrea-fishman.php and saved to JSON.\n"
     ]
    },
    {
     "name": "stderr",
     "output_type": "stream",
     "text": [
      " 23%|██▎       | 1469/6321 [13:56<13:44:56, 10.20s/it]"
     ]
    },
    {
     "name": "stdout",
     "output_type": "stream",
     "text": [
      "Extracted content from https://www.seattleu.edu/directory/profiles/andrea-fontana.php and saved to JSON.\n"
     ]
    },
    {
     "name": "stderr",
     "output_type": "stream",
     "text": [
      " 23%|██▎       | 1471/6321 [14:06<9:43:43,  7.22s/it] "
     ]
    },
    {
     "name": "stdout",
     "output_type": "stream",
     "text": [
      "Error processing https:www.seattleu.edu/directory/profiles/andrea-frangi.php: HTTP Error 404: Not Found\n",
      "Extracted content from https://www.seattleu.edu/directory/profiles/andrea-holtan.php and saved to JSON.\n"
     ]
    },
    {
     "name": "stderr",
     "output_type": "stream",
     "text": [
      " 23%|██▎       | 1472/6321 [14:16<10:55:04,  8.11s/it]"
     ]
    },
    {
     "name": "stdout",
     "output_type": "stream",
     "text": [
      "Extracted content from https://www.seattleu.edu/directory/profiles/andrea-mcdowell.php and saved to JSON.\n"
     ]
    },
    {
     "name": "stderr",
     "output_type": "stream",
     "text": [
      " 23%|██▎       | 1473/6321 [14:27<11:44:15,  8.72s/it]"
     ]
    },
    {
     "name": "stdout",
     "output_type": "stream",
     "text": [
      "Extracted content from https://www.seattleu.edu/directory/profiles/andrea-ross-cmp.php and saved to JSON.\n"
     ]
    },
    {
     "name": "stderr",
     "output_type": "stream",
     "text": [
      " 23%|██▎       | 1474/6321 [14:37<12:19:18,  9.15s/it]"
     ]
    },
    {
     "name": "stdout",
     "output_type": "stream",
     "text": [
      "Extracted content from https://www.seattleu.edu/directory/profiles/andrea-verdan-phd.php and saved to JSON.\n"
     ]
    },
    {
     "name": "stderr",
     "output_type": "stream",
     "text": [
      " 23%|██▎       | 1475/6321 [14:47<12:43:22,  9.45s/it]"
     ]
    },
    {
     "name": "stdout",
     "output_type": "stream",
     "text": [
      "Extracted content from https://www.seattleu.edu/directory/profiles/andrew-asplund-jd.php and saved to JSON.\n"
     ]
    },
    {
     "name": "stderr",
     "output_type": "stream",
     "text": [
      " 23%|██▎       | 1476/6321 [14:57<13:01:06,  9.67s/it]"
     ]
    },
    {
     "name": "stdout",
     "output_type": "stream",
     "text": [
      "Extracted content from https://www.seattleu.edu/directory/profiles/andrew-binion.php and saved to JSON.\n"
     ]
    },
    {
     "name": "stderr",
     "output_type": "stream",
     "text": [
      " 23%|██▎       | 1477/6321 [15:07<13:12:49,  9.82s/it]"
     ]
    },
    {
     "name": "stdout",
     "output_type": "stream",
     "text": [
      "Extracted content from https://www.seattleu.edu/directory/profiles/andrew-jorgenson.php and saved to JSON.\n"
     ]
    },
    {
     "name": "stderr",
     "output_type": "stream",
     "text": [
      " 23%|██▎       | 1478/6321 [15:17<13:21:13,  9.93s/it]"
     ]
    },
    {
     "name": "stdout",
     "output_type": "stream",
     "text": [
      "Extracted content from https://www.seattleu.edu/directory/profiles/andrew-lee.php and saved to JSON.\n"
     ]
    },
    {
     "name": "stderr",
     "output_type": "stream",
     "text": [
      " 23%|██▎       | 1479/6321 [15:28<13:30:00, 10.04s/it]"
     ]
    },
    {
     "name": "stdout",
     "output_type": "stream",
     "text": [
      "Extracted content from https://www.seattleu.edu/directory/profiles/andrew-siegel.php and saved to JSON.\n"
     ]
    },
    {
     "name": "stderr",
     "output_type": "stream",
     "text": [
      " 23%|██▎       | 1480/6321 [15:38<13:32:06, 10.07s/it]"
     ]
    },
    {
     "name": "stdout",
     "output_type": "stream",
     "text": [
      "Extracted content from https://www.seattleu.edu/directory/profiles/andrew-tadie-phd.php and saved to JSON.\n"
     ]
    },
    {
     "name": "stderr",
     "output_type": "stream",
     "text": [
      " 23%|██▎       | 1481/6321 [15:48<13:33:58, 10.09s/it]"
     ]
    },
    {
     "name": "stdout",
     "output_type": "stream",
     "text": [
      "Extracted content from https://www.seattleu.edu/directory/profiles/andy-zhang.php and saved to JSON.\n"
     ]
    },
    {
     "name": "stderr",
     "output_type": "stream",
     "text": [
      " 23%|██▎       | 1483/6321 [15:58<9:35:48,  7.14s/it] "
     ]
    },
    {
     "name": "stdout",
     "output_type": "stream",
     "text": [
      "Error processing https:www.seattleu.edu/directory/profiles/angel-asuncion-reed.php: HTTP Error 404: Not Found\n",
      "Extracted content from https://www.seattleu.edu/directory/profiles/angela-siple-phd.php and saved to JSON.\n"
     ]
    },
    {
     "name": "stderr",
     "output_type": "stream",
     "text": [
      " 23%|██▎       | 1484/6321 [16:08<10:49:01,  8.05s/it]"
     ]
    },
    {
     "name": "stdout",
     "output_type": "stream",
     "text": [
      "Extracted content from https://www.seattleu.edu/directory/profiles/angela-tiede-msn-pmhnp-bc.php and saved to JSON.\n"
     ]
    },
    {
     "name": "stderr",
     "output_type": "stream",
     "text": [
      " 23%|██▎       | 1485/6321 [16:19<11:39:39,  8.68s/it]"
     ]
    },
    {
     "name": "stdout",
     "output_type": "stream",
     "text": [
      "Extracted content from https://www.seattleu.edu/directory/profiles/angela-white.php and saved to JSON.\n"
     ]
    },
    {
     "name": "stderr",
     "output_type": "stream",
     "text": [
      " 24%|██▎       | 1486/6321 [16:29<12:28:08,  9.28s/it]"
     ]
    },
    {
     "name": "stdout",
     "output_type": "stream",
     "text": [
      "Extracted content from https://www.seattleu.edu/directory/profiles/angela-wuttig.php and saved to JSON.\n"
     ]
    },
    {
     "name": "stderr",
     "output_type": "stream",
     "text": [
      " 24%|██▎       | 1487/6321 [16:40<12:49:43,  9.55s/it]"
     ]
    },
    {
     "name": "stdout",
     "output_type": "stream",
     "text": [
      "Extracted content from https://www.seattleu.edu/directory/profiles/angelique-m-davis-jd.php and saved to JSON.\n"
     ]
    },
    {
     "name": "stderr",
     "output_type": "stream",
     "text": [
      " 24%|██▎       | 1488/6321 [16:50<13:08:24,  9.79s/it]"
     ]
    },
    {
     "name": "stdout",
     "output_type": "stream",
     "text": [
      "Extracted content from https://www.seattleu.edu/directory/profiles/angelique-jenkins.php and saved to JSON.\n"
     ]
    },
    {
     "name": "stderr",
     "output_type": "stream",
     "text": [
      " 24%|██▎       | 1489/6321 [17:00<13:17:24,  9.90s/it]"
     ]
    },
    {
     "name": "stdout",
     "output_type": "stream",
     "text": [
      "Extracted content from https://www.seattleu.edu/directory/profiles/anh-huynh.php and saved to JSON.\n"
     ]
    },
    {
     "name": "stderr",
     "output_type": "stream",
     "text": [
      " 24%|██▎       | 1490/6321 [17:10<13:23:17,  9.98s/it]"
     ]
    },
    {
     "name": "stdout",
     "output_type": "stream",
     "text": [
      "Extracted content from https://www.seattleu.edu/directory/profiles/anita-jablonski-phd-rn.php and saved to JSON.\n"
     ]
    },
    {
     "name": "stderr",
     "output_type": "stream",
     "text": [
      " 24%|██▎       | 1491/6321 [17:20<13:27:57, 10.04s/it]"
     ]
    },
    {
     "name": "stdout",
     "output_type": "stream",
     "text": [
      "Extracted content from https://www.seattleu.edu/directory/profiles/anjanette-allard-dnp-rn-cpn.php and saved to JSON.\n"
     ]
    },
    {
     "name": "stderr",
     "output_type": "stream",
     "text": [
      " 24%|██▎       | 1492/6321 [17:31<13:30:39, 10.07s/it]"
     ]
    },
    {
     "name": "stdout",
     "output_type": "stream",
     "text": [
      "Extracted content from https://www.seattleu.edu/directory/profiles/ann-beckmann.php and saved to JSON.\n"
     ]
    },
    {
     "name": "stderr",
     "output_type": "stream",
     "text": [
      " 24%|██▎       | 1493/6321 [17:41<13:32:31, 10.10s/it]"
     ]
    },
    {
     "name": "stdout",
     "output_type": "stream",
     "text": [
      "Extracted content from https://www.seattleu.edu/directory/profiles/ann-dunn.php and saved to JSON.\n"
     ]
    },
    {
     "name": "stderr",
     "output_type": "stream",
     "text": [
      " 24%|██▎       | 1494/6321 [17:51<13:33:59, 10.12s/it]"
     ]
    },
    {
     "name": "stdout",
     "output_type": "stream",
     "text": [
      "Extracted content from https://www.seattleu.edu/directory/profiles/ann-kenady.php and saved to JSON.\n"
     ]
    },
    {
     "name": "stderr",
     "output_type": "stream",
     "text": [
      " 24%|██▎       | 1495/6321 [18:01<13:34:50, 10.13s/it]"
     ]
    },
    {
     "name": "stdout",
     "output_type": "stream",
     "text": [
      "Extracted content from https://www.seattleu.edu/directory/profiles/ann-limbaugh.php and saved to JSON.\n"
     ]
    },
    {
     "name": "stderr",
     "output_type": "stream",
     "text": [
      " 24%|██▎       | 1496/6321 [18:11<13:40:47, 10.21s/it]"
     ]
    },
    {
     "name": "stdout",
     "output_type": "stream",
     "text": [
      "Extracted content from https://www.seattleu.edu/directory/profiles/ann-mcnally-phd.php and saved to JSON.\n"
     ]
    },
    {
     "name": "stderr",
     "output_type": "stream",
     "text": [
      " 24%|██▎       | 1497/6321 [18:22<13:39:32, 10.19s/it]"
     ]
    },
    {
     "name": "stdout",
     "output_type": "stream",
     "text": [
      "Extracted content from https://www.seattleu.edu/directory/profiles/ann-schiffer.php and saved to JSON.\n"
     ]
    },
    {
     "name": "stderr",
     "output_type": "stream",
     "text": [
      " 24%|██▎       | 1498/6321 [18:32<13:38:32, 10.18s/it]"
     ]
    },
    {
     "name": "stdout",
     "output_type": "stream",
     "text": [
      "Extracted content from https://www.seattleu.edu/directory/profiles/ann-swanson.php and saved to JSON.\n"
     ]
    },
    {
     "name": "stderr",
     "output_type": "stream",
     "text": [
      " 24%|██▎       | 1499/6321 [18:42<13:37:33, 10.17s/it]"
     ]
    },
    {
     "name": "stdout",
     "output_type": "stream",
     "text": [
      "Extracted content from https://www.seattleu.edu/directory/profiles/anna-gordon.php and saved to JSON.\n"
     ]
    },
    {
     "name": "stderr",
     "output_type": "stream",
     "text": [
      " 24%|██▎       | 1500/6321 [18:52<13:36:47, 10.17s/it]"
     ]
    },
    {
     "name": "stdout",
     "output_type": "stream",
     "text": [
      "Extracted content from https://www.seattleu.edu/directory/profiles/anna-guenther.php and saved to JSON.\n"
     ]
    },
    {
     "name": "stderr",
     "output_type": "stream",
     "text": [
      " 24%|██▎       | 1501/6321 [19:02<13:36:28, 10.16s/it]"
     ]
    },
    {
     "name": "stdout",
     "output_type": "stream",
     "text": [
      "Extracted content from https://www.seattleu.edu/directory/profiles/anna-mccain.php and saved to JSON.\n"
     ]
    },
    {
     "name": "stderr",
     "output_type": "stream",
     "text": [
      " 24%|██▍       | 1502/6321 [19:12<13:36:31, 10.17s/it]"
     ]
    },
    {
     "name": "stdout",
     "output_type": "stream",
     "text": [
      "Extracted content from https://www.seattleu.edu/directory/profiles/anna-tsai.php and saved to JSON.\n"
     ]
    },
    {
     "name": "stderr",
     "output_type": "stream",
     "text": [
      " 24%|██▍       | 1503/6321 [19:22<13:35:46, 10.16s/it]"
     ]
    },
    {
     "name": "stdout",
     "output_type": "stream",
     "text": [
      "Extracted content from https://www.seattleu.edu/directory/profiles/anna-watson-msw-licsw.php and saved to JSON.\n"
     ]
    },
    {
     "name": "stderr",
     "output_type": "stream",
     "text": [
      " 24%|██▍       | 1504/6321 [19:33<13:38:25, 10.19s/it]"
     ]
    },
    {
     "name": "stdout",
     "output_type": "stream",
     "text": [
      "Extracted content from https://www.seattleu.edu/directory/profiles/anna-wilsey.php and saved to JSON.\n"
     ]
    },
    {
     "name": "stderr",
     "output_type": "stream",
     "text": [
      " 24%|██▍       | 1505/6321 [19:43<13:37:29, 10.18s/it]"
     ]
    },
    {
     "name": "stdout",
     "output_type": "stream",
     "text": [
      "Extracted content from https://www.seattleu.edu/directory/profiles/annarose-jowenson.php and saved to JSON.\n"
     ]
    },
    {
     "name": "stderr",
     "output_type": "stream",
     "text": [
      " 24%|██▍       | 1506/6321 [19:53<13:36:12, 10.17s/it]"
     ]
    },
    {
     "name": "stdout",
     "output_type": "stream",
     "text": [
      "Extracted content from https://www.seattleu.edu/directory/profiles/anne-colpitts-ma.php and saved to JSON.\n"
     ]
    },
    {
     "name": "stderr",
     "output_type": "stream",
     "text": [
      " 24%|██▍       | 1507/6321 [20:03<13:35:43, 10.17s/it]"
     ]
    },
    {
     "name": "stdout",
     "output_type": "stream",
     "text": [
      "Extracted content from https://www.seattleu.edu/directory/profiles/anne-enquist.php and saved to JSON.\n"
     ]
    },
    {
     "name": "stderr",
     "output_type": "stream",
     "text": [
      " 24%|██▍       | 1508/6321 [20:13<13:35:14, 10.16s/it]"
     ]
    },
    {
     "name": "stdout",
     "output_type": "stream",
     "text": [
      "Extracted content from https://www.seattleu.edu/directory/profiles/anne-farina-phd-licsw.php and saved to JSON.\n"
     ]
    },
    {
     "name": "stderr",
     "output_type": "stream",
     "text": [
      " 24%|██▍       | 1509/6321 [20:24<13:34:45, 10.16s/it]"
     ]
    },
    {
     "name": "stdout",
     "output_type": "stream",
     "text": [
      "Extracted content from https://www.seattleu.edu/directory/profiles/anne-garrett.php and saved to JSON.\n"
     ]
    },
    {
     "name": "stderr",
     "output_type": "stream",
     "text": [
      " 24%|██▍       | 1510/6321 [20:34<13:34:12, 10.15s/it]"
     ]
    },
    {
     "name": "stdout",
     "output_type": "stream",
     "text": [
      "Extracted content from https://www.seattleu.edu/directory/profiles/annelise-pedersen.php and saved to JSON.\n"
     ]
    },
    {
     "name": "stderr",
     "output_type": "stream",
     "text": [
      " 24%|██▍       | 1511/6321 [20:44<13:33:53, 10.15s/it]"
     ]
    },
    {
     "name": "stdout",
     "output_type": "stream",
     "text": [
      "Extracted content from https://www.seattleu.edu/directory/profiles/annette-clark.php and saved to JSON.\n"
     ]
    },
    {
     "name": "stderr",
     "output_type": "stream",
     "text": [
      " 24%|██▍       | 1512/6321 [20:54<13:36:03, 10.18s/it]"
     ]
    },
    {
     "name": "stdout",
     "output_type": "stream",
     "text": [
      "Extracted content from https://www.seattleu.edu/directory/profiles/annette-hayes.php and saved to JSON.\n"
     ]
    },
    {
     "name": "stderr",
     "output_type": "stream",
     "text": [
      " 24%|██▍       | 1513/6321 [21:04<13:35:32, 10.18s/it]"
     ]
    },
    {
     "name": "stdout",
     "output_type": "stream",
     "text": [
      "Extracted content from https://www.seattleu.edu/directory/profiles/annette-j-thomas-phd-rn.php and saved to JSON.\n"
     ]
    },
    {
     "name": "stderr",
     "output_type": "stream",
     "text": [
      " 24%|██▍       | 1514/6321 [21:14<13:34:50, 10.17s/it]"
     ]
    },
    {
     "name": "stdout",
     "output_type": "stream",
     "text": [
      "Extracted content from https://www.seattleu.edu/directory/profiles/annie-lee.php and saved to JSON.\n"
     ]
    },
    {
     "name": "stderr",
     "output_type": "stream",
     "text": [
      " 24%|██▍       | 1515/6321 [21:25<13:34:13, 10.17s/it]"
     ]
    },
    {
     "name": "stdout",
     "output_type": "stream",
     "text": [
      "Extracted content from https://www.seattleu.edu/directory/profiles/annie-mousseau.php and saved to JSON.\n"
     ]
    },
    {
     "name": "stderr",
     "output_type": "stream",
     "text": [
      " 24%|██▍       | 1516/6321 [21:35<13:33:52, 10.16s/it]"
     ]
    },
    {
     "name": "stdout",
     "output_type": "stream",
     "text": [
      "Extracted content from https://www.seattleu.edu/directory/profiles/anthony-ansay-22.php and saved to JSON.\n"
     ]
    },
    {
     "name": "stderr",
     "output_type": "stream",
     "text": [
      " 24%|██▍       | 1517/6321 [21:45<13:33:58, 10.17s/it]"
     ]
    },
    {
     "name": "stdout",
     "output_type": "stream",
     "text": [
      "Extracted content from https://www.seattleu.edu/directory/profiles/anthony-chan.php and saved to JSON.\n"
     ]
    },
    {
     "name": "stderr",
     "output_type": "stream",
     "text": [
      " 24%|██▍       | 1518/6321 [21:55<13:33:47, 10.17s/it]"
     ]
    },
    {
     "name": "stdout",
     "output_type": "stream",
     "text": [
      "Extracted content from https://www.seattleu.edu/directory/profiles/antoinette-castro.php and saved to JSON.\n"
     ]
    },
    {
     "name": "stderr",
     "output_type": "stream",
     "text": [
      " 24%|██▍       | 1519/6321 [22:05<13:34:50, 10.18s/it]"
     ]
    },
    {
     "name": "stdout",
     "output_type": "stream",
     "text": [
      "Extracted content from https://www.seattleu.edu/directory/profiles/anton-cauthorn.php and saved to JSON.\n"
     ]
    },
    {
     "name": "stderr",
     "output_type": "stream",
     "text": [
      " 24%|██▍       | 1520/6321 [22:16<13:40:38, 10.26s/it]"
     ]
    },
    {
     "name": "stdout",
     "output_type": "stream",
     "text": [
      "Extracted content from https://www.seattleu.edu/directory/profiles/anton-ward-zanotto-phd.php and saved to JSON.\n"
     ]
    },
    {
     "name": "stderr",
     "output_type": "stream",
     "text": [
      " 24%|██▍       | 1521/6321 [22:26<13:41:53, 10.27s/it]"
     ]
    },
    {
     "name": "stdout",
     "output_type": "stream",
     "text": [
      "Extracted content from https://www.seattleu.edu/directory/profiles/antonio-arteaga.php and saved to JSON.\n"
     ]
    },
    {
     "name": "stderr",
     "output_type": "stream",
     "text": [
      " 24%|██▍       | 1522/6321 [22:36<13:38:43, 10.24s/it]"
     ]
    },
    {
     "name": "stdout",
     "output_type": "stream",
     "text": [
      "Extracted content from https://www.seattleu.edu/directory/profiles/antonio-moreno.php and saved to JSON.\n"
     ]
    },
    {
     "name": "stderr",
     "output_type": "stream",
     "text": [
      " 24%|██▍       | 1523/6321 [22:46<13:36:39, 10.21s/it]"
     ]
    },
    {
     "name": "stdout",
     "output_type": "stream",
     "text": [
      "Extracted content from https://www.seattleu.edu/directory/profiles/april-wootton.php and saved to JSON.\n"
     ]
    },
    {
     "name": "stderr",
     "output_type": "stream",
     "text": [
      " 24%|██▍       | 1524/6321 [22:56<13:35:35, 10.20s/it]"
     ]
    },
    {
     "name": "stdout",
     "output_type": "stream",
     "text": [
      "Extracted content from https://www.seattleu.edu/directory/profiles/april-atwood-phd.php and saved to JSON.\n"
     ]
    },
    {
     "name": "stderr",
     "output_type": "stream",
     "text": [
      " 24%|██▍       | 1525/6321 [23:07<13:34:16, 10.19s/it]"
     ]
    },
    {
     "name": "stdout",
     "output_type": "stream",
     "text": [
      "Extracted content from https://www.seattleu.edu/directory/profiles/ara-papyan-mba.php and saved to JSON.\n"
     ]
    },
    {
     "name": "stderr",
     "output_type": "stream",
     "text": [
      " 24%|██▍       | 1526/6321 [23:17<13:34:24, 10.19s/it]"
     ]
    },
    {
     "name": "stdout",
     "output_type": "stream",
     "text": [
      "Extracted content from https://www.seattleu.edu/directory/profiles/ariana-mendible-phd.php and saved to JSON.\n"
     ]
    },
    {
     "name": "stderr",
     "output_type": "stream",
     "text": [
      " 24%|██▍       | 1527/6321 [23:27<13:43:51, 10.31s/it]"
     ]
    },
    {
     "name": "stdout",
     "output_type": "stream",
     "text": [
      "Extracted content from https://www.seattleu.edu/directory/profiles/ariel-a-rosemond-mba.php and saved to JSON.\n"
     ]
    },
    {
     "name": "stderr",
     "output_type": "stream",
     "text": [
      " 24%|██▍       | 1528/6321 [23:38<13:44:24, 10.32s/it]"
     ]
    },
    {
     "name": "stdout",
     "output_type": "stream",
     "text": [
      "Extracted content from https://www.seattleu.edu/directory/profiles/arielle-simmons-mfa.php and saved to JSON.\n"
     ]
    },
    {
     "name": "stderr",
     "output_type": "stream",
     "text": [
      " 24%|██▍       | 1529/6321 [23:48<13:40:12, 10.27s/it]"
     ]
    },
    {
     "name": "stdout",
     "output_type": "stream",
     "text": [
      "Extracted content from https://www.seattleu.edu/directory/profiles/arliss-doss.php and saved to JSON.\n"
     ]
    },
    {
     "name": "stderr",
     "output_type": "stream",
     "text": [
      " 24%|██▍       | 1530/6321 [23:58<13:37:05, 10.23s/it]"
     ]
    },
    {
     "name": "stdout",
     "output_type": "stream",
     "text": [
      "Extracted content from https://www.seattleu.edu/directory/profiles/armand-kapllani.php and saved to JSON.\n"
     ]
    },
    {
     "name": "stderr",
     "output_type": "stream",
     "text": [
      " 24%|██▍       | 1531/6321 [24:08<13:35:35, 10.22s/it]"
     ]
    },
    {
     "name": "stdout",
     "output_type": "stream",
     "text": [
      "Extracted content from https://www.seattleu.edu/directory/profiles/arthur-fisher.php and saved to JSON.\n"
     ]
    },
    {
     "name": "stderr",
     "output_type": "stream",
     "text": [
      " 24%|██▍       | 1533/6321 [24:19<9:34:45,  7.20s/it] "
     ]
    },
    {
     "name": "stdout",
     "output_type": "stream",
     "text": [
      "Error processing https:www.seattleu.edu/directory/profiles/asefeh-houshyari-edd.php: HTTP Error 404: Not Found\n",
      "Extracted content from https://www.seattleu.edu/directory/profiles/ashley-clark.php and saved to JSON.\n"
     ]
    },
    {
     "name": "stderr",
     "output_type": "stream",
     "text": [
      " 24%|██▍       | 1534/6321 [24:29<10:45:41,  8.09s/it]"
     ]
    },
    {
     "name": "stdout",
     "output_type": "stream",
     "text": [
      "Extracted content from https://www.seattleu.edu/directory/profiles/ashley-coombs-phd.php and saved to JSON.\n"
     ]
    },
    {
     "name": "stderr",
     "output_type": "stream",
     "text": [
      " 24%|██▍       | 1535/6321 [24:39<11:35:14,  8.72s/it]"
     ]
    },
    {
     "name": "stdout",
     "output_type": "stream",
     "text": [
      "Extracted content from https://www.seattleu.edu/directory/profiles/ashley-cummins.php and saved to JSON.\n"
     ]
    },
    {
     "name": "stderr",
     "output_type": "stream",
     "text": [
      " 24%|██▍       | 1536/6321 [24:49<12:11:11,  9.17s/it]"
     ]
    },
    {
     "name": "stdout",
     "output_type": "stream",
     "text": [
      "Extracted content from https://www.seattleu.edu/directory/profiles/ashley-miller-edd.php and saved to JSON.\n"
     ]
    },
    {
     "name": "stderr",
     "output_type": "stream",
     "text": [
      " 24%|██▍       | 1537/6321 [24:59<12:38:19,  9.51s/it]"
     ]
    },
    {
     "name": "stdout",
     "output_type": "stream",
     "text": [
      "Extracted content from https://www.seattleu.edu/directory/profiles/ashli-d-tyre-edd-ncsp.php and saved to JSON.\n"
     ]
    },
    {
     "name": "stderr",
     "output_type": "stream",
     "text": [
      " 24%|██▍       | 1538/6321 [25:10<12:53:36,  9.70s/it]"
     ]
    },
    {
     "name": "stdout",
     "output_type": "stream",
     "text": [
      "Extracted content from https://www.seattleu.edu/directory/profiles/aubrey-benasa.php and saved to JSON.\n"
     ]
    },
    {
     "name": "stderr",
     "output_type": "stream",
     "text": [
      " 24%|██▍       | 1539/6321 [25:20<13:03:40,  9.83s/it]"
     ]
    },
    {
     "name": "stdout",
     "output_type": "stream",
     "text": [
      "Extracted content from https://www.seattleu.edu/directory/profiles/aubrey-lawlor-dnp-msn-cnm-arnp.php and saved to JSON.\n"
     ]
    },
    {
     "name": "stderr",
     "output_type": "stream",
     "text": [
      " 24%|██▍       | 1540/6321 [25:30<13:11:05,  9.93s/it]"
     ]
    },
    {
     "name": "stdout",
     "output_type": "stream",
     "text": [
      "Extracted content from https://www.seattleu.edu/directory/profiles/audrey-hudgins-edd.php and saved to JSON.\n"
     ]
    },
    {
     "name": "stderr",
     "output_type": "stream",
     "text": [
      " 24%|██▍       | 1541/6321 [25:40<13:16:33, 10.00s/it]"
     ]
    },
    {
     "name": "stdout",
     "output_type": "stream",
     "text": [
      "Extracted content from https://www.seattleu.edu/directory/profiles/austin-ahlstrom.php and saved to JSON.\n"
     ]
    },
    {
     "name": "stderr",
     "output_type": "stream",
     "text": [
      " 24%|██▍       | 1543/6321 [25:50<9:25:40,  7.10s/it] "
     ]
    },
    {
     "name": "stdout",
     "output_type": "stream",
     "text": [
      "Error processing https:www.seattleu.edu/directory/profiles/austin-bailey.php: HTTP Error 404: Not Found\n",
      "Extracted content from https://www.seattleu.edu/directory/profiles/austin-sandford.php and saved to JSON.\n"
     ]
    },
    {
     "name": "stderr",
     "output_type": "stream",
     "text": [
      " 24%|██▍       | 1544/6321 [26:01<10:38:41,  8.02s/it]"
     ]
    },
    {
     "name": "stdout",
     "output_type": "stream",
     "text": [
      "Extracted content from https://www.seattleu.edu/directory/profiles/austin-sweeney.php and saved to JSON.\n"
     ]
    },
    {
     "name": "stderr",
     "output_type": "stream",
     "text": [
      " 24%|██▍       | 1545/6321 [26:11<11:30:00,  8.67s/it]"
     ]
    },
    {
     "name": "stdout",
     "output_type": "stream",
     "text": [
      "Extracted content from https://www.seattleu.edu/directory/profiles/avery-snelson-phd.php and saved to JSON.\n"
     ]
    },
    {
     "name": "stderr",
     "output_type": "stream",
     "text": [
      " 24%|██▍       | 1546/6321 [26:21<12:08:59,  9.16s/it]"
     ]
    },
    {
     "name": "stdout",
     "output_type": "stream",
     "text": [
      "Extracted content from https://www.seattleu.edu/directory/profiles/aymie-tudi.php and saved to JSON.\n"
     ]
    },
    {
     "name": "stderr",
     "output_type": "stream",
     "text": [
      " 24%|██▍       | 1547/6321 [26:31<12:32:24,  9.46s/it]"
     ]
    },
    {
     "name": "stdout",
     "output_type": "stream",
     "text": [
      "Extracted content from https://www.seattleu.edu/directory/profiles/azzaya-dashzeveg.php and saved to JSON.\n"
     ]
    },
    {
     "name": "stderr",
     "output_type": "stream",
     "text": [
      " 24%|██▍       | 1548/6321 [26:41<12:48:36,  9.66s/it]"
     ]
    },
    {
     "name": "stdout",
     "output_type": "stream",
     "text": [
      "Extracted content from https://www.seattleu.edu/directory/profiles/bac-do.php and saved to JSON.\n"
     ]
    },
    {
     "name": "stderr",
     "output_type": "stream",
     "text": [
      " 25%|██▍       | 1549/6321 [26:52<13:00:03,  9.81s/it]"
     ]
    },
    {
     "name": "stdout",
     "output_type": "stream",
     "text": [
      "Extracted content from https://www.seattleu.edu/directory/profiles/barbara-parker.php and saved to JSON.\n"
     ]
    },
    {
     "name": "stderr",
     "output_type": "stream",
     "text": [
      " 25%|██▍       | 1550/6321 [27:02<13:08:51,  9.92s/it]"
     ]
    },
    {
     "name": "stdout",
     "output_type": "stream",
     "text": [
      "Extracted content from https://www.seattleu.edu/directory/profiles/barbara-yates.php and saved to JSON.\n"
     ]
    },
    {
     "name": "stderr",
     "output_type": "stream",
     "text": [
      " 25%|██▍       | 1551/6321 [27:12<13:13:59,  9.99s/it]"
     ]
    },
    {
     "name": "stdout",
     "output_type": "stream",
     "text": [
      "Extracted content from https://www.seattleu.edu/directory/profiles/barrett-dowell.php and saved to JSON.\n"
     ]
    },
    {
     "name": "stderr",
     "output_type": "stream",
     "text": [
      " 25%|██▍       | 1552/6321 [27:22<13:18:10, 10.04s/it]"
     ]
    },
    {
     "name": "stdout",
     "output_type": "stream",
     "text": [
      "Extracted content from https://www.seattleu.edu/directory/profiles/beatrice-lawrence-phd.php and saved to JSON.\n"
     ]
    },
    {
     "name": "stderr",
     "output_type": "stream",
     "text": [
      " 25%|██▍       | 1553/6321 [27:32<13:20:56, 10.08s/it]"
     ]
    },
    {
     "name": "stdout",
     "output_type": "stream",
     "text": [
      "Extracted content from https://www.seattleu.edu/directory/profiles/beatriz-diaz-acosta.php and saved to JSON.\n"
     ]
    },
    {
     "name": "stderr",
     "output_type": "stream",
     "text": [
      " 25%|██▍       | 1554/6321 [27:43<13:28:51, 10.18s/it]"
     ]
    },
    {
     "name": "stdout",
     "output_type": "stream",
     "text": [
      "Extracted content from https://www.seattleu.edu/directory/profiles/becca-bello.php and saved to JSON.\n"
     ]
    },
    {
     "name": "stderr",
     "output_type": "stream",
     "text": [
      " 25%|██▍       | 1556/6321 [27:53<9:33:48,  7.23s/it] "
     ]
    },
    {
     "name": "stdout",
     "output_type": "stream",
     "text": [
      "Error processing https:www.seattleu.edu/directory/profiles/becky-garling.php: HTTP Error 404: Not Found\n",
      "Extracted content from https://www.seattleu.edu/directory/profiles/becky-rowe.php and saved to JSON.\n"
     ]
    },
    {
     "name": "stderr",
     "output_type": "stream",
     "text": [
      " 25%|██▍       | 1557/6321 [28:03<10:43:34,  8.11s/it]"
     ]
    },
    {
     "name": "stdout",
     "output_type": "stream",
     "text": [
      "Extracted content from https://www.seattleu.edu/directory/profiles/becky-woodruff.php and saved to JSON.\n"
     ]
    },
    {
     "name": "stderr",
     "output_type": "stream",
     "text": [
      " 25%|██▍       | 1558/6321 [28:13<11:32:07,  8.72s/it]"
     ]
    },
    {
     "name": "stdout",
     "output_type": "stream",
     "text": [
      "Extracted content from https://www.seattleu.edu/directory/profiles/ben-rosen.php and saved to JSON.\n"
     ]
    },
    {
     "name": "stderr",
     "output_type": "stream",
     "text": [
      " 25%|██▍       | 1559/6321 [28:24<12:05:53,  9.15s/it]"
     ]
    },
    {
     "name": "stdout",
     "output_type": "stream",
     "text": [
      "Extracted content from https://www.seattleu.edu/directory/profiles/benjamin-white-phd-rn.php and saved to JSON.\n"
     ]
    },
    {
     "name": "stderr",
     "output_type": "stream",
     "text": [
      " 25%|██▍       | 1560/6321 [28:34<12:29:32,  9.45s/it]"
     ]
    },
    {
     "name": "stdout",
     "output_type": "stream",
     "text": [
      "Extracted content from https://www.seattleu.edu/directory/profiles/ben-b-kim-phd.php and saved to JSON.\n"
     ]
    },
    {
     "name": "stderr",
     "output_type": "stream",
     "text": [
      " 25%|██▍       | 1561/6321 [28:44<12:46:28,  9.66s/it]"
     ]
    },
    {
     "name": "stdout",
     "output_type": "stream",
     "text": [
      "Extracted content from https://www.seattleu.edu/directory/profiles/benjamin-robert-burton-ma.php and saved to JSON.\n"
     ]
    },
    {
     "name": "stderr",
     "output_type": "stream",
     "text": [
      " 25%|██▍       | 1562/6321 [28:54<12:58:31,  9.82s/it]"
     ]
    },
    {
     "name": "stdout",
     "output_type": "stream",
     "text": [
      "Extracted content from https://www.seattleu.edu/directory/profiles/benjamin-davis.php and saved to JSON.\n"
     ]
    },
    {
     "name": "stderr",
     "output_type": "stream",
     "text": [
      " 25%|██▍       | 1563/6321 [29:04<13:06:29,  9.92s/it]"
     ]
    },
    {
     "name": "stdout",
     "output_type": "stream",
     "text": [
      "Extracted content from https://www.seattleu.edu/directory/profiles/benjamin-ellison.php and saved to JSON.\n"
     ]
    },
    {
     "name": "stderr",
     "output_type": "stream",
     "text": [
      " 25%|██▍       | 1564/6321 [29:14<13:11:43,  9.99s/it]"
     ]
    },
    {
     "name": "stdout",
     "output_type": "stream",
     "text": [
      "Extracted content from https://www.seattleu.edu/directory/profiles/benjamin-hocutt-msn-ag-acnp.php and saved to JSON.\n"
     ]
    },
    {
     "name": "stderr",
     "output_type": "stream",
     "text": [
      " 25%|██▍       | 1565/6321 [29:25<13:19:33, 10.09s/it]"
     ]
    },
    {
     "name": "stdout",
     "output_type": "stream",
     "text": [
      "Extracted content from https://www.seattleu.edu/directory/profiles/benjamin-howe-phd.php and saved to JSON.\n"
     ]
    },
    {
     "name": "stderr",
     "output_type": "stream",
     "text": [
      " 25%|██▍       | 1566/6321 [29:35<13:21:00, 10.11s/it]"
     ]
    },
    {
     "name": "stdout",
     "output_type": "stream",
     "text": [
      "Extracted content from https://www.seattleu.edu/directory/profiles/benjamin-lockyear.php and saved to JSON.\n"
     ]
    },
    {
     "name": "stderr",
     "output_type": "stream",
     "text": [
      " 25%|██▍       | 1567/6321 [29:45<13:22:28, 10.13s/it]"
     ]
    },
    {
     "name": "stdout",
     "output_type": "stream",
     "text": [
      "Extracted content from https://www.seattleu.edu/directory/profiles/benjamin-schultz-figueroa.php and saved to JSON.\n"
     ]
    },
    {
     "name": "stderr",
     "output_type": "stream",
     "text": [
      " 25%|██▍       | 1568/6321 [29:55<13:23:00, 10.14s/it]"
     ]
    },
    {
     "name": "stdout",
     "output_type": "stream",
     "text": [
      "Extracted content from https://www.seattleu.edu/directory/profiles/ben-suriano-phd.php and saved to JSON.\n"
     ]
    },
    {
     "name": "stderr",
     "output_type": "stream",
     "text": [
      " 25%|██▍       | 1569/6321 [30:05<13:23:16, 10.14s/it]"
     ]
    },
    {
     "name": "stdout",
     "output_type": "stream",
     "text": [
      "Extracted content from https://www.seattleu.edu/directory/profiles/benjamin-williams.php and saved to JSON.\n"
     ]
    },
    {
     "name": "stderr",
     "output_type": "stream",
     "text": [
      " 25%|██▍       | 1570/6321 [30:15<13:22:45, 10.14s/it]"
     ]
    },
    {
     "name": "stdout",
     "output_type": "stream",
     "text": [
      "Extracted content from https://www.seattleu.edu/directory/profiles/benji-anderson.php and saved to JSON.\n"
     ]
    },
    {
     "name": "stderr",
     "output_type": "stream",
     "text": [
      " 25%|██▍       | 1571/6321 [30:26<13:22:33, 10.14s/it]"
     ]
    },
    {
     "name": "stdout",
     "output_type": "stream",
     "text": [
      "Extracted content from https://www.seattleu.edu/directory/profiles/bernard-steckler.php and saved to JSON.\n"
     ]
    },
    {
     "name": "stderr",
     "output_type": "stream",
     "text": [
      " 25%|██▍       | 1572/6321 [30:36<13:22:41, 10.14s/it]"
     ]
    },
    {
     "name": "stdout",
     "output_type": "stream",
     "text": [
      "Extracted content from https://www.seattleu.edu/directory/profiles/bernice-gulek-bakirci-phd-arnp.php and saved to JSON.\n"
     ]
    },
    {
     "name": "stderr",
     "output_type": "stream",
     "text": [
      " 25%|██▍       | 1573/6321 [30:46<13:27:28, 10.20s/it]"
     ]
    },
    {
     "name": "stdout",
     "output_type": "stream",
     "text": [
      "Extracted content from https://www.seattleu.edu/directory/profiles/bert-xue.php and saved to JSON.\n"
     ]
    },
    {
     "name": "stderr",
     "output_type": "stream",
     "text": [
      " 25%|██▍       | 1574/6321 [30:56<13:26:29, 10.19s/it]"
     ]
    },
    {
     "name": "stdout",
     "output_type": "stream",
     "text": [
      "Extracted content from https://www.seattleu.edu/directory/profiles/beth-armitage.php and saved to JSON.\n"
     ]
    },
    {
     "name": "stderr",
     "output_type": "stream",
     "text": [
      " 25%|██▍       | 1575/6321 [31:06<13:25:13, 10.18s/it]"
     ]
    },
    {
     "name": "stdout",
     "output_type": "stream",
     "text": [
      "Extracted content from https://www.seattleu.edu/directory/profiles/beth-branchaw-ma.php and saved to JSON.\n"
     ]
    },
    {
     "name": "stderr",
     "output_type": "stream",
     "text": [
      " 25%|██▍       | 1576/6321 [31:17<13:24:25, 10.17s/it]"
     ]
    },
    {
     "name": "stdout",
     "output_type": "stream",
     "text": [
      "Extracted content from https://www.seattleu.edu/directory/profiles/beth-keating-bs-rdms-rdcs-rvt.php and saved to JSON.\n"
     ]
    },
    {
     "name": "stderr",
     "output_type": "stream",
     "text": [
      " 25%|██▍       | 1577/6321 [31:27<13:25:53, 10.19s/it]"
     ]
    },
    {
     "name": "stdout",
     "output_type": "stream",
     "text": [
      "Extracted content from https://www.seattleu.edu/directory/profiles/betsey-a-brock.php and saved to JSON.\n"
     ]
    },
    {
     "name": "stderr",
     "output_type": "stream",
     "text": [
      " 25%|██▍       | 1578/6321 [31:37<13:25:02, 10.18s/it]"
     ]
    },
    {
     "name": "stdout",
     "output_type": "stream",
     "text": [
      "Extracted content from https://www.seattleu.edu/directory/profiles/beverly-johnson-phd-rn.php and saved to JSON.\n"
     ]
    },
    {
     "name": "stderr",
     "output_type": "stream",
     "text": [
      " 25%|██▍       | 1579/6321 [31:47<13:24:04, 10.17s/it]"
     ]
    },
    {
     "name": "stdout",
     "output_type": "stream",
     "text": [
      "Extracted content from https://www.seattleu.edu/directory/profiles/beverly-verduin.php and saved to JSON.\n"
     ]
    },
    {
     "name": "stderr",
     "output_type": "stream",
     "text": [
      " 25%|██▍       | 1580/6321 [31:57<13:23:12, 10.16s/it]"
     ]
    },
    {
     "name": "stdout",
     "output_type": "stream",
     "text": [
      "Extracted content from https://www.seattleu.edu/directory/profiles/bjorn-bernstein.php and saved to JSON.\n"
     ]
    },
    {
     "name": "stderr",
     "output_type": "stream",
     "text": [
      " 25%|██▌       | 1581/6321 [32:08<13:26:18, 10.21s/it]"
     ]
    },
    {
     "name": "stdout",
     "output_type": "stream",
     "text": [
      "Extracted content from https://www.seattleu.edu/directory/profiles/blake-catron.php and saved to JSON.\n"
     ]
    },
    {
     "name": "stderr",
     "output_type": "stream",
     "text": [
      " 25%|██▌       | 1582/6321 [32:18<13:24:29, 10.19s/it]"
     ]
    },
    {
     "name": "stdout",
     "output_type": "stream",
     "text": [
      "Extracted content from https://www.seattleu.edu/directory/profiles/blake-manning.php and saved to JSON.\n"
     ]
    },
    {
     "name": "stderr",
     "output_type": "stream",
     "text": [
      " 25%|██▌       | 1583/6321 [32:28<13:23:28, 10.17s/it]"
     ]
    },
    {
     "name": "stdout",
     "output_type": "stream",
     "text": [
      "Extracted content from https://www.seattleu.edu/directory/profiles/blake-stemen.php and saved to JSON.\n"
     ]
    },
    {
     "name": "stderr",
     "output_type": "stream",
     "text": [
      " 25%|██▌       | 1584/6321 [32:38<13:22:43, 10.17s/it]"
     ]
    },
    {
     "name": "stdout",
     "output_type": "stream",
     "text": [
      "Extracted content from https://www.seattleu.edu/directory/profiles/bo-han-phd.php and saved to JSON.\n"
     ]
    },
    {
     "name": "stderr",
     "output_type": "stream",
     "text": [
      " 25%|██▌       | 1585/6321 [32:48<13:22:13, 10.16s/it]"
     ]
    },
    {
     "name": "stdout",
     "output_type": "stream",
     "text": [
      "Extracted content from https://www.seattleu.edu/directory/profiles/robert-cornwell-phd-pe.php and saved to JSON.\n"
     ]
    },
    {
     "name": "stderr",
     "output_type": "stream",
     "text": [
      " 25%|██▌       | 1586/6321 [32:58<13:22:16, 10.17s/it]"
     ]
    },
    {
     "name": "stdout",
     "output_type": "stream",
     "text": [
      "Extracted content from https://www.seattleu.edu/directory/profiles/bob-cumbow.php and saved to JSON.\n"
     ]
    },
    {
     "name": "stderr",
     "output_type": "stream",
     "text": [
      " 25%|██▌       | 1587/6321 [33:08<13:21:19, 10.16s/it]"
     ]
    },
    {
     "name": "stdout",
     "output_type": "stream",
     "text": [
      "Extracted content from https://www.seattleu.edu/directory/profiles/bob-menanteaux.php and saved to JSON.\n"
     ]
    },
    {
     "name": "stderr",
     "output_type": "stream",
     "text": [
      " 25%|██▌       | 1588/6321 [33:19<13:21:42, 10.16s/it]"
     ]
    },
    {
     "name": "stdout",
     "output_type": "stream",
     "text": [
      "Extracted content from https://www.seattleu.edu/directory/profiles/bob-novak.php and saved to JSON.\n"
     ]
    },
    {
     "name": "stderr",
     "output_type": "stream",
     "text": [
      " 25%|██▌       | 1589/6321 [33:29<13:24:50, 10.21s/it]"
     ]
    },
    {
     "name": "stdout",
     "output_type": "stream",
     "text": [
      "Extracted content from https://www.seattleu.edu/directory/profiles/bonnie-h-bowie-phd-mba-rn-faan.php and saved to JSON.\n"
     ]
    },
    {
     "name": "stderr",
     "output_type": "stream",
     "text": [
      " 25%|██▌       | 1590/6321 [33:39<13:25:08, 10.21s/it]"
     ]
    },
    {
     "name": "stdout",
     "output_type": "stream",
     "text": [
      "Extracted content from https://www.seattleu.edu/directory/profiles/bonnie-glenn-jd.php and saved to JSON.\n"
     ]
    },
    {
     "name": "stderr",
     "output_type": "stream",
     "text": [
      " 25%|██▌       | 1591/6321 [33:49<13:24:13, 10.20s/it]"
     ]
    },
    {
     "name": "stdout",
     "output_type": "stream",
     "text": [
      "Extracted content from https://www.seattleu.edu/directory/profiles/bradley-freeman-phd.php and saved to JSON.\n"
     ]
    },
    {
     "name": "stderr",
     "output_type": "stream",
     "text": [
      " 25%|██▌       | 1592/6321 [34:00<13:23:25, 10.19s/it]"
     ]
    },
    {
     "name": "stdout",
     "output_type": "stream",
     "text": [
      "Extracted content from https://www.seattleu.edu/directory/profiles/bradley-scharf.php and saved to JSON.\n"
     ]
    },
    {
     "name": "stderr",
     "output_type": "stream",
     "text": [
      " 25%|██▌       | 1593/6321 [34:10<13:21:57, 10.18s/it]"
     ]
    },
    {
     "name": "stdout",
     "output_type": "stream",
     "text": [
      "Extracted content from https://www.seattleu.edu/directory/profiles/brady-bernard.php and saved to JSON.\n"
     ]
    },
    {
     "name": "stderr",
     "output_type": "stream",
     "text": [
      " 25%|██▌       | 1594/6321 [34:20<13:21:16, 10.17s/it]"
     ]
    },
    {
     "name": "stdout",
     "output_type": "stream",
     "text": [
      "Extracted content from https://www.seattleu.edu/directory/profiles/brady-nash.php and saved to JSON.\n"
     ]
    },
    {
     "name": "stderr",
     "output_type": "stream",
     "text": [
      " 25%|██▌       | 1595/6321 [34:30<13:21:17, 10.17s/it]"
     ]
    },
    {
     "name": "stdout",
     "output_type": "stream",
     "text": [
      "Extracted content from https://www.seattleu.edu/directory/profiles/brandon-rothe.php and saved to JSON.\n"
     ]
    },
    {
     "name": "stderr",
     "output_type": "stream",
     "text": [
      " 25%|██▌       | 1596/6321 [34:40<13:20:43, 10.17s/it]"
     ]
    },
    {
     "name": "stdout",
     "output_type": "stream",
     "text": [
      "Extracted content from https://www.seattleu.edu/directory/profiles/brandon-shurn-phd-lcpc-md-lmhc-fl-ncc.php and saved to JSON.\n"
     ]
    },
    {
     "name": "stderr",
     "output_type": "stream",
     "text": [
      " 25%|██▌       | 1597/6321 [34:51<13:26:50, 10.25s/it]"
     ]
    },
    {
     "name": "stdout",
     "output_type": "stream",
     "text": [
      "Extracted content from https://www.seattleu.edu/directory/profiles/braxton-cuneo.php and saved to JSON.\n"
     ]
    },
    {
     "name": "stderr",
     "output_type": "stream",
     "text": [
      " 25%|██▌       | 1598/6321 [35:01<13:24:42, 10.22s/it]"
     ]
    },
    {
     "name": "stdout",
     "output_type": "stream",
     "text": [
      "Extracted content from https://www.seattleu.edu/directory/profiles/brenda-bourns-phd.php and saved to JSON.\n"
     ]
    },
    {
     "name": "stderr",
     "output_type": "stream",
     "text": [
      " 25%|██▌       | 1599/6321 [35:11<13:23:38, 10.21s/it]"
     ]
    },
    {
     "name": "stdout",
     "output_type": "stream",
     "text": [
      "Extracted content from https://www.seattleu.edu/directory/profiles/brendan-heitz.php and saved to JSON.\n"
     ]
    },
    {
     "name": "stderr",
     "output_type": "stream",
     "text": [
      " 25%|██▌       | 1600/6321 [35:21<13:22:44, 10.20s/it]"
     ]
    },
    {
     "name": "stdout",
     "output_type": "stream",
     "text": [
      "Extracted content from https://www.seattleu.edu/directory/profiles/brendon-taga.php and saved to JSON.\n"
     ]
    },
    {
     "name": "stderr",
     "output_type": "stream",
     "text": [
      " 25%|██▌       | 1601/6321 [35:31<13:25:44, 10.24s/it]"
     ]
    },
    {
     "name": "stdout",
     "output_type": "stream",
     "text": [
      "Extracted content from https://www.seattleu.edu/directory/profiles/brennan-massaglia.php and saved to JSON.\n"
     ]
    },
    {
     "name": "stderr",
     "output_type": "stream",
     "text": [
      " 25%|██▌       | 1602/6321 [35:42<13:23:56, 10.22s/it]"
     ]
    },
    {
     "name": "stdout",
     "output_type": "stream",
     "text": [
      "Extracted content from https://www.seattleu.edu/directory/profiles/brennan-murphy.php and saved to JSON.\n"
     ]
    },
    {
     "name": "stderr",
     "output_type": "stream",
     "text": [
      " 25%|██▌       | 1603/6321 [35:52<13:22:19, 10.20s/it]"
     ]
    },
    {
     "name": "stdout",
     "output_type": "stream",
     "text": [
      "Extracted content from https://www.seattleu.edu/directory/profiles/brent-hanada.php and saved to JSON.\n"
     ]
    },
    {
     "name": "stderr",
     "output_type": "stream",
     "text": [
      " 25%|██▌       | 1604/6321 [36:02<13:21:22, 10.19s/it]"
     ]
    },
    {
     "name": "stdout",
     "output_type": "stream",
     "text": [
      "Extracted content from https://www.seattleu.edu/directory/profiles/brett-kaiser-phd.php and saved to JSON.\n"
     ]
    },
    {
     "name": "stderr",
     "output_type": "stream",
     "text": [
      " 25%|██▌       | 1605/6321 [36:12<13:24:08, 10.23s/it]"
     ]
    },
    {
     "name": "stdout",
     "output_type": "stream",
     "text": [
      "Extracted content from https://www.seattleu.edu/directory/profiles/brian-daugherty.php and saved to JSON.\n"
     ]
    },
    {
     "name": "stderr",
     "output_type": "stream",
     "text": [
      " 25%|██▌       | 1606/6321 [36:22<13:22:07, 10.21s/it]"
     ]
    },
    {
     "name": "stdout",
     "output_type": "stream",
     "text": [
      "Extracted content from https://www.seattleu.edu/directory/profiles/brian-fischer-dsc.php and saved to JSON.\n"
     ]
    },
    {
     "name": "stderr",
     "output_type": "stream",
     "text": [
      " 25%|██▌       | 1607/6321 [36:33<13:21:01, 10.20s/it]"
     ]
    },
    {
     "name": "stdout",
     "output_type": "stream",
     "text": [
      "Extracted content from https://www.seattleu.edu/directory/profiles/brian-free.php and saved to JSON.\n"
     ]
    },
    {
     "name": "stderr",
     "output_type": "stream",
     "text": [
      " 25%|██▌       | 1608/6321 [36:43<13:20:21, 10.19s/it]"
     ]
    },
    {
     "name": "stdout",
     "output_type": "stream",
     "text": [
      "Extracted content from https://www.seattleu.edu/directory/profiles/brian-kelly-phd.php and saved to JSON.\n"
     ]
    },
    {
     "name": "stderr",
     "output_type": "stream",
     "text": [
      " 25%|██▌       | 1609/6321 [36:53<13:19:52, 10.19s/it]"
     ]
    },
    {
     "name": "stdout",
     "output_type": "stream",
     "text": [
      "Extracted content from https://www.seattleu.edu/directory/profiles/brian-murphy.php and saved to JSON.\n"
     ]
    },
    {
     "name": "stderr",
     "output_type": "stream",
     "text": [
      " 25%|██▌       | 1610/6321 [37:03<13:18:45, 10.17s/it]"
     ]
    },
    {
     "name": "stdout",
     "output_type": "stream",
     "text": [
      "Extracted content from https://www.seattleu.edu/directory/profiles/brian-omalley.php and saved to JSON.\n"
     ]
    },
    {
     "name": "stderr",
     "output_type": "stream",
     "text": [
      " 25%|██▌       | 1611/6321 [37:13<13:18:21, 10.17s/it]"
     ]
    },
    {
     "name": "stdout",
     "output_type": "stream",
     "text": [
      "Extracted content from https://www.seattleu.edu/directory/profiles/brian-tsuchida.php and saved to JSON.\n"
     ]
    },
    {
     "name": "stderr",
     "output_type": "stream",
     "text": [
      " 26%|██▌       | 1612/6321 [37:23<13:17:43, 10.16s/it]"
     ]
    },
    {
     "name": "stdout",
     "output_type": "stream",
     "text": [
      "Extracted content from https://www.seattleu.edu/directory/profiles/brianna-woodruff-dnp-arnp.php and saved to JSON.\n"
     ]
    },
    {
     "name": "stderr",
     "output_type": "stream",
     "text": [
      " 26%|██▌       | 1613/6321 [37:34<13:19:36, 10.19s/it]"
     ]
    },
    {
     "name": "stdout",
     "output_type": "stream",
     "text": [
      "Extracted content from https://www.seattleu.edu/directory/profiles/bridget-hiedemann-phd.php and saved to JSON.\n"
     ]
    },
    {
     "name": "stderr",
     "output_type": "stream",
     "text": [
      " 26%|██▌       | 1614/6321 [37:44<13:18:50, 10.18s/it]"
     ]
    },
    {
     "name": "stdout",
     "output_type": "stream",
     "text": [
      "Extracted content from https://www.seattleu.edu/directory/profiles/bridget-joyner-carpanini-phd.php and saved to JSON.\n"
     ]
    },
    {
     "name": "stderr",
     "output_type": "stream",
     "text": [
      " 26%|██▌       | 1615/6321 [37:54<13:18:27, 10.18s/it]"
     ]
    },
    {
     "name": "stdout",
     "output_type": "stream",
     "text": [
      "Extracted content from https://www.seattleu.edu/directory/profiles/brittany-goff.php and saved to JSON.\n"
     ]
    },
    {
     "name": "stderr",
     "output_type": "stream",
     "text": [
      " 26%|██▌       | 1616/6321 [38:04<13:17:23, 10.17s/it]"
     ]
    },
    {
     "name": "stdout",
     "output_type": "stream",
     "text": [
      "Extracted content from https://www.seattleu.edu/directory/profiles/brittany-heintz-walters-phd.php and saved to JSON.\n"
     ]
    },
    {
     "name": "stderr",
     "output_type": "stream",
     "text": [
      " 26%|██▌       | 1617/6321 [38:14<13:19:56, 10.20s/it]"
     ]
    },
    {
     "name": "stdout",
     "output_type": "stream",
     "text": [
      "Extracted content from https://www.seattleu.edu/directory/profiles/brooke-coleman.php and saved to JSON.\n"
     ]
    },
    {
     "name": "stderr",
     "output_type": "stream",
     "text": [
      " 26%|██▌       | 1618/6321 [38:25<13:19:08, 10.20s/it]"
     ]
    },
    {
     "name": "stdout",
     "output_type": "stream",
     "text": [
      "Extracted content from https://www.seattleu.edu/directory/profiles/brooke-gialopsos-phd.php and saved to JSON.\n"
     ]
    },
    {
     "name": "stderr",
     "output_type": "stream",
     "text": [
      " 26%|██▌       | 1619/6321 [38:35<13:18:54, 10.19s/it]"
     ]
    },
    {
     "name": "stdout",
     "output_type": "stream",
     "text": [
      "Extracted content from https://www.seattleu.edu/directory/profiles/brooke-pinkham.php and saved to JSON.\n"
     ]
    },
    {
     "name": "stderr",
     "output_type": "stream",
     "text": [
      " 26%|██▌       | 1620/6321 [38:45<13:17:52, 10.18s/it]"
     ]
    },
    {
     "name": "stdout",
     "output_type": "stream",
     "text": [
      "Extracted content from https://www.seattleu.edu/directory/profiles/brooke-thompson.php and saved to JSON.\n"
     ]
    },
    {
     "name": "stderr",
     "output_type": "stream",
     "text": [
      " 26%|██▌       | 1621/6321 [38:55<13:20:21, 10.22s/it]"
     ]
    },
    {
     "name": "stdout",
     "output_type": "stream",
     "text": [
      "Extracted content from https://www.seattleu.edu/directory/profiles/brooks-hopp.php and saved to JSON.\n"
     ]
    },
    {
     "name": "stderr",
     "output_type": "stream",
     "text": [
      " 26%|██▌       | 1622/6321 [39:05<13:18:41, 10.20s/it]"
     ]
    },
    {
     "name": "stdout",
     "output_type": "stream",
     "text": [
      "Extracted content from https://www.seattleu.edu/directory/profiles/bruce-koch.php and saved to JSON.\n"
     ]
    },
    {
     "name": "stderr",
     "output_type": "stream",
     "text": [
      " 26%|██▌       | 1623/6321 [39:16<13:17:32, 10.19s/it]"
     ]
    },
    {
     "name": "stdout",
     "output_type": "stream",
     "text": [
      "Extracted content from https://www.seattleu.edu/directory/profiles/bruno-guardia-robles.php and saved to JSON.\n"
     ]
    },
    {
     "name": "stderr",
     "output_type": "stream",
     "text": [
      " 26%|██▌       | 1624/6321 [39:26<13:16:52, 10.18s/it]"
     ]
    },
    {
     "name": "stdout",
     "output_type": "stream",
     "text": [
      "Extracted content from https://www.seattleu.edu/directory/profiles/bryan-ruppert-phd.php and saved to JSON.\n"
     ]
    },
    {
     "name": "stderr",
     "output_type": "stream",
     "text": [
      " 26%|██▌       | 1625/6321 [39:36<13:16:03, 10.17s/it]"
     ]
    },
    {
     "name": "stdout",
     "output_type": "stream",
     "text": [
      "Extracted content from https://www.seattleu.edu/directory/profiles/bryce-douglas.php and saved to JSON.\n"
     ]
    },
    {
     "name": "stderr",
     "output_type": "stream",
     "text": [
      " 26%|██▌       | 1626/6321 [39:46<13:17:56, 10.20s/it]"
     ]
    },
    {
     "name": "stdout",
     "output_type": "stream",
     "text": [
      "Extracted content from https://www.seattleu.edu/directory/profiles/buzz-hofford.php and saved to JSON.\n"
     ]
    },
    {
     "name": "stderr",
     "output_type": "stream",
     "text": [
      " 26%|██▌       | 1627/6321 [39:56<13:17:02, 10.19s/it]"
     ]
    },
    {
     "name": "stdout",
     "output_type": "stream",
     "text": [
      "Extracted content from https://www.seattleu.edu/directory/profiles/byron-au-yong-mfa.php and saved to JSON.\n"
     ]
    },
    {
     "name": "stderr",
     "output_type": "stream",
     "text": [
      " 26%|██▌       | 1628/6321 [40:06<13:16:24, 10.18s/it]"
     ]
    },
    {
     "name": "stdout",
     "output_type": "stream",
     "text": [
      "Extracted content from https://www.seattleu.edu/directory/profiles/c-denise-pauley.php and saved to JSON.\n"
     ]
    },
    {
     "name": "stderr",
     "output_type": "stream",
     "text": [
      " 26%|██▌       | 1629/6321 [40:17<13:19:12, 10.22s/it]"
     ]
    },
    {
     "name": "stdout",
     "output_type": "stream",
     "text": [
      "Extracted content from https://www.seattleu.edu/directory/profiles/c-frederick-dekay.php and saved to JSON.\n"
     ]
    },
    {
     "name": "stderr",
     "output_type": "stream",
     "text": [
      " 26%|██▌       | 1631/6321 [40:27<9:23:30,  7.21s/it] "
     ]
    },
    {
     "name": "stdout",
     "output_type": "stream",
     "text": [
      "Error processing https:www.seattleu.edu/directory/profiles/caitlin-carlson-phd.php: HTTP Error 404: Not Found\n",
      "Extracted content from https://www.seattleu.edu/directory/profiles/cal-ihler.php and saved to JSON.\n"
     ]
    },
    {
     "name": "stderr",
     "output_type": "stream",
     "text": [
      " 26%|██▌       | 1632/6321 [40:37<10:32:11,  8.09s/it]"
     ]
    },
    {
     "name": "stdout",
     "output_type": "stream",
     "text": [
      "Extracted content from https://www.seattleu.edu/directory/profiles/calvin-choi-msn-aprn-cpnp-ac-cpn.php and saved to JSON.\n"
     ]
    },
    {
     "name": "stderr",
     "output_type": "stream",
     "text": [
      " 26%|██▌       | 1633/6321 [40:48<11:24:30,  8.76s/it]"
     ]
    },
    {
     "name": "stdout",
     "output_type": "stream",
     "text": [
      "Extracted content from https://www.seattleu.edu/directory/profiles/camaron-farrington.php and saved to JSON.\n"
     ]
    },
    {
     "name": "stderr",
     "output_type": "stream",
     "text": [
      " 26%|██▌       | 1634/6321 [40:58<12:07:56,  9.32s/it]"
     ]
    },
    {
     "name": "stdout",
     "output_type": "stream",
     "text": [
      "Extracted content from https://www.seattleu.edu/directory/profiles/carl-marino.php and saved to JSON.\n"
     ]
    },
    {
     "name": "stderr",
     "output_type": "stream",
     "text": [
      " 26%|██▌       | 1635/6321 [41:08<12:28:42,  9.59s/it]"
     ]
    },
    {
     "name": "stdout",
     "output_type": "stream",
     "text": [
      "Extracted content from https://www.seattleu.edu/directory/profiles/carl-obermiller.php and saved to JSON.\n"
     ]
    },
    {
     "name": "stderr",
     "output_type": "stream",
     "text": [
      " 26%|██▌       | 1636/6321 [41:19<12:41:56,  9.76s/it]"
     ]
    },
    {
     "name": "stdout",
     "output_type": "stream",
     "text": [
      "Extracted content from https://www.seattleu.edu/directory/profiles/carl-swenson.php and saved to JSON.\n"
     ]
    },
    {
     "name": "stderr",
     "output_type": "stream",
     "text": [
      " 26%|██▌       | 1637/6321 [41:29<12:51:42,  9.89s/it]"
     ]
    },
    {
     "name": "stdout",
     "output_type": "stream",
     "text": [
      "Extracted content from https://www.seattleu.edu/directory/profiles/carla-cheatham.php and saved to JSON.\n"
     ]
    },
    {
     "name": "stderr",
     "output_type": "stream",
     "text": [
      " 26%|██▌       | 1638/6321 [41:39<12:59:13,  9.98s/it]"
     ]
    },
    {
     "name": "stdout",
     "output_type": "stream",
     "text": [
      "Extracted content from https://www.seattleu.edu/directory/profiles/carla-keel.php and saved to JSON.\n"
     ]
    },
    {
     "name": "stderr",
     "output_type": "stream",
     "text": [
      " 26%|██▌       | 1639/6321 [41:49<13:03:15, 10.04s/it]"
     ]
    },
    {
     "name": "stdout",
     "output_type": "stream",
     "text": [
      "Extracted content from https://www.seattleu.edu/directory/profiles/carlee-pendleton-cole-phd-pc-ncc-ipt-cst.php and saved to JSON.\n"
     ]
    },
    {
     "name": "stderr",
     "output_type": "stream",
     "text": [
      " 26%|██▌       | 1640/6321 [41:59<13:08:27, 10.11s/it]"
     ]
    },
    {
     "name": "stdout",
     "output_type": "stream",
     "text": [
      "Extracted content from https://www.seattleu.edu/directory/profiles/carlo-sanchez.php and saved to JSON.\n"
     ]
    },
    {
     "name": "stderr",
     "output_type": "stream",
     "text": [
      " 26%|██▌       | 1641/6321 [42:10<13:09:18, 10.12s/it]"
     ]
    },
    {
     "name": "stdout",
     "output_type": "stream",
     "text": [
      "Extracted content from https://www.seattleu.edu/directory/profiles/carlos-de-mello-e-souza.php and saved to JSON.\n"
     ]
    },
    {
     "name": "stderr",
     "output_type": "stream",
     "text": [
      " 26%|██▌       | 1642/6321 [42:20<13:10:02, 10.13s/it]"
     ]
    },
    {
     "name": "stdout",
     "output_type": "stream",
     "text": [
      "Extracted content from https://www.seattleu.edu/directory/profiles/carlos-gonzalez.php and saved to JSON.\n"
     ]
    },
    {
     "name": "stderr",
     "output_type": "stream",
     "text": [
      " 26%|██▌       | 1643/6321 [42:30<13:10:45, 10.14s/it]"
     ]
    },
    {
     "name": "stdout",
     "output_type": "stream",
     "text": [
      "Extracted content from https://www.seattleu.edu/directory/profiles/carlos-herrera.php and saved to JSON.\n"
     ]
    },
    {
     "name": "stderr",
     "output_type": "stream",
     "text": [
      " 26%|██▌       | 1644/6321 [42:40<13:11:12, 10.15s/it]"
     ]
    },
    {
     "name": "stdout",
     "output_type": "stream",
     "text": [
      "Extracted content from https://www.seattleu.edu/directory/profiles/carly-darcher.php and saved to JSON.\n"
     ]
    },
    {
     "name": "stderr",
     "output_type": "stream",
     "text": [
      " 26%|██▌       | 1645/6321 [42:50<13:12:23, 10.17s/it]"
     ]
    },
    {
     "name": "stdout",
     "output_type": "stream",
     "text": [
      "Extracted content from https://www.seattleu.edu/directory/profiles/carlyn-ferrari-phd.php and saved to JSON.\n"
     ]
    },
    {
     "name": "stderr",
     "output_type": "stream",
     "text": [
      " 26%|██▌       | 1646/6321 [43:00<13:12:30, 10.17s/it]"
     ]
    },
    {
     "name": "stdout",
     "output_type": "stream",
     "text": [
      "Extracted content from https://www.seattleu.edu/directory/profiles/carmen-gonzalez.php and saved to JSON.\n"
     ]
    },
    {
     "name": "stderr",
     "output_type": "stream",
     "text": [
      " 26%|██▌       | 1647/6321 [43:11<13:12:25, 10.17s/it]"
     ]
    },
    {
     "name": "stdout",
     "output_type": "stream",
     "text": [
      "Extracted content from https://www.seattleu.edu/directory/profiles/carol-adams-phd.php and saved to JSON.\n"
     ]
    },
    {
     "name": "stderr",
     "output_type": "stream",
     "text": [
      " 26%|██▌       | 1648/6321 [43:21<13:14:55, 10.21s/it]"
     ]
    },
    {
     "name": "stdout",
     "output_type": "stream",
     "text": [
      "Extracted content from https://www.seattleu.edu/directory/profiles/carol-cochran.php and saved to JSON.\n"
     ]
    },
    {
     "name": "stderr",
     "output_type": "stream",
     "text": [
      " 26%|██▌       | 1649/6321 [43:31<13:13:45, 10.19s/it]"
     ]
    },
    {
     "name": "stdout",
     "output_type": "stream",
     "text": [
      "Extracted content from https://www.seattleu.edu/directory/profiles/carol-dematteis.php and saved to JSON.\n"
     ]
    },
    {
     "name": "stderr",
     "output_type": "stream",
     "text": [
      " 26%|██▌       | 1650/6321 [43:41<13:13:15, 10.19s/it]"
     ]
    },
    {
     "name": "stdout",
     "output_type": "stream",
     "text": [
      "Extracted content from https://www.seattleu.edu/directory/profiles/carol-husmann.php and saved to JSON.\n"
     ]
    },
    {
     "name": "stderr",
     "output_type": "stream",
     "text": [
      " 26%|██▌       | 1651/6321 [43:51<13:12:03, 10.18s/it]"
     ]
    },
    {
     "name": "stdout",
     "output_type": "stream",
     "text": [
      "Extracted content from https://www.seattleu.edu/directory/profiles/carol-lwali.php and saved to JSON.\n"
     ]
    },
    {
     "name": "stderr",
     "output_type": "stream",
     "text": [
      " 26%|██▌       | 1652/6321 [44:02<13:11:33, 10.17s/it]"
     ]
    },
    {
     "name": "stdout",
     "output_type": "stream",
     "text": [
      "Extracted content from https://www.seattleu.edu/directory/profiles/carol-mcmullen.php and saved to JSON.\n"
     ]
    },
    {
     "name": "stderr",
     "output_type": "stream",
     "text": [
      " 26%|██▌       | 1653/6321 [44:12<13:10:55, 10.17s/it]"
     ]
    },
    {
     "name": "stdout",
     "output_type": "stream",
     "text": [
      "Extracted content from https://www.seattleu.edu/directory/profiles/carol-schneider.php and saved to JSON.\n"
     ]
    },
    {
     "name": "stderr",
     "output_type": "stream",
     "text": [
      " 26%|██▌       | 1654/6321 [44:22<13:13:18, 10.20s/it]"
     ]
    },
    {
     "name": "stdout",
     "output_type": "stream",
     "text": [
      "Extracted content from https://www.seattleu.edu/directory/profiles/carol-shade-dnp-ms-rn-cphims-fhimss.php and saved to JSON.\n"
     ]
    },
    {
     "name": "stderr",
     "output_type": "stream",
     "text": [
      " 26%|██▌       | 1655/6321 [44:32<13:12:41, 10.19s/it]"
     ]
    },
    {
     "name": "stdout",
     "output_type": "stream",
     "text": [
      "Extracted content from https://www.seattleu.edu/directory/profiles/carol-waltho.php and saved to JSON.\n"
     ]
    },
    {
     "name": "stderr",
     "output_type": "stream",
     "text": [
      " 26%|██▌       | 1656/6321 [44:42<13:14:40, 10.22s/it]"
     ]
    },
    {
     "name": "stdout",
     "output_type": "stream",
     "text": [
      "Extracted content from https://www.seattleu.edu/directory/profiles/carol-weaver.php and saved to JSON.\n"
     ]
    },
    {
     "name": "stderr",
     "output_type": "stream",
     "text": [
      " 26%|██▌       | 1657/6321 [44:53<13:13:39, 10.21s/it]"
     ]
    },
    {
     "name": "stdout",
     "output_type": "stream",
     "text": [
      "Extracted content from https://www.seattleu.edu/directory/profiles/carol-zink-mfa.php and saved to JSON.\n"
     ]
    },
    {
     "name": "stderr",
     "output_type": "stream",
     "text": [
      " 26%|██▌       | 1658/6321 [45:03<13:12:23, 10.20s/it]"
     ]
    },
    {
     "name": "stdout",
     "output_type": "stream",
     "text": [
      "Extracted content from https://www.seattleu.edu/directory/profiles/carol-wolfe-clay-mfa.php and saved to JSON.\n"
     ]
    },
    {
     "name": "stderr",
     "output_type": "stream",
     "text": [
      " 26%|██▌       | 1659/6321 [45:13<13:11:30, 10.19s/it]"
     ]
    },
    {
     "name": "stdout",
     "output_type": "stream",
     "text": [
      "Extracted content from https://www.seattleu.edu/directory/profiles/carolyn-auvil-cubillos.php and saved to JSON.\n"
     ]
    },
    {
     "name": "stderr",
     "output_type": "stream",
     "text": [
      " 26%|██▋       | 1660/6321 [45:23<13:11:05, 10.18s/it]"
     ]
    },
    {
     "name": "stdout",
     "output_type": "stream",
     "text": [
      "Extracted content from https://www.seattleu.edu/directory/profiles/carolyn-burroughs.php and saved to JSON.\n"
     ]
    },
    {
     "name": "stderr",
     "output_type": "stream",
     "text": [
      " 26%|██▋       | 1661/6321 [45:33<13:11:06, 10.19s/it]"
     ]
    },
    {
     "name": "stdout",
     "output_type": "stream",
     "text": [
      "Extracted content from https://www.seattleu.edu/directory/profiles/carolyn-stenbak-phd.php and saved to JSON.\n"
     ]
    },
    {
     "name": "stderr",
     "output_type": "stream",
     "text": [
      " 26%|██▋       | 1662/6321 [45:44<13:10:27, 10.18s/it]"
     ]
    },
    {
     "name": "stdout",
     "output_type": "stream",
     "text": [
      "Extracted content from https://www.seattleu.edu/directory/profiles/carolyn-webster-msn.php and saved to JSON.\n"
     ]
    },
    {
     "name": "stderr",
     "output_type": "stream",
     "text": [
      " 26%|██▋       | 1663/6321 [45:54<13:09:34, 10.17s/it]"
     ]
    },
    {
     "name": "stdout",
     "output_type": "stream",
     "text": [
      "Extracted content from https://www.seattleu.edu/directory/profiles/casey-dubose.php and saved to JSON.\n"
     ]
    },
    {
     "name": "stderr",
     "output_type": "stream",
     "text": [
      " 26%|██▋       | 1664/6321 [46:04<13:15:40, 10.25s/it]"
     ]
    },
    {
     "name": "stdout",
     "output_type": "stream",
     "text": [
      "Extracted content from https://www.seattleu.edu/directory/profiles/casey-klinich.php and saved to JSON.\n"
     ]
    },
    {
     "name": "stderr",
     "output_type": "stream",
     "text": [
      " 26%|██▋       | 1665/6321 [46:14<13:13:52, 10.23s/it]"
     ]
    },
    {
     "name": "stdout",
     "output_type": "stream",
     "text": [
      "Extracted content from https://www.seattleu.edu/directory/profiles/casey-watkins-phd.php and saved to JSON.\n"
     ]
    },
    {
     "name": "stderr",
     "output_type": "stream",
     "text": [
      " 26%|██▋       | 1666/6321 [46:25<13:13:54, 10.23s/it]"
     ]
    },
    {
     "name": "stdout",
     "output_type": "stream",
     "text": [
      "Extracted content from https://www.seattleu.edu/directory/profiles/catherine-crook.php and saved to JSON.\n"
     ]
    },
    {
     "name": "stderr",
     "output_type": "stream",
     "text": [
      " 26%|██▋       | 1667/6321 [46:35<13:11:51, 10.21s/it]"
     ]
    },
    {
     "name": "stdout",
     "output_type": "stream",
     "text": [
      "Extracted content from https://www.seattleu.edu/directory/profiles/cathy-xuying-cao-phd-cfa.php and saved to JSON.\n"
     ]
    },
    {
     "name": "stderr",
     "output_type": "stream",
     "text": [
      " 26%|██▋       | 1668/6321 [46:45<13:10:10, 10.19s/it]"
     ]
    },
    {
     "name": "stdout",
     "output_type": "stream",
     "text": [
      "Extracted content from https://www.seattleu.edu/directory/profiles/ceci-estela.php and saved to JSON.\n"
     ]
    },
    {
     "name": "stderr",
     "output_type": "stream",
     "text": [
      " 26%|██▋       | 1669/6321 [46:55<13:10:06, 10.19s/it]"
     ]
    },
    {
     "name": "stdout",
     "output_type": "stream",
     "text": [
      "Extracted content from https://www.seattleu.edu/directory/profiles/dr-cecilia-morales-phd.php and saved to JSON.\n"
     ]
    },
    {
     "name": "stderr",
     "output_type": "stream",
     "text": [
      " 26%|██▋       | 1670/6321 [47:05<13:08:54, 10.18s/it]"
     ]
    },
    {
     "name": "stdout",
     "output_type": "stream",
     "text": [
      "Extracted content from https://www.seattleu.edu/directory/profiles/chad-smith.php and saved to JSON.\n"
     ]
    },
    {
     "name": "stderr",
     "output_type": "stream",
     "text": [
      " 26%|██▋       | 1672/6321 [47:16<9:20:23,  7.23s/it] "
     ]
    },
    {
     "name": "stdout",
     "output_type": "stream",
     "text": [
      "Error processing https:www.seattleu.edu/directory/profiles/chandra-catron.php: HTTP Error 404: Not Found\n",
      "Extracted content from https://www.seattleu.edu/directory/profiles/char-brecevic-phd.php and saved to JSON.\n"
     ]
    },
    {
     "name": "stderr",
     "output_type": "stream",
     "text": [
      " 26%|██▋       | 1673/6321 [47:26<10:28:27,  8.11s/it]"
     ]
    },
    {
     "name": "stdout",
     "output_type": "stream",
     "text": [
      "Extracted content from https://www.seattleu.edu/directory/profiles/charles-fowler.php and saved to JSON.\n"
     ]
    },
    {
     "name": "stderr",
     "output_type": "stream",
     "text": [
      " 26%|██▋       | 1674/6321 [47:36<11:17:18,  8.75s/it]"
     ]
    },
    {
     "name": "stdout",
     "output_type": "stream",
     "text": [
      "Extracted content from https://www.seattleu.edu/directory/profiles/charles-houle.php and saved to JSON.\n"
     ]
    },
    {
     "name": "stderr",
     "output_type": "stream",
     "text": [
      " 26%|██▋       | 1675/6321 [47:46<11:50:14,  9.17s/it]"
     ]
    },
    {
     "name": "stdout",
     "output_type": "stream",
     "text": [
      "Extracted content from https://www.seattleu.edu/directory/profiles/charles-johnson.php and saved to JSON.\n"
     ]
    },
    {
     "name": "stderr",
     "output_type": "stream",
     "text": [
      " 27%|██▋       | 1676/6321 [47:57<12:15:40,  9.50s/it]"
     ]
    },
    {
     "name": "stdout",
     "output_type": "stream",
     "text": [
      "Extracted content from https://www.seattleu.edu/directory/profiles/charles-lawrence-phd.php and saved to JSON.\n"
     ]
    },
    {
     "name": "stderr",
     "output_type": "stream",
     "text": [
      " 27%|██▋       | 1677/6321 [48:07<12:30:24,  9.70s/it]"
     ]
    },
    {
     "name": "stdout",
     "output_type": "stream",
     "text": [
      "Extracted content from https://www.seattleu.edu/directory/profiles/charles-okelley.php and saved to JSON.\n"
     ]
    },
    {
     "name": "stderr",
     "output_type": "stream",
     "text": [
      " 27%|██▋       | 1678/6321 [48:17<12:40:57,  9.83s/it]"
     ]
    },
    {
     "name": "stdout",
     "output_type": "stream",
     "text": [
      "Extracted content from https://www.seattleu.edu/directory/profiles/charles-roxin.php and saved to JSON.\n"
     ]
    },
    {
     "name": "stderr",
     "output_type": "stream",
     "text": [
      " 27%|██▋       | 1679/6321 [48:27<12:48:43,  9.94s/it]"
     ]
    },
    {
     "name": "stdout",
     "output_type": "stream",
     "text": [
      "Extracted content from https://www.seattleu.edu/directory/profiles/charles-r-harmon.php and saved to JSON.\n"
     ]
    },
    {
     "name": "stderr",
     "output_type": "stream",
     "text": [
      " 27%|██▋       | 1680/6321 [48:37<12:54:18, 10.01s/it]"
     ]
    },
    {
     "name": "stdout",
     "output_type": "stream",
     "text": [
      "Extracted content from https://www.seattleu.edu/directory/profiles/charline-fox.php and saved to JSON.\n"
     ]
    },
    {
     "name": "stderr",
     "output_type": "stream",
     "text": [
      " 27%|██▋       | 1681/6321 [48:48<13:00:58, 10.10s/it]"
     ]
    },
    {
     "name": "stdout",
     "output_type": "stream",
     "text": [
      "Extracted content from https://www.seattleu.edu/directory/profiles/charlotte-anderson.php and saved to JSON.\n"
     ]
    },
    {
     "name": "stderr",
     "output_type": "stream",
     "text": [
      " 27%|██▋       | 1682/6321 [48:58<13:02:21, 10.12s/it]"
     ]
    },
    {
     "name": "stdout",
     "output_type": "stream",
     "text": [
      "Extracted content from https://www.seattleu.edu/directory/profiles/charlotte-low.php and saved to JSON.\n"
     ]
    },
    {
     "name": "stderr",
     "output_type": "stream",
     "text": [
      " 27%|██▋       | 1683/6321 [49:08<13:03:03, 10.13s/it]"
     ]
    },
    {
     "name": "stdout",
     "output_type": "stream",
     "text": [
      "Extracted content from https://www.seattleu.edu/directory/profiles/chelsea-lien.php and saved to JSON.\n"
     ]
    },
    {
     "name": "stderr",
     "output_type": "stream",
     "text": [
      " 27%|██▋       | 1684/6321 [49:18<13:03:52, 10.14s/it]"
     ]
    },
    {
     "name": "stdout",
     "output_type": "stream",
     "text": [
      "Extracted content from https://www.seattleu.edu/directory/profiles/chelsey-thomas.php and saved to JSON.\n"
     ]
    },
    {
     "name": "stderr",
     "output_type": "stream",
     "text": [
      " 27%|██▋       | 1685/6321 [49:28<13:03:18, 10.14s/it]"
     ]
    },
    {
     "name": "stdout",
     "output_type": "stream",
     "text": [
      "Extracted content from https://www.seattleu.edu/directory/profiles/chengxin-xu-phd.php and saved to JSON.\n"
     ]
    },
    {
     "name": "stderr",
     "output_type": "stream",
     "text": [
      " 27%|██▋       | 1686/6321 [49:38<13:03:34, 10.14s/it]"
     ]
    },
    {
     "name": "stdout",
     "output_type": "stream",
     "text": [
      "Extracted content from https://www.seattleu.edu/directory/profiles/cher-edwards-phd-lmhc.php and saved to JSON.\n"
     ]
    },
    {
     "name": "stderr",
     "output_type": "stream",
     "text": [
      " 27%|██▋       | 1687/6321 [49:48<13:03:39, 10.15s/it]"
     ]
    },
    {
     "name": "stdout",
     "output_type": "stream",
     "text": [
      "Extracted content from https://www.seattleu.edu/directory/profiles/cheryl-phillips.php and saved to JSON.\n"
     ]
    },
    {
     "name": "stderr",
     "output_type": "stream",
     "text": [
      " 27%|██▋       | 1688/6321 [49:59<13:03:33, 10.15s/it]"
     ]
    },
    {
     "name": "stdout",
     "output_type": "stream",
     "text": [
      "Extracted content from https://www.seattleu.edu/directory/profiles/cheryl-wotus-phd.php and saved to JSON.\n"
     ]
    },
    {
     "name": "stderr",
     "output_type": "stream",
     "text": [
      " 27%|██▋       | 1689/6321 [50:09<13:07:22, 10.20s/it]"
     ]
    },
    {
     "name": "stdout",
     "output_type": "stream",
     "text": [
      "Extracted content from https://www.seattleu.edu/directory/profiles/chi-thi-pham.php and saved to JSON.\n"
     ]
    },
    {
     "name": "stderr",
     "output_type": "stream",
     "text": [
      " 27%|██▋       | 1690/6321 [50:19<13:05:52, 10.18s/it]"
     ]
    },
    {
     "name": "stdout",
     "output_type": "stream",
     "text": [
      "Extracted content from https://www.seattleu.edu/directory/profiles/bonnie-wang-msw.php and saved to JSON.\n"
     ]
    },
    {
     "name": "stderr",
     "output_type": "stream",
     "text": [
      " 27%|██▋       | 1691/6321 [50:29<13:05:47, 10.18s/it]"
     ]
    },
    {
     "name": "stdout",
     "output_type": "stream",
     "text": [
      "Extracted content from https://www.seattleu.edu/directory/profiles/chloe-diamond.php and saved to JSON.\n"
     ]
    },
    {
     "name": "stderr",
     "output_type": "stream",
     "text": [
      " 27%|██▋       | 1692/6321 [50:39<13:05:06, 10.18s/it]"
     ]
    },
    {
     "name": "stdout",
     "output_type": "stream",
     "text": [
      "Extracted content from https://www.seattleu.edu/directory/profiles/chloe-kimiai.php and saved to JSON.\n"
     ]
    },
    {
     "name": "stderr",
     "output_type": "stream",
     "text": [
      " 27%|██▋       | 1693/6321 [50:50<13:08:49, 10.23s/it]"
     ]
    },
    {
     "name": "stdout",
     "output_type": "stream",
     "text": [
      "Extracted content from https://www.seattleu.edu/directory/profiles/chris-anderson.php and saved to JSON.\n"
     ]
    },
    {
     "name": "stderr",
     "output_type": "stream",
     "text": [
      " 27%|██▋       | 1694/6321 [51:00<13:07:06, 10.21s/it]"
     ]
    },
    {
     "name": "stdout",
     "output_type": "stream",
     "text": [
      "Extracted content from https://www.seattleu.edu/directory/profiles/christopher-granatino.php and saved to JSON.\n"
     ]
    },
    {
     "name": "stderr",
     "output_type": "stream",
     "text": [
      " 27%|██▋       | 1695/6321 [51:10<13:06:16, 10.20s/it]"
     ]
    },
    {
     "name": "stdout",
     "output_type": "stream",
     "text": [
      "Extracted content from https://www.seattleu.edu/directory/profiles/chris-jacobs.php and saved to JSON.\n"
     ]
    },
    {
     "name": "stderr",
     "output_type": "stream",
     "text": [
      " 27%|██▋       | 1696/6321 [51:20<13:05:37, 10.19s/it]"
     ]
    },
    {
     "name": "stdout",
     "output_type": "stream",
     "text": [
      "Extracted content from https://www.seattleu.edu/directory/profiles/chris-kornelis.php and saved to JSON.\n"
     ]
    },
    {
     "name": "stderr",
     "output_type": "stream",
     "text": [
      " 27%|██▋       | 1697/6321 [51:31<13:07:17, 10.22s/it]"
     ]
    },
    {
     "name": "stdout",
     "output_type": "stream",
     "text": [
      "Extracted content from https://www.seattleu.edu/directory/profiles/chris-lindsey.php and saved to JSON.\n"
     ]
    },
    {
     "name": "stderr",
     "output_type": "stream",
     "text": [
      " 27%|██▋       | 1698/6321 [51:41<13:06:23, 10.21s/it]"
     ]
    },
    {
     "name": "stdout",
     "output_type": "stream",
     "text": [
      "Extracted content from https://www.seattleu.edu/directory/profiles/chris-varney-phd.php and saved to JSON.\n"
     ]
    },
    {
     "name": "stderr",
     "output_type": "stream",
     "text": [
      " 27%|██▋       | 1699/6321 [51:51<13:05:51, 10.20s/it]"
     ]
    },
    {
     "name": "stdout",
     "output_type": "stream",
     "text": [
      "Extracted content from https://www.seattleu.edu/directory/profiles/chris-wilcoxen.php and saved to JSON.\n"
     ]
    },
    {
     "name": "stderr",
     "output_type": "stream",
     "text": [
      " 27%|██▋       | 1700/6321 [52:02<13:17:30, 10.36s/it]"
     ]
    },
    {
     "name": "stdout",
     "output_type": "stream",
     "text": [
      "Extracted content from https://www.seattleu.edu/directory/profiles/christa-ross-msn-whnp-bc.php and saved to JSON.\n"
     ]
    },
    {
     "name": "stderr",
     "output_type": "stream",
     "text": [
      " 27%|██▋       | 1701/6321 [52:12<13:12:45, 10.30s/it]"
     ]
    },
    {
     "name": "stdout",
     "output_type": "stream",
     "text": [
      "Extracted content from https://www.seattleu.edu/directory/profiles/christian-halliburton.php and saved to JSON.\n"
     ]
    },
    {
     "name": "stderr",
     "output_type": "stream",
     "text": [
      " 27%|██▋       | 1702/6321 [52:22<13:09:36, 10.26s/it]"
     ]
    },
    {
     "name": "stdout",
     "output_type": "stream",
     "text": [
      "Extracted content from https://www.seattleu.edu/directory/profiles/christian-kennedy.php and saved to JSON.\n"
     ]
    },
    {
     "name": "stderr",
     "output_type": "stream",
     "text": [
      " 27%|██▋       | 1703/6321 [52:32<13:07:04, 10.23s/it]"
     ]
    },
    {
     "name": "stdout",
     "output_type": "stream",
     "text": [
      "Extracted content from https://www.seattleu.edu/directory/profiles/christian-russell.php and saved to JSON.\n"
     ]
    },
    {
     "name": "stderr",
     "output_type": "stream",
     "text": [
      " 27%|██▋       | 1704/6321 [52:43<13:14:51, 10.33s/it]"
     ]
    },
    {
     "name": "stdout",
     "output_type": "stream",
     "text": [
      "Extracted content from https://www.seattleu.edu/directory/profiles/christie-cotterill.php and saved to JSON.\n"
     ]
    },
    {
     "name": "stderr",
     "output_type": "stream",
     "text": [
      " 27%|██▋       | 1705/6321 [52:53<13:13:51, 10.32s/it]"
     ]
    },
    {
     "name": "stdout",
     "output_type": "stream",
     "text": [
      "Extracted content from https://www.seattleu.edu/directory/profiles/christie-eppler-phd-lmft.php and saved to JSON.\n"
     ]
    },
    {
     "name": "stderr",
     "output_type": "stream",
     "text": [
      " 27%|██▋       | 1706/6321 [53:03<13:10:06, 10.27s/it]"
     ]
    },
    {
     "name": "stdout",
     "output_type": "stream",
     "text": [
      "Extracted content from https://www.seattleu.edu/directory/profiles/christie-lynk-ma-lmhc.php and saved to JSON.\n"
     ]
    },
    {
     "name": "stderr",
     "output_type": "stream",
     "text": [
      " 27%|██▋       | 1708/6321 [53:14<9:16:45,  7.24s/it] "
     ]
    },
    {
     "name": "stdout",
     "output_type": "stream",
     "text": [
      "Error processing https:www.seattleu.edu/directory/profiles/christina-cantwell.php: HTTP Error 404: Not Found\n",
      "Extracted content from https://www.seattleu.edu/directory/profiles/christina-de-senouillet.php and saved to JSON.\n"
     ]
    },
    {
     "name": "stderr",
     "output_type": "stream",
     "text": [
      " 27%|██▋       | 1709/6321 [53:24<10:24:01,  8.12s/it]"
     ]
    },
    {
     "name": "stdout",
     "output_type": "stream",
     "text": [
      "Extracted content from https://www.seattleu.edu/directory/profiles/christina-friedlaender-phd.php and saved to JSON.\n"
     ]
    },
    {
     "name": "stderr",
     "output_type": "stream",
     "text": [
      " 27%|██▋       | 1710/6321 [53:34<11:11:01,  8.73s/it]"
     ]
    },
    {
     "name": "stdout",
     "output_type": "stream",
     "text": [
      "Extracted content from https://www.seattleu.edu/directory/profiles/christina-popchoi-bs-rdms-rvt.php and saved to JSON.\n"
     ]
    },
    {
     "name": "stderr",
     "output_type": "stream",
     "text": [
      " 27%|██▋       | 1711/6321 [53:44<11:43:39,  9.16s/it]"
     ]
    },
    {
     "name": "stdout",
     "output_type": "stream",
     "text": [
      "Extracted content from https://www.seattleu.edu/directory/profiles/christina-roberts-phd.php and saved to JSON.\n"
     ]
    },
    {
     "name": "stderr",
     "output_type": "stream",
     "text": [
      " 27%|██▋       | 1713/6321 [53:54<8:33:55,  6.69s/it] "
     ]
    },
    {
     "name": "stdout",
     "output_type": "stream",
     "text": [
      "Error processing https:www.seattleu.edu/directory/profiles/christine-aquino-delos-reyes-mn-rn-cpn.php: HTTP Error 404: Not Found\n",
      "Extracted content from https://www.seattleu.edu/directory/profiles/christine-campbell.php and saved to JSON.\n"
     ]
    },
    {
     "name": "stderr",
     "output_type": "stream",
     "text": [
      " 27%|██▋       | 1714/6321 [54:05<9:53:22,  7.73s/it]"
     ]
    },
    {
     "name": "stdout",
     "output_type": "stream",
     "text": [
      "Extracted content from https://www.seattleu.edu/directory/profiles/christine-cole-phd.php and saved to JSON.\n"
     ]
    },
    {
     "name": "stderr",
     "output_type": "stream",
     "text": [
      " 27%|██▋       | 1715/6321 [54:15<10:53:39,  8.51s/it]"
     ]
    },
    {
     "name": "stdout",
     "output_type": "stream",
     "text": [
      "Extracted content from https://www.seattleu.edu/directory/profiles/christopher-casillas.php and saved to JSON.\n"
     ]
    },
    {
     "name": "stderr",
     "output_type": "stream",
     "text": [
      " 27%|██▋       | 1716/6321 [54:25<11:31:07,  9.00s/it]"
     ]
    },
    {
     "name": "stdout",
     "output_type": "stream",
     "text": [
      "Extracted content from https://www.seattleu.edu/directory/profiles/christopher-a-paul-phd.php and saved to JSON.\n"
     ]
    },
    {
     "name": "stderr",
     "output_type": "stream",
     "text": [
      " 27%|██▋       | 1717/6321 [54:35<11:57:18,  9.35s/it]"
     ]
    },
    {
     "name": "stdout",
     "output_type": "stream",
     "text": [
      "Extracted content from https://www.seattleu.edu/directory/profiles/christopher-strople.php and saved to JSON.\n"
     ]
    },
    {
     "name": "stderr",
     "output_type": "stream",
     "text": [
      " 27%|██▋       | 1718/6321 [54:45<12:15:58,  9.59s/it]"
     ]
    },
    {
     "name": "stdout",
     "output_type": "stream",
     "text": [
      "Extracted content from https://www.seattleu.edu/directory/profiles/christopher-victor.php and saved to JSON.\n"
     ]
    },
    {
     "name": "stderr",
     "output_type": "stream",
     "text": [
      " 27%|██▋       | 1719/6321 [54:56<12:29:13,  9.77s/it]"
     ]
    },
    {
     "name": "stdout",
     "output_type": "stream",
     "text": [
      "Extracted content from https://www.seattleu.edu/directory/profiles/christopher-wells.php and saved to JSON.\n"
     ]
    },
    {
     "name": "stderr",
     "output_type": "stream",
     "text": [
      " 27%|██▋       | 1720/6321 [55:06<12:38:08,  9.89s/it]"
     ]
    },
    {
     "name": "stdout",
     "output_type": "stream",
     "text": [
      "Extracted content from https://www.seattleu.edu/directory/profiles/chryssa-deliganis.php and saved to JSON.\n"
     ]
    },
    {
     "name": "stderr",
     "output_type": "stream",
     "text": [
      " 27%|██▋       | 1721/6321 [55:16<12:44:28,  9.97s/it]"
     ]
    },
    {
     "name": "stdout",
     "output_type": "stream",
     "text": [
      "Extracted content from https://www.seattleu.edu/directory/profiles/chuck-nerger.php and saved to JSON.\n"
     ]
    },
    {
     "name": "stderr",
     "output_type": "stream",
     "text": [
      " 27%|██▋       | 1722/6321 [55:26<12:48:45, 10.03s/it]"
     ]
    },
    {
     "name": "stdout",
     "output_type": "stream",
     "text": [
      "Extracted content from https://www.seattleu.edu/directory/profiles/chun-choi.php and saved to JSON.\n"
     ]
    },
    {
     "name": "stderr",
     "output_type": "stream",
     "text": [
      " 27%|██▋       | 1723/6321 [55:36<12:53:26, 10.09s/it]"
     ]
    },
    {
     "name": "stdout",
     "output_type": "stream",
     "text": [
      "Extracted content from https://www.seattleu.edu/directory/profiles/chun-lau.php and saved to JSON.\n"
     ]
    },
    {
     "name": "stderr",
     "output_type": "stream",
     "text": [
      " 27%|██▋       | 1724/6321 [55:46<12:54:26, 10.11s/it]"
     ]
    },
    {
     "name": "stdout",
     "output_type": "stream",
     "text": [
      "Extracted content from https://www.seattleu.edu/directory/profiles/chynah-thomas-ba.php and saved to JSON.\n"
     ]
    },
    {
     "name": "stderr",
     "output_type": "stream",
     "text": [
      " 27%|██▋       | 1725/6321 [55:57<12:59:37, 10.18s/it]"
     ]
    },
    {
     "name": "stdout",
     "output_type": "stream",
     "text": [
      "Extracted content from https://www.seattleu.edu/directory/profiles/cinda-johnson-edd.php and saved to JSON.\n"
     ]
    },
    {
     "name": "stderr",
     "output_type": "stream",
     "text": [
      " 27%|██▋       | 1726/6321 [56:07<13:00:03, 10.19s/it]"
     ]
    },
    {
     "name": "stdout",
     "output_type": "stream",
     "text": [
      "Extracted content from https://www.seattleu.edu/directory/profiles/claire-baumgardner.php and saved to JSON.\n"
     ]
    },
    {
     "name": "stderr",
     "output_type": "stream",
     "text": [
      " 27%|██▋       | 1727/6321 [56:17<13:00:55, 10.20s/it]"
     ]
    },
    {
     "name": "stdout",
     "output_type": "stream",
     "text": [
      "Extracted content from https://www.seattleu.edu/directory/profiles/claire-garoutte.php and saved to JSON.\n"
     ]
    },
    {
     "name": "stderr",
     "output_type": "stream",
     "text": [
      " 27%|██▋       | 1728/6321 [56:27<13:00:19, 10.19s/it]"
     ]
    },
    {
     "name": "stdout",
     "output_type": "stream",
     "text": [
      "Extracted content from https://www.seattleu.edu/directory/profiles/claire-steele-lebeau-phd.php and saved to JSON.\n"
     ]
    },
    {
     "name": "stderr",
     "output_type": "stream",
     "text": [
      " 27%|██▋       | 1729/6321 [56:38<12:59:31, 10.19s/it]"
     ]
    },
    {
     "name": "stdout",
     "output_type": "stream",
     "text": [
      "Extracted content from https://www.seattleu.edu/directory/profiles/claudia-bach-ma.php and saved to JSON.\n"
     ]
    },
    {
     "name": "stderr",
     "output_type": "stream",
     "text": [
      " 27%|██▋       | 1730/6321 [56:48<12:58:40, 10.18s/it]"
     ]
    },
    {
     "name": "stdout",
     "output_type": "stream",
     "text": [
      "Extracted content from https://www.seattleu.edu/directory/profiles/claudia-castro-luna.php and saved to JSON.\n"
     ]
    },
    {
     "name": "stderr",
     "output_type": "stream",
     "text": [
      " 27%|██▋       | 1731/6321 [56:58<12:58:11, 10.17s/it]"
     ]
    },
    {
     "name": "stdout",
     "output_type": "stream",
     "text": [
      "Extracted content from https://www.seattleu.edu/directory/profiles/claudia-reed-dnp-msn-bsn.php and saved to JSON.\n"
     ]
    },
    {
     "name": "stderr",
     "output_type": "stream",
     "text": [
      " 27%|██▋       | 1732/6321 [57:08<12:58:27, 10.18s/it]"
     ]
    },
    {
     "name": "stdout",
     "output_type": "stream",
     "text": [
      "Extracted content from https://www.seattleu.edu/directory/profiles/claus-c-portner-phd.php and saved to JSON.\n"
     ]
    },
    {
     "name": "stderr",
     "output_type": "stream",
     "text": [
      " 27%|██▋       | 1734/6321 [57:19<9:10:53,  7.21s/it] "
     ]
    },
    {
     "name": "stdout",
     "output_type": "stream",
     "text": [
      "Error processing https:www.seattleu.edu/directory/profiles/clay-wilson.php: HTTP Error 404: Not Found\n",
      "Extracted content from https://www.seattleu.edu/directory/profiles/clint-dicus.php and saved to JSON.\n"
     ]
    },
    {
     "name": "stderr",
     "output_type": "stream",
     "text": [
      " 27%|██▋       | 1735/6321 [57:29<10:18:24,  8.09s/it]"
     ]
    },
    {
     "name": "stdout",
     "output_type": "stream",
     "text": [
      "Extracted content from https://www.seattleu.edu/directory/profiles/clinton-mcnair.php and saved to JSON.\n"
     ]
    },
    {
     "name": "stderr",
     "output_type": "stream",
     "text": [
      " 27%|██▋       | 1736/6321 [57:39<11:05:56,  8.71s/it]"
     ]
    },
    {
     "name": "stdout",
     "output_type": "stream",
     "text": [
      "Extracted content from https://www.seattleu.edu/directory/profiles/cody-ryckman.php and saved to JSON.\n"
     ]
    },
    {
     "name": "stderr",
     "output_type": "stream",
     "text": [
      " 27%|██▋       | 1737/6321 [57:49<11:39:54,  9.16s/it]"
     ]
    },
    {
     "name": "stdout",
     "output_type": "stream",
     "text": [
      "Extracted content from https://www.seattleu.edu/directory/profiles/colette-boeker.php and saved to JSON.\n"
     ]
    },
    {
     "name": "stderr",
     "output_type": "stream",
     "text": [
      " 27%|██▋       | 1738/6321 [57:59<12:03:05,  9.47s/it]"
     ]
    },
    {
     "name": "stdout",
     "output_type": "stream",
     "text": [
      "Extracted content from https://www.seattleu.edu/directory/profiles/colette-hoption-phd.php and saved to JSON.\n"
     ]
    },
    {
     "name": "stderr",
     "output_type": "stream",
     "text": [
      " 28%|██▊       | 1739/6321 [58:09<12:18:26,  9.67s/it]"
     ]
    },
    {
     "name": "stdout",
     "output_type": "stream",
     "text": [
      "Extracted content from https://www.seattleu.edu/directory/profiles/colette-taylor-edd.php and saved to JSON.\n"
     ]
    },
    {
     "name": "stderr",
     "output_type": "stream",
     "text": [
      " 28%|██▊       | 1740/6321 [58:20<12:29:30,  9.82s/it]"
     ]
    },
    {
     "name": "stdout",
     "output_type": "stream",
     "text": [
      "Extracted content from https://www.seattleu.edu/directory/profiles/colette-tvedt.php and saved to JSON.\n"
     ]
    },
    {
     "name": "stderr",
     "output_type": "stream",
     "text": [
      " 28%|██▊       | 1741/6321 [58:30<12:37:46,  9.93s/it]"
     ]
    },
    {
     "name": "stdout",
     "output_type": "stream",
     "text": [
      "Extracted content from https://www.seattleu.edu/directory/profiles/colin-lopez-phd.php and saved to JSON.\n"
     ]
    },
    {
     "name": "stderr",
     "output_type": "stream",
     "text": [
      " 28%|██▊       | 1742/6321 [58:40<12:46:11, 10.04s/it]"
     ]
    },
    {
     "name": "stdout",
     "output_type": "stream",
     "text": [
      "Extracted content from https://www.seattleu.edu/directory/profiles/colin-rardin.php and saved to JSON.\n"
     ]
    },
    {
     "name": "stderr",
     "output_type": "stream",
     "text": [
      " 28%|██▊       | 1743/6321 [58:50<12:50:06, 10.09s/it]"
     ]
    },
    {
     "name": "stdout",
     "output_type": "stream",
     "text": [
      "Extracted content from https://www.seattleu.edu/directory/profiles/colin-watrin.php and saved to JSON.\n"
     ]
    },
    {
     "name": "stderr",
     "output_type": "stream",
     "text": [
      " 28%|██▊       | 1744/6321 [59:00<12:51:32, 10.11s/it]"
     ]
    },
    {
     "name": "stdout",
     "output_type": "stream",
     "text": [
      "Extracted content from https://www.seattleu.edu/directory/profiles/colleen-fettig.php and saved to JSON.\n"
     ]
    },
    {
     "name": "stderr",
     "output_type": "stream",
     "text": [
      " 28%|██▊       | 1745/6321 [59:11<12:52:41, 10.13s/it]"
     ]
    },
    {
     "name": "stdout",
     "output_type": "stream",
     "text": [
      "Extracted content from https://www.seattleu.edu/directory/profiles/colleen-k-hunter.php and saved to JSON.\n"
     ]
    },
    {
     "name": "stderr",
     "output_type": "stream",
     "text": [
      " 28%|██▊       | 1746/6321 [59:21<12:52:43, 10.13s/it]"
     ]
    },
    {
     "name": "stdout",
     "output_type": "stream",
     "text": [
      "Extracted content from https://www.seattleu.edu/directory/profiles/colleen-loranger-med.php and saved to JSON.\n"
     ]
    },
    {
     "name": "stderr",
     "output_type": "stream",
     "text": [
      " 28%|██▊       | 1747/6321 [59:31<12:53:07, 10.14s/it]"
     ]
    },
    {
     "name": "stdout",
     "output_type": "stream",
     "text": [
      "Extracted content from https://www.seattleu.edu/directory/profiles/colleen-montoya.php and saved to JSON.\n"
     ]
    },
    {
     "name": "stderr",
     "output_type": "stream",
     "text": [
      " 28%|██▊       | 1748/6321 [59:41<12:53:44, 10.15s/it]"
     ]
    },
    {
     "name": "stdout",
     "output_type": "stream",
     "text": [
      "Extracted content from https://www.seattleu.edu/directory/profiles/dr-colleen-woolsey-phd-arnp.php and saved to JSON.\n"
     ]
    },
    {
     "name": "stderr",
     "output_type": "stream",
     "text": [
      " 28%|██▊       | 1749/6321 [59:51<12:53:47, 10.15s/it]"
     ]
    },
    {
     "name": "stdout",
     "output_type": "stream",
     "text": [
      "Extracted content from https://www.seattleu.edu/directory/profiles/connie-g-anthony-phd.php and saved to JSON.\n"
     ]
    },
    {
     "name": "stderr",
     "output_type": "stream",
     "text": [
      " 28%|██▊       | 1750/6321 [1:00:02<12:56:28, 10.19s/it]"
     ]
    },
    {
     "name": "stdout",
     "output_type": "stream",
     "text": [
      "Extracted content from https://www.seattleu.edu/directory/profiles/connie-hayes.php and saved to JSON.\n"
     ]
    },
    {
     "name": "stderr",
     "output_type": "stream",
     "text": [
      " 28%|██▊       | 1751/6321 [1:00:12<12:55:38, 10.18s/it]"
     ]
    },
    {
     "name": "stdout",
     "output_type": "stream",
     "text": [
      "Extracted content from https://www.seattleu.edu/directory/profiles/connor-smith-maed.php and saved to JSON.\n"
     ]
    },
    {
     "name": "stderr",
     "output_type": "stream",
     "text": [
      " 28%|██▊       | 1752/6321 [1:00:22<12:55:03, 10.18s/it]"
     ]
    },
    {
     "name": "stdout",
     "output_type": "stream",
     "text": [
      "Extracted content from https://www.seattleu.edu/directory/profiles/constance-krontz.php and saved to JSON.\n"
     ]
    },
    {
     "name": "stderr",
     "output_type": "stream",
     "text": [
      " 28%|██▊       | 1753/6321 [1:00:32<12:54:43, 10.18s/it]"
     ]
    },
    {
     "name": "stdout",
     "output_type": "stream",
     "text": [
      "Extracted content from https://www.seattleu.edu/directory/profiles/corey-belser.php and saved to JSON.\n"
     ]
    },
    {
     "name": "stderr",
     "output_type": "stream",
     "text": [
      " 28%|██▊       | 1754/6321 [1:00:42<12:54:17, 10.17s/it]"
     ]
    },
    {
     "name": "stdout",
     "output_type": "stream",
     "text": [
      "Extracted content from https://www.seattleu.edu/directory/profiles/cory-heitman.php and saved to JSON.\n"
     ]
    },
    {
     "name": "stderr",
     "output_type": "stream",
     "text": [
      " 28%|██▊       | 1755/6321 [1:00:52<12:54:46, 10.18s/it]"
     ]
    },
    {
     "name": "stdout",
     "output_type": "stream",
     "text": [
      "Extracted content from https://www.seattleu.edu/directory/profiles/cotina-taylor.php and saved to JSON.\n"
     ]
    },
    {
     "name": "stderr",
     "output_type": "stream",
     "text": [
      " 28%|██▊       | 1756/6321 [1:01:03<12:54:31, 10.18s/it]"
     ]
    },
    {
     "name": "stdout",
     "output_type": "stream",
     "text": [
      "Extracted content from https://www.seattleu.edu/directory/profiles/courtney-r-boddie-phd-lcpc-lpc-ncc.php and saved to JSON.\n"
     ]
    },
    {
     "name": "stderr",
     "output_type": "stream",
     "text": [
      " 28%|██▊       | 1757/6321 [1:01:13<12:54:40, 10.18s/it]"
     ]
    },
    {
     "name": "stdout",
     "output_type": "stream",
     "text": [
      "Extracted content from https://www.seattleu.edu/directory/profiles/courtney-foss-dnp-aprn-fnp-c.php and saved to JSON.\n"
     ]
    },
    {
     "name": "stderr",
     "output_type": "stream",
     "text": [
      " 28%|██▊       | 1758/6321 [1:01:23<12:59:29, 10.25s/it]"
     ]
    },
    {
     "name": "stdout",
     "output_type": "stream",
     "text": [
      "Extracted content from https://www.seattleu.edu/directory/profiles/courtney-ocatherine.php and saved to JSON.\n"
     ]
    },
    {
     "name": "stderr",
     "output_type": "stream",
     "text": [
      " 28%|██▊       | 1759/6321 [1:01:33<12:57:11, 10.22s/it]"
     ]
    },
    {
     "name": "stdout",
     "output_type": "stream",
     "text": [
      "Extracted content from https://www.seattleu.edu/directory/profiles/courtney-pucci-babcock-mn-rn.php and saved to JSON.\n"
     ]
    },
    {
     "name": "stderr",
     "output_type": "stream",
     "text": [
      " 28%|██▊       | 1760/6321 [1:01:43<12:55:47, 10.21s/it]"
     ]
    },
    {
     "name": "stdout",
     "output_type": "stream",
     "text": [
      "Extracted content from https://www.seattleu.edu/directory/profiles/craig-downing-ms.php and saved to JSON.\n"
     ]
    },
    {
     "name": "stderr",
     "output_type": "stream",
     "text": [
      " 28%|██▊       | 1761/6321 [1:01:54<12:56:08, 10.21s/it]"
     ]
    },
    {
     "name": "stdout",
     "output_type": "stream",
     "text": [
      "Extracted content from https://www.seattleu.edu/directory/profiles/craig-elkins.php and saved to JSON.\n"
     ]
    },
    {
     "name": "stderr",
     "output_type": "stream",
     "text": [
      " 28%|██▊       | 1762/6321 [1:02:04<12:55:23, 10.20s/it]"
     ]
    },
    {
     "name": "stdout",
     "output_type": "stream",
     "text": [
      "Extracted content from https://www.seattleu.edu/directory/profiles/craig-huber.php and saved to JSON.\n"
     ]
    },
    {
     "name": "stderr",
     "output_type": "stream",
     "text": [
      " 28%|██▊       | 1763/6321 [1:02:14<12:54:03, 10.19s/it]"
     ]
    },
    {
     "name": "stdout",
     "output_type": "stream",
     "text": [
      "Extracted content from https://www.seattleu.edu/directory/profiles/curt-malloy-jd-mph.php and saved to JSON.\n"
     ]
    },
    {
     "name": "stderr",
     "output_type": "stream",
     "text": [
      " 28%|██▊       | 1764/6321 [1:02:24<12:53:57, 10.19s/it]"
     ]
    },
    {
     "name": "stdout",
     "output_type": "stream",
     "text": [
      "Extracted content from https://www.seattleu.edu/directory/profiles/cynthia-buhr.php and saved to JSON.\n"
     ]
    },
    {
     "name": "stderr",
     "output_type": "stream",
     "text": [
      " 28%|██▊       | 1765/6321 [1:02:34<12:53:14, 10.18s/it]"
     ]
    },
    {
     "name": "stdout",
     "output_type": "stream",
     "text": [
      "Extracted content from https://www.seattleu.edu/directory/profiles/cynthia-jones.php and saved to JSON.\n"
     ]
    },
    {
     "name": "stderr",
     "output_type": "stream",
     "text": [
      " 28%|██▊       | 1766/6321 [1:02:45<12:55:53, 10.22s/it]"
     ]
    },
    {
     "name": "stdout",
     "output_type": "stream",
     "text": [
      "Extracted content from https://www.seattleu.edu/directory/profiles/cynthia-tackett.php and saved to JSON.\n"
     ]
    },
    {
     "name": "stderr",
     "output_type": "stream",
     "text": [
      " 28%|██▊       | 1767/6321 [1:02:55<12:54:34, 10.21s/it]"
     ]
    },
    {
     "name": "stdout",
     "output_type": "stream",
     "text": [
      "Extracted content from https://www.seattleu.edu/directory/profiles/daisy-s-garcia-phd-rn.php and saved to JSON.\n"
     ]
    },
    {
     "name": "stderr",
     "output_type": "stream",
     "text": [
      " 28%|██▊       | 1768/6321 [1:03:05<12:53:05, 10.19s/it]"
     ]
    },
    {
     "name": "stdout",
     "output_type": "stream",
     "text": [
      "Extracted content from https://www.seattleu.edu/directory/profiles/daisy-wang.php and saved to JSON.\n"
     ]
    },
    {
     "name": "stderr",
     "output_type": "stream",
     "text": [
      " 28%|██▊       | 1770/6321 [1:03:15<9:05:40,  7.19s/it] "
     ]
    },
    {
     "name": "stdout",
     "output_type": "stream",
     "text": [
      "Error processing https:www.seattleu.edu/directory/profiles/dale-nash.php: HTTP Error 404: Not Found\n",
      "Extracted content from https://www.seattleu.edu/directory/profiles/dale-watanabe.php and saved to JSON.\n"
     ]
    },
    {
     "name": "stderr",
     "output_type": "stream",
     "text": [
      " 28%|██▊       | 1771/6321 [1:03:26<10:12:54,  8.08s/it]"
     ]
    },
    {
     "name": "stdout",
     "output_type": "stream",
     "text": [
      "Extracted content from https://www.seattleu.edu/directory/profiles/daniel-coren.php and saved to JSON.\n"
     ]
    },
    {
     "name": "stderr",
     "output_type": "stream",
     "text": [
      " 28%|██▊       | 1772/6321 [1:03:36<10:59:59,  8.71s/it]"
     ]
    },
    {
     "name": "stdout",
     "output_type": "stream",
     "text": [
      "Extracted content from https://www.seattleu.edu/directory/profiles/dana-frankenberg.php and saved to JSON.\n"
     ]
    },
    {
     "name": "stderr",
     "output_type": "stream",
     "text": [
      " 28%|██▊       | 1773/6321 [1:03:46<11:32:58,  9.14s/it]"
     ]
    },
    {
     "name": "stdout",
     "output_type": "stream",
     "text": [
      "Extracted content from https://www.seattleu.edu/directory/profiles/daniel-e-burnstein-phd.php and saved to JSON.\n"
     ]
    },
    {
     "name": "stderr",
     "output_type": "stream",
     "text": [
      " 28%|██▊       | 1774/6321 [1:03:56<11:55:39,  9.44s/it]"
     ]
    },
    {
     "name": "stdout",
     "output_type": "stream",
     "text": [
      "Extracted content from https://www.seattleu.edu/directory/profiles/daniel-cheever.php and saved to JSON.\n"
     ]
    },
    {
     "name": "stderr",
     "output_type": "stream",
     "text": [
      " 28%|██▊       | 1775/6321 [1:04:06<12:13:27,  9.68s/it]"
     ]
    },
    {
     "name": "stdout",
     "output_type": "stream",
     "text": [
      "Extracted content from https://www.seattleu.edu/directory/profiles/daniel-dombrowski-phd.php and saved to JSON.\n"
     ]
    },
    {
     "name": "stderr",
     "output_type": "stream",
     "text": [
      " 28%|██▊       | 1776/6321 [1:04:16<12:23:50,  9.82s/it]"
     ]
    },
    {
     "name": "stdout",
     "output_type": "stream",
     "text": [
      "Extracted content from https://www.seattleu.edu/directory/profiles/daniel-gross-msw.php and saved to JSON.\n"
     ]
    },
    {
     "name": "stderr",
     "output_type": "stream",
     "text": [
      " 28%|██▊       | 1777/6321 [1:04:27<12:31:29,  9.92s/it]"
     ]
    },
    {
     "name": "stdout",
     "output_type": "stream",
     "text": [
      "Extracted content from https://www.seattleu.edu/directory/profiles/daniel-kelley-petersen.php and saved to JSON.\n"
     ]
    },
    {
     "name": "stderr",
     "output_type": "stream",
     "text": [
      " 28%|██▊       | 1778/6321 [1:04:37<12:37:05, 10.00s/it]"
     ]
    },
    {
     "name": "stdout",
     "output_type": "stream",
     "text": [
      "Extracted content from https://www.seattleu.edu/directory/profiles/daniel-lee.php and saved to JSON.\n"
     ]
    },
    {
     "name": "stderr",
     "output_type": "stream",
     "text": [
      " 28%|██▊       | 1779/6321 [1:04:47<12:40:38, 10.05s/it]"
     ]
    },
    {
     "name": "stdout",
     "output_type": "stream",
     "text": [
      "Extracted content from https://www.seattleu.edu/directory/profiles/daniel-leotta-phd.php and saved to JSON.\n"
     ]
    },
    {
     "name": "stderr",
     "output_type": "stream",
     "text": [
      " 28%|██▊       | 1780/6321 [1:04:57<12:43:09, 10.08s/it]"
     ]
    },
    {
     "name": "stdout",
     "output_type": "stream",
     "text": [
      "Extracted content from https://www.seattleu.edu/directory/profiles/daniel-matlock.php and saved to JSON.\n"
     ]
    },
    {
     "name": "stderr",
     "output_type": "stream",
     "text": [
      " 28%|██▊       | 1781/6321 [1:05:07<12:44:38, 10.11s/it]"
     ]
    },
    {
     "name": "stdout",
     "output_type": "stream",
     "text": [
      "Extracted content from https://www.seattleu.edu/directory/profiles/daniel-smith-phd.php and saved to JSON.\n"
     ]
    },
    {
     "name": "stderr",
     "output_type": "stream",
     "text": [
      " 28%|██▊       | 1782/6321 [1:05:17<12:46:28, 10.13s/it]"
     ]
    },
    {
     "name": "stdout",
     "output_type": "stream",
     "text": [
      "Extracted content from https://www.seattleu.edu/directory/profiles/daniel-washburn-phd.php and saved to JSON.\n"
     ]
    },
    {
     "name": "stderr",
     "output_type": "stream",
     "text": [
      " 28%|██▊       | 1783/6321 [1:05:28<12:48:45, 10.16s/it]"
     ]
    },
    {
     "name": "stdout",
     "output_type": "stream",
     "text": [
      "Extracted content from https://www.seattleu.edu/directory/profiles/danielle-gohr.php and saved to JSON.\n"
     ]
    },
    {
     "name": "stderr",
     "output_type": "stream",
     "text": [
      " 28%|██▊       | 1785/6321 [1:05:38<9:02:07,  7.17s/it] "
     ]
    },
    {
     "name": "stdout",
     "output_type": "stream",
     "text": [
      "Error processing https:www.seattleu.edu/directory/profiles/danielle-kim.php: HTTP Error 404: Not Found\n",
      "Extracted content from https://www.seattleu.edu/directory/profiles/danielle-richmond.php and saved to JSON.\n"
     ]
    },
    {
     "name": "stderr",
     "output_type": "stream",
     "text": [
      " 28%|██▊       | 1786/6321 [1:05:48<10:09:08,  8.06s/it]"
     ]
    },
    {
     "name": "stdout",
     "output_type": "stream",
     "text": [
      "Extracted content from https://www.seattleu.edu/directory/profiles/danielle-vaughn.php and saved to JSON.\n"
     ]
    },
    {
     "name": "stderr",
     "output_type": "stream",
     "text": [
      " 28%|██▊       | 1787/6321 [1:05:58<10:56:40,  8.69s/it]"
     ]
    },
    {
     "name": "stdout",
     "output_type": "stream",
     "text": [
      "Extracted content from https://www.seattleu.edu/directory/profiles/danny-sales.php and saved to JSON.\n"
     ]
    },
    {
     "name": "stderr",
     "output_type": "stream",
     "text": [
      " 28%|██▊       | 1788/6321 [1:06:08<11:29:21,  9.12s/it]"
     ]
    },
    {
     "name": "stdout",
     "output_type": "stream",
     "text": [
      "Extracted content from https://www.seattleu.edu/directory/profiles/danuta-wojnar.php and saved to JSON.\n"
     ]
    },
    {
     "name": "stderr",
     "output_type": "stream",
     "text": [
      " 28%|██▊       | 1789/6321 [1:06:19<11:52:48,  9.44s/it]"
     ]
    },
    {
     "name": "stdout",
     "output_type": "stream",
     "text": [
      "Extracted content from https://www.seattleu.edu/directory/profiles/daphne-qian.php and saved to JSON.\n"
     ]
    },
    {
     "name": "stderr",
     "output_type": "stream",
     "text": [
      " 28%|██▊       | 1790/6321 [1:06:29<12:08:59,  9.65s/it]"
     ]
    },
    {
     "name": "stdout",
     "output_type": "stream",
     "text": [
      "Extracted content from https://www.seattleu.edu/directory/profiles/dario-ogaz.php and saved to JSON.\n"
     ]
    },
    {
     "name": "stderr",
     "output_type": "stream",
     "text": [
      " 28%|██▊       | 1791/6321 [1:06:39<12:20:33,  9.81s/it]"
     ]
    },
    {
     "name": "stdout",
     "output_type": "stream",
     "text": [
      "Extracted content from https://www.seattleu.edu/directory/profiles/darlene-orourke.php and saved to JSON.\n"
     ]
    },
    {
     "name": "stderr",
     "output_type": "stream",
     "text": [
      " 28%|██▊       | 1792/6321 [1:06:49<12:32:16,  9.97s/it]"
     ]
    },
    {
     "name": "stdout",
     "output_type": "stream",
     "text": [
      "Extracted content from https://www.seattleu.edu/directory/profiles/darozyl-touch.php and saved to JSON.\n"
     ]
    },
    {
     "name": "stderr",
     "output_type": "stream",
     "text": [
      " 28%|██▊       | 1794/6321 [1:07:00<8:53:49,  7.08s/it] "
     ]
    },
    {
     "name": "stdout",
     "output_type": "stream",
     "text": [
      "Error processing https:www.seattleu.edu/directory/profiles/darren-thompson.php: HTTP Error 404: Not Found\n",
      "Extracted content from https://www.seattleu.edu/directory/profiles/david-boerner.php and saved to JSON.\n"
     ]
    },
    {
     "name": "stderr",
     "output_type": "stream",
     "text": [
      " 28%|██▊       | 1795/6321 [1:07:10<10:03:26,  8.00s/it]"
     ]
    },
    {
     "name": "stdout",
     "output_type": "stream",
     "text": [
      "Extracted content from https://www.seattleu.edu/directory/profiles/david-boness-phd.php and saved to JSON.\n"
     ]
    },
    {
     "name": "stderr",
     "output_type": "stream",
     "text": [
      " 28%|██▊       | 1796/6321 [1:07:20<10:52:39,  8.65s/it]"
     ]
    },
    {
     "name": "stdout",
     "output_type": "stream",
     "text": [
      "Extracted content from https://www.seattleu.edu/directory/profiles/david-brown.php and saved to JSON.\n"
     ]
    },
    {
     "name": "stderr",
     "output_type": "stream",
     "text": [
      " 28%|██▊       | 1797/6321 [1:07:30<11:26:49,  9.11s/it]"
     ]
    },
    {
     "name": "stdout",
     "output_type": "stream",
     "text": [
      "Extracted content from https://www.seattleu.edu/directory/profiles/david-brubaker.php and saved to JSON.\n"
     ]
    },
    {
     "name": "stderr",
     "output_type": "stream",
     "text": [
      " 28%|██▊       | 1798/6321 [1:07:40<11:50:55,  9.43s/it]"
     ]
    },
    {
     "name": "stdout",
     "output_type": "stream",
     "text": [
      "Extracted content from https://www.seattleu.edu/directory/profiles/david-carrithers.php and saved to JSON.\n"
     ]
    },
    {
     "name": "stderr",
     "output_type": "stream",
     "text": [
      " 28%|██▊       | 1799/6321 [1:07:51<12:08:10,  9.66s/it]"
     ]
    },
    {
     "name": "stdout",
     "output_type": "stream",
     "text": [
      "Extracted content from https://www.seattleu.edu/directory/profiles/david-carter-med.php and saved to JSON.\n"
     ]
    },
    {
     "name": "stderr",
     "output_type": "stream",
     "text": [
      " 28%|██▊       | 1800/6321 [1:08:01<12:19:22,  9.81s/it]"
     ]
    },
    {
     "name": "stdout",
     "output_type": "stream",
     "text": [
      "Extracted content from https://www.seattleu.edu/directory/profiles/david-engdahl.php and saved to JSON.\n"
     ]
    },
    {
     "name": "stderr",
     "output_type": "stream",
     "text": [
      " 28%|██▊       | 1801/6321 [1:08:11<12:29:55,  9.95s/it]"
     ]
    },
    {
     "name": "stdout",
     "output_type": "stream",
     "text": [
      "Extracted content from https://www.seattleu.edu/directory/profiles/david-fainstein-phd-ncsp.php and saved to JSON.\n"
     ]
    },
    {
     "name": "stderr",
     "output_type": "stream",
     "text": [
      " 29%|██▊       | 1802/6321 [1:08:21<12:34:45, 10.02s/it]"
     ]
    },
    {
     "name": "stdout",
     "output_type": "stream",
     "text": [
      "Extracted content from https://www.seattleu.edu/directory/profiles/david-figueroa.php and saved to JSON.\n"
     ]
    },
    {
     "name": "stderr",
     "output_type": "stream",
     "text": [
      " 29%|██▊       | 1803/6321 [1:08:31<12:37:35, 10.06s/it]"
     ]
    },
    {
     "name": "stdout",
     "output_type": "stream",
     "text": [
      "Extracted content from https://www.seattleu.edu/directory/profiles/david-green-phd.php and saved to JSON.\n"
     ]
    },
    {
     "name": "stderr",
     "output_type": "stream",
     "text": [
      " 29%|██▊       | 1804/6321 [1:08:41<12:39:42, 10.09s/it]"
     ]
    },
    {
     "name": "stdout",
     "output_type": "stream",
     "text": [
      "Extracted content from https://www.seattleu.edu/directory/profiles/david-kader.php and saved to JSON.\n"
     ]
    },
    {
     "name": "stderr",
     "output_type": "stream",
     "text": [
      " 29%|██▊       | 1805/6321 [1:08:52<12:42:05, 10.13s/it]"
     ]
    },
    {
     "name": "stdout",
     "output_type": "stream",
     "text": [
      "Extracted content from https://www.seattleu.edu/directory/profiles/david-kwon-phd-mba-mdiv-mswam.php and saved to JSON.\n"
     ]
    },
    {
     "name": "stderr",
     "output_type": "stream",
     "text": [
      " 29%|██▊       | 1806/6321 [1:09:02<12:44:24, 10.16s/it]"
     ]
    },
    {
     "name": "stdout",
     "output_type": "stream",
     "text": [
      "Extracted content from https://www.seattleu.edu/directory/profiles/david-joseph-leigh-sj-phd.php and saved to JSON.\n"
     ]
    },
    {
     "name": "stderr",
     "output_type": "stream",
     "text": [
      " 29%|██▊       | 1807/6321 [1:09:12<12:44:10, 10.16s/it]"
     ]
    },
    {
     "name": "stdout",
     "output_type": "stream",
     "text": [
      "Extracted content from https://www.seattleu.edu/directory/profiles/david-w-madsen-phd.php and saved to JSON.\n"
     ]
    },
    {
     "name": "stderr",
     "output_type": "stream",
     "text": [
      " 29%|██▊       | 1808/6321 [1:09:22<12:45:08, 10.17s/it]"
     ]
    },
    {
     "name": "stdout",
     "output_type": "stream",
     "text": [
      "Extracted content from https://www.seattleu.edu/directory/profiles/david-mccloskey.php and saved to JSON.\n"
     ]
    },
    {
     "name": "stderr",
     "output_type": "stream",
     "text": [
      " 29%|██▊       | 1809/6321 [1:09:33<12:48:23, 10.22s/it]"
     ]
    },
    {
     "name": "stdout",
     "output_type": "stream",
     "text": [
      "Extracted content from https://www.seattleu.edu/directory/profiles/david-murphy.php and saved to JSON.\n"
     ]
    },
    {
     "name": "stderr",
     "output_type": "stream",
     "text": [
      " 29%|██▊       | 1810/6321 [1:09:43<12:46:39, 10.20s/it]"
     ]
    },
    {
     "name": "stdout",
     "output_type": "stream",
     "text": [
      "Extracted content from https://www.seattleu.edu/directory/profiles/david-neel-phd.php and saved to JSON.\n"
     ]
    },
    {
     "name": "stderr",
     "output_type": "stream",
     "text": [
      " 29%|██▊       | 1811/6321 [1:09:53<12:49:04, 10.23s/it]"
     ]
    },
    {
     "name": "stdout",
     "output_type": "stream",
     "text": [
      "Extracted content from https://www.seattleu.edu/directory/profiles/david-read.php and saved to JSON.\n"
     ]
    },
    {
     "name": "stderr",
     "output_type": "stream",
     "text": [
      " 29%|██▊       | 1812/6321 [1:10:03<12:47:16, 10.21s/it]"
     ]
    },
    {
     "name": "stdout",
     "output_type": "stream",
     "text": [
      "Extracted content from https://www.seattleu.edu/directory/profiles/david-reid.php and saved to JSON.\n"
     ]
    },
    {
     "name": "stderr",
     "output_type": "stream",
     "text": [
      " 29%|██▊       | 1813/6321 [1:10:13<12:46:26, 10.20s/it]"
     ]
    },
    {
     "name": "stdout",
     "output_type": "stream",
     "text": [
      "Extracted content from https://www.seattleu.edu/directory/profiles/david-sandler.php and saved to JSON.\n"
     ]
    },
    {
     "name": "stderr",
     "output_type": "stream",
     "text": [
      " 29%|██▊       | 1814/6321 [1:10:24<12:51:20, 10.27s/it]"
     ]
    },
    {
     "name": "stdout",
     "output_type": "stream",
     "text": [
      "Extracted content from https://www.seattleu.edu/directory/profiles/david-skover.php and saved to JSON.\n"
     ]
    },
    {
     "name": "stderr",
     "output_type": "stream",
     "text": [
      " 29%|██▊       | 1815/6321 [1:10:34<12:48:59, 10.24s/it]"
     ]
    },
    {
     "name": "stdout",
     "output_type": "stream",
     "text": [
      "Extracted content from https://www.seattleu.edu/directory/profiles/david-thorsell.php and saved to JSON.\n"
     ]
    },
    {
     "name": "stderr",
     "output_type": "stream",
     "text": [
      " 29%|██▊       | 1816/6321 [1:10:44<12:46:47, 10.21s/it]"
     ]
    },
    {
     "name": "stdout",
     "output_type": "stream",
     "text": [
      "Extracted content from https://www.seattleu.edu/directory/profiles/davin-holland-phd.php and saved to JSON.\n"
     ]
    },
    {
     "name": "stderr",
     "output_type": "stream",
     "text": [
      " 29%|██▊       | 1817/6321 [1:10:54<12:45:31, 10.20s/it]"
     ]
    },
    {
     "name": "stdout",
     "output_type": "stream",
     "text": [
      "Extracted content from https://www.seattleu.edu/directory/profiles/davit-adut-phd.php and saved to JSON.\n"
     ]
    },
    {
     "name": "stderr",
     "output_type": "stream",
     "text": [
      " 29%|██▉       | 1818/6321 [1:11:04<12:44:29, 10.19s/it]"
     ]
    },
    {
     "name": "stdout",
     "output_type": "stream",
     "text": [
      "Extracted content from https://www.seattleu.edu/directory/profiles/dawn-cerny-mfa.php and saved to JSON.\n"
     ]
    },
    {
     "name": "stderr",
     "output_type": "stream",
     "text": [
      " 29%|██▉       | 1819/6321 [1:11:15<12:45:53, 10.21s/it]"
     ]
    },
    {
     "name": "stdout",
     "output_type": "stream",
     "text": [
      "Extracted content from https://www.seattleu.edu/directory/profiles/dawn-madore.php and saved to JSON.\n"
     ]
    },
    {
     "name": "stderr",
     "output_type": "stream",
     "text": [
      " 29%|██▉       | 1820/6321 [1:11:25<12:45:04, 10.20s/it]"
     ]
    },
    {
     "name": "stdout",
     "output_type": "stream",
     "text": [
      "Extracted content from https://www.seattleu.edu/directory/profiles/dawn-meyer-psyd.php and saved to JSON.\n"
     ]
    },
    {
     "name": "stderr",
     "output_type": "stream",
     "text": [
      " 29%|██▉       | 1821/6321 [1:11:35<12:43:53, 10.19s/it]"
     ]
    },
    {
     "name": "stdout",
     "output_type": "stream",
     "text": [
      "Extracted content from https://www.seattleu.edu/directory/profiles/dawn-rinehart.php and saved to JSON.\n"
     ]
    },
    {
     "name": "stderr",
     "output_type": "stream",
     "text": [
      " 29%|██▉       | 1822/6321 [1:11:45<12:43:00, 10.18s/it]"
     ]
    },
    {
     "name": "stdout",
     "output_type": "stream",
     "text": [
      "Extracted content from https://www.seattleu.edu/directory/profiles/dean-diavatopoulos-phd.php and saved to JSON.\n"
     ]
    },
    {
     "name": "stderr",
     "output_type": "stream",
     "text": [
      " 29%|██▉       | 1823/6321 [1:11:55<12:42:45, 10.17s/it]"
     ]
    },
    {
     "name": "stdout",
     "output_type": "stream",
     "text": [
      "Extracted content from https://www.seattleu.edu/directory/profiles/dean-peterson-phd.php and saved to JSON.\n"
     ]
    },
    {
     "name": "stderr",
     "output_type": "stream",
     "text": [
      " 29%|██▉       | 1824/6321 [1:12:06<12:41:55, 10.17s/it]"
     ]
    },
    {
     "name": "stdout",
     "output_type": "stream",
     "text": [
      "Extracted content from https://www.seattleu.edu/directory/profiles/dean-spade.php and saved to JSON.\n"
     ]
    },
    {
     "name": "stderr",
     "output_type": "stream",
     "text": [
      " 29%|██▉       | 1825/6321 [1:12:16<12:42:16, 10.17s/it]"
     ]
    },
    {
     "name": "stdout",
     "output_type": "stream",
     "text": [
      "Extracted content from https://www.seattleu.edu/directory/profiles/deann-ketchum.php and saved to JSON.\n"
     ]
    },
    {
     "name": "stderr",
     "output_type": "stream",
     "text": [
      " 29%|██▉       | 1826/6321 [1:12:26<12:41:59, 10.17s/it]"
     ]
    },
    {
     "name": "stdout",
     "output_type": "stream",
     "text": [
      "Extracted content from https://www.seattleu.edu/directory/profiles/deanna-sands.php and saved to JSON.\n"
     ]
    },
    {
     "name": "stderr",
     "output_type": "stream",
     "text": [
      " 29%|██▉       | 1827/6321 [1:12:36<12:44:10, 10.20s/it]"
     ]
    },
    {
     "name": "stdout",
     "output_type": "stream",
     "text": [
      "Extracted content from https://www.seattleu.edu/directory/profiles/deanne-liu.php and saved to JSON.\n"
     ]
    },
    {
     "name": "stderr",
     "output_type": "stream",
     "text": [
      " 29%|██▉       | 1828/6321 [1:12:46<12:43:08, 10.19s/it]"
     ]
    },
    {
     "name": "stdout",
     "output_type": "stream",
     "text": [
      "Extracted content from https://www.seattleu.edu/directory/profiles/deb-smucker-ma.php and saved to JSON.\n"
     ]
    },
    {
     "name": "stderr",
     "output_type": "stream",
     "text": [
      " 29%|██▉       | 1829/6321 [1:12:56<12:41:49, 10.18s/it]"
     ]
    },
    {
     "name": "stdout",
     "output_type": "stream",
     "text": [
      "Extracted content from https://www.seattleu.edu/directory/profiles/deborah-ahrens.php and saved to JSON.\n"
     ]
    },
    {
     "name": "stderr",
     "output_type": "stream",
     "text": [
      " 29%|██▉       | 1830/6321 [1:13:07<12:41:43, 10.18s/it]"
     ]
    },
    {
     "name": "stdout",
     "output_type": "stream",
     "text": [
      "Extracted content from https://www.seattleu.edu/directory/profiles/deborah-singer.php and saved to JSON.\n"
     ]
    },
    {
     "name": "stderr",
     "output_type": "stream",
     "text": [
      " 29%|██▉       | 1831/6321 [1:13:17<12:41:24, 10.17s/it]"
     ]
    },
    {
     "name": "stdout",
     "output_type": "stream",
     "text": [
      "Extracted content from https://www.seattleu.edu/directory/profiles/deirdre-bowen.php and saved to JSON.\n"
     ]
    },
    {
     "name": "stderr",
     "output_type": "stream",
     "text": [
      " 29%|██▉       | 1832/6321 [1:13:27<12:41:47, 10.18s/it]"
     ]
    },
    {
     "name": "stdout",
     "output_type": "stream",
     "text": [
      "Extracted content from https://www.seattleu.edu/directory/profiles/delight-willing.php and saved to JSON.\n"
     ]
    },
    {
     "name": "stderr",
     "output_type": "stream",
     "text": [
      " 29%|██▉       | 1833/6321 [1:13:37<12:41:30, 10.18s/it]"
     ]
    },
    {
     "name": "stdout",
     "output_type": "stream",
     "text": [
      "Extracted content from https://www.seattleu.edu/directory/profiles/denise-burns.php and saved to JSON.\n"
     ]
    },
    {
     "name": "stderr",
     "output_type": "stream",
     "text": [
      " 29%|██▉       | 1834/6321 [1:13:48<12:50:47, 10.31s/it]"
     ]
    },
    {
     "name": "stdout",
     "output_type": "stream",
     "text": [
      "Extracted content from https://www.seattleu.edu/directory/profiles/dennis-applegate-cpa-cma-cia-cfe-cfm.php and saved to JSON.\n"
     ]
    },
    {
     "name": "stderr",
     "output_type": "stream",
     "text": [
      " 29%|██▉       | 1835/6321 [1:13:58<12:51:06, 10.31s/it]"
     ]
    },
    {
     "name": "stdout",
     "output_type": "stream",
     "text": [
      "Extracted content from https://www.seattleu.edu/directory/profiles/desiree-briel-rodi.php and saved to JSON.\n"
     ]
    },
    {
     "name": "stderr",
     "output_type": "stream",
     "text": [
      " 29%|██▉       | 1836/6321 [1:14:09<12:58:10, 10.41s/it]"
     ]
    },
    {
     "name": "stdout",
     "output_type": "stream",
     "text": [
      "Extracted content from https://www.seattleu.edu/directory/profiles/di-di-galligar.php and saved to JSON.\n"
     ]
    },
    {
     "name": "stderr",
     "output_type": "stream",
     "text": [
      " 29%|██▉       | 1837/6321 [1:14:19<12:52:26, 10.34s/it]"
     ]
    },
    {
     "name": "stdout",
     "output_type": "stream",
     "text": [
      "Extracted content from https://www.seattleu.edu/directory/profiles/diana-calderon-sandoval.php and saved to JSON.\n"
     ]
    },
    {
     "name": "stderr",
     "output_type": "stream",
     "text": [
      " 29%|██▉       | 1838/6321 [1:14:29<12:48:44, 10.29s/it]"
     ]
    },
    {
     "name": "stdout",
     "output_type": "stream",
     "text": [
      "Extracted content from https://www.seattleu.edu/directory/profiles/diana-fishel-hall.php and saved to JSON.\n"
     ]
    },
    {
     "name": "stderr",
     "output_type": "stream",
     "text": [
      " 29%|██▉       | 1839/6321 [1:14:39<12:45:41, 10.25s/it]"
     ]
    },
    {
     "name": "stdout",
     "output_type": "stream",
     "text": [
      "Extracted content from https://www.seattleu.edu/directory/profiles/diana-miller.php and saved to JSON.\n"
     ]
    },
    {
     "name": "stderr",
     "output_type": "stream",
     "text": [
      " 29%|██▉       | 1840/6321 [1:14:49<12:43:39, 10.23s/it]"
     ]
    },
    {
     "name": "stdout",
     "output_type": "stream",
     "text": [
      "Extracted content from https://www.seattleu.edu/directory/profiles/diane-lockwood.php and saved to JSON.\n"
     ]
    },
    {
     "name": "stderr",
     "output_type": "stream",
     "text": [
      " 29%|██▉       | 1841/6321 [1:15:00<12:42:02, 10.21s/it]"
     ]
    },
    {
     "name": "stdout",
     "output_type": "stream",
     "text": [
      "Extracted content from https://www.seattleu.edu/directory/profiles/diane-tomhave-ma.php and saved to JSON.\n"
     ]
    },
    {
     "name": "stderr",
     "output_type": "stream",
     "text": [
      " 29%|██▉       | 1842/6321 [1:15:10<12:41:34, 10.20s/it]"
     ]
    },
    {
     "name": "stdout",
     "output_type": "stream",
     "text": [
      "Extracted content from https://www.seattleu.edu/directory/profiles/diane-fuller-switzer-dnp-arnp-fnp-bc-enp-bc-enp-c-faen-faanp-faan.php and saved to JSON.\n"
     ]
    },
    {
     "name": "stderr",
     "output_type": "stream",
     "text": [
      " 29%|██▉       | 1843/6321 [1:15:20<12:44:19, 10.24s/it]"
     ]
    },
    {
     "name": "stdout",
     "output_type": "stream",
     "text": [
      "Extracted content from https://www.seattleu.edu/directory/profiles/diogo-magalhaes.php and saved to JSON.\n"
     ]
    },
    {
     "name": "stderr",
     "output_type": "stream",
     "text": [
      " 29%|██▉       | 1844/6321 [1:15:30<12:42:06, 10.21s/it]"
     ]
    },
    {
     "name": "stdout",
     "output_type": "stream",
     "text": [
      "Extracted content from https://www.seattleu.edu/directory/profiles/dione-garcia.php and saved to JSON.\n"
     ]
    },
    {
     "name": "stderr",
     "output_type": "stream",
     "text": [
      " 29%|██▉       | 1845/6321 [1:15:40<12:40:41, 10.20s/it]"
     ]
    },
    {
     "name": "stdout",
     "output_type": "stream",
     "text": [
      "Extracted content from https://www.seattleu.edu/directory/profiles/dmitri-lapchakov.php and saved to JSON.\n"
     ]
    },
    {
     "name": "stderr",
     "output_type": "stream",
     "text": [
      " 29%|██▉       | 1846/6321 [1:15:51<12:39:53, 10.19s/it]"
     ]
    },
    {
     "name": "stdout",
     "output_type": "stream",
     "text": [
      "Extracted content from https://www.seattleu.edu/directory/profiles/dolly-ito.php and saved to JSON.\n"
     ]
    },
    {
     "name": "stderr",
     "output_type": "stream",
     "text": [
      " 29%|██▉       | 1847/6321 [1:16:01<12:38:59, 10.18s/it]"
     ]
    },
    {
     "name": "stdout",
     "output_type": "stream",
     "text": [
      "Extracted content from https://www.seattleu.edu/directory/profiles/dolores-johnson.php and saved to JSON.\n"
     ]
    },
    {
     "name": "stderr",
     "output_type": "stream",
     "text": [
      " 29%|██▉       | 1848/6321 [1:16:11<12:38:11, 10.17s/it]"
     ]
    },
    {
     "name": "stdout",
     "output_type": "stream",
     "text": [
      "Extracted content from https://www.seattleu.edu/directory/profiles/dominic-codykramers-mfa.php and saved to JSON.\n"
     ]
    },
    {
     "name": "stderr",
     "output_type": "stream",
     "text": [
      " 29%|██▉       | 1849/6321 [1:16:21<12:38:20, 10.17s/it]"
     ]
    },
    {
     "name": "stdout",
     "output_type": "stream",
     "text": [
      "Extracted content from https://www.seattleu.edu/directory/profiles/dominic-woolery.php and saved to JSON.\n"
     ]
    },
    {
     "name": "stderr",
     "output_type": "stream",
     "text": [
      " 29%|██▉       | 1850/6321 [1:16:31<12:38:00, 10.17s/it]"
     ]
    },
    {
     "name": "stdout",
     "output_type": "stream",
     "text": [
      "Extracted content from https://www.seattleu.edu/directory/profiles/dominick-grimm-ma.php and saved to JSON.\n"
     ]
    },
    {
     "name": "stderr",
     "output_type": "stream",
     "text": [
      " 29%|██▉       | 1851/6321 [1:16:42<12:41:22, 10.22s/it]"
     ]
    },
    {
     "name": "stdout",
     "output_type": "stream",
     "text": [
      "Extracted content from https://www.seattleu.edu/directory/profiles/donald-butler.php and saved to JSON.\n"
     ]
    },
    {
     "name": "stderr",
     "output_type": "stream",
     "text": [
      " 29%|██▉       | 1852/6321 [1:16:52<12:39:25, 10.20s/it]"
     ]
    },
    {
     "name": "stdout",
     "output_type": "stream",
     "text": [
      "Extracted content from https://www.seattleu.edu/directory/profiles/donald-kustus.php and saved to JSON.\n"
     ]
    },
    {
     "name": "stderr",
     "output_type": "stream",
     "text": [
      " 29%|██▉       | 1853/6321 [1:17:02<12:38:42, 10.19s/it]"
     ]
    },
    {
     "name": "stdout",
     "output_type": "stream",
     "text": [
      "Extracted content from https://www.seattleu.edu/directory/profiles/donna-horn.php and saved to JSON.\n"
     ]
    },
    {
     "name": "stderr",
     "output_type": "stream",
     "text": [
      " 29%|██▉       | 1854/6321 [1:17:12<12:37:22, 10.17s/it]"
     ]
    },
    {
     "name": "stdout",
     "output_type": "stream",
     "text": [
      "Extracted content from https://www.seattleu.edu/directory/profiles/donna-obuchowski.php and saved to JSON.\n"
     ]
    },
    {
     "name": "stderr",
     "output_type": "stream",
     "text": [
      " 29%|██▉       | 1855/6321 [1:17:22<12:37:16, 10.17s/it]"
     ]
    },
    {
     "name": "stdout",
     "output_type": "stream",
     "text": [
      "Extracted content from https://www.seattleu.edu/directory/profiles/donna-sherrill.php and saved to JSON.\n"
     ]
    },
    {
     "name": "stderr",
     "output_type": "stream",
     "text": [
      " 29%|██▉       | 1856/6321 [1:17:32<12:37:45, 10.18s/it]"
     ]
    },
    {
     "name": "stdout",
     "output_type": "stream",
     "text": [
      "Extracted content from https://www.seattleu.edu/directory/profiles/donna-sylvester-phd.php and saved to JSON.\n"
     ]
    },
    {
     "name": "stderr",
     "output_type": "stream",
     "text": [
      " 29%|██▉       | 1857/6321 [1:17:43<12:37:08, 10.18s/it]"
     ]
    },
    {
     "name": "stdout",
     "output_type": "stream",
     "text": [
      "Extracted content from https://www.seattleu.edu/directory/profiles/donna-teevan-phd.php and saved to JSON.\n"
     ]
    },
    {
     "name": "stderr",
     "output_type": "stream",
     "text": [
      " 29%|██▉       | 1858/6321 [1:17:53<12:38:21, 10.20s/it]"
     ]
    },
    {
     "name": "stdout",
     "output_type": "stream",
     "text": [
      "Extracted content from https://www.seattleu.edu/directory/profiles/donna-turner.php and saved to JSON.\n"
     ]
    },
    {
     "name": "stderr",
     "output_type": "stream",
     "text": [
      " 29%|██▉       | 1859/6321 [1:18:03<12:41:35, 10.24s/it]"
     ]
    },
    {
     "name": "stdout",
     "output_type": "stream",
     "text": [
      "Extracted content from https://www.seattleu.edu/directory/profiles/donny-harrel.php and saved to JSON.\n"
     ]
    },
    {
     "name": "stderr",
     "output_type": "stream",
     "text": [
      " 29%|██▉       | 1860/6321 [1:18:13<12:39:33, 10.22s/it]"
     ]
    },
    {
     "name": "stdout",
     "output_type": "stream",
     "text": [
      "Extracted content from https://www.seattleu.edu/directory/profiles/doug-eriksen.php and saved to JSON.\n"
     ]
    },
    {
     "name": "stderr",
     "output_type": "stream",
     "text": [
      " 29%|██▉       | 1861/6321 [1:18:23<12:38:17, 10.20s/it]"
     ]
    },
    {
     "name": "stdout",
     "output_type": "stream",
     "text": [
      "Extracted content from https://www.seattleu.edu/directory/profiles/douglas-carroll.php and saved to JSON.\n"
     ]
    },
    {
     "name": "stderr",
     "output_type": "stream",
     "text": [
      " 29%|██▉       | 1862/6321 [1:18:34<12:37:22, 10.19s/it]"
     ]
    },
    {
     "name": "stdout",
     "output_type": "stream",
     "text": [
      "Extracted content from https://www.seattleu.edu/directory/profiles/douglas-latch-phd.php and saved to JSON.\n"
     ]
    },
    {
     "name": "stderr",
     "output_type": "stream",
     "text": [
      " 29%|██▉       | 1863/6321 [1:18:44<12:36:49, 10.19s/it]"
     ]
    },
    {
     "name": "stdout",
     "output_type": "stream",
     "text": [
      "Extracted content from https://www.seattleu.edu/directory/profiles/drego-little-med.php and saved to JSON.\n"
     ]
    },
    {
     "name": "stderr",
     "output_type": "stream",
     "text": [
      " 29%|██▉       | 1864/6321 [1:18:54<12:36:27, 10.18s/it]"
     ]
    },
    {
     "name": "stdout",
     "output_type": "stream",
     "text": [
      "Extracted content from https://www.seattleu.edu/directory/profiles/duane-safford.php and saved to JSON.\n"
     ]
    },
    {
     "name": "stderr",
     "output_type": "stream",
     "text": [
      " 30%|██▉       | 1865/6321 [1:19:04<12:35:52, 10.18s/it]"
     ]
    },
    {
     "name": "stdout",
     "output_type": "stream",
     "text": [
      "Extracted content from https://www.seattleu.edu/directory/profiles/duc-thien-hua.php and saved to JSON.\n"
     ]
    },
    {
     "name": "stderr",
     "output_type": "stream",
     "text": [
      " 30%|██▉       | 1866/6321 [1:19:14<12:35:47, 10.18s/it]"
     ]
    },
    {
     "name": "stdout",
     "output_type": "stream",
     "text": [
      "Extracted content from https://www.seattleu.edu/directory/profiles/dylan-chaillar.php and saved to JSON.\n"
     ]
    },
    {
     "name": "stderr",
     "output_type": "stream",
     "text": [
      " 30%|██▉       | 1867/6321 [1:19:25<12:38:55, 10.22s/it]"
     ]
    },
    {
     "name": "stdout",
     "output_type": "stream",
     "text": [
      "Extracted content from https://www.seattleu.edu/directory/profiles/dylan-helliwell-phd.php and saved to JSON.\n"
     ]
    },
    {
     "name": "stderr",
     "output_type": "stream",
     "text": [
      " 30%|██▉       | 1868/6321 [1:19:35<12:38:01, 10.21s/it]"
     ]
    },
    {
     "name": "stdout",
     "output_type": "stream",
     "text": [
      "Extracted content from https://www.seattleu.edu/directory/profiles/elaine-gunnison-phd.php and saved to JSON.\n"
     ]
    },
    {
     "name": "stderr",
     "output_type": "stream",
     "text": [
      " 30%|██▉       | 1869/6321 [1:19:45<12:37:06, 10.20s/it]"
     ]
    },
    {
     "name": "stdout",
     "output_type": "stream",
     "text": [
      "Extracted content from https://www.seattleu.edu/directory/profiles/eddy-ferre.php and saved to JSON.\n"
     ]
    },
    {
     "name": "stderr",
     "output_type": "stream",
     "text": [
      " 30%|██▉       | 1870/6321 [1:19:55<12:35:45, 10.19s/it]"
     ]
    },
    {
     "name": "stdout",
     "output_type": "stream",
     "text": [
      "Extracted content from https://www.seattleu.edu/directory/profiles/edilberto-michaca.php and saved to JSON.\n"
     ]
    },
    {
     "name": "stderr",
     "output_type": "stream",
     "text": [
      " 30%|██▉       | 1871/6321 [1:20:05<12:35:39, 10.19s/it]"
     ]
    },
    {
     "name": "stdout",
     "output_type": "stream",
     "text": [
      "Extracted content from https://www.seattleu.edu/directory/profiles/edmund-witter.php and saved to JSON.\n"
     ]
    },
    {
     "name": "stderr",
     "output_type": "stream",
     "text": [
      " 30%|██▉       | 1872/6321 [1:20:16<12:34:52, 10.18s/it]"
     ]
    },
    {
     "name": "stdout",
     "output_type": "stream",
     "text": [
      "Extracted content from https://www.seattleu.edu/directory/profiles/edward-salazar.php and saved to JSON.\n"
     ]
    },
    {
     "name": "stderr",
     "output_type": "stream",
     "text": [
      " 30%|██▉       | 1873/6321 [1:20:26<12:33:33, 10.16s/it]"
     ]
    },
    {
     "name": "stdout",
     "output_type": "stream",
     "text": [
      "Extracted content from https://www.seattleu.edu/directory/profiles/edwin-h-weihe-phd.php and saved to JSON.\n"
     ]
    },
    {
     "name": "stderr",
     "output_type": "stream",
     "text": [
      " 30%|██▉       | 1874/6321 [1:20:36<12:33:08, 10.16s/it]"
     ]
    },
    {
     "name": "stdout",
     "output_type": "stream",
     "text": [
      "Extracted content from https://www.seattleu.edu/directory/profiles/ekaterina-emm.php and saved to JSON.\n"
     ]
    },
    {
     "name": "stderr",
     "output_type": "stream",
     "text": [
      " 30%|██▉       | 1875/6321 [1:20:46<12:34:50, 10.19s/it]"
     ]
    },
    {
     "name": "stdout",
     "output_type": "stream",
     "text": [
      "Extracted content from https://www.seattleu.edu/directory/profiles/katya-yurasovskaya-phd.php and saved to JSON.\n"
     ]
    },
    {
     "name": "stderr",
     "output_type": "stream",
     "text": [
      " 30%|██▉       | 1876/6321 [1:20:56<12:34:11, 10.18s/it]"
     ]
    },
    {
     "name": "stdout",
     "output_type": "stream",
     "text": [
      "Extracted content from https://www.seattleu.edu/directory/profiles/ekaterini-papadopoulou.php and saved to JSON.\n"
     ]
    },
    {
     "name": "stderr",
     "output_type": "stream",
     "text": [
      " 30%|██▉       | 1877/6321 [1:21:06<12:34:25, 10.19s/it]"
     ]
    },
    {
     "name": "stdout",
     "output_type": "stream",
     "text": [
      "Extracted content from https://www.seattleu.edu/directory/profiles/el-hadji-malick-ndiaye-phd.php and saved to JSON.\n"
     ]
    },
    {
     "name": "stderr",
     "output_type": "stream",
     "text": [
      " 30%|██▉       | 1878/6321 [1:21:17<12:34:10, 10.18s/it]"
     ]
    },
    {
     "name": "stdout",
     "output_type": "stream",
     "text": [
      "Extracted content from https://www.seattleu.edu/directory/profiles/elaine-marcinek.php and saved to JSON.\n"
     ]
    },
    {
     "name": "stderr",
     "output_type": "stream",
     "text": [
      " 30%|██▉       | 1879/6321 [1:21:27<12:33:14, 10.17s/it]"
     ]
    },
    {
     "name": "stdout",
     "output_type": "stream",
     "text": [
      "Extracted content from https://www.seattleu.edu/directory/profiles/elana-matt.php and saved to JSON.\n"
     ]
    },
    {
     "name": "stderr",
     "output_type": "stream",
     "text": [
      " 30%|██▉       | 1880/6321 [1:21:37<12:32:47, 10.17s/it]"
     ]
    },
    {
     "name": "stdout",
     "output_type": "stream",
     "text": [
      "Extracted content from https://www.seattleu.edu/directory/profiles/elena-atanasova-dnp-rn.php and saved to JSON.\n"
     ]
    },
    {
     "name": "stderr",
     "output_type": "stream",
     "text": [
      " 30%|██▉       | 1881/6321 [1:21:47<12:32:35, 10.17s/it]"
     ]
    },
    {
     "name": "stdout",
     "output_type": "stream",
     "text": [
      "Extracted content from https://www.seattleu.edu/directory/profiles/elena-menagarishvili.php and saved to JSON.\n"
     ]
    },
    {
     "name": "stderr",
     "output_type": "stream",
     "text": [
      " 30%|██▉       | 1882/6321 [1:21:57<12:32:16, 10.17s/it]"
     ]
    },
    {
     "name": "stdout",
     "output_type": "stream",
     "text": [
      "Extracted content from https://www.seattleu.edu/directory/profiles/eli-christopher.php and saved to JSON.\n"
     ]
    },
    {
     "name": "stderr",
     "output_type": "stream",
     "text": [
      " 30%|██▉       | 1883/6321 [1:22:08<12:35:49, 10.22s/it]"
     ]
    },
    {
     "name": "stdout",
     "output_type": "stream",
     "text": [
      "Extracted content from https://www.seattleu.edu/directory/profiles/elio-zhang-phd.php and saved to JSON.\n"
     ]
    },
    {
     "name": "stderr",
     "output_type": "stream",
     "text": [
      " 30%|██▉       | 1884/6321 [1:22:18<12:34:50, 10.21s/it]"
     ]
    },
    {
     "name": "stdout",
     "output_type": "stream",
     "text": [
      "Extracted content from https://www.seattleu.edu/directory/profiles/elisabetta-ipino-phd.php and saved to JSON.\n"
     ]
    },
    {
     "name": "stderr",
     "output_type": "stream",
     "text": [
      " 30%|██▉       | 1885/6321 [1:22:28<12:33:35, 10.19s/it]"
     ]
    },
    {
     "name": "stdout",
     "output_type": "stream",
     "text": [
      "Extracted content from https://www.seattleu.edu/directory/profiles/elise-dibble.php and saved to JSON.\n"
     ]
    },
    {
     "name": "stderr",
     "output_type": "stream",
     "text": [
      " 30%|██▉       | 1886/6321 [1:22:38<12:32:22, 10.18s/it]"
     ]
    },
    {
     "name": "stdout",
     "output_type": "stream",
     "text": [
      "Extracted content from https://www.seattleu.edu/directory/profiles/elise-murowchick-phd.php and saved to JSON.\n"
     ]
    },
    {
     "name": "stderr",
     "output_type": "stream",
     "text": [
      " 30%|██▉       | 1887/6321 [1:22:48<12:31:54, 10.17s/it]"
     ]
    },
    {
     "name": "stdout",
     "output_type": "stream",
     "text": [
      "Extracted content from https://www.seattleu.edu/directory/profiles/elise-rannestad.php and saved to JSON.\n"
     ]
    },
    {
     "name": "stderr",
     "output_type": "stream",
     "text": [
      " 30%|██▉       | 1888/6321 [1:22:58<12:31:36, 10.17s/it]"
     ]
    },
    {
     "name": "stdout",
     "output_type": "stream",
     "text": [
      "Extracted content from https://www.seattleu.edu/directory/profiles/elizabeth-ford.php and saved to JSON.\n"
     ]
    },
    {
     "name": "stderr",
     "output_type": "stream",
     "text": [
      " 30%|██▉       | 1889/6321 [1:23:09<12:31:17, 10.17s/it]"
     ]
    },
    {
     "name": "stdout",
     "output_type": "stream",
     "text": [
      "Extracted content from https://www.seattleu.edu/directory/profiles/elizabeth-m-gabzdyl-dnp-cnm-arnp.php and saved to JSON.\n"
     ]
    },
    {
     "name": "stderr",
     "output_type": "stream",
     "text": [
      " 30%|██▉       | 1890/6321 [1:23:20<12:50:43, 10.44s/it]"
     ]
    },
    {
     "name": "stdout",
     "output_type": "stream",
     "text": [
      "Extracted content from https://www.seattleu.edu/directory/profiles/elizabeth-gallagher-dnp-arnp-fnp-bc.php and saved to JSON.\n"
     ]
    },
    {
     "name": "stderr",
     "output_type": "stream",
     "text": [
      " 30%|██▉       | 1891/6321 [1:23:30<12:47:02, 10.39s/it]"
     ]
    },
    {
     "name": "stdout",
     "output_type": "stream",
     "text": [
      "Extracted content from https://www.seattleu.edu/directory/profiles/elizabeth-mack-msn-arnp-c.php and saved to JSON.\n"
     ]
    },
    {
     "name": "stderr",
     "output_type": "stream",
     "text": [
      " 30%|██▉       | 1892/6321 [1:23:40<12:42:47, 10.33s/it]"
     ]
    },
    {
     "name": "stdout",
     "output_type": "stream",
     "text": [
      "Extracted content from https://www.seattleu.edu/directory/profiles/elizabeth-mulherron-cayton-psyd-lmhca.php and saved to JSON.\n"
     ]
    },
    {
     "name": "stderr",
     "output_type": "stream",
     "text": [
      " 30%|██▉       | 1893/6321 [1:23:50<12:41:59, 10.32s/it]"
     ]
    },
    {
     "name": "stdout",
     "output_type": "stream",
     "text": [
      "Extracted content from https://www.seattleu.edu/directory/profiles/elsa-negash.php and saved to JSON.\n"
     ]
    },
    {
     "name": "stderr",
     "output_type": "stream",
     "text": [
      " 30%|██▉       | 1894/6321 [1:24:01<12:38:58, 10.29s/it]"
     ]
    },
    {
     "name": "stdout",
     "output_type": "stream",
     "text": [
      "Extracted content from https://www.seattleu.edu/directory/profiles/elizabeth-trayner.php and saved to JSON.\n"
     ]
    },
    {
     "name": "stderr",
     "output_type": "stream",
     "text": [
      " 30%|██▉       | 1895/6321 [1:24:11<12:35:57, 10.25s/it]"
     ]
    },
    {
     "name": "stdout",
     "output_type": "stream",
     "text": [
      "Extracted content from https://www.seattleu.edu/directory/profiles/elizabeth-williams.php and saved to JSON.\n"
     ]
    },
    {
     "name": "stderr",
     "output_type": "stream",
     "text": [
      " 30%|██▉       | 1896/6321 [1:24:21<12:34:12, 10.23s/it]"
     ]
    },
    {
     "name": "stdout",
     "output_type": "stream",
     "text": [
      "Extracted content from https://www.seattleu.edu/directory/profiles/ellen-kaje.php and saved to JSON.\n"
     ]
    },
    {
     "name": "stderr",
     "output_type": "stream",
     "text": [
      " 30%|███       | 1897/6321 [1:24:31<12:32:23, 10.20s/it]"
     ]
    },
    {
     "name": "stdout",
     "output_type": "stream",
     "text": [
      "Extracted content from https://www.seattleu.edu/directory/profiles/ellena-saechao-dnp-arnp-fnp-c.php and saved to JSON.\n"
     ]
    },
    {
     "name": "stderr",
     "output_type": "stream",
     "text": [
      " 30%|███       | 1898/6321 [1:24:41<12:31:20, 10.19s/it]"
     ]
    },
    {
     "name": "stdout",
     "output_type": "stream",
     "text": [
      "Extracted content from https://www.seattleu.edu/directory/profiles/elsie-charles.php and saved to JSON.\n"
     ]
    },
    {
     "name": "stderr",
     "output_type": "stream",
     "text": [
      " 30%|███       | 1899/6321 [1:24:51<12:30:46, 10.19s/it]"
     ]
    },
    {
     "name": "stdout",
     "output_type": "stream",
     "text": [
      "Extracted content from https://www.seattleu.edu/directory/profiles/emelie-ali.php and saved to JSON.\n"
     ]
    },
    {
     "name": "stderr",
     "output_type": "stream",
     "text": [
      " 30%|███       | 1900/6321 [1:25:02<12:30:26, 10.18s/it]"
     ]
    },
    {
     "name": "stdout",
     "output_type": "stream",
     "text": [
      "Extracted content from https://www.seattleu.edu/directory/profiles/emily-bergstrom.php and saved to JSON.\n"
     ]
    },
    {
     "name": "stderr",
     "output_type": "stream",
     "text": [
      " 30%|███       | 1901/6321 [1:25:12<12:31:52, 10.21s/it]"
     ]
    },
    {
     "name": "stdout",
     "output_type": "stream",
     "text": [
      "Extracted content from https://www.seattleu.edu/directory/profiles/emily-carrion.php and saved to JSON.\n"
     ]
    },
    {
     "name": "stderr",
     "output_type": "stream",
     "text": [
      " 30%|███       | 1902/6321 [1:25:22<12:31:06, 10.20s/it]"
     ]
    },
    {
     "name": "stdout",
     "output_type": "stream",
     "text": [
      "Extracted content from https://www.seattleu.edu/directory/profiles/emily-efird.php and saved to JSON.\n"
     ]
    },
    {
     "name": "stderr",
     "output_type": "stream",
     "text": [
      " 30%|███       | 1903/6321 [1:25:32<12:30:41, 10.19s/it]"
     ]
    },
    {
     "name": "stdout",
     "output_type": "stream",
     "text": [
      "Extracted content from https://www.seattleu.edu/directory/profiles/emily-feicht.php and saved to JSON.\n"
     ]
    },
    {
     "name": "stderr",
     "output_type": "stream",
     "text": [
      " 30%|███       | 1904/6321 [1:25:43<12:44:43, 10.39s/it]"
     ]
    },
    {
     "name": "stdout",
     "output_type": "stream",
     "text": [
      "Extracted content from https://www.seattleu.edu/directory/profiles/emily-james.php and saved to JSON.\n"
     ]
    },
    {
     "name": "stderr",
     "output_type": "stream",
     "text": [
      " 30%|███       | 1905/6321 [1:25:53<12:39:40, 10.32s/it]"
     ]
    },
    {
     "name": "stdout",
     "output_type": "stream",
     "text": [
      "Extracted content from https://www.seattleu.edu/directory/profiles/emily-nelson.php and saved to JSON.\n"
     ]
    },
    {
     "name": "stderr",
     "output_type": "stream",
     "text": [
      " 30%|███       | 1906/6321 [1:26:03<12:36:18, 10.28s/it]"
     ]
    },
    {
     "name": "stdout",
     "output_type": "stream",
     "text": [
      "Extracted content from https://www.seattleu.edu/directory/profiles/emily-riesser.php and saved to JSON.\n"
     ]
    },
    {
     "name": "stderr",
     "output_type": "stream",
     "text": [
      " 30%|███       | 1907/6321 [1:26:14<12:32:57, 10.23s/it]"
     ]
    },
    {
     "name": "stdout",
     "output_type": "stream",
     "text": [
      "Extracted content from https://www.seattleu.edu/directory/profiles/emily-rigsby.php and saved to JSON.\n"
     ]
    },
    {
     "name": "stderr",
     "output_type": "stream",
     "text": [
      " 30%|███       | 1908/6321 [1:26:24<12:30:45, 10.21s/it]"
     ]
    },
    {
     "name": "stdout",
     "output_type": "stream",
     "text": [
      "Extracted content from https://www.seattleu.edu/directory/profiles/emily-wright-ma.php and saved to JSON.\n"
     ]
    },
    {
     "name": "stderr",
     "output_type": "stream",
     "text": [
      " 30%|███       | 1909/6321 [1:26:34<12:32:49, 10.24s/it]"
     ]
    },
    {
     "name": "stdout",
     "output_type": "stream",
     "text": [
      "Extracted content from https://www.seattleu.edu/directory/profiles/emina-polovina-bayomy-dnp-arnp-rn.php and saved to JSON.\n"
     ]
    },
    {
     "name": "stderr",
     "output_type": "stream",
     "text": [
      " 30%|███       | 1910/6321 [1:26:44<12:33:13, 10.25s/it]"
     ]
    },
    {
     "name": "stdout",
     "output_type": "stream",
     "text": [
      "Extracted content from https://www.seattleu.edu/directory/profiles/emma-adkins.php and saved to JSON.\n"
     ]
    },
    {
     "name": "stderr",
     "output_type": "stream",
     "text": [
      " 30%|███       | 1911/6321 [1:26:54<12:31:03, 10.22s/it]"
     ]
    },
    {
     "name": "stdout",
     "output_type": "stream",
     "text": [
      "Extracted content from https://www.seattleu.edu/directory/profiles/emma-heffernan.php and saved to JSON.\n"
     ]
    },
    {
     "name": "stderr",
     "output_type": "stream",
     "text": [
      " 30%|███       | 1912/6321 [1:27:05<12:29:44, 10.20s/it]"
     ]
    },
    {
     "name": "stdout",
     "output_type": "stream",
     "text": [
      "Extracted content from https://www.seattleu.edu/directory/profiles/emmee-michler.php and saved to JSON.\n"
     ]
    },
    {
     "name": "stderr",
     "output_type": "stream",
     "text": [
      " 30%|███       | 1913/6321 [1:27:15<12:29:00, 10.20s/it]"
     ]
    },
    {
     "name": "stdout",
     "output_type": "stream",
     "text": [
      "Extracted content from https://www.seattleu.edu/directory/profiles/enyu-zhang-phd.php and saved to JSON.\n"
     ]
    },
    {
     "name": "stderr",
     "output_type": "stream",
     "text": [
      " 30%|███       | 1914/6321 [1:27:25<12:28:16, 10.19s/it]"
     ]
    },
    {
     "name": "stdout",
     "output_type": "stream",
     "text": [
      "Extracted content from https://www.seattleu.edu/directory/profiles/eric-bahuaud-phd.php and saved to JSON.\n"
     ]
    },
    {
     "name": "stderr",
     "output_type": "stream",
     "text": [
      " 30%|███       | 1915/6321 [1:27:35<12:28:15, 10.19s/it]"
     ]
    },
    {
     "name": "stdout",
     "output_type": "stream",
     "text": [
      "Extracted content from https://www.seattleu.edu/directory/profiles/eric-gilbertson-phd.php and saved to JSON.\n"
     ]
    },
    {
     "name": "stderr",
     "output_type": "stream",
     "text": [
      " 30%|███       | 1916/6321 [1:27:45<12:27:29, 10.18s/it]"
     ]
    },
    {
     "name": "stdout",
     "output_type": "stream",
     "text": [
      "Extracted content from https://www.seattleu.edu/directory/profiles/eric-guerra.php and saved to JSON.\n"
     ]
    },
    {
     "name": "stderr",
     "output_type": "stream",
     "text": [
      " 30%|███       | 1917/6321 [1:27:56<12:32:08, 10.25s/it]"
     ]
    },
    {
     "name": "stdout",
     "output_type": "stream",
     "text": [
      "Extracted content from https://www.seattleu.edu/directory/profiles/eric-jaderlund.php and saved to JSON.\n"
     ]
    },
    {
     "name": "stderr",
     "output_type": "stream",
     "text": [
      " 30%|███       | 1918/6321 [1:28:06<12:29:43, 10.22s/it]"
     ]
    },
    {
     "name": "stdout",
     "output_type": "stream",
     "text": [
      "Extracted content from https://www.seattleu.edu/directory/profiles/eric-larson-phd.php and saved to JSON.\n"
     ]
    },
    {
     "name": "stderr",
     "output_type": "stream",
     "text": [
      " 30%|███       | 1919/6321 [1:28:16<12:30:01, 10.22s/it]"
     ]
    },
    {
     "name": "stdout",
     "output_type": "stream",
     "text": [
      "Extracted content from https://www.seattleu.edu/directory/profiles/eric-lloyd.php and saved to JSON.\n"
     ]
    },
    {
     "name": "stderr",
     "output_type": "stream",
     "text": [
      " 30%|███       | 1920/6321 [1:28:26<12:28:02, 10.20s/it]"
     ]
    },
    {
     "name": "stdout",
     "output_type": "stream",
     "text": [
      "Extracted content from https://www.seattleu.edu/directory/profiles/eric-severson.php and saved to JSON.\n"
     ]
    },
    {
     "name": "stderr",
     "output_type": "stream",
     "text": [
      " 30%|███       | 1921/6321 [1:28:36<12:26:53, 10.18s/it]"
     ]
    },
    {
     "name": "stdout",
     "output_type": "stream",
     "text": [
      "Extracted content from https://www.seattleu.edu/directory/profiles/eric-skov.php and saved to JSON.\n"
     ]
    },
    {
     "name": "stderr",
     "output_type": "stream",
     "text": [
      " 30%|███       | 1922/6321 [1:28:47<12:25:24, 10.17s/it]"
     ]
    },
    {
     "name": "stdout",
     "output_type": "stream",
     "text": [
      "Extracted content from https://www.seattleu.edu/directory/profiles/eric-watson-sj-phd.php and saved to JSON.\n"
     ]
    },
    {
     "name": "stderr",
     "output_type": "stream",
     "text": [
      " 30%|███       | 1924/6321 [1:28:57<8:46:03,  7.18s/it] "
     ]
    },
    {
     "name": "stdout",
     "output_type": "stream",
     "text": [
      "Error processing https:www.seattleu.edu/directory/profiles/erica-freeman.php: HTTP Error 404: Not Found\n",
      "Extracted content from https://www.seattleu.edu/directory/profiles/erica-lilleleht-psyd.php and saved to JSON.\n"
     ]
    },
    {
     "name": "stderr",
     "output_type": "stream",
     "text": [
      " 30%|███       | 1925/6321 [1:29:07<9:51:51,  8.08s/it]"
     ]
    },
    {
     "name": "stdout",
     "output_type": "stream",
     "text": [
      "Extracted content from https://www.seattleu.edu/directory/profiles/erica-lee-martin-phd.php and saved to JSON.\n"
     ]
    },
    {
     "name": "stderr",
     "output_type": "stream",
     "text": [
      " 30%|███       | 1926/6321 [1:29:17<10:40:40,  8.75s/it]"
     ]
    },
    {
     "name": "stdout",
     "output_type": "stream",
     "text": [
      "Extracted content from https://www.seattleu.edu/directory/profiles/erich-christiansen.php and saved to JSON.\n"
     ]
    },
    {
     "name": "stderr",
     "output_type": "stream",
     "text": [
      " 30%|███       | 1927/6321 [1:29:28<11:11:49,  9.17s/it]"
     ]
    },
    {
     "name": "stdout",
     "output_type": "stream",
     "text": [
      "Extracted content from https://www.seattleu.edu/directory/profiles/erik-olsen-phd.php and saved to JSON.\n"
     ]
    },
    {
     "name": "stderr",
     "output_type": "stream",
     "text": [
      " 31%|███       | 1928/6321 [1:29:38<11:33:07,  9.47s/it]"
     ]
    },
    {
     "name": "stdout",
     "output_type": "stream",
     "text": [
      "Extracted content from https://www.seattleu.edu/directory/profiles/erik-j-siehl.php and saved to JSON.\n"
     ]
    },
    {
     "name": "stderr",
     "output_type": "stream",
     "text": [
      " 31%|███       | 1929/6321 [1:29:48<11:48:15,  9.68s/it]"
     ]
    },
    {
     "name": "stdout",
     "output_type": "stream",
     "text": [
      "Extracted content from https://www.seattleu.edu/directory/profiles/erin-carr.php and saved to JSON.\n"
     ]
    },
    {
     "name": "stderr",
     "output_type": "stream",
     "text": [
      " 31%|███       | 1930/6321 [1:29:58<11:59:06,  9.83s/it]"
     ]
    },
    {
     "name": "stdout",
     "output_type": "stream",
     "text": [
      "Extracted content from https://www.seattleu.edu/directory/profiles/erin-chung-dma.php and saved to JSON.\n"
     ]
    },
    {
     "name": "stderr",
     "output_type": "stream",
     "text": [
      " 31%|███       | 1931/6321 [1:30:08<12:06:20,  9.93s/it]"
     ]
    },
    {
     "name": "stdout",
     "output_type": "stream",
     "text": [
      "Extracted content from https://www.seattleu.edu/directory/profiles/erin-delsol-mcintire-msn-arnp.php and saved to JSON.\n"
     ]
    },
    {
     "name": "stderr",
     "output_type": "stream",
     "text": [
      " 31%|███       | 1932/6321 [1:30:18<12:10:46,  9.99s/it]"
     ]
    },
    {
     "name": "stdout",
     "output_type": "stream",
     "text": [
      "Extracted content from https://www.seattleu.edu/directory/profiles/erin-fitzgerald-dnp-msw-lswaic-rn.php and saved to JSON.\n"
     ]
    },
    {
     "name": "stderr",
     "output_type": "stream",
     "text": [
      " 31%|███       | 1933/6321 [1:30:29<12:15:34, 10.06s/it]"
     ]
    },
    {
     "name": "stdout",
     "output_type": "stream",
     "text": [
      "Extracted content from https://www.seattleu.edu/directory/profiles/erin-fullner.php and saved to JSON.\n"
     ]
    },
    {
     "name": "stderr",
     "output_type": "stream",
     "text": [
      " 31%|███       | 1934/6321 [1:30:39<12:21:10, 10.14s/it]"
     ]
    },
    {
     "name": "stdout",
     "output_type": "stream",
     "text": [
      "Extracted content from https://www.seattleu.edu/directory/profiles/erin-hargrove.php and saved to JSON.\n"
     ]
    },
    {
     "name": "stderr",
     "output_type": "stream",
     "text": [
      " 31%|███       | 1936/6321 [1:30:49<8:43:23,  7.16s/it] "
     ]
    },
    {
     "name": "stdout",
     "output_type": "stream",
     "text": [
      "Error processing https:www.seattleu.edu/directory/profiles/erin-hooyboer.php: HTTP Error 404: Not Found\n",
      "Extracted content from https://www.seattleu.edu/directory/profiles/erin-moynihan.php and saved to JSON.\n"
     ]
    },
    {
     "name": "stderr",
     "output_type": "stream",
     "text": [
      " 31%|███       | 1937/6321 [1:30:59<9:48:48,  8.06s/it]"
     ]
    },
    {
     "name": "stdout",
     "output_type": "stream",
     "text": [
      "Extracted content from https://www.seattleu.edu/directory/profiles/erin-swezey-mps-ma.php and saved to JSON.\n"
     ]
    },
    {
     "name": "stderr",
     "output_type": "stream",
     "text": [
      " 31%|███       | 1938/6321 [1:31:10<10:34:45,  8.69s/it]"
     ]
    },
    {
     "name": "stdout",
     "output_type": "stream",
     "text": [
      "Extracted content from https://www.seattleu.edu/directory/profiles/erin-vernon-phd.php and saved to JSON.\n"
     ]
    },
    {
     "name": "stderr",
     "output_type": "stream",
     "text": [
      " 31%|███       | 1939/6321 [1:31:20<11:06:49,  9.13s/it]"
     ]
    },
    {
     "name": "stdout",
     "output_type": "stream",
     "text": [
      "Extracted content from https://www.seattleu.edu/directory/profiles/esmeralda-gonzalez.php and saved to JSON.\n"
     ]
    },
    {
     "name": "stderr",
     "output_type": "stream",
     "text": [
      " 31%|███       | 1940/6321 [1:31:30<11:29:18,  9.44s/it]"
     ]
    },
    {
     "name": "stdout",
     "output_type": "stream",
     "text": [
      "Extracted content from https://www.seattleu.edu/directory/profiles/estefania-kendall.php and saved to JSON.\n"
     ]
    },
    {
     "name": "stderr",
     "output_type": "stream",
     "text": [
      " 31%|███       | 1941/6321 [1:31:40<11:45:16,  9.66s/it]"
     ]
    },
    {
     "name": "stdout",
     "output_type": "stream",
     "text": [
      "Extracted content from https://www.seattleu.edu/directory/profiles/ethan-schwab-phd-lmft.php and saved to JSON.\n"
     ]
    },
    {
     "name": "stderr",
     "output_type": "stream",
     "text": [
      " 31%|███       | 1942/6321 [1:31:50<11:58:34,  9.85s/it]"
     ]
    },
    {
     "name": "stdout",
     "output_type": "stream",
     "text": [
      "Extracted content from https://www.seattleu.edu/directory/profiles/eugene-lunoff.php and saved to JSON.\n"
     ]
    },
    {
     "name": "stderr",
     "output_type": "stream",
     "text": [
      " 31%|███       | 1943/6321 [1:32:01<12:10:23, 10.01s/it]"
     ]
    },
    {
     "name": "stdout",
     "output_type": "stream",
     "text": [
      "Extracted content from https://www.seattleu.edu/directory/profiles/eunice-macgill.php and saved to JSON.\n"
     ]
    },
    {
     "name": "stderr",
     "output_type": "stream",
     "text": [
      " 31%|███       | 1944/6321 [1:32:11<12:13:49, 10.06s/it]"
     ]
    },
    {
     "name": "stdout",
     "output_type": "stream",
     "text": [
      "Extracted content from https://www.seattleu.edu/directory/profiles/eunice-rhee.php and saved to JSON.\n"
     ]
    },
    {
     "name": "stderr",
     "output_type": "stream",
     "text": [
      " 31%|███       | 1945/6321 [1:32:21<12:16:08, 10.09s/it]"
     ]
    },
    {
     "name": "stdout",
     "output_type": "stream",
     "text": [
      "Extracted content from https://www.seattleu.edu/directory/profiles/eva-dicker-phd.php and saved to JSON.\n"
     ]
    },
    {
     "name": "stderr",
     "output_type": "stream",
     "text": [
      " 31%|███       | 1946/6321 [1:32:31<12:17:52, 10.12s/it]"
     ]
    },
    {
     "name": "stdout",
     "output_type": "stream",
     "text": [
      "Extracted content from https://www.seattleu.edu/directory/profiles/evonne-osorio.php and saved to JSON.\n"
     ]
    },
    {
     "name": "stderr",
     "output_type": "stream",
     "text": [
      " 31%|███       | 1947/6321 [1:32:41<12:18:03, 10.12s/it]"
     ]
    },
    {
     "name": "stdout",
     "output_type": "stream",
     "text": [
      "Extracted content from https://www.seattleu.edu/directory/profiles/fade-eadeh.php and saved to JSON.\n"
     ]
    },
    {
     "name": "stderr",
     "output_type": "stream",
     "text": [
      " 31%|███       | 1948/6321 [1:32:52<12:18:55, 10.14s/it]"
     ]
    },
    {
     "name": "stdout",
     "output_type": "stream",
     "text": [
      "Extracted content from https://www.seattleu.edu/directory/profiles/faith-reiter.php and saved to JSON.\n"
     ]
    },
    {
     "name": "stderr",
     "output_type": "stream",
     "text": [
      " 31%|███       | 1949/6321 [1:33:02<12:18:56, 10.14s/it]"
     ]
    },
    {
     "name": "stdout",
     "output_type": "stream",
     "text": [
      "Extracted content from https://www.seattleu.edu/directory/profiles/fanghui-zhao.php and saved to JSON.\n"
     ]
    },
    {
     "name": "stderr",
     "output_type": "stream",
     "text": [
      " 31%|███       | 1950/6321 [1:33:12<12:18:46, 10.14s/it]"
     ]
    },
    {
     "name": "stdout",
     "output_type": "stream",
     "text": [
      "Extracted content from https://www.seattleu.edu/directory/profiles/farhana-rahman.php and saved to JSON.\n"
     ]
    },
    {
     "name": "stderr",
     "output_type": "stream",
     "text": [
      " 31%|███       | 1951/6321 [1:33:22<12:21:20, 10.18s/it]"
     ]
    },
    {
     "name": "stdout",
     "output_type": "stream",
     "text": [
      "Extracted content from https://www.seattleu.edu/directory/profiles/fatemeh-choupani-phd-rn.php and saved to JSON.\n"
     ]
    },
    {
     "name": "stderr",
     "output_type": "stream",
     "text": [
      " 31%|███       | 1952/6321 [1:33:32<12:22:46, 10.20s/it]"
     ]
    },
    {
     "name": "stdout",
     "output_type": "stream",
     "text": [
      "Extracted content from https://www.seattleu.edu/directory/profiles/felipe-murtinho.php and saved to JSON.\n"
     ]
    },
    {
     "name": "stderr",
     "output_type": "stream",
     "text": [
      " 31%|███       | 1953/6321 [1:33:43<12:22:21, 10.20s/it]"
     ]
    },
    {
     "name": "stdout",
     "output_type": "stream",
     "text": [
      "Extracted content from https://www.seattleu.edu/directory/profiles/ferdinand-tablan-phd.php and saved to JSON.\n"
     ]
    },
    {
     "name": "stderr",
     "output_type": "stream",
     "text": [
      " 31%|███       | 1954/6321 [1:33:53<12:22:52, 10.21s/it]"
     ]
    },
    {
     "name": "stdout",
     "output_type": "stream",
     "text": [
      "Extracted content from https://www.seattleu.edu/directory/profiles/fernando-uribe.php and saved to JSON.\n"
     ]
    },
    {
     "name": "stderr",
     "output_type": "stream",
     "text": [
      " 31%|███       | 1955/6321 [1:34:03<12:27:44, 10.28s/it]"
     ]
    },
    {
     "name": "stdout",
     "output_type": "stream",
     "text": [
      "Extracted content from https://www.seattleu.edu/directory/profiles/feven-teklu.php and saved to JSON.\n"
     ]
    },
    {
     "name": "stderr",
     "output_type": "stream",
     "text": [
      " 31%|███       | 1956/6321 [1:34:13<12:24:52, 10.24s/it]"
     ]
    },
    {
     "name": "stdout",
     "output_type": "stream",
     "text": [
      "Extracted content from https://www.seattleu.edu/directory/profiles/fiona-robertson.php and saved to JSON.\n"
     ]
    },
    {
     "name": "stderr",
     "output_type": "stream",
     "text": [
      " 31%|███       | 1957/6321 [1:34:24<12:22:24, 10.21s/it]"
     ]
    },
    {
     "name": "stdout",
     "output_type": "stream",
     "text": [
      "Extracted content from https://www.seattleu.edu/directory/profiles/francisco-guerrero-mfa.php and saved to JSON.\n"
     ]
    },
    {
     "name": "stderr",
     "output_type": "stream",
     "text": [
      " 31%|███       | 1958/6321 [1:34:34<12:30:02, 10.31s/it]"
     ]
    },
    {
     "name": "stdout",
     "output_type": "stream",
     "text": [
      "Extracted content from https://www.seattleu.edu/directory/profiles/francisco-magana.php and saved to JSON.\n"
     ]
    },
    {
     "name": "stderr",
     "output_type": "stream",
     "text": [
      " 31%|███       | 1959/6321 [1:34:44<12:26:46, 10.27s/it]"
     ]
    },
    {
     "name": "stdout",
     "output_type": "stream",
     "text": [
      "Extracted content from https://www.seattleu.edu/directory/profiles/frank-cuthbertson.php and saved to JSON.\n"
     ]
    },
    {
     "name": "stderr",
     "output_type": "stream",
     "text": [
      " 31%|███       | 1960/6321 [1:34:54<12:24:50, 10.25s/it]"
     ]
    },
    {
     "name": "stdout",
     "output_type": "stream",
     "text": [
      "Extracted content from https://www.seattleu.edu/directory/profiles/frank-dimarino.php and saved to JSON.\n"
     ]
    },
    {
     "name": "stderr",
     "output_type": "stream",
     "text": [
      " 31%|███       | 1961/6321 [1:35:05<12:22:58, 10.22s/it]"
     ]
    },
    {
     "name": "stdout",
     "output_type": "stream",
     "text": [
      "Extracted content from https://www.seattleu.edu/directory/profiles/frank-j-shih-phd.php and saved to JSON.\n"
     ]
    },
    {
     "name": "stderr",
     "output_type": "stream",
     "text": [
      " 31%|███       | 1962/6321 [1:35:15<12:26:45, 10.28s/it]"
     ]
    },
    {
     "name": "stdout",
     "output_type": "stream",
     "text": [
      "Extracted content from https://www.seattleu.edu/directory/profiles/fred-pursell.php and saved to JSON.\n"
     ]
    },
    {
     "name": "stderr",
     "output_type": "stream",
     "text": [
      " 31%|███       | 1963/6321 [1:35:25<12:27:07, 10.29s/it]"
     ]
    },
    {
     "name": "stdout",
     "output_type": "stream",
     "text": [
      "Extracted content from https://www.seattleu.edu/directory/profiles/frederic-liebrand.php and saved to JSON.\n"
     ]
    },
    {
     "name": "stderr",
     "output_type": "stream",
     "text": [
      " 31%|███       | 1964/6321 [1:35:35<12:24:10, 10.25s/it]"
     ]
    },
    {
     "name": "stdout",
     "output_type": "stream",
     "text": [
      "Extracted content from https://www.seattleu.edu/directory/profiles/frederick-corbit.php and saved to JSON.\n"
     ]
    },
    {
     "name": "stderr",
     "output_type": "stream",
     "text": [
      " 31%|███       | 1965/6321 [1:35:46<12:22:31, 10.23s/it]"
     ]
    },
    {
     "name": "stdout",
     "output_type": "stream",
     "text": [
      "Extracted content from https://www.seattleu.edu/directory/profiles/freedom-kelley-msn-rn.php and saved to JSON.\n"
     ]
    },
    {
     "name": "stderr",
     "output_type": "stream",
     "text": [
      " 31%|███       | 1966/6321 [1:35:56<12:21:00, 10.21s/it]"
     ]
    },
    {
     "name": "stdout",
     "output_type": "stream",
     "text": [
      "Extracted content from https://www.seattleu.edu/directory/profiles/funda-pehlivanoglu-noyes.php and saved to JSON.\n"
     ]
    },
    {
     "name": "stderr",
     "output_type": "stream",
     "text": [
      " 31%|███       | 1967/6321 [1:36:06<12:20:06, 10.20s/it]"
     ]
    },
    {
     "name": "stdout",
     "output_type": "stream",
     "text": [
      "Extracted content from https://www.seattleu.edu/directory/profiles/gabriel-saucedo-phd-cpa.php and saved to JSON.\n"
     ]
    },
    {
     "name": "stderr",
     "output_type": "stream",
     "text": [
      " 31%|███       | 1968/6321 [1:36:16<12:19:16, 10.19s/it]"
     ]
    },
    {
     "name": "stdout",
     "output_type": "stream",
     "text": [
      "Extracted content from https://www.seattleu.edu/directory/profiles/gabriel-solseng.php and saved to JSON.\n"
     ]
    },
    {
     "name": "stderr",
     "output_type": "stream",
     "text": [
      " 31%|███       | 1969/6321 [1:36:26<12:18:57, 10.19s/it]"
     ]
    },
    {
     "name": "stdout",
     "output_type": "stream",
     "text": [
      "Extracted content from https://www.seattleu.edu/directory/profiles/gabriel-trimbur.php and saved to JSON.\n"
     ]
    },
    {
     "name": "stderr",
     "output_type": "stream",
     "text": [
      " 31%|███       | 1970/6321 [1:36:37<12:18:25, 10.18s/it]"
     ]
    },
    {
     "name": "stdout",
     "output_type": "stream",
     "text": [
      "Extracted content from https://www.seattleu.edu/directory/profiles/gabriella-gutierrez-y-muhs-phd.php and saved to JSON.\n"
     ]
    },
    {
     "name": "stderr",
     "output_type": "stream",
     "text": [
      " 31%|███       | 1971/6321 [1:36:47<12:20:21, 10.21s/it]"
     ]
    },
    {
     "name": "stdout",
     "output_type": "stream",
     "text": [
      "Extracted content from https://www.seattleu.edu/directory/profiles/gabriella-santos.php and saved to JSON.\n"
     ]
    },
    {
     "name": "stderr",
     "output_type": "stream",
     "text": [
      " 31%|███       | 1972/6321 [1:36:57<12:18:56, 10.19s/it]"
     ]
    },
    {
     "name": "stdout",
     "output_type": "stream",
     "text": [
      "Extracted content from https://www.seattleu.edu/directory/profiles/galen-trail.php and saved to JSON.\n"
     ]
    },
    {
     "name": "stderr",
     "output_type": "stream",
     "text": [
      " 31%|███       | 1973/6321 [1:37:07<12:18:17, 10.19s/it]"
     ]
    },
    {
     "name": "stdout",
     "output_type": "stream",
     "text": [
      "Extracted content from https://www.seattleu.edu/directory/profiles/gareth-green.php and saved to JSON.\n"
     ]
    },
    {
     "name": "stderr",
     "output_type": "stream",
     "text": [
      " 31%|███       | 1974/6321 [1:37:17<12:17:57, 10.19s/it]"
     ]
    },
    {
     "name": "stdout",
     "output_type": "stream",
     "text": [
      "Extracted content from https://www.seattleu.edu/directory/profiles/gary-l-atkins-ma.php and saved to JSON.\n"
     ]
    },
    {
     "name": "stderr",
     "output_type": "stream",
     "text": [
      " 31%|███       | 1975/6321 [1:37:27<12:16:40, 10.17s/it]"
     ]
    },
    {
     "name": "stdout",
     "output_type": "stream",
     "text": [
      "Extracted content from https://www.seattleu.edu/directory/profiles/gary-chan.php and saved to JSON.\n"
     ]
    },
    {
     "name": "stderr",
     "output_type": "stream",
     "text": [
      " 31%|███▏      | 1976/6321 [1:37:38<12:16:33, 10.17s/it]"
     ]
    },
    {
     "name": "stdout",
     "output_type": "stream",
     "text": [
      "Extracted content from https://www.seattleu.edu/directory/profiles/gary-fernandes.php and saved to JSON.\n"
     ]
    },
    {
     "name": "stderr",
     "output_type": "stream",
     "text": [
      " 31%|███▏      | 1977/6321 [1:37:48<12:16:37, 10.17s/it]"
     ]
    },
    {
     "name": "stdout",
     "output_type": "stream",
     "text": [
      "Extracted content from https://www.seattleu.edu/directory/profiles/gary-murakami.php and saved to JSON.\n"
     ]
    },
    {
     "name": "stderr",
     "output_type": "stream",
     "text": [
      " 31%|███▏      | 1978/6321 [1:37:58<12:17:21, 10.19s/it]"
     ]
    },
    {
     "name": "stdout",
     "output_type": "stream",
     "text": [
      "Extracted content from https://www.seattleu.edu/directory/profiles/brother-gary-kinte-perry-phd.php and saved to JSON.\n"
     ]
    },
    {
     "name": "stderr",
     "output_type": "stream",
     "text": [
      " 31%|███▏      | 1979/6321 [1:38:08<12:19:12, 10.21s/it]"
     ]
    },
    {
     "name": "stdout",
     "output_type": "stream",
     "text": [
      "Extracted content from https://www.seattleu.edu/directory/profiles/gary-zarter.php and saved to JSON.\n"
     ]
    },
    {
     "name": "stderr",
     "output_type": "stream",
     "text": [
      " 31%|███▏      | 1980/6321 [1:38:18<12:17:19, 10.19s/it]"
     ]
    },
    {
     "name": "stdout",
     "output_type": "stream",
     "text": [
      "Extracted content from https://www.seattleu.edu/directory/profiles/gary-zimmerman.php and saved to JSON.\n"
     ]
    },
    {
     "name": "stderr",
     "output_type": "stream",
     "text": [
      " 31%|███▏      | 1981/6321 [1:38:29<12:16:35, 10.18s/it]"
     ]
    },
    {
     "name": "stdout",
     "output_type": "stream",
     "text": [
      "Extracted content from https://www.seattleu.edu/directory/profiles/gaurav-mandan.php and saved to JSON.\n"
     ]
    },
    {
     "name": "stderr",
     "output_type": "stream",
     "text": [
      " 31%|███▏      | 1982/6321 [1:38:39<12:16:14, 10.18s/it]"
     ]
    },
    {
     "name": "stdout",
     "output_type": "stream",
     "text": [
      "Extracted content from https://www.seattleu.edu/directory/profiles/gavin-reub.php and saved to JSON.\n"
     ]
    },
    {
     "name": "stderr",
     "output_type": "stream",
     "text": [
      " 31%|███▏      | 1983/6321 [1:38:49<12:15:37, 10.17s/it]"
     ]
    },
    {
     "name": "stdout",
     "output_type": "stream",
     "text": [
      "Extracted content from https://www.seattleu.edu/directory/profiles/gayle-robinson-phd-rn.php and saved to JSON.\n"
     ]
    },
    {
     "name": "stderr",
     "output_type": "stream",
     "text": [
      " 31%|███▏      | 1984/6321 [1:38:59<12:15:13, 10.17s/it]"
     ]
    },
    {
     "name": "stdout",
     "output_type": "stream",
     "text": [
      "Extracted content from https://www.seattleu.edu/directory/profiles/geanna-luaulu-summers.php and saved to JSON.\n"
     ]
    },
    {
     "name": "stderr",
     "output_type": "stream",
     "text": [
      " 31%|███▏      | 1985/6321 [1:39:09<12:14:54, 10.17s/it]"
     ]
    },
    {
     "name": "stdout",
     "output_type": "stream",
     "text": [
      "Extracted content from https://www.seattleu.edu/directory/profiles/gena-asmore.php and saved to JSON.\n"
     ]
    },
    {
     "name": "stderr",
     "output_type": "stream",
     "text": [
      " 31%|███▏      | 1986/6321 [1:39:19<12:14:36, 10.17s/it]"
     ]
    },
    {
     "name": "stdout",
     "output_type": "stream",
     "text": [
      "Extracted content from https://www.seattleu.edu/directory/profiles/gene-dockery-phd-lpcc-ncc.php and saved to JSON.\n"
     ]
    },
    {
     "name": "stderr",
     "output_type": "stream",
     "text": [
      " 31%|███▏      | 1987/6321 [1:39:30<12:18:52, 10.23s/it]"
     ]
    },
    {
     "name": "stdout",
     "output_type": "stream",
     "text": [
      "Extracted content from https://www.seattleu.edu/directory/profiles/genna-magnan.php and saved to JSON.\n"
     ]
    },
    {
     "name": "stderr",
     "output_type": "stream",
     "text": [
      " 31%|███▏      | 1988/6321 [1:39:40<12:16:52, 10.20s/it]"
     ]
    },
    {
     "name": "stdout",
     "output_type": "stream",
     "text": [
      "Extracted content from https://www.seattleu.edu/directory/profiles/geoff-hirai.php and saved to JSON.\n"
     ]
    },
    {
     "name": "stderr",
     "output_type": "stream",
     "text": [
      " 31%|███▏      | 1989/6321 [1:39:50<12:16:57, 10.21s/it]"
     ]
    },
    {
     "name": "stdout",
     "output_type": "stream",
     "text": [
      "Extracted content from https://www.seattleu.edu/directory/profiles/george-razavine.php and saved to JSON.\n"
     ]
    },
    {
     "name": "stderr",
     "output_type": "stream",
     "text": [
      " 31%|███▏      | 1990/6321 [1:40:00<12:16:12, 10.20s/it]"
     ]
    },
    {
     "name": "stdout",
     "output_type": "stream",
     "text": [
      "Extracted content from https://www.seattleu.edu/directory/profiles/george-simmons.php and saved to JSON.\n"
     ]
    },
    {
     "name": "stderr",
     "output_type": "stream",
     "text": [
      " 31%|███▏      | 1991/6321 [1:40:10<12:15:13, 10.19s/it]"
     ]
    },
    {
     "name": "stdout",
     "output_type": "stream",
     "text": [
      "Extracted content from https://www.seattleu.edu/directory/profiles/georgia-gurrieri.php and saved to JSON.\n"
     ]
    },
    {
     "name": "stderr",
     "output_type": "stream",
     "text": [
      " 32%|███▏      | 1992/6321 [1:40:21<12:14:35, 10.18s/it]"
     ]
    },
    {
     "name": "stdout",
     "output_type": "stream",
     "text": [
      "Extracted content from https://www.seattleu.edu/directory/profiles/jerry-blackburn-med-sudp.php and saved to JSON.\n"
     ]
    },
    {
     "name": "stderr",
     "output_type": "stream",
     "text": [
      " 32%|███▏      | 1993/6321 [1:40:31<12:13:50, 10.17s/it]"
     ]
    },
    {
     "name": "stdout",
     "output_type": "stream",
     "text": [
      "Extracted content from https://www.seattleu.edu/directory/profiles/gerald-corporal.php and saved to JSON.\n"
     ]
    },
    {
     "name": "stderr",
     "output_type": "stream",
     "text": [
      " 32%|███▏      | 1994/6321 [1:40:42<12:25:39, 10.34s/it]"
     ]
    },
    {
     "name": "stdout",
     "output_type": "stream",
     "text": [
      "Extracted content from https://www.seattleu.edu/directory/profiles/gerald-heppler.php and saved to JSON.\n"
     ]
    },
    {
     "name": "stderr",
     "output_type": "stream",
     "text": [
      " 32%|███▏      | 1995/6321 [1:40:52<12:23:56, 10.32s/it]"
     ]
    },
    {
     "name": "stdout",
     "output_type": "stream",
     "text": [
      "Extracted content from https://www.seattleu.edu/directory/profiles/gia-g-ledesma.php and saved to JSON.\n"
     ]
    },
    {
     "name": "stderr",
     "output_type": "stream",
     "text": [
      " 32%|███▏      | 1996/6321 [1:41:02<12:20:37, 10.27s/it]"
     ]
    },
    {
     "name": "stdout",
     "output_type": "stream",
     "text": [
      "Extracted content from https://www.seattleu.edu/directory/profiles/gillian-dutton.php and saved to JSON.\n"
     ]
    },
    {
     "name": "stderr",
     "output_type": "stream",
     "text": [
      " 32%|███▏      | 1997/6321 [1:41:12<12:18:20, 10.25s/it]"
     ]
    },
    {
     "name": "stdout",
     "output_type": "stream",
     "text": [
      "Extracted content from https://www.seattleu.edu/directory/profiles/gisela-castro.php and saved to JSON.\n"
     ]
    },
    {
     "name": "stderr",
     "output_type": "stream",
     "text": [
      " 32%|███▏      | 1998/6321 [1:41:22<12:16:54, 10.23s/it]"
     ]
    },
    {
     "name": "stdout",
     "output_type": "stream",
     "text": [
      "Extracted content from https://www.seattleu.edu/directory/profiles/glenda-navas.php and saved to JSON.\n"
     ]
    },
    {
     "name": "stderr",
     "output_type": "stream",
     "text": [
      " 32%|███▏      | 1999/6321 [1:41:32<12:15:13, 10.21s/it]"
     ]
    },
    {
     "name": "stdout",
     "output_type": "stream",
     "text": [
      "Extracted content from https://www.seattleu.edu/directory/profiles/glenn-lux.php and saved to JSON.\n"
     ]
    },
    {
     "name": "stderr",
     "output_type": "stream",
     "text": [
      " 32%|███▏      | 2000/6321 [1:41:43<12:14:07, 10.19s/it]"
     ]
    },
    {
     "name": "stdout",
     "output_type": "stream",
     "text": [
      "Extracted content from https://www.seattleu.edu/directory/profiles/glenn-yasuda-phd.php and saved to JSON.\n"
     ]
    },
    {
     "name": "stderr",
     "output_type": "stream",
     "text": [
      " 32%|███▏      | 2001/6321 [1:41:53<12:13:59, 10.19s/it]"
     ]
    },
    {
     "name": "stdout",
     "output_type": "stream",
     "text": [
      "Extracted content from https://www.seattleu.edu/directory/profiles/gordon-miller-phd.php and saved to JSON.\n"
     ]
    },
    {
     "name": "stderr",
     "output_type": "stream",
     "text": [
      " 32%|███▏      | 2002/6321 [1:42:03<12:13:03, 10.18s/it]"
     ]
    },
    {
     "name": "stdout",
     "output_type": "stream",
     "text": [
      "Extracted content from https://www.seattleu.edu/directory/profiles/grace-ginaven.php and saved to JSON.\n"
     ]
    },
    {
     "name": "stderr",
     "output_type": "stream",
     "text": [
      " 32%|███▏      | 2003/6321 [1:42:13<12:17:13, 10.24s/it]"
     ]
    },
    {
     "name": "stdout",
     "output_type": "stream",
     "text": [
      "Extracted content from https://www.seattleu.edu/directory/profiles/grace-laguna.php and saved to JSON.\n"
     ]
    },
    {
     "name": "stderr",
     "output_type": "stream",
     "text": [
      " 32%|███▏      | 2004/6321 [1:42:24<12:15:30, 10.22s/it]"
     ]
    },
    {
     "name": "stdout",
     "output_type": "stream",
     "text": [
      "Extracted content from https://www.seattleu.edu/directory/profiles/grant-leep.php and saved to JSON.\n"
     ]
    },
    {
     "name": "stderr",
     "output_type": "stream",
     "text": [
      " 32%|███▏      | 2005/6321 [1:42:34<12:13:27, 10.20s/it]"
     ]
    },
    {
     "name": "stdout",
     "output_type": "stream",
     "text": [
      "Extracted content from https://www.seattleu.edu/directory/profiles/greg-mason-phd-pe.php and saved to JSON.\n"
     ]
    },
    {
     "name": "stderr",
     "output_type": "stream",
     "text": [
      " 32%|███▏      | 2006/6321 [1:42:44<12:12:58, 10.19s/it]"
     ]
    },
    {
     "name": "stdout",
     "output_type": "stream",
     "text": [
      "Extracted content from https://www.seattleu.edu/directory/profiles/greg-prussia-phd.php and saved to JSON.\n"
     ]
    },
    {
     "name": "stderr",
     "output_type": "stream",
     "text": [
      " 32%|███▏      | 2007/6321 [1:42:54<12:12:15, 10.18s/it]"
     ]
    },
    {
     "name": "stdout",
     "output_type": "stream",
     "text": [
      "Extracted content from https://www.seattleu.edu/directory/profiles/greg-ross.php and saved to JSON.\n"
     ]
    },
    {
     "name": "stderr",
     "output_type": "stream",
     "text": [
      " 32%|███▏      | 2008/6321 [1:43:04<12:11:47, 10.18s/it]"
     ]
    },
    {
     "name": "stdout",
     "output_type": "stream",
     "text": [
      "Extracted content from https://www.seattleu.edu/directory/profiles/gregory-imel.php and saved to JSON.\n"
     ]
    },
    {
     "name": "stderr",
     "output_type": "stream",
     "text": [
      " 32%|███▏      | 2009/6321 [1:43:14<12:11:21, 10.18s/it]"
     ]
    },
    {
     "name": "stdout",
     "output_type": "stream",
     "text": [
      "Extracted content from https://www.seattleu.edu/directory/profiles/greg-magnan-phd.php and saved to JSON.\n"
     ]
    },
    {
     "name": "stderr",
     "output_type": "stream",
     "text": [
      " 32%|███▏      | 2010/6321 [1:43:25<12:11:01, 10.17s/it]"
     ]
    },
    {
     "name": "stdout",
     "output_type": "stream",
     "text": [
      "Extracted content from https://www.seattleu.edu/directory/profiles/gregory-silverman.php and saved to JSON.\n"
     ]
    },
    {
     "name": "stderr",
     "output_type": "stream",
     "text": [
      " 32%|███▏      | 2011/6321 [1:43:35<12:13:31, 10.21s/it]"
     ]
    },
    {
     "name": "stdout",
     "output_type": "stream",
     "text": [
      "Extracted content from https://www.seattleu.edu/directory/profiles/greg-witter.php and saved to JSON.\n"
     ]
    },
    {
     "name": "stderr",
     "output_type": "stream",
     "text": [
      " 32%|███▏      | 2012/6321 [1:43:45<12:12:06, 10.19s/it]"
     ]
    },
    {
     "name": "stdout",
     "output_type": "stream",
     "text": [
      "Extracted content from https://www.seattleu.edu/directory/profiles/gretchen-burger.php and saved to JSON.\n"
     ]
    },
    {
     "name": "stderr",
     "output_type": "stream",
     "text": [
      " 32%|███▏      | 2013/6321 [1:43:55<12:11:24, 10.19s/it]"
     ]
    },
    {
     "name": "stdout",
     "output_type": "stream",
     "text": [
      "Extracted content from https://www.seattleu.edu/directory/profiles/gretchen-hinds.php and saved to JSON.\n"
     ]
    },
    {
     "name": "stderr",
     "output_type": "stream",
     "text": [
      " 32%|███▏      | 2014/6321 [1:44:05<12:10:34, 10.18s/it]"
     ]
    },
    {
     "name": "stdout",
     "output_type": "stream",
     "text": [
      "Extracted content from https://www.seattleu.edu/directory/profiles/gretchenrae-campera.php and saved to JSON.\n"
     ]
    },
    {
     "name": "stderr",
     "output_type": "stream",
     "text": [
      " 32%|███▏      | 2015/6321 [1:44:16<12:10:19, 10.18s/it]"
     ]
    },
    {
     "name": "stdout",
     "output_type": "stream",
     "text": [
      "Extracted content from https://www.seattleu.edu/directory/profiles/gwendolyn-jackson.php and saved to JSON.\n"
     ]
    },
    {
     "name": "stderr",
     "output_type": "stream",
     "text": [
      " 32%|███▏      | 2016/6321 [1:44:26<12:09:41, 10.17s/it]"
     ]
    },
    {
     "name": "stdout",
     "output_type": "stream",
     "text": [
      "Extracted content from https://www.seattleu.edu/directory/profiles/h-juul.php and saved to JSON.\n"
     ]
    },
    {
     "name": "stderr",
     "output_type": "stream",
     "text": [
      " 32%|███▏      | 2017/6321 [1:44:36<12:09:00, 10.16s/it]"
     ]
    },
    {
     "name": "stdout",
     "output_type": "stream",
     "text": [
      "Extracted content from https://www.seattleu.edu/directory/profiles/haley-kopmeyer.php and saved to JSON.\n"
     ]
    },
    {
     "name": "stderr",
     "output_type": "stream",
     "text": [
      " 32%|███▏      | 2018/6321 [1:44:46<12:09:01, 10.17s/it]"
     ]
    },
    {
     "name": "stdout",
     "output_type": "stream",
     "text": [
      "Extracted content from https://www.seattleu.edu/directory/profiles/hallie-hominda.php and saved to JSON.\n"
     ]
    },
    {
     "name": "stderr",
     "output_type": "stream",
     "text": [
      " 32%|███▏      | 2019/6321 [1:44:56<12:10:52, 10.19s/it]"
     ]
    },
    {
     "name": "stdout",
     "output_type": "stream",
     "text": [
      "Extracted content from https://www.seattleu.edu/directory/profiles/hamida-bosmajian.php and saved to JSON.\n"
     ]
    },
    {
     "name": "stderr",
     "output_type": "stream",
     "text": [
      " 32%|███▏      | 2020/6321 [1:45:06<12:09:47, 10.18s/it]"
     ]
    },
    {
     "name": "stdout",
     "output_type": "stream",
     "text": [
      "Extracted content from https://www.seattleu.edu/directory/profiles/hanna-richter.php and saved to JSON.\n"
     ]
    },
    {
     "name": "stderr",
     "output_type": "stream",
     "text": [
      " 32%|███▏      | 2022/6321 [1:45:17<8:34:51,  7.19s/it] "
     ]
    },
    {
     "name": "stdout",
     "output_type": "stream",
     "text": [
      "Error processing https:www.seattleu.edu/directory/profiles/hannah-harper.php: HTTP Error 404: Not Found\n",
      "Extracted content from https://www.seattleu.edu/directory/profiles/hannah-mitchel-gevirtz.php and saved to JSON.\n"
     ]
    },
    {
     "name": "stderr",
     "output_type": "stream",
     "text": [
      " 32%|███▏      | 2023/6321 [1:45:27<9:38:21,  8.07s/it]"
     ]
    },
    {
     "name": "stdout",
     "output_type": "stream",
     "text": [
      "Extracted content from https://www.seattleu.edu/directory/profiles/hannah-nguyen.php and saved to JSON.\n"
     ]
    },
    {
     "name": "stderr",
     "output_type": "stream",
     "text": [
      " 32%|███▏      | 2024/6321 [1:45:37<10:22:40,  8.69s/it]"
     ]
    },
    {
     "name": "stdout",
     "output_type": "stream",
     "text": [
      "Extracted content from https://www.seattleu.edu/directory/profiles/hannah-tracy-phd.php and saved to JSON.\n"
     ]
    },
    {
     "name": "stderr",
     "output_type": "stream",
     "text": [
      " 32%|███▏      | 2025/6321 [1:45:47<10:56:28,  9.17s/it]"
     ]
    },
    {
     "name": "stdout",
     "output_type": "stream",
     "text": [
      "Extracted content from https://www.seattleu.edu/directory/profiles/hannah-wadsworth.php and saved to JSON.\n"
     ]
    },
    {
     "name": "stderr",
     "output_type": "stream",
     "text": [
      " 32%|███▏      | 2026/6321 [1:45:58<11:17:43,  9.47s/it]"
     ]
    },
    {
     "name": "stdout",
     "output_type": "stream",
     "text": [
      "Extracted content from https://www.seattleu.edu/directory/profiles/harmony-arnold-mfa.php and saved to JSON.\n"
     ]
    },
    {
     "name": "stderr",
     "output_type": "stream",
     "text": [
      " 32%|███▏      | 2027/6321 [1:46:08<11:32:26,  9.68s/it]"
     ]
    },
    {
     "name": "stdout",
     "output_type": "stream",
     "text": [
      "Extracted content from https://www.seattleu.edu/directory/profiles/harriet-phinney-phd.php and saved to JSON.\n"
     ]
    },
    {
     "name": "stderr",
     "output_type": "stream",
     "text": [
      " 32%|███▏      | 2028/6321 [1:46:18<11:46:49,  9.88s/it]"
     ]
    },
    {
     "name": "stdout",
     "output_type": "stream",
     "text": [
      "Extracted content from https://www.seattleu.edu/directory/profiles/harriet-stephenson.php and saved to JSON.\n"
     ]
    },
    {
     "name": "stderr",
     "output_type": "stream",
     "text": [
      " 32%|███▏      | 2029/6321 [1:46:28<11:52:28,  9.96s/it]"
     ]
    },
    {
     "name": "stdout",
     "output_type": "stream",
     "text": [
      "Extracted content from https://www.seattleu.edu/directory/profiles/hartley-mcgrath.php and saved to JSON.\n"
     ]
    },
    {
     "name": "stderr",
     "output_type": "stream",
     "text": [
      " 32%|███▏      | 2030/6321 [1:46:38<11:56:48, 10.02s/it]"
     ]
    },
    {
     "name": "stdout",
     "output_type": "stream",
     "text": [
      "Extracted content from https://www.seattleu.edu/directory/profiles/hasaan-kirkland.php and saved to JSON.\n"
     ]
    },
    {
     "name": "stderr",
     "output_type": "stream",
     "text": [
      " 32%|███▏      | 2031/6321 [1:46:49<12:00:25, 10.08s/it]"
     ]
    },
    {
     "name": "stdout",
     "output_type": "stream",
     "text": [
      "Extracted content from https://www.seattleu.edu/directory/profiles/haejeong-hazel-hahn-phd.php and saved to JSON.\n"
     ]
    },
    {
     "name": "stderr",
     "output_type": "stream",
     "text": [
      " 32%|███▏      | 2032/6321 [1:46:59<12:02:54, 10.11s/it]"
     ]
    },
    {
     "name": "stdout",
     "output_type": "stream",
     "text": [
      "Extracted content from https://www.seattleu.edu/directory/profiles/heath-spencer.php and saved to JSON.\n"
     ]
    },
    {
     "name": "stderr",
     "output_type": "stream",
     "text": [
      " 32%|███▏      | 2033/6321 [1:47:09<12:03:27, 10.12s/it]"
     ]
    },
    {
     "name": "stdout",
     "output_type": "stream",
     "text": [
      "Extracted content from https://www.seattleu.edu/directory/profiles/heather-balser-dnp-msned-rn-ryt.php and saved to JSON.\n"
     ]
    },
    {
     "name": "stderr",
     "output_type": "stream",
     "text": [
      " 32%|███▏      | 2034/6321 [1:47:19<12:04:21, 10.14s/it]"
     ]
    },
    {
     "name": "stdout",
     "output_type": "stream",
     "text": [
      "Extracted content from https://www.seattleu.edu/directory/profiles/heather-bissmeyer-mn-rn-chse-npd-bc.php and saved to JSON.\n"
     ]
    },
    {
     "name": "stderr",
     "output_type": "stream",
     "text": [
      " 32%|███▏      | 2035/6321 [1:47:29<12:04:41, 10.15s/it]"
     ]
    },
    {
     "name": "stdout",
     "output_type": "stream",
     "text": [
      "Extracted content from https://www.seattleu.edu/directory/profiles/heather-geiger.php and saved to JSON.\n"
     ]
    },
    {
     "name": "stderr",
     "output_type": "stream",
     "text": [
      " 32%|███▏      | 2036/6321 [1:47:39<12:07:13, 10.18s/it]"
     ]
    },
    {
     "name": "stdout",
     "output_type": "stream",
     "text": [
      "Extracted content from https://www.seattleu.edu/directory/profiles/heather-a-martin-edd-msn-rn-cnrn-scrn-cne-dl.php and saved to JSON.\n"
     ]
    },
    {
     "name": "stderr",
     "output_type": "stream",
     "text": [
      " 32%|███▏      | 2037/6321 [1:47:50<12:06:43, 10.18s/it]"
     ]
    },
    {
     "name": "stdout",
     "output_type": "stream",
     "text": [
      "Extracted content from https://www.seattleu.edu/directory/profiles/heather-reis-fike.php and saved to JSON.\n"
     ]
    },
    {
     "name": "stderr",
     "output_type": "stream",
     "text": [
      " 32%|███▏      | 2038/6321 [1:48:00<12:08:22, 10.20s/it]"
     ]
    },
    {
     "name": "stdout",
     "output_type": "stream",
     "text": [
      "Extracted content from https://www.seattleu.edu/directory/profiles/heather-brown-phd.php and saved to JSON.\n"
     ]
    },
    {
     "name": "stderr",
     "output_type": "stream",
     "text": [
      " 32%|███▏      | 2039/6321 [1:48:10<12:07:35, 10.20s/it]"
     ]
    },
    {
     "name": "stdout",
     "output_type": "stream",
     "text": [
      "Extracted content from https://www.seattleu.edu/directory/profiles/hector-isawesome.php and saved to JSON.\n"
     ]
    },
    {
     "name": "stderr",
     "output_type": "stream",
     "text": [
      " 32%|███▏      | 2040/6321 [1:48:20<12:06:54, 10.19s/it]"
     ]
    },
    {
     "name": "stdout",
     "output_type": "stream",
     "text": [
      "Extracted content from https://www.seattleu.edu/directory/profiles/heidi-dennistoun-msn.php and saved to JSON.\n"
     ]
    },
    {
     "name": "stderr",
     "output_type": "stream",
     "text": [
      " 32%|███▏      | 2041/6321 [1:48:30<12:06:02, 10.18s/it]"
     ]
    },
    {
     "name": "stdout",
     "output_type": "stream",
     "text": [
      "Extracted content from https://www.seattleu.edu/directory/profiles/heidi-salentine.php and saved to JSON.\n"
     ]
    },
    {
     "name": "stderr",
     "output_type": "stream",
     "text": [
      " 32%|███▏      | 2042/6321 [1:48:41<12:05:02, 10.17s/it]"
     ]
    },
    {
     "name": "stdout",
     "output_type": "stream",
     "text": [
      "Extracted content from https://www.seattleu.edu/directory/profiles/heidi-speck.php and saved to JSON.\n"
     ]
    },
    {
     "name": "stderr",
     "output_type": "stream",
     "text": [
      " 32%|███▏      | 2043/6321 [1:48:51<12:04:52, 10.17s/it]"
     ]
    },
    {
     "name": "stdout",
     "output_type": "stream",
     "text": [
      "Extracted content from https://www.seattleu.edu/directory/profiles/heidi-zamora.php and saved to JSON.\n"
     ]
    },
    {
     "name": "stderr",
     "output_type": "stream",
     "text": [
      " 32%|███▏      | 2044/6321 [1:49:01<12:04:49, 10.17s/it]"
     ]
    },
    {
     "name": "stdout",
     "output_type": "stream",
     "text": [
      "Extracted content from https://www.seattleu.edu/directory/profiles/helen-manny.php and saved to JSON.\n"
     ]
    },
    {
     "name": "stderr",
     "output_type": "stream",
     "text": [
      " 32%|███▏      | 2045/6321 [1:49:11<12:04:14, 10.16s/it]"
     ]
    },
    {
     "name": "stdout",
     "output_type": "stream",
     "text": [
      "Extracted content from https://www.seattleu.edu/directory/profiles/henry-brown.php and saved to JSON.\n"
     ]
    },
    {
     "name": "stderr",
     "output_type": "stream",
     "text": [
      " 32%|███▏      | 2046/6321 [1:49:21<12:09:02, 10.23s/it]"
     ]
    },
    {
     "name": "stdout",
     "output_type": "stream",
     "text": [
      "Extracted content from https://www.seattleu.edu/directory/profiles/henry-kamerling-phd.php and saved to JSON.\n"
     ]
    },
    {
     "name": "stderr",
     "output_type": "stream",
     "text": [
      " 32%|███▏      | 2047/6321 [1:49:32<12:07:44, 10.22s/it]"
     ]
    },
    {
     "name": "stdout",
     "output_type": "stream",
     "text": [
      "Extracted content from https://www.seattleu.edu/directory/profiles/henry-louie-phd.php and saved to JSON.\n"
     ]
    },
    {
     "name": "stderr",
     "output_type": "stream",
     "text": [
      " 32%|███▏      | 2048/6321 [1:49:42<12:06:53, 10.21s/it]"
     ]
    },
    {
     "name": "stdout",
     "output_type": "stream",
     "text": [
      "Extracted content from https://www.seattleu.edu/directory/profiles/henry-w-mcgee-jr-jd.php and saved to JSON.\n"
     ]
    },
    {
     "name": "stderr",
     "output_type": "stream",
     "text": [
      " 32%|███▏      | 2049/6321 [1:49:52<12:06:27, 10.20s/it]"
     ]
    },
    {
     "name": "stdout",
     "output_type": "stream",
     "text": [
      "Extracted content from https://www.seattleu.edu/directory/profiles/hidy-basta-phd.php and saved to JSON.\n"
     ]
    },
    {
     "name": "stderr",
     "output_type": "stream",
     "text": [
      " 32%|███▏      | 2050/6321 [1:50:02<12:05:22, 10.19s/it]"
     ]
    },
    {
     "name": "stdout",
     "output_type": "stream",
     "text": [
      "Extracted content from https://www.seattleu.edu/directory/profiles/hieng-eng.php and saved to JSON.\n"
     ]
    },
    {
     "name": "stderr",
     "output_type": "stream",
     "text": [
      " 32%|███▏      | 2051/6321 [1:50:12<12:04:55, 10.19s/it]"
     ]
    },
    {
     "name": "stdout",
     "output_type": "stream",
     "text": [
      "Extracted content from https://www.seattleu.edu/directory/profiles/hilary-hawley-phd.php and saved to JSON.\n"
     ]
    },
    {
     "name": "stderr",
     "output_type": "stream",
     "text": [
      " 32%|███▏      | 2052/6321 [1:50:23<12:06:54, 10.22s/it]"
     ]
    },
    {
     "name": "stdout",
     "output_type": "stream",
     "text": [
      "Extracted content from https://www.seattleu.edu/directory/profiles/dr-hilary-lichterman.php and saved to JSON.\n"
     ]
    },
    {
     "name": "stderr",
     "output_type": "stream",
     "text": [
      " 32%|███▏      | 2053/6321 [1:50:33<12:09:23, 10.25s/it]"
     ]
    },
    {
     "name": "stdout",
     "output_type": "stream",
     "text": [
      "Extracted content from https://www.seattleu.edu/directory/profiles/hilda-herrera.php and saved to JSON.\n"
     ]
    },
    {
     "name": "stderr",
     "output_type": "stream",
     "text": [
      " 32%|███▏      | 2054/6321 [1:50:43<12:08:58, 10.25s/it]"
     ]
    },
    {
     "name": "stdout",
     "output_type": "stream",
     "text": [
      "Extracted content from https://www.seattleu.edu/directory/profiles/hoc-pham.php and saved to JSON.\n"
     ]
    },
    {
     "name": "stderr",
     "output_type": "stream",
     "text": [
      " 33%|███▎      | 2055/6321 [1:50:53<12:06:55, 10.22s/it]"
     ]
    },
    {
     "name": "stdout",
     "output_type": "stream",
     "text": [
      "Extracted content from https://www.seattleu.edu/directory/profiles/holly-jokerst.php and saved to JSON.\n"
     ]
    },
    {
     "name": "stderr",
     "output_type": "stream",
     "text": [
      " 33%|███▎      | 2056/6321 [1:51:04<12:05:32, 10.21s/it]"
     ]
    },
    {
     "name": "stdout",
     "output_type": "stream",
     "text": [
      "Extracted content from https://www.seattleu.edu/directory/profiles/howard-voorheis.php and saved to JSON.\n"
     ]
    },
    {
     "name": "stderr",
     "output_type": "stream",
     "text": [
      " 33%|███▎      | 2057/6321 [1:51:14<12:04:25, 10.19s/it]"
     ]
    },
    {
     "name": "stdout",
     "output_type": "stream",
     "text": [
      "Extracted content from https://www.seattleu.edu/directory/profiles/hugh-banks.php and saved to JSON.\n"
     ]
    },
    {
     "name": "stderr",
     "output_type": "stream",
     "text": [
      " 33%|███▎      | 2058/6321 [1:51:24<12:03:26, 10.18s/it]"
     ]
    },
    {
     "name": "stdout",
     "output_type": "stream",
     "text": [
      "Extracted content from https://www.seattleu.edu/directory/profiles/hye-kyung-kang-msw-phd.php and saved to JSON.\n"
     ]
    },
    {
     "name": "stderr",
     "output_type": "stream",
     "text": [
      " 33%|███▎      | 2059/6321 [1:51:34<12:03:16, 10.18s/it]"
     ]
    },
    {
     "name": "stdout",
     "output_type": "stream",
     "text": [
      "Extracted content from https://www.seattleu.edu/directory/profiles/hyun-jung-kim-phd-pmhnp-bc.php and saved to JSON.\n"
     ]
    },
    {
     "name": "stderr",
     "output_type": "stream",
     "text": [
      " 33%|███▎      | 2060/6321 [1:51:44<12:03:24, 10.19s/it]"
     ]
    },
    {
     "name": "stdout",
     "output_type": "stream",
     "text": [
      "Extracted content from https://www.seattleu.edu/directory/profiles/iesha-valencia.php and saved to JSON.\n"
     ]
    },
    {
     "name": "stderr",
     "output_type": "stream",
     "text": [
      " 33%|███▎      | 2061/6321 [1:51:54<12:02:20, 10.17s/it]"
     ]
    },
    {
     "name": "stdout",
     "output_type": "stream",
     "text": [
      "Extracted content from https://www.seattleu.edu/directory/profiles/imran-malik.php and saved to JSON.\n"
     ]
    },
    {
     "name": "stderr",
     "output_type": "stream",
     "text": [
      " 33%|███▎      | 2062/6321 [1:52:05<12:03:11, 10.19s/it]"
     ]
    },
    {
     "name": "stdout",
     "output_type": "stream",
     "text": [
      "Extracted content from https://www.seattleu.edu/directory/profiles/ines-miranda-phd.php and saved to JSON.\n"
     ]
    },
    {
     "name": "stderr",
     "output_type": "stream",
     "text": [
      " 33%|███▎      | 2063/6321 [1:52:15<12:02:39, 10.18s/it]"
     ]
    },
    {
     "name": "stdout",
     "output_type": "stream",
     "text": [
      "Extracted content from https://www.seattleu.edu/directory/profiles/ingris-rivera.php and saved to JSON.\n"
     ]
    },
    {
     "name": "stderr",
     "output_type": "stream",
     "text": [
      " 33%|███▎      | 2064/6321 [1:52:25<12:02:09, 10.18s/it]"
     ]
    },
    {
     "name": "stdout",
     "output_type": "stream",
     "text": [
      "Extracted content from https://www.seattleu.edu/directory/profiles/irina-voloshin.php and saved to JSON.\n"
     ]
    },
    {
     "name": "stderr",
     "output_type": "stream",
     "text": [
      " 33%|███▎      | 2065/6321 [1:52:35<12:01:46, 10.18s/it]"
     ]
    },
    {
     "name": "stdout",
     "output_type": "stream",
     "text": [
      "Extracted content from https://www.seattleu.edu/directory/profiles/isa-galligar.php and saved to JSON.\n"
     ]
    },
    {
     "name": "stderr",
     "output_type": "stream",
     "text": [
      " 33%|███▎      | 2066/6321 [1:52:45<12:01:08, 10.17s/it]"
     ]
    },
    {
     "name": "stdout",
     "output_type": "stream",
     "text": [
      "Extracted content from https://www.seattleu.edu/directory/profiles/isaac-man-ms-lgpc-phd-ncc.php and saved to JSON.\n"
     ]
    },
    {
     "name": "stderr",
     "output_type": "stream",
     "text": [
      " 33%|███▎      | 2067/6321 [1:52:55<12:01:22, 10.17s/it]"
     ]
    },
    {
     "name": "stdout",
     "output_type": "stream",
     "text": [
      "Extracted content from https://www.seattleu.edu/directory/profiles/isaac-ruiz.php and saved to JSON.\n"
     ]
    },
    {
     "name": "stderr",
     "output_type": "stream",
     "text": [
      " 33%|███▎      | 2068/6321 [1:53:06<12:00:48, 10.17s/it]"
     ]
    },
    {
     "name": "stdout",
     "output_type": "stream",
     "text": [
      "Extracted content from https://www.seattleu.edu/directory/profiles/isabel-freitas-peres.php and saved to JSON.\n"
     ]
    },
    {
     "name": "stderr",
     "output_type": "stream",
     "text": [
      " 33%|███▎      | 2069/6321 [1:53:16<12:00:16, 10.16s/it]"
     ]
    },
    {
     "name": "stdout",
     "output_type": "stream",
     "text": [
      "Extracted content from https://www.seattleu.edu/directory/profiles/isidro-lepez.php and saved to JSON.\n"
     ]
    },
    {
     "name": "stderr",
     "output_type": "stream",
     "text": [
      " 33%|███▎      | 2070/6321 [1:53:26<12:01:49, 10.19s/it]"
     ]
    },
    {
     "name": "stdout",
     "output_type": "stream",
     "text": [
      "Extracted content from https://www.seattleu.edu/directory/profiles/israel-hilerio.php and saved to JSON.\n"
     ]
    },
    {
     "name": "stderr",
     "output_type": "stream",
     "text": [
      " 33%|███▎      | 2071/6321 [1:53:36<12:00:57, 10.18s/it]"
     ]
    },
    {
     "name": "stdout",
     "output_type": "stream",
     "text": [
      "Extracted content from https://www.seattleu.edu/directory/profiles/ivette-serna.php and saved to JSON.\n"
     ]
    },
    {
     "name": "stderr",
     "output_type": "stream",
     "text": [
      " 33%|███▎      | 2072/6321 [1:53:46<12:00:23, 10.17s/it]"
     ]
    },
    {
     "name": "stdout",
     "output_type": "stream",
     "text": [
      "Extracted content from https://www.seattleu.edu/directory/profiles/j-godfrey.php and saved to JSON.\n"
     ]
    },
    {
     "name": "stderr",
     "output_type": "stream",
     "text": [
      " 33%|███▎      | 2073/6321 [1:53:56<11:59:36, 10.16s/it]"
     ]
    },
    {
     "name": "stdout",
     "output_type": "stream",
     "text": [
      "Extracted content from https://www.seattleu.edu/directory/profiles/j-christopher-rideout.php and saved to JSON.\n"
     ]
    },
    {
     "name": "stderr",
     "output_type": "stream",
     "text": [
      " 33%|███▎      | 2074/6321 [1:54:07<11:59:55, 10.17s/it]"
     ]
    },
    {
     "name": "stdout",
     "output_type": "stream",
     "text": [
      "Extracted content from https://www.seattleu.edu/directory/profiles/wes-lauer-phd-pe.php and saved to JSON.\n"
     ]
    },
    {
     "name": "stderr",
     "output_type": "stream",
     "text": [
      " 33%|███▎      | 2075/6321 [1:54:17<11:59:19, 10.16s/it]"
     ]
    },
    {
     "name": "stdout",
     "output_type": "stream",
     "text": [
      "Extracted content from https://www.seattleu.edu/directory/profiles/jabril-hassen.php and saved to JSON.\n"
     ]
    },
    {
     "name": "stderr",
     "output_type": "stream",
     "text": [
      " 33%|███▎      | 2076/6321 [1:54:27<11:59:19, 10.17s/it]"
     ]
    },
    {
     "name": "stdout",
     "output_type": "stream",
     "text": [
      "Extracted content from https://www.seattleu.edu/directory/profiles/jack-mattingly.php and saved to JSON.\n"
     ]
    },
    {
     "name": "stderr",
     "output_type": "stream",
     "text": [
      " 33%|███▎      | 2077/6321 [1:54:37<11:59:19, 10.17s/it]"
     ]
    },
    {
     "name": "stdout",
     "output_type": "stream",
     "text": [
      "Extracted content from https://www.seattleu.edu/directory/profiles/jack-nevin.php and saved to JSON.\n"
     ]
    },
    {
     "name": "stderr",
     "output_type": "stream",
     "text": [
      " 33%|███▎      | 2078/6321 [1:54:47<12:00:47, 10.19s/it]"
     ]
    },
    {
     "name": "stdout",
     "output_type": "stream",
     "text": [
      "Extracted content from https://www.seattleu.edu/directory/profiles/jackie-mehtala.php and saved to JSON.\n"
     ]
    },
    {
     "name": "stderr",
     "output_type": "stream",
     "text": [
      " 33%|███▎      | 2079/6321 [1:54:58<12:00:01, 10.18s/it]"
     ]
    },
    {
     "name": "stdout",
     "output_type": "stream",
     "text": [
      "Extracted content from https://www.seattleu.edu/directory/profiles/jackson-cooper-mfa.php and saved to JSON.\n"
     ]
    },
    {
     "name": "stderr",
     "output_type": "stream",
     "text": [
      " 33%|███▎      | 2080/6321 [1:55:08<11:59:00, 10.17s/it]"
     ]
    },
    {
     "name": "stdout",
     "output_type": "stream",
     "text": [
      "Extracted content from https://www.seattleu.edu/directory/profiles/jacob-smithers.php and saved to JSON.\n"
     ]
    },
    {
     "name": "stderr",
     "output_type": "stream",
     "text": [
      " 33%|███▎      | 2081/6321 [1:55:18<11:58:40, 10.17s/it]"
     ]
    },
    {
     "name": "stdout",
     "output_type": "stream",
     "text": [
      "Extracted content from https://www.seattleu.edu/directory/profiles/jacqueline-b-helfgott-phd.php and saved to JSON.\n"
     ]
    },
    {
     "name": "stderr",
     "output_type": "stream",
     "text": [
      " 33%|███▎      | 2082/6321 [1:55:28<11:58:27, 10.17s/it]"
     ]
    },
    {
     "name": "stdout",
     "output_type": "stream",
     "text": [
      "Extracted content from https://www.seattleu.edu/directory/profiles/jacqueline-heymann.php and saved to JSON.\n"
     ]
    },
    {
     "name": "stderr",
     "output_type": "stream",
     "text": [
      " 33%|███▎      | 2083/6321 [1:55:38<11:57:44, 10.16s/it]"
     ]
    },
    {
     "name": "stdout",
     "output_type": "stream",
     "text": [
      "Extracted content from https://www.seattleu.edu/directory/profiles/jacqueline-pham.php and saved to JSON.\n"
     ]
    },
    {
     "name": "stderr",
     "output_type": "stream",
     "text": [
      " 33%|███▎      | 2084/6321 [1:55:48<11:59:23, 10.19s/it]"
     ]
    },
    {
     "name": "stdout",
     "output_type": "stream",
     "text": [
      "Extracted content from https://www.seattleu.edu/directory/profiles/jacquelyn-miller-phd.php and saved to JSON.\n"
     ]
    },
    {
     "name": "stderr",
     "output_type": "stream",
     "text": [
      " 33%|███▎      | 2085/6321 [1:55:59<11:58:40, 10.18s/it]"
     ]
    },
    {
     "name": "stdout",
     "output_type": "stream",
     "text": [
      "Extracted content from https://www.seattleu.edu/directory/profiles/jahun-kim.php and saved to JSON.\n"
     ]
    },
    {
     "name": "stderr",
     "output_type": "stream",
     "text": [
      " 33%|███▎      | 2086/6321 [1:56:09<12:00:16, 10.20s/it]"
     ]
    },
    {
     "name": "stdout",
     "output_type": "stream",
     "text": [
      "Extracted content from https://www.seattleu.edu/directory/profiles/jaime-navetta-dnp-rn-cne.php and saved to JSON.\n"
     ]
    },
    {
     "name": "stderr",
     "output_type": "stream",
     "text": [
      " 33%|███▎      | 2087/6321 [1:56:19<11:59:47, 10.20s/it]"
     ]
    },
    {
     "name": "stdout",
     "output_type": "stream",
     "text": [
      "Extracted content from https://www.seattleu.edu/directory/profiles/jaime-j-perozo.php and saved to JSON.\n"
     ]
    },
    {
     "name": "stderr",
     "output_type": "stream",
     "text": [
      " 33%|███▎      | 2088/6321 [1:56:29<11:59:06, 10.19s/it]"
     ]
    },
    {
     "name": "stdout",
     "output_type": "stream",
     "text": [
      "Extracted content from https://www.seattleu.edu/directory/profiles/jaimie-burton.php and saved to JSON.\n"
     ]
    },
    {
     "name": "stderr",
     "output_type": "stream",
     "text": [
      " 33%|███▎      | 2089/6321 [1:56:39<11:58:17, 10.18s/it]"
     ]
    },
    {
     "name": "stdout",
     "output_type": "stream",
     "text": [
      "Extracted content from https://www.seattleu.edu/directory/profiles/james-adolphson.php and saved to JSON.\n"
     ]
    },
    {
     "name": "stderr",
     "output_type": "stream",
     "text": [
      " 33%|███▎      | 2090/6321 [1:56:50<11:57:47, 10.18s/it]"
     ]
    },
    {
     "name": "stdout",
     "output_type": "stream",
     "text": [
      "Extracted content from https://www.seattleu.edu/directory/profiles/james-austin.php and saved to JSON.\n"
     ]
    },
    {
     "name": "stderr",
     "output_type": "stream",
     "text": [
      " 33%|███▎      | 2091/6321 [1:57:00<11:57:37, 10.18s/it]"
     ]
    },
    {
     "name": "stdout",
     "output_type": "stream",
     "text": [
      "Extracted content from https://www.seattleu.edu/directory/profiles/james-clune-ma.php and saved to JSON.\n"
     ]
    },
    {
     "name": "stderr",
     "output_type": "stream",
     "text": [
      " 33%|███▎      | 2092/6321 [1:57:10<11:57:12, 10.18s/it]"
     ]
    },
    {
     "name": "stdout",
     "output_type": "stream",
     "text": [
      "Extracted content from https://www.seattleu.edu/directory/profiles/james-corning.php and saved to JSON.\n"
     ]
    },
    {
     "name": "stderr",
     "output_type": "stream",
     "text": [
      " 33%|███▎      | 2093/6321 [1:57:20<11:58:48, 10.20s/it]"
     ]
    },
    {
     "name": "stdout",
     "output_type": "stream",
     "text": [
      "Extracted content from https://www.seattleu.edu/directory/profiles/james-eblen.php and saved to JSON.\n"
     ]
    },
    {
     "name": "stderr",
     "output_type": "stream",
     "text": [
      " 33%|███▎      | 2094/6321 [1:57:30<12:00:40, 10.23s/it]"
     ]
    },
    {
     "name": "stdout",
     "output_type": "stream",
     "text": [
      "Extracted content from https://www.seattleu.edu/directory/profiles/james-jim-furrow-phd-lmft.php and saved to JSON.\n"
     ]
    },
    {
     "name": "stderr",
     "output_type": "stream",
     "text": [
      " 33%|███▎      | 2095/6321 [1:57:41<11:59:41, 10.22s/it]"
     ]
    },
    {
     "name": "stdout",
     "output_type": "stream",
     "text": [
      "Extracted content from https://www.seattleu.edu/directory/profiles/james-haney.php and saved to JSON.\n"
     ]
    },
    {
     "name": "stderr",
     "output_type": "stream",
     "text": [
      " 33%|███▎      | 2096/6321 [1:57:51<11:58:36, 10.21s/it]"
     ]
    },
    {
     "name": "stdout",
     "output_type": "stream",
     "text": [
      "Extracted content from https://www.seattleu.edu/directory/profiles/james-hanson-phd.php and saved to JSON.\n"
     ]
    },
    {
     "name": "stderr",
     "output_type": "stream",
     "text": [
      " 33%|███▎      | 2097/6321 [1:58:01<11:57:04, 10.19s/it]"
     ]
    },
    {
     "name": "stdout",
     "output_type": "stream",
     "text": [
      "Extracted content from https://www.seattleu.edu/directory/profiles/james-hembree.php and saved to JSON.\n"
     ]
    },
    {
     "name": "stderr",
     "output_type": "stream",
     "text": [
      " 33%|███▎      | 2098/6321 [1:58:11<11:56:32, 10.18s/it]"
     ]
    },
    {
     "name": "stdout",
     "output_type": "stream",
     "text": [
      "Extracted content from https://www.seattleu.edu/directory/profiles/james-lee-phd.php and saved to JSON.\n"
     ]
    },
    {
     "name": "stderr",
     "output_type": "stream",
     "text": [
      " 33%|███▎      | 2099/6321 [1:58:21<11:56:02, 10.18s/it]"
     ]
    },
    {
     "name": "stdout",
     "output_type": "stream",
     "text": [
      "Extracted content from https://www.seattleu.edu/directory/profiles/james-miles-mfa.php and saved to JSON.\n"
     ]
    },
    {
     "name": "stderr",
     "output_type": "stream",
     "text": [
      " 33%|███▎      | 2100/6321 [1:58:31<11:56:18, 10.18s/it]"
     ]
    },
    {
     "name": "stdout",
     "output_type": "stream",
     "text": [
      "Extracted content from https://www.seattleu.edu/directory/profiles/james-miller.php and saved to JSON.\n"
     ]
    },
    {
     "name": "stderr",
     "output_type": "stream",
     "text": [
      " 33%|███▎      | 2101/6321 [1:58:42<11:56:15, 10.18s/it]"
     ]
    },
    {
     "name": "stdout",
     "output_type": "stream",
     "text": [
      "Extracted content from https://www.seattleu.edu/directory/profiles/james-reichmann-sj.php and saved to JSON.\n"
     ]
    },
    {
     "name": "stderr",
     "output_type": "stream",
     "text": [
      " 33%|███▎      | 2102/6321 [1:58:52<11:57:51, 10.21s/it]"
     ]
    },
    {
     "name": "stdout",
     "output_type": "stream",
     "text": [
      "Extracted content from https://www.seattleu.edu/directory/profiles/james-risser-phd.php and saved to JSON.\n"
     ]
    },
    {
     "name": "stderr",
     "output_type": "stream",
     "text": [
      " 33%|███▎      | 2103/6321 [1:59:02<11:56:47, 10.20s/it]"
     ]
    },
    {
     "name": "stdout",
     "output_type": "stream",
     "text": [
      "Extracted content from https://www.seattleu.edu/directory/profiles/james-sawyer.php and saved to JSON.\n"
     ]
    },
    {
     "name": "stderr",
     "output_type": "stream",
     "text": [
      " 33%|███▎      | 2104/6321 [1:59:12<11:55:26, 10.18s/it]"
     ]
    },
    {
     "name": "stdout",
     "output_type": "stream",
     "text": [
      "Extracted content from https://www.seattleu.edu/directory/profiles/james-selinsky.php and saved to JSON.\n"
     ]
    },
    {
     "name": "stderr",
     "output_type": "stream",
     "text": [
      " 33%|███▎      | 2105/6321 [1:59:22<11:55:00, 10.18s/it]"
     ]
    },
    {
     "name": "stdout",
     "output_type": "stream",
     "text": [
      "Extracted content from https://www.seattleu.edu/directory/profiles/james-stark.php and saved to JSON.\n"
     ]
    },
    {
     "name": "stderr",
     "output_type": "stream",
     "text": [
      " 33%|███▎      | 2106/6321 [1:59:33<11:54:51, 10.18s/it]"
     ]
    },
    {
     "name": "stdout",
     "output_type": "stream",
     "text": [
      "Extracted content from https://www.seattleu.edu/directory/profiles/james-tolton.php and saved to JSON.\n"
     ]
    },
    {
     "name": "stderr",
     "output_type": "stream",
     "text": [
      " 33%|███▎      | 2107/6321 [1:59:43<11:54:29, 10.17s/it]"
     ]
    },
    {
     "name": "stdout",
     "output_type": "stream",
     "text": [
      "Extracted content from https://www.seattleu.edu/directory/profiles/james-willette.php and saved to JSON.\n"
     ]
    },
    {
     "name": "stderr",
     "output_type": "stream",
     "text": [
      " 33%|███▎      | 2108/6321 [1:59:53<11:54:00, 10.17s/it]"
     ]
    },
    {
     "name": "stdout",
     "output_type": "stream",
     "text": [
      "Extracted content from https://www.seattleu.edu/directory/profiles/james-taiviet-tran-sj.php and saved to JSON.\n"
     ]
    },
    {
     "name": "stderr",
     "output_type": "stream",
     "text": [
      " 33%|███▎      | 2109/6321 [2:00:03<11:53:36, 10.17s/it]"
     ]
    },
    {
     "name": "stdout",
     "output_type": "stream",
     "text": [
      "Extracted content from https://www.seattleu.edu/directory/profiles/jameson-natwick-phd-lmft.php and saved to JSON.\n"
     ]
    },
    {
     "name": "stderr",
     "output_type": "stream",
     "text": [
      " 33%|███▎      | 2110/6321 [2:00:13<11:56:40, 10.21s/it]"
     ]
    },
    {
     "name": "stdout",
     "output_type": "stream",
     "text": [
      "Extracted content from https://www.seattleu.edu/directory/profiles/jamie-peterson.php and saved to JSON.\n"
     ]
    },
    {
     "name": "stderr",
     "output_type": "stream",
     "text": [
      " 33%|███▎      | 2111/6321 [2:00:24<11:55:10, 10.19s/it]"
     ]
    },
    {
     "name": "stdout",
     "output_type": "stream",
     "text": [
      "Extracted content from https://www.seattleu.edu/directory/profiles/jan-gay-phd.php and saved to JSON.\n"
     ]
    },
    {
     "name": "stderr",
     "output_type": "stream",
     "text": [
      " 33%|███▎      | 2112/6321 [2:00:34<11:58:05, 10.24s/it]"
     ]
    },
    {
     "name": "stdout",
     "output_type": "stream",
     "text": [
      "Extracted content from https://www.seattleu.edu/directory/profiles/jan-monti.php and saved to JSON.\n"
     ]
    },
    {
     "name": "stderr",
     "output_type": "stream",
     "text": [
      " 33%|███▎      | 2113/6321 [2:00:44<11:55:44, 10.21s/it]"
     ]
    },
    {
     "name": "stdout",
     "output_type": "stream",
     "text": [
      "Extracted content from https://www.seattleu.edu/directory/profiles/janelle-simms-16.php and saved to JSON.\n"
     ]
    },
    {
     "name": "stderr",
     "output_type": "stream",
     "text": [
      " 33%|███▎      | 2114/6321 [2:00:54<11:54:22, 10.19s/it]"
     ]
    },
    {
     "name": "stdout",
     "output_type": "stream",
     "text": [
      "Extracted content from https://www.seattleu.edu/directory/profiles/janet-ainsworth.php and saved to JSON.\n"
     ]
    },
    {
     "name": "stderr",
     "output_type": "stream",
     "text": [
      " 33%|███▎      | 2115/6321 [2:01:04<11:54:04, 10.19s/it]"
     ]
    },
    {
     "name": "stdout",
     "output_type": "stream",
     "text": [
      "Extracted content from https://www.seattleu.edu/directory/profiles/janet-claypool.php and saved to JSON.\n"
     ]
    },
    {
     "name": "stderr",
     "output_type": "stream",
     "text": [
      " 33%|███▎      | 2116/6321 [2:01:15<11:53:42, 10.18s/it]"
     ]
    },
    {
     "name": "stdout",
     "output_type": "stream",
     "text": [
      "Extracted content from https://www.seattleu.edu/directory/profiles/janet-hayatshahi-mfa.php and saved to JSON.\n"
     ]
    },
    {
     "name": "stderr",
     "output_type": "stream",
     "text": [
      " 33%|███▎      | 2117/6321 [2:01:25<11:53:06, 10.18s/it]"
     ]
    },
    {
     "name": "stdout",
     "output_type": "stream",
     "text": [
      "Extracted content from https://www.seattleu.edu/directory/profiles/janet-mills.php and saved to JSON.\n"
     ]
    },
    {
     "name": "stderr",
     "output_type": "stream",
     "text": [
      " 34%|███▎      | 2118/6321 [2:01:35<11:58:09, 10.25s/it]"
     ]
    },
    {
     "name": "stdout",
     "output_type": "stream",
     "text": [
      "Extracted content from https://www.seattleu.edu/directory/profiles/janet-mitchell-msn-rn.php and saved to JSON.\n"
     ]
    },
    {
     "name": "stderr",
     "output_type": "stream",
     "text": [
      " 34%|███▎      | 2119/6321 [2:01:45<11:56:09, 10.23s/it]"
     ]
    },
    {
     "name": "stdout",
     "output_type": "stream",
     "text": [
      "Extracted content from https://www.seattleu.edu/directory/profiles/janet-quillian.php and saved to JSON.\n"
     ]
    },
    {
     "name": "stderr",
     "output_type": "stream",
     "text": [
      " 34%|███▎      | 2120/6321 [2:01:56<11:58:12, 10.26s/it]"
     ]
    },
    {
     "name": "stdout",
     "output_type": "stream",
     "text": [
      "Extracted content from https://www.seattleu.edu/directory/profiles/janet-shandley.php and saved to JSON.\n"
     ]
    },
    {
     "name": "stderr",
     "output_type": "stream",
     "text": [
      " 34%|███▎      | 2121/6321 [2:02:06<11:56:21, 10.23s/it]"
     ]
    },
    {
     "name": "stdout",
     "output_type": "stream",
     "text": [
      "Extracted content from https://www.seattleu.edu/directory/profiles/jani-m-medeiros.php and saved to JSON.\n"
     ]
    },
    {
     "name": "stderr",
     "output_type": "stream",
     "text": [
      " 34%|███▎      | 2122/6321 [2:02:16<11:55:05, 10.22s/it]"
     ]
    },
    {
     "name": "stdout",
     "output_type": "stream",
     "text": [
      "Extracted content from https://www.seattleu.edu/directory/profiles/janice-moskalik-phd.php and saved to JSON.\n"
     ]
    },
    {
     "name": "stderr",
     "output_type": "stream",
     "text": [
      " 34%|███▎      | 2123/6321 [2:02:26<11:53:57, 10.20s/it]"
     ]
    },
    {
     "name": "stdout",
     "output_type": "stream",
     "text": [
      "Extracted content from https://www.seattleu.edu/directory/profiles/janice-murphy.php and saved to JSON.\n"
     ]
    },
    {
     "name": "stderr",
     "output_type": "stream",
     "text": [
      " 34%|███▎      | 2124/6321 [2:02:36<11:53:17, 10.20s/it]"
     ]
    },
    {
     "name": "stdout",
     "output_type": "stream",
     "text": [
      "Extracted content from https://www.seattleu.edu/directory/profiles/janie-ng.php and saved to JSON.\n"
     ]
    },
    {
     "name": "stderr",
     "output_type": "stream",
     "text": [
      " 34%|███▎      | 2125/6321 [2:02:46<11:51:59, 10.18s/it]"
     ]
    },
    {
     "name": "stdout",
     "output_type": "stream",
     "text": [
      "Extracted content from https://www.seattleu.edu/directory/profiles/janiece-desocio-phd-rn-pmhnp-bc-faan.php and saved to JSON.\n"
     ]
    },
    {
     "name": "stderr",
     "output_type": "stream",
     "text": [
      " 34%|███▎      | 2126/6321 [2:02:57<11:52:56, 10.20s/it]"
     ]
    },
    {
     "name": "stdout",
     "output_type": "stream",
     "text": [
      "Extracted content from https://www.seattleu.edu/directory/profiles/janine-torres-msn-arnp.php and saved to JSON.\n"
     ]
    },
    {
     "name": "stderr",
     "output_type": "stream",
     "text": [
      " 34%|███▎      | 2127/6321 [2:03:07<11:51:52, 10.18s/it]"
     ]
    },
    {
     "name": "stdout",
     "output_type": "stream",
     "text": [
      "Extracted content from https://www.seattleu.edu/directory/profiles/janis-barberis.php and saved to JSON.\n"
     ]
    },
    {
     "name": "stderr",
     "output_type": "stream",
     "text": [
      " 34%|███▎      | 2128/6321 [2:03:17<11:55:01, 10.23s/it]"
     ]
    },
    {
     "name": "stdout",
     "output_type": "stream",
     "text": [
      "Extracted content from https://www.seattleu.edu/directory/profiles/jannette-hartley.php and saved to JSON.\n"
     ]
    },
    {
     "name": "stderr",
     "output_type": "stream",
     "text": [
      " 34%|███▎      | 2129/6321 [2:03:27<11:53:24, 10.21s/it]"
     ]
    },
    {
     "name": "stdout",
     "output_type": "stream",
     "text": [
      "Extracted content from https://www.seattleu.edu/directory/profiles/jarrad-felgenhauer-phd.php and saved to JSON.\n"
     ]
    },
    {
     "name": "stderr",
     "output_type": "stream",
     "text": [
      " 34%|███▎      | 2130/6321 [2:03:38<11:52:30, 10.20s/it]"
     ]
    },
    {
     "name": "stdout",
     "output_type": "stream",
     "text": [
      "Extracted content from https://www.seattleu.edu/directory/profiles/jarryn-robinson.php and saved to JSON.\n"
     ]
    },
    {
     "name": "stderr",
     "output_type": "stream",
     "text": [
      " 34%|███▎      | 2131/6321 [2:03:48<11:53:33, 10.22s/it]"
     ]
    },
    {
     "name": "stdout",
     "output_type": "stream",
     "text": [
      "Extracted content from https://www.seattleu.edu/directory/profiles/jarylin-reese-dnp-arnp-fnp-c-rn-bs.php and saved to JSON.\n"
     ]
    },
    {
     "name": "stderr",
     "output_type": "stream",
     "text": [
      " 34%|███▎      | 2132/6321 [2:03:58<11:52:17, 10.20s/it]"
     ]
    },
    {
     "name": "stdout",
     "output_type": "stream",
     "text": [
      "Extracted content from https://www.seattleu.edu/directory/profiles/jaskern-kaur.php and saved to JSON.\n"
     ]
    },
    {
     "name": "stderr",
     "output_type": "stream",
     "text": [
      " 34%|███▎      | 2133/6321 [2:04:08<11:51:06, 10.19s/it]"
     ]
    },
    {
     "name": "stdout",
     "output_type": "stream",
     "text": [
      "Extracted content from https://www.seattleu.edu/directory/profiles/jasmine-pickens-psyd-amft.php and saved to JSON.\n"
     ]
    },
    {
     "name": "stderr",
     "output_type": "stream",
     "text": [
      " 34%|███▍      | 2134/6321 [2:04:18<11:50:26, 10.18s/it]"
     ]
    },
    {
     "name": "stdout",
     "output_type": "stream",
     "text": [
      "Extracted content from https://www.seattleu.edu/directory/profiles/jason-bond.php and saved to JSON.\n"
     ]
    },
    {
     "name": "stderr",
     "output_type": "stream",
     "text": [
      " 34%|███▍      | 2135/6321 [2:04:28<11:50:41, 10.19s/it]"
     ]
    },
    {
     "name": "stdout",
     "output_type": "stream",
     "text": [
      "Extracted content from https://www.seattleu.edu/directory/profiles/jason-farrell.php and saved to JSON.\n"
     ]
    },
    {
     "name": "stderr",
     "output_type": "stream",
     "text": [
      " 34%|███▍      | 2136/6321 [2:04:39<11:56:04, 10.27s/it]"
     ]
    },
    {
     "name": "stdout",
     "output_type": "stream",
     "text": [
      "Extracted content from https://www.seattleu.edu/directory/profiles/jason-hall.php and saved to JSON.\n"
     ]
    },
    {
     "name": "stderr",
     "output_type": "stream",
     "text": [
      " 34%|███▍      | 2137/6321 [2:04:49<11:53:18, 10.23s/it]"
     ]
    },
    {
     "name": "stdout",
     "output_type": "stream",
     "text": [
      "Extracted content from https://www.seattleu.edu/directory/profiles/jason-howell.php and saved to JSON.\n"
     ]
    },
    {
     "name": "stderr",
     "output_type": "stream",
     "text": [
      " 34%|███▍      | 2138/6321 [2:04:59<11:51:23, 10.20s/it]"
     ]
    },
    {
     "name": "stdout",
     "output_type": "stream",
     "text": [
      "Extracted content from https://www.seattleu.edu/directory/profiles/jason-seid.php and saved to JSON.\n"
     ]
    },
    {
     "name": "stderr",
     "output_type": "stream",
     "text": [
      " 34%|███▍      | 2139/6321 [2:05:09<11:50:04, 10.19s/it]"
     ]
    },
    {
     "name": "stdout",
     "output_type": "stream",
     "text": [
      "Extracted content from https://www.seattleu.edu/directory/profiles/jason-wirth-phd.php and saved to JSON.\n"
     ]
    },
    {
     "name": "stderr",
     "output_type": "stream",
     "text": [
      " 34%|███▍      | 2140/6321 [2:05:20<11:49:16, 10.18s/it]"
     ]
    },
    {
     "name": "stdout",
     "output_type": "stream",
     "text": [
      "Extracted content from https://www.seattleu.edu/directory/profiles/javier-ortiz.php and saved to JSON.\n"
     ]
    },
    {
     "name": "stderr",
     "output_type": "stream",
     "text": [
      " 34%|███▍      | 2141/6321 [2:05:30<11:48:17, 10.17s/it]"
     ]
    },
    {
     "name": "stdout",
     "output_type": "stream",
     "text": [
      "Extracted content from https://www.seattleu.edu/directory/profiles/jay-heitman.php and saved to JSON.\n"
     ]
    },
    {
     "name": "stderr",
     "output_type": "stream",
     "text": [
      " 34%|███▍      | 2142/6321 [2:05:40<11:47:56, 10.16s/it]"
     ]
    },
    {
     "name": "stdout",
     "output_type": "stream",
     "text": [
      "Extracted content from https://www.seattleu.edu/directory/profiles/jayme-jacobson.php and saved to JSON.\n"
     ]
    },
    {
     "name": "stderr",
     "output_type": "stream",
     "text": [
      " 34%|███▍      | 2143/6321 [2:05:50<11:47:27, 10.16s/it]"
     ]
    },
    {
     "name": "stdout",
     "output_type": "stream",
     "text": [
      "Extracted content from https://www.seattleu.edu/directory/profiles/jazz-scott.php and saved to JSON.\n"
     ]
    },
    {
     "name": "stderr",
     "output_type": "stream",
     "text": [
      " 34%|███▍      | 2144/6321 [2:06:00<11:49:53, 10.20s/it]"
     ]
    },
    {
     "name": "stdout",
     "output_type": "stream",
     "text": [
      "Extracted content from https://www.seattleu.edu/directory/profiles/jean-jacoby.php and saved to JSON.\n"
     ]
    },
    {
     "name": "stderr",
     "output_type": "stream",
     "text": [
      " 34%|███▍      | 2145/6321 [2:06:10<11:48:57, 10.19s/it]"
     ]
    },
    {
     "name": "stdout",
     "output_type": "stream",
     "text": [
      "Extracted content from https://www.seattleu.edu/directory/profiles/jean-tang.php and saved to JSON.\n"
     ]
    },
    {
     "name": "stderr",
     "output_type": "stream",
     "text": [
      " 34%|███▍      | 2146/6321 [2:06:21<11:48:02, 10.18s/it]"
     ]
    },
    {
     "name": "stdout",
     "output_type": "stream",
     "text": [
      "Extracted content from https://www.seattleu.edu/directory/profiles/jeanette-rodriguez-phd.php and saved to JSON.\n"
     ]
    },
    {
     "name": "stderr",
     "output_type": "stream",
     "text": [
      " 34%|███▍      | 2147/6321 [2:06:31<11:47:52, 10.18s/it]"
     ]
    },
    {
     "name": "stdout",
     "output_type": "stream",
     "text": [
      "Extracted content from https://www.seattleu.edu/directory/profiles/jeff-boersema-phd.php and saved to JSON.\n"
     ]
    },
    {
     "name": "stderr",
     "output_type": "stream",
     "text": [
      " 34%|███▍      | 2148/6321 [2:06:41<11:47:37, 10.17s/it]"
     ]
    },
    {
     "name": "stdout",
     "output_type": "stream",
     "text": [
      "Extracted content from https://www.seattleu.edu/directory/profiles/jeff-brown-phd.php and saved to JSON.\n"
     ]
    },
    {
     "name": "stderr",
     "output_type": "stream",
     "text": [
      " 34%|███▍      | 2149/6321 [2:06:51<11:46:52, 10.17s/it]"
     ]
    },
    {
     "name": "stdout",
     "output_type": "stream",
     "text": [
      "Extracted content from https://www.seattleu.edu/directory/profiles/jeffery-smith-phd.php and saved to JSON.\n"
     ]
    },
    {
     "name": "stderr",
     "output_type": "stream",
     "text": [
      " 34%|███▍      | 2150/6321 [2:07:01<11:46:15, 10.16s/it]"
     ]
    },
    {
     "name": "stdout",
     "output_type": "stream",
     "text": [
      "Extracted content from https://www.seattleu.edu/directory/profiles/jeffrey-anderson.php and saved to JSON.\n"
     ]
    },
    {
     "name": "stderr",
     "output_type": "stream",
     "text": [
      " 34%|███▍      | 2151/6321 [2:07:11<11:46:04, 10.16s/it]"
     ]
    },
    {
     "name": "stdout",
     "output_type": "stream",
     "text": [
      "Extracted content from https://www.seattleu.edu/directory/profiles/jeffrey-bowen-dma.php and saved to JSON.\n"
     ]
    },
    {
     "name": "stderr",
     "output_type": "stream",
     "text": [
      " 34%|███▍      | 2152/6321 [2:07:22<11:47:47, 10.19s/it]"
     ]
    },
    {
     "name": "stdout",
     "output_type": "stream",
     "text": [
      "Extracted content from https://www.seattleu.edu/directory/profiles/jeffrey-james.php and saved to JSON.\n"
     ]
    },
    {
     "name": "stderr",
     "output_type": "stream",
     "text": [
      " 34%|███▍      | 2153/6321 [2:07:32<11:46:56, 10.18s/it]"
     ]
    },
    {
     "name": "stdout",
     "output_type": "stream",
     "text": [
      "Extracted content from https://www.seattleu.edu/directory/profiles/jeffrey-s-philpott-phd.php and saved to JSON.\n"
     ]
    },
    {
     "name": "stderr",
     "output_type": "stream",
     "text": [
      " 34%|███▍      | 2154/6321 [2:07:42<11:46:39, 10.17s/it]"
     ]
    },
    {
     "name": "stdout",
     "output_type": "stream",
     "text": [
      "Extracted content from https://www.seattleu.edu/directory/profiles/jennifer-fricas-phd-mph-rn.php and saved to JSON.\n"
     ]
    },
    {
     "name": "stderr",
     "output_type": "stream",
     "text": [
      " 34%|███▍      | 2155/6321 [2:07:52<11:45:55, 10.17s/it]"
     ]
    },
    {
     "name": "stdout",
     "output_type": "stream",
     "text": [
      "Extracted content from https://www.seattleu.edu/directory/profiles/jennifer-money-brady-phd.php and saved to JSON.\n"
     ]
    },
    {
     "name": "stderr",
     "output_type": "stream",
     "text": [
      " 34%|███▍      | 2156/6321 [2:08:02<11:45:37, 10.17s/it]"
     ]
    },
    {
     "name": "stdout",
     "output_type": "stream",
     "text": [
      "Extracted content from https://www.seattleu.edu/directory/profiles/jennifer-sorensen-phd.php and saved to JSON.\n"
     ]
    },
    {
     "name": "stderr",
     "output_type": "stream",
     "text": [
      " 34%|███▍      | 2157/6321 [2:08:12<11:45:07, 10.16s/it]"
     ]
    },
    {
     "name": "stdout",
     "output_type": "stream",
     "text": [
      "Extracted content from https://www.seattleu.edu/directory/profiles/jenn-chan.php and saved to JSON.\n"
     ]
    },
    {
     "name": "stderr",
     "output_type": "stream",
     "text": [
      " 34%|███▍      | 2158/6321 [2:08:23<11:45:31, 10.17s/it]"
     ]
    },
    {
     "name": "stdout",
     "output_type": "stream",
     "text": [
      "Extracted content from https://www.seattleu.edu/directory/profiles/jenna-isakson.php and saved to JSON.\n"
     ]
    },
    {
     "name": "stderr",
     "output_type": "stream",
     "text": [
      " 34%|███▍      | 2159/6321 [2:08:33<11:46:05, 10.18s/it]"
     ]
    },
    {
     "name": "stdout",
     "output_type": "stream",
     "text": [
      "Extracted content from https://www.seattleu.edu/directory/profiles/jennie-devaney.php and saved to JSON.\n"
     ]
    },
    {
     "name": "stderr",
     "output_type": "stream",
     "text": [
      " 34%|███▍      | 2160/6321 [2:08:43<11:47:42, 10.20s/it]"
     ]
    },
    {
     "name": "stdout",
     "output_type": "stream",
     "text": [
      "Extracted content from https://www.seattleu.edu/directory/profiles/jennie-temple.php and saved to JSON.\n"
     ]
    },
    {
     "name": "stderr",
     "output_type": "stream",
     "text": [
      " 34%|███▍      | 2161/6321 [2:08:53<11:47:36, 10.21s/it]"
     ]
    },
    {
     "name": "stdout",
     "output_type": "stream",
     "text": [
      "Extracted content from https://www.seattleu.edu/directory/profiles/jennifer-albright-phd.php and saved to JSON.\n"
     ]
    },
    {
     "name": "stderr",
     "output_type": "stream",
     "text": [
      " 34%|███▍      | 2162/6321 [2:09:03<11:46:15, 10.19s/it]"
     ]
    },
    {
     "name": "stdout",
     "output_type": "stream",
     "text": [
      "Extracted content from https://www.seattleu.edu/directory/profiles/jennifer-amlog-mba-rvt-hca-ld-rphs.php and saved to JSON.\n"
     ]
    },
    {
     "name": "stderr",
     "output_type": "stream",
     "text": [
      " 34%|███▍      | 2163/6321 [2:09:14<11:45:28, 10.18s/it]"
     ]
    },
    {
     "name": "stdout",
     "output_type": "stream",
     "text": [
      "Extracted content from https://www.seattleu.edu/directory/profiles/jennifer-bautista.php and saved to JSON.\n"
     ]
    },
    {
     "name": "stderr",
     "output_type": "stream",
     "text": [
      " 34%|███▍      | 2164/6321 [2:09:24<11:44:43, 10.17s/it]"
     ]
    },
    {
     "name": "stdout",
     "output_type": "stream",
     "text": [
      "Extracted content from https://www.seattleu.edu/directory/profiles/jennifer-bodley.php and saved to JSON.\n"
     ]
    },
    {
     "name": "stderr",
     "output_type": "stream",
     "text": [
      " 34%|███▍      | 2165/6321 [2:09:34<11:44:13, 10.17s/it]"
     ]
    },
    {
     "name": "stdout",
     "output_type": "stream",
     "text": [
      "Extracted content from https://www.seattleu.edu/directory/profiles/jennifer-bor.php and saved to JSON.\n"
     ]
    },
    {
     "name": "stderr",
     "output_type": "stream",
     "text": [
      " 34%|███▍      | 2166/6321 [2:09:44<11:44:01, 10.17s/it]"
     ]
    },
    {
     "name": "stdout",
     "output_type": "stream",
     "text": [
      "Extracted content from https://www.seattleu.edu/directory/profiles/jennifer-brendicke.php and saved to JSON.\n"
     ]
    },
    {
     "name": "stderr",
     "output_type": "stream",
     "text": [
      " 34%|███▍      | 2167/6321 [2:09:54<11:43:48, 10.17s/it]"
     ]
    },
    {
     "name": "stdout",
     "output_type": "stream",
     "text": [
      "Extracted content from https://www.seattleu.edu/directory/profiles/jennifer-cannon-phd.php and saved to JSON.\n"
     ]
    },
    {
     "name": "stderr",
     "output_type": "stream",
     "text": [
      " 34%|███▍      | 2168/6321 [2:10:04<11:45:34, 10.19s/it]"
     ]
    },
    {
     "name": "stdout",
     "output_type": "stream",
     "text": [
      "Extracted content from https://www.seattleu.edu/directory/profiles/jennifer-coogan-ma-med.php and saved to JSON.\n"
     ]
    },
    {
     "name": "stderr",
     "output_type": "stream",
     "text": [
      " 34%|███▍      | 2169/6321 [2:10:15<11:52:08, 10.29s/it]"
     ]
    },
    {
     "name": "stdout",
     "output_type": "stream",
     "text": [
      "Extracted content from https://www.seattleu.edu/directory/profiles/jennifer-gess-phd.php and saved to JSON.\n"
     ]
    },
    {
     "name": "stderr",
     "output_type": "stream",
     "text": [
      " 34%|███▍      | 2170/6321 [2:10:25<11:49:21, 10.25s/it]"
     ]
    },
    {
     "name": "stdout",
     "output_type": "stream",
     "text": [
      "Extracted content from https://www.seattleu.edu/directory/profiles/jennifer-hamann.php and saved to JSON.\n"
     ]
    },
    {
     "name": "stderr",
     "output_type": "stream",
     "text": [
      " 34%|███▍      | 2171/6321 [2:10:35<11:47:36, 10.23s/it]"
     ]
    },
    {
     "name": "stdout",
     "output_type": "stream",
     "text": [
      "Extracted content from https://www.seattleu.edu/directory/profiles/jennifer-s-hong-phd.php and saved to JSON.\n"
     ]
    },
    {
     "name": "stderr",
     "output_type": "stream",
     "text": [
      " 34%|███▍      | 2172/6321 [2:10:45<11:46:04, 10.21s/it]"
     ]
    },
    {
     "name": "stdout",
     "output_type": "stream",
     "text": [
      "Extracted content from https://www.seattleu.edu/directory/profiles/jennifer-loertscher-phd.php and saved to JSON.\n"
     ]
    },
    {
     "name": "stderr",
     "output_type": "stream",
     "text": [
      " 34%|███▍      | 2173/6321 [2:10:56<11:44:59, 10.20s/it]"
     ]
    },
    {
     "name": "stdout",
     "output_type": "stream",
     "text": [
      "Extracted content from https://www.seattleu.edu/directory/profiles/jennifer-luo-phd.php and saved to JSON.\n"
     ]
    },
    {
     "name": "stderr",
     "output_type": "stream",
     "text": [
      " 34%|███▍      | 2174/6321 [2:11:06<11:44:10, 10.19s/it]"
     ]
    },
    {
     "name": "stdout",
     "output_type": "stream",
     "text": [
      "Extracted content from https://www.seattleu.edu/directory/profiles/jennifer-marrone-phd.php and saved to JSON.\n"
     ]
    },
    {
     "name": "stderr",
     "output_type": "stream",
     "text": [
      " 34%|███▍      | 2175/6321 [2:11:16<11:43:36, 10.18s/it]"
     ]
    },
    {
     "name": "stdout",
     "output_type": "stream",
     "text": [
      "Extracted content from https://www.seattleu.edu/directory/profiles/jennifer-mcpherson.php and saved to JSON.\n"
     ]
    },
    {
     "name": "stderr",
     "output_type": "stream",
     "text": [
      " 34%|███▍      | 2176/6321 [2:11:26<11:45:23, 10.21s/it]"
     ]
    },
    {
     "name": "stdout",
     "output_type": "stream",
     "text": [
      "Extracted content from https://www.seattleu.edu/directory/profiles/jennifer-olsen.php and saved to JSON.\n"
     ]
    },
    {
     "name": "stderr",
     "output_type": "stream",
     "text": [
      " 34%|███▍      | 2177/6321 [2:11:36<11:44:08, 10.20s/it]"
     ]
    },
    {
     "name": "stdout",
     "output_type": "stream",
     "text": [
      "Extracted content from https://www.seattleu.edu/directory/profiles/jennifer-riester.php and saved to JSON.\n"
     ]
    },
    {
     "name": "stderr",
     "output_type": "stream",
     "text": [
      " 34%|███▍      | 2178/6321 [2:11:47<11:43:07, 10.18s/it]"
     ]
    },
    {
     "name": "stdout",
     "output_type": "stream",
     "text": [
      "Extracted content from https://www.seattleu.edu/directory/profiles/jennifer-schulz-phd.php and saved to JSON.\n"
     ]
    },
    {
     "name": "stderr",
     "output_type": "stream",
     "text": [
      " 34%|███▍      | 2179/6321 [2:11:57<11:43:02, 10.18s/it]"
     ]
    },
    {
     "name": "stdout",
     "output_type": "stream",
     "text": [
      "Extracted content from https://www.seattleu.edu/directory/profiles/jennifer-tilghman-havens.php and saved to JSON.\n"
     ]
    },
    {
     "name": "stderr",
     "output_type": "stream",
     "text": [
      " 34%|███▍      | 2180/6321 [2:12:07<11:41:59, 10.17s/it]"
     ]
    },
    {
     "name": "stdout",
     "output_type": "stream",
     "text": [
      "Extracted content from https://www.seattleu.edu/directory/profiles/jennifer-wiechert.php and saved to JSON.\n"
     ]
    },
    {
     "name": "stderr",
     "output_type": "stream",
     "text": [
      " 35%|███▍      | 2181/6321 [2:12:17<11:41:32, 10.17s/it]"
     ]
    },
    {
     "name": "stdout",
     "output_type": "stream",
     "text": [
      "Extracted content from https://www.seattleu.edu/directory/profiles/jenny-curwen-dnp-arnp-cnm-fnp-c.php and saved to JSON.\n"
     ]
    },
    {
     "name": "stderr",
     "output_type": "stream",
     "text": [
      " 35%|███▍      | 2183/6321 [2:12:27<8:15:24,  7.18s/it] "
     ]
    },
    {
     "name": "stdout",
     "output_type": "stream",
     "text": [
      "Error processing https:www.seattleu.edu/directory/profiles/jensen-bonney.php: HTTP Error 404: Not Found\n",
      "Extracted content from https://www.seattleu.edu/directory/profiles/jeremy-eckert.php and saved to JSON.\n"
     ]
    },
    {
     "name": "stderr",
     "output_type": "stream",
     "text": [
      " 35%|███▍      | 2184/6321 [2:12:38<9:16:52,  8.08s/it]"
     ]
    },
    {
     "name": "stdout",
     "output_type": "stream",
     "text": [
      "Extracted content from https://www.seattleu.edu/directory/profiles/jeremy-stringer.php and saved to JSON.\n"
     ]
    },
    {
     "name": "stderr",
     "output_type": "stream",
     "text": [
      " 35%|███▍      | 2185/6321 [2:12:48<10:05:11,  8.78s/it]"
     ]
    },
    {
     "name": "stdout",
     "output_type": "stream",
     "text": [
      "Extracted content from https://www.seattleu.edu/directory/profiles/jerome-veith-phd.php and saved to JSON.\n"
     ]
    },
    {
     "name": "stderr",
     "output_type": "stream",
     "text": [
      " 35%|███▍      | 2186/6321 [2:12:58<10:33:27,  9.19s/it]"
     ]
    },
    {
     "name": "stdout",
     "output_type": "stream",
     "text": [
      "Extracted content from https://www.seattleu.edu/directory/profiles/jeromy-simmons.php and saved to JSON.\n"
     ]
    },
    {
     "name": "stderr",
     "output_type": "stream",
     "text": [
      " 35%|███▍      | 2187/6321 [2:13:08<10:53:34,  9.49s/it]"
     ]
    },
    {
     "name": "stdout",
     "output_type": "stream",
     "text": [
      "Extracted content from https://www.seattleu.edu/directory/profiles/gerald-cobb.php and saved to JSON.\n"
     ]
    },
    {
     "name": "stderr",
     "output_type": "stream",
     "text": [
      " 35%|███▍      | 2188/6321 [2:13:19<11:07:08,  9.69s/it]"
     ]
    },
    {
     "name": "stdout",
     "output_type": "stream",
     "text": [
      "Extracted content from https://www.seattleu.edu/directory/profiles/jerry-viscione.php and saved to JSON.\n"
     ]
    },
    {
     "name": "stderr",
     "output_type": "stream",
     "text": [
      " 35%|███▍      | 2189/6321 [2:13:29<11:16:53,  9.83s/it]"
     ]
    },
    {
     "name": "stdout",
     "output_type": "stream",
     "text": [
      "Extracted content from https://www.seattleu.edu/directory/profiles/jesse-franklin.php and saved to JSON.\n"
     ]
    },
    {
     "name": "stderr",
     "output_type": "stream",
     "text": [
      " 35%|███▍      | 2190/6321 [2:13:39<11:23:24,  9.93s/it]"
     ]
    },
    {
     "name": "stdout",
     "output_type": "stream",
     "text": [
      "Extracted content from https://www.seattleu.edu/directory/profiles/jessica-gonzales.php and saved to JSON.\n"
     ]
    },
    {
     "name": "stderr",
     "output_type": "stream",
     "text": [
      " 35%|███▍      | 2191/6321 [2:13:49<11:28:04, 10.00s/it]"
     ]
    },
    {
     "name": "stdout",
     "output_type": "stream",
     "text": [
      "Extracted content from https://www.seattleu.edu/directory/profiles/jessica-ludescher-imanaka-phd.php and saved to JSON.\n"
     ]
    },
    {
     "name": "stderr",
     "output_type": "stream",
     "text": [
      " 35%|███▍      | 2192/6321 [2:13:59<11:31:30, 10.05s/it]"
     ]
    },
    {
     "name": "stdout",
     "output_type": "stream",
     "text": [
      "Extracted content from https://www.seattleu.edu/directory/profiles/jessica-knapp.php and saved to JSON.\n"
     ]
    },
    {
     "name": "stderr",
     "output_type": "stream",
     "text": [
      " 35%|███▍      | 2193/6321 [2:14:10<11:37:30, 10.14s/it]"
     ]
    },
    {
     "name": "stdout",
     "output_type": "stream",
     "text": [
      "Extracted content from https://www.seattleu.edu/directory/profiles/jessica-levin.php and saved to JSON.\n"
     ]
    },
    {
     "name": "stderr",
     "output_type": "stream",
     "text": [
      " 35%|███▍      | 2194/6321 [2:14:20<11:37:11, 10.14s/it]"
     ]
    },
    {
     "name": "stdout",
     "output_type": "stream",
     "text": [
      "Extracted content from https://www.seattleu.edu/directory/profiles/jessica-palmer.php and saved to JSON.\n"
     ]
    },
    {
     "name": "stderr",
     "output_type": "stream",
     "text": [
      " 35%|███▍      | 2195/6321 [2:14:30<11:37:45, 10.15s/it]"
     ]
    },
    {
     "name": "stdout",
     "output_type": "stream",
     "text": [
      "Extracted content from https://www.seattleu.edu/directory/profiles/jessica-peaslee.php and saved to JSON.\n"
     ]
    },
    {
     "name": "stderr",
     "output_type": "stream",
     "text": [
      " 35%|███▍      | 2196/6321 [2:14:40<11:37:27, 10.14s/it]"
     ]
    },
    {
     "name": "stdout",
     "output_type": "stream",
     "text": [
      "Extracted content from https://www.seattleu.edu/directory/profiles/jhon-paul-smith-phd-se-or-pe-or-ca.php and saved to JSON.\n"
     ]
    },
    {
     "name": "stderr",
     "output_type": "stream",
     "text": [
      " 35%|███▍      | 2197/6321 [2:14:50<11:37:53, 10.15s/it]"
     ]
    },
    {
     "name": "stdout",
     "output_type": "stream",
     "text": [
      "Extracted content from https://www.seattleu.edu/directory/profiles/jian-yang.php and saved to JSON.\n"
     ]
    },
    {
     "name": "stderr",
     "output_type": "stream",
     "text": [
      " 35%|███▍      | 2198/6321 [2:15:00<11:37:59, 10.16s/it]"
     ]
    },
    {
     "name": "stdout",
     "output_type": "stream",
     "text": [
      "Extracted content from https://www.seattleu.edu/directory/profiles/jiangmeng-helen-liu-phd.php and saved to JSON.\n"
     ]
    },
    {
     "name": "stderr",
     "output_type": "stream",
     "text": [
      " 35%|███▍      | 2199/6321 [2:15:10<11:37:32, 10.15s/it]"
     ]
    },
    {
     "name": "stdout",
     "output_type": "stream",
     "text": [
      "Extracted content from https://www.seattleu.edu/directory/profiles/jiayun-liu.php and saved to JSON.\n"
     ]
    },
    {
     "name": "stderr",
     "output_type": "stream",
     "text": [
      " 35%|███▍      | 2200/6321 [2:15:21<11:37:41, 10.16s/it]"
     ]
    },
    {
     "name": "stdout",
     "output_type": "stream",
     "text": [
      "Extracted content from https://www.seattleu.edu/directory/profiles/jila-mirlashari-phd-rn.php and saved to JSON.\n"
     ]
    },
    {
     "name": "stderr",
     "output_type": "stream",
     "text": [
      " 35%|███▍      | 2201/6321 [2:15:31<11:41:35, 10.22s/it]"
     ]
    },
    {
     "name": "stdout",
     "output_type": "stream",
     "text": [
      "Extracted content from https://www.seattleu.edu/directory/profiles/jill-la-pointe.php and saved to JSON.\n"
     ]
    },
    {
     "name": "stderr",
     "output_type": "stream",
     "text": [
      " 35%|███▍      | 2202/6321 [2:15:41<11:39:55, 10.20s/it]"
     ]
    },
    {
     "name": "stdout",
     "output_type": "stream",
     "text": [
      "Extracted content from https://www.seattleu.edu/directory/profiles/jillian-neault.php and saved to JSON.\n"
     ]
    },
    {
     "name": "stderr",
     "output_type": "stream",
     "text": [
      " 35%|███▍      | 2203/6321 [2:15:51<11:41:45, 10.22s/it]"
     ]
    },
    {
     "name": "stdout",
     "output_type": "stream",
     "text": [
      "Extracted content from https://www.seattleu.edu/directory/profiles/jimmy-huie.php and saved to JSON.\n"
     ]
    },
    {
     "name": "stderr",
     "output_type": "stream",
     "text": [
      " 35%|███▍      | 2204/6321 [2:16:02<11:40:29, 10.21s/it]"
     ]
    },
    {
     "name": "stdout",
     "output_type": "stream",
     "text": [
      "Extracted content from https://www.seattleu.edu/directory/profiles/joanne-hughes-phd.php and saved to JSON.\n"
     ]
    },
    {
     "name": "stderr",
     "output_type": "stream",
     "text": [
      " 35%|███▍      | 2205/6321 [2:16:12<11:39:19, 10.19s/it]"
     ]
    },
    {
     "name": "stdout",
     "output_type": "stream",
     "text": [
      "Extracted content from https://www.seattleu.edu/directory/profiles/joanne-jodi-kelly.php and saved to JSON.\n"
     ]
    },
    {
     "name": "stderr",
     "output_type": "stream",
     "text": [
      " 35%|███▍      | 2206/6321 [2:16:22<11:38:01, 10.18s/it]"
     ]
    },
    {
     "name": "stdout",
     "output_type": "stream",
     "text": [
      "Extracted content from https://www.seattleu.edu/directory/profiles/jocelyn-boudreau.php and saved to JSON.\n"
     ]
    },
    {
     "name": "stderr",
     "output_type": "stream",
     "text": [
      " 35%|███▍      | 2207/6321 [2:16:32<11:37:08, 10.17s/it]"
     ]
    },
    {
     "name": "stdout",
     "output_type": "stream",
     "text": [
      "Extracted content from https://www.seattleu.edu/directory/profiles/jocelyn-cooney.php and saved to JSON.\n"
     ]
    },
    {
     "name": "stderr",
     "output_type": "stream",
     "text": [
      " 35%|███▍      | 2208/6321 [2:16:42<11:37:13, 10.17s/it]"
     ]
    },
    {
     "name": "stdout",
     "output_type": "stream",
     "text": [
      "Extracted content from https://www.seattleu.edu/directory/profiles/joe-cater.php and saved to JSON.\n"
     ]
    },
    {
     "name": "stderr",
     "output_type": "stream",
     "text": [
      " 35%|███▍      | 2209/6321 [2:16:53<11:40:01, 10.21s/it]"
     ]
    },
    {
     "name": "stdout",
     "output_type": "stream",
     "text": [
      "Extracted content from https://www.seattleu.edu/directory/profiles/john-h-armstrong.php and saved to JSON.\n"
     ]
    },
    {
     "name": "stderr",
     "output_type": "stream",
     "text": [
      " 35%|███▍      | 2210/6321 [2:17:03<11:38:58, 10.20s/it]"
     ]
    },
    {
     "name": "stdout",
     "output_type": "stream",
     "text": [
      "Extracted content from https://www.seattleu.edu/directory/profiles/john-charles-bean-phd.php and saved to JSON.\n"
     ]
    },
    {
     "name": "stderr",
     "output_type": "stream",
     "text": [
      " 35%|███▍      | 2211/6321 [2:17:13<11:43:52, 10.28s/it]"
     ]
    },
    {
     "name": "stdout",
     "output_type": "stream",
     "text": [
      "Extracted content from https://www.seattleu.edu/directory/profiles/john-buell.php and saved to JSON.\n"
     ]
    },
    {
     "name": "stderr",
     "output_type": "stream",
     "text": [
      " 35%|███▍      | 2212/6321 [2:17:23<11:40:55, 10.24s/it]"
     ]
    },
    {
     "name": "stdout",
     "output_type": "stream",
     "text": [
      "Extracted content from https://www.seattleu.edu/directory/profiles/john-burke.php and saved to JSON.\n"
     ]
    },
    {
     "name": "stderr",
     "output_type": "stream",
     "text": [
      " 35%|███▌      | 2213/6321 [2:17:33<11:38:54, 10.21s/it]"
     ]
    },
    {
     "name": "stdout",
     "output_type": "stream",
     "text": [
      "Extracted content from https://www.seattleu.edu/directory/profiles/john-carter-phd.php and saved to JSON.\n"
     ]
    },
    {
     "name": "stderr",
     "output_type": "stream",
     "text": [
      " 35%|███▌      | 2214/6321 [2:17:44<11:38:07, 10.20s/it]"
     ]
    },
    {
     "name": "stdout",
     "output_type": "stream",
     "text": [
      "Extracted content from https://www.seattleu.edu/directory/profiles/john-chattin-mcnichols.php and saved to JSON.\n"
     ]
    },
    {
     "name": "stderr",
     "output_type": "stream",
     "text": [
      " 35%|███▌      | 2215/6321 [2:17:54<11:37:33, 10.19s/it]"
     ]
    },
    {
     "name": "stdout",
     "output_type": "stream",
     "text": [
      "Extracted content from https://www.seattleu.edu/directory/profiles/john-collins.php and saved to JSON.\n"
     ]
    },
    {
     "name": "stderr",
     "output_type": "stream",
     "text": [
      " 35%|███▌      | 2216/6321 [2:18:04<11:36:19, 10.18s/it]"
     ]
    },
    {
     "name": "stdout",
     "output_type": "stream",
     "text": [
      "Extracted content from https://www.seattleu.edu/directory/profiles/john-cranmer.php and saved to JSON.\n"
     ]
    },
    {
     "name": "stderr",
     "output_type": "stream",
     "text": [
      " 35%|███▌      | 2217/6321 [2:18:14<11:35:49, 10.17s/it]"
     ]
    },
    {
     "name": "stdout",
     "output_type": "stream",
     "text": [
      "Extracted content from https://www.seattleu.edu/directory/profiles/john-dienhart.php and saved to JSON.\n"
     ]
    },
    {
     "name": "stderr",
     "output_type": "stream",
     "text": [
      " 35%|███▌      | 2218/6321 [2:18:24<11:35:33, 10.17s/it]"
     ]
    },
    {
     "name": "stdout",
     "output_type": "stream",
     "text": [
      "Extracted content from https://www.seattleu.edu/directory/profiles/john-dougherty.php and saved to JSON.\n"
     ]
    },
    {
     "name": "stderr",
     "output_type": "stream",
     "text": [
      " 35%|███▌      | 2219/6321 [2:18:35<11:39:23, 10.23s/it]"
     ]
    },
    {
     "name": "stdout",
     "output_type": "stream",
     "text": [
      "Extracted content from https://www.seattleu.edu/directory/profiles/john-easley.php and saved to JSON.\n"
     ]
    },
    {
     "name": "stderr",
     "output_type": "stream",
     "text": [
      " 35%|███▌      | 2220/6321 [2:18:45<11:38:49, 10.22s/it]"
     ]
    },
    {
     "name": "stdout",
     "output_type": "stream",
     "text": [
      "Extracted content from https://www.seattleu.edu/directory/profiles/john-eason.php and saved to JSON.\n"
     ]
    },
    {
     "name": "stderr",
     "output_type": "stream",
     "text": [
      " 35%|███▌      | 2221/6321 [2:18:55<11:37:14, 10.20s/it]"
     ]
    },
    {
     "name": "stdout",
     "output_type": "stream",
     "text": [
      "Extracted content from https://www.seattleu.edu/directory/profiles/john-eshelman.php and saved to JSON.\n"
     ]
    },
    {
     "name": "stderr",
     "output_type": "stream",
     "text": [
      " 35%|███▌      | 2222/6321 [2:19:05<11:36:10, 10.19s/it]"
     ]
    },
    {
     "name": "stdout",
     "output_type": "stream",
     "text": [
      "Extracted content from https://www.seattleu.edu/directory/profiles/john-fleming.php and saved to JSON.\n"
     ]
    },
    {
     "name": "stderr",
     "output_type": "stream",
     "text": [
      " 35%|███▌      | 2223/6321 [2:19:15<11:37:05, 10.21s/it]"
     ]
    },
    {
     "name": "stdout",
     "output_type": "stream",
     "text": [
      "Extracted content from https://www.seattleu.edu/directory/profiles/john-hainze-phd.php and saved to JSON.\n"
     ]
    },
    {
     "name": "stderr",
     "output_type": "stream",
     "text": [
      " 35%|███▌      | 2224/6321 [2:19:26<11:36:32, 10.20s/it]"
     ]
    },
    {
     "name": "stdout",
     "output_type": "stream",
     "text": [
      "Extracted content from https://www.seattleu.edu/directory/profiles/john-johnston.php and saved to JSON.\n"
     ]
    },
    {
     "name": "stderr",
     "output_type": "stream",
     "text": [
      " 35%|███▌      | 2225/6321 [2:19:36<11:35:44, 10.19s/it]"
     ]
    },
    {
     "name": "stdout",
     "output_type": "stream",
     "text": [
      "Extracted content from https://www.seattleu.edu/directory/profiles/john-kirkwood.php and saved to JSON.\n"
     ]
    },
    {
     "name": "stderr",
     "output_type": "stream",
     "text": [
      " 35%|███▌      | 2226/6321 [2:19:46<11:35:08, 10.19s/it]"
     ]
    },
    {
     "name": "stdout",
     "output_type": "stream",
     "text": [
      "Extracted content from https://www.seattleu.edu/directory/profiles/john-mckay.php and saved to JSON.\n"
     ]
    },
    {
     "name": "stderr",
     "output_type": "stream",
     "text": [
      " 35%|███▌      | 2227/6321 [2:19:56<11:39:48, 10.26s/it]"
     ]
    },
    {
     "name": "stdout",
     "output_type": "stream",
     "text": [
      "Extracted content from https://www.seattleu.edu/directory/profiles/john-mclean.php and saved to JSON.\n"
     ]
    },
    {
     "name": "stderr",
     "output_type": "stream",
     "text": [
      " 35%|███▌      | 2228/6321 [2:20:07<11:46:49, 10.36s/it]"
     ]
    },
    {
     "name": "stdout",
     "output_type": "stream",
     "text": [
      "Extracted content from https://www.seattleu.edu/directory/profiles/john-meany.php and saved to JSON.\n"
     ]
    },
    {
     "name": "stderr",
     "output_type": "stream",
     "text": [
      " 35%|███▌      | 2229/6321 [2:20:17<11:44:24, 10.33s/it]"
     ]
    },
    {
     "name": "stdout",
     "output_type": "stream",
     "text": [
      "Extracted content from https://www.seattleu.edu/directory/profiles/john-mitchell.php and saved to JSON.\n"
     ]
    },
    {
     "name": "stderr",
     "output_type": "stream",
     "text": [
      " 35%|███▌      | 2230/6321 [2:20:27<11:41:06, 10.28s/it]"
     ]
    },
    {
     "name": "stdout",
     "output_type": "stream",
     "text": [
      "Extracted content from https://www.seattleu.edu/directory/profiles/jack-neton-ba.php and saved to JSON.\n"
     ]
    },
    {
     "name": "stderr",
     "output_type": "stream",
     "text": [
      " 35%|███▌      | 2231/6321 [2:20:38<11:38:49, 10.25s/it]"
     ]
    },
    {
     "name": "stdout",
     "output_type": "stream",
     "text": [
      "Extracted content from https://www.seattleu.edu/directory/profiles/john-popko.php and saved to JSON.\n"
     ]
    },
    {
     "name": "stderr",
     "output_type": "stream",
     "text": [
      " 35%|███▌      | 2232/6321 [2:20:48<11:37:06, 10.23s/it]"
     ]
    },
    {
     "name": "stdout",
     "output_type": "stream",
     "text": [
      "Extracted content from https://www.seattleu.edu/directory/profiles/john-sites.php and saved to JSON.\n"
     ]
    },
    {
     "name": "stderr",
     "output_type": "stream",
     "text": [
      " 35%|███▌      | 2233/6321 [2:20:58<11:35:15, 10.20s/it]"
     ]
    },
    {
     "name": "stdout",
     "output_type": "stream",
     "text": [
      "Extracted content from https://www.seattleu.edu/directory/profiles/john-stetson.php and saved to JSON.\n"
     ]
    },
    {
     "name": "stderr",
     "output_type": "stream",
     "text": [
      " 35%|███▌      | 2234/6321 [2:21:08<11:34:45, 10.20s/it]"
     ]
    },
    {
     "name": "stdout",
     "output_type": "stream",
     "text": [
      "Extracted content from https://www.seattleu.edu/directory/profiles/john-strait.php and saved to JSON.\n"
     ]
    },
    {
     "name": "stderr",
     "output_type": "stream",
     "text": [
      " 35%|███▌      | 2236/6321 [2:21:19<8:11:03,  7.21s/it] "
     ]
    },
    {
     "name": "stdout",
     "output_type": "stream",
     "text": [
      "Error processing https:www.seattleu.edu/directory/profiles/john-teegarden.php: HTTP Error 404: Not Found\n",
      "Extracted content from https://www.seattleu.edu/directory/profiles/john-topel-sj.php and saved to JSON.\n"
     ]
    },
    {
     "name": "stderr",
     "output_type": "stream",
     "text": [
      " 35%|███▌      | 2237/6321 [2:21:29<9:10:53,  8.09s/it]"
     ]
    },
    {
     "name": "stdout",
     "output_type": "stream",
     "text": [
      "Extracted content from https://www.seattleu.edu/directory/profiles/john-toutonghi.php and saved to JSON.\n"
     ]
    },
    {
     "name": "stderr",
     "output_type": "stream",
     "text": [
      " 35%|███▌      | 2238/6321 [2:21:39<9:53:33,  8.72s/it]"
     ]
    },
    {
     "name": "stdout",
     "output_type": "stream",
     "text": [
      "Extracted content from https://www.seattleu.edu/directory/profiles/john-vinson-phd.php and saved to JSON.\n"
     ]
    },
    {
     "name": "stderr",
     "output_type": "stream",
     "text": [
      " 35%|███▌      | 2239/6321 [2:21:49<10:23:00,  9.16s/it]"
     ]
    },
    {
     "name": "stdout",
     "output_type": "stream",
     "text": [
      "Extracted content from https://www.seattleu.edu/directory/profiles/john-weaver.php and saved to JSON.\n"
     ]
    },
    {
     "name": "stderr",
     "output_type": "stream",
     "text": [
      " 35%|███▌      | 2240/6321 [2:21:59<10:45:36,  9.49s/it]"
     ]
    },
    {
     "name": "stdout",
     "output_type": "stream",
     "text": [
      "Extracted content from https://www.seattleu.edu/directory/profiles/john-wilkins.php and saved to JSON.\n"
     ]
    },
    {
     "name": "stderr",
     "output_type": "stream",
     "text": [
      " 35%|███▌      | 2241/6321 [2:22:09<10:59:08,  9.69s/it]"
     ]
    },
    {
     "name": "stdout",
     "output_type": "stream",
     "text": [
      "Extracted content from https://www.seattleu.edu/directory/profiles/john-jacob-gardiner.php and saved to JSON.\n"
     ]
    },
    {
     "name": "stderr",
     "output_type": "stream",
     "text": [
      " 35%|███▌      | 2242/6321 [2:22:20<11:08:57,  9.84s/it]"
     ]
    },
    {
     "name": "stdout",
     "output_type": "stream",
     "text": [
      "Extracted content from https://www.seattleu.edu/directory/profiles/john-stephen-riley.php and saved to JSON.\n"
     ]
    },
    {
     "name": "stderr",
     "output_type": "stream",
     "text": [
      " 35%|███▌      | 2243/6321 [2:22:30<11:15:45,  9.94s/it]"
     ]
    },
    {
     "name": "stdout",
     "output_type": "stream",
     "text": [
      "Extracted content from https://www.seattleu.edu/directory/profiles/jon-gould-mpa.php and saved to JSON.\n"
     ]
    },
    {
     "name": "stderr",
     "output_type": "stream",
     "text": [
      " 36%|███▌      | 2244/6321 [2:22:40<11:23:15, 10.06s/it]"
     ]
    },
    {
     "name": "stdout",
     "output_type": "stream",
     "text": [
      "Extracted content from https://www.seattleu.edu/directory/profiles/jonas-batt-ma.php and saved to JSON.\n"
     ]
    },
    {
     "name": "stderr",
     "output_type": "stream",
     "text": [
      " 36%|███▌      | 2245/6321 [2:22:50<11:26:00, 10.10s/it]"
     ]
    },
    {
     "name": "stdout",
     "output_type": "stream",
     "text": [
      "Extracted content from https://www.seattleu.edu/directory/profiles/jonathan-bechtol.php and saved to JSON.\n"
     ]
    },
    {
     "name": "stderr",
     "output_type": "stream",
     "text": [
      " 36%|███▌      | 2246/6321 [2:23:01<11:29:05, 10.15s/it]"
     ]
    },
    {
     "name": "stdout",
     "output_type": "stream",
     "text": [
      "Extracted content from https://www.seattleu.edu/directory/profiles/jonathan-koshar.php and saved to JSON.\n"
     ]
    },
    {
     "name": "stderr",
     "output_type": "stream",
     "text": [
      " 36%|███▌      | 2247/6321 [2:23:11<11:29:14, 10.15s/it]"
     ]
    },
    {
     "name": "stdout",
     "output_type": "stream",
     "text": [
      "Extracted content from https://www.seattleu.edu/directory/profiles/jonathan-nomamiukor.php and saved to JSON.\n"
     ]
    },
    {
     "name": "stderr",
     "output_type": "stream",
     "text": [
      " 36%|███▌      | 2248/6321 [2:23:21<11:29:13, 10.15s/it]"
     ]
    },
    {
     "name": "stdout",
     "output_type": "stream",
     "text": [
      "Extracted content from https://www.seattleu.edu/directory/profiles/jonathan-wittmaier.php and saved to JSON.\n"
     ]
    },
    {
     "name": "stderr",
     "output_type": "stream",
     "text": [
      " 36%|███▌      | 2249/6321 [2:23:31<11:29:12, 10.16s/it]"
     ]
    },
    {
     "name": "stdout",
     "output_type": "stream",
     "text": [
      "Extracted content from https://www.seattleu.edu/directory/profiles/joni-balter.php and saved to JSON.\n"
     ]
    },
    {
     "name": "stderr",
     "output_type": "stream",
     "text": [
      " 36%|███▌      | 2250/6321 [2:23:41<11:28:53, 10.15s/it]"
     ]
    },
    {
     "name": "stdout",
     "output_type": "stream",
     "text": [
      "Extracted content from https://www.seattleu.edu/directory/profiles/jonnae-tillman-dnp-pmhnp-bc.php and saved to JSON.\n"
     ]
    },
    {
     "name": "stderr",
     "output_type": "stream",
     "text": [
      " 36%|███▌      | 2251/6321 [2:23:51<11:28:45, 10.15s/it]"
     ]
    },
    {
     "name": "stdout",
     "output_type": "stream",
     "text": [
      "Extracted content from https://www.seattleu.edu/directory/profiles/jordan-babineaux-mba.php and saved to JSON.\n"
     ]
    },
    {
     "name": "stderr",
     "output_type": "stream",
     "text": [
      " 36%|███▌      | 2252/6321 [2:24:02<11:30:06, 10.18s/it]"
     ]
    },
    {
     "name": "stdout",
     "output_type": "stream",
     "text": [
      "Extracted content from https://www.seattleu.edu/directory/profiles/jordan-eisen.php and saved to JSON.\n"
     ]
    },
    {
     "name": "stderr",
     "output_type": "stream",
     "text": [
      " 36%|███▌      | 2253/6321 [2:24:12<11:29:55, 10.18s/it]"
     ]
    },
    {
     "name": "stdout",
     "output_type": "stream",
     "text": [
      "Extracted content from https://www.seattleu.edu/directory/profiles/jordan-grant.php and saved to JSON.\n"
     ]
    },
    {
     "name": "stderr",
     "output_type": "stream",
     "text": [
      " 36%|███▌      | 2254/6321 [2:24:22<11:29:31, 10.17s/it]"
     ]
    },
    {
     "name": "stdout",
     "output_type": "stream",
     "text": [
      "Extracted content from https://www.seattleu.edu/directory/profiles/jordan-shannon-phd-lmhc-c-dmhc-ncc.php and saved to JSON.\n"
     ]
    },
    {
     "name": "stderr",
     "output_type": "stream",
     "text": [
      " 36%|███▌      | 2255/6321 [2:24:32<11:29:18, 10.17s/it]"
     ]
    },
    {
     "name": "stdout",
     "output_type": "stream",
     "text": [
      "Extracted content from https://www.seattleu.edu/directory/profiles/jordan-talge.php and saved to JSON.\n"
     ]
    },
    {
     "name": "stderr",
     "output_type": "stream",
     "text": [
      " 36%|███▌      | 2256/6321 [2:24:42<11:29:27, 10.18s/it]"
     ]
    },
    {
     "name": "stdout",
     "output_type": "stream",
     "text": [
      "Extracted content from https://www.seattleu.edu/directory/profiles/jordana-lesavage.php and saved to JSON.\n"
     ]
    },
    {
     "name": "stderr",
     "output_type": "stream",
     "text": [
      " 36%|███▌      | 2257/6321 [2:24:53<11:29:49, 10.18s/it]"
     ]
    },
    {
     "name": "stdout",
     "output_type": "stream",
     "text": [
      "Extracted content from https://www.seattleu.edu/directory/profiles/jorge-melendez.php and saved to JSON.\n"
     ]
    },
    {
     "name": "stderr",
     "output_type": "stream",
     "text": [
      " 36%|███▌      | 2258/6321 [2:25:03<11:30:54, 10.20s/it]"
     ]
    },
    {
     "name": "stdout",
     "output_type": "stream",
     "text": [
      "Extracted content from https://www.seattleu.edu/directory/profiles/joe-afanador.php and saved to JSON.\n"
     ]
    },
    {
     "name": "stderr",
     "output_type": "stream",
     "text": [
      " 36%|███▌      | 2259/6321 [2:25:13<11:29:51, 10.19s/it]"
     ]
    },
    {
     "name": "stdout",
     "output_type": "stream",
     "text": [
      "Extracted content from https://www.seattleu.edu/directory/profiles/josef-v-venker-sj.php and saved to JSON.\n"
     ]
    },
    {
     "name": "stderr",
     "output_type": "stream",
     "text": [
      " 36%|███▌      | 2260/6321 [2:25:23<11:30:45, 10.21s/it]"
     ]
    },
    {
     "name": "stdout",
     "output_type": "stream",
     "text": [
      "Extracted content from https://www.seattleu.edu/directory/profiles/josefine-greenhouse-mfa.php and saved to JSON.\n"
     ]
    },
    {
     "name": "stderr",
     "output_type": "stream",
     "text": [
      " 36%|███▌      | 2261/6321 [2:25:33<11:29:51, 10.20s/it]"
     ]
    },
    {
     "name": "stdout",
     "output_type": "stream",
     "text": [
      "Extracted content from https://www.seattleu.edu/directory/profiles/joseph-barnes.php and saved to JSON.\n"
     ]
    },
    {
     "name": "stderr",
     "output_type": "stream",
     "text": [
      " 36%|███▌      | 2262/6321 [2:25:44<11:29:18, 10.19s/it]"
     ]
    },
    {
     "name": "stdout",
     "output_type": "stream",
     "text": [
      "Extracted content from https://www.seattleu.edu/directory/profiles/joseph-langenhan-phd.php and saved to JSON.\n"
     ]
    },
    {
     "name": "stderr",
     "output_type": "stream",
     "text": [
      " 36%|███▌      | 2263/6321 [2:25:54<11:29:32, 10.20s/it]"
     ]
    },
    {
     "name": "stdout",
     "output_type": "stream",
     "text": [
      "Extracted content from https://www.seattleu.edu/directory/profiles/joseph-mcewen.php and saved to JSON.\n"
     ]
    },
    {
     "name": "stderr",
     "output_type": "stream",
     "text": [
      " 36%|███▌      | 2264/6321 [2:26:04<11:28:34, 10.18s/it]"
     ]
    },
    {
     "name": "stdout",
     "output_type": "stream",
     "text": [
      "Extracted content from https://www.seattleu.edu/directory/profiles/joseph-mcgowan-sj.php and saved to JSON.\n"
     ]
    },
    {
     "name": "stderr",
     "output_type": "stream",
     "text": [
      " 36%|███▌      | 2265/6321 [2:26:14<11:28:01, 10.18s/it]"
     ]
    },
    {
     "name": "stdout",
     "output_type": "stream",
     "text": [
      "Extracted content from https://www.seattleu.edu/directory/profiles/joseph-orlando-edd.php and saved to JSON.\n"
     ]
    },
    {
     "name": "stderr",
     "output_type": "stream",
     "text": [
      " 36%|███▌      | 2266/6321 [2:26:24<11:27:51, 10.18s/it]"
     ]
    },
    {
     "name": "stdout",
     "output_type": "stream",
     "text": [
      "Extracted content from https://www.seattleu.edu/directory/profiles/joseph-orlins.php and saved to JSON.\n"
     ]
    },
    {
     "name": "stderr",
     "output_type": "stream",
     "text": [
      " 36%|███▌      | 2267/6321 [2:26:34<11:27:38, 10.18s/it]"
     ]
    },
    {
     "name": "stdout",
     "output_type": "stream",
     "text": [
      "Extracted content from https://www.seattleu.edu/directory/profiles/joe-ricci-phd.php and saved to JSON.\n"
     ]
    },
    {
     "name": "stderr",
     "output_type": "stream",
     "text": [
      " 36%|███▌      | 2268/6321 [2:26:45<11:31:14, 10.23s/it]"
     ]
    },
    {
     "name": "stdout",
     "output_type": "stream",
     "text": [
      "Extracted content from https://www.seattleu.edu/directory/profiles/joseph-romain.php and saved to JSON.\n"
     ]
    },
    {
     "name": "stderr",
     "output_type": "stream",
     "text": [
      " 36%|███▌      | 2269/6321 [2:26:55<11:29:51, 10.22s/it]"
     ]
    },
    {
     "name": "stdout",
     "output_type": "stream",
     "text": [
      "Extracted content from https://www.seattleu.edu/directory/profiles/joe-schlegel-ma.php and saved to JSON.\n"
     ]
    },
    {
     "name": "stderr",
     "output_type": "stream",
     "text": [
      " 36%|███▌      | 2270/6321 [2:27:05<11:29:03, 10.21s/it]"
     ]
    },
    {
     "name": "stdout",
     "output_type": "stream",
     "text": [
      "Extracted content from https://www.seattleu.edu/directory/profiles/joseph-serrano.php and saved to JSON.\n"
     ]
    },
    {
     "name": "stderr",
     "output_type": "stream",
     "text": [
      " 36%|███▌      | 2271/6321 [2:27:15<11:28:39, 10.20s/it]"
     ]
    },
    {
     "name": "stdout",
     "output_type": "stream",
     "text": [
      "Extracted content from https://www.seattleu.edu/directory/profiles/joseph-nicholas-defilippis-phd.php and saved to JSON.\n"
     ]
    },
    {
     "name": "stderr",
     "output_type": "stream",
     "text": [
      " 36%|███▌      | 2272/6321 [2:27:25<11:27:47, 10.19s/it]"
     ]
    },
    {
     "name": "stdout",
     "output_type": "stream",
     "text": [
      "Extracted content from https://www.seattleu.edu/directory/profiles/josh-anderson.php and saved to JSON.\n"
     ]
    },
    {
     "name": "stderr",
     "output_type": "stream",
     "text": [
      " 36%|███▌      | 2273/6321 [2:27:36<11:27:37, 10.19s/it]"
     ]
    },
    {
     "name": "stdout",
     "output_type": "stream",
     "text": [
      "Extracted content from https://www.seattleu.edu/directory/profiles/joshua-hamel-phd-pe.php and saved to JSON.\n"
     ]
    },
    {
     "name": "stderr",
     "output_type": "stream",
     "text": [
      " 36%|███▌      | 2274/6321 [2:27:46<11:27:13, 10.19s/it]"
     ]
    },
    {
     "name": "stdout",
     "output_type": "stream",
     "text": [
      "Extracted content from https://www.seattleu.edu/directory/profiles/joshua-johnston.php and saved to JSON.\n"
     ]
    },
    {
     "name": "stderr",
     "output_type": "stream",
     "text": [
      " 36%|███▌      | 2275/6321 [2:27:56<11:26:48, 10.19s/it]"
     ]
    },
    {
     "name": "stdout",
     "output_type": "stream",
     "text": [
      "Extracted content from https://www.seattleu.edu/directory/profiles/joshua-lee.php and saved to JSON.\n"
     ]
    },
    {
     "name": "stderr",
     "output_type": "stream",
     "text": [
      " 36%|███▌      | 2276/6321 [2:28:06<11:29:42, 10.23s/it]"
     ]
    },
    {
     "name": "stdout",
     "output_type": "stream",
     "text": [
      "Extracted content from https://www.seattleu.edu/directory/profiles/joshua-magallanes.php and saved to JSON.\n"
     ]
    },
    {
     "name": "stderr",
     "output_type": "stream",
     "text": [
      " 36%|███▌      | 2277/6321 [2:28:17<11:28:55, 10.22s/it]"
     ]
    },
    {
     "name": "stdout",
     "output_type": "stream",
     "text": [
      "Extracted content from https://www.seattleu.edu/directory/profiles/josie-mitchell.php and saved to JSON.\n"
     ]
    },
    {
     "name": "stderr",
     "output_type": "stream",
     "text": [
      " 36%|███▌      | 2278/6321 [2:28:27<11:27:57, 10.21s/it]"
     ]
    },
    {
     "name": "stdout",
     "output_type": "stream",
     "text": [
      "Extracted content from https://www.seattleu.edu/directory/profiles/jot-k-yau-phd-cfa.php and saved to JSON.\n"
     ]
    },
    {
     "name": "stderr",
     "output_type": "stream",
     "text": [
      " 36%|███▌      | 2279/6321 [2:28:37<11:26:45, 10.19s/it]"
     ]
    },
    {
     "name": "stdout",
     "output_type": "stream",
     "text": [
      "Extracted content from https://www.seattleu.edu/directory/profiles/joy-sherman.php and saved to JSON.\n"
     ]
    },
    {
     "name": "stderr",
     "output_type": "stream",
     "text": [
      " 36%|███▌      | 2280/6321 [2:28:47<11:26:11, 10.19s/it]"
     ]
    },
    {
     "name": "stdout",
     "output_type": "stream",
     "text": [
      "Extracted content from https://www.seattleu.edu/directory/profiles/joyce-allen.php and saved to JSON.\n"
     ]
    },
    {
     "name": "stderr",
     "output_type": "stream",
     "text": [
      " 36%|███▌      | 2282/6321 [2:28:57<8:04:00,  7.19s/it] "
     ]
    },
    {
     "name": "stdout",
     "output_type": "stream",
     "text": [
      "Error processing https:www.seattleu.edu/directory/profiles/joyce-cubelo.php: HTTP Error 404: Not Found\n",
      "Extracted content from https://www.seattleu.edu/directory/profiles/juan-arango-carrasquilla.php and saved to JSON.\n"
     ]
    },
    {
     "name": "stderr",
     "output_type": "stream",
     "text": [
      " 36%|███▌      | 2283/6321 [2:29:08<9:04:11,  8.09s/it]"
     ]
    },
    {
     "name": "stdout",
     "output_type": "stream",
     "text": [
      "Extracted content from https://www.seattleu.edu/directory/profiles/juan-ortiz.php and saved to JSON.\n"
     ]
    },
    {
     "name": "stderr",
     "output_type": "stream",
     "text": [
      " 36%|███▌      | 2284/6321 [2:29:18<9:46:01,  8.71s/it]"
     ]
    },
    {
     "name": "stdout",
     "output_type": "stream",
     "text": [
      "Extracted content from https://www.seattleu.edu/directory/profiles/juan-reyes-mfa.php and saved to JSON.\n"
     ]
    },
    {
     "name": "stderr",
     "output_type": "stream",
     "text": [
      " 36%|███▌      | 2285/6321 [2:29:28<10:16:55,  9.17s/it]"
     ]
    },
    {
     "name": "stdout",
     "output_type": "stream",
     "text": [
      "Extracted content from https://www.seattleu.edu/directory/profiles/juana-retana-trejo.php and saved to JSON.\n"
     ]
    },
    {
     "name": "stderr",
     "output_type": "stream",
     "text": [
      " 36%|███▌      | 2286/6321 [2:29:38<10:36:52,  9.47s/it]"
     ]
    },
    {
     "name": "stdout",
     "output_type": "stream",
     "text": [
      "Extracted content from https://www.seattleu.edu/directory/profiles/juanito-milan.php and saved to JSON.\n"
     ]
    },
    {
     "name": "stderr",
     "output_type": "stream",
     "text": [
      " 36%|███▌      | 2287/6321 [2:29:49<10:53:37,  9.72s/it]"
     ]
    },
    {
     "name": "stdout",
     "output_type": "stream",
     "text": [
      "Extracted content from https://www.seattleu.edu/directory/profiles/jud-simonds-dnp-rn-ne-bc.php and saved to JSON.\n"
     ]
    },
    {
     "name": "stderr",
     "output_type": "stream",
     "text": [
      " 36%|███▌      | 2288/6321 [2:29:59<11:02:28,  9.86s/it]"
     ]
    },
    {
     "name": "stdout",
     "output_type": "stream",
     "text": [
      "Extracted content from https://www.seattleu.edu/directory/profiles/judith-davis-msn-rnc.php and saved to JSON.\n"
     ]
    },
    {
     "name": "stderr",
     "output_type": "stream",
     "text": [
      " 36%|███▌      | 2289/6321 [2:30:09<11:08:55,  9.95s/it]"
     ]
    },
    {
     "name": "stdout",
     "output_type": "stream",
     "text": [
      "Extracted content from https://www.seattleu.edu/directory/profiles/judith-mcdaniel.php and saved to JSON.\n"
     ]
    },
    {
     "name": "stderr",
     "output_type": "stream",
     "text": [
      " 36%|███▌      | 2290/6321 [2:30:19<11:13:03, 10.02s/it]"
     ]
    },
    {
     "name": "stdout",
     "output_type": "stream",
     "text": [
      "Extracted content from https://www.seattleu.edu/directory/profiles/judith-sanderson.php and saved to JSON.\n"
     ]
    },
    {
     "name": "stderr",
     "output_type": "stream",
     "text": [
      " 36%|███▌      | 2291/6321 [2:30:29<11:15:29, 10.06s/it]"
     ]
    },
    {
     "name": "stdout",
     "output_type": "stream",
     "text": [
      "Extracted content from https://www.seattleu.edu/directory/profiles/judy-yu.php and saved to JSON.\n"
     ]
    },
    {
     "name": "stderr",
     "output_type": "stream",
     "text": [
      " 36%|███▋      | 2292/6321 [2:30:39<11:17:33, 10.09s/it]"
     ]
    },
    {
     "name": "stdout",
     "output_type": "stream",
     "text": [
      "Extracted content from https://www.seattleu.edu/directory/profiles/jules-bloomenthal.php and saved to JSON.\n"
     ]
    },
    {
     "name": "stderr",
     "output_type": "stream",
     "text": [
      " 36%|███▋      | 2293/6321 [2:30:50<11:18:51, 10.11s/it]"
     ]
    },
    {
     "name": "stdout",
     "output_type": "stream",
     "text": [
      "Extracted content from https://www.seattleu.edu/directory/profiles/juliana-joy.php and saved to JSON.\n"
     ]
    },
    {
     "name": "stderr",
     "output_type": "stream",
     "text": [
      " 36%|███▋      | 2294/6321 [2:31:00<11:19:54, 10.13s/it]"
     ]
    },
    {
     "name": "stdout",
     "output_type": "stream",
     "text": [
      "Extracted content from https://www.seattleu.edu/directory/profiles/julie-aldcroft.php and saved to JSON.\n"
     ]
    },
    {
     "name": "stderr",
     "output_type": "stream",
     "text": [
      " 36%|███▋      | 2295/6321 [2:31:10<11:22:30, 10.17s/it]"
     ]
    },
    {
     "name": "stdout",
     "output_type": "stream",
     "text": [
      "Extracted content from https://www.seattleu.edu/directory/profiles/julie-brady.php and saved to JSON.\n"
     ]
    },
    {
     "name": "stderr",
     "output_type": "stream",
     "text": [
      " 36%|███▋      | 2296/6321 [2:31:20<11:21:54, 10.16s/it]"
     ]
    },
    {
     "name": "stdout",
     "output_type": "stream",
     "text": [
      "Extracted content from https://www.seattleu.edu/directory/profiles/julie-dimauro.php and saved to JSON.\n"
     ]
    },
    {
     "name": "stderr",
     "output_type": "stream",
     "text": [
      " 36%|███▋      | 2297/6321 [2:31:30<11:21:29, 10.16s/it]"
     ]
    },
    {
     "name": "stdout",
     "output_type": "stream",
     "text": [
      "Extracted content from https://www.seattleu.edu/directory/profiles/julie-homchick-crowe-phd.php and saved to JSON.\n"
     ]
    },
    {
     "name": "stderr",
     "output_type": "stream",
     "text": [
      " 36%|███▋      | 2298/6321 [2:31:40<11:21:16, 10.16s/it]"
     ]
    },
    {
     "name": "stdout",
     "output_type": "stream",
     "text": [
      "Extracted content from https://www.seattleu.edu/directory/profiles/julie-kang-phd-nbct.php and saved to JSON.\n"
     ]
    },
    {
     "name": "stderr",
     "output_type": "stream",
     "text": [
      " 36%|███▋      | 2299/6321 [2:31:51<11:21:11, 10.16s/it]"
     ]
    },
    {
     "name": "stdout",
     "output_type": "stream",
     "text": [
      "Extracted content from https://www.seattleu.edu/directory/profiles/julie-schwabe.php and saved to JSON.\n"
     ]
    },
    {
     "name": "stderr",
     "output_type": "stream",
     "text": [
      " 36%|███▋      | 2300/6321 [2:32:01<11:21:00, 10.16s/it]"
     ]
    },
    {
     "name": "stdout",
     "output_type": "stream",
     "text": [
      "Extracted content from https://www.seattleu.edu/directory/profiles/julie-woodward.php and saved to JSON.\n"
     ]
    },
    {
     "name": "stderr",
     "output_type": "stream",
     "text": [
      " 36%|███▋      | 2301/6321 [2:32:11<11:20:53, 10.16s/it]"
     ]
    },
    {
     "name": "stdout",
     "output_type": "stream",
     "text": [
      "Extracted content from https://www.seattleu.edu/directory/profiles/julieanne-culver.php and saved to JSON.\n"
     ]
    },
    {
     "name": "stderr",
     "output_type": "stream",
     "text": [
      " 36%|███▋      | 2302/6321 [2:32:21<11:20:44, 10.16s/it]"
     ]
    },
    {
     "name": "stdout",
     "output_type": "stream",
     "text": [
      "Extracted content from https://www.seattleu.edu/directory/profiles/julius-moss-edd.php and saved to JSON.\n"
     ]
    },
    {
     "name": "stderr",
     "output_type": "stream",
     "text": [
      " 36%|███▋      | 2303/6321 [2:32:31<11:23:49, 10.21s/it]"
     ]
    },
    {
     "name": "stdout",
     "output_type": "stream",
     "text": [
      "Extracted content from https://www.seattleu.edu/directory/profiles/jun-duanmu-phd-cfa.php and saved to JSON.\n"
     ]
    },
    {
     "name": "stderr",
     "output_type": "stream",
     "text": [
      " 36%|███▋      | 2304/6321 [2:32:42<11:22:40, 10.20s/it]"
     ]
    },
    {
     "name": "stdout",
     "output_type": "stream",
     "text": [
      "Extracted content from https://www.seattleu.edu/directory/profiles/june-johnson-bube-phd.php and saved to JSON.\n"
     ]
    },
    {
     "name": "stderr",
     "output_type": "stream",
     "text": [
      " 36%|███▋      | 2305/6321 [2:32:52<11:22:15, 10.19s/it]"
     ]
    },
    {
     "name": "stdout",
     "output_type": "stream",
     "text": [
      "Extracted content from https://www.seattleu.edu/directory/profiles/jung-hee-amaral-msn-rn-cpn-clc.php and saved to JSON.\n"
     ]
    },
    {
     "name": "stderr",
     "output_type": "stream",
     "text": [
      " 36%|███▋      | 2306/6321 [2:33:02<11:21:36, 10.19s/it]"
     ]
    },
    {
     "name": "stdout",
     "output_type": "stream",
     "text": [
      "Extracted content from https://www.seattleu.edu/directory/profiles/juquatta-brewer.php and saved to JSON.\n"
     ]
    },
    {
     "name": "stderr",
     "output_type": "stream",
     "text": [
      " 36%|███▋      | 2307/6321 [2:33:12<11:20:47, 10.18s/it]"
     ]
    },
    {
     "name": "stdout",
     "output_type": "stream",
     "text": [
      "Extracted content from https://www.seattleu.edu/directory/profiles/justin-dolce.php and saved to JSON.\n"
     ]
    },
    {
     "name": "stderr",
     "output_type": "stream",
     "text": [
      " 37%|███▋      | 2308/6321 [2:33:22<11:20:18, 10.17s/it]"
     ]
    },
    {
     "name": "stdout",
     "output_type": "stream",
     "text": [
      "Extracted content from https://www.seattleu.edu/directory/profiles/justin-raymond.php and saved to JSON.\n"
     ]
    },
    {
     "name": "stderr",
     "output_type": "stream",
     "text": [
      " 37%|███▋      | 2309/6321 [2:33:32<11:20:24, 10.18s/it]"
     ]
    },
    {
     "name": "stdout",
     "output_type": "stream",
     "text": [
      "Extracted content from https://www.seattleu.edu/directory/profiles/justin-roe.php and saved to JSON.\n"
     ]
    },
    {
     "name": "stderr",
     "output_type": "stream",
     "text": [
      " 37%|███▋      | 2310/6321 [2:33:43<11:20:57, 10.19s/it]"
     ]
    },
    {
     "name": "stdout",
     "output_type": "stream",
     "text": [
      "Extracted content from https://www.seattleu.edu/directory/profiles/kai-mindel.php and saved to JSON.\n"
     ]
    },
    {
     "name": "stderr",
     "output_type": "stream",
     "text": [
      " 37%|███▋      | 2311/6321 [2:33:53<11:22:03, 10.21s/it]"
     ]
    },
    {
     "name": "stdout",
     "output_type": "stream",
     "text": [
      "Extracted content from https://www.seattleu.edu/directory/profiles/kaitlyn-yang.php and saved to JSON.\n"
     ]
    },
    {
     "name": "stderr",
     "output_type": "stream",
     "text": [
      " 37%|███▋      | 2312/6321 [2:34:03<11:21:00, 10.19s/it]"
     ]
    },
    {
     "name": "stdout",
     "output_type": "stream",
     "text": [
      "Extracted content from https://www.seattleu.edu/directory/profiles/kaleabe-teferra.php and saved to JSON.\n"
     ]
    },
    {
     "name": "stderr",
     "output_type": "stream",
     "text": [
      " 37%|███▋      | 2313/6321 [2:34:13<11:21:01, 10.19s/it]"
     ]
    },
    {
     "name": "stdout",
     "output_type": "stream",
     "text": [
      "Extracted content from https://www.seattleu.edu/directory/profiles/kan-liang-phd.php and saved to JSON.\n"
     ]
    },
    {
     "name": "stderr",
     "output_type": "stream",
     "text": [
      " 37%|███▋      | 2314/6321 [2:34:23<11:19:55, 10.18s/it]"
     ]
    },
    {
     "name": "stdout",
     "output_type": "stream",
     "text": [
      "Extracted content from https://www.seattleu.edu/directory/profiles/kaori-packard.php and saved to JSON.\n"
     ]
    },
    {
     "name": "stderr",
     "output_type": "stream",
     "text": [
      " 37%|███▋      | 2315/6321 [2:34:34<11:19:34, 10.18s/it]"
     ]
    },
    {
     "name": "stdout",
     "output_type": "stream",
     "text": [
      "Extracted content from https://www.seattleu.edu/directory/profiles/kara-dunn.php and saved to JSON.\n"
     ]
    },
    {
     "name": "stderr",
     "output_type": "stream",
     "text": [
      " 37%|███▋      | 2316/6321 [2:34:44<11:19:28, 10.18s/it]"
     ]
    },
    {
     "name": "stdout",
     "output_type": "stream",
     "text": [
      "Extracted content from https://www.seattleu.edu/directory/profiles/kara-luckey-phd.php and saved to JSON.\n"
     ]
    },
    {
     "name": "stderr",
     "output_type": "stream",
     "text": [
      " 37%|███▋      | 2317/6321 [2:34:54<11:18:47, 10.17s/it]"
     ]
    },
    {
     "name": "stdout",
     "output_type": "stream",
     "text": [
      "Extracted content from https://www.seattleu.edu/directory/profiles/kara-markell-dmin.php and saved to JSON.\n"
     ]
    },
    {
     "name": "stderr",
     "output_type": "stream",
     "text": [
      " 37%|███▋      | 2318/6321 [2:35:04<11:18:25, 10.17s/it]"
     ]
    },
    {
     "name": "stdout",
     "output_type": "stream",
     "text": [
      "Extracted content from https://www.seattleu.edu/directory/profiles/kara-phillips.php and saved to JSON.\n"
     ]
    },
    {
     "name": "stderr",
     "output_type": "stream",
     "text": [
      " 37%|███▋      | 2319/6321 [2:35:14<11:20:47, 10.21s/it]"
     ]
    },
    {
     "name": "stdout",
     "output_type": "stream",
     "text": [
      "Extracted content from https://www.seattleu.edu/directory/profiles/kara-wittmer.php and saved to JSON.\n"
     ]
    },
    {
     "name": "stderr",
     "output_type": "stream",
     "text": [
      " 37%|███▋      | 2320/6321 [2:35:25<11:19:52, 10.20s/it]"
     ]
    },
    {
     "name": "stdout",
     "output_type": "stream",
     "text": [
      "Extracted content from https://www.seattleu.edu/directory/profiles/karen-barta.php and saved to JSON.\n"
     ]
    },
    {
     "name": "stderr",
     "output_type": "stream",
     "text": [
      " 37%|███▋      | 2321/6321 [2:35:35<11:19:27, 10.19s/it]"
     ]
    },
    {
     "name": "stdout",
     "output_type": "stream",
     "text": [
      "Extracted content from https://www.seattleu.edu/directory/profiles/karen-cowgill-phd-msc-rn.php and saved to JSON.\n"
     ]
    },
    {
     "name": "stderr",
     "output_type": "stream",
     "text": [
      " 37%|███▋      | 2322/6321 [2:35:45<11:18:52, 10.19s/it]"
     ]
    },
    {
     "name": "stdout",
     "output_type": "stream",
     "text": [
      "Extracted content from https://www.seattleu.edu/directory/profiles/karen-gilles.php and saved to JSON.\n"
     ]
    },
    {
     "name": "stderr",
     "output_type": "stream",
     "text": [
      " 37%|███▋      | 2323/6321 [2:35:55<11:18:23, 10.18s/it]"
     ]
    },
    {
     "name": "stdout",
     "output_type": "stream",
     "text": [
      "Extracted content from https://www.seattleu.edu/directory/profiles/karen-halsey-ma.php and saved to JSON.\n"
     ]
    },
    {
     "name": "stderr",
     "output_type": "stream",
     "text": [
      " 37%|███▋      | 2324/6321 [2:36:05<11:17:56, 10.18s/it]"
     ]
    },
    {
     "name": "stdout",
     "output_type": "stream",
     "text": [
      "Extracted content from https://www.seattleu.edu/directory/profiles/karen-kirsch.php and saved to JSON.\n"
     ]
    },
    {
     "name": "stderr",
     "output_type": "stream",
     "text": [
      " 37%|███▋      | 2325/6321 [2:36:15<11:17:39, 10.18s/it]"
     ]
    },
    {
     "name": "stdout",
     "output_type": "stream",
     "text": [
      "Extracted content from https://www.seattleu.edu/directory/profiles/karen-kong-msn-ccrn.php and saved to JSON.\n"
     ]
    },
    {
     "name": "stderr",
     "output_type": "stream",
     "text": [
      " 37%|███▋      | 2326/6321 [2:36:26<11:19:00, 10.20s/it]"
     ]
    },
    {
     "name": "stdout",
     "output_type": "stream",
     "text": [
      "Extracted content from https://www.seattleu.edu/directory/profiles/karen-yaguchi.php and saved to JSON.\n"
     ]
    },
    {
     "name": "stderr",
     "output_type": "stream",
     "text": [
      " 37%|███▋      | 2327/6321 [2:36:36<11:19:02, 10.20s/it]"
     ]
    },
    {
     "name": "stdout",
     "output_type": "stream",
     "text": [
      "Extracted content from https://www.seattleu.edu/directory/profiles/kari-berkas.php and saved to JSON.\n"
     ]
    },
    {
     "name": "stderr",
     "output_type": "stream",
     "text": [
      " 37%|███▋      | 2328/6321 [2:36:46<11:18:02, 10.19s/it]"
     ]
    },
    {
     "name": "stdout",
     "output_type": "stream",
     "text": [
      "Extracted content from https://www.seattleu.edu/directory/profiles/kari-langsea.php and saved to JSON.\n"
     ]
    },
    {
     "name": "stderr",
     "output_type": "stream",
     "text": [
      " 37%|███▋      | 2329/6321 [2:36:56<11:17:18, 10.18s/it]"
     ]
    },
    {
     "name": "stdout",
     "output_type": "stream",
     "text": [
      "Extracted content from https://www.seattleu.edu/directory/profiles/karin-bornstein-swope.php and saved to JSON.\n"
     ]
    },
    {
     "name": "stderr",
     "output_type": "stream",
     "text": [
      " 37%|███▋      | 2330/6321 [2:37:06<11:16:46, 10.17s/it]"
     ]
    },
    {
     "name": "stdout",
     "output_type": "stream",
     "text": [
      "Extracted content from https://www.seattleu.edu/directory/profiles/karsten-kohout.php and saved to JSON.\n"
     ]
    },
    {
     "name": "stderr",
     "output_type": "stream",
     "text": [
      " 37%|███▋      | 2331/6321 [2:37:17<11:16:29, 10.17s/it]"
     ]
    },
    {
     "name": "stdout",
     "output_type": "stream",
     "text": [
      "Extracted content from https://www.seattleu.edu/directory/profiles/kartika-garg.php and saved to JSON.\n"
     ]
    },
    {
     "name": "stderr",
     "output_type": "stream",
     "text": [
      " 37%|███▋      | 2332/6321 [2:37:27<11:16:17, 10.17s/it]"
     ]
    },
    {
     "name": "stdout",
     "output_type": "stream",
     "text": [
      "Extracted content from https://www.seattleu.edu/directory/profiles/katarzyna-pietrzyk.php and saved to JSON.\n"
     ]
    },
    {
     "name": "stderr",
     "output_type": "stream",
     "text": [
      " 37%|███▋      | 2333/6321 [2:37:37<11:15:59, 10.17s/it]"
     ]
    },
    {
     "name": "stdout",
     "output_type": "stream",
     "text": [
      "Extracted content from https://www.seattleu.edu/directory/profiles/kate-elias-phd.php and saved to JSON.\n"
     ]
    },
    {
     "name": "stderr",
     "output_type": "stream",
     "text": [
      " 37%|███▋      | 2334/6321 [2:37:47<11:15:49, 10.17s/it]"
     ]
    },
    {
     "name": "stdout",
     "output_type": "stream",
     "text": [
      "Extracted content from https://www.seattleu.edu/directory/profiles/kate-emery.php and saved to JSON.\n"
     ]
    },
    {
     "name": "stderr",
     "output_type": "stream",
     "text": [
      " 37%|███▋      | 2335/6321 [2:37:57<11:16:18, 10.18s/it]"
     ]
    },
    {
     "name": "stdout",
     "output_type": "stream",
     "text": [
      "Extracted content from https://www.seattleu.edu/directory/profiles/katherine-mccusker-msn-arnp-ag-acnp.php and saved to JSON.\n"
     ]
    },
    {
     "name": "stderr",
     "output_type": "stream",
     "text": [
      " 37%|███▋      | 2336/6321 [2:38:08<11:19:30, 10.23s/it]"
     ]
    },
    {
     "name": "stdout",
     "output_type": "stream",
     "text": [
      "Extracted content from https://www.seattleu.edu/directory/profiles/katherine-buck.php and saved to JSON.\n"
     ]
    },
    {
     "name": "stderr",
     "output_type": "stream",
     "text": [
      " 37%|███▋      | 2337/6321 [2:38:18<11:17:39, 10.21s/it]"
     ]
    },
    {
     "name": "stdout",
     "output_type": "stream",
     "text": [
      "Extracted content from https://www.seattleu.edu/directory/profiles/katherine-camacho-carr.php and saved to JSON.\n"
     ]
    },
    {
     "name": "stderr",
     "output_type": "stream",
     "text": [
      " 37%|███▋      | 2338/6321 [2:38:28<11:17:02, 10.20s/it]"
     ]
    },
    {
     "name": "stdout",
     "output_type": "stream",
     "text": [
      "Extracted content from https://www.seattleu.edu/directory/profiles/katherine-frato-phd.php and saved to JSON.\n"
     ]
    },
    {
     "name": "stderr",
     "output_type": "stream",
     "text": [
      " 37%|███▋      | 2339/6321 [2:38:38<11:16:09, 10.19s/it]"
     ]
    },
    {
     "name": "stdout",
     "output_type": "stream",
     "text": [
      "Extracted content from https://www.seattleu.edu/directory/profiles/kate-koppelman-phd.php and saved to JSON.\n"
     ]
    },
    {
     "name": "stderr",
     "output_type": "stream",
     "text": [
      " 37%|███▋      | 2340/6321 [2:38:48<11:15:12, 10.18s/it]"
     ]
    },
    {
     "name": "stdout",
     "output_type": "stream",
     "text": [
      "Extracted content from https://www.seattleu.edu/directory/profiles/katie-kuder-phd-pe.php and saved to JSON.\n"
     ]
    },
    {
     "name": "stderr",
     "output_type": "stream",
     "text": [
      " 37%|███▋      | 2341/6321 [2:38:59<11:18:03, 10.22s/it]"
     ]
    },
    {
     "name": "stdout",
     "output_type": "stream",
     "text": [
      "Extracted content from https://www.seattleu.edu/directory/profiles/katherine-raichle-phd.php and saved to JSON.\n"
     ]
    },
    {
     "name": "stderr",
     "output_type": "stream",
     "text": [
      " 37%|███▋      | 2342/6321 [2:39:09<11:18:23, 10.23s/it]"
     ]
    },
    {
     "name": "stdout",
     "output_type": "stream",
     "text": [
      "Extracted content from https://www.seattleu.edu/directory/profiles/katherine-schlick-noe.php and saved to JSON.\n"
     ]
    },
    {
     "name": "stderr",
     "output_type": "stream",
     "text": [
      " 37%|███▋      | 2343/6321 [2:39:19<11:21:27, 10.28s/it]"
     ]
    },
    {
     "name": "stdout",
     "output_type": "stream",
     "text": [
      "Extracted content from https://www.seattleu.edu/directory/profiles/kathleen-e-cook-phd.php and saved to JSON.\n"
     ]
    },
    {
     "name": "stderr",
     "output_type": "stream",
     "text": [
      " 37%|███▋      | 2344/6321 [2:39:29<11:19:31, 10.25s/it]"
     ]
    },
    {
     "name": "stdout",
     "output_type": "stream",
     "text": [
      "Extracted content from https://www.seattleu.edu/directory/profiles/kathleen-driscoll-phd.php and saved to JSON.\n"
     ]
    },
    {
     "name": "stderr",
     "output_type": "stream",
     "text": [
      " 37%|███▋      | 2345/6321 [2:39:40<11:17:54, 10.23s/it]"
     ]
    },
    {
     "name": "stdout",
     "output_type": "stream",
     "text": [
      "Extracted content from https://www.seattleu.edu/directory/profiles/kathleen-m-pape-psyd.php and saved to JSON.\n"
     ]
    },
    {
     "name": "stderr",
     "output_type": "stream",
     "text": [
      " 37%|███▋      | 2346/6321 [2:39:50<11:16:23, 10.21s/it]"
     ]
    },
    {
     "name": "stdout",
     "output_type": "stream",
     "text": [
      "Extracted content from https://www.seattleu.edu/directory/profiles/kathleen-straughan.php and saved to JSON.\n"
     ]
    },
    {
     "name": "stderr",
     "output_type": "stream",
     "text": [
      " 37%|███▋      | 2347/6321 [2:40:00<11:15:18, 10.20s/it]"
     ]
    },
    {
     "name": "stdout",
     "output_type": "stream",
     "text": [
      "Extracted content from https://www.seattleu.edu/directory/profiles/kathleen-sullivan.php and saved to JSON.\n"
     ]
    },
    {
     "name": "stderr",
     "output_type": "stream",
     "text": [
      " 37%|███▋      | 2348/6321 [2:40:10<11:14:54, 10.19s/it]"
     ]
    },
    {
     "name": "stdout",
     "output_type": "stream",
     "text": [
      "Extracted content from https://www.seattleu.edu/directory/profiles/kathryn-bollich-ziegler-phd.php and saved to JSON.\n"
     ]
    },
    {
     "name": "stderr",
     "output_type": "stream",
     "text": [
      " 37%|███▋      | 2349/6321 [2:40:20<11:14:24, 10.19s/it]"
     ]
    },
    {
     "name": "stdout",
     "output_type": "stream",
     "text": [
      "Extracted content from https://www.seattleu.edu/directory/profiles/kathryn-marsh.php and saved to JSON.\n"
     ]
    },
    {
     "name": "stderr",
     "output_type": "stream",
     "text": [
      " 37%|███▋      | 2350/6321 [2:40:30<11:13:43, 10.18s/it]"
     ]
    },
    {
     "name": "stdout",
     "output_type": "stream",
     "text": [
      "Extracted content from https://www.seattleu.edu/directory/profiles/kathryn-troxel-cpa-mst.php and saved to JSON.\n"
     ]
    },
    {
     "name": "stderr",
     "output_type": "stream",
     "text": [
      " 37%|███▋      | 2351/6321 [2:40:41<11:15:24, 10.21s/it]"
     ]
    },
    {
     "name": "stdout",
     "output_type": "stream",
     "text": [
      "Extracted content from https://www.seattleu.edu/directory/profiles/katie-bowler.php and saved to JSON.\n"
     ]
    },
    {
     "name": "stderr",
     "output_type": "stream",
     "text": [
      " 37%|███▋      | 2352/6321 [2:40:51<11:14:42, 10.20s/it]"
     ]
    },
    {
     "name": "stdout",
     "output_type": "stream",
     "text": [
      "Extracted content from https://www.seattleu.edu/directory/profiles/katie-chapman.php and saved to JSON.\n"
     ]
    },
    {
     "name": "stderr",
     "output_type": "stream",
     "text": [
      " 37%|███▋      | 2353/6321 [2:41:01<11:14:33, 10.20s/it]"
     ]
    },
    {
     "name": "stdout",
     "output_type": "stream",
     "text": [
      "Extracted content from https://www.seattleu.edu/directory/profiles/katie-grothe.php and saved to JSON.\n"
     ]
    },
    {
     "name": "stderr",
     "output_type": "stream",
     "text": [
      " 37%|███▋      | 2354/6321 [2:41:11<11:13:23, 10.18s/it]"
     ]
    },
    {
     "name": "stdout",
     "output_type": "stream",
     "text": [
      "Extracted content from https://www.seattleu.edu/directory/profiles/kate-guts-ma.php and saved to JSON.\n"
     ]
    },
    {
     "name": "stderr",
     "output_type": "stream",
     "text": [
      " 37%|███▋      | 2355/6321 [2:41:21<11:12:53, 10.18s/it]"
     ]
    },
    {
     "name": "stdout",
     "output_type": "stream",
     "text": [
      "Extracted content from https://www.seattleu.edu/directory/profiles/katie-hoag-med.php and saved to JSON.\n"
     ]
    },
    {
     "name": "stderr",
     "output_type": "stream",
     "text": [
      " 37%|███▋      | 2356/6321 [2:41:32<11:12:28, 10.18s/it]"
     ]
    },
    {
     "name": "stdout",
     "output_type": "stream",
     "text": [
      "Extracted content from https://www.seattleu.edu/directory/profiles/katie-kent.php and saved to JSON.\n"
     ]
    },
    {
     "name": "stderr",
     "output_type": "stream",
     "text": [
      " 37%|███▋      | 2357/6321 [2:41:42<11:11:53, 10.17s/it]"
     ]
    },
    {
     "name": "stdout",
     "output_type": "stream",
     "text": [
      "Extracted content from https://www.seattleu.edu/directory/profiles/katie-obrien.php and saved to JSON.\n"
     ]
    },
    {
     "name": "stderr",
     "output_type": "stream",
     "text": [
      " 37%|███▋      | 2358/6321 [2:41:52<11:12:08, 10.18s/it]"
     ]
    },
    {
     "name": "stdout",
     "output_type": "stream",
     "text": [
      "Extracted content from https://www.seattleu.edu/directory/profiles/katie-oliveras-phd.php and saved to JSON.\n"
     ]
    },
    {
     "name": "stderr",
     "output_type": "stream",
     "text": [
      " 37%|███▋      | 2359/6321 [2:42:02<11:13:48, 10.20s/it]"
     ]
    },
    {
     "name": "stdout",
     "output_type": "stream",
     "text": [
      "Extracted content from https://www.seattleu.edu/directory/profiles/katie-quinn-phd.php and saved to JSON.\n"
     ]
    },
    {
     "name": "stderr",
     "output_type": "stream",
     "text": [
      " 37%|███▋      | 2360/6321 [2:42:12<11:13:00, 10.19s/it]"
     ]
    },
    {
     "name": "stdout",
     "output_type": "stream",
     "text": [
      "Extracted content from https://www.seattleu.edu/directory/profiles/katie-rodriguez.php and saved to JSON.\n"
     ]
    },
    {
     "name": "stderr",
     "output_type": "stream",
     "text": [
      " 37%|███▋      | 2361/6321 [2:42:23<11:12:55, 10.20s/it]"
     ]
    },
    {
     "name": "stdout",
     "output_type": "stream",
     "text": [
      "Extracted content from https://www.seattleu.edu/directory/profiles/kaustuv-das.php and saved to JSON.\n"
     ]
    },
    {
     "name": "stderr",
     "output_type": "stream",
     "text": [
      " 37%|███▋      | 2362/6321 [2:42:33<11:12:03, 10.19s/it]"
     ]
    },
    {
     "name": "stdout",
     "output_type": "stream",
     "text": [
      "Extracted content from https://www.seattleu.edu/directory/profiles/kay-beisse.php and saved to JSON.\n"
     ]
    },
    {
     "name": "stderr",
     "output_type": "stream",
     "text": [
      " 37%|███▋      | 2363/6321 [2:42:43<11:11:37, 10.18s/it]"
     ]
    },
    {
     "name": "stdout",
     "output_type": "stream",
     "text": [
      "Extracted content from https://www.seattleu.edu/directory/profiles/kayla-ritchie.php and saved to JSON.\n"
     ]
    },
    {
     "name": "stderr",
     "output_type": "stream",
     "text": [
      " 37%|███▋      | 2364/6321 [2:42:53<11:11:46, 10.19s/it]"
     ]
    },
    {
     "name": "stdout",
     "output_type": "stream",
     "text": [
      "Extracted content from https://www.seattleu.edu/directory/profiles/kelli-rodriguez.php and saved to JSON.\n"
     ]
    },
    {
     "name": "stderr",
     "output_type": "stream",
     "text": [
      " 37%|███▋      | 2365/6321 [2:43:03<11:11:10, 10.18s/it]"
     ]
    },
    {
     "name": "stdout",
     "output_type": "stream",
     "text": [
      "Extracted content from https://www.seattleu.edu/directory/profiles/kelly-kunsch.php and saved to JSON.\n"
     ]
    },
    {
     "name": "stderr",
     "output_type": "stream",
     "text": [
      " 37%|███▋      | 2366/6321 [2:43:13<11:10:32, 10.17s/it]"
     ]
    },
    {
     "name": "stdout",
     "output_type": "stream",
     "text": [
      "Extracted content from https://www.seattleu.edu/directory/profiles/kelly-mcbroom-phd-arnp-cnm.php and saved to JSON.\n"
     ]
    },
    {
     "name": "stderr",
     "output_type": "stream",
     "text": [
      " 37%|███▋      | 2367/6321 [2:43:24<11:12:38, 10.21s/it]"
     ]
    },
    {
     "name": "stdout",
     "output_type": "stream",
     "text": [
      "Extracted content from https://www.seattleu.edu/directory/profiles/kendra-turba.php and saved to JSON.\n"
     ]
    },
    {
     "name": "stderr",
     "output_type": "stream",
     "text": [
      " 37%|███▋      | 2368/6321 [2:43:34<11:11:46, 10.20s/it]"
     ]
    },
    {
     "name": "stdout",
     "output_type": "stream",
     "text": [
      "Extracted content from https://www.seattleu.edu/directory/profiles/ken-allan-phd.php and saved to JSON.\n"
     ]
    },
    {
     "name": "stderr",
     "output_type": "stream",
     "text": [
      " 37%|███▋      | 2369/6321 [2:43:44<11:12:32, 10.21s/it]"
     ]
    },
    {
     "name": "stdout",
     "output_type": "stream",
     "text": [
      "Extracted content from https://www.seattleu.edu/directory/profiles/kenneth-maclean.php and saved to JSON.\n"
     ]
    },
    {
     "name": "stderr",
     "output_type": "stream",
     "text": [
      " 37%|███▋      | 2370/6321 [2:43:54<11:11:24, 10.20s/it]"
     ]
    },
    {
     "name": "stdout",
     "output_type": "stream",
     "text": [
      "Extracted content from https://www.seattleu.edu/directory/profiles/kenneth-wing.php and saved to JSON.\n"
     ]
    },
    {
     "name": "stderr",
     "output_type": "stream",
     "text": [
      " 38%|███▊      | 2371/6321 [2:44:04<11:10:45, 10.19s/it]"
     ]
    },
    {
     "name": "stdout",
     "output_type": "stream",
     "text": [
      "Extracted content from https://www.seattleu.edu/directory/profiles/kent-koth.php and saved to JSON.\n"
     ]
    },
    {
     "name": "stderr",
     "output_type": "stream",
     "text": [
      " 38%|███▊      | 2372/6321 [2:44:15<11:10:09, 10.18s/it]"
     ]
    },
    {
     "name": "stdout",
     "output_type": "stream",
     "text": [
      "Extracted content from https://www.seattleu.edu/directory/profiles/kerry-fitz-gerald.php and saved to JSON.\n"
     ]
    },
    {
     "name": "stderr",
     "output_type": "stream",
     "text": [
      " 38%|███▊      | 2373/6321 [2:44:25<11:09:56, 10.18s/it]"
     ]
    },
    {
     "name": "stdout",
     "output_type": "stream",
     "text": [
      "Extracted content from https://www.seattleu.edu/directory/profiles/kerry-soo-von-esch-phd.php and saved to JSON.\n"
     ]
    },
    {
     "name": "stderr",
     "output_type": "stream",
     "text": [
      " 38%|███▊      | 2374/6321 [2:44:35<11:09:40, 10.18s/it]"
     ]
    },
    {
     "name": "stdout",
     "output_type": "stream",
     "text": [
      "Extracted content from https://www.seattleu.edu/directory/profiles/kevin-baker-ma.php and saved to JSON.\n"
     ]
    },
    {
     "name": "stderr",
     "output_type": "stream",
     "text": [
      " 38%|███▊      | 2375/6321 [2:44:45<11:10:08, 10.19s/it]"
     ]
    },
    {
     "name": "stdout",
     "output_type": "stream",
     "text": [
      "Extracted content from https://www.seattleu.edu/directory/profiles/kevin-khong.php and saved to JSON.\n"
     ]
    },
    {
     "name": "stderr",
     "output_type": "stream",
     "text": [
      " 38%|███▊      | 2376/6321 [2:44:55<11:09:36, 10.18s/it]"
     ]
    },
    {
     "name": "stdout",
     "output_type": "stream",
     "text": [
      "Extracted content from https://www.seattleu.edu/directory/profiles/kevin-krycka-psyd.php and saved to JSON.\n"
     ]
    },
    {
     "name": "stderr",
     "output_type": "stream",
     "text": [
      " 38%|███▊      | 2377/6321 [2:45:06<11:10:13, 10.20s/it]"
     ]
    },
    {
     "name": "stdout",
     "output_type": "stream",
     "text": [
      "Extracted content from https://www.seattleu.edu/directory/profiles/kevin-lundeen-ms.php and saved to JSON.\n"
     ]
    },
    {
     "name": "stderr",
     "output_type": "stream",
     "text": [
      " 38%|███▊      | 2378/6321 [2:45:16<11:09:37, 10.19s/it]"
     ]
    },
    {
     "name": "stdout",
     "output_type": "stream",
     "text": [
      "Extracted content from https://www.seattleu.edu/directory/profiles/kevin-maifeld-mfa.php and saved to JSON.\n"
     ]
    },
    {
     "name": "stderr",
     "output_type": "stream",
     "text": [
      " 38%|███▊      | 2379/6321 [2:45:26<11:08:31, 10.18s/it]"
     ]
    },
    {
     "name": "stdout",
     "output_type": "stream",
     "text": [
      "Extracted content from https://www.seattleu.edu/directory/profiles/kevin-sutton.php and saved to JSON.\n"
     ]
    },
    {
     "name": "stderr",
     "output_type": "stream",
     "text": [
      " 38%|███▊      | 2380/6321 [2:45:36<11:08:10, 10.17s/it]"
     ]
    },
    {
     "name": "stdout",
     "output_type": "stream",
     "text": [
      "Extracted content from https://www.seattleu.edu/directory/profiles/kevin-d-ward-phd.php and saved to JSON.\n"
     ]
    },
    {
     "name": "stderr",
     "output_type": "stream",
     "text": [
      " 38%|███▊      | 2381/6321 [2:45:46<11:08:09, 10.17s/it]"
     ]
    },
    {
     "name": "stdout",
     "output_type": "stream",
     "text": [
      "Extracted content from https://www.seattleu.edu/directory/profiles/khanh-nguyn-mnpl-edd.php and saved to JSON.\n"
     ]
    },
    {
     "name": "stderr",
     "output_type": "stream",
     "text": [
      " 38%|███▊      | 2382/6321 [2:45:56<11:08:05, 10.18s/it]"
     ]
    },
    {
     "name": "stdout",
     "output_type": "stream",
     "text": [
      "Extracted content from https://www.seattleu.edu/directory/profiles/ki-gottberg-mfa.php and saved to JSON.\n"
     ]
    },
    {
     "name": "stderr",
     "output_type": "stream",
     "text": [
      " 38%|███▊      | 2383/6321 [2:46:07<11:12:10, 10.24s/it]"
     ]
    },
    {
     "name": "stdout",
     "output_type": "stream",
     "text": [
      "Extracted content from https://www.seattleu.edu/directory/profiles/kiki-major.php and saved to JSON.\n"
     ]
    },
    {
     "name": "stderr",
     "output_type": "stream",
     "text": [
      " 38%|███▊      | 2384/6321 [2:46:17<11:08:33, 10.19s/it]"
     ]
    },
    {
     "name": "stdout",
     "output_type": "stream",
     "text": [
      "Extracted content from https://www.seattleu.edu/directory/profiles/kim-palumbarit.php and saved to JSON.\n"
     ]
    },
    {
     "name": "stderr",
     "output_type": "stream",
     "text": [
      " 38%|███▊      | 2385/6321 [2:46:27<11:10:25, 10.22s/it]"
     ]
    },
    {
     "name": "stdout",
     "output_type": "stream",
     "text": [
      "Extracted content from https://www.seattleu.edu/directory/profiles/kim-thompson.php and saved to JSON.\n"
     ]
    },
    {
     "name": "stderr",
     "output_type": "stream",
     "text": [
      " 38%|███▊      | 2386/6321 [2:46:37<11:09:11, 10.20s/it]"
     ]
    },
    {
     "name": "stdout",
     "output_type": "stream",
     "text": [
      "Extracted content from https://www.seattleu.edu/directory/profiles/kim-dung-pham.php and saved to JSON.\n"
     ]
    },
    {
     "name": "stderr",
     "output_type": "stream",
     "text": [
      " 38%|███▊      | 2387/6321 [2:46:47<11:07:57, 10.19s/it]"
     ]
    },
    {
     "name": "stdout",
     "output_type": "stream",
     "text": [
      "Extracted content from https://www.seattleu.edu/directory/profiles/kimberly-frederick.php and saved to JSON.\n"
     ]
    },
    {
     "name": "stderr",
     "output_type": "stream",
     "text": [
      " 38%|███▊      | 2388/6321 [2:46:58<11:07:34, 10.18s/it]"
     ]
    },
    {
     "name": "stdout",
     "output_type": "stream",
     "text": [
      "Extracted content from https://www.seattleu.edu/directory/profiles/kimberly-riley-dsw-lmft.php and saved to JSON.\n"
     ]
    },
    {
     "name": "stderr",
     "output_type": "stream",
     "text": [
      " 38%|███▊      | 2389/6321 [2:47:09<11:22:44, 10.42s/it]"
     ]
    },
    {
     "name": "stdout",
     "output_type": "stream",
     "text": [
      "Extracted content from https://www.seattleu.edu/directory/profiles/kimberly-white.php and saved to JSON.\n"
     ]
    },
    {
     "name": "stderr",
     "output_type": "stream",
     "text": [
      " 38%|███▊      | 2390/6321 [2:47:19<11:17:22, 10.34s/it]"
     ]
    },
    {
     "name": "stdout",
     "output_type": "stream",
     "text": [
      "Extracted content from https://www.seattleu.edu/directory/profiles/kimberly-zuniga.php and saved to JSON.\n"
     ]
    },
    {
     "name": "stderr",
     "output_type": "stream",
     "text": [
      " 38%|███▊      | 2391/6321 [2:47:29<11:16:16, 10.32s/it]"
     ]
    },
    {
     "name": "stdout",
     "output_type": "stream",
     "text": [
      "Extracted content from https://www.seattleu.edu/directory/profiles/kip-hustace.php and saved to JSON.\n"
     ]
    },
    {
     "name": "stderr",
     "output_type": "stream",
     "text": [
      " 38%|███▊      | 2392/6321 [2:47:39<11:13:32, 10.29s/it]"
     ]
    },
    {
     "name": "stdout",
     "output_type": "stream",
     "text": [
      "Extracted content from https://www.seattleu.edu/directory/profiles/kira-b-mauseth-phd.php and saved to JSON.\n"
     ]
    },
    {
     "name": "stderr",
     "output_type": "stream",
     "text": [
      " 38%|███▊      | 2393/6321 [2:47:50<11:13:07, 10.28s/it]"
     ]
    },
    {
     "name": "stdout",
     "output_type": "stream",
     "text": [
      "Extracted content from https://www.seattleu.edu/directory/profiles/kirk-ancich.php and saved to JSON.\n"
     ]
    },
    {
     "name": "stderr",
     "output_type": "stream",
     "text": [
      " 38%|███▊      | 2394/6321 [2:48:00<11:10:37, 10.25s/it]"
     ]
    },
    {
     "name": "stdout",
     "output_type": "stream",
     "text": [
      "Extracted content from https://www.seattleu.edu/directory/profiles/dr-kirsten-moana-thompson.php and saved to JSON.\n"
     ]
    },
    {
     "name": "stderr",
     "output_type": "stream",
     "text": [
      " 38%|███▊      | 2395/6321 [2:48:10<11:08:53, 10.22s/it]"
     ]
    },
    {
     "name": "stdout",
     "output_type": "stream",
     "text": [
      "Extracted content from https://www.seattleu.edu/directory/profiles/kirsti-ruud.php and saved to JSON.\n"
     ]
    },
    {
     "name": "stderr",
     "output_type": "stream",
     "text": [
      " 38%|███▊      | 2396/6321 [2:48:20<11:07:25, 10.20s/it]"
     ]
    },
    {
     "name": "stdout",
     "output_type": "stream",
     "text": [
      "Extracted content from https://www.seattleu.edu/directory/profiles/kit-morse.php and saved to JSON.\n"
     ]
    },
    {
     "name": "stderr",
     "output_type": "stream",
     "text": [
      " 38%|███▊      | 2397/6321 [2:48:30<11:06:42, 10.19s/it]"
     ]
    },
    {
     "name": "stdout",
     "output_type": "stream",
     "text": [
      "Extracted content from https://www.seattleu.edu/directory/profiles/kivanc-dincer.php and saved to JSON.\n"
     ]
    },
    {
     "name": "stderr",
     "output_type": "stream",
     "text": [
      " 38%|███▊      | 2398/6321 [2:48:40<11:06:16, 10.19s/it]"
     ]
    },
    {
     "name": "stdout",
     "output_type": "stream",
     "text": [
      "Extracted content from https://www.seattleu.edu/directory/profiles/kiyana-higa.php and saved to JSON.\n"
     ]
    },
    {
     "name": "stderr",
     "output_type": "stream",
     "text": [
      " 38%|███▊      | 2399/6321 [2:48:51<11:08:14, 10.22s/it]"
     ]
    },
    {
     "name": "stdout",
     "output_type": "stream",
     "text": [
      "Extracted content from https://www.seattleu.edu/directory/profiles/kiyomi-kishaba.php and saved to JSON.\n"
     ]
    },
    {
     "name": "stderr",
     "output_type": "stream",
     "text": [
      " 38%|███▊      | 2400/6321 [2:49:01<11:07:31, 10.21s/it]"
     ]
    },
    {
     "name": "stdout",
     "output_type": "stream",
     "text": [
      "Extracted content from https://www.seattleu.edu/directory/profiles/kristen-pingel.php and saved to JSON.\n"
     ]
    },
    {
     "name": "stderr",
     "output_type": "stream",
     "text": [
      " 38%|███▊      | 2401/6321 [2:49:11<11:08:43, 10.24s/it]"
     ]
    },
    {
     "name": "stdout",
     "output_type": "stream",
     "text": [
      "Extracted content from https://www.seattleu.edu/directory/profiles/kristen-skogerboe-phd.php and saved to JSON.\n"
     ]
    },
    {
     "name": "stderr",
     "output_type": "stream",
     "text": [
      " 38%|███▊      | 2402/6321 [2:49:21<11:07:38, 10.22s/it]"
     ]
    },
    {
     "name": "stdout",
     "output_type": "stream",
     "text": [
      "Extracted content from https://www.seattleu.edu/directory/profiles/kristen-swanson.php and saved to JSON.\n"
     ]
    },
    {
     "name": "stderr",
     "output_type": "stream",
     "text": [
      " 38%|███▊      | 2403/6321 [2:49:31<11:06:45, 10.21s/it]"
     ]
    },
    {
     "name": "stdout",
     "output_type": "stream",
     "text": [
      "Extracted content from https://www.seattleu.edu/directory/profiles/kristi-farrell-msn-arnp-fnp.php and saved to JSON.\n"
     ]
    },
    {
     "name": "stderr",
     "output_type": "stream",
     "text": [
      " 38%|███▊      | 2404/6321 [2:49:42<11:09:27, 10.25s/it]"
     ]
    },
    {
     "name": "stdout",
     "output_type": "stream",
     "text": [
      "Extracted content from https://www.seattleu.edu/directory/profiles/kristin-cheney.php and saved to JSON.\n"
     ]
    },
    {
     "name": "stderr",
     "output_type": "stream",
     "text": [
      " 38%|███▊      | 2405/6321 [2:49:52<11:07:32, 10.23s/it]"
     ]
    },
    {
     "name": "stdout",
     "output_type": "stream",
     "text": [
      "Extracted content from https://www.seattleu.edu/directory/profiles/kristin-dibiase.php and saved to JSON.\n"
     ]
    },
    {
     "name": "stderr",
     "output_type": "stream",
     "text": [
      " 38%|███▊      | 2406/6321 [2:50:02<11:06:25, 10.21s/it]"
     ]
    },
    {
     "name": "stdout",
     "output_type": "stream",
     "text": [
      "Extracted content from https://www.seattleu.edu/directory/profiles/kristin-doll.php and saved to JSON.\n"
     ]
    },
    {
     "name": "stderr",
     "output_type": "stream",
     "text": [
      " 38%|███▊      | 2407/6321 [2:50:13<11:08:04, 10.24s/it]"
     ]
    },
    {
     "name": "stdout",
     "output_type": "stream",
     "text": [
      "Extracted content from https://www.seattleu.edu/directory/profiles/kristin-guest.php and saved to JSON.\n"
     ]
    },
    {
     "name": "stderr",
     "output_type": "stream",
     "text": [
      " 38%|███▊      | 2408/6321 [2:50:23<11:06:31, 10.22s/it]"
     ]
    },
    {
     "name": "stdout",
     "output_type": "stream",
     "text": [
      "Extracted content from https://www.seattleu.edu/directory/profiles/kristin-hultgren-phd.php and saved to JSON.\n"
     ]
    },
    {
     "name": "stderr",
     "output_type": "stream",
     "text": [
      " 38%|███▊      | 2409/6321 [2:50:33<11:07:13, 10.23s/it]"
     ]
    },
    {
     "name": "stdout",
     "output_type": "stream",
     "text": [
      "Extracted content from https://www.seattleu.edu/directory/profiles/kristin-percy-calaff.php and saved to JSON.\n"
     ]
    },
    {
     "name": "stderr",
     "output_type": "stream",
     "text": [
      " 38%|███▊      | 2410/6321 [2:50:43<11:05:38, 10.21s/it]"
     ]
    },
    {
     "name": "stdout",
     "output_type": "stream",
     "text": [
      "Extracted content from https://www.seattleu.edu/directory/profiles/kristin-urban.php and saved to JSON.\n"
     ]
    },
    {
     "name": "stderr",
     "output_type": "stream",
     "text": [
      " 38%|███▊      | 2411/6321 [2:50:53<11:04:35, 10.20s/it]"
     ]
    },
    {
     "name": "stdout",
     "output_type": "stream",
     "text": [
      "Extracted content from https://www.seattleu.edu/directory/profiles/kristina-bennard.php and saved to JSON.\n"
     ]
    },
    {
     "name": "stderr",
     "output_type": "stream",
     "text": [
      " 38%|███▊      | 2412/6321 [2:51:03<11:03:34, 10.19s/it]"
     ]
    },
    {
     "name": "stdout",
     "output_type": "stream",
     "text": [
      "Extracted content from https://www.seattleu.edu/directory/profiles/kristine-bacon.php and saved to JSON.\n"
     ]
    },
    {
     "name": "stderr",
     "output_type": "stream",
     "text": [
      " 38%|███▊      | 2413/6321 [2:51:14<11:03:01, 10.18s/it]"
     ]
    },
    {
     "name": "stdout",
     "output_type": "stream",
     "text": [
      "Extracted content from https://www.seattleu.edu/directory/profiles/kristine-highlander.php and saved to JSON.\n"
     ]
    },
    {
     "name": "stderr",
     "output_type": "stream",
     "text": [
      " 38%|███▊      | 2414/6321 [2:51:24<11:02:29, 10.17s/it]"
     ]
    },
    {
     "name": "stdout",
     "output_type": "stream",
     "text": [
      "Extracted content from https://www.seattleu.edu/directory/profiles/kristofer-carlson.php and saved to JSON.\n"
     ]
    },
    {
     "name": "stderr",
     "output_type": "stream",
     "text": [
      " 38%|███▊      | 2415/6321 [2:51:34<11:06:12, 10.23s/it]"
     ]
    },
    {
     "name": "stdout",
     "output_type": "stream",
     "text": [
      "Extracted content from https://www.seattleu.edu/directory/profiles/kriston-sanders.php and saved to JSON.\n"
     ]
    },
    {
     "name": "stderr",
     "output_type": "stream",
     "text": [
      " 38%|███▊      | 2416/6321 [2:51:44<11:04:41, 10.21s/it]"
     ]
    },
    {
     "name": "stdout",
     "output_type": "stream",
     "text": [
      "Extracted content from https://www.seattleu.edu/directory/profiles/kumhee-ro-dnp-aprn-faanp-faan.php and saved to JSON.\n"
     ]
    },
    {
     "name": "stderr",
     "output_type": "stream",
     "text": [
      " 38%|███▊      | 2417/6321 [2:51:55<11:05:15, 10.22s/it]"
     ]
    },
    {
     "name": "stdout",
     "output_type": "stream",
     "text": [
      "Extracted content from https://www.seattleu.edu/directory/profiles/kurt-wedgwood-mba.php and saved to JSON.\n"
     ]
    },
    {
     "name": "stderr",
     "output_type": "stream",
     "text": [
      " 38%|███▊      | 2419/6321 [2:52:05<7:55:30,  7.31s/it] "
     ]
    },
    {
     "name": "stdout",
     "output_type": "stream",
     "text": [
      "Error processing https:www.seattleu.edu/directory/profiles/kyle-anderson.php: HTTP Error 404: Not Found\n",
      "Extracted content from https://www.seattleu.edu/directory/profiles/kyle-brown.php and saved to JSON.\n"
     ]
    },
    {
     "name": "stderr",
     "output_type": "stream",
     "text": [
      " 38%|███▊      | 2420/6321 [2:52:16<8:50:37,  8.16s/it]"
     ]
    },
    {
     "name": "stdout",
     "output_type": "stream",
     "text": [
      "Extracted content from https://www.seattleu.edu/directory/profiles/kyle-derosia-ms.php and saved to JSON.\n"
     ]
    },
    {
     "name": "stderr",
     "output_type": "stream",
     "text": [
      " 38%|███▊      | 2421/6321 [2:52:26<9:30:03,  8.77s/it]"
     ]
    },
    {
     "name": "stdout",
     "output_type": "stream",
     "text": [
      "Extracted content from https://www.seattleu.edu/directory/profiles/kyle-mullins.php and saved to JSON.\n"
     ]
    },
    {
     "name": "stderr",
     "output_type": "stream",
     "text": [
      " 38%|███▊      | 2422/6321 [2:52:36<9:56:57,  9.19s/it]"
     ]
    },
    {
     "name": "stdout",
     "output_type": "stream",
     "text": [
      "Extracted content from https://www.seattleu.edu/directory/profiles/kyle-whitmus.php and saved to JSON.\n"
     ]
    },
    {
     "name": "stderr",
     "output_type": "stream",
     "text": [
      " 38%|███▊      | 2423/6321 [2:52:46<10:16:12,  9.48s/it]"
     ]
    },
    {
     "name": "stdout",
     "output_type": "stream",
     "text": [
      "Extracted content from https://www.seattleu.edu/directory/profiles/kyra-williams-mfa.php and saved to JSON.\n"
     ]
    },
    {
     "name": "stderr",
     "output_type": "stream",
     "text": [
      " 38%|███▊      | 2424/6321 [2:52:56<10:31:24,  9.72s/it]"
     ]
    },
    {
     "name": "stdout",
     "output_type": "stream",
     "text": [
      "Extracted content from https://www.seattleu.edu/directory/profiles/laawna-murchison-mn-e-rnc-nic.php and saved to JSON.\n"
     ]
    },
    {
     "name": "stderr",
     "output_type": "stream",
     "text": [
      " 38%|███▊      | 2425/6321 [2:53:07<10:39:50,  9.85s/it]"
     ]
    },
    {
     "name": "stdout",
     "output_type": "stream",
     "text": [
      "Extracted content from https://www.seattleu.edu/directory/profiles/ladonna-smith-ma-lmft.php and saved to JSON.\n"
     ]
    },
    {
     "name": "stderr",
     "output_type": "stream",
     "text": [
      " 38%|███▊      | 2426/6321 [2:53:17<10:47:34,  9.98s/it]"
     ]
    },
    {
     "name": "stdout",
     "output_type": "stream",
     "text": [
      "Extracted content from https://www.seattleu.edu/directory/profiles/lakesha-kimbrough.php and saved to JSON.\n"
     ]
    },
    {
     "name": "stderr",
     "output_type": "stream",
     "text": [
      " 38%|███▊      | 2427/6321 [2:53:27<10:53:43, 10.07s/it]"
     ]
    },
    {
     "name": "stdout",
     "output_type": "stream",
     "text": [
      "Extracted content from https://www.seattleu.edu/directory/profiles/lalita-singh.php and saved to JSON.\n"
     ]
    },
    {
     "name": "stderr",
     "output_type": "stream",
     "text": [
      " 38%|███▊      | 2428/6321 [2:53:37<10:55:56, 10.11s/it]"
     ]
    },
    {
     "name": "stdout",
     "output_type": "stream",
     "text": [
      "Extracted content from https://www.seattleu.edu/directory/profiles/lara-branigan.php and saved to JSON.\n"
     ]
    },
    {
     "name": "stderr",
     "output_type": "stream",
     "text": [
      " 38%|███▊      | 2429/6321 [2:53:48<10:58:21, 10.15s/it]"
     ]
    },
    {
     "name": "stdout",
     "output_type": "stream",
     "text": [
      "Extracted content from https://www.seattleu.edu/directory/profiles/larry-hubbell-phd.php and saved to JSON.\n"
     ]
    },
    {
     "name": "stderr",
     "output_type": "stream",
     "text": [
      " 38%|███▊      | 2430/6321 [2:53:58<10:58:38, 10.16s/it]"
     ]
    },
    {
     "name": "stdout",
     "output_type": "stream",
     "text": [
      "Extracted content from https://www.seattleu.edu/directory/profiles/latasha-harrison.php and saved to JSON.\n"
     ]
    },
    {
     "name": "stderr",
     "output_type": "stream",
     "text": [
      " 38%|███▊      | 2431/6321 [2:54:08<10:58:49, 10.16s/it]"
     ]
    },
    {
     "name": "stdout",
     "output_type": "stream",
     "text": [
      "Extracted content from https://www.seattleu.edu/directory/profiles/latoya-flowers-roe-edd.php and saved to JSON.\n"
     ]
    },
    {
     "name": "stderr",
     "output_type": "stream",
     "text": [
      " 38%|███▊      | 2432/6321 [2:54:18<11:03:15, 10.23s/it]"
     ]
    },
    {
     "name": "stdout",
     "output_type": "stream",
     "text": [
      "Extracted content from https://www.seattleu.edu/directory/profiles/laura-austin-phd.php and saved to JSON.\n"
     ]
    },
    {
     "name": "stderr",
     "output_type": "stream",
     "text": [
      " 38%|███▊      | 2433/6321 [2:54:29<11:03:58, 10.25s/it]"
     ]
    },
    {
     "name": "stdout",
     "output_type": "stream",
     "text": [
      "Extracted content from https://www.seattleu.edu/directory/profiles/laura-hamilton.php and saved to JSON.\n"
     ]
    },
    {
     "name": "stderr",
     "output_type": "stream",
     "text": [
      " 39%|███▊      | 2434/6321 [2:54:39<11:04:33, 10.26s/it]"
     ]
    },
    {
     "name": "stdout",
     "output_type": "stream",
     "text": [
      "Extracted content from https://www.seattleu.edu/directory/profiles/laura-hauck-vixie.php and saved to JSON.\n"
     ]
    },
    {
     "name": "stderr",
     "output_type": "stream",
     "text": [
      " 39%|███▊      | 2435/6321 [2:54:49<11:04:55, 10.27s/it]"
     ]
    },
    {
     "name": "stdout",
     "output_type": "stream",
     "text": [
      "Extracted content from https://www.seattleu.edu/directory/profiles/laura-knote.php and saved to JSON.\n"
     ]
    },
    {
     "name": "stderr",
     "output_type": "stream",
     "text": [
      " 39%|███▊      | 2436/6321 [2:54:59<11:03:35, 10.25s/it]"
     ]
    },
    {
     "name": "stdout",
     "output_type": "stream",
     "text": [
      "Extracted content from https://www.seattleu.edu/directory/profiles/laura-reeve.php and saved to JSON.\n"
     ]
    },
    {
     "name": "stderr",
     "output_type": "stream",
     "text": [
      " 39%|███▊      | 2437/6321 [2:55:09<11:01:30, 10.22s/it]"
     ]
    },
    {
     "name": "stdout",
     "output_type": "stream",
     "text": [
      "Extracted content from https://www.seattleu.edu/directory/profiles/laura-zanzig-wong.php and saved to JSON.\n"
     ]
    },
    {
     "name": "stderr",
     "output_type": "stream",
     "text": [
      " 39%|███▊      | 2438/6321 [2:55:20<11:00:37, 10.21s/it]"
     ]
    },
    {
     "name": "stdout",
     "output_type": "stream",
     "text": [
      "Extracted content from https://www.seattleu.edu/directory/profiles/laurel-oates.php and saved to JSON.\n"
     ]
    },
    {
     "name": "stderr",
     "output_type": "stream",
     "text": [
      " 39%|███▊      | 2439/6321 [2:55:30<10:59:23, 10.19s/it]"
     ]
    },
    {
     "name": "stdout",
     "output_type": "stream",
     "text": [
      "Extracted content from https://www.seattleu.edu/directory/profiles/laurie-stevahn-phd.php and saved to JSON.\n"
     ]
    },
    {
     "name": "stderr",
     "output_type": "stream",
     "text": [
      " 39%|███▊      | 2440/6321 [2:55:40<11:01:23, 10.23s/it]"
     ]
    },
    {
     "name": "stdout",
     "output_type": "stream",
     "text": [
      "Extracted content from https://www.seattleu.edu/directory/profiles/lauren-bibin-dnp-chse-cne-cnm.php and saved to JSON.\n"
     ]
    },
    {
     "name": "stderr",
     "output_type": "stream",
     "text": [
      " 39%|███▊      | 2441/6321 [2:55:50<11:00:17, 10.21s/it]"
     ]
    },
    {
     "name": "stdout",
     "output_type": "stream",
     "text": [
      "Extracted content from https://www.seattleu.edu/directory/profiles/lauren-stpierre.php and saved to JSON.\n"
     ]
    },
    {
     "name": "stderr",
     "output_type": "stream",
     "text": [
      " 39%|███▊      | 2442/6321 [2:56:01<11:01:34, 10.23s/it]"
     ]
    },
    {
     "name": "stdout",
     "output_type": "stream",
     "text": [
      "Extracted content from https://www.seattleu.edu/directory/profiles/lauren-tustison.php and saved to JSON.\n"
     ]
    },
    {
     "name": "stderr",
     "output_type": "stream",
     "text": [
      " 39%|███▊      | 2443/6321 [2:56:11<11:00:10, 10.21s/it]"
     ]
    },
    {
     "name": "stdout",
     "output_type": "stream",
     "text": [
      "Extracted content from https://www.seattleu.edu/directory/profiles/lauri-hennessey-mmc.php and saved to JSON.\n"
     ]
    },
    {
     "name": "stderr",
     "output_type": "stream",
     "text": [
      " 39%|███▊      | 2444/6321 [2:56:21<10:59:07, 10.20s/it]"
     ]
    },
    {
     "name": "stdout",
     "output_type": "stream",
     "text": [
      "Extracted content from https://www.seattleu.edu/directory/profiles/laurie-prince.php and saved to JSON.\n"
     ]
    },
    {
     "name": "stderr",
     "output_type": "stream",
     "text": [
      " 39%|███▊      | 2445/6321 [2:56:31<10:58:15, 10.19s/it]"
     ]
    },
    {
     "name": "stdout",
     "output_type": "stream",
     "text": [
      "Extracted content from https://www.seattleu.edu/directory/profiles/lawrence-morales.php and saved to JSON.\n"
     ]
    },
    {
     "name": "stderr",
     "output_type": "stream",
     "text": [
      " 39%|███▊      | 2446/6321 [2:56:41<10:57:27, 10.18s/it]"
     ]
    },
    {
     "name": "stdout",
     "output_type": "stream",
     "text": [
      "Extracted content from https://www.seattleu.edu/directory/profiles/lawrence-zeng.php and saved to JSON.\n"
     ]
    },
    {
     "name": "stderr",
     "output_type": "stream",
     "text": [
      " 39%|███▊      | 2447/6321 [2:56:51<10:57:07, 10.18s/it]"
     ]
    },
    {
     "name": "stdout",
     "output_type": "stream",
     "text": [
      "Extracted content from https://www.seattleu.edu/directory/profiles/le-xuan-hy-phd.php and saved to JSON.\n"
     ]
    },
    {
     "name": "stderr",
     "output_type": "stream",
     "text": [
      " 39%|███▊      | 2448/6321 [2:57:02<11:00:01, 10.22s/it]"
     ]
    },
    {
     "name": "stdout",
     "output_type": "stream",
     "text": [
      "Extracted content from https://www.seattleu.edu/directory/profiles/leah-post-msw-mph-licsw.php and saved to JSON.\n"
     ]
    },
    {
     "name": "stderr",
     "output_type": "stream",
     "text": [
      " 39%|███▊      | 2449/6321 [2:57:12<10:59:18, 10.22s/it]"
     ]
    },
    {
     "name": "stdout",
     "output_type": "stream",
     "text": [
      "Extracted content from https://www.seattleu.edu/directory/profiles/leann-conley-holcom.php and saved to JSON.\n"
     ]
    },
    {
     "name": "stderr",
     "output_type": "stream",
     "text": [
      " 39%|███▉      | 2450/6321 [2:57:22<11:00:07, 10.23s/it]"
     ]
    },
    {
     "name": "stdout",
     "output_type": "stream",
     "text": [
      "Extracted content from https://www.seattleu.edu/directory/profiles/leanna-holmer.php and saved to JSON.\n"
     ]
    },
    {
     "name": "stderr",
     "output_type": "stream",
     "text": [
      " 39%|███▉      | 2451/6321 [2:57:33<11:01:40, 10.26s/it]"
     ]
    },
    {
     "name": "stdout",
     "output_type": "stream",
     "text": [
      "Extracted content from https://www.seattleu.edu/directory/profiles/leanne-robertson-phd.php and saved to JSON.\n"
     ]
    },
    {
     "name": "stderr",
     "output_type": "stream",
     "text": [
      " 39%|███▉      | 2452/6321 [2:57:43<10:59:52, 10.23s/it]"
     ]
    },
    {
     "name": "stdout",
     "output_type": "stream",
     "text": [
      "Extracted content from https://www.seattleu.edu/directory/profiles/leesa-salcedo.php and saved to JSON.\n"
     ]
    },
    {
     "name": "stderr",
     "output_type": "stream",
     "text": [
      " 39%|███▉      | 2453/6321 [2:57:53<10:58:32, 10.22s/it]"
     ]
    },
    {
     "name": "stdout",
     "output_type": "stream",
     "text": [
      "Extracted content from https://www.seattleu.edu/directory/profiles/leighanne-thompson.php and saved to JSON.\n"
     ]
    },
    {
     "name": "stderr",
     "output_type": "stream",
     "text": [
      " 39%|███▉      | 2454/6321 [2:58:03<10:57:02, 10.19s/it]"
     ]
    },
    {
     "name": "stdout",
     "output_type": "stream",
     "text": [
      "Extracted content from https://www.seattleu.edu/directory/profiles/leio-heyenrath.php and saved to JSON.\n"
     ]
    },
    {
     "name": "stderr",
     "output_type": "stream",
     "text": [
      " 39%|███▉      | 2455/6321 [2:58:13<10:56:21, 10.19s/it]"
     ]
    },
    {
     "name": "stdout",
     "output_type": "stream",
     "text": [
      "Extracted content from https://www.seattleu.edu/directory/profiles/lenard-ragland.php and saved to JSON.\n"
     ]
    },
    {
     "name": "stderr",
     "output_type": "stream",
     "text": [
      " 39%|███▉      | 2456/6321 [2:58:24<11:07:43, 10.37s/it]"
     ]
    },
    {
     "name": "stdout",
     "output_type": "stream",
     "text": [
      "Extracted content from https://www.seattleu.edu/directory/profiles/leonard-feldman.php and saved to JSON.\n"
     ]
    },
    {
     "name": "stderr",
     "output_type": "stream",
     "text": [
      " 39%|███▉      | 2457/6321 [2:58:34<11:03:55, 10.31s/it]"
     ]
    },
    {
     "name": "stdout",
     "output_type": "stream",
     "text": [
      "Extracted content from https://www.seattleu.edu/directory/profiles/leonora-santos.php and saved to JSON.\n"
     ]
    },
    {
     "name": "stderr",
     "output_type": "stream",
     "text": [
      " 39%|███▉      | 2458/6321 [2:58:44<11:01:20, 10.27s/it]"
     ]
    },
    {
     "name": "stdout",
     "output_type": "stream",
     "text": [
      "Extracted content from https://www.seattleu.edu/directory/profiles/lesley-huffman.php and saved to JSON.\n"
     ]
    },
    {
     "name": "stderr",
     "output_type": "stream",
     "text": [
      " 39%|███▉      | 2459/6321 [2:58:55<11:00:58, 10.27s/it]"
     ]
    },
    {
     "name": "stdout",
     "output_type": "stream",
     "text": [
      "Extracted content from https://www.seattleu.edu/directory/profiles/lien-sieu.php and saved to JSON.\n"
     ]
    },
    {
     "name": "stderr",
     "output_type": "stream",
     "text": [
      " 39%|███▉      | 2460/6321 [2:59:05<10:58:31, 10.23s/it]"
     ]
    },
    {
     "name": "stdout",
     "output_type": "stream",
     "text": [
      "Extracted content from https://www.seattleu.edu/directory/profiles/liesl-bohan-mba.php and saved to JSON.\n"
     ]
    },
    {
     "name": "stderr",
     "output_type": "stream",
     "text": [
      " 39%|███▉      | 2461/6321 [2:59:15<10:57:06, 10.21s/it]"
     ]
    },
    {
     "name": "stdout",
     "output_type": "stream",
     "text": [
      "Extracted content from https://www.seattleu.edu/directory/profiles/lily-kahng.php and saved to JSON.\n"
     ]
    },
    {
     "name": "stderr",
     "output_type": "stream",
     "text": [
      " 39%|███▉      | 2462/6321 [2:59:25<10:56:05, 10.20s/it]"
     ]
    },
    {
     "name": "stdout",
     "output_type": "stream",
     "text": [
      "Extracted content from https://www.seattleu.edu/directory/profiles/lily-su.php and saved to JSON.\n"
     ]
    },
    {
     "name": "stderr",
     "output_type": "stream",
     "text": [
      " 39%|███▉      | 2463/6321 [2:59:35<10:55:07, 10.19s/it]"
     ]
    },
    {
     "name": "stdout",
     "output_type": "stream",
     "text": [
      "Extracted content from https://www.seattleu.edu/directory/profiles/lin-li-phd.php and saved to JSON.\n"
     ]
    },
    {
     "name": "stderr",
     "output_type": "stream",
     "text": [
      " 39%|███▉      | 2464/6321 [2:59:45<10:55:01, 10.19s/it]"
     ]
    },
    {
     "name": "stdout",
     "output_type": "stream",
     "text": [
      "Extracted content from https://www.seattleu.edu/directory/profiles/lincoln-vander-veen.php and saved to JSON.\n"
     ]
    },
    {
     "name": "stderr",
     "output_type": "stream",
     "text": [
      " 39%|███▉      | 2465/6321 [2:59:56<10:54:31, 10.18s/it]"
     ]
    },
    {
     "name": "stdout",
     "output_type": "stream",
     "text": [
      "Extracted content from https://www.seattleu.edu/directory/profiles/linda-eguchi.php and saved to JSON.\n"
     ]
    },
    {
     "name": "stderr",
     "output_type": "stream",
     "text": [
      " 39%|███▉      | 2466/6321 [3:00:06<10:53:54, 10.18s/it]"
     ]
    },
    {
     "name": "stdout",
     "output_type": "stream",
     "text": [
      "Extracted content from https://www.seattleu.edu/directory/profiles/linda-hiemer.php and saved to JSON.\n"
     ]
    },
    {
     "name": "stderr",
     "output_type": "stream",
     "text": [
      " 39%|███▉      | 2467/6321 [3:00:16<10:55:14, 10.20s/it]"
     ]
    },
    {
     "name": "stdout",
     "output_type": "stream",
     "text": [
      "Extracted content from https://www.seattleu.edu/directory/profiles/linda-kelly.php and saved to JSON.\n"
     ]
    },
    {
     "name": "stderr",
     "output_type": "stream",
     "text": [
      " 39%|███▉      | 2468/6321 [3:00:26<10:54:35, 10.19s/it]"
     ]
    },
    {
     "name": "stdout",
     "output_type": "stream",
     "text": [
      "Extracted content from https://www.seattleu.edu/directory/profiles/linda-mathison.php and saved to JSON.\n"
     ]
    },
    {
     "name": "stderr",
     "output_type": "stream",
     "text": [
      " 39%|███▉      | 2469/6321 [3:00:36<10:53:39, 10.18s/it]"
     ]
    },
    {
     "name": "stdout",
     "output_type": "stream",
     "text": [
      "Extracted content from https://www.seattleu.edu/directory/profiles/linda-nguyen.php and saved to JSON.\n"
     ]
    },
    {
     "name": "stderr",
     "output_type": "stream",
     "text": [
      " 39%|███▉      | 2470/6321 [3:00:47<10:52:59, 10.17s/it]"
     ]
    },
    {
     "name": "stdout",
     "output_type": "stream",
     "text": [
      "Extracted content from https://www.seattleu.edu/directory/profiles/w-lindsay-whitlow-phd.php and saved to JSON.\n"
     ]
    },
    {
     "name": "stderr",
     "output_type": "stream",
     "text": [
      " 39%|███▉      | 2471/6321 [3:00:57<10:52:57, 10.18s/it]"
     ]
    },
    {
     "name": "stdout",
     "output_type": "stream",
     "text": [
      "Extracted content from https://www.seattleu.edu/directory/profiles/lindsay-wilson.php and saved to JSON.\n"
     ]
    },
    {
     "name": "stderr",
     "output_type": "stream",
     "text": [
      " 39%|███▉      | 2472/6321 [3:01:07<10:52:28, 10.17s/it]"
     ]
    },
    {
     "name": "stdout",
     "output_type": "stream",
     "text": [
      "Extracted content from https://www.seattleu.edu/directory/profiles/lisa-abel-dnp-msn-arnp-whnp-bc.php and saved to JSON.\n"
     ]
    },
    {
     "name": "stderr",
     "output_type": "stream",
     "text": [
      " 39%|███▉      | 2473/6321 [3:01:17<10:52:04, 10.17s/it]"
     ]
    },
    {
     "name": "stdout",
     "output_type": "stream",
     "text": [
      "Extracted content from https://www.seattleu.edu/directory/profiles/lisa-blechschmidt-ma-bsn-rn.php and saved to JSON.\n"
     ]
    },
    {
     "name": "stderr",
     "output_type": "stream",
     "text": [
      " 39%|███▉      | 2474/6321 [3:01:27<10:51:55, 10.17s/it]"
     ]
    },
    {
     "name": "stdout",
     "output_type": "stream",
     "text": [
      "Extracted content from https://www.seattleu.edu/directory/profiles/lisa-brodoff.php and saved to JSON.\n"
     ]
    },
    {
     "name": "stderr",
     "output_type": "stream",
     "text": [
      " 39%|███▉      | 2475/6321 [3:01:38<10:57:18, 10.25s/it]"
     ]
    },
    {
     "name": "stdout",
     "output_type": "stream",
     "text": [
      "Extracted content from https://www.seattleu.edu/directory/profiles/lisa-croft.php and saved to JSON.\n"
     ]
    },
    {
     "name": "stderr",
     "output_type": "stream",
     "text": [
      " 39%|███▉      | 2476/6321 [3:01:48<10:55:16, 10.23s/it]"
     ]
    },
    {
     "name": "stdout",
     "output_type": "stream",
     "text": [
      "Extracted content from https://www.seattleu.edu/directory/profiles/lisa-duggan.php and saved to JSON.\n"
     ]
    },
    {
     "name": "stderr",
     "output_type": "stream",
     "text": [
      " 39%|███▉      | 2477/6321 [3:01:58<10:54:24, 10.21s/it]"
     ]
    },
    {
     "name": "stdout",
     "output_type": "stream",
     "text": [
      "Extracted content from https://www.seattleu.edu/directory/profiles/lisa-ferrin.php and saved to JSON.\n"
     ]
    },
    {
     "name": "stderr",
     "output_type": "stream",
     "text": [
      " 39%|███▉      | 2478/6321 [3:02:08<10:53:08, 10.20s/it]"
     ]
    },
    {
     "name": "stdout",
     "output_type": "stream",
     "text": [
      "Extracted content from https://www.seattleu.edu/directory/profiles/lisa-hake.php and saved to JSON.\n"
     ]
    },
    {
     "name": "stderr",
     "output_type": "stream",
     "text": [
      " 39%|███▉      | 2479/6321 [3:02:18<10:51:56, 10.18s/it]"
     ]
    },
    {
     "name": "stdout",
     "output_type": "stream",
     "text": [
      "Extracted content from https://www.seattleu.edu/directory/profiles/lisa-milkowski-phd.php and saved to JSON.\n"
     ]
    },
    {
     "name": "stderr",
     "output_type": "stream",
     "text": [
      " 39%|███▉      | 2480/6321 [3:02:28<10:51:36, 10.18s/it]"
     ]
    },
    {
     "name": "stdout",
     "output_type": "stream",
     "text": [
      "Extracted content from https://www.seattleu.edu/directory/profiles/lisabeth-bull.php and saved to JSON.\n"
     ]
    },
    {
     "name": "stderr",
     "output_type": "stream",
     "text": [
      " 39%|███▉      | 2481/6321 [3:02:39<10:53:32, 10.21s/it]"
     ]
    },
    {
     "name": "stdout",
     "output_type": "stream",
     "text": [
      "Extracted content from https://www.seattleu.edu/directory/profiles/liz-guinn.php and saved to JSON.\n"
     ]
    },
    {
     "name": "stderr",
     "output_type": "stream",
     "text": [
      " 39%|███▉      | 2482/6321 [3:02:49<10:52:38, 10.20s/it]"
     ]
    },
    {
     "name": "stdout",
     "output_type": "stream",
     "text": [
      "Extracted content from https://www.seattleu.edu/directory/profiles/liz-wick.php and saved to JSON.\n"
     ]
    },
    {
     "name": "stderr",
     "output_type": "stream",
     "text": [
      " 39%|███▉      | 2483/6321 [3:02:59<10:55:05, 10.24s/it]"
     ]
    },
    {
     "name": "stdout",
     "output_type": "stream",
     "text": [
      "Extracted content from https://www.seattleu.edu/directory/profiles/loren-atherley.php and saved to JSON.\n"
     ]
    },
    {
     "name": "stderr",
     "output_type": "stream",
     "text": [
      " 39%|███▉      | 2484/6321 [3:03:09<10:53:41, 10.22s/it]"
     ]
    },
    {
     "name": "stdout",
     "output_type": "stream",
     "text": [
      "Extracted content from https://www.seattleu.edu/directory/profiles/loren-wells.php and saved to JSON.\n"
     ]
    },
    {
     "name": "stderr",
     "output_type": "stream",
     "text": [
      " 39%|███▉      | 2485/6321 [3:03:20<10:52:16, 10.20s/it]"
     ]
    },
    {
     "name": "stdout",
     "output_type": "stream",
     "text": [
      "Extracted content from https://www.seattleu.edu/directory/profiles/loretta-jancoski.php and saved to JSON.\n"
     ]
    },
    {
     "name": "stderr",
     "output_type": "stream",
     "text": [
      " 39%|███▉      | 2486/6321 [3:03:30<10:51:31, 10.19s/it]"
     ]
    },
    {
     "name": "stdout",
     "output_type": "stream",
     "text": [
      "Extracted content from https://www.seattleu.edu/directory/profiles/lori-lamb.php and saved to JSON.\n"
     ]
    },
    {
     "name": "stderr",
     "output_type": "stream",
     "text": [
      " 39%|███▉      | 2487/6321 [3:03:40<10:50:40, 10.18s/it]"
     ]
    },
    {
     "name": "stdout",
     "output_type": "stream",
     "text": [
      "Extracted content from https://www.seattleu.edu/directory/profiles/lorraine-bannai.php and saved to JSON.\n"
     ]
    },
    {
     "name": "stderr",
     "output_type": "stream",
     "text": [
      " 39%|███▉      | 2488/6321 [3:03:50<10:51:54, 10.20s/it]"
     ]
    },
    {
     "name": "stdout",
     "output_type": "stream",
     "text": [
      "Extracted content from https://www.seattleu.edu/directory/profiles/lorraine-joseph-phd.php and saved to JSON.\n"
     ]
    },
    {
     "name": "stderr",
     "output_type": "stream",
     "text": [
      " 39%|███▉      | 2489/6321 [3:04:00<10:51:22, 10.20s/it]"
     ]
    },
    {
     "name": "stdout",
     "output_type": "stream",
     "text": [
      "Extracted content from https://www.seattleu.edu/directory/profiles/louanne-decker.php and saved to JSON.\n"
     ]
    },
    {
     "name": "stderr",
     "output_type": "stream",
     "text": [
      " 39%|███▉      | 2490/6321 [3:04:11<10:50:13, 10.18s/it]"
     ]
    },
    {
     "name": "stdout",
     "output_type": "stream",
     "text": [
      "Extracted content from https://www.seattleu.edu/directory/profiles/lucas-southworth.php and saved to JSON.\n"
     ]
    },
    {
     "name": "stderr",
     "output_type": "stream",
     "text": [
      " 39%|███▉      | 2491/6321 [3:04:21<10:52:21, 10.22s/it]"
     ]
    },
    {
     "name": "stdout",
     "output_type": "stream",
     "text": [
      "Extracted content from https://www.seattleu.edu/directory/profiles/luke-lavin.php and saved to JSON.\n"
     ]
    },
    {
     "name": "stderr",
     "output_type": "stream",
     "text": [
      " 39%|███▉      | 2492/6321 [3:04:31<11:00:42, 10.35s/it]"
     ]
    },
    {
     "name": "stdout",
     "output_type": "stream",
     "text": [
      "Extracted content from https://www.seattleu.edu/directory/profiles/luke-maher.php and saved to JSON.\n"
     ]
    },
    {
     "name": "stderr",
     "output_type": "stream",
     "text": [
      " 39%|███▉      | 2493/6321 [3:04:42<10:56:58, 10.30s/it]"
     ]
    },
    {
     "name": "stdout",
     "output_type": "stream",
     "text": [
      "Extracted content from https://www.seattleu.edu/directory/profiles/luke-ware.php and saved to JSON.\n"
     ]
    },
    {
     "name": "stderr",
     "output_type": "stream",
     "text": [
      " 39%|███▉      | 2494/6321 [3:04:52<10:54:59, 10.27s/it]"
     ]
    },
    {
     "name": "stdout",
     "output_type": "stream",
     "text": [
      "Extracted content from https://www.seattleu.edu/directory/profiles/luke-wiltshire.php and saved to JSON.\n"
     ]
    },
    {
     "name": "stderr",
     "output_type": "stream",
     "text": [
      " 39%|███▉      | 2495/6321 [3:05:02<10:52:37, 10.23s/it]"
     ]
    },
    {
     "name": "stdout",
     "output_type": "stream",
     "text": [
      "Extracted content from https://www.seattleu.edu/directory/profiles/lupita-torrez.php and saved to JSON.\n"
     ]
    },
    {
     "name": "stderr",
     "output_type": "stream",
     "text": [
      " 39%|███▉      | 2496/6321 [3:05:12<10:51:05, 10.21s/it]"
     ]
    },
    {
     "name": "stdout",
     "output_type": "stream",
     "text": [
      "Extracted content from https://www.seattleu.edu/directory/profiles/luth-tenorio.php and saved to JSON.\n"
     ]
    },
    {
     "name": "stderr",
     "output_type": "stream",
     "text": [
      " 40%|███▉      | 2497/6321 [3:05:22<10:49:58, 10.20s/it]"
     ]
    },
    {
     "name": "stdout",
     "output_type": "stream",
     "text": [
      "Extracted content from https://www.seattleu.edu/directory/profiles/lydia-bello.php and saved to JSON.\n"
     ]
    },
    {
     "name": "stderr",
     "output_type": "stream",
     "text": [
      " 40%|███▉      | 2498/6321 [3:05:32<10:49:11, 10.19s/it]"
     ]
    },
    {
     "name": "stdout",
     "output_type": "stream",
     "text": [
      "Extracted content from https://www.seattleu.edu/directory/profiles/lydia-r-cooper-phd.php and saved to JSON.\n"
     ]
    },
    {
     "name": "stderr",
     "output_type": "stream",
     "text": [
      " 40%|███▉      | 2499/6321 [3:05:43<10:50:06, 10.21s/it]"
     ]
    },
    {
     "name": "stdout",
     "output_type": "stream",
     "text": [
      "Extracted content from https://www.seattleu.edu/directory/profiles/lyn-gualtieri-phd.php and saved to JSON.\n"
     ]
    },
    {
     "name": "stderr",
     "output_type": "stream",
     "text": [
      " 40%|███▉      | 2500/6321 [3:05:53<10:49:28, 10.20s/it]"
     ]
    },
    {
     "name": "stdout",
     "output_type": "stream",
     "text": [
      "Extracted content from https://www.seattleu.edu/directory/profiles/lynette-splinter.php and saved to JSON.\n"
     ]
    },
    {
     "name": "stderr",
     "output_type": "stream",
     "text": [
      " 40%|███▉      | 2501/6321 [3:06:03<10:48:54, 10.19s/it]"
     ]
    },
    {
     "name": "stdout",
     "output_type": "stream",
     "text": [
      "Extracted content from https://www.seattleu.edu/directory/profiles/lynn-schultz.php and saved to JSON.\n"
     ]
    },
    {
     "name": "stderr",
     "output_type": "stream",
     "text": [
      " 40%|███▉      | 2502/6321 [3:06:13<10:51:33, 10.24s/it]"
     ]
    },
    {
     "name": "stdout",
     "output_type": "stream",
     "text": [
      "Extracted content from https://www.seattleu.edu/directory/profiles/lynne-gould.php and saved to JSON.\n"
     ]
    },
    {
     "name": "stderr",
     "output_type": "stream",
     "text": [
      " 40%|███▉      | 2503/6321 [3:06:24<10:50:04, 10.22s/it]"
     ]
    },
    {
     "name": "stdout",
     "output_type": "stream",
     "text": [
      "Extracted content from https://www.seattleu.edu/directory/profiles/m-catherine-smith.php and saved to JSON.\n"
     ]
    },
    {
     "name": "stderr",
     "output_type": "stream",
     "text": [
      " 40%|███▉      | 2504/6321 [3:06:34<10:48:59, 10.20s/it]"
     ]
    },
    {
     "name": "stdout",
     "output_type": "stream",
     "text": [
      "Extracted content from https://www.seattleu.edu/directory/profiles/mackenzie-gass.php and saved to JSON.\n"
     ]
    },
    {
     "name": "stderr",
     "output_type": "stream",
     "text": [
      " 40%|███▉      | 2505/6321 [3:06:44<10:48:06, 10.19s/it]"
     ]
    },
    {
     "name": "stdout",
     "output_type": "stream",
     "text": [
      "Extracted content from https://www.seattleu.edu/directory/profiles/macklin-hamilton.php and saved to JSON.\n"
     ]
    },
    {
     "name": "stderr",
     "output_type": "stream",
     "text": [
      " 40%|███▉      | 2506/6321 [3:06:54<10:47:32, 10.18s/it]"
     ]
    },
    {
     "name": "stdout",
     "output_type": "stream",
     "text": [
      "Extracted content from https://www.seattleu.edu/directory/profiles/macpherson-worobec.php and saved to JSON.\n"
     ]
    },
    {
     "name": "stderr",
     "output_type": "stream",
     "text": [
      " 40%|███▉      | 2507/6321 [3:07:05<10:52:06, 10.26s/it]"
     ]
    },
    {
     "name": "stdout",
     "output_type": "stream",
     "text": [
      "Extracted content from https://www.seattleu.edu/directory/profiles/madeline-lovell.php and saved to JSON.\n"
     ]
    },
    {
     "name": "stderr",
     "output_type": "stream",
     "text": [
      " 40%|███▉      | 2508/6321 [3:07:15<10:50:20, 10.23s/it]"
     ]
    },
    {
     "name": "stdout",
     "output_type": "stream",
     "text": [
      "Extracted content from https://www.seattleu.edu/directory/profiles/madelyn-ringstad.php and saved to JSON.\n"
     ]
    },
    {
     "name": "stderr",
     "output_type": "stream",
     "text": [
      " 40%|███▉      | 2509/6321 [3:07:25<10:48:55, 10.21s/it]"
     ]
    },
    {
     "name": "stdout",
     "output_type": "stream",
     "text": [
      "Extracted content from https://www.seattleu.edu/directory/profiles/madlyn-murrey-mn-rn-ne-bc.php and saved to JSON.\n"
     ]
    },
    {
     "name": "stderr",
     "output_type": "stream",
     "text": [
      " 40%|███▉      | 2510/6321 [3:07:35<10:48:37, 10.21s/it]"
     ]
    },
    {
     "name": "stdout",
     "output_type": "stream",
     "text": [
      "Extracted content from https://www.seattleu.edu/directory/profiles/maeghan-bowman.php and saved to JSON.\n"
     ]
    },
    {
     "name": "stderr",
     "output_type": "stream",
     "text": [
      " 40%|███▉      | 2511/6321 [3:07:45<10:47:17, 10.19s/it]"
     ]
    },
    {
     "name": "stdout",
     "output_type": "stream",
     "text": [
      "Extracted content from https://www.seattleu.edu/directory/profiles/mafil-fabroquez-cho.php and saved to JSON.\n"
     ]
    },
    {
     "name": "stderr",
     "output_type": "stream",
     "text": [
      " 40%|███▉      | 2512/6321 [3:07:55<10:47:30, 10.20s/it]"
     ]
    },
    {
     "name": "stdout",
     "output_type": "stream",
     "text": [
      "Extracted content from https://www.seattleu.edu/directory/profiles/maggie-ball-med.php and saved to JSON.\n"
     ]
    },
    {
     "name": "stderr",
     "output_type": "stream",
     "text": [
      " 40%|███▉      | 2513/6321 [3:08:06<10:46:34, 10.19s/it]"
     ]
    },
    {
     "name": "stdout",
     "output_type": "stream",
     "text": [
      "Extracted content from https://www.seattleu.edu/directory/profiles/maggie-chon.php and saved to JSON.\n"
     ]
    },
    {
     "name": "stderr",
     "output_type": "stream",
     "text": [
      " 40%|███▉      | 2514/6321 [3:08:16<10:46:17, 10.19s/it]"
     ]
    },
    {
     "name": "stdout",
     "output_type": "stream",
     "text": [
      "Extracted content from https://www.seattleu.edu/directory/profiles/maggie-ricketts.php and saved to JSON.\n"
     ]
    },
    {
     "name": "stderr",
     "output_type": "stream",
     "text": [
      " 40%|███▉      | 2515/6321 [3:08:26<10:47:54, 10.21s/it]"
     ]
    },
    {
     "name": "stdout",
     "output_type": "stream",
     "text": [
      "Extracted content from https://www.seattleu.edu/directory/profiles/mahendar-kumar.php and saved to JSON.\n"
     ]
    },
    {
     "name": "stderr",
     "output_type": "stream",
     "text": [
      " 40%|███▉      | 2516/6321 [3:08:36<10:47:11, 10.21s/it]"
     ]
    },
    {
     "name": "stdout",
     "output_type": "stream",
     "text": [
      "Extracted content from https://www.seattleu.edu/directory/profiles/maiya-mosteller.php and saved to JSON.\n"
     ]
    },
    {
     "name": "stderr",
     "output_type": "stream",
     "text": [
      " 40%|███▉      | 2517/6321 [3:08:46<10:46:22, 10.20s/it]"
     ]
    },
    {
     "name": "stdout",
     "output_type": "stream",
     "text": [
      "Extracted content from https://www.seattleu.edu/directory/profiles/maja-larson.php and saved to JSON.\n"
     ]
    },
    {
     "name": "stderr",
     "output_type": "stream",
     "text": [
      " 40%|███▉      | 2518/6321 [3:08:57<10:45:38, 10.19s/it]"
     ]
    },
    {
     "name": "stdout",
     "output_type": "stream",
     "text": [
      "Extracted content from https://www.seattleu.edu/directory/profiles/makaelah-smith.php and saved to JSON.\n"
     ]
    },
    {
     "name": "stderr",
     "output_type": "stream",
     "text": [
      " 40%|███▉      | 2519/6321 [3:09:07<10:45:13, 10.18s/it]"
     ]
    },
    {
     "name": "stdout",
     "output_type": "stream",
     "text": [
      "Extracted content from https://www.seattleu.edu/directory/profiles/makala-roper.php and saved to JSON.\n"
     ]
    },
    {
     "name": "stderr",
     "output_type": "stream",
     "text": [
      " 40%|███▉      | 2520/6321 [3:09:17<10:44:44, 10.18s/it]"
     ]
    },
    {
     "name": "stdout",
     "output_type": "stream",
     "text": [
      "Extracted content from https://www.seattleu.edu/directory/profiles/makeila-kapenda.php and saved to JSON.\n"
     ]
    },
    {
     "name": "stderr",
     "output_type": "stream",
     "text": [
      " 40%|███▉      | 2521/6321 [3:09:27<10:44:35, 10.18s/it]"
     ]
    },
    {
     "name": "stdout",
     "output_type": "stream",
     "text": [
      "Extracted content from https://www.seattleu.edu/directory/profiles/malak-qibaa.php and saved to JSON.\n"
     ]
    },
    {
     "name": "stderr",
     "output_type": "stream",
     "text": [
      " 40%|███▉      | 2522/6321 [3:09:37<10:44:21, 10.18s/it]"
     ]
    },
    {
     "name": "stdout",
     "output_type": "stream",
     "text": [
      "Extracted content from https://www.seattleu.edu/directory/profiles/malia-alexander-msn-arnp.php and saved to JSON.\n"
     ]
    },
    {
     "name": "stderr",
     "output_type": "stream",
     "text": [
      " 40%|███▉      | 2523/6321 [3:09:48<10:46:10, 10.21s/it]"
     ]
    },
    {
     "name": "stdout",
     "output_type": "stream",
     "text": [
      "Extracted content from https://www.seattleu.edu/directory/profiles/manivong-ratts-phd-lmhc-ncc.php and saved to JSON.\n"
     ]
    },
    {
     "name": "stderr",
     "output_type": "stream",
     "text": [
      " 40%|███▉      | 2524/6321 [3:09:58<10:45:11, 10.20s/it]"
     ]
    },
    {
     "name": "stdout",
     "output_type": "stream",
     "text": [
      "Extracted content from https://www.seattleu.edu/directory/profiles/manny-vazquez.php and saved to JSON.\n"
     ]
    },
    {
     "name": "stderr",
     "output_type": "stream",
     "text": [
      " 40%|███▉      | 2525/6321 [3:10:08<10:44:05, 10.18s/it]"
     ]
    },
    {
     "name": "stdout",
     "output_type": "stream",
     "text": [
      "Extracted content from https://www.seattleu.edu/directory/profiles/mara-adelman.php and saved to JSON.\n"
     ]
    },
    {
     "name": "stderr",
     "output_type": "stream",
     "text": [
      " 40%|███▉      | 2526/6321 [3:10:18<10:43:44, 10.18s/it]"
     ]
    },
    {
     "name": "stdout",
     "output_type": "stream",
     "text": [
      "Extracted content from https://www.seattleu.edu/directory/profiles/mara-rempe-phd.php and saved to JSON.\n"
     ]
    },
    {
     "name": "stderr",
     "output_type": "stream",
     "text": [
      " 40%|███▉      | 2527/6321 [3:10:28<10:43:55, 10.18s/it]"
     ]
    },
    {
     "name": "stdout",
     "output_type": "stream",
     "text": [
      "Extracted content from https://www.seattleu.edu/directory/profiles/marc-chandonnet.php and saved to JSON.\n"
     ]
    },
    {
     "name": "stderr",
     "output_type": "stream",
     "text": [
      " 40%|███▉      | 2528/6321 [3:10:38<10:43:27, 10.18s/it]"
     ]
    },
    {
     "name": "stdout",
     "output_type": "stream",
     "text": [
      "Extracted content from https://www.seattleu.edu/directory/profiles/marc-cohen-phd.php and saved to JSON.\n"
     ]
    },
    {
     "name": "stderr",
     "output_type": "stream",
     "text": [
      " 40%|████      | 2529/6321 [3:10:49<10:43:45, 10.19s/it]"
     ]
    },
    {
     "name": "stdout",
     "output_type": "stream",
     "text": [
      "Extracted content from https://www.seattleu.edu/directory/profiles/marc-mcleod.php and saved to JSON.\n"
     ]
    },
    {
     "name": "stderr",
     "output_type": "stream",
     "text": [
      " 40%|████      | 2531/6321 [3:10:59<7:41:19,  7.30s/it] "
     ]
    },
    {
     "name": "stdout",
     "output_type": "stream",
     "text": [
      "Error processing https:www.seattleu.edu/directory/profiles/maren-nelson.php: HTTP Error 404: Not Found\n",
      "Extracted content from https://www.seattleu.edu/directory/profiles/margaret-meg-cristofalo-phd-licsw.php and saved to JSON.\n"
     ]
    },
    {
     "name": "stderr",
     "output_type": "stream",
     "text": [
      " 40%|████      | 2532/6321 [3:11:10<8:35:02,  8.16s/it]"
     ]
    },
    {
     "name": "stdout",
     "output_type": "stream",
     "text": [
      "Extracted content from https://www.seattleu.edu/directory/profiles/margaret-fisher.php and saved to JSON.\n"
     ]
    },
    {
     "name": "stderr",
     "output_type": "stream",
     "text": [
      " 40%|████      | 2533/6321 [3:11:20<9:13:39,  8.77s/it]"
     ]
    },
    {
     "name": "stdout",
     "output_type": "stream",
     "text": [
      "Extracted content from https://www.seattleu.edu/directory/profiles/margaret-garrett.php and saved to JSON.\n"
     ]
    },
    {
     "name": "stderr",
     "output_type": "stream",
     "text": [
      " 40%|████      | 2534/6321 [3:11:30<9:40:17,  9.19s/it]"
     ]
    },
    {
     "name": "stdout",
     "output_type": "stream",
     "text": [
      "Extracted content from https://www.seattleu.edu/directory/profiles/margaret-haggerty.php and saved to JSON.\n"
     ]
    },
    {
     "name": "stderr",
     "output_type": "stream",
     "text": [
      " 40%|████      | 2535/6321 [3:11:40<9:59:30,  9.50s/it]"
     ]
    },
    {
     "name": "stdout",
     "output_type": "stream",
     "text": [
      "Extracted content from https://www.seattleu.edu/directory/profiles/margaret-hudson-phd.php and saved to JSON.\n"
     ]
    },
    {
     "name": "stderr",
     "output_type": "stream",
     "text": [
      " 40%|████      | 2536/6321 [3:11:50<10:12:11,  9.70s/it]"
     ]
    },
    {
     "name": "stdout",
     "output_type": "stream",
     "text": [
      "Extracted content from https://www.seattleu.edu/directory/profiles/margaret-kaufman.php and saved to JSON.\n"
     ]
    },
    {
     "name": "stderr",
     "output_type": "stream",
     "text": [
      " 40%|████      | 2537/6321 [3:12:01<10:20:36,  9.84s/it]"
     ]
    },
    {
     "name": "stdout",
     "output_type": "stream",
     "text": [
      "Extracted content from https://www.seattleu.edu/directory/profiles/margaret-moore.php and saved to JSON.\n"
     ]
    },
    {
     "name": "stderr",
     "output_type": "stream",
     "text": [
      " 40%|████      | 2538/6321 [3:12:11<10:26:30,  9.94s/it]"
     ]
    },
    {
     "name": "stdout",
     "output_type": "stream",
     "text": [
      "Extracted content from https://www.seattleu.edu/directory/profiles/margarete-denk.php and saved to JSON.\n"
     ]
    },
    {
     "name": "stderr",
     "output_type": "stream",
     "text": [
      " 40%|████      | 2539/6321 [3:12:21<10:30:53, 10.01s/it]"
     ]
    },
    {
     "name": "stdout",
     "output_type": "stream",
     "text": [
      "Extracted content from https://www.seattleu.edu/directory/profiles/margarita-takach-phd.php and saved to JSON.\n"
     ]
    },
    {
     "name": "stderr",
     "output_type": "stream",
     "text": [
      " 40%|████      | 2540/6321 [3:12:31<10:36:48, 10.11s/it]"
     ]
    },
    {
     "name": "stdout",
     "output_type": "stream",
     "text": [
      "Extracted content from https://www.seattleu.edu/directory/profiles/margi-luttrell.php and saved to JSON.\n"
     ]
    },
    {
     "name": "stderr",
     "output_type": "stream",
     "text": [
      " 40%|████      | 2541/6321 [3:12:41<10:37:58, 10.13s/it]"
     ]
    },
    {
     "name": "stdout",
     "output_type": "stream",
     "text": [
      "Extracted content from https://www.seattleu.edu/directory/profiles/margit-mcguire-phd.php and saved to JSON.\n"
     ]
    },
    {
     "name": "stderr",
     "output_type": "stream",
     "text": [
      " 40%|████      | 2542/6321 [3:12:52<10:38:42, 10.14s/it]"
     ]
    },
    {
     "name": "stdout",
     "output_type": "stream",
     "text": [
      "Extracted content from https://www.seattleu.edu/directory/profiles/margo-eisele-dnp-arnp-mbe.php and saved to JSON.\n"
     ]
    },
    {
     "name": "stderr",
     "output_type": "stream",
     "text": [
      " 40%|████      | 2543/6321 [3:13:02<10:39:01, 10.15s/it]"
     ]
    },
    {
     "name": "stdout",
     "output_type": "stream",
     "text": [
      "Extracted content from https://www.seattleu.edu/directory/profiles/margot-sprague-msn-rn.php and saved to JSON.\n"
     ]
    },
    {
     "name": "stderr",
     "output_type": "stream",
     "text": [
      " 40%|████      | 2544/6321 [3:13:12<10:39:26, 10.16s/it]"
     ]
    },
    {
     "name": "stdout",
     "output_type": "stream",
     "text": [
      "Extracted content from https://www.seattleu.edu/directory/profiles/maria-bullon-fernandez-phd.php and saved to JSON.\n"
     ]
    },
    {
     "name": "stderr",
     "output_type": "stream",
     "text": [
      " 40%|████      | 2545/6321 [3:13:22<10:40:00, 10.17s/it]"
     ]
    },
    {
     "name": "stdout",
     "output_type": "stream",
     "text": [
      "Extracted content from https://www.seattleu.edu/directory/profiles/maria-carl-phd.php and saved to JSON.\n"
     ]
    },
    {
     "name": "stderr",
     "output_type": "stream",
     "text": [
      " 40%|████      | 2546/6321 [3:13:32<10:39:12, 10.16s/it]"
     ]
    },
    {
     "name": "stdout",
     "output_type": "stream",
     "text": [
      "Extracted content from https://www.seattleu.edu/directory/profiles/maria-leon.php and saved to JSON.\n"
     ]
    },
    {
     "name": "stderr",
     "output_type": "stream",
     "text": [
      " 40%|████      | 2547/6321 [3:13:42<10:38:50, 10.16s/it]"
     ]
    },
    {
     "name": "stdout",
     "output_type": "stream",
     "text": [
      "Extracted content from https://www.seattleu.edu/directory/profiles/maria-pettinato-phd-rn.php and saved to JSON.\n"
     ]
    },
    {
     "name": "stderr",
     "output_type": "stream",
     "text": [
      " 40%|████      | 2548/6321 [3:13:53<10:41:30, 10.20s/it]"
     ]
    },
    {
     "name": "stdout",
     "output_type": "stream",
     "text": [
      "Extracted content from https://www.seattleu.edu/directory/profiles/maria-tedesco-phd.php and saved to JSON.\n"
     ]
    },
    {
     "name": "stderr",
     "output_type": "stream",
     "text": [
      " 40%|████      | 2549/6321 [3:14:03<10:40:29, 10.19s/it]"
     ]
    },
    {
     "name": "stdout",
     "output_type": "stream",
     "text": [
      "Extracted content from https://www.seattleu.edu/directory/profiles/maria-tran.php and saved to JSON.\n"
     ]
    },
    {
     "name": "stderr",
     "output_type": "stream",
     "text": [
      " 40%|████      | 2550/6321 [3:14:13<10:42:27, 10.22s/it]"
     ]
    },
    {
     "name": "stdout",
     "output_type": "stream",
     "text": [
      "Extracted content from https://www.seattleu.edu/directory/profiles/maria-uriarte.php and saved to JSON.\n"
     ]
    },
    {
     "name": "stderr",
     "output_type": "stream",
     "text": [
      " 40%|████      | 2551/6321 [3:14:24<10:46:45, 10.29s/it]"
     ]
    },
    {
     "name": "stdout",
     "output_type": "stream",
     "text": [
      "Extracted content from https://www.seattleu.edu/directory/profiles/marianne-labarre.php and saved to JSON.\n"
     ]
    },
    {
     "name": "stderr",
     "output_type": "stream",
     "text": [
      " 40%|████      | 2552/6321 [3:14:34<10:44:11, 10.26s/it]"
     ]
    },
    {
     "name": "stdout",
     "output_type": "stream",
     "text": [
      "Extracted content from https://www.seattleu.edu/directory/profiles/marie-rose-wong-phd.php and saved to JSON.\n"
     ]
    },
    {
     "name": "stderr",
     "output_type": "stream",
     "text": [
      " 40%|████      | 2553/6321 [3:14:44<10:42:16, 10.23s/it]"
     ]
    },
    {
     "name": "stdout",
     "output_type": "stream",
     "text": [
      "Extracted content from https://www.seattleu.edu/directory/profiles/mariko-downey.php and saved to JSON.\n"
     ]
    },
    {
     "name": "stderr",
     "output_type": "stream",
     "text": [
      " 40%|████      | 2554/6321 [3:14:54<10:41:31, 10.22s/it]"
     ]
    },
    {
     "name": "stdout",
     "output_type": "stream",
     "text": [
      "Extracted content from https://www.seattleu.edu/directory/profiles/marilyn-berger.php and saved to JSON.\n"
     ]
    },
    {
     "name": "stderr",
     "output_type": "stream",
     "text": [
      " 40%|████      | 2555/6321 [3:15:04<10:40:30, 10.20s/it]"
     ]
    },
    {
     "name": "stdout",
     "output_type": "stream",
     "text": [
      "Extracted content from https://www.seattleu.edu/directory/profiles/marilyn-cope-mpa.php and saved to JSON.\n"
     ]
    },
    {
     "name": "stderr",
     "output_type": "stream",
     "text": [
      " 40%|████      | 2556/6321 [3:15:15<10:41:57, 10.23s/it]"
     ]
    },
    {
     "name": "stdout",
     "output_type": "stream",
     "text": [
      "Extracted content from https://www.seattleu.edu/directory/profiles/marilyn-gist.php and saved to JSON.\n"
     ]
    },
    {
     "name": "stderr",
     "output_type": "stream",
     "text": [
      " 40%|████      | 2558/6321 [3:15:25<7:32:17,  7.21s/it] "
     ]
    },
    {
     "name": "stdout",
     "output_type": "stream",
     "text": [
      "Error processing https:www.seattleu.edu/directory/profiles/marilyn-nash.php: HTTP Error 404: Not Found\n",
      "Extracted content from https://www.seattleu.edu/directory/profiles/marilyn-price.php and saved to JSON.\n"
     ]
    },
    {
     "name": "stderr",
     "output_type": "stream",
     "text": [
      " 40%|████      | 2559/6321 [3:15:35<8:27:27,  8.09s/it]"
     ]
    },
    {
     "name": "stdout",
     "output_type": "stream",
     "text": [
      "Extracted content from https://www.seattleu.edu/directory/profiles/marina-carcamo-garcia-phd.php and saved to JSON.\n"
     ]
    },
    {
     "name": "stderr",
     "output_type": "stream",
     "text": [
      " 40%|████      | 2560/6321 [3:15:45<9:06:31,  8.72s/it]"
     ]
    },
    {
     "name": "stdout",
     "output_type": "stream",
     "text": [
      "Extracted content from https://www.seattleu.edu/directory/profiles/marina-purdie.php and saved to JSON.\n"
     ]
    },
    {
     "name": "stderr",
     "output_type": "stream",
     "text": [
      " 41%|████      | 2562/6321 [3:15:56<6:48:19,  6.52s/it]"
     ]
    },
    {
     "name": "stdout",
     "output_type": "stream",
     "text": [
      "Error processing https:www.seattleu.edu/directory/profiles/marina-shabazz-mn-crn.php: HTTP Error 404: Not Found\n",
      "Extracted content from https://www.seattleu.edu/directory/profiles/marisa-bier.php and saved to JSON.\n"
     ]
    },
    {
     "name": "stderr",
     "output_type": "stream",
     "text": [
      " 41%|████      | 2563/6321 [3:16:06<7:56:43,  7.61s/it]"
     ]
    },
    {
     "name": "stdout",
     "output_type": "stream",
     "text": [
      "Extracted content from https://www.seattleu.edu/directory/profiles/marisa-manus.php and saved to JSON.\n"
     ]
    },
    {
     "name": "stderr",
     "output_type": "stream",
     "text": [
      " 41%|████      | 2565/6321 [3:16:16<6:11:12,  5.93s/it]"
     ]
    },
    {
     "name": "stdout",
     "output_type": "stream",
     "text": [
      "Error processing https:www.seattleu.edu/directory/profiles/marisa-wallace.php: HTTP Error 404: Not Found\n",
      "Extracted content from https://www.seattleu.edu/directory/profiles/marissa-robledo.php and saved to JSON.\n"
     ]
    },
    {
     "name": "stderr",
     "output_type": "stream",
     "text": [
      " 41%|████      | 2566/6321 [3:16:27<7:30:34,  7.20s/it]"
     ]
    },
    {
     "name": "stdout",
     "output_type": "stream",
     "text": [
      "Extracted content from https://www.seattleu.edu/directory/profiles/marjorie-swanson-talt.php and saved to JSON.\n"
     ]
    },
    {
     "name": "stderr",
     "output_type": "stream",
     "text": [
      " 41%|████      | 2567/6321 [3:16:37<8:26:16,  8.09s/it]"
     ]
    },
    {
     "name": "stdout",
     "output_type": "stream",
     "text": [
      "Extracted content from https://www.seattleu.edu/directory/profiles/mark-chinen.php and saved to JSON.\n"
     ]
    },
    {
     "name": "stderr",
     "output_type": "stream",
     "text": [
      " 41%|████      | 2568/6321 [3:16:47<9:10:03,  8.79s/it]"
     ]
    },
    {
     "name": "stdout",
     "output_type": "stream",
     "text": [
      "Extracted content from https://www.seattleu.edu/directory/profiles/mark-cohan.php and saved to JSON.\n"
     ]
    },
    {
     "name": "stderr",
     "output_type": "stream",
     "text": [
      " 41%|████      | 2569/6321 [3:16:57<9:36:01,  9.21s/it]"
     ]
    },
    {
     "name": "stdout",
     "output_type": "stream",
     "text": [
      "Extracted content from https://www.seattleu.edu/directory/profiles/mark-hooper.php and saved to JSON.\n"
     ]
    },
    {
     "name": "stderr",
     "output_type": "stream",
     "text": [
      " 41%|████      | 2570/6321 [3:17:08<9:54:14,  9.51s/it]"
     ]
    },
    {
     "name": "stdout",
     "output_type": "stream",
     "text": [
      "Extracted content from https://www.seattleu.edu/directory/profiles/mark-jordan-phd.php and saved to JSON.\n"
     ]
    },
    {
     "name": "stderr",
     "output_type": "stream",
     "text": [
      " 41%|████      | 2571/6321 [3:17:18<10:06:15,  9.70s/it]"
     ]
    },
    {
     "name": "stdout",
     "output_type": "stream",
     "text": [
      "Extracted content from https://www.seattleu.edu/directory/profiles/mark-lee.php and saved to JSON.\n"
     ]
    },
    {
     "name": "stderr",
     "output_type": "stream",
     "text": [
      " 41%|████      | 2572/6321 [3:17:28<10:18:12,  9.89s/it]"
     ]
    },
    {
     "name": "stdout",
     "output_type": "stream",
     "text": [
      "Extracted content from https://www.seattleu.edu/directory/profiles/mark-maclean-phd.php and saved to JSON.\n"
     ]
    },
    {
     "name": "stderr",
     "output_type": "stream",
     "text": [
      " 41%|████      | 2573/6321 [3:17:38<10:23:47,  9.99s/it]"
     ]
    },
    {
     "name": "stdout",
     "output_type": "stream",
     "text": [
      "Extracted content from https://www.seattleu.edu/directory/profiles/mark-s-markuly-phd.php and saved to JSON.\n"
     ]
    },
    {
     "name": "stderr",
     "output_type": "stream",
     "text": [
      " 41%|████      | 2574/6321 [3:17:48<10:27:02, 10.04s/it]"
     ]
    },
    {
     "name": "stdout",
     "output_type": "stream",
     "text": [
      "Extracted content from https://www.seattleu.edu/directory/profiles/mark-mcgregor.php and saved to JSON.\n"
     ]
    },
    {
     "name": "stderr",
     "output_type": "stream",
     "text": [
      " 41%|████      | 2575/6321 [3:17:59<10:30:01, 10.09s/it]"
     ]
    },
    {
     "name": "stdout",
     "output_type": "stream",
     "text": [
      "Extracted content from https://www.seattleu.edu/directory/profiles/mark-murray.php and saved to JSON.\n"
     ]
    },
    {
     "name": "stderr",
     "output_type": "stream",
     "text": [
      " 41%|████      | 2576/6321 [3:18:09<10:30:58, 10.11s/it]"
     ]
    },
    {
     "name": "stdout",
     "output_type": "stream",
     "text": [
      "Extracted content from https://www.seattleu.edu/directory/profiles/mark-pouley.php and saved to JSON.\n"
     ]
    },
    {
     "name": "stderr",
     "output_type": "stream",
     "text": [
      " 41%|████      | 2577/6321 [3:18:19<10:32:06, 10.13s/it]"
     ]
    },
    {
     "name": "stdout",
     "output_type": "stream",
     "text": [
      "Extracted content from https://www.seattleu.edu/directory/profiles/mark-reutlinger.php and saved to JSON.\n"
     ]
    },
    {
     "name": "stderr",
     "output_type": "stream",
     "text": [
      " 41%|████      | 2578/6321 [3:18:29<10:32:25, 10.14s/it]"
     ]
    },
    {
     "name": "stdout",
     "output_type": "stream",
     "text": [
      "Extracted content from https://www.seattleu.edu/directory/profiles/mark-roddy-phd.php and saved to JSON.\n"
     ]
    },
    {
     "name": "stderr",
     "output_type": "stream",
     "text": [
      " 41%|████      | 2579/6321 [3:18:39<10:32:57, 10.15s/it]"
     ]
    },
    {
     "name": "stdout",
     "output_type": "stream",
     "text": [
      "Extracted content from https://www.seattleu.edu/directory/profiles/mark-taylor.php and saved to JSON.\n"
     ]
    },
    {
     "name": "stderr",
     "output_type": "stream",
     "text": [
      " 41%|████      | 2580/6321 [3:18:50<10:35:22, 10.19s/it]"
     ]
    },
    {
     "name": "stdout",
     "output_type": "stream",
     "text": [
      "Extracted content from https://www.seattleu.edu/directory/profiles/mark-wittow.php and saved to JSON.\n"
     ]
    },
    {
     "name": "stderr",
     "output_type": "stream",
     "text": [
      " 41%|████      | 2581/6321 [3:19:00<10:34:49, 10.18s/it]"
     ]
    },
    {
     "name": "stdout",
     "output_type": "stream",
     "text": [
      "Extracted content from https://www.seattleu.edu/directory/profiles/mark-worcester.php and saved to JSON.\n"
     ]
    },
    {
     "name": "stderr",
     "output_type": "stream",
     "text": [
      " 41%|████      | 2582/6321 [3:19:10<10:34:22, 10.18s/it]"
     ]
    },
    {
     "name": "stdout",
     "output_type": "stream",
     "text": [
      "Extracted content from https://www.seattleu.edu/directory/profiles/mark-young.php and saved to JSON.\n"
     ]
    },
    {
     "name": "stderr",
     "output_type": "stream",
     "text": [
      " 41%|████      | 2583/6321 [3:19:20<10:33:54, 10.18s/it]"
     ]
    },
    {
     "name": "stdout",
     "output_type": "stream",
     "text": [
      "Extracted content from https://www.seattleu.edu/directory/profiles/markeyes-montgomery.php and saved to JSON.\n"
     ]
    },
    {
     "name": "stderr",
     "output_type": "stream",
     "text": [
      " 41%|████      | 2584/6321 [3:19:30<10:37:37, 10.24s/it]"
     ]
    },
    {
     "name": "stdout",
     "output_type": "stream",
     "text": [
      "Extracted content from https://www.seattleu.edu/directory/profiles/marnie-kazarian-olson.php and saved to JSON.\n"
     ]
    },
    {
     "name": "stderr",
     "output_type": "stream",
     "text": [
      " 41%|████      | 2585/6321 [3:19:41<10:36:20, 10.22s/it]"
     ]
    },
    {
     "name": "stdout",
     "output_type": "stream",
     "text": [
      "Extracted content from https://www.seattleu.edu/directory/profiles/marta-vegdahl-crowell.php and saved to JSON.\n"
     ]
    },
    {
     "name": "stderr",
     "output_type": "stream",
     "text": [
      " 41%|████      | 2586/6321 [3:19:51<10:35:05, 10.20s/it]"
     ]
    },
    {
     "name": "stdout",
     "output_type": "stream",
     "text": [
      "Extracted content from https://www.seattleu.edu/directory/profiles/martine-ryan.php and saved to JSON.\n"
     ]
    },
    {
     "name": "stderr",
     "output_type": "stream",
     "text": [
      " 41%|████      | 2587/6321 [3:20:01<10:34:24, 10.19s/it]"
     ]
    },
    {
     "name": "stdout",
     "output_type": "stream",
     "text": [
      "Extracted content from https://www.seattleu.edu/directory/profiles/marwa-elkady.php and saved to JSON.\n"
     ]
    },
    {
     "name": "stderr",
     "output_type": "stream",
     "text": [
      " 41%|████      | 2588/6321 [3:20:11<10:36:31, 10.23s/it]"
     ]
    },
    {
     "name": "stdout",
     "output_type": "stream",
     "text": [
      "Extracted content from https://www.seattleu.edu/directory/profiles/mary-alberg-phd.php and saved to JSON.\n"
     ]
    },
    {
     "name": "stderr",
     "output_type": "stream",
     "text": [
      " 41%|████      | 2589/6321 [3:20:21<10:35:24, 10.22s/it]"
     ]
    },
    {
     "name": "stdout",
     "output_type": "stream",
     "text": [
      "Extracted content from https://www.seattleu.edu/directory/profiles/mary-field-dnp.php and saved to JSON.\n"
     ]
    },
    {
     "name": "stderr",
     "output_type": "stream",
     "text": [
      " 41%|████      | 2590/6321 [3:20:32<10:34:32, 10.20s/it]"
     ]
    },
    {
     "name": "stdout",
     "output_type": "stream",
     "text": [
      "Extracted content from https://www.seattleu.edu/directory/profiles/mary-graham-phd.php and saved to JSON.\n"
     ]
    },
    {
     "name": "stderr",
     "output_type": "stream",
     "text": [
      " 41%|████      | 2591/6321 [3:20:42<10:33:23, 10.19s/it]"
     ]
    },
    {
     "name": "stdout",
     "output_type": "stream",
     "text": [
      "Extracted content from https://www.seattleu.edu/directory/profiles/mary-high.php and saved to JSON.\n"
     ]
    },
    {
     "name": "stderr",
     "output_type": "stream",
     "text": [
      " 41%|████      | 2592/6321 [3:20:52<10:32:20, 10.17s/it]"
     ]
    },
    {
     "name": "stdout",
     "output_type": "stream",
     "text": [
      "Extracted content from https://www.seattleu.edu/directory/profiles/mary-packard.php and saved to JSON.\n"
     ]
    },
    {
     "name": "stderr",
     "output_type": "stream",
     "text": [
      " 41%|████      | 2593/6321 [3:21:02<10:32:02, 10.17s/it]"
     ]
    },
    {
     "name": "stdout",
     "output_type": "stream",
     "text": [
      "Extracted content from https://www.seattleu.edu/directory/profiles/mary-ragen.php and saved to JSON.\n"
     ]
    },
    {
     "name": "stderr",
     "output_type": "stream",
     "text": [
      " 41%|████      | 2594/6321 [3:21:12<10:31:44, 10.17s/it]"
     ]
    },
    {
     "name": "stdout",
     "output_type": "stream",
     "text": [
      "Extracted content from https://www.seattleu.edu/directory/profiles/mary-richardson.php and saved to JSON.\n"
     ]
    },
    {
     "name": "stderr",
     "output_type": "stream",
     "text": [
      " 41%|████      | 2595/6321 [3:21:22<10:31:29, 10.17s/it]"
     ]
    },
    {
     "name": "stdout",
     "output_type": "stream",
     "text": [
      "Extracted content from https://www.seattleu.edu/directory/profiles/mary-a-robertson-phd.php and saved to JSON.\n"
     ]
    },
    {
     "name": "stderr",
     "output_type": "stream",
     "text": [
      " 41%|████      | 2596/6321 [3:21:33<10:35:41, 10.24s/it]"
     ]
    },
    {
     "name": "stdout",
     "output_type": "stream",
     "text": [
      "Extracted content from https://www.seattleu.edu/directory/profiles/mary-yu.php and saved to JSON.\n"
     ]
    },
    {
     "name": "stderr",
     "output_type": "stream",
     "text": [
      " 41%|████      | 2598/6321 [3:21:43<7:27:48,  7.22s/it] "
     ]
    },
    {
     "name": "stdout",
     "output_type": "stream",
     "text": [
      "Error processing https:www.seattleu.edu/directory/profiles/mary-crystal-yingling.php: HTTP Error 404: Not Found\n",
      "Extracted content from https://www.seattleu.edu/directory/profiles/mary-jane-brogan.php and saved to JSON.\n"
     ]
    },
    {
     "name": "stderr",
     "output_type": "stream",
     "text": [
      " 41%|████      | 2599/6321 [3:21:53<8:22:22,  8.10s/it]"
     ]
    },
    {
     "name": "stdout",
     "output_type": "stream",
     "text": [
      "Extracted content from https://www.seattleu.edu/directory/profiles/mary-jane-kielman.php and saved to JSON.\n"
     ]
    },
    {
     "name": "stderr",
     "output_type": "stream",
     "text": [
      " 41%|████      | 2600/6321 [3:22:04<9:00:55,  8.72s/it]"
     ]
    },
    {
     "name": "stdout",
     "output_type": "stream",
     "text": [
      "Extracted content from https://www.seattleu.edu/directory/profiles/mary-jayne-allen.php and saved to JSON.\n"
     ]
    },
    {
     "name": "stderr",
     "output_type": "stream",
     "text": [
      " 41%|████      | 2601/6321 [3:22:14<9:27:13,  9.15s/it]"
     ]
    },
    {
     "name": "stdout",
     "output_type": "stream",
     "text": [
      "Extracted content from https://www.seattleu.edu/directory/profiles/mary-kay-brennan-dsw-licsw.php and saved to JSON.\n"
     ]
    },
    {
     "name": "stderr",
     "output_type": "stream",
     "text": [
      " 41%|████      | 2602/6321 [3:22:24<9:46:54,  9.47s/it]"
     ]
    },
    {
     "name": "stdout",
     "output_type": "stream",
     "text": [
      "Extracted content from https://www.seattleu.edu/directory/profiles/mary-lee-gilliland-mba.php and saved to JSON.\n"
     ]
    },
    {
     "name": "stderr",
     "output_type": "stream",
     "text": [
      " 41%|████      | 2603/6321 [3:22:34<9:59:36,  9.68s/it]"
     ]
    },
    {
     "name": "stdout",
     "output_type": "stream",
     "text": [
      "Extracted content from https://www.seattleu.edu/directory/profiles/mary-linden-sepulveda.php and saved to JSON.\n"
     ]
    },
    {
     "name": "stderr",
     "output_type": "stream",
     "text": [
      " 41%|████      | 2604/6321 [3:22:44<10:08:41,  9.83s/it]"
     ]
    },
    {
     "name": "stdout",
     "output_type": "stream",
     "text": [
      "Extracted content from https://www.seattleu.edu/directory/profiles/mary-antoinette-smith-phd.php and saved to JSON.\n"
     ]
    },
    {
     "name": "stderr",
     "output_type": "stream",
     "text": [
      " 41%|████      | 2605/6321 [3:22:55<10:19:34, 10.00s/it]"
     ]
    },
    {
     "name": "stdout",
     "output_type": "stream",
     "text": [
      "Extracted content from https://www.seattleu.edu/directory/profiles/marya-cotten-gould-jd.php and saved to JSON.\n"
     ]
    },
    {
     "name": "stderr",
     "output_type": "stream",
     "text": [
      " 41%|████      | 2606/6321 [3:23:05<10:22:20, 10.05s/it]"
     ]
    },
    {
     "name": "stdout",
     "output_type": "stream",
     "text": [
      "Extracted content from https://www.seattleu.edu/directory/profiles/marylou-sena-phd.php and saved to JSON.\n"
     ]
    },
    {
     "name": "stderr",
     "output_type": "stream",
     "text": [
      " 41%|████      | 2607/6321 [3:23:15<10:24:35, 10.09s/it]"
     ]
    },
    {
     "name": "stdout",
     "output_type": "stream",
     "text": [
      "Extracted content from https://www.seattleu.edu/directory/profiles/mathew-isaac-phd.php and saved to JSON.\n"
     ]
    },
    {
     "name": "stderr",
     "output_type": "stream",
     "text": [
      " 41%|████▏     | 2608/6321 [3:23:25<10:26:02, 10.12s/it]"
     ]
    },
    {
     "name": "stdout",
     "output_type": "stream",
     "text": [
      "Extracted content from https://www.seattleu.edu/directory/profiles/matt-hawkey-phd.php and saved to JSON.\n"
     ]
    },
    {
     "name": "stderr",
     "output_type": "stream",
     "text": [
      " 41%|████▏     | 2609/6321 [3:23:35<10:26:28, 10.13s/it]"
     ]
    },
    {
     "name": "stdout",
     "output_type": "stream",
     "text": [
      "Extracted content from https://www.seattleu.edu/directory/profiles/matt-herring.php and saved to JSON.\n"
     ]
    },
    {
     "name": "stderr",
     "output_type": "stream",
     "text": [
      " 41%|████▏     | 2610/6321 [3:23:46<10:27:25, 10.14s/it]"
     ]
    },
    {
     "name": "stdout",
     "output_type": "stream",
     "text": [
      "Extracted content from https://www.seattleu.edu/directory/profiles/matt-hickman-phd.php and saved to JSON.\n"
     ]
    },
    {
     "name": "stderr",
     "output_type": "stream",
     "text": [
      " 41%|████▏     | 2611/6321 [3:23:56<10:28:23, 10.16s/it]"
     ]
    },
    {
     "name": "stdout",
     "output_type": "stream",
     "text": [
      "Extracted content from https://www.seattleu.edu/directory/profiles/matthew-etter.php and saved to JSON.\n"
     ]
    },
    {
     "name": "stderr",
     "output_type": "stream",
     "text": [
      " 41%|████▏     | 2612/6321 [3:24:06<10:28:20, 10.16s/it]"
     ]
    },
    {
     "name": "stdout",
     "output_type": "stream",
     "text": [
      "Extracted content from https://www.seattleu.edu/directory/profiles/matthew-lyon.php and saved to JSON.\n"
     ]
    },
    {
     "name": "stderr",
     "output_type": "stream",
     "text": [
      " 41%|████▏     | 2613/6321 [3:24:16<10:30:50, 10.21s/it]"
     ]
    },
    {
     "name": "stdout",
     "output_type": "stream",
     "text": [
      "Extracted content from https://www.seattleu.edu/directory/profiles/matthew-rellihan-phd.php and saved to JSON.\n"
     ]
    },
    {
     "name": "stderr",
     "output_type": "stream",
     "text": [
      " 41%|████▏     | 2614/6321 [3:24:26<10:29:51, 10.19s/it]"
     ]
    },
    {
     "name": "stdout",
     "output_type": "stream",
     "text": [
      "Extracted content from https://www.seattleu.edu/directory/profiles/matthew-sanders.php and saved to JSON.\n"
     ]
    },
    {
     "name": "stderr",
     "output_type": "stream",
     "text": [
      " 41%|████▏     | 2615/6321 [3:24:37<10:29:18, 10.19s/it]"
     ]
    },
    {
     "name": "stdout",
     "output_type": "stream",
     "text": [
      "Extracted content from https://www.seattleu.edu/directory/profiles/matthew-skelton.php and saved to JSON.\n"
     ]
    },
    {
     "name": "stderr",
     "output_type": "stream",
     "text": [
      " 41%|████▏     | 2616/6321 [3:24:47<10:28:34, 10.18s/it]"
     ]
    },
    {
     "name": "stdout",
     "output_type": "stream",
     "text": [
      "Extracted content from https://www.seattleu.edu/directory/profiles/matthew-strum.php and saved to JSON.\n"
     ]
    },
    {
     "name": "stderr",
     "output_type": "stream",
     "text": [
      " 41%|████▏     | 2617/6321 [3:24:57<10:28:08, 10.18s/it]"
     ]
    },
    {
     "name": "stdout",
     "output_type": "stream",
     "text": [
      "Extracted content from https://www.seattleu.edu/directory/profiles/matthew-sutorius.php and saved to JSON.\n"
     ]
    },
    {
     "name": "stderr",
     "output_type": "stream",
     "text": [
      " 41%|████▏     | 2618/6321 [3:25:07<10:28:17, 10.18s/it]"
     ]
    },
    {
     "name": "stdout",
     "output_type": "stream",
     "text": [
      "Extracted content from https://www.seattleu.edu/directory/profiles/matthew-g-whitlock-phd.php and saved to JSON.\n"
     ]
    },
    {
     "name": "stderr",
     "output_type": "stream",
     "text": [
      " 41%|████▏     | 2619/6321 [3:25:17<10:27:49, 10.18s/it]"
     ]
    },
    {
     "name": "stdout",
     "output_type": "stream",
     "text": [
      "Extracted content from https://www.seattleu.edu/directory/profiles/matthew-williams.php and saved to JSON.\n"
     ]
    },
    {
     "name": "stderr",
     "output_type": "stream",
     "text": [
      " 41%|████▏     | 2620/6321 [3:25:27<10:27:23, 10.17s/it]"
     ]
    },
    {
     "name": "stdout",
     "output_type": "stream",
     "text": [
      "Extracted content from https://www.seattleu.edu/directory/profiles/matthew-r-burton.php and saved to JSON.\n"
     ]
    },
    {
     "name": "stderr",
     "output_type": "stream",
     "text": [
      " 41%|████▏     | 2621/6321 [3:25:38<10:30:10, 10.22s/it]"
     ]
    },
    {
     "name": "stdout",
     "output_type": "stream",
     "text": [
      "Extracted content from https://www.seattleu.edu/directory/profiles/mattie-watts.php and saved to JSON.\n"
     ]
    },
    {
     "name": "stderr",
     "output_type": "stream",
     "text": [
      " 41%|████▏     | 2622/6321 [3:25:48<10:30:35, 10.23s/it]"
     ]
    },
    {
     "name": "stdout",
     "output_type": "stream",
     "text": [
      "Extracted content from https://www.seattleu.edu/directory/profiles/maura-carroll-dnp-msn-arnp.php and saved to JSON.\n"
     ]
    },
    {
     "name": "stderr",
     "output_type": "stream",
     "text": [
      " 41%|████▏     | 2623/6321 [3:25:58<10:29:25, 10.21s/it]"
     ]
    },
    {
     "name": "stdout",
     "output_type": "stream",
     "text": [
      "Extracted content from https://www.seattleu.edu/directory/profiles/maureen-emerson-feit-phd.php and saved to JSON.\n"
     ]
    },
    {
     "name": "stderr",
     "output_type": "stream",
     "text": [
      " 42%|████▏     | 2624/6321 [3:26:08<10:28:20, 10.20s/it]"
     ]
    },
    {
     "name": "stdout",
     "output_type": "stream",
     "text": [
      "Extracted content from https://www.seattleu.edu/directory/profiles/maureen-mcdonald-msn-rn-cwcn.php and saved to JSON.\n"
     ]
    },
    {
     "name": "stderr",
     "output_type": "stream",
     "text": [
      " 42%|████▏     | 2625/6321 [3:26:18<10:27:32, 10.19s/it]"
     ]
    },
    {
     "name": "stdout",
     "output_type": "stream",
     "text": [
      "Extracted content from https://www.seattleu.edu/directory/profiles/maureen-niland.php and saved to JSON.\n"
     ]
    },
    {
     "name": "stderr",
     "output_type": "stream",
     "text": [
      " 42%|████▏     | 2626/6321 [3:26:29<10:27:17, 10.19s/it]"
     ]
    },
    {
     "name": "stdout",
     "output_type": "stream",
     "text": [
      "Extracted content from https://www.seattleu.edu/directory/profiles/maverick-cosgrove.php and saved to JSON.\n"
     ]
    },
    {
     "name": "stderr",
     "output_type": "stream",
     "text": [
      " 42%|████▏     | 2627/6321 [3:26:39<10:27:18, 10.19s/it]"
     ]
    },
    {
     "name": "stdout",
     "output_type": "stream",
     "text": [
      "Extracted content from https://www.seattleu.edu/directory/profiles/maxime-marinoni.php and saved to JSON.\n"
     ]
    },
    {
     "name": "stderr",
     "output_type": "stream",
     "text": [
      " 42%|████▏     | 2628/6321 [3:26:49<10:26:36, 10.18s/it]"
     ]
    },
    {
     "name": "stdout",
     "output_type": "stream",
     "text": [
      "Extracted content from https://www.seattleu.edu/directory/profiles/maylon-hanold.php and saved to JSON.\n"
     ]
    },
    {
     "name": "stderr",
     "output_type": "stream",
     "text": [
      " 42%|████▏     | 2629/6321 [3:27:00<10:32:52, 10.29s/it]"
     ]
    },
    {
     "name": "stdout",
     "output_type": "stream",
     "text": [
      "Extracted content from https://www.seattleu.edu/directory/profiles/mayra-arellano-serrano-ba.php and saved to JSON.\n"
     ]
    },
    {
     "name": "stderr",
     "output_type": "stream",
     "text": [
      " 42%|████▏     | 2630/6321 [3:27:10<10:34:00, 10.31s/it]"
     ]
    },
    {
     "name": "stdout",
     "output_type": "stream",
     "text": [
      "Extracted content from https://www.seattleu.edu/directory/profiles/mclean-sloughter-phd.php and saved to JSON.\n"
     ]
    },
    {
     "name": "stderr",
     "output_type": "stream",
     "text": [
      " 42%|████▏     | 2631/6321 [3:27:20<10:32:07, 10.28s/it]"
     ]
    },
    {
     "name": "stdout",
     "output_type": "stream",
     "text": [
      "Extracted content from https://www.seattleu.edu/directory/profiles/md-moniruzzaman-ms-mpa-mba.php and saved to JSON.\n"
     ]
    },
    {
     "name": "stderr",
     "output_type": "stream",
     "text": [
      " 42%|████▏     | 2632/6321 [3:27:30<10:29:48, 10.24s/it]"
     ]
    },
    {
     "name": "stdout",
     "output_type": "stream",
     "text": [
      "Extracted content from https://www.seattleu.edu/directory/profiles/meenakshi-rishi-phd.php and saved to JSON.\n"
     ]
    },
    {
     "name": "stderr",
     "output_type": "stream",
     "text": [
      " 42%|████▏     | 2633/6321 [3:27:40<10:28:52, 10.23s/it]"
     ]
    },
    {
     "name": "stdout",
     "output_type": "stream",
     "text": [
      "Extracted content from https://www.seattleu.edu/directory/profiles/meg-iyer-phd.php and saved to JSON.\n"
     ]
    },
    {
     "name": "stderr",
     "output_type": "stream",
     "text": [
      " 42%|████▏     | 2634/6321 [3:27:51<10:27:36, 10.21s/it]"
     ]
    },
    {
     "name": "stdout",
     "output_type": "stream",
     "text": [
      "Extracted content from https://www.seattleu.edu/directory/profiles/megan-kush.php and saved to JSON.\n"
     ]
    },
    {
     "name": "stderr",
     "output_type": "stream",
     "text": [
      " 42%|████▏     | 2635/6321 [3:28:01<10:26:18, 10.19s/it]"
     ]
    },
    {
     "name": "stdout",
     "output_type": "stream",
     "text": [
      "Extracted content from https://www.seattleu.edu/directory/profiles/megan-otis.php and saved to JSON.\n"
     ]
    },
    {
     "name": "stderr",
     "output_type": "stream",
     "text": [
      " 42%|████▏     | 2636/6321 [3:28:11<10:30:02, 10.26s/it]"
     ]
    },
    {
     "name": "stdout",
     "output_type": "stream",
     "text": [
      "Extracted content from https://www.seattleu.edu/directory/profiles/megan-spaulding.php and saved to JSON.\n"
     ]
    },
    {
     "name": "stderr",
     "output_type": "stream",
     "text": [
      " 42%|████▏     | 2637/6321 [3:28:22<10:30:33, 10.27s/it]"
     ]
    },
    {
     "name": "stdout",
     "output_type": "stream",
     "text": [
      "Extracted content from https://www.seattleu.edu/directory/profiles/meghan-kaloper.php and saved to JSON.\n"
     ]
    },
    {
     "name": "stderr",
     "output_type": "stream",
     "text": [
      " 42%|████▏     | 2638/6321 [3:28:32<10:30:01, 10.26s/it]"
     ]
    },
    {
     "name": "stdout",
     "output_type": "stream",
     "text": [
      "Extracted content from https://www.seattleu.edu/directory/profiles/meghan-mcneil.php and saved to JSON.\n"
     ]
    },
    {
     "name": "stderr",
     "output_type": "stream",
     "text": [
      " 42%|████▏     | 2639/6321 [3:28:42<10:28:15, 10.24s/it]"
     ]
    },
    {
     "name": "stdout",
     "output_type": "stream",
     "text": [
      "Extracted content from https://www.seattleu.edu/directory/profiles/melanie-mcdonald.php and saved to JSON.\n"
     ]
    },
    {
     "name": "stderr",
     "output_type": "stream",
     "text": [
      " 42%|████▏     | 2640/6321 [3:28:52<10:26:33, 10.21s/it]"
     ]
    },
    {
     "name": "stdout",
     "output_type": "stream",
     "text": [
      "Extracted content from https://www.seattleu.edu/directory/profiles/melinda-branscomb.php and saved to JSON.\n"
     ]
    },
    {
     "name": "stderr",
     "output_type": "stream",
     "text": [
      " 42%|████▏     | 2641/6321 [3:29:02<10:25:34, 10.20s/it]"
     ]
    },
    {
     "name": "stdout",
     "output_type": "stream",
     "text": [
      "Extracted content from https://www.seattleu.edu/directory/profiles/melinda-hurst-frye.php and saved to JSON.\n"
     ]
    },
    {
     "name": "stderr",
     "output_type": "stream",
     "text": [
      " 42%|████▏     | 2642/6321 [3:29:12<10:25:06, 10.19s/it]"
     ]
    },
    {
     "name": "stdout",
     "output_type": "stream",
     "text": [
      "Extracted content from https://www.seattleu.edu/directory/profiles/melissa-chamberlain.php and saved to JSON.\n"
     ]
    },
    {
     "name": "stderr",
     "output_type": "stream",
     "text": [
      " 42%|████▏     | 2643/6321 [3:29:23<10:27:01, 10.23s/it]"
     ]
    },
    {
     "name": "stdout",
     "output_type": "stream",
     "text": [
      "Extracted content from https://www.seattleu.edu/directory/profiles/melissa-lee.php and saved to JSON.\n"
     ]
    },
    {
     "name": "stderr",
     "output_type": "stream",
     "text": [
      " 42%|████▏     | 2644/6321 [3:29:33<10:25:37, 10.21s/it]"
     ]
    },
    {
     "name": "stdout",
     "output_type": "stream",
     "text": [
      "Extracted content from https://www.seattleu.edu/directory/profiles/melissa-owen-phd-rn-cne-fhfsa.php and saved to JSON.\n"
     ]
    },
    {
     "name": "stderr",
     "output_type": "stream",
     "text": [
      " 42%|████▏     | 2645/6321 [3:29:43<10:26:09, 10.22s/it]"
     ]
    },
    {
     "name": "stdout",
     "output_type": "stream",
     "text": [
      "Extracted content from https://www.seattleu.edu/directory/profiles/melissa-poquiz.php and saved to JSON.\n"
     ]
    },
    {
     "name": "stderr",
     "output_type": "stream",
     "text": [
      " 42%|████▏     | 2646/6321 [3:29:53<10:26:59, 10.24s/it]"
     ]
    },
    {
     "name": "stdout",
     "output_type": "stream",
     "text": [
      "Extracted content from https://www.seattleu.edu/directory/profiles/melissa-racki.php and saved to JSON.\n"
     ]
    },
    {
     "name": "stderr",
     "output_type": "stream",
     "text": [
      " 42%|████▏     | 2647/6321 [3:30:04<10:25:17, 10.21s/it]"
     ]
    },
    {
     "name": "stdout",
     "output_type": "stream",
     "text": [
      "Extracted content from https://www.seattleu.edu/directory/profiles/melissa-vannarath.php and saved to JSON.\n"
     ]
    },
    {
     "name": "stderr",
     "output_type": "stream",
     "text": [
      " 42%|████▏     | 2648/6321 [3:30:14<10:24:23, 10.20s/it]"
     ]
    },
    {
     "name": "stdout",
     "output_type": "stream",
     "text": [
      "Extracted content from https://www.seattleu.edu/directory/profiles/melissa-wessel.php and saved to JSON.\n"
     ]
    },
    {
     "name": "stderr",
     "output_type": "stream",
     "text": [
      " 42%|████▏     | 2649/6321 [3:30:24<10:23:24, 10.19s/it]"
     ]
    },
    {
     "name": "stdout",
     "output_type": "stream",
     "text": [
      "Extracted content from https://www.seattleu.edu/directory/profiles/melissa-wessling.php and saved to JSON.\n"
     ]
    },
    {
     "name": "stderr",
     "output_type": "stream",
     "text": [
      " 42%|████▏     | 2650/6321 [3:30:34<10:23:01, 10.18s/it]"
     ]
    },
    {
     "name": "stdout",
     "output_type": "stream",
     "text": [
      "Extracted content from https://www.seattleu.edu/directory/profiles/mia-roberson.php and saved to JSON.\n"
     ]
    },
    {
     "name": "stderr",
     "output_type": "stream",
     "text": [
      " 42%|████▏     | 2651/6321 [3:30:44<10:22:28, 10.18s/it]"
     ]
    },
    {
     "name": "stdout",
     "output_type": "stream",
     "text": [
      "Extracted content from https://www.seattleu.edu/directory/profiles/mia-stroutsos.php and saved to JSON.\n"
     ]
    },
    {
     "name": "stderr",
     "output_type": "stream",
     "text": [
      " 42%|████▏     | 2652/6321 [3:30:54<10:22:06, 10.17s/it]"
     ]
    },
    {
     "name": "stdout",
     "output_type": "stream",
     "text": [
      "Extracted content from https://www.seattleu.edu/directory/profiles/michael-blasie.php and saved to JSON.\n"
     ]
    },
    {
     "name": "stderr",
     "output_type": "stream",
     "text": [
      " 42%|████▏     | 2653/6321 [3:31:05<10:21:42, 10.17s/it]"
     ]
    },
    {
     "name": "stdout",
     "output_type": "stream",
     "text": [
      "Extracted content from https://www.seattleu.edu/directory/profiles/michael-chand.php and saved to JSON.\n"
     ]
    },
    {
     "name": "stderr",
     "output_type": "stream",
     "text": [
      " 42%|████▏     | 2654/6321 [3:31:15<10:22:59, 10.19s/it]"
     ]
    },
    {
     "name": "stdout",
     "output_type": "stream",
     "text": [
      "Extracted content from https://www.seattleu.edu/directory/profiles/michael-hirsch.php and saved to JSON.\n"
     ]
    },
    {
     "name": "stderr",
     "output_type": "stream",
     "text": [
      " 42%|████▏     | 2655/6321 [3:31:25<10:22:24, 10.19s/it]"
     ]
    },
    {
     "name": "stdout",
     "output_type": "stream",
     "text": [
      "Extracted content from https://www.seattleu.edu/directory/profiles/michael-kern.php and saved to JSON.\n"
     ]
    },
    {
     "name": "stderr",
     "output_type": "stream",
     "text": [
      " 42%|████▏     | 2656/6321 [3:31:35<10:21:54, 10.18s/it]"
     ]
    },
    {
     "name": "stdout",
     "output_type": "stream",
     "text": [
      "Extracted content from https://www.seattleu.edu/directory/profiles/michael-kinsley.php and saved to JSON.\n"
     ]
    },
    {
     "name": "stderr",
     "output_type": "stream",
     "text": [
      " 42%|████▏     | 2657/6321 [3:31:45<10:21:19, 10.17s/it]"
     ]
    },
    {
     "name": "stdout",
     "output_type": "stream",
     "text": [
      "Extracted content from https://www.seattleu.edu/directory/profiles/michael-koenig-mse.php and saved to JSON.\n"
     ]
    },
    {
     "name": "stderr",
     "output_type": "stream",
     "text": [
      " 42%|████▏     | 2658/6321 [3:31:55<10:20:46, 10.17s/it]"
     ]
    },
    {
     "name": "stdout",
     "output_type": "stream",
     "text": [
      "Extracted content from https://www.seattleu.edu/directory/profiles/mike-marsolek-phd-pe.php and saved to JSON.\n"
     ]
    },
    {
     "name": "stderr",
     "output_type": "stream",
     "text": [
      " 42%|████▏     | 2659/6321 [3:32:06<10:20:40, 10.17s/it]"
     ]
    },
    {
     "name": "stdout",
     "output_type": "stream",
     "text": [
      "Extracted content from https://www.seattleu.edu/directory/profiles/michael-mckee-mse.php and saved to JSON.\n"
     ]
    },
    {
     "name": "stderr",
     "output_type": "stream",
     "text": [
      " 42%|████▏     | 2660/6321 [3:32:16<10:20:14, 10.17s/it]"
     ]
    },
    {
     "name": "stdout",
     "output_type": "stream",
     "text": [
      "Extracted content from https://www.seattleu.edu/directory/profiles/michael-mcqueen.php and saved to JSON.\n"
     ]
    },
    {
     "name": "stderr",
     "output_type": "stream",
     "text": [
      " 42%|████▏     | 2661/6321 [3:32:26<10:19:50, 10.16s/it]"
     ]
    },
    {
     "name": "stdout",
     "output_type": "stream",
     "text": [
      "Extracted content from https://www.seattleu.edu/directory/profiles/michael-morgan-phd.php and saved to JSON.\n"
     ]
    },
    {
     "name": "stderr",
     "output_type": "stream",
     "text": [
      " 42%|████▏     | 2662/6321 [3:32:36<10:23:56, 10.23s/it]"
     ]
    },
    {
     "name": "stdout",
     "output_type": "stream",
     "text": [
      "Extracted content from https://www.seattleu.edu/directory/profiles/michael-ng-phd.php and saved to JSON.\n"
     ]
    },
    {
     "name": "stderr",
     "output_type": "stream",
     "text": [
      " 42%|████▏     | 2663/6321 [3:32:47<10:22:43, 10.21s/it]"
     ]
    },
    {
     "name": "stdout",
     "output_type": "stream",
     "text": [
      "Extracted content from https://www.seattleu.edu/directory/profiles/michael-oconnor.php and saved to JSON.\n"
     ]
    },
    {
     "name": "stderr",
     "output_type": "stream",
     "text": [
      " 42%|████▏     | 2664/6321 [3:32:57<10:21:37, 10.20s/it]"
     ]
    },
    {
     "name": "stdout",
     "output_type": "stream",
     "text": [
      "Extracted content from https://www.seattleu.edu/directory/profiles/michael-osmialowski.php and saved to JSON.\n"
     ]
    },
    {
     "name": "stderr",
     "output_type": "stream",
     "text": [
      " 42%|████▏     | 2665/6321 [3:33:07<10:20:56, 10.19s/it]"
     ]
    },
    {
     "name": "stdout",
     "output_type": "stream",
     "text": [
      "Extracted content from https://www.seattleu.edu/directory/profiles/michael-quinn.php and saved to JSON.\n"
     ]
    },
    {
     "name": "stderr",
     "output_type": "stream",
     "text": [
      " 42%|████▏     | 2666/6321 [3:33:17<10:20:20, 10.18s/it]"
     ]
    },
    {
     "name": "stdout",
     "output_type": "stream",
     "text": [
      "Extracted content from https://www.seattleu.edu/directory/profiles/michael-raven.php and saved to JSON.\n"
     ]
    },
    {
     "name": "stderr",
     "output_type": "stream",
     "text": [
      " 42%|████▏     | 2667/6321 [3:33:27<10:19:46, 10.18s/it]"
     ]
    },
    {
     "name": "stdout",
     "output_type": "stream",
     "text": [
      "Extracted content from https://www.seattleu.edu/directory/profiles/michael-russo.php and saved to JSON.\n"
     ]
    },
    {
     "name": "stderr",
     "output_type": "stream",
     "text": [
      " 42%|████▏     | 2668/6321 [3:33:37<10:19:22, 10.17s/it]"
     ]
    },
    {
     "name": "stdout",
     "output_type": "stream",
     "text": [
      "Extracted content from https://www.seattleu.edu/directory/profiles/michael-schut.php and saved to JSON.\n"
     ]
    },
    {
     "name": "stderr",
     "output_type": "stream",
     "text": [
      " 42%|████▏     | 2669/6321 [3:33:48<10:19:08, 10.17s/it]"
     ]
    },
    {
     "name": "stdout",
     "output_type": "stream",
     "text": [
      "Extracted content from https://www.seattleu.edu/directory/profiles/michael-smith.php and saved to JSON.\n"
     ]
    },
    {
     "name": "stderr",
     "output_type": "stream",
     "text": [
      " 42%|████▏     | 2670/6321 [3:33:58<10:23:07, 10.24s/it]"
     ]
    },
    {
     "name": "stdout",
     "output_type": "stream",
     "text": [
      "Extracted content from https://www.seattleu.edu/directory/profiles/michael-spinetta-phd.php and saved to JSON.\n"
     ]
    },
    {
     "name": "stderr",
     "output_type": "stream",
     "text": [
      " 42%|████▏     | 2671/6321 [3:34:08<10:22:05, 10.23s/it]"
     ]
    },
    {
     "name": "stdout",
     "output_type": "stream",
     "text": [
      "Extracted content from https://www.seattleu.edu/directory/profiles/michael-thomas.php and saved to JSON.\n"
     ]
    },
    {
     "name": "stderr",
     "output_type": "stream",
     "text": [
      " 42%|████▏     | 2672/6321 [3:34:18<10:20:47, 10.21s/it]"
     ]
    },
    {
     "name": "stdout",
     "output_type": "stream",
     "text": [
      "Extracted content from https://www.seattleu.edu/directory/profiles/michael-trice-phd-emba.php and saved to JSON.\n"
     ]
    },
    {
     "name": "stderr",
     "output_type": "stream",
     "text": [
      " 42%|████▏     | 2673/6321 [3:34:28<10:19:43, 10.19s/it]"
     ]
    },
    {
     "name": "stdout",
     "output_type": "stream",
     "text": [
      "Extracted content from https://www.seattleu.edu/directory/profiles/michael-vanwie.php and saved to JSON.\n"
     ]
    },
    {
     "name": "stderr",
     "output_type": "stream",
     "text": [
      " 42%|████▏     | 2674/6321 [3:34:39<10:18:52, 10.18s/it]"
     ]
    },
    {
     "name": "stdout",
     "output_type": "stream",
     "text": [
      "Extracted content from https://www.seattleu.edu/directory/profiles/michael-wright.php and saved to JSON.\n"
     ]
    },
    {
     "name": "stderr",
     "output_type": "stream",
     "text": [
      " 42%|████▏     | 2675/6321 [3:34:49<10:20:05, 10.20s/it]"
     ]
    },
    {
     "name": "stdout",
     "output_type": "stream",
     "text": [
      "Extracted content from https://www.seattleu.edu/directory/profiles/michael-yoder.php and saved to JSON.\n"
     ]
    },
    {
     "name": "stderr",
     "output_type": "stream",
     "text": [
      " 42%|████▏     | 2676/6321 [3:34:59<10:19:41, 10.20s/it]"
     ]
    },
    {
     "name": "stdout",
     "output_type": "stream",
     "text": [
      "Extracted content from https://www.seattleu.edu/directory/profiles/michael-zanis-phd.php and saved to JSON.\n"
     ]
    },
    {
     "name": "stderr",
     "output_type": "stream",
     "text": [
      " 42%|████▏     | 2677/6321 [3:35:09<10:20:22, 10.21s/it]"
     ]
    },
    {
     "name": "stdout",
     "output_type": "stream",
     "text": [
      "Extracted content from https://www.seattleu.edu/directory/profiles/michael-zubitis.php and saved to JSON.\n"
     ]
    },
    {
     "name": "stderr",
     "output_type": "stream",
     "text": [
      " 42%|████▏     | 2678/6321 [3:35:20<10:22:15, 10.25s/it]"
     ]
    },
    {
     "name": "stdout",
     "output_type": "stream",
     "text": [
      "Extracted content from https://www.seattleu.edu/directory/profiles/michael-p-jaycox-phd.php and saved to JSON.\n"
     ]
    },
    {
     "name": "stderr",
     "output_type": "stream",
     "text": [
      " 42%|████▏     | 2679/6321 [3:35:30<10:20:33, 10.22s/it]"
     ]
    },
    {
     "name": "stdout",
     "output_type": "stream",
     "text": [
      "Extracted content from https://www.seattleu.edu/directory/profiles/michele-weingeist.php and saved to JSON.\n"
     ]
    },
    {
     "name": "stderr",
     "output_type": "stream",
     "text": [
      " 42%|████▏     | 2680/6321 [3:35:40<10:19:21, 10.21s/it]"
     ]
    },
    {
     "name": "stdout",
     "output_type": "stream",
     "text": [
      "Extracted content from https://www.seattleu.edu/directory/profiles/michelle-dilulo-parton-msn-rn.php and saved to JSON.\n"
     ]
    },
    {
     "name": "stderr",
     "output_type": "stream",
     "text": [
      " 42%|████▏     | 2681/6321 [3:35:50<10:18:41, 10.20s/it]"
     ]
    },
    {
     "name": "stdout",
     "output_type": "stream",
     "text": [
      "Extracted content from https://www.seattleu.edu/directory/profiles/michelle-duan.php and saved to JSON.\n"
     ]
    },
    {
     "name": "stderr",
     "output_type": "stream",
     "text": [
      " 42%|████▏     | 2682/6321 [3:36:00<10:18:00, 10.19s/it]"
     ]
    },
    {
     "name": "stdout",
     "output_type": "stream",
     "text": [
      "Extracted content from https://www.seattleu.edu/directory/profiles/michelle-dubois-phd.php and saved to JSON.\n"
     ]
    },
    {
     "name": "stderr",
     "output_type": "stream",
     "text": [
      " 42%|████▏     | 2683/6321 [3:36:10<10:17:32, 10.18s/it]"
     ]
    },
    {
     "name": "stdout",
     "output_type": "stream",
     "text": [
      "Extracted content from https://www.seattleu.edu/directory/profiles/michelle-etchart.php and saved to JSON.\n"
     ]
    },
    {
     "name": "stderr",
     "output_type": "stream",
     "text": [
      " 42%|████▏     | 2684/6321 [3:36:21<10:17:22, 10.18s/it]"
     ]
    },
    {
     "name": "stdout",
     "output_type": "stream",
     "text": [
      "Extracted content from https://www.seattleu.edu/directory/profiles/michelle-kim.php and saved to JSON.\n"
     ]
    },
    {
     "name": "stderr",
     "output_type": "stream",
     "text": [
      " 42%|████▏     | 2685/6321 [3:36:31<10:16:41, 10.18s/it]"
     ]
    },
    {
     "name": "stdout",
     "output_type": "stream",
     "text": [
      "Extracted content from https://www.seattleu.edu/directory/profiles/miguel-chavez-ma-lmhc-ncc.php and saved to JSON.\n"
     ]
    },
    {
     "name": "stderr",
     "output_type": "stream",
     "text": [
      " 42%|████▏     | 2686/6321 [3:36:41<10:19:47, 10.23s/it]"
     ]
    },
    {
     "name": "stdout",
     "output_type": "stream",
     "text": [
      "Extracted content from https://www.seattleu.edu/directory/profiles/miha-sarani.php and saved to JSON.\n"
     ]
    },
    {
     "name": "stderr",
     "output_type": "stream",
     "text": [
      " 43%|████▎     | 2687/6321 [3:36:52<10:24:07, 10.30s/it]"
     ]
    },
    {
     "name": "stdout",
     "output_type": "stream",
     "text": [
      "Extracted content from https://www.seattleu.edu/directory/profiles/mikaela-guimaraes.php and saved to JSON.\n"
     ]
    },
    {
     "name": "stderr",
     "output_type": "stream",
     "text": [
      " 43%|████▎     | 2688/6321 [3:37:02<10:23:14, 10.29s/it]"
     ]
    },
    {
     "name": "stdout",
     "output_type": "stream",
     "text": [
      "Extracted content from https://www.seattleu.edu/directory/profiles/mikaela-wallin.php and saved to JSON.\n"
     ]
    },
    {
     "name": "stderr",
     "output_type": "stream",
     "text": [
      " 43%|████▎     | 2689/6321 [3:37:12<10:23:28, 10.30s/it]"
     ]
    },
    {
     "name": "stdout",
     "output_type": "stream",
     "text": [
      "Extracted content from https://www.seattleu.edu/directory/profiles/mike-davis.php and saved to JSON.\n"
     ]
    },
    {
     "name": "stderr",
     "output_type": "stream",
     "text": [
      " 43%|████▎     | 2690/6321 [3:37:22<10:20:37, 10.26s/it]"
     ]
    },
    {
     "name": "stdout",
     "output_type": "stream",
     "text": [
      "Extracted content from https://www.seattleu.edu/directory/profiles/mike-raschko.php and saved to JSON.\n"
     ]
    },
    {
     "name": "stderr",
     "output_type": "stream",
     "text": [
      " 43%|████▎     | 2691/6321 [3:37:33<10:18:30, 10.22s/it]"
     ]
    },
    {
     "name": "stdout",
     "output_type": "stream",
     "text": [
      "Extracted content from https://www.seattleu.edu/directory/profiles/mike-thee.php and saved to JSON.\n"
     ]
    },
    {
     "name": "stderr",
     "output_type": "stream",
     "text": [
      " 43%|████▎     | 2692/6321 [3:37:43<10:17:53, 10.22s/it]"
     ]
    },
    {
     "name": "stdout",
     "output_type": "stream",
     "text": [
      "Extracted content from https://www.seattleu.edu/directory/profiles/millard-dawson.php and saved to JSON.\n"
     ]
    },
    {
     "name": "stderr",
     "output_type": "stream",
     "text": [
      " 43%|████▎     | 2693/6321 [3:37:53<10:17:00, 10.20s/it]"
     ]
    },
    {
     "name": "stdout",
     "output_type": "stream",
     "text": [
      "Extracted content from https://www.seattleu.edu/directory/profiles/millicent-borishade.php and saved to JSON.\n"
     ]
    },
    {
     "name": "stderr",
     "output_type": "stream",
     "text": [
      " 43%|████▎     | 2694/6321 [3:38:03<10:18:38, 10.23s/it]"
     ]
    },
    {
     "name": "stdout",
     "output_type": "stream",
     "text": [
      "Extracted content from https://www.seattleu.edu/directory/profiles/mimi-cheng-phd.php and saved to JSON.\n"
     ]
    },
    {
     "name": "stderr",
     "output_type": "stream",
     "text": [
      " 43%|████▎     | 2695/6321 [3:38:13<10:17:08, 10.21s/it]"
     ]
    },
    {
     "name": "stdout",
     "output_type": "stream",
     "text": [
      "Extracted content from https://www.seattleu.edu/directory/profiles/mimi-samuel.php and saved to JSON.\n"
     ]
    },
    {
     "name": "stderr",
     "output_type": "stream",
     "text": [
      " 43%|████▎     | 2696/6321 [3:38:24<10:16:06, 10.20s/it]"
     ]
    },
    {
     "name": "stdout",
     "output_type": "stream",
     "text": [
      "Extracted content from https://www.seattleu.edu/directory/profiles/mindy-hoover.php and saved to JSON.\n"
     ]
    },
    {
     "name": "stderr",
     "output_type": "stream",
     "text": [
      " 43%|████▎     | 2697/6321 [3:38:34<10:16:38, 10.21s/it]"
     ]
    },
    {
     "name": "stdout",
     "output_type": "stream",
     "text": [
      "Extracted content from https://www.seattleu.edu/directory/profiles/ming-feng.php and saved to JSON.\n"
     ]
    },
    {
     "name": "stderr",
     "output_type": "stream",
     "text": [
      " 43%|████▎     | 2698/6321 [3:38:44<10:15:21, 10.19s/it]"
     ]
    },
    {
     "name": "stdout",
     "output_type": "stream",
     "text": [
      "Extracted content from https://www.seattleu.edu/directory/profiles/minh-tam-nguyen.php and saved to JSON.\n"
     ]
    },
    {
     "name": "stderr",
     "output_type": "stream",
     "text": [
      " 43%|████▎     | 2699/6321 [3:38:54<10:15:10, 10.19s/it]"
     ]
    },
    {
     "name": "stdout",
     "output_type": "stream",
     "text": [
      "Extracted content from https://www.seattleu.edu/directory/profiles/mirette-aziz-mba-rdcs-rdms.php and saved to JSON.\n"
     ]
    },
    {
     "name": "stderr",
     "output_type": "stream",
     "text": [
      " 43%|████▎     | 2700/6321 [3:39:04<10:17:23, 10.23s/it]"
     ]
    },
    {
     "name": "stdout",
     "output_type": "stream",
     "text": [
      "Extracted content from https://www.seattleu.edu/directory/profiles/miriam-ayoub.php and saved to JSON.\n"
     ]
    },
    {
     "name": "stderr",
     "output_type": "stream",
     "text": [
      " 43%|████▎     | 2701/6321 [3:39:15<10:15:54, 10.21s/it]"
     ]
    },
    {
     "name": "stdout",
     "output_type": "stream",
     "text": [
      "Extracted content from https://www.seattleu.edu/directory/profiles/miriam-reed.php and saved to JSON.\n"
     ]
    },
    {
     "name": "stderr",
     "output_type": "stream",
     "text": [
      " 43%|████▎     | 2702/6321 [3:39:25<10:17:16, 10.23s/it]"
     ]
    },
    {
     "name": "stdout",
     "output_type": "stream",
     "text": [
      "Extracted content from https://www.seattleu.edu/directory/profiles/mishu-alemseged.php and saved to JSON.\n"
     ]
    },
    {
     "name": "stderr",
     "output_type": "stream",
     "text": [
      " 43%|████▎     | 2703/6321 [3:39:35<10:15:58, 10.22s/it]"
     ]
    },
    {
     "name": "stdout",
     "output_type": "stream",
     "text": [
      "Extracted content from https://www.seattleu.edu/directory/profiles/misuk-lee.php and saved to JSON.\n"
     ]
    },
    {
     "name": "stderr",
     "output_type": "stream",
     "text": [
      " 43%|████▎     | 2704/6321 [3:39:45<10:15:00, 10.20s/it]"
     ]
    },
    {
     "name": "stdout",
     "output_type": "stream",
     "text": [
      "Extracted content from https://www.seattleu.edu/directory/profiles/mitchell-adams.php and saved to JSON.\n"
     ]
    },
    {
     "name": "stderr",
     "output_type": "stream",
     "text": [
      " 43%|████▎     | 2705/6321 [3:39:55<10:14:09, 10.19s/it]"
     ]
    },
    {
     "name": "stdout",
     "output_type": "stream",
     "text": [
      "Extracted content from https://www.seattleu.edu/directory/profiles/mk-smith.php and saved to JSON.\n"
     ]
    },
    {
     "name": "stderr",
     "output_type": "stream",
     "text": [
      " 43%|████▎     | 2706/6321 [3:40:06<10:13:23, 10.18s/it]"
     ]
    },
    {
     "name": "stdout",
     "output_type": "stream",
     "text": [
      "Extracted content from https://www.seattleu.edu/directory/profiles/mo-kyung-sin-phd-rn-fgsa-faan.php and saved to JSON.\n"
     ]
    },
    {
     "name": "stderr",
     "output_type": "stream",
     "text": [
      " 43%|████▎     | 2707/6321 [3:40:16<10:13:27, 10.18s/it]"
     ]
    },
    {
     "name": "stdout",
     "output_type": "stream",
     "text": [
      "Extracted content from https://www.seattleu.edu/directory/profiles/mohammad-ail-hamoudi.php and saved to JSON.\n"
     ]
    },
    {
     "name": "stderr",
     "output_type": "stream",
     "text": [
      " 43%|████▎     | 2708/6321 [3:40:26<10:12:43, 10.18s/it]"
     ]
    },
    {
     "name": "stdout",
     "output_type": "stream",
     "text": [
      "Extracted content from https://www.seattleu.edu/directory/profiles/mohsen-dadfarnia-phd.php and saved to JSON.\n"
     ]
    },
    {
     "name": "stderr",
     "output_type": "stream",
     "text": [
      " 43%|████▎     | 2709/6321 [3:40:36<10:12:36, 10.18s/it]"
     ]
    },
    {
     "name": "stdout",
     "output_type": "stream",
     "text": [
      "Extracted content from https://www.seattleu.edu/directory/profiles/mollie-sharp-msn-dnp-student.php and saved to JSON.\n"
     ]
    },
    {
     "name": "stderr",
     "output_type": "stream",
     "text": [
      " 43%|████▎     | 2710/6321 [3:40:46<10:15:26, 10.23s/it]"
     ]
    },
    {
     "name": "stdout",
     "output_type": "stream",
     "text": [
      "Extracted content from https://www.seattleu.edu/directory/profiles/molly-countryman-med.php and saved to JSON.\n"
     ]
    },
    {
     "name": "stderr",
     "output_type": "stream",
     "text": [
      " 43%|████▎     | 2711/6321 [3:40:57<10:14:08, 10.21s/it]"
     ]
    },
    {
     "name": "stdout",
     "output_type": "stream",
     "text": [
      "Extracted content from https://www.seattleu.edu/directory/profiles/molly-cullen.php and saved to JSON.\n"
     ]
    },
    {
     "name": "stderr",
     "output_type": "stream",
     "text": [
      " 43%|████▎     | 2712/6321 [3:41:07<10:13:14, 10.20s/it]"
     ]
    },
    {
     "name": "stdout",
     "output_type": "stream",
     "text": [
      "Extracted content from https://www.seattleu.edu/directory/profiles/monica-scott.php and saved to JSON.\n"
     ]
    },
    {
     "name": "stderr",
     "output_type": "stream",
     "text": [
      " 43%|████▎     | 2713/6321 [3:41:17<10:12:30, 10.19s/it]"
     ]
    },
    {
     "name": "stdout",
     "output_type": "stream",
     "text": [
      "Extracted content from https://www.seattleu.edu/directory/profiles/monique-mcgaffeny.php and saved to JSON.\n"
     ]
    },
    {
     "name": "stderr",
     "output_type": "stream",
     "text": [
      " 43%|████▎     | 2714/6321 [3:41:27<10:12:06, 10.18s/it]"
     ]
    },
    {
     "name": "stdout",
     "output_type": "stream",
     "text": [
      "Extracted content from https://www.seattleu.edu/directory/profiles/morgan-frost.php and saved to JSON.\n"
     ]
    },
    {
     "name": "stderr",
     "output_type": "stream",
     "text": [
      " 43%|████▎     | 2715/6321 [3:41:37<10:11:27, 10.17s/it]"
     ]
    },
    {
     "name": "stdout",
     "output_type": "stream",
     "text": [
      "Extracted content from https://www.seattleu.edu/directory/profiles/moses-man.php and saved to JSON.\n"
     ]
    },
    {
     "name": "stderr",
     "output_type": "stream",
     "text": [
      " 43%|████▎     | 2716/6321 [3:41:47<10:11:12, 10.17s/it]"
     ]
    },
    {
     "name": "stdout",
     "output_type": "stream",
     "text": [
      "Extracted content from https://www.seattleu.edu/directory/profiles/naimah-muhammad.php and saved to JSON.\n"
     ]
    },
    {
     "name": "stderr",
     "output_type": "stream",
     "text": [
      " 43%|████▎     | 2717/6321 [3:41:58<10:10:39, 10.17s/it]"
     ]
    },
    {
     "name": "stdout",
     "output_type": "stream",
     "text": [
      "Extracted content from https://www.seattleu.edu/directory/profiles/nalini-iyer-phd.php and saved to JSON.\n"
     ]
    },
    {
     "name": "stderr",
     "output_type": "stream",
     "text": [
      " 43%|████▎     | 2718/6321 [3:42:08<10:13:13, 10.21s/it]"
     ]
    },
    {
     "name": "stdout",
     "output_type": "stream",
     "text": [
      "Extracted content from https://www.seattleu.edu/directory/profiles/nancy-lee.php and saved to JSON.\n"
     ]
    },
    {
     "name": "stderr",
     "output_type": "stream",
     "text": [
      " 43%|████▎     | 2719/6321 [3:42:18<10:12:22, 10.20s/it]"
     ]
    },
    {
     "name": "stdout",
     "output_type": "stream",
     "text": [
      "Extracted content from https://www.seattleu.edu/directory/profiles/nancy-zaragoza.php and saved to JSON.\n"
     ]
    },
    {
     "name": "stderr",
     "output_type": "stream",
     "text": [
      " 43%|████▎     | 2720/6321 [3:42:28<10:11:13, 10.18s/it]"
     ]
    },
    {
     "name": "stdout",
     "output_type": "stream",
     "text": [
      "Extracted content from https://www.seattleu.edu/directory/profiles/naoko-brown-phd.php and saved to JSON.\n"
     ]
    },
    {
     "name": "stderr",
     "output_type": "stream",
     "text": [
      " 43%|████▎     | 2721/6321 [3:42:38<10:10:25, 10.17s/it]"
     ]
    },
    {
     "name": "stdout",
     "output_type": "stream",
     "text": [
      "Extracted content from https://www.seattleu.edu/directory/profiles/naomi-hume-phd.php and saved to JSON.\n"
     ]
    },
    {
     "name": "stderr",
     "output_type": "stream",
     "text": [
      " 43%|████▎     | 2722/6321 [3:42:48<10:09:47, 10.17s/it]"
     ]
    },
    {
     "name": "stdout",
     "output_type": "stream",
     "text": [
      "Extracted content from https://www.seattleu.edu/directory/profiles/naomi-kasumi-mfa.php and saved to JSON.\n"
     ]
    },
    {
     "name": "stderr",
     "output_type": "stream",
     "text": [
      " 43%|████▎     | 2723/6321 [3:42:59<10:09:52, 10.17s/it]"
     ]
    },
    {
     "name": "stdout",
     "output_type": "stream",
     "text": [
      "Extracted content from https://www.seattleu.edu/directory/profiles/naomi-g-rosenberg.php and saved to JSON.\n"
     ]
    },
    {
     "name": "stderr",
     "output_type": "stream",
     "text": [
      " 43%|████▎     | 2724/6321 [3:43:09<10:09:24, 10.17s/it]"
     ]
    },
    {
     "name": "stdout",
     "output_type": "stream",
     "text": [
      "Extracted content from https://www.seattleu.edu/directory/profiles/natalia-garcia.php and saved to JSON.\n"
     ]
    },
    {
     "name": "stderr",
     "output_type": "stream",
     "text": [
      " 43%|████▎     | 2725/6321 [3:43:20<10:19:55, 10.34s/it]"
     ]
    },
    {
     "name": "stdout",
     "output_type": "stream",
     "text": [
      "Extracted content from https://www.seattleu.edu/directory/profiles/natalia-gunawan.php and saved to JSON.\n"
     ]
    },
    {
     "name": "stderr",
     "output_type": "stream",
     "text": [
      " 43%|████▎     | 2726/6321 [3:43:30<10:19:48, 10.34s/it]"
     ]
    },
    {
     "name": "stdout",
     "output_type": "stream",
     "text": [
      "Extracted content from https://www.seattleu.edu/directory/profiles/natalie-welch-phd.php and saved to JSON.\n"
     ]
    },
    {
     "name": "stderr",
     "output_type": "stream",
     "text": [
      " 43%|████▎     | 2727/6321 [3:43:40<10:16:28, 10.29s/it]"
     ]
    },
    {
     "name": "stdout",
     "output_type": "stream",
     "text": [
      "Extracted content from https://www.seattleu.edu/directory/profiles/natalie-wolff-tseng.php and saved to JSON.\n"
     ]
    },
    {
     "name": "stderr",
     "output_type": "stream",
     "text": [
      " 43%|████▎     | 2728/6321 [3:43:50<10:16:06, 10.29s/it]"
     ]
    },
    {
     "name": "stdout",
     "output_type": "stream",
     "text": [
      "Extracted content from https://www.seattleu.edu/directory/profiles/natasha-malyuk.php and saved to JSON.\n"
     ]
    },
    {
     "name": "stderr",
     "output_type": "stream",
     "text": [
      " 43%|████▎     | 2729/6321 [3:44:01<10:13:25, 10.25s/it]"
     ]
    },
    {
     "name": "stdout",
     "output_type": "stream",
     "text": [
      "Extracted content from https://www.seattleu.edu/directory/profiles/natasha-murphy.php and saved to JSON.\n"
     ]
    },
    {
     "name": "stderr",
     "output_type": "stream",
     "text": [
      " 43%|████▎     | 2730/6321 [3:44:11<10:12:24, 10.23s/it]"
     ]
    },
    {
     "name": "stdout",
     "output_type": "stream",
     "text": [
      "Extracted content from https://www.seattleu.edu/directory/profiles/natch-ohno.php and saved to JSON.\n"
     ]
    },
    {
     "name": "stderr",
     "output_type": "stream",
     "text": [
      " 43%|████▎     | 2731/6321 [3:44:21<10:10:56, 10.21s/it]"
     ]
    },
    {
     "name": "stdout",
     "output_type": "stream",
     "text": [
      "Extracted content from https://www.seattleu.edu/directory/profiles/nate-kremer-herman.php and saved to JSON.\n"
     ]
    },
    {
     "name": "stderr",
     "output_type": "stream",
     "text": [
      " 43%|████▎     | 2732/6321 [3:44:31<10:10:24, 10.20s/it]"
     ]
    },
    {
     "name": "stdout",
     "output_type": "stream",
     "text": [
      "Extracted content from https://www.seattleu.edu/directory/profiles/nathan-daligcon.php and saved to JSON.\n"
     ]
    },
    {
     "name": "stderr",
     "output_type": "stream",
     "text": [
      " 43%|████▎     | 2733/6321 [3:44:41<10:09:56, 10.20s/it]"
     ]
    },
    {
     "name": "stdout",
     "output_type": "stream",
     "text": [
      "Extracted content from https://www.seattleu.edu/directory/profiles/nathan-gregory.php and saved to JSON.\n"
     ]
    },
    {
     "name": "stderr",
     "output_type": "stream",
     "text": [
      " 43%|████▎     | 2734/6321 [3:44:51<10:09:36, 10.20s/it]"
     ]
    },
    {
     "name": "stdout",
     "output_type": "stream",
     "text": [
      "Extracted content from https://www.seattleu.edu/directory/profiles/nathaniel-wolk.php and saved to JSON.\n"
     ]
    },
    {
     "name": "stderr",
     "output_type": "stream",
     "text": [
      " 43%|████▎     | 2735/6321 [3:45:02<10:08:57, 10.19s/it]"
     ]
    },
    {
     "name": "stdout",
     "output_type": "stream",
     "text": [
      "Extracted content from https://www.seattleu.edu/directory/profiles/nazario-visaya.php and saved to JSON.\n"
     ]
    },
    {
     "name": "stderr",
     "output_type": "stream",
     "text": [
      " 43%|████▎     | 2736/6321 [3:45:12<10:10:55, 10.22s/it]"
     ]
    },
    {
     "name": "stdout",
     "output_type": "stream",
     "text": [
      "Extracted content from https://www.seattleu.edu/directory/profiles/neil-griffith.php and saved to JSON.\n"
     ]
    },
    {
     "name": "stderr",
     "output_type": "stream",
     "text": [
      " 43%|████▎     | 2737/6321 [3:45:22<10:09:48, 10.21s/it]"
     ]
    },
    {
     "name": "stdout",
     "output_type": "stream",
     "text": [
      "Extracted content from https://www.seattleu.edu/directory/profiles/nel-sea.php and saved to JSON.\n"
     ]
    },
    {
     "name": "stderr",
     "output_type": "stream",
     "text": [
      " 43%|████▎     | 2738/6321 [3:45:32<10:09:04, 10.20s/it]"
     ]
    },
    {
     "name": "stdout",
     "output_type": "stream",
     "text": [
      "Extracted content from https://www.seattleu.edu/directory/profiles/nicholas-allen.php and saved to JSON.\n"
     ]
    },
    {
     "name": "stderr",
     "output_type": "stream",
     "text": [
      " 43%|████▎     | 2739/6321 [3:45:42<10:07:56, 10.18s/it]"
     ]
    },
    {
     "name": "stdout",
     "output_type": "stream",
     "text": [
      "Extracted content from https://www.seattleu.edu/directory/profiles/nicholas-cubita.php and saved to JSON.\n"
     ]
    },
    {
     "name": "stderr",
     "output_type": "stream",
     "text": [
      " 43%|████▎     | 2740/6321 [3:45:53<10:07:17, 10.18s/it]"
     ]
    },
    {
     "name": "stdout",
     "output_type": "stream",
     "text": [
      "Extracted content from https://www.seattleu.edu/directory/profiles/nick-forro-mba.php and saved to JSON.\n"
     ]
    },
    {
     "name": "stderr",
     "output_type": "stream",
     "text": [
      " 43%|████▎     | 2741/6321 [3:46:03<10:07:13, 10.18s/it]"
     ]
    },
    {
     "name": "stdout",
     "output_type": "stream",
     "text": [
      "Extracted content from https://www.seattleu.edu/directory/profiles/nick-huntington-klein-phd.php and saved to JSON.\n"
     ]
    },
    {
     "name": "stderr",
     "output_type": "stream",
     "text": [
      " 43%|████▎     | 2742/6321 [3:46:13<10:06:46, 10.17s/it]"
     ]
    },
    {
     "name": "stdout",
     "output_type": "stream",
     "text": [
      "Extracted content from https://www.seattleu.edu/directory/profiles/nicholas-porter.php and saved to JSON.\n"
     ]
    },
    {
     "name": "stderr",
     "output_type": "stream",
     "text": [
      " 43%|████▎     | 2743/6321 [3:46:23<10:06:14, 10.17s/it]"
     ]
    },
    {
     "name": "stdout",
     "output_type": "stream",
     "text": [
      "Extracted content from https://www.seattleu.edu/directory/profiles/nicholas-stubbs.php and saved to JSON.\n"
     ]
    },
    {
     "name": "stderr",
     "output_type": "stream",
     "text": [
      " 43%|████▎     | 2744/6321 [3:46:33<10:07:33, 10.19s/it]"
     ]
    },
    {
     "name": "stdout",
     "output_type": "stream",
     "text": [
      "Extracted content from https://www.seattleu.edu/directory/profiles/nicholas-tamarkin-phd-mfa.php and saved to JSON.\n"
     ]
    },
    {
     "name": "stderr",
     "output_type": "stream",
     "text": [
      " 43%|████▎     | 2745/6321 [3:46:43<10:06:57, 10.18s/it]"
     ]
    },
    {
     "name": "stdout",
     "output_type": "stream",
     "text": [
      "Extracted content from https://www.seattleu.edu/directory/profiles/nick-ames.php and saved to JSON.\n"
     ]
    },
    {
     "name": "stderr",
     "output_type": "stream",
     "text": [
      " 43%|████▎     | 2746/6321 [3:46:54<10:06:40, 10.18s/it]"
     ]
    },
    {
     "name": "stdout",
     "output_type": "stream",
     "text": [
      "Extracted content from https://www.seattleu.edu/directory/profiles/nick-handy.php and saved to JSON.\n"
     ]
    },
    {
     "name": "stderr",
     "output_type": "stream",
     "text": [
      " 43%|████▎     | 2747/6321 [3:47:04<10:06:48, 10.19s/it]"
     ]
    },
    {
     "name": "stdout",
     "output_type": "stream",
     "text": [
      "Extracted content from https://www.seattleu.edu/directory/profiles/nicole-hoyes-wilson.php and saved to JSON.\n"
     ]
    },
    {
     "name": "stderr",
     "output_type": "stream",
     "text": [
      " 43%|████▎     | 2748/6321 [3:47:14<10:06:13, 10.18s/it]"
     ]
    },
    {
     "name": "stdout",
     "output_type": "stream",
     "text": [
      "Extracted content from https://www.seattleu.edu/directory/profiles/nicole-jennings.php and saved to JSON.\n"
     ]
    },
    {
     "name": "stderr",
     "output_type": "stream",
     "text": [
      " 43%|████▎     | 2749/6321 [3:47:24<10:05:42, 10.17s/it]"
     ]
    },
    {
     "name": "stdout",
     "output_type": "stream",
     "text": [
      "Extracted content from https://www.seattleu.edu/directory/profiles/nikki-golden-phd-lmft-sudp-mac-cmhs.php and saved to JSON.\n"
     ]
    },
    {
     "name": "stderr",
     "output_type": "stream",
     "text": [
      " 44%|████▎     | 2750/6321 [3:47:34<10:05:30, 10.17s/it]"
     ]
    },
    {
     "name": "stdout",
     "output_type": "stream",
     "text": [
      "Extracted content from https://www.seattleu.edu/directory/profiles/nikkita-oliver.php and saved to JSON.\n"
     ]
    },
    {
     "name": "stderr",
     "output_type": "stream",
     "text": [
      " 44%|████▎     | 2751/6321 [3:47:45<10:05:06, 10.17s/it]"
     ]
    },
    {
     "name": "stdout",
     "output_type": "stream",
     "text": [
      "Extracted content from https://www.seattleu.edu/directory/profiles/nikolas-medenas.php and saved to JSON.\n"
     ]
    },
    {
     "name": "stderr",
     "output_type": "stream",
     "text": [
      " 44%|████▎     | 2752/6321 [3:47:55<10:07:19, 10.21s/it]"
     ]
    },
    {
     "name": "stdout",
     "output_type": "stream",
     "text": [
      "Extracted content from https://www.seattleu.edu/directory/profiles/nina-valerio.php and saved to JSON.\n"
     ]
    },
    {
     "name": "stderr",
     "output_type": "stream",
     "text": [
      " 44%|████▎     | 2753/6321 [3:48:05<10:06:30, 10.20s/it]"
     ]
    },
    {
     "name": "stdout",
     "output_type": "stream",
     "text": [
      "Extracted content from https://www.seattleu.edu/directory/profiles/niranjan-chips-chipalkatti.php and saved to JSON.\n"
     ]
    },
    {
     "name": "stderr",
     "output_type": "stream",
     "text": [
      " 44%|████▎     | 2754/6321 [3:48:15<10:05:52, 10.19s/it]"
     ]
    },
    {
     "name": "stdout",
     "output_type": "stream",
     "text": [
      "Extracted content from https://www.seattleu.edu/directory/profiles/nirmala-gnanapragasam-phd-pe.php and saved to JSON.\n"
     ]
    },
    {
     "name": "stderr",
     "output_type": "stream",
     "text": [
      " 44%|████▎     | 2755/6321 [3:48:25<10:05:10, 10.18s/it]"
     ]
    },
    {
     "name": "stdout",
     "output_type": "stream",
     "text": [
      "Extracted content from https://www.seattleu.edu/directory/profiles/nisha-nathani.php and saved to JSON.\n"
     ]
    },
    {
     "name": "stderr",
     "output_type": "stream",
     "text": [
      " 44%|████▎     | 2756/6321 [3:48:35<10:04:23, 10.17s/it]"
     ]
    },
    {
     "name": "stdout",
     "output_type": "stream",
     "text": [
      "Extracted content from https://www.seattleu.edu/directory/profiles/nobuko-horikawa-phd.php and saved to JSON.\n"
     ]
    },
    {
     "name": "stderr",
     "output_type": "stream",
     "text": [
      " 44%|████▎     | 2757/6321 [3:48:46<10:05:09, 10.19s/it]"
     ]
    },
    {
     "name": "stdout",
     "output_type": "stream",
     "text": [
      "Extracted content from https://www.seattleu.edu/directory/profiles/nodia-rogers.php and saved to JSON.\n"
     ]
    },
    {
     "name": "stderr",
     "output_type": "stream",
     "text": [
      " 44%|████▎     | 2758/6321 [3:48:56<10:04:19, 10.18s/it]"
     ]
    },
    {
     "name": "stdout",
     "output_type": "stream",
     "text": [
      "Extracted content from https://www.seattleu.edu/directory/profiles/nora-maza.php and saved to JSON.\n"
     ]
    },
    {
     "name": "stderr",
     "output_type": "stream",
     "text": [
      " 44%|████▎     | 2759/6321 [3:49:06<10:03:52, 10.17s/it]"
     ]
    },
    {
     "name": "stdout",
     "output_type": "stream",
     "text": [
      "Extracted content from https://www.seattleu.edu/directory/profiles/noreen-elbert-edd.php and saved to JSON.\n"
     ]
    },
    {
     "name": "stderr",
     "output_type": "stream",
     "text": [
      " 44%|████▎     | 2760/6321 [3:49:16<10:07:39, 10.24s/it]"
     ]
    },
    {
     "name": "stdout",
     "output_type": "stream",
     "text": [
      "Extracted content from https://www.seattleu.edu/directory/profiles/norma-fuentes.php and saved to JSON.\n"
     ]
    },
    {
     "name": "stderr",
     "output_type": "stream",
     "text": [
      " 44%|████▎     | 2761/6321 [3:49:27<10:05:53, 10.21s/it]"
     ]
    },
    {
     "name": "stdout",
     "output_type": "stream",
     "text": [
      "Extracted content from https://www.seattleu.edu/directory/profiles/nova-robinson.php and saved to JSON.\n"
     ]
    },
    {
     "name": "stderr",
     "output_type": "stream",
     "text": [
      " 44%|████▎     | 2762/6321 [3:49:37<10:04:53, 10.20s/it]"
     ]
    },
    {
     "name": "stdout",
     "output_type": "stream",
     "text": [
      "Extracted content from https://www.seattleu.edu/directory/profiles/olha-krupa-phd.php and saved to JSON.\n"
     ]
    },
    {
     "name": "stderr",
     "output_type": "stream",
     "text": [
      " 44%|████▎     | 2763/6321 [3:49:47<10:04:41, 10.20s/it]"
     ]
    },
    {
     "name": "stdout",
     "output_type": "stream",
     "text": [
      "Extracted content from https://www.seattleu.edu/directory/profiles/olin-morris.php and saved to JSON.\n"
     ]
    },
    {
     "name": "stderr",
     "output_type": "stream",
     "text": [
      " 44%|████▎     | 2764/6321 [3:49:57<10:04:14, 10.19s/it]"
     ]
    },
    {
     "name": "stdout",
     "output_type": "stream",
     "text": [
      "Extracted content from https://www.seattleu.edu/directory/profiles/olivia-szendey.php and saved to JSON.\n"
     ]
    },
    {
     "name": "stderr",
     "output_type": "stream",
     "text": [
      " 44%|████▎     | 2765/6321 [3:50:07<10:04:01, 10.19s/it]"
     ]
    },
    {
     "name": "stdout",
     "output_type": "stream",
     "text": [
      "Extracted content from https://www.seattleu.edu/directory/profiles/onur-bakiner-phd.php and saved to JSON.\n"
     ]
    },
    {
     "name": "stderr",
     "output_type": "stream",
     "text": [
      " 44%|████▍     | 2766/6321 [3:50:17<10:03:34, 10.19s/it]"
     ]
    },
    {
     "name": "stdout",
     "output_type": "stream",
     "text": [
      "Extracted content from https://www.seattleu.edu/directory/profiles/owen-stevens.php and saved to JSON.\n"
     ]
    },
    {
     "name": "stderr",
     "output_type": "stream",
     "text": [
      " 44%|████▍     | 2767/6321 [3:50:28<10:03:08, 10.18s/it]"
     ]
    },
    {
     "name": "stdout",
     "output_type": "stream",
     "text": [
      "Extracted content from https://www.seattleu.edu/directory/profiles/sven-arvidson-phd.php and saved to JSON.\n"
     ]
    },
    {
     "name": "stderr",
     "output_type": "stream",
     "text": [
      " 44%|████▍     | 2768/6321 [3:50:38<10:04:57, 10.22s/it]"
     ]
    },
    {
     "name": "stdout",
     "output_type": "stream",
     "text": [
      "Extracted content from https://www.seattleu.edu/directory/profiles/pablo-lopez-lotero.php and saved to JSON.\n"
     ]
    },
    {
     "name": "stderr",
     "output_type": "stream",
     "text": [
      " 44%|████▍     | 2769/6321 [3:50:48<10:03:53, 10.20s/it]"
     ]
    },
    {
     "name": "stdout",
     "output_type": "stream",
     "text": [
      "Extracted content from https://www.seattleu.edu/directory/profiles/paige-gardner-phd.php and saved to JSON.\n"
     ]
    },
    {
     "name": "stderr",
     "output_type": "stream",
     "text": [
      " 44%|████▍     | 2770/6321 [3:50:58<10:02:54, 10.19s/it]"
     ]
    },
    {
     "name": "stdout",
     "output_type": "stream",
     "text": [
      "Extracted content from https://www.seattleu.edu/directory/profiles/paige-powers-mba.php and saved to JSON.\n"
     ]
    },
    {
     "name": "stderr",
     "output_type": "stream",
     "text": [
      " 44%|████▍     | 2771/6321 [3:51:08<10:02:05, 10.18s/it]"
     ]
    },
    {
     "name": "stdout",
     "output_type": "stream",
     "text": [
      "Extracted content from https://www.seattleu.edu/directory/profiles/pamela-christensen-mn-arnp-accns-p-rn-bc-cpn.php and saved to JSON.\n"
     ]
    },
    {
     "name": "stderr",
     "output_type": "stream",
     "text": [
      " 44%|████▍     | 2772/6321 [3:51:19<10:01:53, 10.18s/it]"
     ]
    },
    {
     "name": "stdout",
     "output_type": "stream",
     "text": [
      "Extracted content from https://www.seattleu.edu/directory/profiles/pamela-taylor.php and saved to JSON.\n"
     ]
    },
    {
     "name": "stderr",
     "output_type": "stream",
     "text": [
      " 44%|████▍     | 2773/6321 [3:51:29<10:01:14, 10.17s/it]"
     ]
    },
    {
     "name": "stdout",
     "output_type": "stream",
     "text": [
      "Extracted content from https://www.seattleu.edu/directory/profiles/pandurang-rao.php and saved to JSON.\n"
     ]
    },
    {
     "name": "stderr",
     "output_type": "stream",
     "text": [
      " 44%|████▍     | 2774/6321 [3:51:39<10:01:05, 10.17s/it]"
     ]
    },
    {
     "name": "stdout",
     "output_type": "stream",
     "text": [
      "Extracted content from https://www.seattleu.edu/directory/profiles/pao-yin-huang-phd.php and saved to JSON.\n"
     ]
    },
    {
     "name": "stderr",
     "output_type": "stream",
     "text": [
      " 44%|████▍     | 2775/6321 [3:51:49<10:00:28, 10.16s/it]"
     ]
    },
    {
     "name": "stdout",
     "output_type": "stream",
     "text": [
      "Extracted content from https://www.seattleu.edu/directory/profiles/patricia-cleary.php and saved to JSON.\n"
     ]
    },
    {
     "name": "stderr",
     "output_type": "stream",
     "text": [
      " 44%|████▍     | 2776/6321 [3:51:59<10:02:39, 10.20s/it]"
     ]
    },
    {
     "name": "stdout",
     "output_type": "stream",
     "text": [
      "Extracted content from https://www.seattleu.edu/directory/profiles/patricia-daniels.php and saved to JSON.\n"
     ]
    },
    {
     "name": "stderr",
     "output_type": "stream",
     "text": [
      " 44%|████▍     | 2777/6321 [3:52:09<10:01:24, 10.18s/it]"
     ]
    },
    {
     "name": "stdout",
     "output_type": "stream",
     "text": [
      "Extracted content from https://www.seattleu.edu/directory/profiles/patricia-lally.php and saved to JSON.\n"
     ]
    },
    {
     "name": "stderr",
     "output_type": "stream",
     "text": [
      " 44%|████▍     | 2778/6321 [3:52:20<10:00:55, 10.18s/it]"
     ]
    },
    {
     "name": "stdout",
     "output_type": "stream",
     "text": [
      "Extracted content from https://www.seattleu.edu/directory/profiles/patricia-wetherby.php and saved to JSON.\n"
     ]
    },
    {
     "name": "stderr",
     "output_type": "stream",
     "text": [
      " 44%|████▍     | 2779/6321 [3:52:30<10:00:30, 10.17s/it]"
     ]
    },
    {
     "name": "stdout",
     "output_type": "stream",
     "text": [
      "Extracted content from https://www.seattleu.edu/directory/profiles/patricia-wright.php and saved to JSON.\n"
     ]
    },
    {
     "name": "stderr",
     "output_type": "stream",
     "text": [
      " 44%|████▍     | 2780/6321 [3:52:40<9:59:52, 10.16s/it] "
     ]
    },
    {
     "name": "stdout",
     "output_type": "stream",
     "text": [
      "Extracted content from https://www.seattleu.edu/directory/profiles/patrick-baldwin-mccurdy.php and saved to JSON.\n"
     ]
    },
    {
     "name": "stderr",
     "output_type": "stream",
     "text": [
      " 44%|████▍     | 2781/6321 [3:52:50<10:00:15, 10.17s/it]"
     ]
    },
    {
     "name": "stdout",
     "output_type": "stream",
     "text": [
      "Extracted content from https://www.seattleu.edu/directory/profiles/patrick-brown.php and saved to JSON.\n"
     ]
    },
    {
     "name": "stderr",
     "output_type": "stream",
     "text": [
      " 44%|████▍     | 2782/6321 [3:53:00<9:59:51, 10.17s/it] "
     ]
    },
    {
     "name": "stdout",
     "output_type": "stream",
     "text": [
      "Extracted content from https://www.seattleu.edu/directory/profiles/patrick-chiarelli.php and saved to JSON.\n"
     ]
    },
    {
     "name": "stderr",
     "output_type": "stream",
     "text": [
      " 44%|████▍     | 2783/6321 [3:53:10<9:59:24, 10.17s/it]"
     ]
    },
    {
     "name": "stdout",
     "output_type": "stream",
     "text": [
      "Extracted content from https://www.seattleu.edu/directory/profiles/patrick-fleenor.php and saved to JSON.\n"
     ]
    },
    {
     "name": "stderr",
     "output_type": "stream",
     "text": [
      " 44%|████▍     | 2784/6321 [3:53:21<10:01:50, 10.21s/it]"
     ]
    },
    {
     "name": "stdout",
     "output_type": "stream",
     "text": [
      "Extracted content from https://www.seattleu.edu/directory/profiles/patrick-jm-murphy-phd.php and saved to JSON.\n"
     ]
    },
    {
     "name": "stderr",
     "output_type": "stream",
     "text": [
      " 44%|████▍     | 2785/6321 [3:53:31<10:00:34, 10.19s/it]"
     ]
    },
    {
     "name": "stdout",
     "output_type": "stream",
     "text": [
      "Extracted content from https://www.seattleu.edu/directory/profiles/patrick-l-schoettmer-phd.php and saved to JSON.\n"
     ]
    },
    {
     "name": "stderr",
     "output_type": "stream",
     "text": [
      " 44%|████▍     | 2786/6321 [3:53:41<9:59:50, 10.18s/it] "
     ]
    },
    {
     "name": "stdout",
     "output_type": "stream",
     "text": [
      "Extracted content from https://www.seattleu.edu/directory/profiles/patrick-twohy-sj.php and saved to JSON.\n"
     ]
    },
    {
     "name": "stderr",
     "output_type": "stream",
     "text": [
      " 44%|████▍     | 2787/6321 [3:53:51<9:59:22, 10.18s/it]"
     ]
    },
    {
     "name": "stdout",
     "output_type": "stream",
     "text": [
      "Extracted content from https://www.seattleu.edu/directory/profiles/paul-h-carlson-mdiv.php and saved to JSON.\n"
     ]
    },
    {
     "name": "stderr",
     "output_type": "stream",
     "text": [
      " 44%|████▍     | 2788/6321 [3:54:01<9:58:52, 10.17s/it]"
     ]
    },
    {
     "name": "stdout",
     "output_type": "stream",
     "text": [
      "Extracted content from https://www.seattleu.edu/directory/profiles/paul-fontana-phd.php and saved to JSON.\n"
     ]
    },
    {
     "name": "stderr",
     "output_type": "stream",
     "text": [
      " 44%|████▍     | 2789/6321 [3:54:12<9:58:23, 10.17s/it]"
     ]
    },
    {
     "name": "stdout",
     "output_type": "stream",
     "text": [
      "Extracted content from https://www.seattleu.edu/directory/profiles/paul-holland.php and saved to JSON.\n"
     ]
    },
    {
     "name": "stderr",
     "output_type": "stream",
     "text": [
      " 44%|████▍     | 2790/6321 [3:54:22<9:57:58, 10.16s/it]"
     ]
    },
    {
     "name": "stdout",
     "output_type": "stream",
     "text": [
      "Extracted content from https://www.seattleu.edu/directory/profiles/paul-c-humphrey-phd.php and saved to JSON.\n"
     ]
    },
    {
     "name": "stderr",
     "output_type": "stream",
     "text": [
      " 44%|████▍     | 2791/6321 [3:54:32<9:57:49, 10.16s/it]"
     ]
    },
    {
     "name": "stdout",
     "output_type": "stream",
     "text": [
      "Extracted content from https://www.seattleu.edu/directory/profiles/paul-janowiak-sj.php and saved to JSON.\n"
     ]
    },
    {
     "name": "stderr",
     "output_type": "stream",
     "text": [
      " 44%|████▍     | 2792/6321 [3:54:42<10:00:28, 10.21s/it]"
     ]
    },
    {
     "name": "stdout",
     "output_type": "stream",
     "text": [
      "Extracted content from https://www.seattleu.edu/directory/profiles/paul-kidder-phd.php and saved to JSON.\n"
     ]
    },
    {
     "name": "stderr",
     "output_type": "stream",
     "text": [
      " 44%|████▍     | 2793/6321 [3:54:52<10:00:08, 10.21s/it]"
     ]
    },
    {
     "name": "stdout",
     "output_type": "stream",
     "text": [
      "Extracted content from https://www.seattleu.edu/directory/profiles/paul-kurose.php and saved to JSON.\n"
     ]
    },
    {
     "name": "stderr",
     "output_type": "stream",
     "text": [
      " 44%|████▍     | 2794/6321 [3:55:03<9:59:11, 10.19s/it] "
     ]
    },
    {
     "name": "stdout",
     "output_type": "stream",
     "text": [
      "Extracted content from https://www.seattleu.edu/directory/profiles/paul-neudorfer-phd.php and saved to JSON.\n"
     ]
    },
    {
     "name": "stderr",
     "output_type": "stream",
     "text": [
      " 44%|████▍     | 2795/6321 [3:55:13<9:58:00, 10.18s/it]"
     ]
    },
    {
     "name": "stdout",
     "output_type": "stream",
     "text": [
      "Extracted content from https://www.seattleu.edu/directory/profiles/paul-swegle.php and saved to JSON.\n"
     ]
    },
    {
     "name": "stderr",
     "output_type": "stream",
     "text": [
      " 44%|████▍     | 2796/6321 [3:55:23<9:57:30, 10.17s/it]"
     ]
    },
    {
     "name": "stdout",
     "output_type": "stream",
     "text": [
      "Extracted content from https://www.seattleu.edu/directory/profiles/paula-emery.php and saved to JSON.\n"
     ]
    },
    {
     "name": "stderr",
     "output_type": "stream",
     "text": [
      " 44%|████▍     | 2797/6321 [3:55:33<9:57:26, 10.17s/it]"
     ]
    },
    {
     "name": "stdout",
     "output_type": "stream",
     "text": [
      "Extracted content from https://www.seattleu.edu/directory/profiles/paula-enguidanos.php and saved to JSON.\n"
     ]
    },
    {
     "name": "stderr",
     "output_type": "stream",
     "text": [
      " 44%|████▍     | 2798/6321 [3:55:43<9:57:10, 10.17s/it]"
     ]
    },
    {
     "name": "stdout",
     "output_type": "stream",
     "text": [
      "Extracted content from https://www.seattleu.edu/directory/profiles/paula-fitzgerald-boos-ma.php and saved to JSON.\n"
     ]
    },
    {
     "name": "stderr",
     "output_type": "stream",
     "text": [
      " 44%|████▍     | 2799/6321 [3:55:53<9:58:12, 10.19s/it]"
     ]
    },
    {
     "name": "stdout",
     "output_type": "stream",
     "text": [
      "Extracted content from https://www.seattleu.edu/directory/profiles/paula-lustbader.php and saved to JSON.\n"
     ]
    },
    {
     "name": "stderr",
     "output_type": "stream",
     "text": [
      " 44%|████▍     | 2800/6321 [3:56:04<9:59:11, 10.21s/it]"
     ]
    },
    {
     "name": "stdout",
     "output_type": "stream",
     "text": [
      "Extracted content from https://www.seattleu.edu/directory/profiles/paulette-kidder-phd.php and saved to JSON.\n"
     ]
    },
    {
     "name": "stderr",
     "output_type": "stream",
     "text": [
      " 44%|████▍     | 2801/6321 [3:56:15<10:12:14, 10.44s/it]"
     ]
    },
    {
     "name": "stdout",
     "output_type": "stream",
     "text": [
      "Extracted content from https://www.seattleu.edu/directory/profiles/peggy-fine.php and saved to JSON.\n"
     ]
    },
    {
     "name": "stderr",
     "output_type": "stream",
     "text": [
      " 44%|████▍     | 2802/6321 [3:56:25<10:07:33, 10.36s/it]"
     ]
    },
    {
     "name": "stdout",
     "output_type": "stream",
     "text": [
      "Extracted content from https://www.seattleu.edu/directory/profiles/pejman-khadivi-phd.php and saved to JSON.\n"
     ]
    },
    {
     "name": "stderr",
     "output_type": "stream",
     "text": [
      " 44%|████▍     | 2803/6321 [3:56:35<10:03:59, 10.30s/it]"
     ]
    },
    {
     "name": "stdout",
     "output_type": "stream",
     "text": [
      "Extracted content from https://www.seattleu.edu/directory/profiles/pema-thikhangtsang.php and saved to JSON.\n"
     ]
    },
    {
     "name": "stderr",
     "output_type": "stream",
     "text": [
      " 44%|████▍     | 2804/6321 [3:56:45<10:01:26, 10.26s/it]"
     ]
    },
    {
     "name": "stdout",
     "output_type": "stream",
     "text": [
      "Extracted content from https://www.seattleu.edu/directory/profiles/penelope-koch-patterson.php and saved to JSON.\n"
     ]
    },
    {
     "name": "stderr",
     "output_type": "stream",
     "text": [
      " 44%|████▍     | 2805/6321 [3:56:55<9:59:39, 10.23s/it] "
     ]
    },
    {
     "name": "stdout",
     "output_type": "stream",
     "text": [
      "Extracted content from https://www.seattleu.edu/directory/profiles/percy-chien.php and saved to JSON.\n"
     ]
    },
    {
     "name": "stderr",
     "output_type": "stream",
     "text": [
      " 44%|████▍     | 2807/6321 [3:57:16<9:56:06, 10.18s/it]"
     ]
    },
    {
     "name": "stdout",
     "output_type": "stream",
     "text": [
      "Error processing https:www.seattleu.edu/directory/profiles/perry-bechky.php: HTTP Error 504: Gateway Time-out\n",
      "Extracted content from https://www.seattleu.edu/directory/profiles/peter-brous-phd.php and saved to JSON.\n"
     ]
    },
    {
     "name": "stderr",
     "output_type": "stream",
     "text": [
      " 44%|████▍     | 2808/6321 [3:57:26<9:59:34, 10.24s/it]"
     ]
    },
    {
     "name": "stdout",
     "output_type": "stream",
     "text": [
      "Extracted content from https://www.seattleu.edu/directory/profiles/peter-a-collins-phd.php and saved to JSON.\n"
     ]
    },
    {
     "name": "stderr",
     "output_type": "stream",
     "text": [
      " 44%|████▍     | 2809/6321 [3:57:43<11:56:07, 12.23s/it]"
     ]
    },
    {
     "name": "stdout",
     "output_type": "stream",
     "text": [
      "Extracted content from https://www.seattleu.edu/directory/profiles/peter-houck.php and saved to JSON.\n"
     ]
    },
    {
     "name": "stderr",
     "output_type": "stream",
     "text": [
      " 44%|████▍     | 2810/6321 [3:57:53<11:20:40, 11.63s/it]"
     ]
    },
    {
     "name": "stdout",
     "output_type": "stream",
     "text": [
      "Extracted content from https://www.seattleu.edu/directory/profiles/peter-larson.php and saved to JSON.\n"
     ]
    },
    {
     "name": "stderr",
     "output_type": "stream",
     "text": [
      " 44%|████▍     | 2811/6321 [3:58:03<10:54:44, 11.19s/it]"
     ]
    },
    {
     "name": "stdout",
     "output_type": "stream",
     "text": [
      "Extracted content from https://www.seattleu.edu/directory/profiles/peter-mazzone.php and saved to JSON.\n"
     ]
    },
    {
     "name": "stderr",
     "output_type": "stream",
     "text": [
      " 44%|████▍     | 2812/6321 [3:58:13<10:36:05, 10.88s/it]"
     ]
    },
    {
     "name": "stdout",
     "output_type": "stream",
     "text": [
      "Extracted content from https://www.seattleu.edu/directory/profiles/peter-raven.php and saved to JSON.\n"
     ]
    },
    {
     "name": "stderr",
     "output_type": "stream",
     "text": [
      " 45%|████▍     | 2813/6321 [3:58:24<10:23:23, 10.66s/it]"
     ]
    },
    {
     "name": "stdout",
     "output_type": "stream",
     "text": [
      "Extracted content from https://www.seattleu.edu/directory/profiles/peter-rowan-mba-ma.php and saved to JSON.\n"
     ]
    },
    {
     "name": "stderr",
     "output_type": "stream",
     "text": [
      " 45%|████▍     | 2814/6321 [3:58:34<10:14:36, 10.52s/it]"
     ]
    },
    {
     "name": "stdout",
     "output_type": "stream",
     "text": [
      "Extracted content from https://www.seattleu.edu/directory/profiles/philip-barclift-phd.php and saved to JSON.\n"
     ]
    },
    {
     "name": "stderr",
     "output_type": "stream",
     "text": [
      " 45%|████▍     | 2815/6321 [3:58:44<10:08:35, 10.42s/it]"
     ]
    },
    {
     "name": "stdout",
     "output_type": "stream",
     "text": [
      "Extracted content from https://www.seattleu.edu/directory/profiles/philip-orlow.php and saved to JSON.\n"
     ]
    },
    {
     "name": "stderr",
     "output_type": "stream",
     "text": [
      " 45%|████▍     | 2816/6321 [3:58:54<10:03:57, 10.34s/it]"
     ]
    },
    {
     "name": "stdout",
     "output_type": "stream",
     "text": [
      "Extracted content from https://www.seattleu.edu/directory/profiles/phillip-thompson-phd-pe.php and saved to JSON.\n"
     ]
    },
    {
     "name": "stderr",
     "output_type": "stream",
     "text": [
      " 45%|████▍     | 2817/6321 [3:59:04<10:00:32, 10.28s/it]"
     ]
    },
    {
     "name": "stdout",
     "output_type": "stream",
     "text": [
      "Extracted content from https://www.seattleu.edu/directory/profiles/pilar-escontrias.php and saved to JSON.\n"
     ]
    },
    {
     "name": "stderr",
     "output_type": "stream",
     "text": [
      " 45%|████▍     | 2818/6321 [3:59:15<10:00:16, 10.28s/it]"
     ]
    },
    {
     "name": "stdout",
     "output_type": "stream",
     "text": [
      "Extracted content from https://www.seattleu.edu/directory/profiles/pj-alaimo-phd.php and saved to JSON.\n"
     ]
    },
    {
     "name": "stderr",
     "output_type": "stream",
     "text": [
      " 45%|████▍     | 2819/6321 [3:59:25<9:58:12, 10.25s/it] "
     ]
    },
    {
     "name": "stdout",
     "output_type": "stream",
     "text": [
      "Extracted content from https://www.seattleu.edu/directory/profiles/prerna-juneja.php and saved to JSON.\n"
     ]
    },
    {
     "name": "stderr",
     "output_type": "stream",
     "text": [
      " 45%|████▍     | 2820/6321 [3:59:35<9:56:20, 10.22s/it]"
     ]
    },
    {
     "name": "stdout",
     "output_type": "stream",
     "text": [
      "Extracted content from https://www.seattleu.edu/directory/profiles/peder-punsalan-teigen.php and saved to JSON.\n"
     ]
    },
    {
     "name": "stderr",
     "output_type": "stream",
     "text": [
      " 45%|████▍     | 2821/6321 [3:59:45<9:55:13, 10.20s/it]"
     ]
    },
    {
     "name": "stdout",
     "output_type": "stream",
     "text": [
      "Extracted content from https://www.seattleu.edu/directory/profiles/quentin-dupont.php and saved to JSON.\n"
     ]
    },
    {
     "name": "stderr",
     "output_type": "stream",
     "text": [
      " 45%|████▍     | 2822/6321 [3:59:55<9:54:50, 10.20s/it]"
     ]
    },
    {
     "name": "stdout",
     "output_type": "stream",
     "text": [
      "Extracted content from https://www.seattleu.edu/directory/profiles/quinton-morris-dma.php and saved to JSON.\n"
     ]
    },
    {
     "name": "stderr",
     "output_type": "stream",
     "text": [
      " 45%|████▍     | 2823/6321 [4:00:05<9:53:53, 10.19s/it]"
     ]
    },
    {
     "name": "stdout",
     "output_type": "stream",
     "text": [
      "Extracted content from https://www.seattleu.edu/directory/profiles/rachael-brown.php and saved to JSON.\n"
     ]
    },
    {
     "name": "stderr",
     "output_type": "stream",
     "text": [
      " 45%|████▍     | 2824/6321 [4:00:15<9:53:00, 10.17s/it]"
     ]
    },
    {
     "name": "stdout",
     "output_type": "stream",
     "text": [
      "Extracted content from https://www.seattleu.edu/directory/profiles/rachel-epple.php and saved to JSON.\n"
     ]
    },
    {
     "name": "stderr",
     "output_type": "stream",
     "text": [
      " 45%|████▍     | 2825/6321 [4:00:26<9:52:15, 10.16s/it]"
     ]
    },
    {
     "name": "stdout",
     "output_type": "stream",
     "text": [
      "Extracted content from https://www.seattleu.edu/directory/profiles/rachel-e-luft-phd.php and saved to JSON.\n"
     ]
    },
    {
     "name": "stderr",
     "output_type": "stream",
     "text": [
      " 45%|████▍     | 2826/6321 [4:00:36<9:53:49, 10.19s/it]"
     ]
    },
    {
     "name": "stdout",
     "output_type": "stream",
     "text": [
      "Extracted content from https://www.seattleu.edu/directory/profiles/rachel-olson.php and saved to JSON.\n"
     ]
    },
    {
     "name": "stderr",
     "output_type": "stream",
     "text": [
      " 45%|████▍     | 2827/6321 [4:00:46<9:52:47, 10.18s/it]"
     ]
    },
    {
     "name": "stdout",
     "output_type": "stream",
     "text": [
      "Extracted content from https://www.seattleu.edu/directory/profiles/rachel-segrest.php and saved to JSON.\n"
     ]
    },
    {
     "name": "stderr",
     "output_type": "stream",
     "text": [
      " 45%|████▍     | 2828/6321 [4:00:56<9:52:16, 10.17s/it]"
     ]
    },
    {
     "name": "stdout",
     "output_type": "stream",
     "text": [
      "Extracted content from https://www.seattleu.edu/directory/profiles/rachel-swartz.php and saved to JSON.\n"
     ]
    },
    {
     "name": "stderr",
     "output_type": "stream",
     "text": [
      " 45%|████▍     | 2829/6321 [4:01:06<9:51:47, 10.17s/it]"
     ]
    },
    {
     "name": "stdout",
     "output_type": "stream",
     "text": [
      "Extracted content from https://www.seattleu.edu/directory/profiles/rachel-turow-phd.php and saved to JSON.\n"
     ]
    },
    {
     "name": "stderr",
     "output_type": "stream",
     "text": [
      " 45%|████▍     | 2830/6321 [4:01:17<9:52:12, 10.18s/it]"
     ]
    },
    {
     "name": "stdout",
     "output_type": "stream",
     "text": [
      "Extracted content from https://www.seattleu.edu/directory/profiles/rachel-whalen.php and saved to JSON.\n"
     ]
    },
    {
     "name": "stderr",
     "output_type": "stream",
     "text": [
      " 45%|████▍     | 2831/6321 [4:01:27<9:59:21, 10.30s/it]"
     ]
    },
    {
     "name": "stdout",
     "output_type": "stream",
     "text": [
      "Extracted content from https://www.seattleu.edu/directory/profiles/rainer-schmidig.php and saved to JSON.\n"
     ]
    },
    {
     "name": "stderr",
     "output_type": "stream",
     "text": [
      " 45%|████▍     | 2832/6321 [4:01:37<9:56:45, 10.26s/it]"
     ]
    },
    {
     "name": "stdout",
     "output_type": "stream",
     "text": [
      "Extracted content from https://www.seattleu.edu/directory/profiles/rajiv-nagaich.php and saved to JSON.\n"
     ]
    },
    {
     "name": "stderr",
     "output_type": "stream",
     "text": [
      " 45%|████▍     | 2833/6321 [4:01:48<9:55:02, 10.24s/it]"
     ]
    },
    {
     "name": "stdout",
     "output_type": "stream",
     "text": [
      "Extracted content from https://www.seattleu.edu/directory/profiles/ramsey-al-salam.php and saved to JSON.\n"
     ]
    },
    {
     "name": "stderr",
     "output_type": "stream",
     "text": [
      " 45%|████▍     | 2834/6321 [4:01:58<9:57:51, 10.29s/it]"
     ]
    },
    {
     "name": "stdout",
     "output_type": "stream",
     "text": [
      "Extracted content from https://www.seattleu.edu/directory/profiles/randall-horton.php and saved to JSON.\n"
     ]
    },
    {
     "name": "stderr",
     "output_type": "stream",
     "text": [
      " 45%|████▍     | 2835/6321 [4:02:08<9:55:23, 10.25s/it]"
     ]
    },
    {
     "name": "stdout",
     "output_type": "stream",
     "text": [
      "Extracted content from https://www.seattleu.edu/directory/profiles/randall-d-souza-phd.php and saved to JSON.\n"
     ]
    },
    {
     "name": "stderr",
     "output_type": "stream",
     "text": [
      " 45%|████▍     | 2836/6321 [4:02:18<9:53:57, 10.23s/it]"
     ]
    },
    {
     "name": "stdout",
     "output_type": "stream",
     "text": [
      "Extracted content from https://www.seattleu.edu/directory/profiles/randy-scott-phd-lmhc-ncc.php and saved to JSON.\n"
     ]
    },
    {
     "name": "stderr",
     "output_type": "stream",
     "text": [
      " 45%|████▍     | 2837/6321 [4:02:28<9:53:36, 10.22s/it]"
     ]
    },
    {
     "name": "stdout",
     "output_type": "stream",
     "text": [
      "Extracted content from https://www.seattleu.edu/directory/profiles/ranleigh-starling.php and saved to JSON.\n"
     ]
    },
    {
     "name": "stderr",
     "output_type": "stream",
     "text": [
      " 45%|████▍     | 2838/6321 [4:02:39<9:52:21, 10.20s/it]"
     ]
    },
    {
     "name": "stdout",
     "output_type": "stream",
     "text": [
      "Extracted content from https://www.seattleu.edu/directory/profiles/rashmi-chordiya-phd.php and saved to JSON.\n"
     ]
    },
    {
     "name": "stderr",
     "output_type": "stream",
     "text": [
      " 45%|████▍     | 2839/6321 [4:02:49<9:51:30, 10.19s/it]"
     ]
    },
    {
     "name": "stdout",
     "output_type": "stream",
     "text": [
      "Extracted content from https://www.seattleu.edu/directory/profiles/raychelle-burks.php and saved to JSON.\n"
     ]
    },
    {
     "name": "stderr",
     "output_type": "stream",
     "text": [
      " 45%|████▍     | 2840/6321 [4:02:59<9:50:37, 10.18s/it]"
     ]
    },
    {
     "name": "stdout",
     "output_type": "stream",
     "text": [
      "Extracted content from https://www.seattleu.edu/directory/profiles/raylin-mack.php and saved to JSON.\n"
     ]
    },
    {
     "name": "stderr",
     "output_type": "stream",
     "text": [
      " 45%|████▍     | 2841/6321 [4:03:09<9:50:10, 10.18s/it]"
     ]
    },
    {
     "name": "stdout",
     "output_type": "stream",
     "text": [
      "Extracted content from https://www.seattleu.edu/directory/profiles/rebecca-becky-cobb-phd-lmft.php and saved to JSON.\n"
     ]
    },
    {
     "name": "stderr",
     "output_type": "stream",
     "text": [
      " 45%|████▍     | 2842/6321 [4:03:19<9:54:00, 10.24s/it]"
     ]
    },
    {
     "name": "stdout",
     "output_type": "stream",
     "text": [
      "Extracted content from https://www.seattleu.edu/directory/profiles/rebecca-evans-mn-arnp.php and saved to JSON.\n"
     ]
    },
    {
     "name": "stderr",
     "output_type": "stream",
     "text": [
      " 45%|████▍     | 2843/6321 [4:03:30<9:53:56, 10.25s/it]"
     ]
    },
    {
     "name": "stdout",
     "output_type": "stream",
     "text": [
      "Extracted content from https://www.seattleu.edu/directory/profiles/rebecca-hartley-phd.php and saved to JSON.\n"
     ]
    },
    {
     "name": "stderr",
     "output_type": "stream",
     "text": [
      " 45%|████▍     | 2844/6321 [4:03:40<9:52:40, 10.23s/it]"
     ]
    },
    {
     "name": "stdout",
     "output_type": "stream",
     "text": [
      "Extracted content from https://www.seattleu.edu/directory/profiles/rebecca-king.php and saved to JSON.\n"
     ]
    },
    {
     "name": "stderr",
     "output_type": "stream",
     "text": [
      " 45%|████▌     | 2845/6321 [4:03:50<9:52:14, 10.22s/it]"
     ]
    },
    {
     "name": "stdout",
     "output_type": "stream",
     "text": [
      "Extracted content from https://www.seattleu.edu/directory/profiles/rebecca-marshall.php and saved to JSON.\n"
     ]
    },
    {
     "name": "stderr",
     "output_type": "stream",
     "text": [
      " 45%|████▌     | 2846/6321 [4:04:00<9:50:44, 10.20s/it]"
     ]
    },
    {
     "name": "stdout",
     "output_type": "stream",
     "text": [
      "Extracted content from https://www.seattleu.edu/directory/profiles/rebecca-severson-ma.php and saved to JSON.\n"
     ]
    },
    {
     "name": "stderr",
     "output_type": "stream",
     "text": [
      " 45%|████▌     | 2847/6321 [4:04:10<9:49:40, 10.18s/it]"
     ]
    },
    {
     "name": "stdout",
     "output_type": "stream",
     "text": [
      "Extracted content from https://www.seattleu.edu/directory/profiles/rebecca-von-groote.php and saved to JSON.\n"
     ]
    },
    {
     "name": "stderr",
     "output_type": "stream",
     "text": [
      " 45%|████▌     | 2848/6321 [4:04:21<9:48:47, 10.17s/it]"
     ]
    },
    {
     "name": "stdout",
     "output_type": "stream",
     "text": [
      "Extracted content from https://www.seattleu.edu/directory/profiles/rebecca-mcnamara-phd.php and saved to JSON.\n"
     ]
    },
    {
     "name": "stderr",
     "output_type": "stream",
     "text": [
      " 45%|████▌     | 2849/6321 [4:04:31<9:48:23, 10.17s/it]"
     ]
    },
    {
     "name": "stdout",
     "output_type": "stream",
     "text": [
      "Extracted content from https://www.seattleu.edu/directory/profiles/rebekah-rocha.php and saved to JSON.\n"
     ]
    },
    {
     "name": "stderr",
     "output_type": "stream",
     "text": [
      " 45%|████▌     | 2850/6321 [4:04:41<9:49:55, 10.20s/it]"
     ]
    },
    {
     "name": "stdout",
     "output_type": "stream",
     "text": [
      "Extracted content from https://www.seattleu.edu/directory/profiles/reed-guy-phd.php and saved to JSON.\n"
     ]
    },
    {
     "name": "stderr",
     "output_type": "stream",
     "text": [
      " 45%|████▌     | 2851/6321 [4:04:51<9:49:33, 10.19s/it]"
     ]
    },
    {
     "name": "stdout",
     "output_type": "stream",
     "text": [
      "Extracted content from https://www.seattleu.edu/directory/profiles/regina-moro.php and saved to JSON.\n"
     ]
    },
    {
     "name": "stderr",
     "output_type": "stream",
     "text": [
      " 45%|████▌     | 2852/6321 [4:05:01<9:48:46, 10.18s/it]"
     ]
    },
    {
     "name": "stdout",
     "output_type": "stream",
     "text": [
      "Extracted content from https://www.seattleu.edu/directory/profiles/renata-everett-phd.php and saved to JSON.\n"
     ]
    },
    {
     "name": "stderr",
     "output_type": "stream",
     "text": [
      " 45%|████▌     | 2853/6321 [4:05:21<12:24:34, 12.88s/it]"
     ]
    },
    {
     "name": "stdout",
     "output_type": "stream",
     "text": [
      "Extracted content from https://www.seattleu.edu/directory/profiles/renee-rassilyer-bomers-dnp-arnp.php and saved to JSON.\n"
     ]
    },
    {
     "name": "stderr",
     "output_type": "stream",
     "text": [
      " 45%|████▌     | 2854/6321 [4:05:31<11:37:08, 12.06s/it]"
     ]
    },
    {
     "name": "stdout",
     "output_type": "stream",
     "text": [
      "Extracted content from https://www.seattleu.edu/directory/profiles/renee-shank-phd.php and saved to JSON.\n"
     ]
    },
    {
     "name": "stderr",
     "output_type": "stream",
     "text": [
      " 45%|████▌     | 2855/6321 [4:05:41<11:03:46, 11.49s/it]"
     ]
    },
    {
     "name": "stdout",
     "output_type": "stream",
     "text": [
      "Extracted content from https://www.seattleu.edu/directory/profiles/renny-philipose-bs.php and saved to JSON.\n"
     ]
    },
    {
     "name": "stderr",
     "output_type": "stream",
     "text": [
      " 45%|████▌     | 2856/6321 [4:05:51<10:40:48, 11.10s/it]"
     ]
    },
    {
     "name": "stdout",
     "output_type": "stream",
     "text": [
      "Extracted content from https://www.seattleu.edu/directory/profiles/rex-toh.php and saved to JSON.\n"
     ]
    },
    {
     "name": "stderr",
     "output_type": "stream",
     "text": [
      " 45%|████▌     | 2857/6321 [4:06:01<10:26:47, 10.86s/it]"
     ]
    },
    {
     "name": "stdout",
     "output_type": "stream",
     "text": [
      "Extracted content from https://www.seattleu.edu/directory/profiles/ricardo-cornelio.php and saved to JSON.\n"
     ]
    },
    {
     "name": "stderr",
     "output_type": "stream",
     "text": [
      " 45%|████▌     | 2858/6321 [4:06:12<10:15:01, 10.66s/it]"
     ]
    },
    {
     "name": "stdout",
     "output_type": "stream",
     "text": [
      "Extracted content from https://www.seattleu.edu/directory/profiles/rich-schreiner.php and saved to JSON.\n"
     ]
    },
    {
     "name": "stderr",
     "output_type": "stream",
     "text": [
      " 45%|████▌     | 2860/6321 [4:06:22<7:09:06,  7.44s/it] "
     ]
    },
    {
     "name": "stdout",
     "output_type": "stream",
     "text": [
      "Error processing https:www.seattleu.edu/directory/profiles/richard-bird.php: HTTP Error 404: Not Found\n",
      "Extracted content from https://www.seattleu.edu/directory/profiles/richard-cota.php and saved to JSON.\n"
     ]
    },
    {
     "name": "stderr",
     "output_type": "stream",
     "text": [
      " 45%|████▌     | 2861/6321 [4:06:32<7:56:02,  8.26s/it]"
     ]
    },
    {
     "name": "stdout",
     "output_type": "stream",
     "text": [
      "Extracted content from https://www.seattleu.edu/directory/profiles/richard-cunningham.php and saved to JSON.\n"
     ]
    },
    {
     "name": "stderr",
     "output_type": "stream",
     "text": [
      " 45%|████▌     | 2862/6321 [4:06:42<8:28:45,  8.83s/it]"
     ]
    },
    {
     "name": "stdout",
     "output_type": "stream",
     "text": [
      "Extracted content from https://www.seattleu.edu/directory/profiles/richard-delgado.php and saved to JSON.\n"
     ]
    },
    {
     "name": "stderr",
     "output_type": "stream",
     "text": [
      " 45%|████▌     | 2863/6321 [4:06:53<8:53:25,  9.26s/it]"
     ]
    },
    {
     "name": "stdout",
     "output_type": "stream",
     "text": [
      "Extracted content from https://www.seattleu.edu/directory/profiles/richard-leblanc-phd.php and saved to JSON.\n"
     ]
    },
    {
     "name": "stderr",
     "output_type": "stream",
     "text": [
      " 45%|████▌     | 2864/6321 [4:07:03<9:08:59,  9.53s/it]"
     ]
    },
    {
     "name": "stdout",
     "output_type": "stream",
     "text": [
      "Extracted content from https://www.seattleu.edu/directory/profiles/richard-l-mcgaha-phd.php and saved to JSON.\n"
     ]
    },
    {
     "name": "stderr",
     "output_type": "stream",
     "text": [
      " 45%|████▌     | 2865/6321 [4:07:13<9:19:44,  9.72s/it]"
     ]
    },
    {
     "name": "stdout",
     "output_type": "stream",
     "text": [
      "Extracted content from https://www.seattleu.edu/directory/profiles/richard-mitchell.php and saved to JSON.\n"
     ]
    },
    {
     "name": "stderr",
     "output_type": "stream",
     "text": [
      " 45%|████▌     | 2866/6321 [4:07:23<9:29:55,  9.90s/it]"
     ]
    },
    {
     "name": "stdout",
     "output_type": "stream",
     "text": [
      "Extracted content from https://www.seattleu.edu/directory/profiles/richard-okamoto.php and saved to JSON.\n"
     ]
    },
    {
     "name": "stderr",
     "output_type": "stream",
     "text": [
      " 45%|████▌     | 2867/6321 [4:07:34<9:38:13, 10.04s/it]"
     ]
    },
    {
     "name": "stdout",
     "output_type": "stream",
     "text": [
      "Extracted content from https://www.seattleu.edu/directory/profiles/richard-schwaegler.php and saved to JSON.\n"
     ]
    },
    {
     "name": "stderr",
     "output_type": "stream",
     "text": [
      " 45%|████▌     | 2868/6321 [4:07:44<9:40:03, 10.08s/it]"
     ]
    },
    {
     "name": "stdout",
     "output_type": "stream",
     "text": [
      "Extracted content from https://www.seattleu.edu/directory/profiles/richard-settle.php and saved to JSON.\n"
     ]
    },
    {
     "name": "stderr",
     "output_type": "stream",
     "text": [
      " 45%|████▌     | 2869/6321 [4:07:54<9:41:21, 10.10s/it]"
     ]
    },
    {
     "name": "stdout",
     "output_type": "stream",
     "text": [
      "Extracted content from https://www.seattleu.edu/directory/profiles/richard-severs.php and saved to JSON.\n"
     ]
    },
    {
     "name": "stderr",
     "output_type": "stream",
     "text": [
      " 45%|████▌     | 2870/6321 [4:08:04<9:42:07, 10.12s/it]"
     ]
    },
    {
     "name": "stdout",
     "output_type": "stream",
     "text": [
      "Extracted content from https://www.seattleu.edu/directory/profiles/richard-young.php and saved to JSON.\n"
     ]
    },
    {
     "name": "stderr",
     "output_type": "stream",
     "text": [
      " 45%|████▌     | 2871/6321 [4:08:14<9:42:56, 10.14s/it]"
     ]
    },
    {
     "name": "stdout",
     "output_type": "stream",
     "text": [
      "Extracted content from https://www.seattleu.edu/directory/profiles/rick-malleus-phd.php and saved to JSON.\n"
     ]
    },
    {
     "name": "stderr",
     "output_type": "stream",
     "text": [
      " 45%|████▌     | 2872/6321 [4:08:24<9:43:17, 10.15s/it]"
     ]
    },
    {
     "name": "stdout",
     "output_type": "stream",
     "text": [
      "Extracted content from https://www.seattleu.edu/directory/profiles/rita-dufresne.php and saved to JSON.\n"
     ]
    },
    {
     "name": "stderr",
     "output_type": "stream",
     "text": [
      " 45%|████▌     | 2873/6321 [4:08:35<9:43:54, 10.16s/it]"
     ]
    },
    {
     "name": "stdout",
     "output_type": "stream",
     "text": [
      "Extracted content from https://www.seattleu.edu/directory/profiles/rita-lin.php and saved to JSON.\n"
     ]
    },
    {
     "name": "stderr",
     "output_type": "stream",
     "text": [
      " 45%|████▌     | 2874/6321 [4:08:45<9:46:08, 10.20s/it]"
     ]
    },
    {
     "name": "stdout",
     "output_type": "stream",
     "text": [
      "Extracted content from https://www.seattleu.edu/directory/profiles/ritika-kanade.php and saved to JSON.\n"
     ]
    },
    {
     "name": "stderr",
     "output_type": "stream",
     "text": [
      " 45%|████▌     | 2875/6321 [4:08:55<9:45:30, 10.19s/it]"
     ]
    },
    {
     "name": "stdout",
     "output_type": "stream",
     "text": [
      "Extracted content from https://www.seattleu.edu/directory/profiles/robert-mcjunkins-msn-rn.php and saved to JSON.\n"
     ]
    },
    {
     "name": "stderr",
     "output_type": "stream",
     "text": [
      " 45%|████▌     | 2876/6321 [4:09:05<9:44:52, 10.19s/it]"
     ]
    },
    {
     "name": "stdout",
     "output_type": "stream",
     "text": [
      "Extracted content from https://www.seattleu.edu/directory/profiles/rob-rydberg.php and saved to JSON.\n"
     ]
    },
    {
     "name": "stderr",
     "output_type": "stream",
     "text": [
      " 46%|████▌     | 2877/6321 [4:09:15<9:44:44, 10.19s/it]"
     ]
    },
    {
     "name": "stdout",
     "output_type": "stream",
     "text": [
      "Extracted content from https://www.seattleu.edu/directory/profiles/robelle-camat.php and saved to JSON.\n"
     ]
    },
    {
     "name": "stderr",
     "output_type": "stream",
     "text": [
      " 46%|████▌     | 2878/6321 [4:09:26<9:43:52, 10.17s/it]"
     ]
    },
    {
     "name": "stdout",
     "output_type": "stream",
     "text": [
      "Extracted content from https://www.seattleu.edu/directory/profiles/robert-aguirre-phd.php and saved to JSON.\n"
     ]
    },
    {
     "name": "stderr",
     "output_type": "stream",
     "text": [
      " 46%|████▌     | 2879/6321 [4:09:36<9:43:12, 10.17s/it]"
     ]
    },
    {
     "name": "stdout",
     "output_type": "stream",
     "text": [
      "Extracted content from https://www.seattleu.edu/directory/profiles/robert-callahan.php and saved to JSON.\n"
     ]
    },
    {
     "name": "stderr",
     "output_type": "stream",
     "text": [
      " 46%|████▌     | 2880/6321 [4:09:46<9:42:50, 10.16s/it]"
     ]
    },
    {
     "name": "stdout",
     "output_type": "stream",
     "text": [
      "Extracted content from https://www.seattleu.edu/directory/profiles/robert-crandell.php and saved to JSON.\n"
     ]
    },
    {
     "name": "stderr",
     "output_type": "stream",
     "text": [
      " 46%|████▌     | 2881/6321 [4:09:56<9:44:07, 10.19s/it]"
     ]
    },
    {
     "name": "stdout",
     "output_type": "stream",
     "text": [
      "Extracted content from https://www.seattleu.edu/directory/profiles/rob-efird-phd.php and saved to JSON.\n"
     ]
    },
    {
     "name": "stderr",
     "output_type": "stream",
     "text": [
      " 46%|████▌     | 2882/6321 [4:10:06<9:45:23, 10.21s/it]"
     ]
    },
    {
     "name": "stdout",
     "output_type": "stream",
     "text": [
      "Extracted content from https://www.seattleu.edu/directory/profiles/robert-egan-sj.php and saved to JSON.\n"
     ]
    },
    {
     "name": "stderr",
     "output_type": "stream",
     "text": [
      " 46%|████▌     | 2883/6321 [4:10:17<9:44:27, 10.20s/it]"
     ]
    },
    {
     "name": "stdout",
     "output_type": "stream",
     "text": [
      "Extracted content from https://www.seattleu.edu/directory/profiles/robert-gaon-msw.php and saved to JSON.\n"
     ]
    },
    {
     "name": "stderr",
     "output_type": "stream",
     "text": [
      " 46%|████▌     | 2884/6321 [4:10:27<9:51:11, 10.32s/it]"
     ]
    },
    {
     "name": "stdout",
     "output_type": "stream",
     "text": [
      "Extracted content from https://www.seattleu.edu/directory/profiles/fr-robert-grimm-sj.php and saved to JSON.\n"
     ]
    },
    {
     "name": "stderr",
     "output_type": "stream",
     "text": [
      " 46%|████▌     | 2885/6321 [4:10:37<9:48:11, 10.27s/it]"
     ]
    },
    {
     "name": "stdout",
     "output_type": "stream",
     "text": [
      "Extracted content from https://www.seattleu.edu/directory/profiles/robert-hughes.php and saved to JSON.\n"
     ]
    },
    {
     "name": "stderr",
     "output_type": "stream",
     "text": [
      " 46%|████▌     | 2886/6321 [4:10:47<9:46:04, 10.24s/it]"
     ]
    },
    {
     "name": "stdout",
     "output_type": "stream",
     "text": [
      "Extracted content from https://www.seattleu.edu/directory/profiles/robert-matthews.php and saved to JSON.\n"
     ]
    },
    {
     "name": "stderr",
     "output_type": "stream",
     "text": [
      " 46%|████▌     | 2888/6321 [4:11:08<9:44:41, 10.22s/it]"
     ]
    },
    {
     "name": "stdout",
     "output_type": "stream",
     "text": [
      "Error processing https:www.seattleu.edu/directory/profiles/robert-rutherford-phd.php: HTTP Error 504: Gateway Time-out\n",
      "Extracted content from https://www.seattleu.edu/directory/profiles/robert-schwartz.php and saved to JSON.\n"
     ]
    },
    {
     "name": "stderr",
     "output_type": "stream",
     "text": [
      " 46%|████▌     | 2889/6321 [4:11:18<9:47:22, 10.27s/it]"
     ]
    },
    {
     "name": "stdout",
     "output_type": "stream",
     "text": [
      "Extracted content from https://www.seattleu.edu/directory/profiles/bob-alanis-dnp-arnp-cs-accns-p-cpn.php and saved to JSON.\n"
     ]
    },
    {
     "name": "stderr",
     "output_type": "stream",
     "text": [
      " 46%|████▌     | 2890/6321 [4:11:29<9:48:54, 10.30s/it]"
     ]
    },
    {
     "name": "stdout",
     "output_type": "stream",
     "text": [
      "Extracted content from https://www.seattleu.edu/directory/profiles/robin-bjorkquist.php and saved to JSON.\n"
     ]
    },
    {
     "name": "stderr",
     "output_type": "stream",
     "text": [
      " 46%|████▌     | 2891/6321 [4:11:39<9:47:26, 10.28s/it]"
     ]
    },
    {
     "name": "stdout",
     "output_type": "stream",
     "text": [
      "Extracted content from https://www.seattleu.edu/directory/profiles/robin-lesh.php and saved to JSON.\n"
     ]
    },
    {
     "name": "stderr",
     "output_type": "stream",
     "text": [
      " 46%|████▌     | 2892/6321 [4:11:49<9:48:26, 10.30s/it]"
     ]
    },
    {
     "name": "stdout",
     "output_type": "stream",
     "text": [
      "Extracted content from https://www.seattleu.edu/directory/profiles/robin-s-reich-phd.php and saved to JSON.\n"
     ]
    },
    {
     "name": "stderr",
     "output_type": "stream",
     "text": [
      " 46%|████▌     | 2893/6321 [4:11:59<9:46:03, 10.26s/it]"
     ]
    },
    {
     "name": "stdout",
     "output_type": "stream",
     "text": [
      "Extracted content from https://www.seattleu.edu/directory/profiles/roman-hernandez.php and saved to JSON.\n"
     ]
    },
    {
     "name": "stderr",
     "output_type": "stream",
     "text": [
      " 46%|████▌     | 2894/6321 [4:12:09<9:44:11, 10.23s/it]"
     ]
    },
    {
     "name": "stdout",
     "output_type": "stream",
     "text": [
      "Extracted content from https://www.seattleu.edu/directory/profiles/ronald-atkins.php and saved to JSON.\n"
     ]
    },
    {
     "name": "stderr",
     "output_type": "stream",
     "text": [
      " 46%|████▌     | 2895/6321 [4:12:20<9:46:43, 10.28s/it]"
     ]
    },
    {
     "name": "stdout",
     "output_type": "stream",
     "text": [
      "Extracted content from https://www.seattleu.edu/directory/profiles/ronald-slye.php and saved to JSON.\n"
     ]
    },
    {
     "name": "stderr",
     "output_type": "stream",
     "text": [
      " 46%|████▌     | 2896/6321 [4:12:30<9:44:19, 10.24s/it]"
     ]
    },
    {
     "name": "stdout",
     "output_type": "stream",
     "text": [
      "Extracted content from https://www.seattleu.edu/directory/profiles/ronda-mitchell.php and saved to JSON.\n"
     ]
    },
    {
     "name": "stderr",
     "output_type": "stream",
     "text": [
      " 46%|████▌     | 2897/6321 [4:12:40<9:42:27, 10.21s/it]"
     ]
    },
    {
     "name": "stdout",
     "output_type": "stream",
     "text": [
      "Extracted content from https://www.seattleu.edu/directory/profiles/rosalyn-newman-ma.php and saved to JSON.\n"
     ]
    },
    {
     "name": "stderr",
     "output_type": "stream",
     "text": [
      " 46%|████▌     | 2898/6321 [4:12:50<9:41:41, 10.20s/it]"
     ]
    },
    {
     "name": "stdout",
     "output_type": "stream",
     "text": [
      "Extracted content from https://www.seattleu.edu/directory/profiles/rose-de-gracia.php and saved to JSON.\n"
     ]
    },
    {
     "name": "stderr",
     "output_type": "stream",
     "text": [
      " 46%|████▌     | 2899/6321 [4:13:01<9:45:19, 10.26s/it]"
     ]
    },
    {
     "name": "stdout",
     "output_type": "stream",
     "text": [
      "Extracted content from https://www.seattleu.edu/directory/profiles/rose-kaser-mfa.php and saved to JSON.\n"
     ]
    },
    {
     "name": "stderr",
     "output_type": "stream",
     "text": [
      " 46%|████▌     | 2900/6321 [4:13:11<9:47:24, 10.30s/it]"
     ]
    },
    {
     "name": "stdout",
     "output_type": "stream",
     "text": [
      "Extracted content from https://www.seattleu.edu/directory/profiles/rosemary-dunne.php and saved to JSON.\n"
     ]
    },
    {
     "name": "stderr",
     "output_type": "stream",
     "text": [
      " 46%|████▌     | 2901/6321 [4:13:21<9:44:55, 10.26s/it]"
     ]
    },
    {
     "name": "stdout",
     "output_type": "stream",
     "text": [
      "Extracted content from https://www.seattleu.edu/directory/profiles/rosie-sabaric.php and saved to JSON.\n"
     ]
    },
    {
     "name": "stderr",
     "output_type": "stream",
     "text": [
      " 46%|████▌     | 2902/6321 [4:13:31<9:43:00, 10.23s/it]"
     ]
    },
    {
     "name": "stdout",
     "output_type": "stream",
     "text": [
      "Extracted content from https://www.seattleu.edu/directory/profiles/ross-hauck-mm.php and saved to JSON.\n"
     ]
    },
    {
     "name": "stderr",
     "output_type": "stream",
     "text": [
      " 46%|████▌     | 2903/6321 [4:13:42<9:41:29, 10.21s/it]"
     ]
    },
    {
     "name": "stdout",
     "output_type": "stream",
     "text": [
      "Extracted content from https://www.seattleu.edu/directory/profiles/roxanne-brame.php and saved to JSON.\n"
     ]
    },
    {
     "name": "stderr",
     "output_type": "stream",
     "text": [
      " 46%|████▌     | 2904/6321 [4:13:52<9:40:43, 10.20s/it]"
     ]
    },
    {
     "name": "stdout",
     "output_type": "stream",
     "text": [
      "Extracted content from https://www.seattleu.edu/directory/profiles/ruben-trevino.php and saved to JSON.\n"
     ]
    },
    {
     "name": "stderr",
     "output_type": "stream",
     "text": [
      " 46%|████▌     | 2905/6321 [4:14:02<9:39:47, 10.18s/it]"
     ]
    },
    {
     "name": "stdout",
     "output_type": "stream",
     "text": [
      "Extracted content from https://www.seattleu.edu/directory/profiles/rubina-mahsud-phd.php and saved to JSON.\n"
     ]
    },
    {
     "name": "stderr",
     "output_type": "stream",
     "text": [
      " 46%|████▌     | 2906/6321 [4:14:12<9:39:55, 10.19s/it]"
     ]
    },
    {
     "name": "stdout",
     "output_type": "stream",
     "text": [
      "Extracted content from https://www.seattleu.edu/directory/profiles/russell-black.php and saved to JSON.\n"
     ]
    },
    {
     "name": "stderr",
     "output_type": "stream",
     "text": [
      " 46%|████▌     | 2907/6321 [4:14:22<9:39:05, 10.18s/it]"
     ]
    },
    {
     "name": "stdout",
     "output_type": "stream",
     "text": [
      "Extracted content from https://www.seattleu.edu/directory/profiles/russell-brown.php and saved to JSON.\n"
     ]
    },
    {
     "name": "stderr",
     "output_type": "stream",
     "text": [
      " 46%|████▌     | 2908/6321 [4:14:33<9:40:32, 10.21s/it]"
     ]
    },
    {
     "name": "stdout",
     "output_type": "stream",
     "text": [
      "Extracted content from https://www.seattleu.edu/directory/profiles/russell-lidman.php and saved to JSON.\n"
     ]
    },
    {
     "name": "stderr",
     "output_type": "stream",
     "text": [
      " 46%|████▌     | 2909/6321 [4:14:43<9:39:57, 10.20s/it]"
     ]
    },
    {
     "name": "stdout",
     "output_type": "stream",
     "text": [
      "Extracted content from https://www.seattleu.edu/directory/profiles/russell-powell.php and saved to JSON.\n"
     ]
    },
    {
     "name": "stderr",
     "output_type": "stream",
     "text": [
      " 46%|████▌     | 2910/6321 [4:14:53<9:39:08, 10.19s/it]"
     ]
    },
    {
     "name": "stdout",
     "output_type": "stream",
     "text": [
      "Extracted content from https://www.seattleu.edu/directory/profiles/ryan-harkins.php and saved to JSON.\n"
     ]
    },
    {
     "name": "stderr",
     "output_type": "stream",
     "text": [
      " 46%|████▌     | 2911/6321 [4:15:03<9:38:14, 10.17s/it]"
     ]
    },
    {
     "name": "stdout",
     "output_type": "stream",
     "text": [
      "Extracted content from https://www.seattleu.edu/directory/profiles/ryan-mclaughlin-phd.php and saved to JSON.\n"
     ]
    },
    {
     "name": "stderr",
     "output_type": "stream",
     "text": [
      " 46%|████▌     | 2912/6321 [4:15:13<9:37:34, 10.17s/it]"
     ]
    },
    {
     "name": "stdout",
     "output_type": "stream",
     "text": [
      "Extracted content from https://www.seattleu.edu/directory/profiles/ryan-neal.php and saved to JSON.\n"
     ]
    },
    {
     "name": "stderr",
     "output_type": "stream",
     "text": [
      " 46%|████▌     | 2913/6321 [4:15:23<9:36:39, 10.15s/it]"
     ]
    },
    {
     "name": "stdout",
     "output_type": "stream",
     "text": [
      "Extracted content from https://www.seattleu.edu/directory/profiles/ryszard-dopierala.php and saved to JSON.\n"
     ]
    },
    {
     "name": "stderr",
     "output_type": "stream",
     "text": [
      " 46%|████▌     | 2914/6321 [4:15:33<9:36:35, 10.15s/it]"
     ]
    },
    {
     "name": "stdout",
     "output_type": "stream",
     "text": [
      "Extracted content from https://www.seattleu.edu/directory/profiles/sabrina-alex.php and saved to JSON.\n"
     ]
    },
    {
     "name": "stderr",
     "output_type": "stream",
     "text": [
      " 46%|████▌     | 2915/6321 [4:15:44<9:36:26, 10.15s/it]"
     ]
    },
    {
     "name": "stdout",
     "output_type": "stream",
     "text": [
      "Extracted content from https://www.seattleu.edu/directory/profiles/sabrina-woon-chen-msw.php and saved to JSON.\n"
     ]
    },
    {
     "name": "stderr",
     "output_type": "stream",
     "text": [
      " 46%|████▌     | 2916/6321 [4:15:54<9:39:40, 10.21s/it]"
     ]
    },
    {
     "name": "stdout",
     "output_type": "stream",
     "text": [
      "Extracted content from https://www.seattleu.edu/directory/profiles/saheed-adejumobi-phd.php and saved to JSON.\n"
     ]
    },
    {
     "name": "stderr",
     "output_type": "stream",
     "text": [
      " 46%|████▌     | 2917/6321 [4:16:04<9:38:45, 10.20s/it]"
     ]
    },
    {
     "name": "stdout",
     "output_type": "stream",
     "text": [
      "Extracted content from https://www.seattleu.edu/directory/profiles/sally-w-johnston.php and saved to JSON.\n"
     ]
    },
    {
     "name": "stderr",
     "output_type": "stream",
     "text": [
      " 46%|████▌     | 2918/6321 [4:16:14<9:37:47, 10.19s/it]"
     ]
    },
    {
     "name": "stdout",
     "output_type": "stream",
     "text": [
      "Extracted content from https://www.seattleu.edu/directory/profiles/sally-mclaughlin-ms.php and saved to JSON.\n"
     ]
    },
    {
     "name": "stderr",
     "output_type": "stream",
     "text": [
      " 46%|████▌     | 2919/6321 [4:16:24<9:37:15, 10.18s/it]"
     ]
    },
    {
     "name": "stdout",
     "output_type": "stream",
     "text": [
      "Extracted content from https://www.seattleu.edu/directory/profiles/sam-green.php and saved to JSON.\n"
     ]
    },
    {
     "name": "stderr",
     "output_type": "stream",
     "text": [
      " 46%|████▌     | 2920/6321 [4:16:35<9:37:11, 10.18s/it]"
     ]
    },
    {
     "name": "stdout",
     "output_type": "stream",
     "text": [
      "Extracted content from https://www.seattleu.edu/directory/profiles/sam-harrell-msw-phd.php and saved to JSON.\n"
     ]
    },
    {
     "name": "stderr",
     "output_type": "stream",
     "text": [
      " 46%|████▌     | 2921/6321 [4:16:45<9:37:07, 10.18s/it]"
     ]
    },
    {
     "name": "stdout",
     "output_type": "stream",
     "text": [
      "Extracted content from https://www.seattleu.edu/directory/profiles/samantha-hoang-phd.php and saved to JSON.\n"
     ]
    },
    {
     "name": "stderr",
     "output_type": "stream",
     "text": [
      " 46%|████▌     | 2922/6321 [4:16:55<9:36:39, 10.18s/it]"
     ]
    },
    {
     "name": "stdout",
     "output_type": "stream",
     "text": [
      "Extracted content from https://www.seattleu.edu/directory/profiles/samantha-morefield-ms.php and saved to JSON.\n"
     ]
    },
    {
     "name": "stderr",
     "output_type": "stream",
     "text": [
      " 46%|████▌     | 2923/6321 [4:17:05<9:36:05, 10.17s/it]"
     ]
    },
    {
     "name": "stdout",
     "output_type": "stream",
     "text": [
      "Extracted content from https://www.seattleu.edu/directory/profiles/samantha-schuh.php and saved to JSON.\n"
     ]
    },
    {
     "name": "stderr",
     "output_type": "stream",
     "text": [
      " 46%|████▋     | 2924/6321 [4:17:16<9:38:45, 10.22s/it]"
     ]
    },
    {
     "name": "stdout",
     "output_type": "stream",
     "text": [
      "Extracted content from https://www.seattleu.edu/directory/profiles/samia-kassa.php and saved to JSON.\n"
     ]
    },
    {
     "name": "stderr",
     "output_type": "stream",
     "text": [
      " 46%|████▋     | 2925/6321 [4:17:26<9:37:20, 10.20s/it]"
     ]
    },
    {
     "name": "stdout",
     "output_type": "stream",
     "text": [
      "Extracted content from https://www.seattleu.edu/directory/profiles/samuel-guccione.php and saved to JSON.\n"
     ]
    },
    {
     "name": "stderr",
     "output_type": "stream",
     "text": [
      " 46%|████▋     | 2926/6321 [4:17:36<9:36:33, 10.19s/it]"
     ]
    },
    {
     "name": "stdout",
     "output_type": "stream",
     "text": [
      "Extracted content from https://www.seattleu.edu/directory/profiles/sam-verhovek.php and saved to JSON.\n"
     ]
    },
    {
     "name": "stderr",
     "output_type": "stream",
     "text": [
      " 46%|████▋     | 2927/6321 [4:17:46<9:35:59, 10.18s/it]"
     ]
    },
    {
     "name": "stdout",
     "output_type": "stream",
     "text": [
      "Extracted content from https://www.seattleu.edu/directory/profiles/sandra-brierley.php and saved to JSON.\n"
     ]
    },
    {
     "name": "stderr",
     "output_type": "stream",
     "text": [
      " 46%|████▋     | 2928/6321 [4:17:56<9:35:32, 10.18s/it]"
     ]
    },
    {
     "name": "stdout",
     "output_type": "stream",
     "text": [
      "Extracted content from https://www.seattleu.edu/directory/profiles/sandra-bui.php and saved to JSON.\n"
     ]
    },
    {
     "name": "stderr",
     "output_type": "stream",
     "text": [
      " 46%|████▋     | 2929/6321 [4:18:06<9:34:44, 10.17s/it]"
     ]
    },
    {
     "name": "stdout",
     "output_type": "stream",
     "text": [
      "Extracted content from https://www.seattleu.edu/directory/profiles/sandra-pochman.php and saved to JSON.\n"
     ]
    },
    {
     "name": "stderr",
     "output_type": "stream",
     "text": [
      " 46%|████▋     | 2930/6321 [4:18:16<9:34:28, 10.16s/it]"
     ]
    },
    {
     "name": "stdout",
     "output_type": "stream",
     "text": [
      "Extracted content from https://www.seattleu.edu/directory/profiles/sara-fahey.php and saved to JSON.\n"
     ]
    },
    {
     "name": "stderr",
     "output_type": "stream",
     "text": [
      " 46%|████▋     | 2931/6321 [4:18:27<9:34:05, 10.16s/it]"
     ]
    },
    {
     "name": "stdout",
     "output_type": "stream",
     "text": [
      "Extracted content from https://www.seattleu.edu/directory/profiles/sara-rankin.php and saved to JSON.\n"
     ]
    },
    {
     "name": "stderr",
     "output_type": "stream",
     "text": [
      " 46%|████▋     | 2932/6321 [4:18:37<9:36:32, 10.21s/it]"
     ]
    },
    {
     "name": "stdout",
     "output_type": "stream",
     "text": [
      "Extracted content from https://www.seattleu.edu/directory/profiles/sara-jo-swiatek.php and saved to JSON.\n"
     ]
    },
    {
     "name": "stderr",
     "output_type": "stream",
     "text": [
      " 46%|████▋     | 2933/6321 [4:18:47<9:35:39, 10.19s/it]"
     ]
    },
    {
     "name": "stdout",
     "output_type": "stream",
     "text": [
      "Extracted content from https://www.seattleu.edu/directory/profiles/sarah-bee.php and saved to JSON.\n"
     ]
    },
    {
     "name": "stderr",
     "output_type": "stream",
     "text": [
      " 46%|████▋     | 2934/6321 [4:18:57<9:36:15, 10.21s/it]"
     ]
    },
    {
     "name": "stdout",
     "output_type": "stream",
     "text": [
      "Extracted content from https://www.seattleu.edu/directory/profiles/sarah-bricknell.php and saved to JSON.\n"
     ]
    },
    {
     "name": "stderr",
     "output_type": "stream",
     "text": [
      " 46%|████▋     | 2935/6321 [4:19:08<9:35:25, 10.20s/it]"
     ]
    },
    {
     "name": "stdout",
     "output_type": "stream",
     "text": [
      "Extracted content from https://www.seattleu.edu/directory/profiles/sarah-d-cate-phd.php and saved to JSON.\n"
     ]
    },
    {
     "name": "stderr",
     "output_type": "stream",
     "text": [
      " 46%|████▋     | 2936/6321 [4:19:18<9:34:20, 10.18s/it]"
     ]
    },
    {
     "name": "stdout",
     "output_type": "stream",
     "text": [
      "Extracted content from https://www.seattleu.edu/directory/profiles/sarah-cerdena.php and saved to JSON.\n"
     ]
    },
    {
     "name": "stderr",
     "output_type": "stream",
     "text": [
      " 46%|████▋     | 2937/6321 [4:19:28<9:34:03, 10.18s/it]"
     ]
    },
    {
     "name": "stdout",
     "output_type": "stream",
     "text": [
      "Extracted content from https://www.seattleu.edu/directory/profiles/sarah-cox.php and saved to JSON.\n"
     ]
    },
    {
     "name": "stderr",
     "output_type": "stream",
     "text": [
      " 46%|████▋     | 2938/6321 [4:19:38<9:33:21, 10.17s/it]"
     ]
    },
    {
     "name": "stdout",
     "output_type": "stream",
     "text": [
      "Extracted content from https://www.seattleu.edu/directory/profiles/sarah-finney.php and saved to JSON.\n"
     ]
    },
    {
     "name": "stderr",
     "output_type": "stream",
     "text": [
      " 46%|████▋     | 2939/6321 [4:19:48<9:32:48, 10.16s/it]"
     ]
    },
    {
     "name": "stdout",
     "output_type": "stream",
     "text": [
      "Extracted content from https://www.seattleu.edu/directory/profiles/sarah-finney-1.php and saved to JSON.\n"
     ]
    },
    {
     "name": "stderr",
     "output_type": "stream",
     "text": [
      " 47%|████▋     | 2940/6321 [4:19:58<9:34:48, 10.20s/it]"
     ]
    },
    {
     "name": "stdout",
     "output_type": "stream",
     "text": [
      "Extracted content from https://www.seattleu.edu/directory/profiles/sarah-hernandez-torres.php and saved to JSON.\n"
     ]
    },
    {
     "name": "stderr",
     "output_type": "stream",
     "text": [
      " 47%|████▋     | 2941/6321 [4:20:09<9:33:40, 10.18s/it]"
     ]
    },
    {
     "name": "stdout",
     "output_type": "stream",
     "text": [
      "Extracted content from https://www.seattleu.edu/directory/profiles/sarah-hogan.php and saved to JSON.\n"
     ]
    },
    {
     "name": "stderr",
     "output_type": "stream",
     "text": [
      " 47%|████▋     | 2942/6321 [4:20:19<9:33:17, 10.18s/it]"
     ]
    },
    {
     "name": "stdout",
     "output_type": "stream",
     "text": [
      "Extracted content from https://www.seattleu.edu/directory/profiles/sarah-lee.php and saved to JSON.\n"
     ]
    },
    {
     "name": "stderr",
     "output_type": "stream",
     "text": [
      " 47%|████▋     | 2943/6321 [4:20:29<9:33:35, 10.19s/it]"
     ]
    },
    {
     "name": "stdout",
     "output_type": "stream",
     "text": [
      "Extracted content from https://www.seattleu.edu/directory/profiles/sarah-lippek.php and saved to JSON.\n"
     ]
    },
    {
     "name": "stderr",
     "output_type": "stream",
     "text": [
      " 47%|████▋     | 2944/6321 [4:20:39<9:32:32, 10.17s/it]"
     ]
    },
    {
     "name": "stdout",
     "output_type": "stream",
     "text": [
      "Extracted content from https://www.seattleu.edu/directory/profiles/sarah-pfau.php and saved to JSON.\n"
     ]
    },
    {
     "name": "stderr",
     "output_type": "stream",
     "text": [
      " 47%|████▋     | 2945/6321 [4:20:49<9:32:04, 10.17s/it]"
     ]
    },
    {
     "name": "stdout",
     "output_type": "stream",
     "text": [
      "Extracted content from https://www.seattleu.edu/directory/profiles/sarah-trainer.php and saved to JSON.\n"
     ]
    },
    {
     "name": "stderr",
     "output_type": "stream",
     "text": [
      " 47%|████▋     | 2946/6321 [4:20:59<9:31:58, 10.17s/it]"
     ]
    },
    {
     "name": "stdout",
     "output_type": "stream",
     "text": [
      "Extracted content from https://www.seattleu.edu/directory/profiles/sarah-welch-dnp-arnp.php and saved to JSON.\n"
     ]
    },
    {
     "name": "stderr",
     "output_type": "stream",
     "text": [
      " 47%|████▋     | 2947/6321 [4:21:10<9:47:24, 10.45s/it]"
     ]
    },
    {
     "name": "stdout",
     "output_type": "stream",
     "text": [
      "Extracted content from https://www.seattleu.edu/directory/profiles/satarupa-banerjee.php and saved to JSON.\n"
     ]
    },
    {
     "name": "stderr",
     "output_type": "stream",
     "text": [
      " 47%|████▋     | 2948/6321 [4:21:21<9:44:18, 10.39s/it]"
     ]
    },
    {
     "name": "stdout",
     "output_type": "stream",
     "text": [
      "Extracted content from https://www.seattleu.edu/directory/profiles/schu-schumacher.php and saved to JSON.\n"
     ]
    },
    {
     "name": "stderr",
     "output_type": "stream",
     "text": [
      " 47%|████▋     | 2949/6321 [4:21:31<9:39:54, 10.32s/it]"
     ]
    },
    {
     "name": "stdout",
     "output_type": "stream",
     "text": [
      "Extracted content from https://www.seattleu.edu/directory/profiles/scott-crain.php and saved to JSON.\n"
     ]
    },
    {
     "name": "stderr",
     "output_type": "stream",
     "text": [
      " 47%|████▋     | 2950/6321 [4:21:41<9:36:59, 10.27s/it]"
     ]
    },
    {
     "name": "stdout",
     "output_type": "stream",
     "text": [
      "Extracted content from https://www.seattleu.edu/directory/profiles/scott-newman.php and saved to JSON.\n"
     ]
    },
    {
     "name": "stderr",
     "output_type": "stream",
     "text": [
      " 47%|████▋     | 2951/6321 [4:21:51<9:34:54, 10.24s/it]"
     ]
    },
    {
     "name": "stdout",
     "output_type": "stream",
     "text": [
      "Extracted content from https://www.seattleu.edu/directory/profiles/se-yeun-lee-phd.php and saved to JSON.\n"
     ]
    },
    {
     "name": "stderr",
     "output_type": "stream",
     "text": [
      " 47%|████▋     | 2952/6321 [4:22:01<9:33:22, 10.21s/it]"
     ]
    },
    {
     "name": "stdout",
     "output_type": "stream",
     "text": [
      "Extracted content from https://www.seattleu.edu/directory/profiles/sean-drew.php and saved to JSON.\n"
     ]
    },
    {
     "name": "stderr",
     "output_type": "stream",
     "text": [
      " 47%|████▋     | 2953/6321 [4:22:12<9:32:04, 10.19s/it]"
     ]
    },
    {
     "name": "stdout",
     "output_type": "stream",
     "text": [
      "Extracted content from https://www.seattleu.edu/directory/profiles/sean-glynn.php and saved to JSON.\n"
     ]
    },
    {
     "name": "stderr",
     "output_type": "stream",
     "text": [
      " 47%|████▋     | 2954/6321 [4:22:22<9:32:37, 10.20s/it]"
     ]
    },
    {
     "name": "stdout",
     "output_type": "stream",
     "text": [
      "Extracted content from https://www.seattleu.edu/directory/profiles/sean-mcdowell-phd.php and saved to JSON.\n"
     ]
    },
    {
     "name": "stderr",
     "output_type": "stream",
     "text": [
      " 47%|████▋     | 2955/6321 [4:22:32<9:31:52, 10.19s/it]"
     ]
    },
    {
     "name": "stdout",
     "output_type": "stream",
     "text": [
      "Extracted content from https://www.seattleu.edu/directory/profiles/sean-suver.php and saved to JSON.\n"
     ]
    },
    {
     "name": "stderr",
     "output_type": "stream",
     "text": [
      " 47%|████▋     | 2956/6321 [4:22:42<9:32:36, 10.21s/it]"
     ]
    },
    {
     "name": "stdout",
     "output_type": "stream",
     "text": [
      "Extracted content from https://www.seattleu.edu/directory/profiles/senait-chrisostomo.php and saved to JSON.\n"
     ]
    },
    {
     "name": "stderr",
     "output_type": "stream",
     "text": [
      " 47%|████▋     | 2957/6321 [4:22:52<9:31:40, 10.20s/it]"
     ]
    },
    {
     "name": "stdout",
     "output_type": "stream",
     "text": [
      "Extracted content from https://www.seattleu.edu/directory/profiles/oz-sener-med.php and saved to JSON.\n"
     ]
    },
    {
     "name": "stderr",
     "output_type": "stream",
     "text": [
      " 47%|████▋     | 2958/6321 [4:23:02<9:30:46, 10.18s/it]"
     ]
    },
    {
     "name": "stdout",
     "output_type": "stream",
     "text": [
      "Extracted content from https://www.seattleu.edu/directory/profiles/serena-r-chopra.php and saved to JSON.\n"
     ]
    },
    {
     "name": "stderr",
     "output_type": "stream",
     "text": [
      " 47%|████▋     | 2959/6321 [4:23:13<9:30:32, 10.18s/it]"
     ]
    },
    {
     "name": "stdout",
     "output_type": "stream",
     "text": [
      "Extracted content from https://www.seattleu.edu/directory/profiles/serena-cosgrove-phd.php and saved to JSON.\n"
     ]
    },
    {
     "name": "stderr",
     "output_type": "stream",
     "text": [
      " 47%|████▋     | 2960/6321 [4:23:23<9:29:57, 10.17s/it]"
     ]
    },
    {
     "name": "stdout",
     "output_type": "stream",
     "text": [
      "Extracted content from https://www.seattleu.edu/directory/profiles/seth-endo.php and saved to JSON.\n"
     ]
    },
    {
     "name": "stderr",
     "output_type": "stream",
     "text": [
      " 47%|████▋     | 2961/6321 [4:23:33<9:29:30, 10.17s/it]"
     ]
    },
    {
     "name": "stdout",
     "output_type": "stream",
     "text": [
      "Extracted content from https://www.seattleu.edu/directory/profiles/shamim-mohandessi.php and saved to JSON.\n"
     ]
    },
    {
     "name": "stderr",
     "output_type": "stream",
     "text": [
      " 47%|████▋     | 2962/6321 [4:23:43<9:29:23, 10.17s/it]"
     ]
    },
    {
     "name": "stdout",
     "output_type": "stream",
     "text": [
      "Extracted content from https://www.seattleu.edu/directory/profiles/shane-pisani-phd.php and saved to JSON.\n"
     ]
    },
    {
     "name": "stderr",
     "output_type": "stream",
     "text": [
      " 47%|████▋     | 2963/6321 [4:23:53<9:28:51, 10.16s/it]"
     ]
    },
    {
     "name": "stdout",
     "output_type": "stream",
     "text": [
      "Extracted content from https://www.seattleu.edu/directory/profiles/shannon-britton.php and saved to JSON.\n"
     ]
    },
    {
     "name": "stderr",
     "output_type": "stream",
     "text": [
      " 47%|████▋     | 2964/6321 [4:24:04<9:30:05, 10.19s/it]"
     ]
    },
    {
     "name": "stdout",
     "output_type": "stream",
     "text": [
      "Extracted content from https://www.seattleu.edu/directory/profiles/shannon-hines-msn-rnc-ob.php and saved to JSON.\n"
     ]
    },
    {
     "name": "stderr",
     "output_type": "stream",
     "text": [
      " 47%|████▋     | 2965/6321 [4:24:14<9:29:12, 10.18s/it]"
     ]
    },
    {
     "name": "stdout",
     "output_type": "stream",
     "text": [
      "Extracted content from https://www.seattleu.edu/directory/profiles/shannon-huffaker-msn.php and saved to JSON.\n"
     ]
    },
    {
     "name": "stderr",
     "output_type": "stream",
     "text": [
      " 47%|████▋     | 2966/6321 [4:24:24<9:28:28, 10.17s/it]"
     ]
    },
    {
     "name": "stdout",
     "output_type": "stream",
     "text": [
      "Extracted content from https://www.seattleu.edu/directory/profiles/shannon-meyer.php and saved to JSON.\n"
     ]
    },
    {
     "name": "stderr",
     "output_type": "stream",
     "text": [
      " 47%|████▋     | 2967/6321 [4:24:34<9:28:11, 10.16s/it]"
     ]
    },
    {
     "name": "stdout",
     "output_type": "stream",
     "text": [
      "Extracted content from https://www.seattleu.edu/directory/profiles/sharon-aliza-med.php and saved to JSON.\n"
     ]
    },
    {
     "name": "stderr",
     "output_type": "stream",
     "text": [
      " 47%|████▋     | 2968/6321 [4:24:44<9:27:48, 10.16s/it]"
     ]
    },
    {
     "name": "stdout",
     "output_type": "stream",
     "text": [
      "Extracted content from https://www.seattleu.edu/directory/profiles/sharon-callahan.php and saved to JSON.\n"
     ]
    },
    {
     "name": "stderr",
     "output_type": "stream",
     "text": [
      " 47%|████▋     | 2969/6321 [4:24:54<9:27:35, 10.16s/it]"
     ]
    },
    {
     "name": "stdout",
     "output_type": "stream",
     "text": [
      "Extracted content from https://www.seattleu.edu/directory/profiles/sharon-cumberland-phd.php and saved to JSON.\n"
     ]
    },
    {
     "name": "stderr",
     "output_type": "stream",
     "text": [
      " 47%|████▋     | 2970/6321 [4:25:04<9:27:49, 10.17s/it]"
     ]
    },
    {
     "name": "stdout",
     "output_type": "stream",
     "text": [
      "Extracted content from https://www.seattleu.edu/directory/profiles/sharon-leary.php and saved to JSON.\n"
     ]
    },
    {
     "name": "stderr",
     "output_type": "stream",
     "text": [
      " 47%|████▋     | 2971/6321 [4:25:15<9:32:03, 10.25s/it]"
     ]
    },
    {
     "name": "stdout",
     "output_type": "stream",
     "text": [
      "Extracted content from https://www.seattleu.edu/directory/profiles/sharon-lobel.php and saved to JSON.\n"
     ]
    },
    {
     "name": "stderr",
     "output_type": "stream",
     "text": [
      " 47%|████▋     | 2972/6321 [4:25:25<9:32:09, 10.25s/it]"
     ]
    },
    {
     "name": "stdout",
     "output_type": "stream",
     "text": [
      "Extracted content from https://www.seattleu.edu/directory/profiles/sharon-a-suh-phd.php and saved to JSON.\n"
     ]
    },
    {
     "name": "stderr",
     "output_type": "stream",
     "text": [
      " 47%|████▋     | 2973/6321 [4:25:35<9:30:18, 10.22s/it]"
     ]
    },
    {
     "name": "stdout",
     "output_type": "stream",
     "text": [
      "Extracted content from https://www.seattleu.edu/directory/profiles/sharon-nyree-williams.php and saved to JSON.\n"
     ]
    },
    {
     "name": "stderr",
     "output_type": "stream",
     "text": [
      " 47%|████▋     | 2974/6321 [4:25:46<9:31:05, 10.24s/it]"
     ]
    },
    {
     "name": "stdout",
     "output_type": "stream",
     "text": [
      "Extracted content from https://www.seattleu.edu/directory/profiles/sharon-young.php and saved to JSON.\n"
     ]
    },
    {
     "name": "stderr",
     "output_type": "stream",
     "text": [
      " 47%|████▋     | 2975/6321 [4:25:56<9:35:48, 10.33s/it]"
     ]
    },
    {
     "name": "stdout",
     "output_type": "stream",
     "text": [
      "Extracted content from https://www.seattleu.edu/directory/profiles/sharron-sherry-palmiter.php and saved to JSON.\n"
     ]
    },
    {
     "name": "stderr",
     "output_type": "stream",
     "text": [
      " 47%|████▋     | 2976/6321 [4:26:06<9:32:30, 10.27s/it]"
     ]
    },
    {
     "name": "stdout",
     "output_type": "stream",
     "text": [
      "Extracted content from https://www.seattleu.edu/directory/profiles/shauna-hearn.php and saved to JSON.\n"
     ]
    },
    {
     "name": "stderr",
     "output_type": "stream",
     "text": [
      " 47%|████▋     | 2977/6321 [4:26:16<9:30:35, 10.24s/it]"
     ]
    },
    {
     "name": "stdout",
     "output_type": "stream",
     "text": [
      "Extracted content from https://www.seattleu.edu/directory/profiles/sheila-capestany.php and saved to JSON.\n"
     ]
    },
    {
     "name": "stderr",
     "output_type": "stream",
     "text": [
      " 47%|████▋     | 2978/6321 [4:26:27<9:29:23, 10.22s/it]"
     ]
    },
    {
     "name": "stdout",
     "output_type": "stream",
     "text": [
      "Extracted content from https://www.seattleu.edu/directory/profiles/sheila-lozan.php and saved to JSON.\n"
     ]
    },
    {
     "name": "stderr",
     "output_type": "stream",
     "text": [
      " 47%|████▋     | 2979/6321 [4:26:37<9:29:34, 10.23s/it]"
     ]
    },
    {
     "name": "stdout",
     "output_type": "stream",
     "text": [
      "Extracted content from https://www.seattleu.edu/directory/profiles/sheila-oh-ms.php and saved to JSON.\n"
     ]
    },
    {
     "name": "stderr",
     "output_type": "stream",
     "text": [
      " 47%|████▋     | 2980/6321 [4:26:47<9:28:32, 10.21s/it]"
     ]
    },
    {
     "name": "stdout",
     "output_type": "stream",
     "text": [
      "Extracted content from https://www.seattleu.edu/directory/profiles/sheila-underwood.php and saved to JSON.\n"
     ]
    },
    {
     "name": "stderr",
     "output_type": "stream",
     "text": [
      " 47%|████▋     | 2981/6321 [4:26:58<9:41:23, 10.44s/it]"
     ]
    },
    {
     "name": "stdout",
     "output_type": "stream",
     "text": [
      "Extracted content from https://www.seattleu.edu/directory/profiles/shemya-dang-mfa.php and saved to JSON.\n"
     ]
    },
    {
     "name": "stderr",
     "output_type": "stream",
     "text": [
      " 47%|████▋     | 2982/6321 [4:27:08<9:41:38, 10.45s/it]"
     ]
    },
    {
     "name": "stdout",
     "output_type": "stream",
     "text": [
      "Extracted content from https://www.seattleu.edu/directory/profiles/shen-ren-phd.php and saved to JSON.\n"
     ]
    },
    {
     "name": "stderr",
     "output_type": "stream",
     "text": [
      " 47%|████▋     | 2983/6321 [4:27:19<9:37:06, 10.37s/it]"
     ]
    },
    {
     "name": "stdout",
     "output_type": "stream",
     "text": [
      "Extracted content from https://www.seattleu.edu/directory/profiles/shenisha-espinoza.php and saved to JSON.\n"
     ]
    },
    {
     "name": "stderr",
     "output_type": "stream",
     "text": [
      " 47%|████▋     | 2984/6321 [4:27:29<9:33:32, 10.31s/it]"
     ]
    },
    {
     "name": "stdout",
     "output_type": "stream",
     "text": [
      "Extracted content from https://www.seattleu.edu/directory/profiles/shiny-abraham-phd.php and saved to JSON.\n"
     ]
    },
    {
     "name": "stderr",
     "output_type": "stream",
     "text": [
      " 47%|████▋     | 2985/6321 [4:27:39<9:31:00, 10.27s/it]"
     ]
    },
    {
     "name": "stdout",
     "output_type": "stream",
     "text": [
      "Extracted content from https://www.seattleu.edu/directory/profiles/shizuko-suenaga-phd.php and saved to JSON.\n"
     ]
    },
    {
     "name": "stderr",
     "output_type": "stream",
     "text": [
      " 47%|████▋     | 2986/6321 [4:27:49<9:28:53, 10.24s/it]"
     ]
    },
    {
     "name": "stdout",
     "output_type": "stream",
     "text": [
      "Extracted content from https://www.seattleu.edu/directory/profiles/shruti-pai.php and saved to JSON.\n"
     ]
    },
    {
     "name": "stderr",
     "output_type": "stream",
     "text": [
      " 47%|████▋     | 2987/6321 [4:27:59<9:27:30, 10.21s/it]"
     ]
    },
    {
     "name": "stdout",
     "output_type": "stream",
     "text": [
      "Extracted content from https://www.seattleu.edu/directory/profiles/shruti-singh.php and saved to JSON.\n"
     ]
    },
    {
     "name": "stderr",
     "output_type": "stream",
     "text": [
      " 47%|████▋     | 2988/6321 [4:28:09<9:25:58, 10.19s/it]"
     ]
    },
    {
     "name": "stdout",
     "output_type": "stream",
     "text": [
      "Extracted content from https://www.seattleu.edu/directory/profiles/shusen-ding-phd.php and saved to JSON.\n"
     ]
    },
    {
     "name": "stderr",
     "output_type": "stream",
     "text": [
      " 47%|████▋     | 2989/6321 [4:28:20<9:31:39, 10.29s/it]"
     ]
    },
    {
     "name": "stdout",
     "output_type": "stream",
     "text": [
      "Extracted content from https://www.seattleu.edu/directory/profiles/shweta-parajuli.php and saved to JSON.\n"
     ]
    },
    {
     "name": "stderr",
     "output_type": "stream",
     "text": [
      " 47%|████▋     | 2990/6321 [4:28:30<9:31:29, 10.29s/it]"
     ]
    },
    {
     "name": "stdout",
     "output_type": "stream",
     "text": [
      "Extracted content from https://www.seattleu.edu/directory/profiles/shyidah-salahuddin.php and saved to JSON.\n"
     ]
    },
    {
     "name": "stderr",
     "output_type": "stream",
     "text": [
      " 47%|████▋     | 2991/6321 [4:28:40<9:29:00, 10.25s/it]"
     ]
    },
    {
     "name": "stdout",
     "output_type": "stream",
     "text": [
      "Extracted content from https://www.seattleu.edu/directory/profiles/sidney-delong.php and saved to JSON.\n"
     ]
    },
    {
     "name": "stderr",
     "output_type": "stream",
     "text": [
      " 47%|████▋     | 2992/6321 [4:28:51<9:28:09, 10.24s/it]"
     ]
    },
    {
     "name": "stdout",
     "output_type": "stream",
     "text": [
      "Extracted content from https://www.seattleu.edu/directory/profiles/sihong-xie-phd.php and saved to JSON.\n"
     ]
    },
    {
     "name": "stderr",
     "output_type": "stream",
     "text": [
      " 47%|████▋     | 2993/6321 [4:29:01<9:26:47, 10.22s/it]"
     ]
    },
    {
     "name": "stdout",
     "output_type": "stream",
     "text": [
      "Extracted content from https://www.seattleu.edu/directory/profiles/sima-sarrafan.php and saved to JSON.\n"
     ]
    },
    {
     "name": "stderr",
     "output_type": "stream",
     "text": [
      " 47%|████▋     | 2994/6321 [4:29:11<9:25:43, 10.20s/it]"
     ]
    },
    {
     "name": "stdout",
     "output_type": "stream",
     "text": [
      "Extracted content from https://www.seattleu.edu/directory/profiles/simon-roth.php and saved to JSON.\n"
     ]
    },
    {
     "name": "stderr",
     "output_type": "stream",
     "text": [
      " 47%|████▋     | 2995/6321 [4:29:21<9:24:58, 10.19s/it]"
     ]
    },
    {
     "name": "stdout",
     "output_type": "stream",
     "text": [
      "Extracted content from https://www.seattleu.edu/directory/profiles/simone-winston.php and saved to JSON.\n"
     ]
    },
    {
     "name": "stderr",
     "output_type": "stream",
     "text": [
      " 47%|████▋     | 2996/6321 [4:29:31<9:24:02, 10.18s/it]"
     ]
    },
    {
     "name": "stdout",
     "output_type": "stream",
     "text": [
      "Extracted content from https://www.seattleu.edu/directory/profiles/sital-kalantry.php and saved to JSON.\n"
     ]
    },
    {
     "name": "stderr",
     "output_type": "stream",
     "text": [
      " 47%|████▋     | 2997/6321 [4:29:42<9:23:54, 10.18s/it]"
     ]
    },
    {
     "name": "stdout",
     "output_type": "stream",
     "text": [
      "Extracted content from https://www.seattleu.edu/directory/profiles/skyler-young.php and saved to JSON.\n"
     ]
    },
    {
     "name": "stderr",
     "output_type": "stream",
     "text": [
      " 47%|████▋     | 2998/6321 [4:29:52<9:25:26, 10.21s/it]"
     ]
    },
    {
     "name": "stdout",
     "output_type": "stream",
     "text": [
      "Extracted content from https://www.seattleu.edu/directory/profiles/sonia-barrios-tinoco-phd.php and saved to JSON.\n"
     ]
    },
    {
     "name": "stderr",
     "output_type": "stream",
     "text": [
      " 47%|████▋     | 2999/6321 [4:30:02<9:24:06, 10.19s/it]"
     ]
    },
    {
     "name": "stdout",
     "output_type": "stream",
     "text": [
      "Extracted content from https://www.seattleu.edu/directory/profiles/sonora-jha-phd.php and saved to JSON.\n"
     ]
    },
    {
     "name": "stderr",
     "output_type": "stream",
     "text": [
      " 47%|████▋     | 3000/6321 [4:30:12<9:23:22, 10.18s/it]"
     ]
    },
    {
     "name": "stdout",
     "output_type": "stream",
     "text": [
      "Extracted content from https://www.seattleu.edu/directory/profiles/sophia-tam.php and saved to JSON.\n"
     ]
    },
    {
     "name": "stderr",
     "output_type": "stream",
     "text": [
      " 47%|████▋     | 3001/6321 [4:30:22<9:22:33, 10.17s/it]"
     ]
    },
    {
     "name": "stdout",
     "output_type": "stream",
     "text": [
      "Extracted content from https://www.seattleu.edu/directory/profiles/soraya-conte.php and saved to JSON.\n"
     ]
    },
    {
     "name": "stderr",
     "output_type": "stream",
     "text": [
      " 47%|████▋     | 3002/6321 [4:30:32<9:21:52, 10.16s/it]"
     ]
    },
    {
     "name": "stdout",
     "output_type": "stream",
     "text": [
      "Extracted content from https://www.seattleu.edu/directory/profiles/spencer-ceballos.php and saved to JSON.\n"
     ]
    },
    {
     "name": "stderr",
     "output_type": "stream",
     "text": [
      " 48%|████▊     | 3003/6321 [4:30:42<9:21:25, 10.15s/it]"
     ]
    },
    {
     "name": "stdout",
     "output_type": "stream",
     "text": [
      "Extracted content from https://www.seattleu.edu/directory/profiles/spencer-walsh.php and saved to JSON.\n"
     ]
    },
    {
     "name": "stderr",
     "output_type": "stream",
     "text": [
      " 48%|████▊     | 3004/6321 [4:30:53<9:21:13, 10.15s/it]"
     ]
    },
    {
     "name": "stdout",
     "output_type": "stream",
     "text": [
      "Extracted content from https://www.seattleu.edu/directory/profiles/stacey-jones.php and saved to JSON.\n"
     ]
    },
    {
     "name": "stderr",
     "output_type": "stream",
     "text": [
      " 48%|████▊     | 3005/6321 [4:31:03<9:21:14, 10.16s/it]"
     ]
    },
    {
     "name": "stdout",
     "output_type": "stream",
     "text": [
      "Extracted content from https://www.seattleu.edu/directory/profiles/stanley-kong-dnp-msn-fnp-c-arnp.php and saved to JSON.\n"
     ]
    },
    {
     "name": "stderr",
     "output_type": "stream",
     "text": [
      " 48%|████▊     | 3006/6321 [4:31:13<9:23:20, 10.20s/it]"
     ]
    },
    {
     "name": "stdout",
     "output_type": "stream",
     "text": [
      "Extracted content from https://www.seattleu.edu/directory/profiles/steen-halling-phd.php and saved to JSON.\n"
     ]
    },
    {
     "name": "stderr",
     "output_type": "stream",
     "text": [
      " 48%|████▊     | 3007/6321 [4:31:23<9:22:39, 10.19s/it]"
     ]
    },
    {
     "name": "stdout",
     "output_type": "stream",
     "text": [
      "Extracted content from https://www.seattleu.edu/directory/profiles/stefan-still.php and saved to JSON.\n"
     ]
    },
    {
     "name": "stderr",
     "output_type": "stream",
     "text": [
      " 48%|████▊     | 3008/6321 [4:31:33<9:22:08, 10.18s/it]"
     ]
    },
    {
     "name": "stdout",
     "output_type": "stream",
     "text": [
      "Extracted content from https://www.seattleu.edu/directory/profiles/stefanie-fatooh.php and saved to JSON.\n"
     ]
    },
    {
     "name": "stderr",
     "output_type": "stream",
     "text": [
      " 48%|████▊     | 3009/6321 [4:31:44<9:21:28, 10.17s/it]"
     ]
    },
    {
     "name": "stdout",
     "output_type": "stream",
     "text": [
      "Extracted content from https://www.seattleu.edu/directory/profiles/stephanie-edlund-cho.php and saved to JSON.\n"
     ]
    },
    {
     "name": "stderr",
     "output_type": "stream",
     "text": [
      " 48%|████▊     | 3010/6321 [4:31:54<9:21:30, 10.18s/it]"
     ]
    },
    {
     "name": "stdout",
     "output_type": "stream",
     "text": [
      "Extracted content from https://www.seattleu.edu/directory/profiles/stephanie-lewis.php and saved to JSON.\n"
     ]
    },
    {
     "name": "stderr",
     "output_type": "stream",
     "text": [
      " 48%|████▊     | 3011/6321 [4:32:04<9:21:19, 10.18s/it]"
     ]
    },
    {
     "name": "stdout",
     "output_type": "stream",
     "text": [
      "Extracted content from https://www.seattleu.edu/directory/profiles/stephanie-wilson.php and saved to JSON.\n"
     ]
    },
    {
     "name": "stderr",
     "output_type": "stream",
     "text": [
      " 48%|████▊     | 3012/6321 [4:32:14<9:21:05, 10.17s/it]"
     ]
    },
    {
     "name": "stdout",
     "output_type": "stream",
     "text": [
      "Extracted content from https://www.seattleu.edu/directory/profiles/stephen-t-chan-phd.php and saved to JSON.\n"
     ]
    },
    {
     "name": "stderr",
     "output_type": "stream",
     "text": [
      " 48%|████▊     | 3013/6321 [4:32:24<9:20:19, 10.16s/it]"
     ]
    },
    {
     "name": "stdout",
     "output_type": "stream",
     "text": [
      "Extracted content from https://www.seattleu.edu/directory/profiles/stephen-johnson.php and saved to JSON.\n"
     ]
    },
    {
     "name": "stderr",
     "output_type": "stream",
     "text": [
      " 48%|████▊     | 3014/6321 [4:32:35<9:24:28, 10.24s/it]"
     ]
    },
    {
     "name": "stdout",
     "output_type": "stream",
     "text": [
      "Extracted content from https://www.seattleu.edu/directory/profiles/stephen-luckey-phd.php and saved to JSON.\n"
     ]
    },
    {
     "name": "stderr",
     "output_type": "stream",
     "text": [
      " 48%|████▊     | 3015/6321 [4:32:45<9:23:00, 10.22s/it]"
     ]
    },
    {
     "name": "stdout",
     "output_type": "stream",
     "text": [
      "Extracted content from https://www.seattleu.edu/directory/profiles/stephen-mitchell-mpa-bsn.php and saved to JSON.\n"
     ]
    },
    {
     "name": "stderr",
     "output_type": "stream",
     "text": [
      " 48%|████▊     | 3016/6321 [4:32:55<9:21:58, 10.20s/it]"
     ]
    },
    {
     "name": "stdout",
     "output_type": "stream",
     "text": [
      "Extracted content from https://www.seattleu.edu/directory/profiles/stephen-sundborg-sj.php and saved to JSON.\n"
     ]
    },
    {
     "name": "stderr",
     "output_type": "stream",
     "text": [
      " 48%|████▊     | 3017/6321 [4:33:05<9:20:56, 10.19s/it]"
     ]
    },
    {
     "name": "stdout",
     "output_type": "stream",
     "text": [
      "Extracted content from https://www.seattleu.edu/directory/profiles/stephen-brown-phd.php and saved to JSON.\n"
     ]
    },
    {
     "name": "stderr",
     "output_type": "stream",
     "text": [
      " 48%|████▊     | 3018/6321 [4:33:15<9:21:41, 10.20s/it]"
     ]
    },
    {
     "name": "stdout",
     "output_type": "stream",
     "text": [
      "Extracted content from https://www.seattleu.edu/directory/profiles/steve-de-bruhl.php and saved to JSON.\n"
     ]
    },
    {
     "name": "stderr",
     "output_type": "stream",
     "text": [
      " 48%|████▊     | 3019/6321 [4:33:26<9:20:52, 10.19s/it]"
     ]
    },
    {
     "name": "stdout",
     "output_type": "stream",
     "text": [
      "Extracted content from https://www.seattleu.edu/directory/profiles/steven-bender.php and saved to JSON.\n"
     ]
    },
    {
     "name": "stderr",
     "output_type": "stream",
     "text": [
      " 48%|████▊     | 3020/6321 [4:33:36<9:22:12, 10.22s/it]"
     ]
    },
    {
     "name": "stdout",
     "output_type": "stream",
     "text": [
      "Extracted content from https://www.seattleu.edu/directory/profiles/steve-hanks-phd.php and saved to JSON.\n"
     ]
    },
    {
     "name": "stderr",
     "output_type": "stream",
     "text": [
      " 48%|████▊     | 3021/6321 [4:33:46<9:22:54, 10.23s/it]"
     ]
    },
    {
     "name": "stdout",
     "output_type": "stream",
     "text": [
      "Extracted content from https://www.seattleu.edu/directory/profiles/steve-mar-mba.php and saved to JSON.\n"
     ]
    },
    {
     "name": "stderr",
     "output_type": "stream",
     "text": [
      " 48%|████▊     | 3022/6321 [4:33:56<9:23:59, 10.26s/it]"
     ]
    },
    {
     "name": "stdout",
     "output_type": "stream",
     "text": [
      "Extracted content from https://www.seattleu.edu/directory/profiles/steven-reid.php and saved to JSON.\n"
     ]
    },
    {
     "name": "stderr",
     "output_type": "stream",
     "text": [
      " 48%|████▊     | 3023/6321 [4:34:07<9:22:28, 10.23s/it]"
     ]
    },
    {
     "name": "stdout",
     "output_type": "stream",
     "text": [
      "Extracted content from https://www.seattleu.edu/directory/profiles/steven-tapia.php and saved to JSON.\n"
     ]
    },
    {
     "name": "stderr",
     "output_type": "stream",
     "text": [
      " 48%|████▊     | 3024/6321 [4:34:17<9:21:08, 10.21s/it]"
     ]
    },
    {
     "name": "stdout",
     "output_type": "stream",
     "text": [
      "Extracted content from https://www.seattleu.edu/directory/profiles/sue-bube.php and saved to JSON.\n"
     ]
    },
    {
     "name": "stderr",
     "output_type": "stream",
     "text": [
      " 48%|████▊     | 3025/6321 [4:34:27<9:21:14, 10.22s/it]"
     ]
    },
    {
     "name": "stdout",
     "output_type": "stream",
     "text": [
      "Extracted content from https://www.seattleu.edu/directory/profiles/suellen-baehr.php and saved to JSON.\n"
     ]
    },
    {
     "name": "stderr",
     "output_type": "stream",
     "text": [
      " 48%|████▊     | 3026/6321 [4:34:37<9:19:40, 10.19s/it]"
     ]
    },
    {
     "name": "stdout",
     "output_type": "stream",
     "text": [
      "Extracted content from https://www.seattleu.edu/directory/profiles/sunam-ellis.php and saved to JSON.\n"
     ]
    },
    {
     "name": "stderr",
     "output_type": "stream",
     "text": [
      " 48%|████▊     | 3027/6321 [4:34:47<9:19:51, 10.20s/it]"
     ]
    },
    {
     "name": "stdout",
     "output_type": "stream",
     "text": [
      "Extracted content from https://www.seattleu.edu/directory/profiles/susan-bayes-msn-rn.php and saved to JSON.\n"
     ]
    },
    {
     "name": "stderr",
     "output_type": "stream",
     "text": [
      " 48%|████▊     | 3028/6321 [4:34:58<9:19:19, 10.19s/it]"
     ]
    },
    {
     "name": "stdout",
     "output_type": "stream",
     "text": [
      "Extracted content from https://www.seattleu.edu/directory/profiles/susan-bloomfield.php and saved to JSON.\n"
     ]
    },
    {
     "name": "stderr",
     "output_type": "stream",
     "text": [
      " 48%|████▊     | 3029/6321 [4:35:08<9:19:42, 10.20s/it]"
     ]
    },
    {
     "name": "stdout",
     "output_type": "stream",
     "text": [
      "Extracted content from https://www.seattleu.edu/directory/profiles/susan-cole.php and saved to JSON.\n"
     ]
    },
    {
     "name": "stderr",
     "output_type": "stream",
     "text": [
      " 48%|████▊     | 3030/6321 [4:35:18<9:22:50, 10.26s/it]"
     ]
    },
    {
     "name": "stdout",
     "output_type": "stream",
     "text": [
      "Extracted content from https://www.seattleu.edu/directory/profiles/susan-geiduschek-dnp-rn-nea-bc.php and saved to JSON.\n"
     ]
    },
    {
     "name": "stderr",
     "output_type": "stream",
     "text": [
      " 48%|████▊     | 3031/6321 [4:35:28<9:20:53, 10.23s/it]"
     ]
    },
    {
     "name": "stdout",
     "output_type": "stream",
     "text": [
      "Extracted content from https://www.seattleu.edu/directory/profiles/susan-hogan.php and saved to JSON.\n"
     ]
    },
    {
     "name": "stderr",
     "output_type": "stream",
     "text": [
      " 48%|████▊     | 3032/6321 [4:35:38<9:19:43, 10.21s/it]"
     ]
    },
    {
     "name": "stdout",
     "output_type": "stream",
     "text": [
      "Extracted content from https://www.seattleu.edu/directory/profiles/sue-jackels-phd.php and saved to JSON.\n"
     ]
    },
    {
     "name": "stderr",
     "output_type": "stream",
     "text": [
      " 48%|████▊     | 3033/6321 [4:35:49<9:18:24, 10.19s/it]"
     ]
    },
    {
     "name": "stdout",
     "output_type": "stream",
     "text": [
      "Extracted content from https://www.seattleu.edu/directory/profiles/susan-kezele.php and saved to JSON.\n"
     ]
    },
    {
     "name": "stderr",
     "output_type": "stream",
     "text": [
      " 48%|████▊     | 3034/6321 [4:35:59<9:17:32, 10.18s/it]"
     ]
    },
    {
     "name": "stdout",
     "output_type": "stream",
     "text": [
      "Extracted content from https://www.seattleu.edu/directory/profiles/susan-meyers-phd.php and saved to JSON.\n"
     ]
    },
    {
     "name": "stderr",
     "output_type": "stream",
     "text": [
      " 48%|████▊     | 3035/6321 [4:36:09<9:16:52, 10.17s/it]"
     ]
    },
    {
     "name": "stdout",
     "output_type": "stream",
     "text": [
      "Extracted content from https://www.seattleu.edu/directory/profiles/susan-murphy.php and saved to JSON.\n"
     ]
    },
    {
     "name": "stderr",
     "output_type": "stream",
     "text": [
      " 48%|████▊     | 3036/6321 [4:36:19<9:16:41, 10.17s/it]"
     ]
    },
    {
     "name": "stdout",
     "output_type": "stream",
     "text": [
      "Extracted content from https://www.seattleu.edu/directory/profiles/susan-reeder-ma.php and saved to JSON.\n"
     ]
    },
    {
     "name": "stderr",
     "output_type": "stream",
     "text": [
      " 48%|████▊     | 3037/6321 [4:36:29<9:16:29, 10.17s/it]"
     ]
    },
    {
     "name": "stdout",
     "output_type": "stream",
     "text": [
      "Extracted content from https://www.seattleu.edu/directory/profiles/susan-secker.php and saved to JSON.\n"
     ]
    },
    {
     "name": "stderr",
     "output_type": "stream",
     "text": [
      " 48%|████▊     | 3038/6321 [4:36:39<9:17:33, 10.19s/it]"
     ]
    },
    {
     "name": "stdout",
     "output_type": "stream",
     "text": [
      "Extracted content from https://www.seattleu.edu/directory/profiles/susan-weihrich.php and saved to JSON.\n"
     ]
    },
    {
     "name": "stderr",
     "output_type": "stream",
     "text": [
      " 48%|████▊     | 3039/6321 [4:36:50<9:16:41, 10.18s/it]"
     ]
    },
    {
     "name": "stdout",
     "output_type": "stream",
     "text": [
      "Extracted content from https://www.seattleu.edu/directory/profiles/susie-davis.php and saved to JSON.\n"
     ]
    },
    {
     "name": "stderr",
     "output_type": "stream",
     "text": [
      " 48%|████▊     | 3040/6321 [4:37:00<9:16:07, 10.17s/it]"
     ]
    },
    {
     "name": "stdout",
     "output_type": "stream",
     "text": [
      "Extracted content from https://www.seattleu.edu/directory/profiles/suzan-griffis-knowles-dnp-mn-rn-bc.php and saved to JSON.\n"
     ]
    },
    {
     "name": "stderr",
     "output_type": "stream",
     "text": [
      " 48%|████▊     | 3041/6321 [4:37:10<9:15:16, 10.16s/it]"
     ]
    },
    {
     "name": "stdout",
     "output_type": "stream",
     "text": [
      "Extracted content from https://www.seattleu.edu/directory/profiles/suzanne-haws.php and saved to JSON.\n"
     ]
    },
    {
     "name": "stderr",
     "output_type": "stream",
     "text": [
      " 48%|████▊     | 3042/6321 [4:37:20<9:14:55, 10.15s/it]"
     ]
    },
    {
     "name": "stdout",
     "output_type": "stream",
     "text": [
      "Extracted content from https://www.seattleu.edu/directory/profiles/suzanne-seaton.php and saved to JSON.\n"
     ]
    },
    {
     "name": "stderr",
     "output_type": "stream",
     "text": [
      " 48%|████▊     | 3043/6321 [4:37:30<9:15:35, 10.17s/it]"
     ]
    },
    {
     "name": "stdout",
     "output_type": "stream",
     "text": [
      "Extracted content from https://www.seattleu.edu/directory/profiles/suzanne-walker.php and saved to JSON.\n"
     ]
    },
    {
     "name": "stderr",
     "output_type": "stream",
     "text": [
      " 48%|████▊     | 3044/6321 [4:37:41<9:18:29, 10.23s/it]"
     ]
    },
    {
     "name": "stdout",
     "output_type": "stream",
     "text": [
      "Extracted content from https://www.seattleu.edu/directory/profiles/svyatoslav-samko.php and saved to JSON.\n"
     ]
    },
    {
     "name": "stderr",
     "output_type": "stream",
     "text": [
      " 48%|████▊     | 3045/6321 [4:37:51<9:17:32, 10.21s/it]"
     ]
    },
    {
     "name": "stdout",
     "output_type": "stream",
     "text": [
      "Extracted content from https://www.seattleu.edu/directory/profiles/sydni-beard.php and saved to JSON.\n"
     ]
    },
    {
     "name": "stderr",
     "output_type": "stream",
     "text": [
      " 48%|████▊     | 3047/6321 [4:38:01<6:34:00,  7.22s/it]"
     ]
    },
    {
     "name": "stdout",
     "output_type": "stream",
     "text": [
      "Error processing https:www.seattleu.edu/directory/profiles/sylvia-hanna.php: HTTP Error 404: Not Found\n",
      "Extracted content from https://www.seattleu.edu/directory/profiles/tam-q-dinh-phd-licsw.php and saved to JSON.\n"
     ]
    },
    {
     "name": "stderr",
     "output_type": "stream",
     "text": [
      " 48%|████▊     | 3049/6321 [4:38:12<5:12:46,  5.74s/it]"
     ]
    },
    {
     "name": "stdout",
     "output_type": "stream",
     "text": [
      "Error processing https:www.seattleu.edu/directory/profiles/tamara-morgan.php: HTTP Error 404: Not Found\n",
      "Extracted content from https://www.seattleu.edu/directory/profiles/tami-soderberg.php and saved to JSON.\n"
     ]
    },
    {
     "name": "stderr",
     "output_type": "stream",
     "text": [
      " 48%|████▊     | 3050/6321 [4:38:22<6:25:10,  7.07s/it]"
     ]
    },
    {
     "name": "stdout",
     "output_type": "stream",
     "text": [
      "Extracted content from https://www.seattleu.edu/directory/profiles/tanner-humiston-mba.php and saved to JSON.\n"
     ]
    },
    {
     "name": "stderr",
     "output_type": "stream",
     "text": [
      " 48%|████▊     | 3051/6321 [4:38:32<7:15:45,  8.00s/it]"
     ]
    },
    {
     "name": "stdout",
     "output_type": "stream",
     "text": [
      "Extracted content from https://www.seattleu.edu/directory/profiles/tanya-hayes.php and saved to JSON.\n"
     ]
    },
    {
     "name": "stderr",
     "output_type": "stream",
     "text": [
      " 48%|████▊     | 3052/6321 [4:38:42<7:50:50,  8.64s/it]"
     ]
    },
    {
     "name": "stdout",
     "output_type": "stream",
     "text": [
      "Extracted content from https://www.seattleu.edu/directory/profiles/tapoja-chaudhuri-phd.php and saved to JSON.\n"
     ]
    },
    {
     "name": "stderr",
     "output_type": "stream",
     "text": [
      " 48%|████▊     | 3053/6321 [4:38:52<8:15:46,  9.10s/it]"
     ]
    },
    {
     "name": "stdout",
     "output_type": "stream",
     "text": [
      "Extracted content from https://www.seattleu.edu/directory/profiles/tara-graham-med.php and saved to JSON.\n"
     ]
    },
    {
     "name": "stderr",
     "output_type": "stream",
     "text": [
      " 48%|████▊     | 3054/6321 [4:39:02<8:32:45,  9.42s/it]"
     ]
    },
    {
     "name": "stdout",
     "output_type": "stream",
     "text": [
      "Extracted content from https://www.seattleu.edu/directory/profiles/tara-hicks.php and saved to JSON.\n"
     ]
    },
    {
     "name": "stderr",
     "output_type": "stream",
     "text": [
      " 48%|████▊     | 3055/6321 [4:39:13<8:44:01,  9.63s/it]"
     ]
    },
    {
     "name": "stdout",
     "output_type": "stream",
     "text": [
      "Extracted content from https://www.seattleu.edu/directory/profiles/tarra-patrick.php and saved to JSON.\n"
     ]
    },
    {
     "name": "stderr",
     "output_type": "stream",
     "text": [
      " 48%|████▊     | 3056/6321 [4:39:23<8:57:27,  9.88s/it]"
     ]
    },
    {
     "name": "stdout",
     "output_type": "stream",
     "text": [
      "Extracted content from https://www.seattleu.edu/directory/profiles/tasha-walston.php and saved to JSON.\n"
     ]
    },
    {
     "name": "stderr",
     "output_type": "stream",
     "text": [
      " 48%|████▊     | 3057/6321 [4:39:33<9:04:45, 10.01s/it]"
     ]
    },
    {
     "name": "stdout",
     "output_type": "stream",
     "text": [
      "Extracted content from https://www.seattleu.edu/directory/profiles/tatiana-chernih-msn-rn.php and saved to JSON.\n"
     ]
    },
    {
     "name": "stderr",
     "output_type": "stream",
     "text": [
      " 48%|████▊     | 3058/6321 [4:39:44<9:06:53, 10.06s/it]"
     ]
    },
    {
     "name": "stdout",
     "output_type": "stream",
     "text": [
      "Extracted content from https://www.seattleu.edu/directory/profiles/taylor-meyer.php and saved to JSON.\n"
     ]
    },
    {
     "name": "stderr",
     "output_type": "stream",
     "text": [
      " 48%|████▊     | 3059/6321 [4:39:54<9:08:35, 10.09s/it]"
     ]
    },
    {
     "name": "stdout",
     "output_type": "stream",
     "text": [
      "Extracted content from https://www.seattleu.edu/directory/profiles/tayyab-mahmud-jd.php and saved to JSON.\n"
     ]
    },
    {
     "name": "stderr",
     "output_type": "stream",
     "text": [
      " 48%|████▊     | 3060/6321 [4:40:04<9:15:41, 10.22s/it]"
     ]
    },
    {
     "name": "stdout",
     "output_type": "stream",
     "text": [
      "Extracted content from https://www.seattleu.edu/directory/profiles/ted-fortier.php and saved to JSON.\n"
     ]
    },
    {
     "name": "stderr",
     "output_type": "stream",
     "text": [
      " 48%|████▊     | 3061/6321 [4:40:15<9:20:12, 10.31s/it]"
     ]
    },
    {
     "name": "stdout",
     "output_type": "stream",
     "text": [
      "Extracted content from https://www.seattleu.edu/directory/profiles/teodora-rutar-shuman-phd.php and saved to JSON.\n"
     ]
    },
    {
     "name": "stderr",
     "output_type": "stream",
     "text": [
      " 48%|████▊     | 3062/6321 [4:40:25<9:17:49, 10.27s/it]"
     ]
    },
    {
     "name": "stdout",
     "output_type": "stream",
     "text": [
      "Extracted content from https://www.seattleu.edu/directory/profiles/teresa-brosnan-llm-mba-attorney.php and saved to JSON.\n"
     ]
    },
    {
     "name": "stderr",
     "output_type": "stream",
     "text": [
      " 48%|████▊     | 3063/6321 [4:40:35<9:17:04, 10.26s/it]"
     ]
    },
    {
     "name": "stdout",
     "output_type": "stream",
     "text": [
      "Extracted content from https://www.seattleu.edu/directory/profiles/teresa-ling.php and saved to JSON.\n"
     ]
    },
    {
     "name": "stderr",
     "output_type": "stream",
     "text": [
      " 48%|████▊     | 3064/6321 [4:40:45<9:15:22, 10.23s/it]"
     ]
    },
    {
     "name": "stdout",
     "output_type": "stream",
     "text": [
      "Extracted content from https://www.seattleu.edu/directory/profiles/teresa-ramon-joffre.php and saved to JSON.\n"
     ]
    },
    {
     "name": "stderr",
     "output_type": "stream",
     "text": [
      " 48%|████▊     | 3065/6321 [4:40:56<9:16:26, 10.25s/it]"
     ]
    },
    {
     "name": "stdout",
     "output_type": "stream",
     "text": [
      "Extracted content from https://www.seattleu.edu/directory/profiles/teresa-rothausen-phd.php and saved to JSON.\n"
     ]
    },
    {
     "name": "stderr",
     "output_type": "stream",
     "text": [
      " 49%|████▊     | 3066/6321 [4:41:06<9:14:36, 10.22s/it]"
     ]
    },
    {
     "name": "stdout",
     "output_type": "stream",
     "text": [
      "Extracted content from https://www.seattleu.edu/directory/profiles/teresa-sagapolutele-bs-ba-rdcs-rvt-cht.php and saved to JSON.\n"
     ]
    },
    {
     "name": "stderr",
     "output_type": "stream",
     "text": [
      " 49%|████▊     | 3067/6321 [4:41:16<9:16:43, 10.27s/it]"
     ]
    },
    {
     "name": "stdout",
     "output_type": "stream",
     "text": [
      "Extracted content from https://www.seattleu.edu/directory/profiles/teri-nguyen.php and saved to JSON.\n"
     ]
    },
    {
     "name": "stderr",
     "output_type": "stream",
     "text": [
      " 49%|████▊     | 3068/6321 [4:41:26<9:14:45, 10.23s/it]"
     ]
    },
    {
     "name": "stdout",
     "output_type": "stream",
     "text": [
      "Extracted content from https://www.seattleu.edu/directory/profiles/teron-uy.php and saved to JSON.\n"
     ]
    },
    {
     "name": "stderr",
     "output_type": "stream",
     "text": [
      " 49%|████▊     | 3069/6321 [4:41:36<9:13:32, 10.21s/it]"
     ]
    },
    {
     "name": "stdout",
     "output_type": "stream",
     "text": [
      "Extracted content from https://www.seattleu.edu/directory/profiles/terri-clark.php and saved to JSON.\n"
     ]
    },
    {
     "name": "stderr",
     "output_type": "stream",
     "text": [
      " 49%|████▊     | 3070/6321 [4:41:47<9:12:31, 10.20s/it]"
     ]
    },
    {
     "name": "stdout",
     "output_type": "stream",
     "text": [
      "Extracted content from https://www.seattleu.edu/directory/profiles/terry-cicero.php and saved to JSON.\n"
     ]
    },
    {
     "name": "stderr",
     "output_type": "stream",
     "text": [
      " 49%|████▊     | 3071/6321 [4:41:57<9:12:00, 10.19s/it]"
     ]
    },
    {
     "name": "stdout",
     "output_type": "stream",
     "text": [
      "Extracted content from https://www.seattleu.edu/directory/profiles/terry-foster-jd.php and saved to JSON.\n"
     ]
    },
    {
     "name": "stderr",
     "output_type": "stream",
     "text": [
      " 49%|████▊     | 3072/6321 [4:42:07<9:11:54, 10.19s/it]"
     ]
    },
    {
     "name": "stdout",
     "output_type": "stream",
     "text": [
      "Extracted content from https://www.seattleu.edu/directory/profiles/terry-lundmark.php and saved to JSON.\n"
     ]
    },
    {
     "name": "stderr",
     "output_type": "stream",
     "text": [
      " 49%|████▊     | 3073/6321 [4:42:17<9:13:49, 10.23s/it]"
     ]
    },
    {
     "name": "stdout",
     "output_type": "stream",
     "text": [
      "Extracted content from https://www.seattleu.edu/directory/profiles/tess-altiveros.php and saved to JSON.\n"
     ]
    },
    {
     "name": "stderr",
     "output_type": "stream",
     "text": [
      " 49%|████▊     | 3074/6321 [4:42:27<9:12:16, 10.21s/it]"
     ]
    },
    {
     "name": "stdout",
     "output_type": "stream",
     "text": [
      "Extracted content from https://www.seattleu.edu/directory/profiles/maria-tete-t-stillwell.php and saved to JSON.\n"
     ]
    },
    {
     "name": "stderr",
     "output_type": "stream",
     "text": [
      " 49%|████▊     | 3075/6321 [4:42:38<9:12:01, 10.20s/it]"
     ]
    },
    {
     "name": "stdout",
     "output_type": "stream",
     "text": [
      "Extracted content from https://www.seattleu.edu/directory/profiles/thai-nguyen.php and saved to JSON.\n"
     ]
    },
    {
     "name": "stderr",
     "output_type": "stream",
     "text": [
      " 49%|████▊     | 3076/6321 [4:42:48<9:11:30, 10.20s/it]"
     ]
    },
    {
     "name": "stdout",
     "output_type": "stream",
     "text": [
      "Extracted content from https://www.seattleu.edu/directory/profiles/theari-leng.php and saved to JSON.\n"
     ]
    },
    {
     "name": "stderr",
     "output_type": "stream",
     "text": [
      " 49%|████▊     | 3077/6321 [4:42:58<9:10:21, 10.18s/it]"
     ]
    },
    {
     "name": "stdout",
     "output_type": "stream",
     "text": [
      "Extracted content from https://www.seattleu.edu/directory/profiles/theodore-collins.php and saved to JSON.\n"
     ]
    },
    {
     "name": "stderr",
     "output_type": "stream",
     "text": [
      " 49%|████▊     | 3078/6321 [4:43:08<9:09:53, 10.17s/it]"
     ]
    },
    {
     "name": "stdout",
     "output_type": "stream",
     "text": [
      "Extracted content from https://www.seattleu.edu/directory/profiles/theresa-m-earenfight-phd.php and saved to JSON.\n"
     ]
    },
    {
     "name": "stderr",
     "output_type": "stream",
     "text": [
      " 49%|████▊     | 3079/6321 [4:43:18<9:09:37, 10.17s/it]"
     ]
    },
    {
     "name": "stdout",
     "output_type": "stream",
     "text": [
      "Extracted content from https://www.seattleu.edu/directory/profiles/theresa-ranta.php and saved to JSON.\n"
     ]
    },
    {
     "name": "stderr",
     "output_type": "stream",
     "text": [
      " 49%|████▊     | 3080/6321 [4:43:28<9:09:32, 10.17s/it]"
     ]
    },
    {
     "name": "stdout",
     "output_type": "stream",
     "text": [
      "Extracted content from https://www.seattleu.edu/directory/profiles/theresa-swanson-med.php and saved to JSON.\n"
     ]
    },
    {
     "name": "stderr",
     "output_type": "stream",
     "text": [
      " 49%|████▊     | 3081/6321 [4:43:39<9:13:08, 10.24s/it]"
     ]
    },
    {
     "name": "stdout",
     "output_type": "stream",
     "text": [
      "Extracted content from https://www.seattleu.edu/directory/profiles/therese-huston.php and saved to JSON.\n"
     ]
    },
    {
     "name": "stderr",
     "output_type": "stream",
     "text": [
      " 49%|████▉     | 3082/6321 [4:43:49<9:17:05, 10.32s/it]"
     ]
    },
    {
     "name": "stdout",
     "output_type": "stream",
     "text": [
      "Extracted content from https://www.seattleu.edu/directory/profiles/therry-rose-eparwa-dnp-msn-rn-fnp-bc.php and saved to JSON.\n"
     ]
    },
    {
     "name": "stderr",
     "output_type": "stream",
     "text": [
      " 49%|████▉     | 3083/6321 [4:44:00<9:14:27, 10.27s/it]"
     ]
    },
    {
     "name": "stdout",
     "output_type": "stream",
     "text": [
      "Extracted content from https://www.seattleu.edu/directory/profiles/thomas-antkowiak.php and saved to JSON.\n"
     ]
    },
    {
     "name": "stderr",
     "output_type": "stream",
     "text": [
      " 49%|████▉     | 3084/6321 [4:44:10<9:12:27, 10.24s/it]"
     ]
    },
    {
     "name": "stdout",
     "output_type": "stream",
     "text": [
      "Extracted content from https://www.seattleu.edu/directory/profiles/thomas-lucas.php and saved to JSON.\n"
     ]
    },
    {
     "name": "stderr",
     "output_type": "stream",
     "text": [
      " 49%|████▉     | 3085/6321 [4:44:20<9:11:09, 10.22s/it]"
     ]
    },
    {
     "name": "stdout",
     "output_type": "stream",
     "text": [
      "Extracted content from https://www.seattleu.edu/directory/profiles/thomas-j-mann.php and saved to JSON.\n"
     ]
    },
    {
     "name": "stderr",
     "output_type": "stream",
     "text": [
      " 49%|████▉     | 3087/6321 [4:44:30<6:28:07,  7.20s/it]"
     ]
    },
    {
     "name": "stdout",
     "output_type": "stream",
     "text": [
      "Error processing https:www.seattleu.edu/directory/profiles/thomas-morris.php: HTTP Error 404: Not Found\n",
      "Extracted content from https://www.seattleu.edu/directory/profiles/thomas-k-pool-phd.php and saved to JSON.\n"
     ]
    },
    {
     "name": "stderr",
     "output_type": "stream",
     "text": [
      " 49%|████▉     | 3088/6321 [4:44:40<7:15:51,  8.09s/it]"
     ]
    },
    {
     "name": "stdout",
     "output_type": "stream",
     "text": [
      "Extracted content from https://www.seattleu.edu/directory/profiles/thomas-schultz.php and saved to JSON.\n"
     ]
    },
    {
     "name": "stderr",
     "output_type": "stream",
     "text": [
      " 49%|████▉     | 3089/6321 [4:44:51<7:48:57,  8.71s/it]"
     ]
    },
    {
     "name": "stdout",
     "output_type": "stream",
     "text": [
      "Extracted content from https://www.seattleu.edu/directory/profiles/tom-taylor-phd.php and saved to JSON.\n"
     ]
    },
    {
     "name": "stderr",
     "output_type": "stream",
     "text": [
      " 49%|████▉     | 3090/6321 [4:45:01<8:14:06,  9.18s/it]"
     ]
    },
    {
     "name": "stdout",
     "output_type": "stream",
     "text": [
      "Extracted content from https://www.seattleu.edu/directory/profiles/thomas-zahniser.php and saved to JSON.\n"
     ]
    },
    {
     "name": "stderr",
     "output_type": "stream",
     "text": [
      " 49%|████▉     | 3092/6321 [4:45:11<5:59:59,  6.69s/it]"
     ]
    },
    {
     "name": "stdout",
     "output_type": "stream",
     "text": [
      "Error processing https:www.seattleu.edu/directory/profiles/thongdam-khamsuksawat.php: HTTP Error 404: Not Found\n",
      "Extracted content from https://www.seattleu.edu/directory/profiles/thorne-clayton-falls.php and saved to JSON.\n"
     ]
    },
    {
     "name": "stderr",
     "output_type": "stream",
     "text": [
      " 49%|████▉     | 3093/6321 [4:45:21<6:56:06,  7.73s/it]"
     ]
    },
    {
     "name": "stdout",
     "output_type": "stream",
     "text": [
      "Extracted content from https://www.seattleu.edu/directory/profiles/tia-squires.php and saved to JSON.\n"
     ]
    },
    {
     "name": "stderr",
     "output_type": "stream",
     "text": [
      " 49%|████▉     | 3094/6321 [4:45:32<7:35:15,  8.46s/it]"
     ]
    },
    {
     "name": "stdout",
     "output_type": "stream",
     "text": [
      "Extracted content from https://www.seattleu.edu/directory/profiles/tiffany-hu.php and saved to JSON.\n"
     ]
    },
    {
     "name": "stderr",
     "output_type": "stream",
     "text": [
      " 49%|████▉     | 3095/6321 [4:45:42<8:02:00,  8.96s/it]"
     ]
    },
    {
     "name": "stdout",
     "output_type": "stream",
     "text": [
      "Extracted content from https://www.seattleu.edu/directory/profiles/tim-duane.php and saved to JSON.\n"
     ]
    },
    {
     "name": "stderr",
     "output_type": "stream",
     "text": [
      " 49%|████▉     | 3096/6321 [4:45:52<8:21:12,  9.32s/it]"
     ]
    },
    {
     "name": "stdout",
     "output_type": "stream",
     "text": [
      "Extracted content from https://www.seattleu.edu/directory/profiles/timothy-albert.php and saved to JSON.\n"
     ]
    },
    {
     "name": "stderr",
     "output_type": "stream",
     "text": [
      " 49%|████▉     | 3097/6321 [4:46:02<8:34:34,  9.58s/it]"
     ]
    },
    {
     "name": "stdout",
     "output_type": "stream",
     "text": [
      "Extracted content from https://www.seattleu.edu/directory/profiles/timothy-corey.php and saved to JSON.\n"
     ]
    },
    {
     "name": "stderr",
     "output_type": "stream",
     "text": [
      " 49%|████▉     | 3098/6321 [4:46:12<8:44:14,  9.76s/it]"
     ]
    },
    {
     "name": "stdout",
     "output_type": "stream",
     "text": [
      "Extracted content from https://www.seattleu.edu/directory/profiles/timothy-g-gould-mba.php and saved to JSON.\n"
     ]
    },
    {
     "name": "stderr",
     "output_type": "stream",
     "text": [
      " 49%|████▉     | 3099/6321 [4:46:23<8:53:31,  9.94s/it]"
     ]
    },
    {
     "name": "stdout",
     "output_type": "stream",
     "text": [
      "Extracted content from https://www.seattleu.edu/directory/profiles/timothy-sneed.php and saved to JSON.\n"
     ]
    },
    {
     "name": "stderr",
     "output_type": "stream",
     "text": [
      " 49%|████▉     | 3100/6321 [4:46:33<8:56:57, 10.00s/it]"
     ]
    },
    {
     "name": "stdout",
     "output_type": "stream",
     "text": [
      "Extracted content from https://www.seattleu.edu/directory/profiles/tina-kouratachvili.php and saved to JSON.\n"
     ]
    },
    {
     "name": "stderr",
     "output_type": "stream",
     "text": [
      " 49%|████▉     | 3101/6321 [4:46:43<8:59:30, 10.05s/it]"
     ]
    },
    {
     "name": "stdout",
     "output_type": "stream",
     "text": [
      "Extracted content from https://www.seattleu.edu/directory/profiles/tina-potterf.php and saved to JSON.\n"
     ]
    },
    {
     "name": "stderr",
     "output_type": "stream",
     "text": [
      " 49%|████▉     | 3102/6321 [4:46:53<9:01:02, 10.08s/it]"
     ]
    },
    {
     "name": "stdout",
     "output_type": "stream",
     "text": [
      "Extracted content from https://www.seattleu.edu/directory/profiles/tomas-guillen-ma.php and saved to JSON.\n"
     ]
    },
    {
     "name": "stderr",
     "output_type": "stream",
     "text": [
      " 49%|████▉     | 3103/6321 [4:47:03<9:02:15, 10.11s/it]"
     ]
    },
    {
     "name": "stdout",
     "output_type": "stream",
     "text": [
      "Extracted content from https://www.seattleu.edu/directory/profiles/tommy-zumstein.php and saved to JSON.\n"
     ]
    },
    {
     "name": "stderr",
     "output_type": "stream",
     "text": [
      " 49%|████▉     | 3104/6321 [4:47:13<9:03:08, 10.13s/it]"
     ]
    },
    {
     "name": "stdout",
     "output_type": "stream",
     "text": [
      "Extracted content from https://www.seattleu.edu/directory/profiles/toni-m-vezeau-phd-rnc-ibclc.php and saved to JSON.\n"
     ]
    },
    {
     "name": "stderr",
     "output_type": "stream",
     "text": [
      " 49%|████▉     | 3105/6321 [4:47:24<9:03:38, 10.14s/it]"
     ]
    },
    {
     "name": "stdout",
     "output_type": "stream",
     "text": [
      "Extracted content from https://www.seattleu.edu/directory/profiles/tony-ly.php and saved to JSON.\n"
     ]
    },
    {
     "name": "stderr",
     "output_type": "stream",
     "text": [
      " 49%|████▉     | 3106/6321 [4:47:34<9:03:51, 10.15s/it]"
     ]
    },
    {
     "name": "stdout",
     "output_type": "stream",
     "text": [
      "Extracted content from https://www.seattleu.edu/directory/profiles/tonya-lockyer-mfa.php and saved to JSON.\n"
     ]
    },
    {
     "name": "stderr",
     "output_type": "stream",
     "text": [
      " 49%|████▉     | 3107/6321 [4:47:44<9:06:14, 10.20s/it]"
     ]
    },
    {
     "name": "stdout",
     "output_type": "stream",
     "text": [
      "Extracted content from https://www.seattleu.edu/directory/profiles/tonya-stone-msn-rn.php and saved to JSON.\n"
     ]
    },
    {
     "name": "stderr",
     "output_type": "stream",
     "text": [
      " 49%|████▉     | 3108/6321 [4:47:54<9:05:27, 10.19s/it]"
     ]
    },
    {
     "name": "stdout",
     "output_type": "stream",
     "text": [
      "Extracted content from https://www.seattleu.edu/directory/profiles/trace-seaton.php and saved to JSON.\n"
     ]
    },
    {
     "name": "stderr",
     "output_type": "stream",
     "text": [
      " 49%|████▉     | 3109/6321 [4:48:04<9:04:56, 10.18s/it]"
     ]
    },
    {
     "name": "stdout",
     "output_type": "stream",
     "text": [
      "Extracted content from https://www.seattleu.edu/directory/profiles/tracee-parker.php and saved to JSON.\n"
     ]
    },
    {
     "name": "stderr",
     "output_type": "stream",
     "text": [
      " 49%|████▉     | 3110/6321 [4:48:14<9:04:25, 10.17s/it]"
     ]
    },
    {
     "name": "stdout",
     "output_type": "stream",
     "text": [
      "Extracted content from https://www.seattleu.edu/directory/profiles/tracy-ann-kosa-phd.php and saved to JSON.\n"
     ]
    },
    {
     "name": "stderr",
     "output_type": "stream",
     "text": [
      " 49%|████▉     | 3111/6321 [4:48:25<9:04:05, 10.17s/it]"
     ]
    },
    {
     "name": "stdout",
     "output_type": "stream",
     "text": [
      "Extracted content from https://www.seattleu.edu/directory/profiles/travis-stearns.php and saved to JSON.\n"
     ]
    },
    {
     "name": "stderr",
     "output_type": "stream",
     "text": [
      " 49%|████▉     | 3112/6321 [4:48:35<9:06:25, 10.22s/it]"
     ]
    },
    {
     "name": "stdout",
     "output_type": "stream",
     "text": [
      "Extracted content from https://www.seattleu.edu/directory/profiles/trenia-walker-phd.php and saved to JSON.\n"
     ]
    },
    {
     "name": "stderr",
     "output_type": "stream",
     "text": [
      " 49%|████▉     | 3113/6321 [4:48:45<9:05:20, 10.20s/it]"
     ]
    },
    {
     "name": "stdout",
     "output_type": "stream",
     "text": [
      "Extracted content from https://www.seattleu.edu/directory/profiles/trileigh-tucker-phd.php and saved to JSON.\n"
     ]
    },
    {
     "name": "stderr",
     "output_type": "stream",
     "text": [
      " 49%|████▉     | 3114/6321 [4:48:55<9:04:44, 10.19s/it]"
     ]
    },
    {
     "name": "stdout",
     "output_type": "stream",
     "text": [
      "Extracted content from https://www.seattleu.edu/directory/profiles/trish-stone.php and saved to JSON.\n"
     ]
    },
    {
     "name": "stderr",
     "output_type": "stream",
     "text": [
      " 49%|████▉     | 3115/6321 [4:49:06<9:06:13, 10.22s/it]"
     ]
    },
    {
     "name": "stdout",
     "output_type": "stream",
     "text": [
      "Extracted content from https://www.seattleu.edu/directory/profiles/trisha-king-stargel-edd.php and saved to JSON.\n"
     ]
    },
    {
     "name": "stderr",
     "output_type": "stream",
     "text": [
      " 49%|████▉     | 3116/6321 [4:49:16<9:05:41, 10.22s/it]"
     ]
    },
    {
     "name": "stdout",
     "output_type": "stream",
     "text": [
      "Extracted content from https://www.seattleu.edu/directory/profiles/tristia-bauman.php and saved to JSON.\n"
     ]
    },
    {
     "name": "stderr",
     "output_type": "stream",
     "text": [
      " 49%|████▉     | 3117/6321 [4:49:26<9:04:34, 10.20s/it]"
     ]
    },
    {
     "name": "stdout",
     "output_type": "stream",
     "text": [
      "Extracted content from https://www.seattleu.edu/directory/profiles/troy-sterk.php and saved to JSON.\n"
     ]
    },
    {
     "name": "stderr",
     "output_type": "stream",
     "text": [
      " 49%|████▉     | 3118/6321 [4:49:36<9:03:20, 10.18s/it]"
     ]
    },
    {
     "name": "stdout",
     "output_type": "stream",
     "text": [
      "Extracted content from https://www.seattleu.edu/directory/profiles/trung-pham-sj-mfa.php and saved to JSON.\n"
     ]
    },
    {
     "name": "stderr",
     "output_type": "stream",
     "text": [
      " 49%|████▉     | 3119/6321 [4:49:46<9:03:07, 10.18s/it]"
     ]
    },
    {
     "name": "stdout",
     "output_type": "stream",
     "text": [
      "Extracted content from https://www.seattleu.edu/directory/profiles/tyler-murphy.php and saved to JSON.\n"
     ]
    },
    {
     "name": "stderr",
     "output_type": "stream",
     "text": [
      " 49%|████▉     | 3120/6321 [4:49:56<9:02:52, 10.18s/it]"
     ]
    },
    {
     "name": "stdout",
     "output_type": "stream",
     "text": [
      "Extracted content from https://www.seattleu.edu/directory/profiles/tyrah-majors-msj.php and saved to JSON.\n"
     ]
    },
    {
     "name": "stderr",
     "output_type": "stream",
     "text": [
      " 49%|████▉     | 3121/6321 [4:50:07<9:02:02, 10.16s/it]"
     ]
    },
    {
     "name": "stdout",
     "output_type": "stream",
     "text": [
      "Extracted content from https://www.seattleu.edu/directory/profiles/urbaine-yeung.php and saved to JSON.\n"
     ]
    },
    {
     "name": "stderr",
     "output_type": "stream",
     "text": [
      " 49%|████▉     | 3122/6321 [4:50:17<9:02:14, 10.17s/it]"
     ]
    },
    {
     "name": "stdout",
     "output_type": "stream",
     "text": [
      "Extracted content from https://www.seattleu.edu/directory/profiles/valentina-zamora-phd-cma.php and saved to JSON.\n"
     ]
    },
    {
     "name": "stderr",
     "output_type": "stream",
     "text": [
      " 49%|████▉     | 3123/6321 [4:50:27<9:04:04, 10.21s/it]"
     ]
    },
    {
     "name": "stdout",
     "output_type": "stream",
     "text": [
      "Extracted content from https://www.seattleu.edu/directory/profiles/valerie-fisher.php and saved to JSON.\n"
     ]
    },
    {
     "name": "stderr",
     "output_type": "stream",
     "text": [
      " 49%|████▉     | 3124/6321 [4:50:37<9:03:18, 10.20s/it]"
     ]
    },
    {
     "name": "stdout",
     "output_type": "stream",
     "text": [
      "Extracted content from https://www.seattleu.edu/directory/profiles/valerie-lesniak.php and saved to JSON.\n"
     ]
    },
    {
     "name": "stderr",
     "output_type": "stream",
     "text": [
      " 49%|████▉     | 3125/6321 [4:50:47<9:02:11, 10.18s/it]"
     ]
    },
    {
     "name": "stdout",
     "output_type": "stream",
     "text": [
      "Extracted content from https://www.seattleu.edu/directory/profiles/valerie-norwood.php and saved to JSON.\n"
     ]
    },
    {
     "name": "stderr",
     "output_type": "stream",
     "text": [
      " 49%|████▉     | 3126/6321 [4:50:58<9:01:56, 10.18s/it]"
     ]
    },
    {
     "name": "stdout",
     "output_type": "stream",
     "text": [
      "Extracted content from https://www.seattleu.edu/directory/profiles/vasiliy-matveyev.php and saved to JSON.\n"
     ]
    },
    {
     "name": "stderr",
     "output_type": "stream",
     "text": [
      " 49%|████▉     | 3127/6321 [4:51:08<9:02:24, 10.19s/it]"
     ]
    },
    {
     "name": "stdout",
     "output_type": "stream",
     "text": [
      "Extracted content from https://www.seattleu.edu/directory/profiles/verna-mckinnon-hipps-ba.php and saved to JSON.\n"
     ]
    },
    {
     "name": "stderr",
     "output_type": "stream",
     "text": [
      " 49%|████▉     | 3128/6321 [4:51:18<9:01:42, 10.18s/it]"
     ]
    },
    {
     "name": "stdout",
     "output_type": "stream",
     "text": [
      "Extracted content from https://www.seattleu.edu/directory/profiles/veronica-bailey.php and saved to JSON.\n"
     ]
    },
    {
     "name": "stderr",
     "output_type": "stream",
     "text": [
      " 50%|████▉     | 3129/6321 [4:51:28<9:01:23, 10.18s/it]"
     ]
    },
    {
     "name": "stdout",
     "output_type": "stream",
     "text": [
      "Extracted content from https://www.seattleu.edu/directory/profiles/veronica-suchodolski.php and saved to JSON.\n"
     ]
    },
    {
     "name": "stderr",
     "output_type": "stream",
     "text": [
      " 50%|████▉     | 3130/6321 [4:51:38<9:01:04, 10.17s/it]"
     ]
    },
    {
     "name": "stdout",
     "output_type": "stream",
     "text": [
      "Extracted content from https://www.seattleu.edu/directory/profiles/vicky-minderhout.php and saved to JSON.\n"
     ]
    },
    {
     "name": "stderr",
     "output_type": "stream",
     "text": [
      " 50%|████▉     | 3131/6321 [4:51:49<9:04:00, 10.23s/it]"
     ]
    },
    {
     "name": "stdout",
     "output_type": "stream",
     "text": [
      "Extracted content from https://www.seattleu.edu/directory/profiles/victor-chimenti.php and saved to JSON.\n"
     ]
    },
    {
     "name": "stderr",
     "output_type": "stream",
     "text": [
      " 50%|████▉     | 3132/6321 [4:51:59<9:03:07, 10.22s/it]"
     ]
    },
    {
     "name": "stdout",
     "output_type": "stream",
     "text": [
      "Extracted content from https://www.seattleu.edu/directory/profiles/victor-colman.php and saved to JSON.\n"
     ]
    },
    {
     "name": "stderr",
     "output_type": "stream",
     "text": [
      " 50%|████▉     | 3134/6321 [4:52:19<9:01:16, 10.19s/it]"
     ]
    },
    {
     "name": "stdout",
     "output_type": "stream",
     "text": [
      "Error processing https:www.seattleu.edu/directory/profiles/victor-reinking-phd.php: HTTP Error 504: Gateway Time-out\n",
      "Extracted content from https://www.seattleu.edu/directory/profiles/victor-d-evans-phd.php and saved to JSON.\n"
     ]
    },
    {
     "name": "stderr",
     "output_type": "stream",
     "text": [
      " 50%|████▉     | 3135/6321 [4:52:30<9:04:02, 10.25s/it]"
     ]
    },
    {
     "name": "stdout",
     "output_type": "stream",
     "text": [
      "Extracted content from https://www.seattleu.edu/directory/profiles/victoria-venturella.php and saved to JSON.\n"
     ]
    },
    {
     "name": "stderr",
     "output_type": "stream",
     "text": [
      " 50%|████▉     | 3136/6321 [4:52:40<9:02:46, 10.22s/it]"
     ]
    },
    {
     "name": "stdout",
     "output_type": "stream",
     "text": [
      "Extracted content from https://www.seattleu.edu/directory/profiles/vida-drew.php and saved to JSON.\n"
     ]
    },
    {
     "name": "stderr",
     "output_type": "stream",
     "text": [
      " 50%|████▉     | 3137/6321 [4:52:50<9:01:35, 10.21s/it]"
     ]
    },
    {
     "name": "stdout",
     "output_type": "stream",
     "text": [
      "Extracted content from https://www.seattleu.edu/directory/profiles/vidya-awasthi.php and saved to JSON.\n"
     ]
    },
    {
     "name": "stderr",
     "output_type": "stream",
     "text": [
      " 50%|████▉     | 3138/6321 [4:53:00<9:00:48, 10.19s/it]"
     ]
    },
    {
     "name": "stdout",
     "output_type": "stream",
     "text": [
      "Extracted content from https://www.seattleu.edu/directory/profiles/vinay-datar-phd.php and saved to JSON.\n"
     ]
    },
    {
     "name": "stderr",
     "output_type": "stream",
     "text": [
      " 50%|████▉     | 3139/6321 [4:53:10<9:02:39, 10.23s/it]"
     ]
    },
    {
     "name": "stdout",
     "output_type": "stream",
     "text": [
      "Extracted content from https://www.seattleu.edu/directory/profiles/fr-vincent-duong-sj.php and saved to JSON.\n"
     ]
    },
    {
     "name": "stderr",
     "output_type": "stream",
     "text": [
      " 50%|████▉     | 3140/6321 [4:53:21<9:04:18, 10.27s/it]"
     ]
    },
    {
     "name": "stdout",
     "output_type": "stream",
     "text": [
      "Extracted content from https://www.seattleu.edu/directory/profiles/vincent-volpe.php and saved to JSON.\n"
     ]
    },
    {
     "name": "stderr",
     "output_type": "stream",
     "text": [
      " 50%|████▉     | 3141/6321 [4:53:31<9:02:11, 10.23s/it]"
     ]
    },
    {
     "name": "stdout",
     "output_type": "stream",
     "text": [
      "Extracted content from https://www.seattleu.edu/directory/profiles/vinh-nguyen.php and saved to JSON.\n"
     ]
    },
    {
     "name": "stderr",
     "output_type": "stream",
     "text": [
      " 50%|████▉     | 3142/6321 [4:53:41<9:00:31, 10.20s/it]"
     ]
    },
    {
     "name": "stdout",
     "output_type": "stream",
     "text": [
      "Extracted content from https://www.seattleu.edu/directory/profiles/vinod-acharya-phd.php and saved to JSON.\n"
     ]
    },
    {
     "name": "stderr",
     "output_type": "stream",
     "text": [
      " 50%|████▉     | 3143/6321 [4:53:51<8:59:39, 10.19s/it]"
     ]
    },
    {
     "name": "stdout",
     "output_type": "stream",
     "text": [
      "Extracted content from https://www.seattleu.edu/directory/profiles/virginia-klamon-phd.php and saved to JSON.\n"
     ]
    },
    {
     "name": "stderr",
     "output_type": "stream",
     "text": [
      " 50%|████▉     | 3144/6321 [4:54:01<8:58:59, 10.18s/it]"
     ]
    },
    {
     "name": "stdout",
     "output_type": "stream",
     "text": [
      "Extracted content from https://www.seattleu.edu/directory/profiles/virginia-parks.php and saved to JSON.\n"
     ]
    },
    {
     "name": "stderr",
     "output_type": "stream",
     "text": [
      " 50%|████▉     | 3145/6321 [4:54:12<8:59:34, 10.19s/it]"
     ]
    },
    {
     "name": "stdout",
     "output_type": "stream",
     "text": [
      "Extracted content from https://www.seattleu.edu/directory/profiles/viviane-s-lopuch-edd.php and saved to JSON.\n"
     ]
    },
    {
     "name": "stderr",
     "output_type": "stream",
     "text": [
      " 50%|████▉     | 3146/6321 [4:54:22<8:59:27, 10.19s/it]"
     ]
    },
    {
     "name": "stdout",
     "output_type": "stream",
     "text": [
      "Extracted content from https://www.seattleu.edu/directory/profiles/vladimir-dashkeev-phd.php and saved to JSON.\n"
     ]
    },
    {
     "name": "stderr",
     "output_type": "stream",
     "text": [
      " 50%|████▉     | 3147/6321 [4:54:32<8:59:02, 10.19s/it]"
     ]
    },
    {
     "name": "stdout",
     "output_type": "stream",
     "text": [
      "Extracted content from https://www.seattleu.edu/directory/profiles/wai-shun-hung-phd.php and saved to JSON.\n"
     ]
    },
    {
     "name": "stderr",
     "output_type": "stream",
     "text": [
      " 50%|████▉     | 3148/6321 [4:54:42<9:02:34, 10.26s/it]"
     ]
    },
    {
     "name": "stdout",
     "output_type": "stream",
     "text": [
      "Extracted content from https://www.seattleu.edu/directory/profiles/wan-bae-phd.php and saved to JSON.\n"
     ]
    },
    {
     "name": "stderr",
     "output_type": "stream",
     "text": [
      " 50%|████▉     | 3149/6321 [4:54:52<9:00:34, 10.23s/it]"
     ]
    },
    {
     "name": "stdout",
     "output_type": "stream",
     "text": [
      "Extracted content from https://www.seattleu.edu/directory/profiles/wayne-hauck.php and saved to JSON.\n"
     ]
    },
    {
     "name": "stderr",
     "output_type": "stream",
     "text": [
      " 50%|████▉     | 3150/6321 [4:55:03<8:59:33, 10.21s/it]"
     ]
    },
    {
     "name": "stdout",
     "output_type": "stream",
     "text": [
      "Extracted content from https://www.seattleu.edu/directory/profiles/wayne-holscher.php and saved to JSON.\n"
     ]
    },
    {
     "name": "stderr",
     "output_type": "stream",
     "text": [
      " 50%|████▉     | 3151/6321 [4:55:13<8:58:20, 10.19s/it]"
     ]
    },
    {
     "name": "stdout",
     "output_type": "stream",
     "text": [
      "Extracted content from https://www.seattleu.edu/directory/profiles/wendy-schroedel.php and saved to JSON.\n"
     ]
    },
    {
     "name": "stderr",
     "output_type": "stream",
     "text": [
      " 50%|████▉     | 3152/6321 [4:55:23<8:57:22, 10.17s/it]"
     ]
    },
    {
     "name": "stdout",
     "output_type": "stream",
     "text": [
      "Extracted content from https://www.seattleu.edu/directory/profiles/wesley-howard-brook.php and saved to JSON.\n"
     ]
    },
    {
     "name": "stderr",
     "output_type": "stream",
     "text": [
      " 50%|████▉     | 3153/6321 [4:55:33<8:57:22, 10.18s/it]"
     ]
    },
    {
     "name": "stdout",
     "output_type": "stream",
     "text": [
      "Extracted content from https://www.seattleu.edu/directory/profiles/whitney-swann-phd.php and saved to JSON.\n"
     ]
    },
    {
     "name": "stderr",
     "output_type": "stream",
     "text": [
      " 50%|████▉     | 3154/6321 [4:55:43<8:57:01, 10.17s/it]"
     ]
    },
    {
     "name": "stdout",
     "output_type": "stream",
     "text": [
      "Extracted content from https://www.seattleu.edu/directory/profiles/whitney-wedge.php and saved to JSON.\n"
     ]
    },
    {
     "name": "stderr",
     "output_type": "stream",
     "text": [
      " 50%|████▉     | 3155/6321 [4:55:53<8:56:36, 10.17s/it]"
     ]
    },
    {
     "name": "stdout",
     "output_type": "stream",
     "text": [
      "Extracted content from https://www.seattleu.edu/directory/profiles/william-blauvelt.php and saved to JSON.\n"
     ]
    },
    {
     "name": "stderr",
     "output_type": "stream",
     "text": [
      " 50%|████▉     | 3156/6321 [4:56:04<8:58:32, 10.21s/it]"
     ]
    },
    {
     "name": "stdout",
     "output_type": "stream",
     "text": [
      "Extracted content from https://www.seattleu.edu/directory/profiles/william-cannon.php and saved to JSON.\n"
     ]
    },
    {
     "name": "stderr",
     "output_type": "stream",
     "text": [
      " 50%|████▉     | 3157/6321 [4:56:14<8:57:15, 10.19s/it]"
     ]
    },
    {
     "name": "stdout",
     "output_type": "stream",
     "text": [
      "Extracted content from https://www.seattleu.edu/directory/profiles/william-dausner.php and saved to JSON.\n"
     ]
    },
    {
     "name": "stderr",
     "output_type": "stream",
     "text": [
      " 50%|████▉     | 3158/6321 [4:56:24<8:56:37, 10.18s/it]"
     ]
    },
    {
     "name": "stdout",
     "output_type": "stream",
     "text": [
      "Extracted content from https://www.seattleu.edu/directory/profiles/william-kangas-phd.php and saved to JSON.\n"
     ]
    },
    {
     "name": "stderr",
     "output_type": "stream",
     "text": [
      " 50%|████▉     | 3159/6321 [4:56:35<9:03:56, 10.32s/it]"
     ]
    },
    {
     "name": "stdout",
     "output_type": "stream",
     "text": [
      "Extracted content from https://www.seattleu.edu/directory/profiles/william-mccormick.php and saved to JSON.\n"
     ]
    },
    {
     "name": "stderr",
     "output_type": "stream",
     "text": [
      " 50%|████▉     | 3160/6321 [4:56:45<9:00:57, 10.27s/it]"
     ]
    },
    {
     "name": "stdout",
     "output_type": "stream",
     "text": [
      "Extracted content from https://www.seattleu.edu/directory/profiles/william-oltman.php and saved to JSON.\n"
     ]
    },
    {
     "name": "stderr",
     "output_type": "stream",
     "text": [
      " 50%|█████     | 3161/6321 [4:56:55<8:59:14, 10.24s/it]"
     ]
    },
    {
     "name": "stdout",
     "output_type": "stream",
     "text": [
      "Extracted content from https://www.seattleu.edu/directory/profiles/william-taylor-ma.php and saved to JSON.\n"
     ]
    },
    {
     "name": "stderr",
     "output_type": "stream",
     "text": [
      " 50%|█████     | 3162/6321 [4:57:05<8:57:30, 10.21s/it]"
     ]
    },
    {
     "name": "stdout",
     "output_type": "stream",
     "text": [
      "Extracted content from https://www.seattleu.edu/directory/profiles/william-weis-phd.php and saved to JSON.\n"
     ]
    },
    {
     "name": "stderr",
     "output_type": "stream",
     "text": [
      " 50%|█████     | 3163/6321 [4:57:15<8:56:28, 10.19s/it]"
     ]
    },
    {
     "name": "stdout",
     "output_type": "stream",
     "text": [
      "Extracted content from https://www.seattleu.edu/directory/profiles/william-winston.php and saved to JSON.\n"
     ]
    },
    {
     "name": "stderr",
     "output_type": "stream",
     "text": [
      " 50%|█████     | 3164/6321 [4:57:26<8:59:59, 10.26s/it]"
     ]
    },
    {
     "name": "stdout",
     "output_type": "stream",
     "text": [
      "Extracted content from https://www.seattleu.edu/directory/profiles/wingate-packard-ma.php and saved to JSON.\n"
     ]
    },
    {
     "name": "stderr",
     "output_type": "stream",
     "text": [
      " 50%|█████     | 3165/6321 [4:57:36<8:57:51, 10.23s/it]"
     ]
    },
    {
     "name": "stdout",
     "output_type": "stream",
     "text": [
      "Extracted content from https://www.seattleu.edu/directory/profiles/winnie-lau.php and saved to JSON.\n"
     ]
    },
    {
     "name": "stderr",
     "output_type": "stream",
     "text": [
      " 50%|█████     | 3167/6321 [4:57:47<6:26:10,  7.35s/it]"
     ]
    },
    {
     "name": "stdout",
     "output_type": "stream",
     "text": [
      "Error processing https:www.seattleu.edu/directory/profiles/winston-wedge.php: HTTP Error 404: Not Found\n",
      "Extracted content from https://www.seattleu.edu/directory/profiles/wissal-elissa.php and saved to JSON.\n"
     ]
    },
    {
     "name": "stderr",
     "output_type": "stream",
     "text": [
      " 50%|█████     | 3168/6321 [4:57:57<7:10:23,  8.19s/it]"
     ]
    },
    {
     "name": "stdout",
     "output_type": "stream",
     "text": [
      "Extracted content from https://www.seattleu.edu/directory/profiles/woo-joong-kim-phd.php and saved to JSON.\n"
     ]
    },
    {
     "name": "stderr",
     "output_type": "stream",
     "text": [
      " 50%|█████     | 3169/6321 [4:58:07<7:43:34,  8.82s/it]"
     ]
    },
    {
     "name": "stdout",
     "output_type": "stream",
     "text": [
      "Extracted content from https://www.seattleu.edu/directory/profiles/wynne-guy.php and saved to JSON.\n"
     ]
    },
    {
     "name": "stderr",
     "output_type": "stream",
     "text": [
      " 50%|█████     | 3170/6321 [4:58:17<8:04:22,  9.22s/it]"
     ]
    },
    {
     "name": "stdout",
     "output_type": "stream",
     "text": [
      "Extracted content from https://www.seattleu.edu/directory/profiles/xin-zhao-phd.php and saved to JSON.\n"
     ]
    },
    {
     "name": "stderr",
     "output_type": "stream",
     "text": [
      " 50%|█████     | 3171/6321 [4:58:27<8:19:08,  9.51s/it]"
     ]
    },
    {
     "name": "stdout",
     "output_type": "stream",
     "text": [
      "Extracted content from https://www.seattleu.edu/directory/profiles/xusheng-chen.php and saved to JSON.\n"
     ]
    },
    {
     "name": "stderr",
     "output_type": "stream",
     "text": [
      " 50%|█████     | 3172/6321 [4:58:38<8:29:04,  9.70s/it]"
     ]
    },
    {
     "name": "stdout",
     "output_type": "stream",
     "text": [
      "Extracted content from https://www.seattleu.edu/directory/profiles/yancy-hughes-dominick-phd.php and saved to JSON.\n"
     ]
    },
    {
     "name": "stderr",
     "output_type": "stream",
     "text": [
      " 50%|█████     | 3173/6321 [4:58:48<8:38:26,  9.88s/it]"
     ]
    },
    {
     "name": "stdout",
     "output_type": "stream",
     "text": [
      "Extracted content from https://www.seattleu.edu/directory/profiles/yangjung-lee-phd.php and saved to JSON.\n"
     ]
    },
    {
     "name": "stderr",
     "output_type": "stream",
     "text": [
      " 50%|█████     | 3174/6321 [4:58:58<8:42:54,  9.97s/it]"
     ]
    },
    {
     "name": "stdout",
     "output_type": "stream",
     "text": [
      "Extracted content from https://www.seattleu.edu/directory/profiles/yarelin-cantu.php and saved to JSON.\n"
     ]
    },
    {
     "name": "stderr",
     "output_type": "stream",
     "text": [
      " 50%|█████     | 3175/6321 [4:59:08<8:48:41, 10.08s/it]"
     ]
    },
    {
     "name": "stdout",
     "output_type": "stream",
     "text": [
      "Extracted content from https://www.seattleu.edu/directory/profiles/dr-yasemin-sari.php and saved to JSON.\n"
     ]
    },
    {
     "name": "stderr",
     "output_type": "stream",
     "text": [
      " 50%|█████     | 3176/6321 [4:59:19<8:56:43, 10.24s/it]"
     ]
    },
    {
     "name": "stdout",
     "output_type": "stream",
     "text": [
      "Extracted content from https://www.seattleu.edu/directory/profiles/yasmin-ali-dnp-msn-rn.php and saved to JSON.\n"
     ]
    },
    {
     "name": "stderr",
     "output_type": "stream",
     "text": [
      " 50%|█████     | 3177/6321 [4:59:29<8:55:37, 10.22s/it]"
     ]
    },
    {
     "name": "stdout",
     "output_type": "stream",
     "text": [
      "Extracted content from https://www.seattleu.edu/directory/profiles/yelena-kovalenko-bs-rdcs.php and saved to JSON.\n"
     ]
    },
    {
     "name": "stderr",
     "output_type": "stream",
     "text": [
      " 50%|█████     | 3178/6321 [4:59:39<8:54:26, 10.20s/it]"
     ]
    },
    {
     "name": "stdout",
     "output_type": "stream",
     "text": [
      "Extracted content from https://www.seattleu.edu/directory/profiles/yen-ngo.php and saved to JSON.\n"
     ]
    },
    {
     "name": "stderr",
     "output_type": "stream",
     "text": [
      " 50%|█████     | 3179/6321 [4:59:50<8:53:12, 10.18s/it]"
     ]
    },
    {
     "name": "stdout",
     "output_type": "stream",
     "text": [
      "Extracted content from https://www.seattleu.edu/directory/profiles/yen-tran.php and saved to JSON.\n"
     ]
    },
    {
     "name": "stderr",
     "output_type": "stream",
     "text": [
      " 50%|█████     | 3180/6321 [5:00:00<8:52:41, 10.18s/it]"
     ]
    },
    {
     "name": "stdout",
     "output_type": "stream",
     "text": [
      "Extracted content from https://www.seattleu.edu/directory/profiles/yen-lin-han-phd.php and saved to JSON.\n"
     ]
    },
    {
     "name": "stderr",
     "output_type": "stream",
     "text": [
      " 50%|█████     | 3181/6321 [5:00:10<8:54:19, 10.21s/it]"
     ]
    },
    {
     "name": "stdout",
     "output_type": "stream",
     "text": [
      "Extracted content from https://www.seattleu.edu/directory/profiles/yingwu-zhu.php and saved to JSON.\n"
     ]
    },
    {
     "name": "stderr",
     "output_type": "stream",
     "text": [
      " 50%|█████     | 3182/6321 [5:00:20<8:53:44, 10.20s/it]"
     ]
    },
    {
     "name": "stdout",
     "output_type": "stream",
     "text": [
      "Extracted content from https://www.seattleu.edu/directory/profiles/yitan-li-phd.php and saved to JSON.\n"
     ]
    },
    {
     "name": "stderr",
     "output_type": "stream",
     "text": [
      " 50%|█████     | 3183/6321 [5:00:30<8:52:26, 10.18s/it]"
     ]
    },
    {
     "name": "stdout",
     "output_type": "stream",
     "text": [
      "Extracted content from https://www.seattleu.edu/directory/profiles/jim-yh-li.php and saved to JSON.\n"
     ]
    },
    {
     "name": "stderr",
     "output_type": "stream",
     "text": [
      " 50%|█████     | 3184/6321 [5:00:40<8:52:02, 10.18s/it]"
     ]
    },
    {
     "name": "stdout",
     "output_type": "stream",
     "text": [
      "Extracted content from https://www.seattleu.edu/directory/profiles/yolanda-cieters.php and saved to JSON.\n"
     ]
    },
    {
     "name": "stderr",
     "output_type": "stream",
     "text": [
      " 50%|█████     | 3185/6321 [5:00:51<8:51:22, 10.17s/it]"
     ]
    },
    {
     "name": "stdout",
     "output_type": "stream",
     "text": [
      "Extracted content from https://www.seattleu.edu/directory/profiles/yosef-kalinko.php and saved to JSON.\n"
     ]
    },
    {
     "name": "stderr",
     "output_type": "stream",
     "text": [
      " 50%|█████     | 3186/6321 [5:01:01<8:50:48, 10.16s/it]"
     ]
    },
    {
     "name": "stdout",
     "output_type": "stream",
     "text": [
      "Extracted content from https://www.seattleu.edu/directory/profiles/yue-mai.php and saved to JSON.\n"
     ]
    },
    {
     "name": "stderr",
     "output_type": "stream",
     "text": [
      " 50%|█████     | 3187/6321 [5:01:11<8:50:24, 10.15s/it]"
     ]
    },
    {
     "name": "stdout",
     "output_type": "stream",
     "text": [
      "Extracted content from https://www.seattleu.edu/directory/profiles/yuting-lin-phd-rn.php and saved to JSON.\n"
     ]
    },
    {
     "name": "stderr",
     "output_type": "stream",
     "text": [
      " 50%|█████     | 3188/6321 [5:01:21<8:50:09, 10.15s/it]"
     ]
    },
    {
     "name": "stdout",
     "output_type": "stream",
     "text": [
      "Extracted content from https://www.seattleu.edu/directory/profiles/yvonne-owen.php and saved to JSON.\n"
     ]
    },
    {
     "name": "stderr",
     "output_type": "stream",
     "text": [
      " 50%|█████     | 3189/6321 [5:01:31<8:52:28, 10.20s/it]"
     ]
    },
    {
     "name": "stdout",
     "output_type": "stream",
     "text": [
      "Extracted content from https://www.seattleu.edu/directory/profiles/zachary-brochu-msn-crn.php and saved to JSON.\n"
     ]
    },
    {
     "name": "stderr",
     "output_type": "stream",
     "text": [
      " 50%|█████     | 3190/6321 [5:01:41<8:51:33, 10.19s/it]"
     ]
    },
    {
     "name": "stdout",
     "output_type": "stream",
     "text": [
      "Extracted content from https://www.seattleu.edu/directory/profiles/zachary-d-wood-phd.php and saved to JSON.\n"
     ]
    },
    {
     "name": "stderr",
     "output_type": "stream",
     "text": [
      " 50%|█████     | 3191/6321 [5:01:52<8:50:53, 10.18s/it]"
     ]
    },
    {
     "name": "stdout",
     "output_type": "stream",
     "text": [
      "Extracted content from https://www.seattleu.edu/directory/profiles/zaida-rivera.php and saved to JSON.\n"
     ]
    },
    {
     "name": "stderr",
     "output_type": "stream",
     "text": [
      " 50%|█████     | 3192/6321 [5:02:02<8:50:44, 10.18s/it]"
     ]
    },
    {
     "name": "stdout",
     "output_type": "stream",
     "text": [
      "Extracted content from https://www.seattleu.edu/directory/profiles/zhiju-yang-phd.php and saved to JSON.\n"
     ]
    },
    {
     "name": "stderr",
     "output_type": "stream",
     "text": [
      " 51%|█████     | 3193/6321 [5:02:12<8:50:28, 10.18s/it]"
     ]
    },
    {
     "name": "stdout",
     "output_type": "stream",
     "text": [
      "Extracted content from https://www.seattleu.edu/directory/profiles/zy-li.php and saved to JSON.\n"
     ]
    },
    {
     "name": "stderr",
     "output_type": "stream",
     "text": [
      " 51%|█████     | 3194/6321 [5:02:22<8:49:58, 10.17s/it]"
     ]
    },
    {
     "name": "stdout",
     "output_type": "stream",
     "text": [
      "Extracted content from https://www.seattleu.edu/directory/profiles/anne-reinisch.php and saved to JSON.\n"
     ]
    },
    {
     "name": "stderr",
     "output_type": "stream",
     "text": [
      " 51%|█████     | 3195/6321 [5:02:32<8:51:23, 10.20s/it]"
     ]
    },
    {
     "name": "stdout",
     "output_type": "stream",
     "text": [
      "Extracted content from https://www.seattleu.edu/directory/profiles/andrea-boskovic.php and saved to JSON.\n"
     ]
    },
    {
     "name": "stderr",
     "output_type": "stream",
     "text": [
      " 51%|█████     | 3196/6321 [5:02:43<8:51:13, 10.20s/it]"
     ]
    },
    {
     "name": "stdout",
     "output_type": "stream",
     "text": [
      "Extracted content from https://www.seattleu.edu/directory/profiles/emily-suarez-junquera-msn-rn.php and saved to JSON.\n"
     ]
    },
    {
     "name": "stderr",
     "output_type": "stream",
     "text": [
      " 51%|█████     | 3197/6321 [5:02:53<8:54:16, 10.26s/it]"
     ]
    },
    {
     "name": "stdout",
     "output_type": "stream",
     "text": [
      "Extracted content from https://www.seattleu.edu/directory/profiles/evelia-garate.php and saved to JSON.\n"
     ]
    },
    {
     "name": "stderr",
     "output_type": "stream",
     "text": [
      " 51%|█████     | 3198/6321 [5:03:03<8:52:29, 10.23s/it]"
     ]
    },
    {
     "name": "stdout",
     "output_type": "stream",
     "text": [
      "Extracted content from https://www.seattleu.edu/directory/profiles/nichole-martin.php and saved to JSON.\n"
     ]
    },
    {
     "name": "stderr",
     "output_type": "stream",
     "text": [
      " 51%|█████     | 3199/6321 [5:03:13<8:51:20, 10.21s/it]"
     ]
    },
    {
     "name": "stdout",
     "output_type": "stream",
     "text": [
      "Extracted content from https://www.seattleu.edu/directory/profiles/ruby-berliner.php and saved to JSON.\n"
     ]
    },
    {
     "name": "stderr",
     "output_type": "stream",
     "text": [
      " 51%|█████     | 3200/6321 [5:03:23<8:49:57, 10.19s/it]"
     ]
    },
    {
     "name": "stdout",
     "output_type": "stream",
     "text": [
      "Extracted content from https://www.seattleu.edu/directory/profiles/william-miller.php and saved to JSON.\n"
     ]
    },
    {
     "name": "stderr",
     "output_type": "stream",
     "text": [
      " 51%|█████     | 3201/6321 [5:03:34<8:49:27, 10.18s/it]"
     ]
    },
    {
     "name": "stdout",
     "output_type": "stream",
     "text": [
      "Extracted content from https://www.seattleu.edu/directory/profiles/emily-george.php and saved to JSON.\n"
     ]
    },
    {
     "name": "stderr",
     "output_type": "stream",
     "text": [
      " 51%|█████     | 3202/6321 [5:03:44<8:48:43, 10.17s/it]"
     ]
    },
    {
     "name": "stdout",
     "output_type": "stream",
     "text": [
      "Extracted content from https://www.seattleu.edu/directory/profiles/laura-mckee.php and saved to JSON.\n"
     ]
    },
    {
     "name": "stderr",
     "output_type": "stream",
     "text": [
      " 51%|█████     | 3203/6321 [5:03:54<8:48:21, 10.17s/it]"
     ]
    },
    {
     "name": "stdout",
     "output_type": "stream",
     "text": [
      "Extracted content from https://www.seattleu.edu/directory/profiles/lisa-young.php and saved to JSON.\n"
     ]
    },
    {
     "name": "stderr",
     "output_type": "stream",
     "text": [
      " 51%|█████     | 3204/6321 [5:04:04<8:48:01, 10.16s/it]"
     ]
    },
    {
     "name": "stdout",
     "output_type": "stream",
     "text": [
      "Extracted content from https://www.seattleu.edu/directory/profiles/missy-lein-msn-arnp-cs-pcns-bc.php and saved to JSON.\n"
     ]
    },
    {
     "name": "stderr",
     "output_type": "stream",
     "text": [
      " 51%|█████     | 3205/6321 [5:04:14<8:48:54, 10.18s/it]"
     ]
    },
    {
     "name": "stdout",
     "output_type": "stream",
     "text": [
      "Extracted content from https://www.seattleu.edu/directory/profiles/theo-savini.php and saved to JSON.\n"
     ]
    },
    {
     "name": "stderr",
     "output_type": "stream",
     "text": [
      " 51%|█████     | 3206/6321 [5:04:24<8:48:07, 10.17s/it]"
     ]
    },
    {
     "name": "stdout",
     "output_type": "stream",
     "text": [
      "Extracted content from https://www.seattleu.edu/directory/profiles/anthony-monroe.php and saved to JSON.\n"
     ]
    },
    {
     "name": "stderr",
     "output_type": "stream",
     "text": [
      " 51%|█████     | 3207/6321 [5:04:35<8:47:35, 10.17s/it]"
     ]
    },
    {
     "name": "stdout",
     "output_type": "stream",
     "text": [
      "Extracted content from https://www.seattleu.edu/directory/profiles/kristina-hollander.php and saved to JSON.\n"
     ]
    },
    {
     "name": "stderr",
     "output_type": "stream",
     "text": [
      " 51%|█████     | 3208/6321 [5:04:45<8:47:20, 10.16s/it]"
     ]
    },
    {
     "name": "stdout",
     "output_type": "stream",
     "text": [
      "Extracted content from https://www.seattleu.edu/directory/profiles/leslie-woods.php and saved to JSON.\n"
     ]
    },
    {
     "name": "stderr",
     "output_type": "stream",
     "text": [
      " 51%|█████     | 3209/6321 [5:04:55<8:46:48, 10.16s/it]"
     ]
    },
    {
     "name": "stdout",
     "output_type": "stream",
     "text": [
      "Extracted content from https://www.seattleu.edu/directory/profiles/michael-diaz.php and saved to JSON.\n"
     ]
    },
    {
     "name": "stderr",
     "output_type": "stream",
     "text": [
      " 51%|█████     | 3210/6321 [5:05:06<8:56:44, 10.35s/it]"
     ]
    },
    {
     "name": "stdout",
     "output_type": "stream",
     "text": [
      "Extracted content from https://www.seattleu.edu/directory/profiles/peter-vandeventer.php and saved to JSON.\n"
     ]
    },
    {
     "name": "stderr",
     "output_type": "stream",
     "text": [
      " 51%|█████     | 3211/6321 [5:05:16<8:53:38, 10.30s/it]"
     ]
    },
    {
     "name": "stdout",
     "output_type": "stream",
     "text": [
      "Extracted content from https://www.seattleu.edu/directory/profiles/alice-steneker-msn-rn-cpn.php and saved to JSON.\n"
     ]
    },
    {
     "name": "stderr",
     "output_type": "stream",
     "text": [
      " 51%|█████     | 3212/6321 [5:05:26<8:51:09, 10.25s/it]"
     ]
    },
    {
     "name": "stdout",
     "output_type": "stream",
     "text": [
      "Extracted content from https://www.seattleu.edu/directory/profiles/charles-cosson.php and saved to JSON.\n"
     ]
    },
    {
     "name": "stderr",
     "output_type": "stream",
     "text": [
      " 51%|█████     | 3214/6321 [5:05:37<6:14:49,  7.24s/it]"
     ]
    },
    {
     "name": "stdout",
     "output_type": "stream",
     "text": [
      "Error processing https:www.seattleu.edu/directory/profiles/dominic-acala-bsn-rn-cpn.php: HTTP Error 404: Not Found\n",
      "Extracted content from https://www.seattleu.edu/directory/profiles/jennifer-small.php and saved to JSON.\n"
     ]
    },
    {
     "name": "stderr",
     "output_type": "stream",
     "text": [
      " 51%|█████     | 3215/6321 [5:05:47<6:59:57,  8.11s/it]"
     ]
    },
    {
     "name": "stdout",
     "output_type": "stream",
     "text": [
      "Extracted content from https://www.seattleu.edu/directory/profiles/reyna-smith.php and saved to JSON.\n"
     ]
    },
    {
     "name": "stderr",
     "output_type": "stream",
     "text": [
      " 51%|█████     | 3216/6321 [5:05:57<7:31:46,  8.73s/it]"
     ]
    },
    {
     "name": "stdout",
     "output_type": "stream",
     "text": [
      "Extracted content from https://www.seattleu.edu/directory/profiles/rolita-flores-ezeonu-edd.php and saved to JSON.\n"
     ]
    },
    {
     "name": "stderr",
     "output_type": "stream",
     "text": [
      " 51%|█████     | 3217/6321 [5:06:07<7:53:44,  9.16s/it]"
     ]
    },
    {
     "name": "stdout",
     "output_type": "stream",
     "text": [
      "Extracted content from https://www.seattleu.edu/directory/profiles/alexandra-nica.php and saved to JSON.\n"
     ]
    },
    {
     "name": "stderr",
     "output_type": "stream",
     "text": [
      " 51%|█████     | 3218/6321 [5:06:17<8:09:32,  9.47s/it]"
     ]
    },
    {
     "name": "stdout",
     "output_type": "stream",
     "text": [
      "Extracted content from https://www.seattleu.edu/directory/profiles/anna-samuel.php and saved to JSON.\n"
     ]
    },
    {
     "name": "stderr",
     "output_type": "stream",
     "text": [
      " 51%|█████     | 3219/6321 [5:06:27<8:19:41,  9.67s/it]"
     ]
    },
    {
     "name": "stdout",
     "output_type": "stream",
     "text": [
      "Extracted content from https://www.seattleu.edu/directory/profiles/bridget-hrybiniak.php and saved to JSON.\n"
     ]
    },
    {
     "name": "stderr",
     "output_type": "stream",
     "text": [
      " 51%|█████     | 3220/6321 [5:06:37<8:27:21,  9.82s/it]"
     ]
    },
    {
     "name": "stdout",
     "output_type": "stream",
     "text": [
      "Extracted content from https://www.seattleu.edu/directory/profiles/cortney-tassone-med.php and saved to JSON.\n"
     ]
    },
    {
     "name": "stderr",
     "output_type": "stream",
     "text": [
      " 51%|█████     | 3221/6321 [5:06:48<8:32:30,  9.92s/it]"
     ]
    },
    {
     "name": "stdout",
     "output_type": "stream",
     "text": [
      "Extracted content from https://www.seattleu.edu/directory/profiles/edwardo-morfin.php and saved to JSON.\n"
     ]
    },
    {
     "name": "stderr",
     "output_type": "stream",
     "text": [
      " 51%|█████     | 3222/6321 [5:06:58<8:37:59, 10.03s/it]"
     ]
    },
    {
     "name": "stdout",
     "output_type": "stream",
     "text": [
      "Extracted content from https://www.seattleu.edu/directory/profiles/jackie-nowakowski.php and saved to JSON.\n"
     ]
    },
    {
     "name": "stderr",
     "output_type": "stream",
     "text": [
      " 51%|█████     | 3223/6321 [5:07:08<8:42:30, 10.12s/it]"
     ]
    },
    {
     "name": "stdout",
     "output_type": "stream",
     "text": [
      "Extracted content from https://www.seattleu.edu/directory/profiles/jenny-goak.php and saved to JSON.\n"
     ]
    },
    {
     "name": "stderr",
     "output_type": "stream",
     "text": [
      " 51%|█████     | 3224/6321 [5:07:18<8:42:41, 10.13s/it]"
     ]
    },
    {
     "name": "stdout",
     "output_type": "stream",
     "text": [
      "Extracted content from https://www.seattleu.edu/directory/profiles/katherine-mcdaniel.php and saved to JSON.\n"
     ]
    },
    {
     "name": "stderr",
     "output_type": "stream",
     "text": [
      " 51%|█████     | 3225/6321 [5:07:29<8:43:19, 10.14s/it]"
     ]
    },
    {
     "name": "stdout",
     "output_type": "stream",
     "text": [
      "Extracted content from https://www.seattleu.edu/directory/profiles/matthew-soskins.php and saved to JSON.\n"
     ]
    },
    {
     "name": "stderr",
     "output_type": "stream",
     "text": [
      " 51%|█████     | 3227/6321 [5:07:39<6:09:13,  7.16s/it]"
     ]
    },
    {
     "name": "stdout",
     "output_type": "stream",
     "text": [
      "Error processing https:www.seattleu.edu/directory/profiles/nathan-rouse.php: HTTP Error 404: Not Found\n",
      "Extracted content from https://www.seattleu.edu/directory/profiles/patricia-sully.php and saved to JSON.\n"
     ]
    },
    {
     "name": "stderr",
     "output_type": "stream",
     "text": [
      " 51%|█████     | 3228/6321 [5:07:49<6:55:41,  8.06s/it]"
     ]
    },
    {
     "name": "stdout",
     "output_type": "stream",
     "text": [
      "Extracted content from https://www.seattleu.edu/directory/profiles/sheronda-rochelle.php and saved to JSON.\n"
     ]
    },
    {
     "name": "stderr",
     "output_type": "stream",
     "text": [
      " 51%|█████     | 3229/6321 [5:08:00<7:33:41,  8.80s/it]"
     ]
    },
    {
     "name": "stdout",
     "output_type": "stream",
     "text": [
      "Extracted content from https://www.seattleu.edu/directory/profiles/stephen-weisbrod.php and saved to JSON.\n"
     ]
    },
    {
     "name": "stderr",
     "output_type": "stream",
     "text": [
      " 51%|█████     | 3230/6321 [5:08:10<7:54:39,  9.21s/it]"
     ]
    },
    {
     "name": "stdout",
     "output_type": "stream",
     "text": [
      "Extracted content from https://www.seattleu.edu/directory/profiles/kimberly-gawlik-jd.php and saved to JSON.\n"
     ]
    },
    {
     "name": "stderr",
     "output_type": "stream",
     "text": [
      " 51%|█████     | 3231/6321 [5:08:20<8:08:42,  9.49s/it]"
     ]
    },
    {
     "name": "stdout",
     "output_type": "stream",
     "text": [
      "Extracted content from https://www.seattleu.edu/directory/profiles/cheyenne-skye-heaton-mn-rn-cms-rn.php and saved to JSON.\n"
     ]
    },
    {
     "name": "stderr",
     "output_type": "stream",
     "text": [
      " 51%|█████     | 3232/6321 [5:08:30<8:20:48,  9.73s/it]"
     ]
    },
    {
     "name": "stdout",
     "output_type": "stream",
     "text": [
      "Extracted content from https://www.seattleu.edu/directory/profiles/erin-pratt-msn-rn.php and saved to JSON.\n"
     ]
    },
    {
     "name": "stderr",
     "output_type": "stream",
     "text": [
      " 51%|█████     | 3233/6321 [5:08:41<8:30:27,  9.92s/it]"
     ]
    },
    {
     "name": "stdout",
     "output_type": "stream",
     "text": [
      "Extracted content from https://www.seattleu.edu/directory/profiles/jake-bernstein.php and saved to JSON.\n"
     ]
    },
    {
     "name": "stderr",
     "output_type": "stream",
     "text": [
      " 51%|█████     | 3234/6321 [5:08:51<8:34:25, 10.00s/it]"
     ]
    },
    {
     "name": "stdout",
     "output_type": "stream",
     "text": [
      "Extracted content from https://www.seattleu.edu/directory/profiles/katie-steele.php and saved to JSON.\n"
     ]
    },
    {
     "name": "stderr",
     "output_type": "stream",
     "text": [
      " 51%|█████     | 3235/6321 [5:09:01<8:36:33, 10.04s/it]"
     ]
    },
    {
     "name": "stdout",
     "output_type": "stream",
     "text": [
      "Extracted content from https://www.seattleu.edu/directory/profiles/laney-harrison.php and saved to JSON.\n"
     ]
    },
    {
     "name": "stderr",
     "output_type": "stream",
     "text": [
      " 51%|█████     | 3237/6321 [5:09:11<6:05:37,  7.11s/it]"
     ]
    },
    {
     "name": "stdout",
     "output_type": "stream",
     "text": [
      "Error processing https:www.seattleu.edu/directory/profiles/leslie-nguyen.php: HTTP Error 404: Not Found\n",
      "Extracted content from https://www.seattleu.edu/directory/profiles/mary-jo-heston.php and saved to JSON.\n"
     ]
    },
    {
     "name": "stderr",
     "output_type": "stream",
     "text": [
      " 51%|█████     | 3238/6321 [5:09:21<6:52:41,  8.03s/it]"
     ]
    },
    {
     "name": "stdout",
     "output_type": "stream",
     "text": [
      "Extracted content from https://www.seattleu.edu/directory/profiles/raji-chellappa-phd.php and saved to JSON.\n"
     ]
    },
    {
     "name": "stderr",
     "output_type": "stream",
     "text": [
      " 51%|█████     | 3239/6321 [5:09:32<7:25:19,  8.67s/it]"
     ]
    },
    {
     "name": "stdout",
     "output_type": "stream",
     "text": [
      "Extracted content from https://www.seattleu.edu/directory/profiles/satendra-kumar.php and saved to JSON.\n"
     ]
    },
    {
     "name": "stderr",
     "output_type": "stream",
     "text": [
      " 51%|█████▏    | 3240/6321 [5:09:42<7:47:54,  9.11s/it]"
     ]
    },
    {
     "name": "stdout",
     "output_type": "stream",
     "text": [
      "Extracted content from https://www.seattleu.edu/directory/profiles/abdul-mirzaye.php and saved to JSON.\n"
     ]
    },
    {
     "name": "stderr",
     "output_type": "stream",
     "text": [
      " 51%|█████▏    | 3242/6321 [5:09:52<5:44:50,  6.72s/it]"
     ]
    },
    {
     "name": "stdout",
     "output_type": "stream",
     "text": [
      "Error processing https:www.seattleu.edu/directory/profiles/adair-ellison.php: HTTP Error 404: Not Found\n",
      "Extracted content from https://www.seattleu.edu/directory/profiles/alexandra-murphy-phd.php and saved to JSON.\n"
     ]
    },
    {
     "name": "stderr",
     "output_type": "stream",
     "text": [
      " 51%|█████▏    | 3243/6321 [5:10:03<6:37:33,  7.75s/it]"
     ]
    },
    {
     "name": "stdout",
     "output_type": "stream",
     "text": [
      "Extracted content from https://www.seattleu.edu/directory/profiles/daniel-behnke.php and saved to JSON.\n"
     ]
    },
    {
     "name": "stderr",
     "output_type": "stream",
     "text": [
      " 51%|█████▏    | 3244/6321 [5:10:13<7:14:19,  8.47s/it]"
     ]
    },
    {
     "name": "stdout",
     "output_type": "stream",
     "text": [
      "Extracted content from https://www.seattleu.edu/directory/profiles/freida-mckinney.php and saved to JSON.\n"
     ]
    },
    {
     "name": "stderr",
     "output_type": "stream",
     "text": [
      " 51%|█████▏    | 3245/6321 [5:10:23<7:40:08,  8.98s/it]"
     ]
    },
    {
     "name": "stdout",
     "output_type": "stream",
     "text": [
      "Extracted content from https://www.seattleu.edu/directory/profiles/hailey-l-spencer.php and saved to JSON.\n"
     ]
    },
    {
     "name": "stderr",
     "output_type": "stream",
     "text": [
      " 51%|█████▏    | 3247/6321 [5:10:33<5:37:29,  6.59s/it]"
     ]
    },
    {
     "name": "stdout",
     "output_type": "stream",
     "text": [
      "Error processing https:www.seattleu.edu/directory/profiles/heather-shutter.php: HTTP Error 404: Not Found\n",
      "Extracted content from https://www.seattleu.edu/directory/profiles/heidi-hetzel.php and saved to JSON.\n"
     ]
    },
    {
     "name": "stderr",
     "output_type": "stream",
     "text": [
      " 51%|█████▏    | 3248/6321 [5:10:43<6:32:30,  7.66s/it]"
     ]
    },
    {
     "name": "stdout",
     "output_type": "stream",
     "text": [
      "Extracted content from https://www.seattleu.edu/directory/profiles/lara-diaconu.php and saved to JSON.\n"
     ]
    },
    {
     "name": "stderr",
     "output_type": "stream",
     "text": [
      " 51%|█████▏    | 3249/6321 [5:10:54<7:10:38,  8.41s/it]"
     ]
    },
    {
     "name": "stdout",
     "output_type": "stream",
     "text": [
      "Extracted content from https://www.seattleu.edu/directory/profiles/megan-kouri.php and saved to JSON.\n"
     ]
    },
    {
     "name": "stderr",
     "output_type": "stream",
     "text": [
      " 51%|█████▏    | 3250/6321 [5:11:04<7:37:07,  8.93s/it]"
     ]
    },
    {
     "name": "stdout",
     "output_type": "stream",
     "text": [
      "Extracted content from https://www.seattleu.edu/directory/profiles/miko-ouano.php and saved to JSON.\n"
     ]
    },
    {
     "name": "stderr",
     "output_type": "stream",
     "text": [
      " 51%|█████▏    | 3251/6321 [5:11:14<7:57:50,  9.34s/it]"
     ]
    },
    {
     "name": "stdout",
     "output_type": "stream",
     "text": [
      "Extracted content from https://www.seattleu.edu/directory/profiles/russell-lehman.php and saved to JSON.\n"
     ]
    },
    {
     "name": "stderr",
     "output_type": "stream",
     "text": [
      " 51%|█████▏    | 3252/6321 [5:11:24<8:10:12,  9.58s/it]"
     ]
    },
    {
     "name": "stdout",
     "output_type": "stream",
     "text": [
      "Extracted content from https://www.seattleu.edu/directory/profiles/renee-yiu.php and saved to JSON.\n"
     ]
    },
    {
     "name": "stderr",
     "output_type": "stream",
     "text": [
      " 51%|█████▏    | 3253/6321 [5:11:34<8:18:34,  9.75s/it]"
     ]
    },
    {
     "name": "stdout",
     "output_type": "stream",
     "text": [
      "Extracted content from https://www.seattleu.edu/directory/profiles/winston-benjamin.php and saved to JSON.\n"
     ]
    },
    {
     "name": "stderr",
     "output_type": "stream",
     "text": [
      " 51%|█████▏    | 3254/6321 [5:11:44<8:24:35,  9.87s/it]"
     ]
    },
    {
     "name": "stdout",
     "output_type": "stream",
     "text": [
      "Extracted content from https://www.seattleu.edu/directory/profiles/claudia-cole.php and saved to JSON.\n"
     ]
    },
    {
     "name": "stderr",
     "output_type": "stream",
     "text": [
      " 51%|█████▏    | 3255/6321 [5:11:55<8:29:01,  9.96s/it]"
     ]
    },
    {
     "name": "stdout",
     "output_type": "stream",
     "text": [
      "Extracted content from https://www.seattleu.edu/directory/profiles/ella-neisz.php and saved to JSON.\n"
     ]
    },
    {
     "name": "stderr",
     "output_type": "stream",
     "text": [
      " 52%|█████▏    | 3256/6321 [5:12:05<8:32:01, 10.02s/it]"
     ]
    },
    {
     "name": "stdout",
     "output_type": "stream",
     "text": [
      "Extracted content from https://www.seattleu.edu/directory/profiles/madison-carl.php and saved to JSON.\n"
     ]
    },
    {
     "name": "stderr",
     "output_type": "stream",
     "text": [
      " 52%|█████▏    | 3257/6321 [5:12:15<8:33:51, 10.06s/it]"
     ]
    },
    {
     "name": "stdout",
     "output_type": "stream",
     "text": [
      "Extracted content from https://www.seattleu.edu/directory/profiles/alanna-martin.php and saved to JSON.\n"
     ]
    },
    {
     "name": "stderr",
     "output_type": "stream",
     "text": [
      " 52%|█████▏    | 3258/6321 [5:12:25<8:39:10, 10.17s/it]"
     ]
    },
    {
     "name": "stdout",
     "output_type": "stream",
     "text": [
      "Extracted content from https://www.seattleu.edu/directory/profiles/alicia-goodwin.php and saved to JSON.\n"
     ]
    },
    {
     "name": "stderr",
     "output_type": "stream",
     "text": [
      " 52%|█████▏    | 3259/6321 [5:12:36<8:40:40, 10.20s/it]"
     ]
    },
    {
     "name": "stdout",
     "output_type": "stream",
     "text": [
      "Extracted content from https://www.seattleu.edu/directory/profiles/brian-rowe.php and saved to JSON.\n"
     ]
    },
    {
     "name": "stderr",
     "output_type": "stream",
     "text": [
      " 52%|█████▏    | 3260/6321 [5:12:46<8:40:19, 10.20s/it]"
     ]
    },
    {
     "name": "stdout",
     "output_type": "stream",
     "text": [
      "Extracted content from https://www.seattleu.edu/directory/profiles/maya-hemachandra-mpa.php and saved to JSON.\n"
     ]
    },
    {
     "name": "stderr",
     "output_type": "stream",
     "text": [
      " 52%|█████▏    | 3261/6321 [5:12:57<8:55:30, 10.50s/it]"
     ]
    },
    {
     "name": "stdout",
     "output_type": "stream",
     "text": [
      "Extracted content from https://www.seattleu.edu/directory/profiles/will-bassett.php and saved to JSON.\n"
     ]
    },
    {
     "name": "stderr",
     "output_type": "stream",
     "text": [
      " 52%|█████▏    | 3262/6321 [5:13:07<8:52:31, 10.44s/it]"
     ]
    },
    {
     "name": "stdout",
     "output_type": "stream",
     "text": [
      "Extracted content from https://www.seattleu.edu/directory/profiles/troy-fleischauer.php and saved to JSON.\n"
     ]
    },
    {
     "name": "stderr",
     "output_type": "stream",
     "text": [
      " 52%|█████▏    | 3263/6321 [5:13:17<8:47:47, 10.36s/it]"
     ]
    },
    {
     "name": "stdout",
     "output_type": "stream",
     "text": [
      "Extracted content from https://www.seattleu.edu/directory/profiles/alice-amaya.php and saved to JSON.\n"
     ]
    },
    {
     "name": "stderr",
     "output_type": "stream",
     "text": [
      " 52%|█████▏    | 3264/6321 [5:13:28<8:45:42, 10.32s/it]"
     ]
    },
    {
     "name": "stdout",
     "output_type": "stream",
     "text": [
      "Extracted content from https://www.seattleu.edu/directory/profiles/amy-wheeler.php and saved to JSON.\n"
     ]
    },
    {
     "name": "stderr",
     "output_type": "stream",
     "text": [
      " 52%|█████▏    | 3265/6321 [5:13:38<8:42:48, 10.26s/it]"
     ]
    },
    {
     "name": "stdout",
     "output_type": "stream",
     "text": [
      "Extracted content from https://www.seattleu.edu/directory/profiles/carissa-singh.php and saved to JSON.\n"
     ]
    },
    {
     "name": "stderr",
     "output_type": "stream",
     "text": [
      " 52%|█████▏    | 3266/6321 [5:13:48<8:43:41, 10.29s/it]"
     ]
    },
    {
     "name": "stdout",
     "output_type": "stream",
     "text": [
      "Extracted content from https://www.seattleu.edu/directory/profiles/carolina-delgado-ruiz.php and saved to JSON.\n"
     ]
    },
    {
     "name": "stderr",
     "output_type": "stream",
     "text": [
      " 52%|█████▏    | 3267/6321 [5:13:58<8:43:07, 10.28s/it]"
     ]
    },
    {
     "name": "stdout",
     "output_type": "stream",
     "text": [
      "Extracted content from https://www.seattleu.edu/directory/profiles/diane-braxmeyer.php and saved to JSON.\n"
     ]
    },
    {
     "name": "stderr",
     "output_type": "stream",
     "text": [
      " 52%|█████▏    | 3268/6321 [5:14:09<8:40:49, 10.24s/it]"
     ]
    },
    {
     "name": "stdout",
     "output_type": "stream",
     "text": [
      "Extracted content from https://www.seattleu.edu/directory/profiles/dominic-williamson.php and saved to JSON.\n"
     ]
    },
    {
     "name": "stderr",
     "output_type": "stream",
     "text": [
      " 52%|█████▏    | 3269/6321 [5:14:19<8:39:34, 10.21s/it]"
     ]
    },
    {
     "name": "stdout",
     "output_type": "stream",
     "text": [
      "Extracted content from https://www.seattleu.edu/directory/profiles/griffin-williams.php and saved to JSON.\n"
     ]
    },
    {
     "name": "stderr",
     "output_type": "stream",
     "text": [
      " 52%|█████▏    | 3270/6321 [5:14:29<8:38:40, 10.20s/it]"
     ]
    },
    {
     "name": "stdout",
     "output_type": "stream",
     "text": [
      "Extracted content from https://www.seattleu.edu/directory/profiles/jennifer-young.php and saved to JSON.\n"
     ]
    },
    {
     "name": "stderr",
     "output_type": "stream",
     "text": [
      " 52%|█████▏    | 3271/6321 [5:14:39<8:37:36, 10.18s/it]"
     ]
    },
    {
     "name": "stdout",
     "output_type": "stream",
     "text": [
      "Extracted content from https://www.seattleu.edu/directory/profiles/kedar-kale.php and saved to JSON.\n"
     ]
    },
    {
     "name": "stderr",
     "output_type": "stream",
     "text": [
      " 52%|█████▏    | 3272/6321 [5:14:49<8:36:54, 10.17s/it]"
     ]
    },
    {
     "name": "stdout",
     "output_type": "stream",
     "text": [
      "Extracted content from https://www.seattleu.edu/directory/profiles/kim-cuevas.php and saved to JSON.\n"
     ]
    },
    {
     "name": "stderr",
     "output_type": "stream",
     "text": [
      " 52%|█████▏    | 3273/6321 [5:14:59<8:38:54, 10.21s/it]"
     ]
    },
    {
     "name": "stdout",
     "output_type": "stream",
     "text": [
      "Extracted content from https://www.seattleu.edu/directory/profiles/kristi-brown.php and saved to JSON.\n"
     ]
    },
    {
     "name": "stderr",
     "output_type": "stream",
     "text": [
      " 52%|█████▏    | 3274/6321 [5:15:10<8:37:32, 10.19s/it]"
     ]
    },
    {
     "name": "stdout",
     "output_type": "stream",
     "text": [
      "Extracted content from https://www.seattleu.edu/directory/profiles/matt-sorg.php and saved to JSON.\n"
     ]
    },
    {
     "name": "stderr",
     "output_type": "stream",
     "text": [
      " 52%|█████▏    | 3275/6321 [5:15:20<8:39:40, 10.24s/it]"
     ]
    },
    {
     "name": "stdout",
     "output_type": "stream",
     "text": [
      "Extracted content from https://www.seattleu.edu/directory/profiles/matthew-christian.php and saved to JSON.\n"
     ]
    },
    {
     "name": "stderr",
     "output_type": "stream",
     "text": [
      " 52%|█████▏    | 3276/6321 [5:15:30<8:38:32, 10.22s/it]"
     ]
    },
    {
     "name": "stdout",
     "output_type": "stream",
     "text": [
      "Extracted content from https://www.seattleu.edu/directory/profiles/meera-lee-sethi.php and saved to JSON.\n"
     ]
    },
    {
     "name": "stderr",
     "output_type": "stream",
     "text": [
      " 52%|█████▏    | 3277/6321 [5:15:40<8:37:06, 10.19s/it]"
     ]
    },
    {
     "name": "stdout",
     "output_type": "stream",
     "text": [
      "Extracted content from https://www.seattleu.edu/directory/profiles/michael-skiles.php and saved to JSON.\n"
     ]
    },
    {
     "name": "stderr",
     "output_type": "stream",
     "text": [
      " 52%|█████▏    | 3278/6321 [5:15:50<8:36:16, 10.18s/it]"
     ]
    },
    {
     "name": "stdout",
     "output_type": "stream",
     "text": [
      "Extracted content from https://www.seattleu.edu/directory/profiles/mike-allende.php and saved to JSON.\n"
     ]
    },
    {
     "name": "stderr",
     "output_type": "stream",
     "text": [
      " 52%|█████▏    | 3279/6321 [5:16:01<8:35:46, 10.17s/it]"
     ]
    },
    {
     "name": "stdout",
     "output_type": "stream",
     "text": [
      "Extracted content from https://www.seattleu.edu/directory/profiles/nicholas-ballinger.php and saved to JSON.\n"
     ]
    },
    {
     "name": "stderr",
     "output_type": "stream",
     "text": [
      " 52%|█████▏    | 3280/6321 [5:16:11<8:35:26, 10.17s/it]"
     ]
    },
    {
     "name": "stdout",
     "output_type": "stream",
     "text": [
      "Extracted content from https://www.seattleu.edu/directory/profiles/noel-corder.php and saved to JSON.\n"
     ]
    },
    {
     "name": "stderr",
     "output_type": "stream",
     "text": [
      " 52%|█████▏    | 3281/6321 [5:16:21<8:35:04, 10.17s/it]"
     ]
    },
    {
     "name": "stdout",
     "output_type": "stream",
     "text": [
      "Extracted content from https://www.seattleu.edu/directory/profiles/osagyefo-sekou.php and saved to JSON.\n"
     ]
    },
    {
     "name": "stderr",
     "output_type": "stream",
     "text": [
      " 52%|█████▏    | 3282/6321 [5:16:31<8:35:30, 10.18s/it]"
     ]
    },
    {
     "name": "stdout",
     "output_type": "stream",
     "text": [
      "Extracted content from https://www.seattleu.edu/directory/profiles/ruohan-liu.php and saved to JSON.\n"
     ]
    },
    {
     "name": "stderr",
     "output_type": "stream",
     "text": [
      " 52%|█████▏    | 3283/6321 [5:16:41<8:37:15, 10.22s/it]"
     ]
    },
    {
     "name": "stdout",
     "output_type": "stream",
     "text": [
      "Extracted content from https://www.seattleu.edu/directory/profiles/ryan-steidl.php and saved to JSON.\n"
     ]
    },
    {
     "name": "stderr",
     "output_type": "stream",
     "text": [
      " 52%|█████▏    | 3284/6321 [5:16:52<8:36:20, 10.20s/it]"
     ]
    },
    {
     "name": "stdout",
     "output_type": "stream",
     "text": [
      "Extracted content from https://www.seattleu.edu/directory/profiles/sadie-teal.php and saved to JSON.\n"
     ]
    },
    {
     "name": "stderr",
     "output_type": "stream",
     "text": [
      " 52%|█████▏    | 3285/6321 [5:17:02<8:35:45, 10.19s/it]"
     ]
    },
    {
     "name": "stdout",
     "output_type": "stream",
     "text": [
      "Extracted content from https://www.seattleu.edu/directory/profiles/sam-jones.php and saved to JSON.\n"
     ]
    },
    {
     "name": "stderr",
     "output_type": "stream",
     "text": [
      " 52%|█████▏    | 3286/6321 [5:17:12<8:34:49, 10.18s/it]"
     ]
    },
    {
     "name": "stdout",
     "output_type": "stream",
     "text": [
      "Extracted content from https://www.seattleu.edu/directory/profiles/shandell-gallardo.php and saved to JSON.\n"
     ]
    },
    {
     "name": "stderr",
     "output_type": "stream",
     "text": [
      " 52%|█████▏    | 3287/6321 [5:17:22<8:34:16, 10.17s/it]"
     ]
    },
    {
     "name": "stdout",
     "output_type": "stream",
     "text": [
      "Extracted content from https://www.seattleu.edu/directory/profiles/taylor-donovan.php and saved to JSON.\n"
     ]
    },
    {
     "name": "stderr",
     "output_type": "stream",
     "text": [
      " 52%|█████▏    | 3288/6321 [5:17:32<8:33:36, 10.16s/it]"
     ]
    },
    {
     "name": "stdout",
     "output_type": "stream",
     "text": [
      "Extracted content from https://www.seattleu.edu/directory/profiles/vuen-pahn.php and saved to JSON.\n"
     ]
    },
    {
     "name": "stderr",
     "output_type": "stream",
     "text": [
      " 52%|█████▏    | 3289/6321 [5:17:42<8:33:30, 10.16s/it]"
     ]
    },
    {
     "name": "stdout",
     "output_type": "stream",
     "text": [
      "Extracted content from https://www.seattleu.edu/directory/profiles/vy-nguyen.php and saved to JSON.\n"
     ]
    },
    {
     "name": "stderr",
     "output_type": "stream",
     "text": [
      " 52%|█████▏    | 3290/6321 [5:17:52<8:33:11, 10.16s/it]"
     ]
    },
    {
     "name": "stdout",
     "output_type": "stream",
     "text": [
      "Extracted content from https://www.seattleu.edu/directory/profiles/arturo-a-araujo-mfa.php and saved to JSON.\n"
     ]
    },
    {
     "name": "stderr",
     "output_type": "stream",
     "text": [
      " 52%|█████▏    | 3291/6321 [5:18:03<8:36:52, 10.24s/it]"
     ]
    },
    {
     "name": "stdout",
     "output_type": "stream",
     "text": [
      "Extracted content from https://www.seattleu.edu/directory/profiles/mary-s-petersen.php and saved to JSON.\n"
     ]
    },
    {
     "name": "stderr",
     "output_type": "stream",
     "text": [
      " 52%|█████▏    | 3292/6321 [5:18:13<8:35:37, 10.21s/it]"
     ]
    },
    {
     "name": "stdout",
     "output_type": "stream",
     "text": [
      "Extracted content from https://www.seattleu.edu/directory/profiles/robin-meeks.php and saved to JSON.\n"
     ]
    },
    {
     "name": "stderr",
     "output_type": "stream",
     "text": [
      " 52%|█████▏    | 3293/6321 [5:18:23<8:35:16, 10.21s/it]"
     ]
    },
    {
     "name": "stdout",
     "output_type": "stream",
     "text": [
      "Extracted content from https://www.seattleu.edu/directory/profiles/scott-mcclellan.php and saved to JSON.\n"
     ]
    },
    {
     "name": "stderr",
     "output_type": "stream",
     "text": [
      " 52%|█████▏    | 3294/6321 [5:18:33<8:34:01, 10.19s/it]"
     ]
    },
    {
     "name": "stdout",
     "output_type": "stream",
     "text": [
      "Extracted content from https://www.seattleu.edu/directory/profiles/charles-m-tung-phd.php and saved to JSON.\n"
     ]
    },
    {
     "name": "stderr",
     "output_type": "stream",
     "text": [
      " 52%|█████▏    | 3295/6321 [5:18:44<8:33:22, 10.18s/it]"
     ]
    },
    {
     "name": "stdout",
     "output_type": "stream",
     "text": [
      "Extracted content from https://www.seattleu.edu/directory/profiles/cynthia-b-dillard-phd.php and saved to JSON.\n"
     ]
    },
    {
     "name": "stderr",
     "output_type": "stream",
     "text": [
      " 52%|█████▏    | 3296/6321 [5:18:54<8:32:55, 10.17s/it]"
     ]
    },
    {
     "name": "stdout",
     "output_type": "stream",
     "text": [
      "Extracted content from https://www.seattleu.edu/directory/profiles/david-powers-phd.php and saved to JSON.\n"
     ]
    },
    {
     "name": "stderr",
     "output_type": "stream",
     "text": [
      " 52%|█████▏    | 3297/6321 [5:19:04<8:32:30, 10.17s/it]"
     ]
    },
    {
     "name": "stdout",
     "output_type": "stream",
     "text": [
      "Extracted content from https://www.seattleu.edu/directory/profiles/eduardo-pealver.php and saved to JSON.\n"
     ]
    },
    {
     "name": "stderr",
     "output_type": "stream",
     "text": [
      " 52%|█████▏    | 3298/6321 [5:19:14<8:31:54, 10.16s/it]"
     ]
    },
    {
     "name": "stdout",
     "output_type": "stream",
     "text": [
      "Extracted content from https://www.seattleu.edu/directory/profiles/joseph-phillips-phd.php and saved to JSON.\n"
     ]
    },
    {
     "name": "stderr",
     "output_type": "stream",
     "text": [
      " 52%|█████▏    | 3299/6321 [5:19:24<8:34:58, 10.22s/it]"
     ]
    },
    {
     "name": "stdout",
     "output_type": "stream",
     "text": [
      "Extracted content from https://www.seattleu.edu/directory/profiles/shane-martin.php and saved to JSON.\n"
     ]
    },
    {
     "name": "stderr",
     "output_type": "stream",
     "text": [
      " 52%|█████▏    | 3300/6321 [5:19:35<8:33:35, 10.20s/it]"
     ]
    },
    {
     "name": "stdout",
     "output_type": "stream",
     "text": [
      "Extracted content from https://www.seattleu.edu/directory/profiles/shaney-fink.php and saved to JSON.\n"
     ]
    },
    {
     "name": "stderr",
     "output_type": "stream",
     "text": [
      " 52%|█████▏    | 3301/6321 [5:19:45<8:32:22, 10.18s/it]"
     ]
    },
    {
     "name": "stdout",
     "output_type": "stream",
     "text": [
      "Extracted content from https://www.seattleu.edu/directory/profiles/travis-nation.php and saved to JSON.\n"
     ]
    },
    {
     "name": "stderr",
     "output_type": "stream",
     "text": [
      " 52%|█████▏    | 3302/6321 [5:19:55<8:31:42, 10.17s/it]"
     ]
    },
    {
     "name": "stdout",
     "output_type": "stream",
     "text": [
      "Extracted content from https://www.seattleu.edu/directory/profiles/anthony-varona.php and saved to JSON.\n"
     ]
    },
    {
     "name": "stderr",
     "output_type": "stream",
     "text": [
      " 52%|█████▏    | 3303/6321 [5:20:05<8:38:30, 10.31s/it]"
     ]
    },
    {
     "name": "stdout",
     "output_type": "stream",
     "text": [
      "Extracted content from https://www.seattleu.edu/directory/profiles/catherine-punsalan-manlimos.php and saved to JSON.\n"
     ]
    },
    {
     "name": "stderr",
     "output_type": "stream",
     "text": [
      " 52%|█████▏    | 3304/6321 [5:20:16<8:36:12, 10.27s/it]"
     ]
    },
    {
     "name": "stdout",
     "output_type": "stream",
     "text": [
      "Extracted content from https://www.seattleu.edu/directory/profiles/chris-malins.php and saved to JSON.\n"
     ]
    },
    {
     "name": "stderr",
     "output_type": "stream",
     "text": [
      " 52%|█████▏    | 3305/6321 [5:20:26<8:34:19, 10.23s/it]"
     ]
    },
    {
     "name": "stdout",
     "output_type": "stream",
     "text": [
      "Extracted content from https://www.seattleu.edu/directory/profiles/chris-van-liew.php and saved to JSON.\n"
     ]
    },
    {
     "name": "stderr",
     "output_type": "stream",
     "text": [
      " 52%|█████▏    | 3306/6321 [5:20:36<8:32:41, 10.20s/it]"
     ]
    },
    {
     "name": "stdout",
     "output_type": "stream",
     "text": [
      "Extracted content from https://www.seattleu.edu/directory/profiles/david-lance.php and saved to JSON.\n"
     ]
    },
    {
     "name": "stderr",
     "output_type": "stream",
     "text": [
      " 52%|█████▏    | 3307/6321 [5:20:46<8:33:50, 10.23s/it]"
     ]
    },
    {
     "name": "stdout",
     "output_type": "stream",
     "text": [
      "Extracted content from https://www.seattleu.edu/directory/profiles/edgardo-gonzalez.php and saved to JSON.\n"
     ]
    },
    {
     "name": "stderr",
     "output_type": "stream",
     "text": [
      " 52%|█████▏    | 3308/6321 [5:20:56<8:34:11, 10.24s/it]"
     ]
    },
    {
     "name": "stdout",
     "output_type": "stream",
     "text": [
      "Extracted content from https://www.seattleu.edu/directory/profiles/jerron-lowe.php and saved to JSON.\n"
     ]
    },
    {
     "name": "stderr",
     "output_type": "stream",
     "text": [
      " 52%|█████▏    | 3309/6321 [5:21:07<8:32:26, 10.21s/it]"
     ]
    },
    {
     "name": "stdout",
     "output_type": "stream",
     "text": [
      "Extracted content from https://www.seattleu.edu/directory/profiles/jodi-obrien-phd.php and saved to JSON.\n"
     ]
    },
    {
     "name": "stderr",
     "output_type": "stream",
     "text": [
      " 52%|█████▏    | 3310/6321 [5:21:17<8:31:24, 10.19s/it]"
     ]
    },
    {
     "name": "stdout",
     "output_type": "stream",
     "text": [
      "Extracted content from https://www.seattleu.edu/directory/profiles/laura-spitz.php and saved to JSON.\n"
     ]
    },
    {
     "name": "stderr",
     "output_type": "stream",
     "text": [
      " 52%|█████▏    | 3311/6321 [5:21:27<8:30:35, 10.18s/it]"
     ]
    },
    {
     "name": "stdout",
     "output_type": "stream",
     "text": [
      "Extracted content from https://www.seattleu.edu/directory/profiles/melore-nielsen.php and saved to JSON.\n"
     ]
    },
    {
     "name": "stderr",
     "output_type": "stream",
     "text": [
      " 52%|█████▏    | 3312/6321 [5:21:37<8:30:03, 10.17s/it]"
     ]
    },
    {
     "name": "stdout",
     "output_type": "stream",
     "text": [
      "Extracted content from https://www.seattleu.edu/directory/profiles/monica-ingram.php and saved to JSON.\n"
     ]
    },
    {
     "name": "stderr",
     "output_type": "stream",
     "text": [
      " 52%|█████▏    | 3313/6321 [5:21:47<8:29:32, 10.16s/it]"
     ]
    },
    {
     "name": "stdout",
     "output_type": "stream",
     "text": [
      "Extracted content from https://www.seattleu.edu/directory/profiles/natasha-martin.php and saved to JSON.\n"
     ]
    },
    {
     "name": "stderr",
     "output_type": "stream",
     "text": [
      " 52%|█████▏    | 3314/6321 [5:21:57<8:29:38, 10.17s/it]"
     ]
    },
    {
     "name": "stdout",
     "output_type": "stream",
     "text": [
      "Extracted content from https://www.seattleu.edu/directory/profiles/sarah-watstein.php and saved to JSON.\n"
     ]
    },
    {
     "name": "stderr",
     "output_type": "stream",
     "text": [
      " 52%|█████▏    | 3315/6321 [5:22:08<8:29:15, 10.16s/it]"
     ]
    },
    {
     "name": "stdout",
     "output_type": "stream",
     "text": [
      "Extracted content from https://www.seattleu.edu/directory/profiles/butch-de-castro-phd-msn-mph-rn-faan.php and saved to JSON.\n"
     ]
    },
    {
     "name": "stderr",
     "output_type": "stream",
     "text": [
      " 52%|█████▏    | 3316/6321 [5:22:18<8:31:44, 10.22s/it]"
     ]
    },
    {
     "name": "stdout",
     "output_type": "stream",
     "text": [
      "Extracted content from https://www.seattleu.edu/directory/profiles/anne-moran.php and saved to JSON.\n"
     ]
    },
    {
     "name": "stderr",
     "output_type": "stream",
     "text": [
      " 52%|█████▏    | 3317/6321 [5:22:28<8:31:11, 10.21s/it]"
     ]
    },
    {
     "name": "stdout",
     "output_type": "stream",
     "text": [
      "Extracted content from https://www.seattleu.edu/directory/profiles/marinilka-kimbro-phd.php and saved to JSON.\n"
     ]
    },
    {
     "name": "stderr",
     "output_type": "stream",
     "text": [
      " 52%|█████▏    | 3318/6321 [5:22:38<8:30:26, 10.20s/it]"
     ]
    },
    {
     "name": "stdout",
     "output_type": "stream",
     "text": [
      "Extracted content from https://www.seattleu.edu/directory/profiles/amanda-davis.php and saved to JSON.\n"
     ]
    },
    {
     "name": "stderr",
     "output_type": "stream",
     "text": [
      " 53%|█████▎    | 3319/6321 [5:22:48<8:29:28, 10.18s/it]"
     ]
    },
    {
     "name": "stdout",
     "output_type": "stream",
     "text": [
      "Extracted content from https://www.seattleu.edu/directory/profiles/carrie-bailey.php and saved to JSON.\n"
     ]
    },
    {
     "name": "stderr",
     "output_type": "stream",
     "text": [
      " 53%|█████▎    | 3320/6321 [5:22:59<8:29:05, 10.18s/it]"
     ]
    },
    {
     "name": "stdout",
     "output_type": "stream",
     "text": [
      "Extracted content from https://www.seattleu.edu/directory/profiles/chris-mohrhardt.php and saved to JSON.\n"
     ]
    },
    {
     "name": "stderr",
     "output_type": "stream",
     "text": [
      " 53%|█████▎    | 3321/6321 [5:23:09<8:29:29, 10.19s/it]"
     ]
    },
    {
     "name": "stdout",
     "output_type": "stream",
     "text": [
      "Extracted content from https://www.seattleu.edu/directory/profiles/desiree-omli-jd-mpa.php and saved to JSON.\n"
     ]
    },
    {
     "name": "stderr",
     "output_type": "stream",
     "text": [
      " 53%|█████▎    | 3322/6321 [5:23:19<8:30:40, 10.22s/it]"
     ]
    },
    {
     "name": "stdout",
     "output_type": "stream",
     "text": [
      "Extracted content from https://www.seattleu.edu/directory/profiles/jasmaine-ataga-phd.php and saved to JSON.\n"
     ]
    },
    {
     "name": "stderr",
     "output_type": "stream",
     "text": [
      " 53%|█████▎    | 3323/6321 [5:23:29<8:30:03, 10.21s/it]"
     ]
    },
    {
     "name": "stdout",
     "output_type": "stream",
     "text": [
      "Extracted content from https://www.seattleu.edu/directory/profiles/jose-idiaquez.php and saved to JSON.\n"
     ]
    },
    {
     "name": "stderr",
     "output_type": "stream",
     "text": [
      " 53%|█████▎    | 3324/6321 [5:23:40<8:38:25, 10.38s/it]"
     ]
    },
    {
     "name": "stdout",
     "output_type": "stream",
     "text": [
      "Extracted content from https://www.seattleu.edu/directory/profiles/ky-pham.php and saved to JSON.\n"
     ]
    },
    {
     "name": "stderr",
     "output_type": "stream",
     "text": [
      " 53%|█████▎    | 3325/6321 [5:23:50<8:36:06, 10.34s/it]"
     ]
    },
    {
     "name": "stdout",
     "output_type": "stream",
     "text": [
      "Extracted content from https://www.seattleu.edu/directory/profiles/lusine-shoukourian.php and saved to JSON.\n"
     ]
    },
    {
     "name": "stderr",
     "output_type": "stream",
     "text": [
      " 53%|█████▎    | 3326/6321 [5:24:00<8:33:34, 10.29s/it]"
     ]
    },
    {
     "name": "stdout",
     "output_type": "stream",
     "text": [
      "Extracted content from https://www.seattleu.edu/directory/profiles/samantha-herradura.php and saved to JSON.\n"
     ]
    },
    {
     "name": "stderr",
     "output_type": "stream",
     "text": [
      " 53%|█████▎    | 3327/6321 [5:24:11<8:31:26, 10.25s/it]"
     ]
    },
    {
     "name": "stdout",
     "output_type": "stream",
     "text": [
      "Extracted content from https://www.seattleu.edu/directory/profiles/tolulope-taiwo.php and saved to JSON.\n"
     ]
    },
    {
     "name": "stderr",
     "output_type": "stream",
     "text": [
      " 53%|█████▎    | 3328/6321 [5:24:21<8:29:36, 10.22s/it]"
     ]
    },
    {
     "name": "stdout",
     "output_type": "stream",
     "text": [
      "Extracted content from https://www.seattleu.edu/directory/profiles/jesse-gonzalez.php and saved to JSON.\n"
     ]
    },
    {
     "name": "stderr",
     "output_type": "stream",
     "text": [
      " 53%|█████▎    | 3329/6321 [5:24:31<8:28:34, 10.20s/it]"
     ]
    },
    {
     "name": "stdout",
     "output_type": "stream",
     "text": [
      "Extracted content from https://www.seattleu.edu/directory/profiles/joshua-webb.php and saved to JSON.\n"
     ]
    },
    {
     "name": "stderr",
     "output_type": "stream",
     "text": [
      " 53%|█████▎    | 3332/6321 [5:24:41<4:13:25,  5.09s/it]"
     ]
    },
    {
     "name": "stdout",
     "output_type": "stream",
     "text": [
      "Error processing https:www.seattleu.edu/directory/profiles/preeti-jain.php: HTTP Error 404: Not Found\n",
      "Error processing https:www.seattleu.edu/directory/profiles/vanessa-calonzo.php: HTTP Error 404: Not Found\n",
      "Extracted content from https://www.seattleu.edu/directory/profiles/ari-winter.php and saved to JSON.\n"
     ]
    },
    {
     "name": "stderr",
     "output_type": "stream",
     "text": [
      " 53%|█████▎    | 3335/6321 [5:24:52<2:47:42,  3.37s/it]"
     ]
    },
    {
     "name": "stdout",
     "output_type": "stream",
     "text": [
      "Error processing https:www.seattleu.edu/directory/profiles/lia-gonia.php: HTTP Error 404: Not Found\n",
      "Error processing https:www.seattleu.edu/directory/profiles/michael-drummey.php: HTTP Error 404: Not Found\n",
      "Extracted content from https://www.seattleu.edu/directory/profiles/miguel-nava-venegas.php and saved to JSON.\n"
     ]
    },
    {
     "name": "stderr",
     "output_type": "stream",
     "text": [
      " 53%|█████▎    | 3336/6321 [5:25:02<4:28:52,  5.40s/it]"
     ]
    },
    {
     "name": "stdout",
     "output_type": "stream",
     "text": [
      "Extracted content from https://www.seattleu.edu/directory/profiles/aimee-sutton.php and saved to JSON.\n"
     ]
    },
    {
     "name": "stderr",
     "output_type": "stream",
     "text": [
      " 53%|█████▎    | 3337/6321 [5:25:12<5:39:26,  6.83s/it]"
     ]
    },
    {
     "name": "stdout",
     "output_type": "stream",
     "text": [
      "Extracted content from https://www.seattleu.edu/directory/profiles/alice-liu.php and saved to JSON.\n"
     ]
    },
    {
     "name": "stderr",
     "output_type": "stream",
     "text": [
      " 53%|█████▎    | 3338/6321 [5:25:23<6:29:08,  7.83s/it]"
     ]
    },
    {
     "name": "stdout",
     "output_type": "stream",
     "text": [
      "Extracted content from https://www.seattleu.edu/directory/profiles/braden-wild.php and saved to JSON.\n"
     ]
    },
    {
     "name": "stderr",
     "output_type": "stream",
     "text": [
      " 53%|█████▎    | 3339/6321 [5:25:33<7:09:31,  8.64s/it]"
     ]
    },
    {
     "name": "stdout",
     "output_type": "stream",
     "text": [
      "Extracted content from https://www.seattleu.edu/directory/profiles/lei-young.php and saved to JSON.\n"
     ]
    },
    {
     "name": "stderr",
     "output_type": "stream",
     "text": [
      " 53%|█████▎    | 3340/6321 [5:25:43<7:31:50,  9.09s/it]"
     ]
    },
    {
     "name": "stdout",
     "output_type": "stream",
     "text": [
      "Extracted content from https://www.seattleu.edu/directory/profiles/mary-seales.php and saved to JSON.\n"
     ]
    },
    {
     "name": "stderr",
     "output_type": "stream",
     "text": [
      " 53%|█████▎    | 3341/6321 [5:25:53<7:47:26,  9.41s/it]"
     ]
    },
    {
     "name": "stdout",
     "output_type": "stream",
     "text": [
      "Extracted content from https://www.seattleu.edu/directory/profiles/michael-blake.php and saved to JSON.\n"
     ]
    },
    {
     "name": "stderr",
     "output_type": "stream",
     "text": [
      " 53%|█████▎    | 3342/6321 [5:26:04<7:58:09,  9.63s/it]"
     ]
    },
    {
     "name": "stdout",
     "output_type": "stream",
     "text": [
      "Extracted content from https://www.seattleu.edu/directory/profiles/michael-mullen.php and saved to JSON.\n"
     ]
    },
    {
     "name": "stderr",
     "output_type": "stream",
     "text": [
      " 53%|█████▎    | 3343/6321 [5:26:14<8:05:59,  9.79s/it]"
     ]
    },
    {
     "name": "stdout",
     "output_type": "stream",
     "text": [
      "Extracted content from https://www.seattleu.edu/directory/profiles/peter-altier.php and saved to JSON.\n"
     ]
    },
    {
     "name": "stderr",
     "output_type": "stream",
     "text": [
      " 53%|█████▎    | 3344/6321 [5:26:24<8:13:22,  9.94s/it]"
     ]
    },
    {
     "name": "stdout",
     "output_type": "stream",
     "text": [
      "Extracted content from https://www.seattleu.edu/directory/profiles/robert-andolina-phd.php and saved to JSON.\n"
     ]
    },
    {
     "name": "stderr",
     "output_type": "stream",
     "text": [
      " 53%|█████▎    | 3345/6321 [5:26:34<8:16:31, 10.01s/it]"
     ]
    },
    {
     "name": "stdout",
     "output_type": "stream",
     "text": [
      "Extracted content from https://www.seattleu.edu/directory/profiles/shannon-young.php and saved to JSON.\n"
     ]
    },
    {
     "name": "stderr",
     "output_type": "stream",
     "text": [
      " 53%|█████▎    | 3346/6321 [5:26:44<8:18:33, 10.05s/it]"
     ]
    },
    {
     "name": "stdout",
     "output_type": "stream",
     "text": [
      "Extracted content from https://www.seattleu.edu/directory/profiles/carmen-a-rivera-ms.php and saved to JSON.\n"
     ]
    },
    {
     "name": "stderr",
     "output_type": "stream",
     "text": [
      " 53%|█████▎    | 3347/6321 [5:26:55<8:19:51, 10.08s/it]"
     ]
    },
    {
     "name": "stdout",
     "output_type": "stream",
     "text": [
      "Extracted content from https://www.seattleu.edu/directory/profiles/beverly-himick-phd.php and saved to JSON.\n"
     ]
    },
    {
     "name": "stderr",
     "output_type": "stream",
     "text": [
      " 53%|█████▎    | 3348/6321 [5:27:05<8:21:01, 10.11s/it]"
     ]
    },
    {
     "name": "stdout",
     "output_type": "stream",
     "text": [
      "Extracted content from https://www.seattleu.edu/directory/profiles/thomas-tag-gleason-jd.php and saved to JSON.\n"
     ]
    },
    {
     "name": "stderr",
     "output_type": "stream",
     "text": [
      " 53%|█████▎    | 3349/6321 [5:27:15<8:21:34, 10.13s/it]"
     ]
    },
    {
     "name": "stdout",
     "output_type": "stream",
     "text": [
      "Extracted content from https://www.seattleu.edu/directory/profiles/christina-juarez-ba.php and saved to JSON.\n"
     ]
    },
    {
     "name": "stderr",
     "output_type": "stream",
     "text": [
      " 53%|█████▎    | 3350/6321 [5:27:25<8:21:45, 10.13s/it]"
     ]
    },
    {
     "name": "stdout",
     "output_type": "stream",
     "text": [
      "Extracted content from https://www.seattleu.edu/directory/profiles/jamariues-simanton.php and saved to JSON.\n"
     ]
    },
    {
     "name": "stderr",
     "output_type": "stream",
     "text": [
      " 53%|█████▎    | 3351/6321 [5:27:35<8:22:05, 10.14s/it]"
     ]
    },
    {
     "name": "stdout",
     "output_type": "stream",
     "text": [
      "Extracted content from https://www.seattleu.edu/directory/profiles/aradia-webb-ma.php and saved to JSON.\n"
     ]
    },
    {
     "name": "stderr",
     "output_type": "stream",
     "text": [
      " 53%|█████▎    | 3352/6321 [5:27:46<8:25:33, 10.22s/it]"
     ]
    },
    {
     "name": "stdout",
     "output_type": "stream",
     "text": [
      "Extracted content from https://www.seattleu.edu/directory/profiles/cody-rice.php and saved to JSON.\n"
     ]
    },
    {
     "name": "stderr",
     "output_type": "stream",
     "text": [
      " 53%|█████▎    | 3353/6321 [5:27:56<8:24:36, 10.20s/it]"
     ]
    },
    {
     "name": "stdout",
     "output_type": "stream",
     "text": [
      "Extracted content from https://www.seattleu.edu/directory/profiles/gregory-engstrom.php and saved to JSON.\n"
     ]
    },
    {
     "name": "stderr",
     "output_type": "stream",
     "text": [
      " 53%|█████▎    | 3354/6321 [5:28:06<8:23:56, 10.19s/it]"
     ]
    },
    {
     "name": "stdout",
     "output_type": "stream",
     "text": [
      "Extracted content from https://www.seattleu.edu/directory/profiles/ineliz-soto.php and saved to JSON.\n"
     ]
    },
    {
     "name": "stderr",
     "output_type": "stream",
     "text": [
      " 53%|█████▎    | 3355/6321 [5:28:17<8:31:10, 10.34s/it]"
     ]
    },
    {
     "name": "stdout",
     "output_type": "stream",
     "text": [
      "Extracted content from https://www.seattleu.edu/directory/profiles/ismail-hamza.php and saved to JSON.\n"
     ]
    },
    {
     "name": "stderr",
     "output_type": "stream",
     "text": [
      " 53%|█████▎    | 3356/6321 [5:28:27<8:28:07, 10.28s/it]"
     ]
    },
    {
     "name": "stdout",
     "output_type": "stream",
     "text": [
      "Extracted content from https://www.seattleu.edu/directory/profiles/jayme-markham.php and saved to JSON.\n"
     ]
    },
    {
     "name": "stderr",
     "output_type": "stream",
     "text": [
      " 53%|█████▎    | 3357/6321 [5:28:37<8:26:10, 10.25s/it]"
     ]
    },
    {
     "name": "stdout",
     "output_type": "stream",
     "text": [
      "Extracted content from https://www.seattleu.edu/directory/profiles/kellen-hade.php and saved to JSON.\n"
     ]
    },
    {
     "name": "stderr",
     "output_type": "stream",
     "text": [
      " 53%|█████▎    | 3358/6321 [5:28:47<8:24:26, 10.21s/it]"
     ]
    },
    {
     "name": "stdout",
     "output_type": "stream",
     "text": [
      "Extracted content from https://www.seattleu.edu/directory/profiles/marsha-chien.php and saved to JSON.\n"
     ]
    },
    {
     "name": "stderr",
     "output_type": "stream",
     "text": [
      " 53%|█████▎    | 3359/6321 [5:28:57<8:23:28, 10.20s/it]"
     ]
    },
    {
     "name": "stdout",
     "output_type": "stream",
     "text": [
      "Extracted content from https://www.seattleu.edu/directory/profiles/michelle-conklin.php and saved to JSON.\n"
     ]
    },
    {
     "name": "stderr",
     "output_type": "stream",
     "text": [
      " 53%|█████▎    | 3360/6321 [5:29:07<8:24:15, 10.22s/it]"
     ]
    },
    {
     "name": "stdout",
     "output_type": "stream",
     "text": [
      "Extracted content from https://www.seattleu.edu/directory/profiles/randall-hegarty.php and saved to JSON.\n"
     ]
    },
    {
     "name": "stderr",
     "output_type": "stream",
     "text": [
      " 53%|█████▎    | 3361/6321 [5:29:18<8:23:27, 10.21s/it]"
     ]
    },
    {
     "name": "stdout",
     "output_type": "stream",
     "text": [
      "Extracted content from https://www.seattleu.edu/directory/profiles/robert-kruse.php and saved to JSON.\n"
     ]
    },
    {
     "name": "stderr",
     "output_type": "stream",
     "text": [
      " 53%|█████▎    | 3362/6321 [5:29:28<8:22:39, 10.19s/it]"
     ]
    },
    {
     "name": "stdout",
     "output_type": "stream",
     "text": [
      "Extracted content from https://www.seattleu.edu/directory/profiles/erik-moore.php and saved to JSON.\n"
     ]
    },
    {
     "name": "stderr",
     "output_type": "stream",
     "text": [
      " 53%|█████▎    | 3363/6321 [5:29:38<8:21:42, 10.18s/it]"
     ]
    },
    {
     "name": "stdout",
     "output_type": "stream",
     "text": [
      "Extracted content from https://www.seattleu.edu/directory/profiles/kristin-tan.php and saved to JSON.\n"
     ]
    },
    {
     "name": "stderr",
     "output_type": "stream",
     "text": [
      " 53%|█████▎    | 3364/6321 [5:29:48<8:21:12, 10.17s/it]"
     ]
    },
    {
     "name": "stdout",
     "output_type": "stream",
     "text": [
      "Extracted content from https://www.seattleu.edu/directory/profiles/meghan-casey.php and saved to JSON.\n"
     ]
    },
    {
     "name": "stderr",
     "output_type": "stream",
     "text": [
      " 53%|█████▎    | 3365/6321 [5:29:58<8:21:06, 10.17s/it]"
     ]
    },
    {
     "name": "stdout",
     "output_type": "stream",
     "text": [
      "Extracted content from https://www.seattleu.edu/directory/profiles/patrick-mulligan.php and saved to JSON.\n"
     ]
    },
    {
     "name": "stderr",
     "output_type": "stream",
     "text": [
      " 53%|█████▎    | 3366/6321 [5:30:08<8:20:30, 10.16s/it]"
     ]
    },
    {
     "name": "stdout",
     "output_type": "stream",
     "text": [
      "Extracted content from https://www.seattleu.edu/directory/profiles/breena-stoner.php and saved to JSON.\n"
     ]
    },
    {
     "name": "stderr",
     "output_type": "stream",
     "text": [
      " 53%|█████▎    | 3367/6321 [5:30:19<8:20:09, 10.16s/it]"
     ]
    },
    {
     "name": "stdout",
     "output_type": "stream",
     "text": [
      "Extracted content from https://www.seattleu.edu/directory/profiles/burkhard-englert.php and saved to JSON.\n"
     ]
    },
    {
     "name": "stderr",
     "output_type": "stream",
     "text": [
      " 53%|█████▎    | 3368/6321 [5:30:29<8:23:16, 10.23s/it]"
     ]
    },
    {
     "name": "stdout",
     "output_type": "stream",
     "text": [
      "Extracted content from https://www.seattleu.edu/directory/profiles/erin-thomas.php and saved to JSON.\n"
     ]
    },
    {
     "name": "stderr",
     "output_type": "stream",
     "text": [
      " 53%|█████▎    | 3369/6321 [5:30:39<8:21:56, 10.20s/it]"
     ]
    },
    {
     "name": "stdout",
     "output_type": "stream",
     "text": [
      "Extracted content from https://www.seattleu.edu/directory/profiles/heather-west.php and saved to JSON.\n"
     ]
    },
    {
     "name": "stderr",
     "output_type": "stream",
     "text": [
      " 53%|█████▎    | 3370/6321 [5:30:49<8:20:54, 10.18s/it]"
     ]
    },
    {
     "name": "stdout",
     "output_type": "stream",
     "text": [
      "Extracted content from https://www.seattleu.edu/directory/profiles/jane-peterson.php and saved to JSON.\n"
     ]
    },
    {
     "name": "stderr",
     "output_type": "stream",
     "text": [
      " 53%|█████▎    | 3371/6321 [5:30:59<8:20:34, 10.18s/it]"
     ]
    },
    {
     "name": "stdout",
     "output_type": "stream",
     "text": [
      "Extracted content from https://www.seattleu.edu/directory/profiles/kelly-simmons.php and saved to JSON.\n"
     ]
    },
    {
     "name": "stderr",
     "output_type": "stream",
     "text": [
      " 53%|█████▎    | 3372/6321 [5:31:10<8:20:15, 10.18s/it]"
     ]
    },
    {
     "name": "stdout",
     "output_type": "stream",
     "text": [
      "Extracted content from https://www.seattleu.edu/directory/profiles/nicole-thelan.php and saved to JSON.\n"
     ]
    },
    {
     "name": "stderr",
     "output_type": "stream",
     "text": [
      " 53%|█████▎    | 3373/6321 [5:31:20<8:19:52, 10.17s/it]"
     ]
    },
    {
     "name": "stdout",
     "output_type": "stream",
     "text": [
      "Extracted content from https://www.seattleu.edu/directory/profiles/rabiya-wasiq.php and saved to JSON.\n"
     ]
    },
    {
     "name": "stderr",
     "output_type": "stream",
     "text": [
      " 53%|█████▎    | 3374/6321 [5:31:30<8:24:19, 10.27s/it]"
     ]
    },
    {
     "name": "stdout",
     "output_type": "stream",
     "text": [
      "Extracted content from https://www.seattleu.edu/directory/profiles/stephanie-velasco-mnpl.php and saved to JSON.\n"
     ]
    },
    {
     "name": "stderr",
     "output_type": "stream",
     "text": [
      " 53%|█████▎    | 3375/6321 [5:31:40<8:22:27, 10.23s/it]"
     ]
    },
    {
     "name": "stdout",
     "output_type": "stream",
     "text": [
      "Extracted content from https://www.seattleu.edu/directory/profiles/tessa-kiraly-dicker.php and saved to JSON.\n"
     ]
    },
    {
     "name": "stderr",
     "output_type": "stream",
     "text": [
      " 53%|█████▎    | 3376/6321 [5:31:51<8:24:31, 10.28s/it]"
     ]
    },
    {
     "name": "stdout",
     "output_type": "stream",
     "text": [
      "Extracted content from https://www.seattleu.edu/directory/profiles/amit-shukla-phd.php and saved to JSON.\n"
     ]
    },
    {
     "name": "stderr",
     "output_type": "stream",
     "text": [
      " 53%|█████▎    | 3377/6321 [5:32:01<8:22:47, 10.25s/it]"
     ]
    },
    {
     "name": "stdout",
     "output_type": "stream",
     "text": [
      "Extracted content from https://www.seattleu.edu/directory/profiles/brian-fink.php and saved to JSON.\n"
     ]
    },
    {
     "name": "stderr",
     "output_type": "stream",
     "text": [
      " 53%|█████▎    | 3378/6321 [5:32:11<8:21:26, 10.22s/it]"
     ]
    },
    {
     "name": "stdout",
     "output_type": "stream",
     "text": [
      "Extracted content from https://www.seattleu.edu/directory/profiles/teresa-van-winkle.php and saved to JSON.\n"
     ]
    },
    {
     "name": "stderr",
     "output_type": "stream",
     "text": [
      " 53%|█████▎    | 3380/6321 [5:32:21<5:53:05,  7.20s/it]"
     ]
    },
    {
     "name": "stdout",
     "output_type": "stream",
     "text": [
      "Error processing https:www.seattleu.edu/directory/profiles/adrian-leiser.php: HTTP Error 404: Not Found\n",
      "Extracted content from https://www.seattleu.edu/directory/profiles/geneva-lasprogata-sedgwick-jd-llm.php and saved to JSON.\n"
     ]
    },
    {
     "name": "stderr",
     "output_type": "stream",
     "text": [
      " 53%|█████▎    | 3381/6321 [5:32:32<6:36:37,  8.09s/it]"
     ]
    },
    {
     "name": "stdout",
     "output_type": "stream",
     "text": [
      "Extracted content from https://www.seattleu.edu/directory/profiles/jeremy-bang.php and saved to JSON.\n"
     ]
    },
    {
     "name": "stderr",
     "output_type": "stream",
     "text": [
      " 54%|█████▎    | 3382/6321 [5:32:42<7:06:57,  8.72s/it]"
     ]
    },
    {
     "name": "stdout",
     "output_type": "stream",
     "text": [
      "Extracted content from https://www.seattleu.edu/directory/profiles/natalie-popowics.php and saved to JSON.\n"
     ]
    },
    {
     "name": "stderr",
     "output_type": "stream",
     "text": [
      " 54%|█████▎    | 3383/6321 [5:32:52<7:27:36,  9.14s/it]"
     ]
    },
    {
     "name": "stdout",
     "output_type": "stream",
     "text": [
      "Extracted content from https://www.seattleu.edu/directory/profiles/nicole-donaldson.php and saved to JSON.\n"
     ]
    },
    {
     "name": "stderr",
     "output_type": "stream",
     "text": [
      " 54%|█████▎    | 3384/6321 [5:33:02<7:42:22,  9.45s/it]"
     ]
    },
    {
     "name": "stdout",
     "output_type": "stream",
     "text": [
      "Extracted content from https://www.seattleu.edu/directory/profiles/brian-robert-taberski-edd.php and saved to JSON.\n"
     ]
    },
    {
     "name": "stderr",
     "output_type": "stream",
     "text": [
      " 54%|█████▎    | 3385/6321 [5:33:12<7:55:47,  9.72s/it]"
     ]
    },
    {
     "name": "stdout",
     "output_type": "stream",
     "text": [
      "Extracted content from https://www.seattleu.edu/directory/profiles/jay-shepherd.php and saved to JSON.\n"
     ]
    },
    {
     "name": "stderr",
     "output_type": "stream",
     "text": [
      " 54%|█████▎    | 3386/6321 [5:33:23<8:02:17,  9.86s/it]"
     ]
    },
    {
     "name": "stdout",
     "output_type": "stream",
     "text": [
      "Extracted content from https://www.seattleu.edu/directory/profiles/benjamin-smith.php and saved to JSON.\n"
     ]
    },
    {
     "name": "stderr",
     "output_type": "stream",
     "text": [
      " 54%|█████▎    | 3387/6321 [5:33:33<8:06:46,  9.95s/it]"
     ]
    },
    {
     "name": "stdout",
     "output_type": "stream",
     "text": [
      "Extracted content from https://www.seattleu.edu/directory/profiles/carl-horn.php and saved to JSON.\n"
     ]
    },
    {
     "name": "stderr",
     "output_type": "stream",
     "text": [
      " 54%|█████▎    | 3388/6321 [5:33:43<8:09:40, 10.02s/it]"
     ]
    },
    {
     "name": "stdout",
     "output_type": "stream",
     "text": [
      "Extracted content from https://www.seattleu.edu/directory/profiles/nathan-nguyen.php and saved to JSON.\n"
     ]
    },
    {
     "name": "stderr",
     "output_type": "stream",
     "text": [
      " 54%|█████▎    | 3389/6321 [5:33:53<8:11:37, 10.06s/it]"
     ]
    },
    {
     "name": "stdout",
     "output_type": "stream",
     "text": [
      "Extracted content from https://www.seattleu.edu/directory/profiles/mr-shawn-dodge.php and saved to JSON.\n"
     ]
    },
    {
     "name": "stderr",
     "output_type": "stream",
     "text": [
      " 54%|█████▎    | 3390/6321 [5:34:03<8:12:58, 10.09s/it]"
     ]
    },
    {
     "name": "stdout",
     "output_type": "stream",
     "text": [
      "Extracted content from https://www.seattleu.edu/directory/profiles/daizy-koech.php and saved to JSON.\n"
     ]
    },
    {
     "name": "stderr",
     "output_type": "stream",
     "text": [
      " 54%|█████▎    | 3391/6321 [5:34:13<8:13:20, 10.10s/it]"
     ]
    },
    {
     "name": "stdout",
     "output_type": "stream",
     "text": [
      "Extracted content from https://www.seattleu.edu/directory/profiles/david-baldwin.php and saved to JSON.\n"
     ]
    },
    {
     "name": "stderr",
     "output_type": "stream",
     "text": [
      " 54%|█████▎    | 3392/6321 [5:34:24<8:13:56, 10.12s/it]"
     ]
    },
    {
     "name": "stdout",
     "output_type": "stream",
     "text": [
      "Extracted content from https://www.seattleu.edu/directory/profiles/grace-lee.php and saved to JSON.\n"
     ]
    },
    {
     "name": "stderr",
     "output_type": "stream",
     "text": [
      " 54%|█████▎    | 3393/6321 [5:34:34<8:17:32, 10.20s/it]"
     ]
    },
    {
     "name": "stdout",
     "output_type": "stream",
     "text": [
      "Extracted content from https://www.seattleu.edu/directory/profiles/josephine-whittock.php and saved to JSON.\n"
     ]
    },
    {
     "name": "stderr",
     "output_type": "stream",
     "text": [
      " 54%|█████▎    | 3394/6321 [5:34:44<8:19:08, 10.23s/it]"
     ]
    },
    {
     "name": "stdout",
     "output_type": "stream",
     "text": [
      "Extracted content from https://www.seattleu.edu/directory/profiles/katie-harrison.php and saved to JSON.\n"
     ]
    },
    {
     "name": "stderr",
     "output_type": "stream",
     "text": [
      " 54%|█████▎    | 3395/6321 [5:34:54<8:17:46, 10.21s/it]"
     ]
    },
    {
     "name": "stdout",
     "output_type": "stream",
     "text": [
      "Extracted content from https://www.seattleu.edu/directory/profiles/luis-f-almanzar.php and saved to JSON.\n"
     ]
    },
    {
     "name": "stderr",
     "output_type": "stream",
     "text": [
      " 54%|█████▎    | 3396/6321 [5:35:05<8:17:44, 10.21s/it]"
     ]
    },
    {
     "name": "stdout",
     "output_type": "stream",
     "text": [
      "Extracted content from https://www.seattleu.edu/directory/profiles/marcia-levy.php and saved to JSON.\n"
     ]
    },
    {
     "name": "stderr",
     "output_type": "stream",
     "text": [
      " 54%|█████▎    | 3397/6321 [5:35:15<8:16:35, 10.19s/it]"
     ]
    },
    {
     "name": "stdout",
     "output_type": "stream",
     "text": [
      "Extracted content from https://www.seattleu.edu/directory/profiles/mark-petterson-mfa.php and saved to JSON.\n"
     ]
    },
    {
     "name": "stderr",
     "output_type": "stream",
     "text": [
      " 54%|█████▍    | 3398/6321 [5:35:25<8:15:55, 10.18s/it]"
     ]
    },
    {
     "name": "stdout",
     "output_type": "stream",
     "text": [
      "Extracted content from https://www.seattleu.edu/directory/profiles/matt-thune.php and saved to JSON.\n"
     ]
    },
    {
     "name": "stderr",
     "output_type": "stream",
     "text": [
      " 54%|█████▍    | 3399/6321 [5:35:35<8:16:25, 10.19s/it]"
     ]
    },
    {
     "name": "stdout",
     "output_type": "stream",
     "text": [
      "Extracted content from https://www.seattleu.edu/directory/profiles/natalie-melendez.php and saved to JSON.\n"
     ]
    },
    {
     "name": "stderr",
     "output_type": "stream",
     "text": [
      " 54%|█████▍    | 3400/6321 [5:35:45<8:15:56, 10.19s/it]"
     ]
    },
    {
     "name": "stdout",
     "output_type": "stream",
     "text": [
      "Extracted content from https://www.seattleu.edu/directory/profiles/nazune-menka.php and saved to JSON.\n"
     ]
    },
    {
     "name": "stderr",
     "output_type": "stream",
     "text": [
      " 54%|█████▍    | 3401/6321 [5:35:56<8:16:32, 10.20s/it]"
     ]
    },
    {
     "name": "stdout",
     "output_type": "stream",
     "text": [
      "Extracted content from https://www.seattleu.edu/directory/profiles/robin-narruhn.php and saved to JSON.\n"
     ]
    },
    {
     "name": "stderr",
     "output_type": "stream",
     "text": [
      " 54%|█████▍    | 3402/6321 [5:36:06<8:17:12, 10.22s/it]"
     ]
    },
    {
     "name": "stdout",
     "output_type": "stream",
     "text": [
      "Extracted content from https://www.seattleu.edu/directory/profiles/sydney-rains.php and saved to JSON.\n"
     ]
    },
    {
     "name": "stderr",
     "output_type": "stream",
     "text": [
      " 54%|█████▍    | 3403/6321 [5:36:16<8:16:23, 10.21s/it]"
     ]
    },
    {
     "name": "stdout",
     "output_type": "stream",
     "text": [
      "Extracted content from https://www.seattleu.edu/directory/profiles/jason-parkin.php and saved to JSON.\n"
     ]
    },
    {
     "name": "stderr",
     "output_type": "stream",
     "text": [
      " 54%|█████▍    | 3404/6321 [5:36:26<8:15:35, 10.19s/it]"
     ]
    },
    {
     "name": "stdout",
     "output_type": "stream",
     "text": [
      "Extracted content from https://www.seattleu.edu/directory/profiles/lorena-toledo-eastey.php and saved to JSON.\n"
     ]
    },
    {
     "name": "stderr",
     "output_type": "stream",
     "text": [
      " 54%|█████▍    | 3405/6321 [5:36:36<8:15:04, 10.19s/it]"
     ]
    },
    {
     "name": "stdout",
     "output_type": "stream",
     "text": [
      "Extracted content from https://www.seattleu.edu/directory/profiles/carlos-torres.php and saved to JSON.\n"
     ]
    },
    {
     "name": "stderr",
     "output_type": "stream",
     "text": [
      " 54%|█████▍    | 3406/6321 [5:36:46<8:14:24, 10.18s/it]"
     ]
    },
    {
     "name": "stdout",
     "output_type": "stream",
     "text": [
      "Extracted content from https://www.seattleu.edu/directory/profiles/jamie-mimi-ly.php and saved to JSON.\n"
     ]
    },
    {
     "name": "stderr",
     "output_type": "stream",
     "text": [
      " 54%|█████▍    | 3407/6321 [5:36:57<8:25:49, 10.42s/it]"
     ]
    },
    {
     "name": "stdout",
     "output_type": "stream",
     "text": [
      "Extracted content from https://www.seattleu.edu/directory/profiles/kaleolani-laymon.php and saved to JSON.\n"
     ]
    },
    {
     "name": "stderr",
     "output_type": "stream",
     "text": [
      " 54%|█████▍    | 3408/6321 [5:37:08<8:23:55, 10.38s/it]"
     ]
    },
    {
     "name": "stdout",
     "output_type": "stream",
     "text": [
      "Extracted content from https://www.seattleu.edu/directory/profiles/elizabeth-armour.php and saved to JSON.\n"
     ]
    },
    {
     "name": "stderr",
     "output_type": "stream",
     "text": [
      " 54%|█████▍    | 3409/6321 [5:37:18<8:20:28, 10.31s/it]"
     ]
    },
    {
     "name": "stdout",
     "output_type": "stream",
     "text": [
      "Extracted content from https://www.seattleu.edu/directory/profiles/imon-allen.php and saved to JSON.\n"
     ]
    },
    {
     "name": "stderr",
     "output_type": "stream",
     "text": [
      " 54%|█████▍    | 3410/6321 [5:37:28<8:19:20, 10.29s/it]"
     ]
    },
    {
     "name": "stdout",
     "output_type": "stream",
     "text": [
      "Extracted content from https://www.seattleu.edu/directory/profiles/maria-gonzalez.php and saved to JSON.\n"
     ]
    },
    {
     "name": "stderr",
     "output_type": "stream",
     "text": [
      " 54%|█████▍    | 3411/6321 [5:37:39<8:24:39, 10.41s/it]"
     ]
    },
    {
     "name": "stdout",
     "output_type": "stream",
     "text": [
      "Extracted content from https://www.seattleu.edu/directory/profiles/shirin-mehri.php and saved to JSON.\n"
     ]
    },
    {
     "name": "stderr",
     "output_type": "stream",
     "text": [
      " 54%|█████▍    | 3412/6321 [5:37:49<8:20:55, 10.33s/it]"
     ]
    },
    {
     "name": "stdout",
     "output_type": "stream",
     "text": [
      "Extracted content from https://www.seattleu.edu/directory/profiles/amy-fusting.php and saved to JSON.\n"
     ]
    },
    {
     "name": "stderr",
     "output_type": "stream",
     "text": [
      " 54%|█████▍    | 3413/6321 [5:37:59<8:18:27, 10.28s/it]"
     ]
    },
    {
     "name": "stdout",
     "output_type": "stream",
     "text": [
      "Extracted content from https://www.seattleu.edu/directory/profiles/elizabeth-baldwin.php and saved to JSON.\n"
     ]
    },
    {
     "name": "stderr",
     "output_type": "stream",
     "text": [
      " 54%|█████▍    | 3414/6321 [5:38:09<8:16:37, 10.25s/it]"
     ]
    },
    {
     "name": "stdout",
     "output_type": "stream",
     "text": [
      "Extracted content from https://www.seattleu.edu/directory/profiles/keanna-guizar.php and saved to JSON.\n"
     ]
    },
    {
     "name": "stderr",
     "output_type": "stream",
     "text": [
      " 54%|█████▍    | 3415/6321 [5:38:19<8:15:03, 10.22s/it]"
     ]
    },
    {
     "name": "stdout",
     "output_type": "stream",
     "text": [
      "Extracted content from https://www.seattleu.edu/directory/profiles/maureen-johnson.php and saved to JSON.\n"
     ]
    },
    {
     "name": "stderr",
     "output_type": "stream",
     "text": [
      " 54%|█████▍    | 3416/6321 [5:38:30<8:14:03, 10.20s/it]"
     ]
    },
    {
     "name": "stdout",
     "output_type": "stream",
     "text": [
      "Extracted content from https://www.seattleu.edu/directory/profiles/erin-kwan.php and saved to JSON.\n"
     ]
    },
    {
     "name": "stderr",
     "output_type": "stream",
     "text": [
      " 54%|█████▍    | 3417/6321 [5:38:40<8:12:56, 10.18s/it]"
     ]
    },
    {
     "name": "stdout",
     "output_type": "stream",
     "text": [
      "Extracted content from https://www.seattleu.edu/directory/profiles/edward-donalson-iii-dmin.php and saved to JSON.\n"
     ]
    },
    {
     "name": "stderr",
     "output_type": "stream",
     "text": [
      " 54%|█████▍    | 3418/6321 [5:38:50<8:15:25, 10.24s/it]"
     ]
    },
    {
     "name": "stdout",
     "output_type": "stream",
     "text": [
      "Extracted content from https://www.seattleu.edu/directory/profiles/sofia-sayabalian.php and saved to JSON.\n"
     ]
    },
    {
     "name": "stderr",
     "output_type": "stream",
     "text": [
      " 54%|█████▍    | 3419/6321 [5:39:00<8:14:04, 10.22s/it]"
     ]
    },
    {
     "name": "stdout",
     "output_type": "stream",
     "text": [
      "Extracted content from https://www.seattleu.edu/directory/profiles/ben-yeo.php and saved to JSON.\n"
     ]
    },
    {
     "name": "stderr",
     "output_type": "stream",
     "text": [
      " 54%|█████▍    | 3420/6321 [5:39:10<8:12:57, 10.20s/it]"
     ]
    },
    {
     "name": "stdout",
     "output_type": "stream",
     "text": [
      "Extracted content from https://www.seattleu.edu/directory/profiles/chris-doner.php and saved to JSON.\n"
     ]
    },
    {
     "name": "stderr",
     "output_type": "stream",
     "text": [
      " 54%|█████▍    | 3421/6321 [5:39:21<8:12:47, 10.20s/it]"
     ]
    },
    {
     "name": "stdout",
     "output_type": "stream",
     "text": [
      "Extracted content from https://www.seattleu.edu/directory/profiles/rachel-saenz.php and saved to JSON.\n"
     ]
    },
    {
     "name": "stderr",
     "output_type": "stream",
     "text": [
      " 54%|█████▍    | 3422/6321 [5:39:31<8:20:52, 10.37s/it]"
     ]
    },
    {
     "name": "stdout",
     "output_type": "stream",
     "text": [
      "Extracted content from https://www.seattleu.edu/directory/profiles/tamara-a-herdener.php and saved to JSON.\n"
     ]
    },
    {
     "name": "stderr",
     "output_type": "stream",
     "text": [
      " 54%|█████▍    | 3423/6321 [5:39:42<8:18:09, 10.31s/it]"
     ]
    },
    {
     "name": "stdout",
     "output_type": "stream",
     "text": [
      "Extracted content from https://www.seattleu.edu/directory/profiles/tory-yamaguchi.php and saved to JSON.\n"
     ]
    },
    {
     "name": "stderr",
     "output_type": "stream",
     "text": [
      " 54%|█████▍    | 3424/6321 [5:39:52<8:17:30, 10.30s/it]"
     ]
    },
    {
     "name": "stdout",
     "output_type": "stream",
     "text": [
      "Extracted content from https://www.seattleu.edu/directory/profiles/alayna-tamaki.php and saved to JSON.\n"
     ]
    },
    {
     "name": "stderr",
     "output_type": "stream",
     "text": [
      " 54%|█████▍    | 3425/6321 [5:40:02<8:15:11, 10.26s/it]"
     ]
    },
    {
     "name": "stdout",
     "output_type": "stream",
     "text": [
      "Extracted content from https://www.seattleu.edu/directory/profiles/chris-fiorello.php and saved to JSON.\n"
     ]
    },
    {
     "name": "stderr",
     "output_type": "stream",
     "text": [
      " 54%|█████▍    | 3426/6321 [5:40:12<8:16:43, 10.29s/it]"
     ]
    },
    {
     "name": "stdout",
     "output_type": "stream",
     "text": [
      "Extracted content from https://www.seattleu.edu/directory/profiles/marcus-williams.php and saved to JSON.\n"
     ]
    },
    {
     "name": "stderr",
     "output_type": "stream",
     "text": [
      " 54%|█████▍    | 3427/6321 [5:40:23<8:14:23, 10.25s/it]"
     ]
    },
    {
     "name": "stdout",
     "output_type": "stream",
     "text": [
      "Extracted content from https://www.seattleu.edu/directory/profiles/nathan-colaner-phd-mba.php and saved to JSON.\n"
     ]
    },
    {
     "name": "stderr",
     "output_type": "stream",
     "text": [
      " 54%|█████▍    | 3428/6321 [5:40:33<8:13:19, 10.23s/it]"
     ]
    },
    {
     "name": "stdout",
     "output_type": "stream",
     "text": [
      "Extracted content from https://www.seattleu.edu/directory/profiles/caron-cargill-mpa.php and saved to JSON.\n"
     ]
    },
    {
     "name": "stderr",
     "output_type": "stream",
     "text": [
      " 54%|█████▍    | 3429/6321 [5:40:43<8:12:12, 10.21s/it]"
     ]
    },
    {
     "name": "stdout",
     "output_type": "stream",
     "text": [
      "Extracted content from https://www.seattleu.edu/directory/profiles/amy-michael-mba.php and saved to JSON.\n"
     ]
    },
    {
     "name": "stderr",
     "output_type": "stream",
     "text": [
      " 54%|█████▍    | 3430/6321 [5:40:53<8:11:31, 10.20s/it]"
     ]
    },
    {
     "name": "stdout",
     "output_type": "stream",
     "text": [
      "Extracted content from https://www.seattleu.edu/directory/profiles/julie-bianchi-mnpl.php and saved to JSON.\n"
     ]
    },
    {
     "name": "stderr",
     "output_type": "stream",
     "text": [
      " 54%|█████▍    | 3431/6321 [5:41:03<8:10:53, 10.19s/it]"
     ]
    },
    {
     "name": "stdout",
     "output_type": "stream",
     "text": [
      "Extracted content from https://www.seattleu.edu/directory/profiles/forrest-raine-dimond.php and saved to JSON.\n"
     ]
    },
    {
     "name": "stderr",
     "output_type": "stream",
     "text": [
      " 54%|█████▍    | 3432/6321 [5:41:13<8:10:24, 10.18s/it]"
     ]
    },
    {
     "name": "stdout",
     "output_type": "stream",
     "text": [
      "Extracted content from https://www.seattleu.edu/directory/profiles/kaleigh-nelson.php and saved to JSON.\n"
     ]
    },
    {
     "name": "stderr",
     "output_type": "stream",
     "text": [
      " 54%|█████▍    | 3433/6321 [5:41:24<8:10:20, 10.19s/it]"
     ]
    },
    {
     "name": "stdout",
     "output_type": "stream",
     "text": [
      "Extracted content from https://www.seattleu.edu/directory/profiles/michael-santana.php and saved to JSON.\n"
     ]
    },
    {
     "name": "stderr",
     "output_type": "stream",
     "text": [
      " 54%|█████▍    | 3434/6321 [5:41:34<8:11:40, 10.22s/it]"
     ]
    },
    {
     "name": "stdout",
     "output_type": "stream",
     "text": [
      "Extracted content from https://www.seattleu.edu/directory/profiles/molly-holmes.php and saved to JSON.\n"
     ]
    },
    {
     "name": "stderr",
     "output_type": "stream",
     "text": [
      " 54%|█████▍    | 3435/6321 [5:41:44<8:10:36, 10.20s/it]"
     ]
    },
    {
     "name": "stdout",
     "output_type": "stream",
     "text": [
      "Extracted content from https://www.seattleu.edu/directory/profiles/monica-j-casper-phd.php and saved to JSON.\n"
     ]
    },
    {
     "name": "stderr",
     "output_type": "stream",
     "text": [
      " 54%|█████▍    | 3436/6321 [5:41:54<8:09:49, 10.19s/it]"
     ]
    },
    {
     "name": "stdout",
     "output_type": "stream",
     "text": [
      "Extracted content from https://www.seattleu.edu/directory/profiles/peter-fewing.php and saved to JSON.\n"
     ]
    },
    {
     "name": "stderr",
     "output_type": "stream",
     "text": [
      " 54%|█████▍    | 3437/6321 [5:42:04<8:09:34, 10.19s/it]"
     ]
    },
    {
     "name": "stdout",
     "output_type": "stream",
     "text": [
      "Extracted content from https://www.seattleu.edu/directory/profiles/raley-zurcher.php and saved to JSON.\n"
     ]
    },
    {
     "name": "stderr",
     "output_type": "stream",
     "text": [
      " 54%|█████▍    | 3438/6321 [5:42:15<8:09:00, 10.18s/it]"
     ]
    },
    {
     "name": "stdout",
     "output_type": "stream",
     "text": [
      "Extracted content from https://www.seattleu.edu/directory/profiles/rica-jane-bayani-dahilig.php and saved to JSON.\n"
     ]
    },
    {
     "name": "stderr",
     "output_type": "stream",
     "text": [
      " 54%|█████▍    | 3440/6321 [5:42:25<5:44:42,  7.18s/it]"
     ]
    },
    {
     "name": "stdout",
     "output_type": "stream",
     "text": [
      "Error processing https:www.seattleu.edu/directory/profiles/james-obare-ms.php: HTTP Error 404: Not Found\n",
      "Extracted content from https://www.seattleu.edu/directory/profiles/shadrokh-samavi-phd.php and saved to JSON.\n"
     ]
    },
    {
     "name": "stderr",
     "output_type": "stream",
     "text": [
      " 54%|█████▍    | 3441/6321 [5:42:35<6:27:42,  8.08s/it]"
     ]
    },
    {
     "name": "stdout",
     "output_type": "stream",
     "text": [
      "Extracted content from https://www.seattleu.edu/directory/profiles/christopher-whidbey-phd.php and saved to JSON.\n"
     ]
    },
    {
     "name": "stderr",
     "output_type": "stream",
     "text": [
      " 54%|█████▍    | 3442/6321 [5:42:45<6:57:38,  8.70s/it]"
     ]
    },
    {
     "name": "stdout",
     "output_type": "stream",
     "text": [
      "Extracted content from https://www.seattleu.edu/directory/profiles/joe-dykstra.php and saved to JSON.\n"
     ]
    },
    {
     "name": "stderr",
     "output_type": "stream",
     "text": [
      " 54%|█████▍    | 3443/6321 [5:42:56<7:19:54,  9.17s/it]"
     ]
    },
    {
     "name": "stdout",
     "output_type": "stream",
     "text": [
      "Extracted content from https://www.seattleu.edu/directory/profiles/phan-tran.php and saved to JSON.\n"
     ]
    },
    {
     "name": "stderr",
     "output_type": "stream",
     "text": [
      " 54%|█████▍    | 3444/6321 [5:43:06<7:33:58,  9.47s/it]"
     ]
    },
    {
     "name": "stdout",
     "output_type": "stream",
     "text": [
      "Extracted content from https://www.seattleu.edu/directory/profiles/addie-rolnick.php and saved to JSON.\n"
     ]
    },
    {
     "name": "stderr",
     "output_type": "stream",
     "text": [
      " 55%|█████▍    | 3445/6321 [5:43:16<7:43:43,  9.67s/it]"
     ]
    },
    {
     "name": "stdout",
     "output_type": "stream",
     "text": [
      "Extracted content from https://www.seattleu.edu/directory/profiles/alvyn-dimaculangan.php and saved to JSON.\n"
     ]
    },
    {
     "name": "stderr",
     "output_type": "stream",
     "text": [
      " 55%|█████▍    | 3446/6321 [5:43:26<7:50:30,  9.82s/it]"
     ]
    },
    {
     "name": "stdout",
     "output_type": "stream",
     "text": [
      "Extracted content from https://www.seattleu.edu/directory/profiles/andrew-hughes.php and saved to JSON.\n"
     ]
    },
    {
     "name": "stderr",
     "output_type": "stream",
     "text": [
      " 55%|█████▍    | 3447/6321 [5:43:36<7:57:12,  9.96s/it]"
     ]
    },
    {
     "name": "stdout",
     "output_type": "stream",
     "text": [
      "Extracted content from https://www.seattleu.edu/directory/profiles/andy-fee.php and saved to JSON.\n"
     ]
    },
    {
     "name": "stderr",
     "output_type": "stream",
     "text": [
      " 55%|█████▍    | 3448/6321 [5:43:46<8:00:12, 10.03s/it]"
     ]
    },
    {
     "name": "stdout",
     "output_type": "stream",
     "text": [
      "Extracted content from https://www.seattleu.edu/directory/profiles/angela-harris.php and saved to JSON.\n"
     ]
    },
    {
     "name": "stderr",
     "output_type": "stream",
     "text": [
      " 55%|█████▍    | 3449/6321 [5:43:57<8:01:42, 10.06s/it]"
     ]
    },
    {
     "name": "stdout",
     "output_type": "stream",
     "text": [
      "Extracted content from https://www.seattleu.edu/directory/profiles/brenda-broussard-phd-rn-ibclc.php and saved to JSON.\n"
     ]
    },
    {
     "name": "stderr",
     "output_type": "stream",
     "text": [
      " 55%|█████▍    | 3450/6321 [5:44:07<8:03:20, 10.10s/it]"
     ]
    },
    {
     "name": "stdout",
     "output_type": "stream",
     "text": [
      "Extracted content from https://www.seattleu.edu/directory/profiles/edgar-carreno.php and saved to JSON.\n"
     ]
    },
    {
     "name": "stderr",
     "output_type": "stream",
     "text": [
      " 55%|█████▍    | 3451/6321 [5:44:17<8:06:06, 10.16s/it]"
     ]
    },
    {
     "name": "stdout",
     "output_type": "stream",
     "text": [
      "Extracted content from https://www.seattleu.edu/directory/profiles/erika-vranizan.php and saved to JSON.\n"
     ]
    },
    {
     "name": "stderr",
     "output_type": "stream",
     "text": [
      " 55%|█████▍    | 3452/6321 [5:44:27<8:05:43, 10.16s/it]"
     ]
    },
    {
     "name": "stdout",
     "output_type": "stream",
     "text": [
      "Extracted content from https://www.seattleu.edu/directory/profiles/evan-nordby.php and saved to JSON.\n"
     ]
    },
    {
     "name": "stderr",
     "output_type": "stream",
     "text": [
      " 55%|█████▍    | 3453/6321 [5:44:37<8:05:45, 10.16s/it]"
     ]
    },
    {
     "name": "stdout",
     "output_type": "stream",
     "text": [
      "Extracted content from https://www.seattleu.edu/directory/profiles/fabiola-jimenez.php and saved to JSON.\n"
     ]
    },
    {
     "name": "stderr",
     "output_type": "stream",
     "text": [
      " 55%|█████▍    | 3454/6321 [5:44:48<8:05:47, 10.17s/it]"
     ]
    },
    {
     "name": "stdout",
     "output_type": "stream",
     "text": [
      "Extracted content from https://www.seattleu.edu/directory/profiles/grant-gomez.php and saved to JSON.\n"
     ]
    },
    {
     "name": "stderr",
     "output_type": "stream",
     "text": [
      " 55%|█████▍    | 3455/6321 [5:44:58<8:05:49, 10.17s/it]"
     ]
    },
    {
     "name": "stdout",
     "output_type": "stream",
     "text": [
      "Extracted content from https://www.seattleu.edu/directory/profiles/jeremy-huff.php and saved to JSON.\n"
     ]
    },
    {
     "name": "stderr",
     "output_type": "stream",
     "text": [
      " 55%|█████▍    | 3456/6321 [5:45:08<8:05:30, 10.17s/it]"
     ]
    },
    {
     "name": "stdout",
     "output_type": "stream",
     "text": [
      "Extracted content from https://www.seattleu.edu/directory/profiles/joy-s-whitman-phd-lcmhc-lcpc-lpc.php and saved to JSON.\n"
     ]
    },
    {
     "name": "stderr",
     "output_type": "stream",
     "text": [
      " 55%|█████▍    | 3457/6321 [5:45:18<8:05:27, 10.17s/it]"
     ]
    },
    {
     "name": "stdout",
     "output_type": "stream",
     "text": [
      "Extracted content from https://www.seattleu.edu/directory/profiles/june-kloubec-phd.php and saved to JSON.\n"
     ]
    },
    {
     "name": "stderr",
     "output_type": "stream",
     "text": [
      " 55%|█████▍    | 3458/6321 [5:45:28<8:05:14, 10.17s/it]"
     ]
    },
    {
     "name": "stdout",
     "output_type": "stream",
     "text": [
      "Extracted content from https://www.seattleu.edu/directory/profiles/kenric-freese.php and saved to JSON.\n"
     ]
    },
    {
     "name": "stderr",
     "output_type": "stream",
     "text": [
      " 55%|█████▍    | 3459/6321 [5:45:39<8:06:54, 10.21s/it]"
     ]
    },
    {
     "name": "stdout",
     "output_type": "stream",
     "text": [
      "Extracted content from https://www.seattleu.edu/directory/profiles/lena-braylock.php and saved to JSON.\n"
     ]
    },
    {
     "name": "stderr",
     "output_type": "stream",
     "text": [
      " 55%|█████▍    | 3460/6321 [5:45:49<8:06:03, 10.19s/it]"
     ]
    },
    {
     "name": "stdout",
     "output_type": "stream",
     "text": [
      "Extracted content from https://www.seattleu.edu/directory/profiles/ryen-godwin.php and saved to JSON.\n"
     ]
    },
    {
     "name": "stderr",
     "output_type": "stream",
     "text": [
      " 55%|█████▍    | 3461/6321 [5:45:59<8:05:32, 10.19s/it]"
     ]
    },
    {
     "name": "stdout",
     "output_type": "stream",
     "text": [
      "Extracted content from https://www.seattleu.edu/directory/profiles/shayda-schule.php and saved to JSON.\n"
     ]
    },
    {
     "name": "stderr",
     "output_type": "stream",
     "text": [
      " 55%|█████▍    | 3462/6321 [5:46:09<8:05:08, 10.18s/it]"
     ]
    },
    {
     "name": "stdout",
     "output_type": "stream",
     "text": [
      "Extracted content from https://www.seattleu.edu/directory/profiles/angelo-neri-alfonso.php and saved to JSON.\n"
     ]
    },
    {
     "name": "stderr",
     "output_type": "stream",
     "text": [
      " 55%|█████▍    | 3463/6321 [5:46:19<8:05:04, 10.18s/it]"
     ]
    },
    {
     "name": "stdout",
     "output_type": "stream",
     "text": [
      "Extracted content from https://www.seattleu.edu/directory/profiles/anthony-diaz.php and saved to JSON.\n"
     ]
    },
    {
     "name": "stderr",
     "output_type": "stream",
     "text": [
      " 55%|█████▍    | 3464/6321 [5:46:29<8:04:48, 10.18s/it]"
     ]
    },
    {
     "name": "stdout",
     "output_type": "stream",
     "text": [
      "Extracted content from https://www.seattleu.edu/directory/profiles/brian-poel.php and saved to JSON.\n"
     ]
    },
    {
     "name": "stderr",
     "output_type": "stream",
     "text": [
      " 55%|█████▍    | 3465/6321 [5:46:40<8:04:27, 10.18s/it]"
     ]
    },
    {
     "name": "stdout",
     "output_type": "stream",
     "text": [
      "Extracted content from https://www.seattleu.edu/directory/profiles/cyrah-khan.php and saved to JSON.\n"
     ]
    },
    {
     "name": "stderr",
     "output_type": "stream",
     "text": [
      " 55%|█████▍    | 3466/6321 [5:46:50<8:05:09, 10.20s/it]"
     ]
    },
    {
     "name": "stdout",
     "output_type": "stream",
     "text": [
      "Extracted content from https://www.seattleu.edu/directory/profiles/hannah-brinser-phd.php and saved to JSON.\n"
     ]
    },
    {
     "name": "stderr",
     "output_type": "stream",
     "text": [
      " 55%|█████▍    | 3467/6321 [5:47:00<8:06:21, 10.22s/it]"
     ]
    },
    {
     "name": "stdout",
     "output_type": "stream",
     "text": [
      "Extracted content from https://www.seattleu.edu/directory/profiles/michael-talone.php and saved to JSON.\n"
     ]
    },
    {
     "name": "stderr",
     "output_type": "stream",
     "text": [
      " 55%|█████▍    | 3468/6321 [5:47:11<8:10:02, 10.31s/it]"
     ]
    },
    {
     "name": "stdout",
     "output_type": "stream",
     "text": [
      "Extracted content from https://www.seattleu.edu/directory/profiles/michelle-taynton-mba.php and saved to JSON.\n"
     ]
    },
    {
     "name": "stderr",
     "output_type": "stream",
     "text": [
      " 55%|█████▍    | 3469/6321 [5:47:21<8:07:49, 10.26s/it]"
     ]
    },
    {
     "name": "stdout",
     "output_type": "stream",
     "text": [
      "Extracted content from https://www.seattleu.edu/directory/profiles/nancy-fang.php and saved to JSON.\n"
     ]
    },
    {
     "name": "stderr",
     "output_type": "stream",
     "text": [
      " 55%|█████▍    | 3470/6321 [5:47:31<8:06:23, 10.24s/it]"
     ]
    },
    {
     "name": "stdout",
     "output_type": "stream",
     "text": [
      "Extracted content from https://www.seattleu.edu/directory/profiles/nathan-tang.php and saved to JSON.\n"
     ]
    },
    {
     "name": "stderr",
     "output_type": "stream",
     "text": [
      " 55%|█████▍    | 3471/6321 [5:47:41<8:05:04, 10.21s/it]"
     ]
    },
    {
     "name": "stdout",
     "output_type": "stream",
     "text": [
      "Extracted content from https://www.seattleu.edu/directory/profiles/prashanth-adhikari.php and saved to JSON.\n"
     ]
    },
    {
     "name": "stderr",
     "output_type": "stream",
     "text": [
      " 55%|█████▍    | 3472/6321 [5:47:51<8:04:18, 10.20s/it]"
     ]
    },
    {
     "name": "stdout",
     "output_type": "stream",
     "text": [
      "Extracted content from https://www.seattleu.edu/directory/profiles/rachel-constantino-wallace.php and saved to JSON.\n"
     ]
    },
    {
     "name": "stderr",
     "output_type": "stream",
     "text": [
      " 55%|█████▍    | 3473/6321 [5:48:01<8:03:29, 10.19s/it]"
     ]
    },
    {
     "name": "stdout",
     "output_type": "stream",
     "text": [
      "Extracted content from https://www.seattleu.edu/directory/profiles/raedell-boateng.php and saved to JSON.\n"
     ]
    },
    {
     "name": "stderr",
     "output_type": "stream",
     "text": [
      " 55%|█████▍    | 3474/6321 [5:48:12<8:03:01, 10.18s/it]"
     ]
    },
    {
     "name": "stdout",
     "output_type": "stream",
     "text": [
      "Extracted content from https://www.seattleu.edu/directory/profiles/rodney-perkins-phd-mph-rn.php and saved to JSON.\n"
     ]
    },
    {
     "name": "stderr",
     "output_type": "stream",
     "text": [
      " 55%|█████▍    | 3475/6321 [5:48:22<8:05:56, 10.24s/it]"
     ]
    },
    {
     "name": "stdout",
     "output_type": "stream",
     "text": [
      "Extracted content from https://www.seattleu.edu/directory/profiles/rory-osullivan.php and saved to JSON.\n"
     ]
    },
    {
     "name": "stderr",
     "output_type": "stream",
     "text": [
      " 55%|█████▍    | 3476/6321 [5:48:32<8:06:48, 10.27s/it]"
     ]
    },
    {
     "name": "stdout",
     "output_type": "stream",
     "text": [
      "Extracted content from https://www.seattleu.edu/directory/profiles/sarah-springer-phd.php and saved to JSON.\n"
     ]
    },
    {
     "name": "stderr",
     "output_type": "stream",
     "text": [
      " 55%|█████▌    | 3477/6321 [5:48:43<8:05:29, 10.24s/it]"
     ]
    },
    {
     "name": "stdout",
     "output_type": "stream",
     "text": [
      "Extracted content from https://www.seattleu.edu/directory/profiles/sophia-orlando.php and saved to JSON.\n"
     ]
    },
    {
     "name": "stderr",
     "output_type": "stream",
     "text": [
      " 55%|█████▌    | 3478/6321 [5:48:53<8:04:05, 10.22s/it]"
     ]
    },
    {
     "name": "stdout",
     "output_type": "stream",
     "text": [
      "Extracted content from https://www.seattleu.edu/directory/profiles/zion-yates.php and saved to JSON.\n"
     ]
    },
    {
     "name": "stderr",
     "output_type": "stream",
     "text": [
      " 55%|█████▌    | 3479/6321 [5:49:03<8:03:17, 10.20s/it]"
     ]
    },
    {
     "name": "stdout",
     "output_type": "stream",
     "text": [
      "Extracted content from https://www.seattleu.edu/directory/profiles/jr-rabago.php and saved to JSON.\n"
     ]
    },
    {
     "name": "stderr",
     "output_type": "stream",
     "text": [
      " 55%|█████▌    | 3480/6321 [5:49:13<8:02:43, 10.19s/it]"
     ]
    },
    {
     "name": "stdout",
     "output_type": "stream",
     "text": [
      "Extracted content from https://www.seattleu.edu/directory/profiles/j-wesley-armstrong-msn-arnp.php and saved to JSON.\n"
     ]
    },
    {
     "name": "stderr",
     "output_type": "stream",
     "text": [
      " 55%|█████▌    | 3481/6321 [5:49:23<8:04:09, 10.23s/it]"
     ]
    },
    {
     "name": "stdout",
     "output_type": "stream",
     "text": [
      "Extracted content from https://www.seattleu.edu/directory/profiles/erin-brown-mba-msn-fnp-c.php and saved to JSON.\n"
     ]
    },
    {
     "name": "stderr",
     "output_type": "stream",
     "text": [
      " 55%|█████▌    | 3482/6321 [5:49:34<8:03:06, 10.21s/it]"
     ]
    },
    {
     "name": "stdout",
     "output_type": "stream",
     "text": [
      "Extracted content from https://www.seattleu.edu/directory/profiles/james-dykes-dnp-pmhnp-bc-arnp.php and saved to JSON.\n"
     ]
    },
    {
     "name": "stderr",
     "output_type": "stream",
     "text": [
      " 55%|█████▌    | 3483/6321 [5:49:44<8:02:16, 10.20s/it]"
     ]
    },
    {
     "name": "stdout",
     "output_type": "stream",
     "text": [
      "Extracted content from https://www.seattleu.edu/directory/profiles/youwen-hu-dnp-pmhnp-bc.php and saved to JSON.\n"
     ]
    },
    {
     "name": "stderr",
     "output_type": "stream",
     "text": [
      " 55%|█████▌    | 3484/6321 [5:49:54<8:06:32, 10.29s/it]"
     ]
    },
    {
     "name": "stdout",
     "output_type": "stream",
     "text": [
      "Extracted content from https://www.seattleu.edu/directory/profiles/bernice-rebutiao-dnp-arnp-acnpc-ag-ccrn.php and saved to JSON.\n"
     ]
    },
    {
     "name": "stderr",
     "output_type": "stream",
     "text": [
      " 55%|█████▌    | 3485/6321 [5:50:04<8:04:54, 10.26s/it]"
     ]
    },
    {
     "name": "stdout",
     "output_type": "stream",
     "text": [
      "Extracted content from https://www.seattleu.edu/directory/profiles/mary-shelkey-phd-gnp-bc-arnp.php and saved to JSON.\n"
     ]
    },
    {
     "name": "stderr",
     "output_type": "stream",
     "text": [
      " 55%|█████▌    | 3486/6321 [5:50:15<8:03:40, 10.24s/it]"
     ]
    },
    {
     "name": "stdout",
     "output_type": "stream",
     "text": [
      "Extracted content from https://www.seattleu.edu/directory/profiles/alexandra-fanella.php and saved to JSON.\n"
     ]
    },
    {
     "name": "stderr",
     "output_type": "stream",
     "text": [
      " 55%|█████▌    | 3487/6321 [5:50:25<8:02:44, 10.22s/it]"
     ]
    },
    {
     "name": "stdout",
     "output_type": "stream",
     "text": [
      "Extracted content from https://www.seattleu.edu/directory/profiles/alison-holcomb.php and saved to JSON.\n"
     ]
    },
    {
     "name": "stderr",
     "output_type": "stream",
     "text": [
      " 55%|█████▌    | 3488/6321 [5:50:35<8:01:43, 10.20s/it]"
     ]
    },
    {
     "name": "stdout",
     "output_type": "stream",
     "text": [
      "Extracted content from https://www.seattleu.edu/directory/profiles/amy-brumbaugh-dnp-pmhnp-bc.php and saved to JSON.\n"
     ]
    },
    {
     "name": "stderr",
     "output_type": "stream",
     "text": [
      " 55%|█████▌    | 3489/6321 [5:50:45<8:01:07, 10.19s/it]"
     ]
    },
    {
     "name": "stdout",
     "output_type": "stream",
     "text": [
      "Extracted content from https://www.seattleu.edu/directory/profiles/cecania-alexander-msw-licsw.php and saved to JSON.\n"
     ]
    },
    {
     "name": "stderr",
     "output_type": "stream",
     "text": [
      " 55%|█████▌    | 3490/6321 [5:50:55<8:00:39, 10.19s/it]"
     ]
    },
    {
     "name": "stdout",
     "output_type": "stream",
     "text": [
      "Extracted content from https://www.seattleu.edu/directory/profiles/david-church.php and saved to JSON.\n"
     ]
    },
    {
     "name": "stderr",
     "output_type": "stream",
     "text": [
      " 55%|█████▌    | 3491/6321 [5:51:05<7:59:59, 10.18s/it]"
     ]
    },
    {
     "name": "stdout",
     "output_type": "stream",
     "text": [
      "Extracted content from https://www.seattleu.edu/directory/profiles/elizabeth-whittle.php and saved to JSON.\n"
     ]
    },
    {
     "name": "stderr",
     "output_type": "stream",
     "text": [
      " 55%|█████▌    | 3492/6321 [5:51:16<8:01:40, 10.22s/it]"
     ]
    },
    {
     "name": "stdout",
     "output_type": "stream",
     "text": [
      "Extracted content from https://www.seattleu.edu/directory/profiles/geoffrey-palachuk.php and saved to JSON.\n"
     ]
    },
    {
     "name": "stderr",
     "output_type": "stream",
     "text": [
      " 55%|█████▌    | 3493/6321 [5:51:26<8:00:43, 10.20s/it]"
     ]
    },
    {
     "name": "stdout",
     "output_type": "stream",
     "text": [
      "Extracted content from https://www.seattleu.edu/directory/profiles/jessica-seales-msn-rnc-ob-c-onqs.php and saved to JSON.\n"
     ]
    },
    {
     "name": "stderr",
     "output_type": "stream",
     "text": [
      " 55%|█████▌    | 3494/6321 [5:51:36<7:59:59, 10.19s/it]"
     ]
    },
    {
     "name": "stdout",
     "output_type": "stream",
     "text": [
      "Extracted content from https://www.seattleu.edu/directory/profiles/muna-ozunal-dnp-cnm-arnp.php and saved to JSON.\n"
     ]
    },
    {
     "name": "stderr",
     "output_type": "stream",
     "text": [
      " 55%|█████▌    | 3495/6321 [5:51:46<7:59:41, 10.18s/it]"
     ]
    },
    {
     "name": "stdout",
     "output_type": "stream",
     "text": [
      "Extracted content from https://www.seattleu.edu/directory/profiles/renita-newton-phd-lpc.php and saved to JSON.\n"
     ]
    },
    {
     "name": "stderr",
     "output_type": "stream",
     "text": [
      " 55%|█████▌    | 3496/6321 [5:51:57<8:06:29, 10.33s/it]"
     ]
    },
    {
     "name": "stdout",
     "output_type": "stream",
     "text": [
      "Extracted content from https://www.seattleu.edu/directory/profiles/rhea-sandstrom.php and saved to JSON.\n"
     ]
    },
    {
     "name": "stderr",
     "output_type": "stream",
     "text": [
      " 55%|█████▌    | 3497/6321 [5:52:07<8:03:54, 10.28s/it]"
     ]
    },
    {
     "name": "stdout",
     "output_type": "stream",
     "text": [
      "Extracted content from https://www.seattleu.edu/directory/profiles/sydney-bedell.php and saved to JSON.\n"
     ]
    },
    {
     "name": "stderr",
     "output_type": "stream",
     "text": [
      " 55%|█████▌    | 3498/6321 [5:52:17<8:02:03, 10.25s/it]"
     ]
    },
    {
     "name": "stdout",
     "output_type": "stream",
     "text": [
      "Extracted content from https://www.seattleu.edu/directory/profiles/tim-fielden.php and saved to JSON.\n"
     ]
    },
    {
     "name": "stderr",
     "output_type": "stream",
     "text": [
      " 55%|█████▌    | 3499/6321 [5:52:27<8:00:45, 10.22s/it]"
     ]
    },
    {
     "name": "stdout",
     "output_type": "stream",
     "text": [
      "Extracted content from https://www.seattleu.edu/directory/profiles/veronica-alicea.php and saved to JSON.\n"
     ]
    },
    {
     "name": "stderr",
     "output_type": "stream",
     "text": [
      " 55%|█████▌    | 3500/6321 [5:52:38<8:04:09, 10.30s/it]"
     ]
    },
    {
     "name": "stdout",
     "output_type": "stream",
     "text": [
      "Extracted content from https://www.seattleu.edu/directory/profiles/aunna-moriarty.php and saved to JSON.\n"
     ]
    },
    {
     "name": "stderr",
     "output_type": "stream",
     "text": [
      " 55%|█████▌    | 3501/6321 [5:52:48<8:03:06, 10.28s/it]"
     ]
    },
    {
     "name": "stdout",
     "output_type": "stream",
     "text": [
      "Extracted content from https://www.seattleu.edu/directory/profiles/christopher-maund.php and saved to JSON.\n"
     ]
    },
    {
     "name": "stderr",
     "output_type": "stream",
     "text": [
      " 55%|█████▌    | 3502/6321 [5:52:58<8:01:25, 10.25s/it]"
     ]
    },
    {
     "name": "stdout",
     "output_type": "stream",
     "text": [
      "Extracted content from https://www.seattleu.edu/directory/profiles/dayton-snyder.php and saved to JSON.\n"
     ]
    },
    {
     "name": "stderr",
     "output_type": "stream",
     "text": [
      " 55%|█████▌    | 3503/6321 [5:53:08<7:59:53, 10.22s/it]"
     ]
    },
    {
     "name": "stdout",
     "output_type": "stream",
     "text": [
      "Extracted content from https://www.seattleu.edu/directory/profiles/dominique-maryanski.php and saved to JSON.\n"
     ]
    },
    {
     "name": "stderr",
     "output_type": "stream",
     "text": [
      " 55%|█████▌    | 3504/6321 [5:53:19<7:58:33, 10.19s/it]"
     ]
    },
    {
     "name": "stdout",
     "output_type": "stream",
     "text": [
      "Extracted content from https://www.seattleu.edu/directory/profiles/haley-derr.php and saved to JSON.\n"
     ]
    },
    {
     "name": "stderr",
     "output_type": "stream",
     "text": [
      " 55%|█████▌    | 3505/6321 [5:53:29<7:58:13, 10.19s/it]"
     ]
    },
    {
     "name": "stdout",
     "output_type": "stream",
     "text": [
      "Extracted content from https://www.seattleu.edu/directory/profiles/ian-harris.php and saved to JSON.\n"
     ]
    },
    {
     "name": "stderr",
     "output_type": "stream",
     "text": [
      " 55%|█████▌    | 3506/6321 [5:53:39<7:59:46, 10.23s/it]"
     ]
    },
    {
     "name": "stdout",
     "output_type": "stream",
     "text": [
      "Extracted content from https://www.seattleu.edu/directory/profiles/kat-cole-msw-licsw.php and saved to JSON.\n"
     ]
    },
    {
     "name": "stderr",
     "output_type": "stream",
     "text": [
      " 55%|█████▌    | 3507/6321 [5:53:49<7:58:47, 10.21s/it]"
     ]
    },
    {
     "name": "stdout",
     "output_type": "stream",
     "text": [
      "Extracted content from https://www.seattleu.edu/directory/profiles/kevin-p-thompson-edd.php and saved to JSON.\n"
     ]
    },
    {
     "name": "stderr",
     "output_type": "stream",
     "text": [
      " 55%|█████▌    | 3508/6321 [5:54:00<8:00:10, 10.24s/it]"
     ]
    },
    {
     "name": "stdout",
     "output_type": "stream",
     "text": [
      "Extracted content from https://www.seattleu.edu/directory/profiles/laura-glen.php and saved to JSON.\n"
     ]
    },
    {
     "name": "stderr",
     "output_type": "stream",
     "text": [
      " 56%|█████▌    | 3509/6321 [5:54:10<7:58:43, 10.21s/it]"
     ]
    },
    {
     "name": "stdout",
     "output_type": "stream",
     "text": [
      "Extracted content from https://www.seattleu.edu/directory/profiles/li-huang.php and saved to JSON.\n"
     ]
    },
    {
     "name": "stderr",
     "output_type": "stream",
     "text": [
      " 56%|█████▌    | 3510/6321 [5:54:20<7:57:41, 10.20s/it]"
     ]
    },
    {
     "name": "stdout",
     "output_type": "stream",
     "text": [
      "Extracted content from https://www.seattleu.edu/directory/profiles/lisa-coluccio.php and saved to JSON.\n"
     ]
    },
    {
     "name": "stderr",
     "output_type": "stream",
     "text": [
      " 56%|█████▌    | 3511/6321 [5:54:30<7:57:08, 10.19s/it]"
     ]
    },
    {
     "name": "stdout",
     "output_type": "stream",
     "text": [
      "Extracted content from https://www.seattleu.edu/directory/profiles/lucas-sontra.php and saved to JSON.\n"
     ]
    },
    {
     "name": "stderr",
     "output_type": "stream",
     "text": [
      " 56%|█████▌    | 3512/6321 [5:54:40<7:56:45, 10.18s/it]"
     ]
    },
    {
     "name": "stdout",
     "output_type": "stream",
     "text": [
      "Extracted content from https://www.seattleu.edu/directory/profiles/matthew-jackson.php and saved to JSON.\n"
     ]
    },
    {
     "name": "stderr",
     "output_type": "stream",
     "text": [
      " 56%|█████▌    | 3513/6321 [5:54:50<7:56:10, 10.17s/it]"
     ]
    },
    {
     "name": "stdout",
     "output_type": "stream",
     "text": [
      "Extracted content from https://www.seattleu.edu/directory/profiles/vera-sotirovska.php and saved to JSON.\n"
     ]
    },
    {
     "name": "stderr",
     "output_type": "stream",
     "text": [
      " 56%|█████▌    | 3514/6321 [5:55:01<7:56:03, 10.18s/it]"
     ]
    },
    {
     "name": "stdout",
     "output_type": "stream",
     "text": [
      "Extracted content from https://www.seattleu.edu/directory/profiles/aidan-welch.php and saved to JSON.\n"
     ]
    },
    {
     "name": "stderr",
     "output_type": "stream",
     "text": [
      " 56%|█████▌    | 3515/6321 [5:55:11<7:55:41, 10.17s/it]"
     ]
    },
    {
     "name": "stdout",
     "output_type": "stream",
     "text": [
      "Extracted content from https://www.seattleu.edu/directory/profiles/allison-liang.php and saved to JSON.\n"
     ]
    },
    {
     "name": "stderr",
     "output_type": "stream",
     "text": [
      " 56%|█████▌    | 3516/6321 [5:55:21<7:56:53, 10.20s/it]"
     ]
    },
    {
     "name": "stdout",
     "output_type": "stream",
     "text": [
      "Extracted content from https://www.seattleu.edu/directory/profiles/brandon-tacadena.php and saved to JSON.\n"
     ]
    },
    {
     "name": "stderr",
     "output_type": "stream",
     "text": [
      " 56%|█████▌    | 3517/6321 [5:55:31<7:56:02, 10.19s/it]"
     ]
    },
    {
     "name": "stdout",
     "output_type": "stream",
     "text": [
      "Extracted content from https://www.seattleu.edu/directory/profiles/brigette-yates.php and saved to JSON.\n"
     ]
    },
    {
     "name": "stderr",
     "output_type": "stream",
     "text": [
      " 56%|█████▌    | 3518/6321 [5:55:41<7:55:48, 10.19s/it]"
     ]
    },
    {
     "name": "stdout",
     "output_type": "stream",
     "text": [
      "Extracted content from https://www.seattleu.edu/directory/profiles/bryanna-duca.php and saved to JSON.\n"
     ]
    },
    {
     "name": "stderr",
     "output_type": "stream",
     "text": [
      " 56%|█████▌    | 3519/6321 [5:55:51<7:55:39, 10.19s/it]"
     ]
    },
    {
     "name": "stdout",
     "output_type": "stream",
     "text": [
      "Extracted content from https://www.seattleu.edu/directory/profiles/chanika-mitchell.php and saved to JSON.\n"
     ]
    },
    {
     "name": "stderr",
     "output_type": "stream",
     "text": [
      " 56%|█████▌    | 3520/6321 [5:56:02<7:55:07, 10.18s/it]"
     ]
    },
    {
     "name": "stdout",
     "output_type": "stream",
     "text": [
      "Extracted content from https://www.seattleu.edu/directory/profiles/connor-hartley-edm-lmhc.php and saved to JSON.\n"
     ]
    },
    {
     "name": "stderr",
     "output_type": "stream",
     "text": [
      " 56%|█████▌    | 3521/6321 [5:56:12<7:55:25, 10.19s/it]"
     ]
    },
    {
     "name": "stdout",
     "output_type": "stream",
     "text": [
      "Extracted content from https://www.seattleu.edu/directory/profiles/jenny-park.php and saved to JSON.\n"
     ]
    },
    {
     "name": "stderr",
     "output_type": "stream",
     "text": [
      " 56%|█████▌    | 3522/6321 [5:56:22<7:56:09, 10.21s/it]"
     ]
    },
    {
     "name": "stdout",
     "output_type": "stream",
     "text": [
      "Extracted content from https://www.seattleu.edu/directory/profiles/jillian-hamel.php and saved to JSON.\n"
     ]
    },
    {
     "name": "stderr",
     "output_type": "stream",
     "text": [
      " 56%|█████▌    | 3523/6321 [5:56:33<8:06:13, 10.43s/it]"
     ]
    },
    {
     "name": "stdout",
     "output_type": "stream",
     "text": [
      "Extracted content from https://www.seattleu.edu/directory/profiles/kathryn-boling.php and saved to JSON.\n"
     ]
    },
    {
     "name": "stderr",
     "output_type": "stream",
     "text": [
      " 56%|█████▌    | 3524/6321 [5:56:43<8:04:00, 10.38s/it]"
     ]
    },
    {
     "name": "stdout",
     "output_type": "stream",
     "text": [
      "Extracted content from https://www.seattleu.edu/directory/profiles/kelsey-ohollaren.php and saved to JSON.\n"
     ]
    },
    {
     "name": "stderr",
     "output_type": "stream",
     "text": [
      " 56%|█████▌    | 3525/6321 [5:56:53<8:00:49, 10.32s/it]"
     ]
    },
    {
     "name": "stdout",
     "output_type": "stream",
     "text": [
      "Extracted content from https://www.seattleu.edu/directory/profiles/khara-holland-dnp-bsn-ba-rn-cpnp.php and saved to JSON.\n"
     ]
    },
    {
     "name": "stderr",
     "output_type": "stream",
     "text": [
      " 56%|█████▌    | 3526/6321 [5:57:04<7:58:37, 10.27s/it]"
     ]
    },
    {
     "name": "stdout",
     "output_type": "stream",
     "text": [
      "Extracted content from https://www.seattleu.edu/directory/profiles/mary-ann-peters.php and saved to JSON.\n"
     ]
    },
    {
     "name": "stderr",
     "output_type": "stream",
     "text": [
      " 56%|█████▌    | 3527/6321 [5:57:14<7:57:07, 10.25s/it]"
     ]
    },
    {
     "name": "stdout",
     "output_type": "stream",
     "text": [
      "Extracted content from https://www.seattleu.edu/directory/profiles/philip-boroughs.php and saved to JSON.\n"
     ]
    },
    {
     "name": "stderr",
     "output_type": "stream",
     "text": [
      " 56%|█████▌    | 3528/6321 [5:57:24<7:55:43, 10.22s/it]"
     ]
    },
    {
     "name": "stdout",
     "output_type": "stream",
     "text": [
      "Extracted content from https://www.seattleu.edu/directory/profiles/qiao-ping-wang.php and saved to JSON.\n"
     ]
    },
    {
     "name": "stderr",
     "output_type": "stream",
     "text": [
      " 56%|█████▌    | 3529/6321 [5:57:34<7:54:34, 10.20s/it]"
     ]
    },
    {
     "name": "stdout",
     "output_type": "stream",
     "text": [
      "Extracted content from https://www.seattleu.edu/directory/profiles/sean-haight.php and saved to JSON.\n"
     ]
    },
    {
     "name": "stderr",
     "output_type": "stream",
     "text": [
      " 56%|█████▌    | 3530/6321 [5:57:44<7:53:52, 10.19s/it]"
     ]
    },
    {
     "name": "stdout",
     "output_type": "stream",
     "text": [
      "Extracted content from https://www.seattleu.edu/directory/profiles/alan-nguyen.php and saved to JSON.\n"
     ]
    },
    {
     "name": "stderr",
     "output_type": "stream",
     "text": [
      " 56%|█████▌    | 3531/6321 [5:57:54<7:53:30, 10.18s/it]"
     ]
    },
    {
     "name": "stdout",
     "output_type": "stream",
     "text": [
      "Extracted content from https://www.seattleu.edu/directory/profiles/edward-kusell-zigelman.php and saved to JSON.\n"
     ]
    },
    {
     "name": "stderr",
     "output_type": "stream",
     "text": [
      " 56%|█████▌    | 3532/6321 [5:58:05<7:55:28, 10.23s/it]"
     ]
    },
    {
     "name": "stdout",
     "output_type": "stream",
     "text": [
      "Extracted content from https://www.seattleu.edu/directory/profiles/eloho-okoloko.php and saved to JSON.\n"
     ]
    },
    {
     "name": "stderr",
     "output_type": "stream",
     "text": [
      " 56%|█████▌    | 3533/6321 [5:58:15<7:54:22, 10.21s/it]"
     ]
    },
    {
     "name": "stdout",
     "output_type": "stream",
     "text": [
      "Extracted content from https://www.seattleu.edu/directory/profiles/jacquelin-remaley.php and saved to JSON.\n"
     ]
    },
    {
     "name": "stderr",
     "output_type": "stream",
     "text": [
      " 56%|█████▌    | 3534/6321 [5:58:25<7:53:14, 10.19s/it]"
     ]
    },
    {
     "name": "stdout",
     "output_type": "stream",
     "text": [
      "Extracted content from https://www.seattleu.edu/directory/profiles/joey-savignano.php and saved to JSON.\n"
     ]
    },
    {
     "name": "stderr",
     "output_type": "stream",
     "text": [
      " 56%|█████▌    | 3535/6321 [5:58:35<7:52:39, 10.18s/it]"
     ]
    },
    {
     "name": "stdout",
     "output_type": "stream",
     "text": [
      "Extracted content from https://www.seattleu.edu/directory/profiles/john-henry.php and saved to JSON.\n"
     ]
    },
    {
     "name": "stderr",
     "output_type": "stream",
     "text": [
      " 56%|█████▌    | 3536/6321 [5:58:45<7:52:22, 10.18s/it]"
     ]
    },
    {
     "name": "stdout",
     "output_type": "stream",
     "text": [
      "Extracted content from https://www.seattleu.edu/directory/profiles/jordan-montalvo.php and saved to JSON.\n"
     ]
    },
    {
     "name": "stderr",
     "output_type": "stream",
     "text": [
      " 56%|█████▌    | 3537/6321 [5:58:56<7:51:58, 10.17s/it]"
     ]
    },
    {
     "name": "stdout",
     "output_type": "stream",
     "text": [
      "Extracted content from https://www.seattleu.edu/directory/profiles/julie-clark.php and saved to JSON.\n"
     ]
    },
    {
     "name": "stderr",
     "output_type": "stream",
     "text": [
      " 56%|█████▌    | 3538/6321 [5:59:06<7:51:22, 10.16s/it]"
     ]
    },
    {
     "name": "stdout",
     "output_type": "stream",
     "text": [
      "Extracted content from https://www.seattleu.edu/directory/profiles/katie-mcclave.php and saved to JSON.\n"
     ]
    },
    {
     "name": "stderr",
     "output_type": "stream",
     "text": [
      " 56%|█████▌    | 3539/6321 [5:59:16<7:50:49, 10.15s/it]"
     ]
    },
    {
     "name": "stdout",
     "output_type": "stream",
     "text": [
      "Extracted content from https://www.seattleu.edu/directory/profiles/leanna-sparks.php and saved to JSON.\n"
     ]
    },
    {
     "name": "stderr",
     "output_type": "stream",
     "text": [
      " 56%|█████▌    | 3540/6321 [5:59:26<7:51:52, 10.18s/it]"
     ]
    },
    {
     "name": "stdout",
     "output_type": "stream",
     "text": [
      "Extracted content from https://www.seattleu.edu/directory/profiles/maggie-gullick-msn-rn-pccn.php and saved to JSON.\n"
     ]
    },
    {
     "name": "stderr",
     "output_type": "stream",
     "text": [
      " 56%|█████▌    | 3541/6321 [5:59:36<7:51:26, 10.18s/it]"
     ]
    },
    {
     "name": "stdout",
     "output_type": "stream",
     "text": [
      "Extracted content from https://www.seattleu.edu/directory/profiles/michael-hirai.php and saved to JSON.\n"
     ]
    },
    {
     "name": "stderr",
     "output_type": "stream",
     "text": [
      " 56%|█████▌    | 3542/6321 [5:59:46<7:51:01, 10.17s/it]"
     ]
    },
    {
     "name": "stdout",
     "output_type": "stream",
     "text": [
      "Extracted content from https://www.seattleu.edu/directory/profiles/sarah-golden.php and saved to JSON.\n"
     ]
    },
    {
     "name": "stderr",
     "output_type": "stream",
     "text": [
      " 56%|█████▌    | 3543/6321 [5:59:57<7:50:57, 10.17s/it]"
     ]
    },
    {
     "name": "stdout",
     "output_type": "stream",
     "text": [
      "Extracted content from https://www.seattleu.edu/directory/profiles/steven-dardis.php and saved to JSON.\n"
     ]
    },
    {
     "name": "stderr",
     "output_type": "stream",
     "text": [
      " 56%|█████▌    | 3544/6321 [6:00:07<7:50:48, 10.17s/it]"
     ]
    },
    {
     "name": "stdout",
     "output_type": "stream",
     "text": [
      "Extracted content from https://www.seattleu.edu/directory/profiles/susie-cho-phd-rn-ag-np.php and saved to JSON.\n"
     ]
    },
    {
     "name": "stderr",
     "output_type": "stream",
     "text": [
      " 56%|█████▌    | 3545/6321 [6:00:17<7:50:35, 10.17s/it]"
     ]
    },
    {
     "name": "stdout",
     "output_type": "stream",
     "text": [
      "Extracted content from https://www.seattleu.edu/directory/profiles/tomas-mendez-beck.php and saved to JSON.\n"
     ]
    },
    {
     "name": "stderr",
     "output_type": "stream",
     "text": [
      " 56%|█████▌    | 3546/6321 [6:00:27<7:50:16, 10.17s/it]"
     ]
    },
    {
     "name": "stdout",
     "output_type": "stream",
     "text": [
      "Extracted content from https://www.seattleu.edu/directory/profiles/carmen-ramos.php and saved to JSON.\n"
     ]
    },
    {
     "name": "stderr",
     "output_type": "stream",
     "text": [
      " 56%|█████▌    | 3547/6321 [6:00:37<7:49:58, 10.17s/it]"
     ]
    },
    {
     "name": "stdout",
     "output_type": "stream",
     "text": [
      "Extracted content from https://www.seattleu.edu/directory/profiles/craig-whitworth-turner.php and saved to JSON.\n"
     ]
    },
    {
     "name": "stderr",
     "output_type": "stream",
     "text": [
      " 56%|█████▌    | 3548/6321 [6:00:48<7:52:43, 10.23s/it]"
     ]
    },
    {
     "name": "stdout",
     "output_type": "stream",
     "text": [
      "Extracted content from https://www.seattleu.edu/directory/profiles/dayanara-ciara-chang-dnp-arnp.php and saved to JSON.\n"
     ]
    },
    {
     "name": "stderr",
     "output_type": "stream",
     "text": [
      " 56%|█████▌    | 3549/6321 [6:00:58<7:52:05, 10.22s/it]"
     ]
    },
    {
     "name": "stdout",
     "output_type": "stream",
     "text": [
      "Extracted content from https://www.seattleu.edu/directory/profiles/deborah-massarano.php and saved to JSON.\n"
     ]
    },
    {
     "name": "stderr",
     "output_type": "stream",
     "text": [
      " 56%|█████▌    | 3550/6321 [6:01:08<7:50:44, 10.19s/it]"
     ]
    },
    {
     "name": "stdout",
     "output_type": "stream",
     "text": [
      "Extracted content from https://www.seattleu.edu/directory/profiles/dorothy-moore.php and saved to JSON.\n"
     ]
    },
    {
     "name": "stderr",
     "output_type": "stream",
     "text": [
      " 56%|█████▌    | 3551/6321 [6:01:18<7:50:43, 10.20s/it]"
     ]
    },
    {
     "name": "stdout",
     "output_type": "stream",
     "text": [
      "Extracted content from https://www.seattleu.edu/directory/profiles/franklin-bowen.php and saved to JSON.\n"
     ]
    },
    {
     "name": "stderr",
     "output_type": "stream",
     "text": [
      " 56%|█████▌    | 3552/6321 [6:01:28<7:50:08, 10.19s/it]"
     ]
    },
    {
     "name": "stdout",
     "output_type": "stream",
     "text": [
      "Extracted content from https://www.seattleu.edu/directory/profiles/hannah-gbenro.php and saved to JSON.\n"
     ]
    },
    {
     "name": "stderr",
     "output_type": "stream",
     "text": [
      " 56%|█████▌    | 3553/6321 [6:01:39<7:50:04, 10.19s/it]"
     ]
    },
    {
     "name": "stdout",
     "output_type": "stream",
     "text": [
      "Extracted content from https://www.seattleu.edu/directory/profiles/jessie-wang.php and saved to JSON.\n"
     ]
    },
    {
     "name": "stderr",
     "output_type": "stream",
     "text": [
      " 56%|█████▌    | 3554/6321 [6:01:49<7:50:15, 10.20s/it]"
     ]
    },
    {
     "name": "stdout",
     "output_type": "stream",
     "text": [
      "Extracted content from https://www.seattleu.edu/directory/profiles/joana-borges.php and saved to JSON.\n"
     ]
    },
    {
     "name": "stderr",
     "output_type": "stream",
     "text": [
      " 56%|█████▌    | 3555/6321 [6:01:59<7:49:44, 10.19s/it]"
     ]
    },
    {
     "name": "stdout",
     "output_type": "stream",
     "text": [
      "Extracted content from https://www.seattleu.edu/directory/profiles/john-long.php and saved to JSON.\n"
     ]
    },
    {
     "name": "stderr",
     "output_type": "stream",
     "text": [
      " 56%|█████▋    | 3556/6321 [6:02:09<7:53:04, 10.27s/it]"
     ]
    },
    {
     "name": "stdout",
     "output_type": "stream",
     "text": [
      "Extracted content from https://www.seattleu.edu/directory/profiles/kalpna-anand.php and saved to JSON.\n"
     ]
    },
    {
     "name": "stderr",
     "output_type": "stream",
     "text": [
      " 56%|█████▋    | 3557/6321 [6:02:20<7:53:30, 10.28s/it]"
     ]
    },
    {
     "name": "stdout",
     "output_type": "stream",
     "text": [
      "Extracted content from https://www.seattleu.edu/directory/profiles/kati-harvey.php and saved to JSON.\n"
     ]
    },
    {
     "name": "stderr",
     "output_type": "stream",
     "text": [
      " 56%|█████▋    | 3558/6321 [6:02:30<7:51:44, 10.24s/it]"
     ]
    },
    {
     "name": "stdout",
     "output_type": "stream",
     "text": [
      "Extracted content from https://www.seattleu.edu/directory/profiles/lauren-howard.php and saved to JSON.\n"
     ]
    },
    {
     "name": "stderr",
     "output_type": "stream",
     "text": [
      " 56%|█████▋    | 3559/6321 [6:02:40<7:50:28, 10.22s/it]"
     ]
    },
    {
     "name": "stdout",
     "output_type": "stream",
     "text": [
      "Extracted content from https://www.seattleu.edu/directory/profiles/lizbeth-ramirez-goff.php and saved to JSON.\n"
     ]
    },
    {
     "name": "stderr",
     "output_type": "stream",
     "text": [
      " 56%|█████▋    | 3560/6321 [6:02:50<7:49:53, 10.21s/it]"
     ]
    },
    {
     "name": "stdout",
     "output_type": "stream",
     "text": [
      "Extracted content from https://www.seattleu.edu/directory/profiles/mia-fine.php and saved to JSON.\n"
     ]
    },
    {
     "name": "stderr",
     "output_type": "stream",
     "text": [
      " 56%|█████▋    | 3561/6321 [6:03:00<7:49:07, 10.20s/it]"
     ]
    },
    {
     "name": "stdout",
     "output_type": "stream",
     "text": [
      "Extracted content from https://www.seattleu.edu/directory/profiles/robin-russell.php and saved to JSON.\n"
     ]
    },
    {
     "name": "stderr",
     "output_type": "stream",
     "text": [
      " 56%|█████▋    | 3562/6321 [6:03:11<7:48:29, 10.19s/it]"
     ]
    },
    {
     "name": "stdout",
     "output_type": "stream",
     "text": [
      "Extracted content from https://www.seattleu.edu/directory/profiles/yueting-chen.php and saved to JSON.\n"
     ]
    },
    {
     "name": "stderr",
     "output_type": "stream",
     "text": [
      " 56%|█████▋    | 3563/6321 [6:03:21<7:48:12, 10.19s/it]"
     ]
    },
    {
     "name": "stdout",
     "output_type": "stream",
     "text": [
      "Extracted content from https://www.seattleu.edu/directory/profiles/adrianne-robertson.php and saved to JSON.\n"
     ]
    },
    {
     "name": "stderr",
     "output_type": "stream",
     "text": [
      " 56%|█████▋    | 3564/6321 [6:03:31<7:47:47, 10.18s/it]"
     ]
    },
    {
     "name": "stdout",
     "output_type": "stream",
     "text": [
      "Extracted content from https://www.seattleu.edu/directory/profiles/cassandra-rodriguez-giannakis-mit.php and saved to JSON.\n"
     ]
    },
    {
     "name": "stderr",
     "output_type": "stream",
     "text": [
      " 56%|█████▋    | 3565/6321 [6:03:41<7:51:15, 10.26s/it]"
     ]
    },
    {
     "name": "stdout",
     "output_type": "stream",
     "text": [
      "Extracted content from https://www.seattleu.edu/directory/profiles/chris-padin.php and saved to JSON.\n"
     ]
    },
    {
     "name": "stderr",
     "output_type": "stream",
     "text": [
      " 56%|█████▋    | 3566/6321 [6:03:51<7:49:32, 10.23s/it]"
     ]
    },
    {
     "name": "stdout",
     "output_type": "stream",
     "text": [
      "Extracted content from https://www.seattleu.edu/directory/profiles/cynthia-valdez.php and saved to JSON.\n"
     ]
    },
    {
     "name": "stderr",
     "output_type": "stream",
     "text": [
      " 56%|█████▋    | 3567/6321 [6:04:02<7:48:43, 10.21s/it]"
     ]
    },
    {
     "name": "stdout",
     "output_type": "stream",
     "text": [
      "Extracted content from https://www.seattleu.edu/directory/profiles/deborah-leblang.php and saved to JSON.\n"
     ]
    },
    {
     "name": "stderr",
     "output_type": "stream",
     "text": [
      " 56%|█████▋    | 3568/6321 [6:04:12<7:47:48, 10.20s/it]"
     ]
    },
    {
     "name": "stdout",
     "output_type": "stream",
     "text": [
      "Extracted content from https://www.seattleu.edu/directory/profiles/harley-johnson.php and saved to JSON.\n"
     ]
    },
    {
     "name": "stderr",
     "output_type": "stream",
     "text": [
      " 56%|█████▋    | 3569/6321 [6:04:22<7:47:21, 10.19s/it]"
     ]
    },
    {
     "name": "stdout",
     "output_type": "stream",
     "text": [
      "Extracted content from https://www.seattleu.edu/directory/profiles/kenna-kettrick.php and saved to JSON.\n"
     ]
    },
    {
     "name": "stderr",
     "output_type": "stream",
     "text": [
      " 56%|█████▋    | 3570/6321 [6:04:32<7:46:43, 10.18s/it]"
     ]
    },
    {
     "name": "stdout",
     "output_type": "stream",
     "text": [
      "Extracted content from https://www.seattleu.edu/directory/profiles/lisa-hirayama.php and saved to JSON.\n"
     ]
    },
    {
     "name": "stderr",
     "output_type": "stream",
     "text": [
      " 56%|█████▋    | 3571/6321 [6:04:42<7:46:17, 10.17s/it]"
     ]
    },
    {
     "name": "stdout",
     "output_type": "stream",
     "text": [
      "Extracted content from https://www.seattleu.edu/directory/profiles/lou-bridges.php and saved to JSON.\n"
     ]
    },
    {
     "name": "stderr",
     "output_type": "stream",
     "text": [
      " 57%|█████▋    | 3572/6321 [6:04:53<7:49:55, 10.26s/it]"
     ]
    },
    {
     "name": "stdout",
     "output_type": "stream",
     "text": [
      "Extracted content from https://www.seattleu.edu/directory/profiles/melissa-jensen-msn-bs-pmhnp-bc.php and saved to JSON.\n"
     ]
    },
    {
     "name": "stderr",
     "output_type": "stream",
     "text": [
      " 57%|█████▋    | 3573/6321 [6:05:03<7:50:44, 10.28s/it]"
     ]
    },
    {
     "name": "stdout",
     "output_type": "stream",
     "text": [
      "Extracted content from https://www.seattleu.edu/directory/profiles/miles-thompson.php and saved to JSON.\n"
     ]
    },
    {
     "name": "stderr",
     "output_type": "stream",
     "text": [
      " 57%|█████▋    | 3574/6321 [6:05:13<7:49:17, 10.25s/it]"
     ]
    },
    {
     "name": "stdout",
     "output_type": "stream",
     "text": [
      "Extracted content from https://www.seattleu.edu/directory/profiles/nancy-emery.php and saved to JSON.\n"
     ]
    },
    {
     "name": "stderr",
     "output_type": "stream",
     "text": [
      " 57%|█████▋    | 3575/6321 [6:05:23<7:47:54, 10.22s/it]"
     ]
    },
    {
     "name": "stdout",
     "output_type": "stream",
     "text": [
      "Extracted content from https://www.seattleu.edu/directory/profiles/ryan-mest.php and saved to JSON.\n"
     ]
    },
    {
     "name": "stderr",
     "output_type": "stream",
     "text": [
      " 57%|█████▋    | 3576/6321 [6:05:34<7:46:57, 10.21s/it]"
     ]
    },
    {
     "name": "stdout",
     "output_type": "stream",
     "text": [
      "Extracted content from https://www.seattleu.edu/directory/profiles/sonni-waknin.php and saved to JSON.\n"
     ]
    },
    {
     "name": "stderr",
     "output_type": "stream",
     "text": [
      " 57%|█████▋    | 3577/6321 [6:05:44<7:46:30, 10.20s/it]"
     ]
    },
    {
     "name": "stdout",
     "output_type": "stream",
     "text": [
      "Extracted content from https://www.seattleu.edu/directory/profiles/victoria-crossen.php and saved to JSON.\n"
     ]
    },
    {
     "name": "stderr",
     "output_type": "stream",
     "text": [
      " 57%|█████▋    | 3578/6321 [6:05:54<7:45:41, 10.19s/it]"
     ]
    },
    {
     "name": "stdout",
     "output_type": "stream",
     "text": [
      "Extracted content from https://www.seattleu.edu/directory/profiles/ltc-haley-middlebrook.php and saved to JSON.\n"
     ]
    },
    {
     "name": "stderr",
     "output_type": "stream",
     "text": [
      " 57%|█████▋    | 3579/6321 [6:06:04<7:45:13, 10.18s/it]"
     ]
    },
    {
     "name": "stdout",
     "output_type": "stream",
     "text": [
      "Extracted content from https://www.seattleu.edu/directory/profiles/a-james-humphreys-phd.php and saved to JSON.\n"
     ]
    },
    {
     "name": "stderr",
     "output_type": "stream",
     "text": [
      " 57%|█████▋    | 3580/6321 [6:06:14<7:45:14, 10.18s/it]"
     ]
    },
    {
     "name": "stdout",
     "output_type": "stream",
     "text": [
      "Extracted content from https://www.seattleu.edu/directory/profiles/andres-gonzalez.php and saved to JSON.\n"
     ]
    },
    {
     "name": "stderr",
     "output_type": "stream",
     "text": [
      " 57%|█████▋    | 3581/6321 [6:06:25<7:46:14, 10.21s/it]"
     ]
    },
    {
     "name": "stdout",
     "output_type": "stream",
     "text": [
      "Extracted content from https://www.seattleu.edu/directory/profiles/bob-duniway.php and saved to JSON.\n"
     ]
    },
    {
     "name": "stderr",
     "output_type": "stream",
     "text": [
      " 57%|█████▋    | 3582/6321 [6:06:35<7:50:18, 10.30s/it]"
     ]
    },
    {
     "name": "stdout",
     "output_type": "stream",
     "text": [
      "Extracted content from https://www.seattleu.edu/directory/profiles/christopher-caldwell.php and saved to JSON.\n"
     ]
    },
    {
     "name": "stderr",
     "output_type": "stream",
     "text": [
      " 57%|█████▋    | 3583/6321 [6:06:45<7:48:07, 10.26s/it]"
     ]
    },
    {
     "name": "stdout",
     "output_type": "stream",
     "text": [
      "Extracted content from https://www.seattleu.edu/directory/profiles/jamiere-abney.php and saved to JSON.\n"
     ]
    },
    {
     "name": "stderr",
     "output_type": "stream",
     "text": [
      " 57%|█████▋    | 3584/6321 [6:06:55<7:47:10, 10.24s/it]"
     ]
    },
    {
     "name": "stdout",
     "output_type": "stream",
     "text": [
      "Extracted content from https://www.seattleu.edu/directory/profiles/jon-bottema-phd.php and saved to JSON.\n"
     ]
    },
    {
     "name": "stderr",
     "output_type": "stream",
     "text": [
      " 57%|█████▋    | 3585/6321 [6:07:06<7:45:54, 10.22s/it]"
     ]
    },
    {
     "name": "stdout",
     "output_type": "stream",
     "text": [
      "Extracted content from https://www.seattleu.edu/directory/profiles/kendall-johansen.php and saved to JSON.\n"
     ]
    },
    {
     "name": "stderr",
     "output_type": "stream",
     "text": [
      " 57%|█████▋    | 3586/6321 [6:07:16<7:44:51, 10.20s/it]"
     ]
    },
    {
     "name": "stdout",
     "output_type": "stream",
     "text": [
      "Extracted content from https://www.seattleu.edu/directory/profiles/leigh-eisele.php and saved to JSON.\n"
     ]
    },
    {
     "name": "stderr",
     "output_type": "stream",
     "text": [
      " 57%|█████▋    | 3587/6321 [6:07:26<7:44:11, 10.19s/it]"
     ]
    },
    {
     "name": "stdout",
     "output_type": "stream",
     "text": [
      "Extracted content from https://www.seattleu.edu/directory/profiles/lizz-hunt.php and saved to JSON.\n"
     ]
    },
    {
     "name": "stderr",
     "output_type": "stream",
     "text": [
      " 57%|█████▋    | 3588/6321 [6:07:36<7:43:30, 10.18s/it]"
     ]
    },
    {
     "name": "stdout",
     "output_type": "stream",
     "text": [
      "Extracted content from https://www.seattleu.edu/directory/profiles/mariah-olson.php and saved to JSON.\n"
     ]
    },
    {
     "name": "stderr",
     "output_type": "stream",
     "text": [
      " 57%|█████▋    | 3589/6321 [6:07:46<7:45:36, 10.23s/it]"
     ]
    },
    {
     "name": "stdout",
     "output_type": "stream",
     "text": [
      "Extracted content from https://www.seattleu.edu/directory/profiles/megan-motley.php and saved to JSON.\n"
     ]
    },
    {
     "name": "stderr",
     "output_type": "stream",
     "text": [
      " 57%|█████▋    | 3590/6321 [6:07:57<7:44:27, 10.20s/it]"
     ]
    },
    {
     "name": "stdout",
     "output_type": "stream",
     "text": [
      "Extracted content from https://www.seattleu.edu/directory/profiles/nicholas-andrews.php and saved to JSON.\n"
     ]
    },
    {
     "name": "stderr",
     "output_type": "stream",
     "text": [
      " 57%|█████▋    | 3591/6321 [6:08:07<7:51:18, 10.36s/it]"
     ]
    },
    {
     "name": "stdout",
     "output_type": "stream",
     "text": [
      "Extracted content from https://www.seattleu.edu/directory/profiles/s-alexandra-egert.php and saved to JSON.\n"
     ]
    },
    {
     "name": "stderr",
     "output_type": "stream",
     "text": [
      " 57%|█████▋    | 3592/6321 [6:08:17<7:48:09, 10.29s/it]"
     ]
    },
    {
     "name": "stdout",
     "output_type": "stream",
     "text": [
      "Extracted content from https://www.seattleu.edu/directory/profiles/earl-cisco-malpartida-smith.php and saved to JSON.\n"
     ]
    },
    {
     "name": "stderr",
     "output_type": "stream",
     "text": [
      " 57%|█████▋    | 3593/6321 [6:08:28<7:46:19, 10.26s/it]"
     ]
    },
    {
     "name": "stdout",
     "output_type": "stream",
     "text": [
      "Extracted content from https://www.seattleu.edu/directory/profiles/christopher-smith-edd.php and saved to JSON.\n"
     ]
    },
    {
     "name": "stderr",
     "output_type": "stream",
     "text": [
      " 57%|█████▋    | 3594/6321 [6:08:38<7:44:44, 10.23s/it]"
     ]
    },
    {
     "name": "stdout",
     "output_type": "stream",
     "text": [
      "Extracted content from https://www.seattleu.edu/directory/profiles/maria-cecilia-simpson.php and saved to JSON.\n"
     ]
    },
    {
     "name": "stderr",
     "output_type": "stream",
     "text": [
      " 57%|█████▋    | 3595/6321 [6:08:48<7:43:40, 10.21s/it]"
     ]
    },
    {
     "name": "stdout",
     "output_type": "stream",
     "text": [
      "Extracted content from https://www.seattleu.edu/directory/profiles/marissa-lee.php and saved to JSON.\n"
     ]
    },
    {
     "name": "stderr",
     "output_type": "stream",
     "text": [
      " 57%|█████▋    | 3596/6321 [6:08:58<7:42:59, 10.19s/it]"
     ]
    },
    {
     "name": "stdout",
     "output_type": "stream",
     "text": [
      "Extracted content from https://www.seattleu.edu/directory/profiles/brad-mcdavid.php and saved to JSON.\n"
     ]
    },
    {
     "name": "stderr",
     "output_type": "stream",
     "text": [
      " 57%|█████▋    | 3597/6321 [6:09:08<7:44:22, 10.23s/it]"
     ]
    },
    {
     "name": "stdout",
     "output_type": "stream",
     "text": [
      "Extracted content from https://www.seattleu.edu/directory/profiles/lauryn-chandler.php and saved to JSON.\n"
     ]
    },
    {
     "name": "stderr",
     "output_type": "stream",
     "text": [
      " 57%|█████▋    | 3598/6321 [6:09:19<7:43:21, 10.21s/it]"
     ]
    },
    {
     "name": "stdout",
     "output_type": "stream",
     "text": [
      "Extracted content from https://www.seattleu.edu/directory/profiles/randy-merced.php and saved to JSON.\n"
     ]
    },
    {
     "name": "stderr",
     "output_type": "stream",
     "text": [
      " 57%|█████▋    | 3599/6321 [6:09:29<7:42:31, 10.20s/it]"
     ]
    },
    {
     "name": "stdout",
     "output_type": "stream",
     "text": [
      "Extracted content from https://www.seattleu.edu/directory/profiles/sonja-lyon.php and saved to JSON.\n"
     ]
    },
    {
     "name": "stderr",
     "output_type": "stream",
     "text": [
      " 57%|█████▋    | 3600/6321 [6:09:39<7:41:59, 10.19s/it]"
     ]
    },
    {
     "name": "stdout",
     "output_type": "stream",
     "text": [
      "Extracted content from https://www.seattleu.edu/directory/profiles/tim-spinney.php and saved to JSON.\n"
     ]
    },
    {
     "name": "stderr",
     "output_type": "stream",
     "text": [
      " 57%|█████▋    | 3601/6321 [6:09:49<7:41:28, 10.18s/it]"
     ]
    },
    {
     "name": "stdout",
     "output_type": "stream",
     "text": [
      "Extracted content from https://www.seattleu.edu/directory/profiles/aaron-velazquez.php and saved to JSON.\n"
     ]
    },
    {
     "name": "stderr",
     "output_type": "stream",
     "text": [
      " 57%|█████▋    | 3602/6321 [6:09:59<7:41:16, 10.18s/it]"
     ]
    },
    {
     "name": "stdout",
     "output_type": "stream",
     "text": [
      "Extracted content from https://www.seattleu.edu/directory/profiles/dana-m-brickham-phd--lpwa-lpcwi-crc.php and saved to JSON.\n"
     ]
    },
    {
     "name": "stderr",
     "output_type": "stream",
     "text": [
      " 57%|█████▋    | 3603/6321 [6:10:09<7:40:38, 10.17s/it]"
     ]
    },
    {
     "name": "stdout",
     "output_type": "stream",
     "text": [
      "Extracted content from https://www.seattleu.edu/directory/profiles/janet-kg-dickson.php and saved to JSON.\n"
     ]
    },
    {
     "name": "stderr",
     "output_type": "stream",
     "text": [
      " 57%|█████▋    | 3604/6321 [6:10:20<7:40:17, 10.16s/it]"
     ]
    },
    {
     "name": "stdout",
     "output_type": "stream",
     "text": [
      "Extracted content from https://www.seattleu.edu/directory/profiles/nathaniel-mason-med-ncc.php and saved to JSON.\n"
     ]
    },
    {
     "name": "stderr",
     "output_type": "stream",
     "text": [
      " 57%|█████▋    | 3605/6321 [6:10:30<7:42:18, 10.21s/it]"
     ]
    },
    {
     "name": "stdout",
     "output_type": "stream",
     "text": [
      "Extracted content from https://www.seattleu.edu/directory/profiles/vijay-chowdhari.php and saved to JSON.\n"
     ]
    },
    {
     "name": "stderr",
     "output_type": "stream",
     "text": [
      " 57%|█████▋    | 3606/6321 [6:10:40<7:41:23, 10.20s/it]"
     ]
    },
    {
     "name": "stdout",
     "output_type": "stream",
     "text": [
      "Extracted content from https://www.seattleu.edu/directory/profiles/alicia-drucker.php and saved to JSON.\n"
     ]
    },
    {
     "name": "stderr",
     "output_type": "stream",
     "text": [
      " 57%|█████▋    | 3607/6321 [6:10:50<7:41:51, 10.21s/it]"
     ]
    },
    {
     "name": "stdout",
     "output_type": "stream",
     "text": [
      "Extracted content from https://www.seattleu.edu/directory/profiles/arturo-neil.php and saved to JSON.\n"
     ]
    },
    {
     "name": "stderr",
     "output_type": "stream",
     "text": [
      " 57%|█████▋    | 3608/6321 [6:11:00<7:41:14, 10.20s/it]"
     ]
    },
    {
     "name": "stdout",
     "output_type": "stream",
     "text": [
      "Extracted content from https://www.seattleu.edu/directory/profiles/bradley-forst.php and saved to JSON.\n"
     ]
    },
    {
     "name": "stderr",
     "output_type": "stream",
     "text": [
      " 57%|█████▋    | 3609/6321 [6:11:11<7:40:30, 10.19s/it]"
     ]
    },
    {
     "name": "stdout",
     "output_type": "stream",
     "text": [
      "Extracted content from https://www.seattleu.edu/directory/profiles/caitlin-pontrella.php and saved to JSON.\n"
     ]
    },
    {
     "name": "stderr",
     "output_type": "stream",
     "text": [
      " 57%|█████▋    | 3610/6321 [6:11:21<7:40:15, 10.19s/it]"
     ]
    },
    {
     "name": "stdout",
     "output_type": "stream",
     "text": [
      "Extracted content from https://www.seattleu.edu/directory/profiles/carmen-medina.php and saved to JSON.\n"
     ]
    },
    {
     "name": "stderr",
     "output_type": "stream",
     "text": [
      " 57%|█████▋    | 3611/6321 [6:11:31<7:39:49, 10.18s/it]"
     ]
    },
    {
     "name": "stdout",
     "output_type": "stream",
     "text": [
      "Extracted content from https://www.seattleu.edu/directory/profiles/charisse-cowan-pitre-phd.php and saved to JSON.\n"
     ]
    },
    {
     "name": "stderr",
     "output_type": "stream",
     "text": [
      " 57%|█████▋    | 3612/6321 [6:11:41<7:42:54, 10.25s/it]"
     ]
    },
    {
     "name": "stdout",
     "output_type": "stream",
     "text": [
      "Extracted content from https://www.seattleu.edu/directory/profiles/dr-corinne-w-bridges-lpcc-ncc-bc-tmh.php and saved to JSON.\n"
     ]
    },
    {
     "name": "stderr",
     "output_type": "stream",
     "text": [
      " 57%|█████▋    | 3613/6321 [6:11:52<7:44:46, 10.30s/it]"
     ]
    },
    {
     "name": "stdout",
     "output_type": "stream",
     "text": [
      "Extracted content from https://www.seattleu.edu/directory/profiles/danthony-smith.php and saved to JSON.\n"
     ]
    },
    {
     "name": "stderr",
     "output_type": "stream",
     "text": [
      " 57%|█████▋    | 3614/6321 [6:12:02<7:42:52, 10.26s/it]"
     ]
    },
    {
     "name": "stdout",
     "output_type": "stream",
     "text": [
      "Extracted content from https://www.seattleu.edu/directory/profiles/dulce-briseno.php and saved to JSON.\n"
     ]
    },
    {
     "name": "stderr",
     "output_type": "stream",
     "text": [
      " 57%|█████▋    | 3615/6321 [6:12:12<7:41:21, 10.23s/it]"
     ]
    },
    {
     "name": "stdout",
     "output_type": "stream",
     "text": [
      "Extracted content from https://www.seattleu.edu/directory/profiles/hunter-bos.php and saved to JSON.\n"
     ]
    },
    {
     "name": "stderr",
     "output_type": "stream",
     "text": [
      " 57%|█████▋    | 3616/6321 [6:12:22<7:40:11, 10.21s/it]"
     ]
    },
    {
     "name": "stdout",
     "output_type": "stream",
     "text": [
      "Extracted content from https://www.seattleu.edu/directory/profiles/hussam-himmo.php and saved to JSON.\n"
     ]
    },
    {
     "name": "stderr",
     "output_type": "stream",
     "text": [
      " 57%|█████▋    | 3617/6321 [6:12:32<7:39:41, 10.20s/it]"
     ]
    },
    {
     "name": "stdout",
     "output_type": "stream",
     "text": [
      "Extracted content from https://www.seattleu.edu/directory/profiles/joey-packer.php and saved to JSON.\n"
     ]
    },
    {
     "name": "stderr",
     "output_type": "stream",
     "text": [
      " 57%|█████▋    | 3618/6321 [6:12:43<7:38:51, 10.19s/it]"
     ]
    },
    {
     "name": "stdout",
     "output_type": "stream",
     "text": [
      "Extracted content from https://www.seattleu.edu/directory/profiles/samantha-kohn.php and saved to JSON.\n"
     ]
    },
    {
     "name": "stderr",
     "output_type": "stream",
     "text": [
      " 57%|█████▋    | 3619/6321 [6:12:53<7:41:24, 10.25s/it]"
     ]
    },
    {
     "name": "stdout",
     "output_type": "stream",
     "text": [
      "Extracted content from https://www.seattleu.edu/directory/profiles/adrien-leavitt.php and saved to JSON.\n"
     ]
    },
    {
     "name": "stderr",
     "output_type": "stream",
     "text": [
      " 57%|█████▋    | 3620/6321 [6:13:03<7:40:09, 10.22s/it]"
     ]
    },
    {
     "name": "stdout",
     "output_type": "stream",
     "text": [
      "Extracted content from https://www.seattleu.edu/directory/profiles/alexandra-romanyshyn-phd.php and saved to JSON.\n"
     ]
    },
    {
     "name": "stderr",
     "output_type": "stream",
     "text": [
      " 57%|█████▋    | 3621/6321 [6:13:13<7:41:06, 10.25s/it]"
     ]
    },
    {
     "name": "stdout",
     "output_type": "stream",
     "text": [
      "Extracted content from https://www.seattleu.edu/directory/profiles/allison-machlis-meyer-phd.php and saved to JSON.\n"
     ]
    },
    {
     "name": "stderr",
     "output_type": "stream",
     "text": [
      " 57%|█████▋    | 3622/6321 [6:13:24<7:39:39, 10.22s/it]"
     ]
    },
    {
     "name": "stdout",
     "output_type": "stream",
     "text": [
      "Extracted content from https://www.seattleu.edu/directory/profiles/bradley-harlow.php and saved to JSON.\n"
     ]
    },
    {
     "name": "stderr",
     "output_type": "stream",
     "text": [
      " 57%|█████▋    | 3623/6321 [6:13:34<7:39:02, 10.21s/it]"
     ]
    },
    {
     "name": "stdout",
     "output_type": "stream",
     "text": [
      "Extracted content from https://www.seattleu.edu/directory/profiles/brian-faker.php and saved to JSON.\n"
     ]
    },
    {
     "name": "stderr",
     "output_type": "stream",
     "text": [
      " 57%|█████▋    | 3624/6321 [6:13:44<7:38:21, 10.20s/it]"
     ]
    },
    {
     "name": "stdout",
     "output_type": "stream",
     "text": [
      "Extracted content from https://www.seattleu.edu/directory/profiles/eunice-soh-phd-msn-mph-fnp-c.php and saved to JSON.\n"
     ]
    },
    {
     "name": "stderr",
     "output_type": "stream",
     "text": [
      " 57%|█████▋    | 3625/6321 [6:13:54<7:37:49, 10.19s/it]"
     ]
    },
    {
     "name": "stdout",
     "output_type": "stream",
     "text": [
      "Extracted content from https://www.seattleu.edu/directory/profiles/jeff-millard.php and saved to JSON.\n"
     ]
    },
    {
     "name": "stderr",
     "output_type": "stream",
     "text": [
      " 57%|█████▋    | 3626/6321 [6:14:04<7:37:34, 10.19s/it]"
     ]
    },
    {
     "name": "stdout",
     "output_type": "stream",
     "text": [
      "Extracted content from https://www.seattleu.edu/directory/profiles/jobe-korb-nice.php and saved to JSON.\n"
     ]
    },
    {
     "name": "stderr",
     "output_type": "stream",
     "text": [
      " 57%|█████▋    | 3627/6321 [6:14:14<7:36:59, 10.18s/it]"
     ]
    },
    {
     "name": "stdout",
     "output_type": "stream",
     "text": [
      "Extracted content from https://www.seattleu.edu/directory/profiles/kaie-wise.php and saved to JSON.\n"
     ]
    },
    {
     "name": "stderr",
     "output_type": "stream",
     "text": [
      " 57%|█████▋    | 3628/6321 [6:14:25<7:36:27, 10.17s/it]"
     ]
    },
    {
     "name": "stdout",
     "output_type": "stream",
     "text": [
      "Extracted content from https://www.seattleu.edu/directory/profiles/bert-otten-sj.php and saved to JSON.\n"
     ]
    },
    {
     "name": "stderr",
     "output_type": "stream",
     "text": [
      " 57%|█████▋    | 3629/6321 [6:14:35<7:37:44, 10.20s/it]"
     ]
    },
    {
     "name": "stdout",
     "output_type": "stream",
     "text": [
      "Extracted content from https://www.seattleu.edu/directory/profiles/liz-lin.php and saved to JSON.\n"
     ]
    },
    {
     "name": "stderr",
     "output_type": "stream",
     "text": [
      " 57%|█████▋    | 3630/6321 [6:14:45<7:37:16, 10.20s/it]"
     ]
    },
    {
     "name": "stdout",
     "output_type": "stream",
     "text": [
      "Extracted content from https://www.seattleu.edu/directory/profiles/lucymar-carbajal.php and saved to JSON.\n"
     ]
    },
    {
     "name": "stderr",
     "output_type": "stream",
     "text": [
      " 57%|█████▋    | 3631/6321 [6:14:55<7:36:36, 10.18s/it]"
     ]
    },
    {
     "name": "stdout",
     "output_type": "stream",
     "text": [
      "Extracted content from https://www.seattleu.edu/directory/profiles/luis-sanchez-padilla.php and saved to JSON.\n"
     ]
    },
    {
     "name": "stderr",
     "output_type": "stream",
     "text": [
      " 57%|█████▋    | 3632/6321 [6:15:05<7:35:58, 10.17s/it]"
     ]
    },
    {
     "name": "stdout",
     "output_type": "stream",
     "text": [
      "Extracted content from https://www.seattleu.edu/directory/profiles/mehmet-vurka.php and saved to JSON.\n"
     ]
    },
    {
     "name": "stderr",
     "output_type": "stream",
     "text": [
      " 57%|█████▋    | 3633/6321 [6:15:16<7:35:40, 10.17s/it]"
     ]
    },
    {
     "name": "stdout",
     "output_type": "stream",
     "text": [
      "Extracted content from https://www.seattleu.edu/directory/profiles/michael-lutterman.php and saved to JSON.\n"
     ]
    },
    {
     "name": "stderr",
     "output_type": "stream",
     "text": [
      " 58%|█████▊    | 3635/6321 [6:15:27<5:27:19,  7.31s/it]"
     ]
    },
    {
     "name": "stdout",
     "output_type": "stream",
     "text": [
      "Error processing https:www.seattleu.edu/directory/profiles/monika-anonuevo.php: HTTP Error 404: Not Found\n",
      "Extracted content from https://www.seattleu.edu/directory/profiles/natalie-cisneros-phd.php and saved to JSON.\n"
     ]
    },
    {
     "name": "stderr",
     "output_type": "stream",
     "text": [
      " 58%|█████▊    | 3636/6321 [6:15:37<6:05:31,  8.17s/it]"
     ]
    },
    {
     "name": "stdout",
     "output_type": "stream",
     "text": [
      "Extracted content from https://www.seattleu.edu/directory/profiles/stephanie-michels.php and saved to JSON.\n"
     ]
    },
    {
     "name": "stderr",
     "output_type": "stream",
     "text": [
      " 58%|█████▊    | 3637/6321 [6:15:47<6:38:27,  8.91s/it]"
     ]
    },
    {
     "name": "stdout",
     "output_type": "stream",
     "text": [
      "Extracted content from https://www.seattleu.edu/directory/profiles/steve-brilling.php and saved to JSON.\n"
     ]
    },
    {
     "name": "stderr",
     "output_type": "stream",
     "text": [
      " 58%|█████▊    | 3638/6321 [6:15:58<6:57:00,  9.33s/it]"
     ]
    },
    {
     "name": "stdout",
     "output_type": "stream",
     "text": [
      "Extracted content from https://www.seattleu.edu/directory/profiles/connie-rhie.php and saved to JSON.\n"
     ]
    },
    {
     "name": "stderr",
     "output_type": "stream",
     "text": [
      " 58%|█████▊    | 3639/6321 [6:16:08<7:09:46,  9.61s/it]"
     ]
    },
    {
     "name": "stdout",
     "output_type": "stream",
     "text": [
      "Extracted content from https://www.seattleu.edu/directory/profiles/emily-vo.php and saved to JSON.\n"
     ]
    },
    {
     "name": "stderr",
     "output_type": "stream",
     "text": [
      " 58%|█████▊    | 3640/6321 [6:16:18<7:16:59,  9.78s/it]"
     ]
    },
    {
     "name": "stdout",
     "output_type": "stream",
     "text": [
      "Extracted content from https://www.seattleu.edu/directory/profiles/erin-shea-mccann.php and saved to JSON.\n"
     ]
    },
    {
     "name": "stderr",
     "output_type": "stream",
     "text": [
      " 58%|█████▊    | 3641/6321 [6:16:28<7:22:05,  9.90s/it]"
     ]
    },
    {
     "name": "stdout",
     "output_type": "stream",
     "text": [
      "Extracted content from https://www.seattleu.edu/directory/profiles/jing-yin-liang.php and saved to JSON.\n"
     ]
    },
    {
     "name": "stderr",
     "output_type": "stream",
     "text": [
      " 58%|█████▊    | 3642/6321 [6:16:38<7:25:23,  9.98s/it]"
     ]
    },
    {
     "name": "stdout",
     "output_type": "stream",
     "text": [
      "Extracted content from https://www.seattleu.edu/directory/profiles/katie-knott-msn-rnc-ob.php and saved to JSON.\n"
     ]
    },
    {
     "name": "stderr",
     "output_type": "stream",
     "text": [
      " 58%|█████▊    | 3643/6321 [6:16:49<7:27:40, 10.03s/it]"
     ]
    },
    {
     "name": "stdout",
     "output_type": "stream",
     "text": [
      "Extracted content from https://www.seattleu.edu/directory/profiles/laura-nichols.php and saved to JSON.\n"
     ]
    },
    {
     "name": "stderr",
     "output_type": "stream",
     "text": [
      " 58%|█████▊    | 3644/6321 [6:16:59<7:29:13, 10.07s/it]"
     ]
    },
    {
     "name": "stdout",
     "output_type": "stream",
     "text": [
      "Extracted content from https://www.seattleu.edu/directory/profiles/leslee-clauson-eicher.php and saved to JSON.\n"
     ]
    },
    {
     "name": "stderr",
     "output_type": "stream",
     "text": [
      " 58%|█████▊    | 3645/6321 [6:17:09<7:30:22, 10.10s/it]"
     ]
    },
    {
     "name": "stdout",
     "output_type": "stream",
     "text": [
      "Extracted content from https://www.seattleu.edu/directory/profiles/aaron-skeens.php and saved to JSON.\n"
     ]
    },
    {
     "name": "stderr",
     "output_type": "stream",
     "text": [
      " 58%|█████▊    | 3646/6321 [6:17:19<7:31:06, 10.12s/it]"
     ]
    },
    {
     "name": "stdout",
     "output_type": "stream",
     "text": [
      "Extracted content from https://www.seattleu.edu/directory/profiles/jennifer-lindsay-phd.php and saved to JSON.\n"
     ]
    },
    {
     "name": "stderr",
     "output_type": "stream",
     "text": [
      " 58%|█████▊    | 3647/6321 [6:17:30<7:36:17, 10.24s/it]"
     ]
    },
    {
     "name": "stdout",
     "output_type": "stream",
     "text": [
      "Extracted content from https://www.seattleu.edu/directory/profiles/shannon-presler.php and saved to JSON.\n"
     ]
    },
    {
     "name": "stderr",
     "output_type": "stream",
     "text": [
      " 58%|█████▊    | 3649/6321 [6:17:40<5:20:55,  7.21s/it]"
     ]
    },
    {
     "name": "stdout",
     "output_type": "stream",
     "text": [
      "Error processing https:www.seattleu.edu/directory/profiles/ted-kalmus.php: HTTP Error 404: Not Found\n",
      "Extracted content from https://www.seattleu.edu/directory/profiles/andrea-campbell.php and saved to JSON.\n"
     ]
    },
    {
     "name": "stderr",
     "output_type": "stream",
     "text": [
      " 58%|█████▊    | 3650/6321 [6:17:50<6:02:20,  8.14s/it]"
     ]
    },
    {
     "name": "stdout",
     "output_type": "stream",
     "text": [
      "Extracted content from https://www.seattleu.edu/directory/profiles/anisa-khoshbakhtian.php and saved to JSON.\n"
     ]
    },
    {
     "name": "stderr",
     "output_type": "stream",
     "text": [
      " 58%|█████▊    | 3651/6321 [6:18:00<6:29:12,  8.75s/it]"
     ]
    },
    {
     "name": "stdout",
     "output_type": "stream",
     "text": [
      "Extracted content from https://www.seattleu.edu/directory/profiles/christopher-pohl.php and saved to JSON.\n"
     ]
    },
    {
     "name": "stderr",
     "output_type": "stream",
     "text": [
      " 58%|█████▊    | 3652/6321 [6:18:11<6:48:05,  9.17s/it]"
     ]
    },
    {
     "name": "stdout",
     "output_type": "stream",
     "text": [
      "Extracted content from https://www.seattleu.edu/directory/profiles/diane-cashman.php and saved to JSON.\n"
     ]
    },
    {
     "name": "stderr",
     "output_type": "stream",
     "text": [
      " 58%|█████▊    | 3653/6321 [6:18:21<7:00:59,  9.47s/it]"
     ]
    },
    {
     "name": "stdout",
     "output_type": "stream",
     "text": [
      "Extracted content from https://www.seattleu.edu/directory/profiles/gavin-mchugh.php and saved to JSON.\n"
     ]
    },
    {
     "name": "stderr",
     "output_type": "stream",
     "text": [
      " 58%|█████▊    | 3654/6321 [6:18:31<7:17:45,  9.85s/it]"
     ]
    },
    {
     "name": "stdout",
     "output_type": "stream",
     "text": [
      "Extracted content from https://www.seattleu.edu/directory/profiles/kelsey-hughes.php and saved to JSON.\n"
     ]
    },
    {
     "name": "stderr",
     "output_type": "stream",
     "text": [
      " 58%|█████▊    | 3655/6321 [6:18:42<7:22:02,  9.95s/it]"
     ]
    },
    {
     "name": "stdout",
     "output_type": "stream",
     "text": [
      "Extracted content from https://www.seattleu.edu/directory/profiles/adeline-chu.php and saved to JSON.\n"
     ]
    },
    {
     "name": "stderr",
     "output_type": "stream",
     "text": [
      " 58%|█████▊    | 3656/6321 [6:18:52<7:26:38, 10.06s/it]"
     ]
    },
    {
     "name": "stdout",
     "output_type": "stream",
     "text": [
      "Extracted content from https://www.seattleu.edu/directory/profiles/alex-matute.php and saved to JSON.\n"
     ]
    },
    {
     "name": "stderr",
     "output_type": "stream",
     "text": [
      " 58%|█████▊    | 3657/6321 [6:19:02<7:27:46, 10.08s/it]"
     ]
    },
    {
     "name": "stdout",
     "output_type": "stream",
     "text": [
      "Extracted content from https://www.seattleu.edu/directory/profiles/ana-ortiz-salazar.php and saved to JSON.\n"
     ]
    },
    {
     "name": "stderr",
     "output_type": "stream",
     "text": [
      " 58%|█████▊    | 3658/6321 [6:19:12<7:28:30, 10.11s/it]"
     ]
    },
    {
     "name": "stdout",
     "output_type": "stream",
     "text": [
      "Extracted content from https://www.seattleu.edu/directory/profiles/andrew-staten.php and saved to JSON.\n"
     ]
    },
    {
     "name": "stderr",
     "output_type": "stream",
     "text": [
      " 58%|█████▊    | 3659/6321 [6:19:22<7:29:04, 10.12s/it]"
     ]
    },
    {
     "name": "stdout",
     "output_type": "stream",
     "text": [
      "Extracted content from https://www.seattleu.edu/directory/profiles/angela-macey-cushman.php and saved to JSON.\n"
     ]
    },
    {
     "name": "stderr",
     "output_type": "stream",
     "text": [
      " 58%|█████▊    | 3660/6321 [6:19:33<7:29:13, 10.13s/it]"
     ]
    },
    {
     "name": "stdout",
     "output_type": "stream",
     "text": [
      "Extracted content from https://www.seattleu.edu/directory/profiles/ann-nguyen.php and saved to JSON.\n"
     ]
    },
    {
     "name": "stderr",
     "output_type": "stream",
     "text": [
      " 58%|█████▊    | 3661/6321 [6:19:43<7:29:57, 10.15s/it]"
     ]
    },
    {
     "name": "stdout",
     "output_type": "stream",
     "text": [
      "Extracted content from https://www.seattleu.edu/directory/profiles/bedane-geleta.php and saved to JSON.\n"
     ]
    },
    {
     "name": "stderr",
     "output_type": "stream",
     "text": [
      " 58%|█████▊    | 3662/6321 [6:19:53<7:29:55, 10.15s/it]"
     ]
    },
    {
     "name": "stdout",
     "output_type": "stream",
     "text": [
      "Extracted content from https://www.seattleu.edu/directory/profiles/brian-beattie.php and saved to JSON.\n"
     ]
    },
    {
     "name": "stderr",
     "output_type": "stream",
     "text": [
      " 58%|█████▊    | 3663/6321 [6:20:03<7:29:59, 10.16s/it]"
     ]
    },
    {
     "name": "stdout",
     "output_type": "stream",
     "text": [
      "Extracted content from https://www.seattleu.edu/directory/profiles/chrisondra-scheffler.php and saved to JSON.\n"
     ]
    },
    {
     "name": "stderr",
     "output_type": "stream",
     "text": [
      " 58%|█████▊    | 3664/6321 [6:20:13<7:32:51, 10.23s/it]"
     ]
    },
    {
     "name": "stdout",
     "output_type": "stream",
     "text": [
      "Extracted content from https://www.seattleu.edu/directory/profiles/emma-nauman.php and saved to JSON.\n"
     ]
    },
    {
     "name": "stderr",
     "output_type": "stream",
     "text": [
      " 58%|█████▊    | 3665/6321 [6:20:24<7:31:49, 10.21s/it]"
     ]
    },
    {
     "name": "stdout",
     "output_type": "stream",
     "text": [
      "Extracted content from https://www.seattleu.edu/directory/profiles/erika-aranca.php and saved to JSON.\n"
     ]
    },
    {
     "name": "stderr",
     "output_type": "stream",
     "text": [
      " 58%|█████▊    | 3666/6321 [6:20:34<7:31:00, 10.19s/it]"
     ]
    },
    {
     "name": "stdout",
     "output_type": "stream",
     "text": [
      "Extracted content from https://www.seattleu.edu/directory/profiles/evlayne-ramirez.php and saved to JSON.\n"
     ]
    },
    {
     "name": "stderr",
     "output_type": "stream",
     "text": [
      " 58%|█████▊    | 3667/6321 [6:20:44<7:30:26, 10.18s/it]"
     ]
    },
    {
     "name": "stdout",
     "output_type": "stream",
     "text": [
      "Extracted content from https://www.seattleu.edu/directory/profiles/frederick-barton.php and saved to JSON.\n"
     ]
    },
    {
     "name": "stderr",
     "output_type": "stream",
     "text": [
      " 58%|█████▊    | 3668/6321 [6:20:54<7:30:21, 10.19s/it]"
     ]
    },
    {
     "name": "stdout",
     "output_type": "stream",
     "text": [
      "Extracted content from https://www.seattleu.edu/directory/profiles/hien-huy-nguyen.php and saved to JSON.\n"
     ]
    },
    {
     "name": "stderr",
     "output_type": "stream",
     "text": [
      " 58%|█████▊    | 3669/6321 [6:21:04<7:30:04, 10.18s/it]"
     ]
    },
    {
     "name": "stdout",
     "output_type": "stream",
     "text": [
      "Extracted content from https://www.seattleu.edu/directory/profiles/jay-gairson.php and saved to JSON.\n"
     ]
    },
    {
     "name": "stderr",
     "output_type": "stream",
     "text": [
      " 58%|█████▊    | 3670/6321 [6:21:14<7:29:18, 10.17s/it]"
     ]
    },
    {
     "name": "stdout",
     "output_type": "stream",
     "text": [
      "Extracted content from https://www.seattleu.edu/directory/profiles/john-haskin.php and saved to JSON.\n"
     ]
    },
    {
     "name": "stderr",
     "output_type": "stream",
     "text": [
      " 58%|█████▊    | 3671/6321 [6:21:25<7:29:13, 10.17s/it]"
     ]
    },
    {
     "name": "stdout",
     "output_type": "stream",
     "text": [
      "Extracted content from https://www.seattleu.edu/directory/profiles/katherine-cormier-jones.php and saved to JSON.\n"
     ]
    },
    {
     "name": "stderr",
     "output_type": "stream",
     "text": [
      " 58%|█████▊    | 3672/6321 [6:21:35<7:31:37, 10.23s/it]"
     ]
    },
    {
     "name": "stdout",
     "output_type": "stream",
     "text": [
      "Extracted content from https://www.seattleu.edu/directory/profiles/kayden-metoyer.php and saved to JSON.\n"
     ]
    },
    {
     "name": "stderr",
     "output_type": "stream",
     "text": [
      " 58%|█████▊    | 3673/6321 [6:21:45<7:30:35, 10.21s/it]"
     ]
    },
    {
     "name": "stdout",
     "output_type": "stream",
     "text": [
      "Extracted content from https://www.seattleu.edu/directory/profiles/kayla-mamolo.php and saved to JSON.\n"
     ]
    },
    {
     "name": "stderr",
     "output_type": "stream",
     "text": [
      " 58%|█████▊    | 3674/6321 [6:21:55<7:29:50, 10.20s/it]"
     ]
    },
    {
     "name": "stdout",
     "output_type": "stream",
     "text": [
      "Extracted content from https://www.seattleu.edu/directory/profiles/kelly-lawton.php and saved to JSON.\n"
     ]
    },
    {
     "name": "stderr",
     "output_type": "stream",
     "text": [
      " 58%|█████▊    | 3675/6321 [6:22:05<7:29:09, 10.19s/it]"
     ]
    },
    {
     "name": "stdout",
     "output_type": "stream",
     "text": [
      "Extracted content from https://www.seattleu.edu/directory/profiles/kimberly-mosolf.php and saved to JSON.\n"
     ]
    },
    {
     "name": "stderr",
     "output_type": "stream",
     "text": [
      " 58%|█████▊    | 3676/6321 [6:22:16<7:28:34, 10.18s/it]"
     ]
    },
    {
     "name": "stdout",
     "output_type": "stream",
     "text": [
      "Extracted content from https://www.seattleu.edu/directory/profiles/robert-beattey.php and saved to JSON.\n"
     ]
    },
    {
     "name": "stderr",
     "output_type": "stream",
     "text": [
      " 58%|█████▊    | 3677/6321 [6:22:26<7:28:16, 10.17s/it]"
     ]
    },
    {
     "name": "stdout",
     "output_type": "stream",
     "text": [
      "Extracted content from https://www.seattleu.edu/directory/profiles/ronen-elad.php and saved to JSON.\n"
     ]
    },
    {
     "name": "stderr",
     "output_type": "stream",
     "text": [
      " 58%|█████▊    | 3678/6321 [6:22:36<7:28:01, 10.17s/it]"
     ]
    },
    {
     "name": "stdout",
     "output_type": "stream",
     "text": [
      "Extracted content from https://www.seattleu.edu/directory/profiles/sarah-korbonits.php and saved to JSON.\n"
     ]
    },
    {
     "name": "stderr",
     "output_type": "stream",
     "text": [
      " 58%|█████▊    | 3679/6321 [6:22:46<7:27:50, 10.17s/it]"
     ]
    },
    {
     "name": "stdout",
     "output_type": "stream",
     "text": [
      "Extracted content from https://www.seattleu.edu/directory/profiles/yifei-wen.php and saved to JSON.\n"
     ]
    },
    {
     "name": "stderr",
     "output_type": "stream",
     "text": [
      " 58%|█████▊    | 3680/6321 [6:22:57<7:30:54, 10.24s/it]"
     ]
    },
    {
     "name": "stdout",
     "output_type": "stream",
     "text": [
      "Extracted content from https://www.seattleu.edu/directory/profiles/virginia-gleason-jd.php and saved to JSON.\n"
     ]
    },
    {
     "name": "stderr",
     "output_type": "stream",
     "text": [
      " 58%|█████▊    | 3681/6321 [6:23:07<7:31:05, 10.25s/it]"
     ]
    },
    {
     "name": "stdout",
     "output_type": "stream",
     "text": [
      "Extracted content from https://www.seattleu.edu/directory/profiles/aly-lo.php and saved to JSON.\n"
     ]
    },
    {
     "name": "stderr",
     "output_type": "stream",
     "text": [
      " 58%|█████▊    | 3682/6321 [6:23:17<7:32:34, 10.29s/it]"
     ]
    },
    {
     "name": "stdout",
     "output_type": "stream",
     "text": [
      "Extracted content from https://www.seattleu.edu/directory/profiles/ashish-wahi.php and saved to JSON.\n"
     ]
    },
    {
     "name": "stderr",
     "output_type": "stream",
     "text": [
      " 58%|█████▊    | 3683/6321 [6:23:27<7:30:46, 10.25s/it]"
     ]
    },
    {
     "name": "stdout",
     "output_type": "stream",
     "text": [
      "Extracted content from https://www.seattleu.edu/directory/profiles/chun-ru-parry.php and saved to JSON.\n"
     ]
    },
    {
     "name": "stderr",
     "output_type": "stream",
     "text": [
      " 58%|█████▊    | 3684/6321 [6:23:38<7:29:19, 10.22s/it]"
     ]
    },
    {
     "name": "stdout",
     "output_type": "stream",
     "text": [
      "Extracted content from https://www.seattleu.edu/directory/profiles/corinna-costello.php and saved to JSON.\n"
     ]
    },
    {
     "name": "stderr",
     "output_type": "stream",
     "text": [
      " 58%|█████▊    | 3685/6321 [6:23:48<7:28:14, 10.20s/it]"
     ]
    },
    {
     "name": "stdout",
     "output_type": "stream",
     "text": [
      "Extracted content from https://www.seattleu.edu/directory/profiles/crystal-pardue.php and saved to JSON.\n"
     ]
    },
    {
     "name": "stderr",
     "output_type": "stream",
     "text": [
      " 58%|█████▊    | 3686/6321 [6:23:58<7:28:04, 10.20s/it]"
     ]
    },
    {
     "name": "stdout",
     "output_type": "stream",
     "text": [
      "Extracted content from https://www.seattleu.edu/directory/profiles/finn-malone.php and saved to JSON.\n"
     ]
    },
    {
     "name": "stderr",
     "output_type": "stream",
     "text": [
      " 58%|█████▊    | 3687/6321 [6:24:08<7:27:03, 10.18s/it]"
     ]
    },
    {
     "name": "stdout",
     "output_type": "stream",
     "text": [
      "Extracted content from https://www.seattleu.edu/directory/profiles/hemavattie-ramtahal.php and saved to JSON.\n"
     ]
    },
    {
     "name": "stderr",
     "output_type": "stream",
     "text": [
      " 58%|█████▊    | 3688/6321 [6:24:18<7:29:15, 10.24s/it]"
     ]
    },
    {
     "name": "stdout",
     "output_type": "stream",
     "text": [
      "Extracted content from https://www.seattleu.edu/directory/profiles/jamie-sansone.php and saved to JSON.\n"
     ]
    },
    {
     "name": "stderr",
     "output_type": "stream",
     "text": [
      " 58%|█████▊    | 3689/6321 [6:24:29<7:30:22, 10.27s/it]"
     ]
    },
    {
     "name": "stdout",
     "output_type": "stream",
     "text": [
      "Extracted content from https://www.seattleu.edu/directory/profiles/jennifer-thomas.php and saved to JSON.\n"
     ]
    },
    {
     "name": "stderr",
     "output_type": "stream",
     "text": [
      " 58%|█████▊    | 3690/6321 [6:24:39<7:28:54, 10.24s/it]"
     ]
    },
    {
     "name": "stdout",
     "output_type": "stream",
     "text": [
      "Extracted content from https://www.seattleu.edu/directory/profiles/jevetta-trapp.php and saved to JSON.\n"
     ]
    },
    {
     "name": "stderr",
     "output_type": "stream",
     "text": [
      " 58%|█████▊    | 3691/6321 [6:24:49<7:27:44, 10.21s/it]"
     ]
    },
    {
     "name": "stdout",
     "output_type": "stream",
     "text": [
      "Extracted content from https://www.seattleu.edu/directory/profiles/jonathan-davis.php and saved to JSON.\n"
     ]
    },
    {
     "name": "stderr",
     "output_type": "stream",
     "text": [
      " 58%|█████▊    | 3692/6321 [6:25:00<7:35:46, 10.40s/it]"
     ]
    },
    {
     "name": "stdout",
     "output_type": "stream",
     "text": [
      "Extracted content from https://www.seattleu.edu/directory/profiles/kaitlin-phelps.php and saved to JSON.\n"
     ]
    },
    {
     "name": "stderr",
     "output_type": "stream",
     "text": [
      " 58%|█████▊    | 3693/6321 [6:25:10<7:32:27, 10.33s/it]"
     ]
    },
    {
     "name": "stdout",
     "output_type": "stream",
     "text": [
      "Extracted content from https://www.seattleu.edu/directory/profiles/kameron-greene.php and saved to JSON.\n"
     ]
    },
    {
     "name": "stderr",
     "output_type": "stream",
     "text": [
      " 58%|█████▊    | 3694/6321 [6:25:20<7:30:19, 10.29s/it]"
     ]
    },
    {
     "name": "stdout",
     "output_type": "stream",
     "text": [
      "Extracted content from https://www.seattleu.edu/directory/profiles/katharine-sperandio.php and saved to JSON.\n"
     ]
    },
    {
     "name": "stderr",
     "output_type": "stream",
     "text": [
      " 58%|█████▊    | 3695/6321 [6:25:30<7:28:16, 10.24s/it]"
     ]
    },
    {
     "name": "stdout",
     "output_type": "stream",
     "text": [
      "Extracted content from https://www.seattleu.edu/directory/profiles/katherine-peavy.php and saved to JSON.\n"
     ]
    },
    {
     "name": "stderr",
     "output_type": "stream",
     "text": [
      " 58%|█████▊    | 3696/6321 [6:25:41<7:29:04, 10.26s/it]"
     ]
    },
    {
     "name": "stdout",
     "output_type": "stream",
     "text": [
      "Extracted content from https://www.seattleu.edu/directory/profiles/laura-ordonez-tello.php and saved to JSON.\n"
     ]
    },
    {
     "name": "stderr",
     "output_type": "stream",
     "text": [
      " 58%|█████▊    | 3697/6321 [6:25:51<7:27:42, 10.24s/it]"
     ]
    },
    {
     "name": "stdout",
     "output_type": "stream",
     "text": [
      "Extracted content from https://www.seattleu.edu/directory/profiles/lorencita-villegas.php and saved to JSON.\n"
     ]
    },
    {
     "name": "stderr",
     "output_type": "stream",
     "text": [
      " 59%|█████▊    | 3698/6321 [6:26:01<7:26:42, 10.22s/it]"
     ]
    },
    {
     "name": "stdout",
     "output_type": "stream",
     "text": [
      "Extracted content from https://www.seattleu.edu/directory/profiles/mark-lorbiecki.php and saved to JSON.\n"
     ]
    },
    {
     "name": "stderr",
     "output_type": "stream",
     "text": [
      " 59%|█████▊    | 3699/6321 [6:26:11<7:25:39, 10.20s/it]"
     ]
    },
    {
     "name": "stdout",
     "output_type": "stream",
     "text": [
      "Extracted content from https://www.seattleu.edu/directory/profiles/mark-travis.php and saved to JSON.\n"
     ]
    },
    {
     "name": "stderr",
     "output_type": "stream",
     "text": [
      " 59%|█████▊    | 3700/6321 [6:26:21<7:24:51, 10.18s/it]"
     ]
    },
    {
     "name": "stdout",
     "output_type": "stream",
     "text": [
      "Extracted content from https://www.seattleu.edu/directory/profiles/mary-jo-kelly.php and saved to JSON.\n"
     ]
    },
    {
     "name": "stderr",
     "output_type": "stream",
     "text": [
      " 59%|█████▊    | 3701/6321 [6:26:32<7:24:18, 10.18s/it]"
     ]
    },
    {
     "name": "stdout",
     "output_type": "stream",
     "text": [
      "Extracted content from https://www.seattleu.edu/directory/profiles/mia-drake.php and saved to JSON.\n"
     ]
    },
    {
     "name": "stderr",
     "output_type": "stream",
     "text": [
      " 59%|█████▊    | 3702/6321 [6:26:42<7:24:20, 10.18s/it]"
     ]
    },
    {
     "name": "stdout",
     "output_type": "stream",
     "text": [
      "Extracted content from https://www.seattleu.edu/directory/profiles/rebeka-osborne.php and saved to JSON.\n"
     ]
    },
    {
     "name": "stderr",
     "output_type": "stream",
     "text": [
      " 59%|█████▊    | 3703/6321 [6:26:52<7:31:26, 10.35s/it]"
     ]
    },
    {
     "name": "stdout",
     "output_type": "stream",
     "text": [
      "Extracted content from https://www.seattleu.edu/directory/profiles/sandi-hamilton.php and saved to JSON.\n"
     ]
    },
    {
     "name": "stderr",
     "output_type": "stream",
     "text": [
      " 59%|█████▊    | 3704/6321 [6:27:03<7:31:09, 10.34s/it]"
     ]
    },
    {
     "name": "stdout",
     "output_type": "stream",
     "text": [
      "Extracted content from https://www.seattleu.edu/directory/profiles/soheil-jamshidi.php and saved to JSON.\n"
     ]
    },
    {
     "name": "stderr",
     "output_type": "stream",
     "text": [
      " 59%|█████▊    | 3705/6321 [6:27:13<7:28:35, 10.29s/it]"
     ]
    },
    {
     "name": "stdout",
     "output_type": "stream",
     "text": [
      "Extracted content from https://www.seattleu.edu/directory/profiles/amanda-elyse.php and saved to JSON.\n"
     ]
    },
    {
     "name": "stderr",
     "output_type": "stream",
     "text": [
      " 59%|█████▊    | 3706/6321 [6:27:23<7:27:25, 10.27s/it]"
     ]
    },
    {
     "name": "stdout",
     "output_type": "stream",
     "text": [
      "Extracted content from https://www.seattleu.edu/directory/profiles/bianca-eloisa-casem.php and saved to JSON.\n"
     ]
    },
    {
     "name": "stderr",
     "output_type": "stream",
     "text": [
      " 59%|█████▊    | 3707/6321 [6:27:33<7:25:44, 10.23s/it]"
     ]
    },
    {
     "name": "stdout",
     "output_type": "stream",
     "text": [
      "Extracted content from https://www.seattleu.edu/directory/profiles/cornelia-brandfield-harvey.php and saved to JSON.\n"
     ]
    },
    {
     "name": "stderr",
     "output_type": "stream",
     "text": [
      " 59%|█████▊    | 3708/6321 [6:27:43<7:24:40, 10.21s/it]"
     ]
    },
    {
     "name": "stdout",
     "output_type": "stream",
     "text": [
      "Extracted content from https://www.seattleu.edu/directory/profiles/elijah-fender.php and saved to JSON.\n"
     ]
    },
    {
     "name": "stderr",
     "output_type": "stream",
     "text": [
      " 59%|█████▊    | 3709/6321 [6:27:54<7:29:46, 10.33s/it]"
     ]
    },
    {
     "name": "stdout",
     "output_type": "stream",
     "text": [
      "Extracted content from https://www.seattleu.edu/directory/profiles/gemma-zanowski.php and saved to JSON.\n"
     ]
    },
    {
     "name": "stderr",
     "output_type": "stream",
     "text": [
      " 59%|█████▊    | 3710/6321 [6:28:04<7:27:21, 10.28s/it]"
     ]
    },
    {
     "name": "stdout",
     "output_type": "stream",
     "text": [
      "Extracted content from https://www.seattleu.edu/directory/profiles/geoff-trachtenberg.php and saved to JSON.\n"
     ]
    },
    {
     "name": "stderr",
     "output_type": "stream",
     "text": [
      " 59%|█████▊    | 3711/6321 [6:28:14<7:25:42, 10.25s/it]"
     ]
    },
    {
     "name": "stdout",
     "output_type": "stream",
     "text": [
      "Extracted content from https://www.seattleu.edu/directory/profiles/jennie-pasquarella.php and saved to JSON.\n"
     ]
    },
    {
     "name": "stderr",
     "output_type": "stream",
     "text": [
      " 59%|█████▊    | 3712/6321 [6:28:25<7:25:45, 10.25s/it]"
     ]
    },
    {
     "name": "stdout",
     "output_type": "stream",
     "text": [
      "Extracted content from https://www.seattleu.edu/directory/profiles/jian-yu-phd-pe.php and saved to JSON.\n"
     ]
    },
    {
     "name": "stderr",
     "output_type": "stream",
     "text": [
      " 59%|█████▊    | 3713/6321 [6:28:35<7:24:33, 10.23s/it]"
     ]
    },
    {
     "name": "stdout",
     "output_type": "stream",
     "text": [
      "Extracted content from https://www.seattleu.edu/directory/profiles/katherine-fort.php and saved to JSON.\n"
     ]
    },
    {
     "name": "stderr",
     "output_type": "stream",
     "text": [
      " 59%|█████▉    | 3714/6321 [6:28:45<7:23:33, 10.21s/it]"
     ]
    },
    {
     "name": "stdout",
     "output_type": "stream",
     "text": [
      "Extracted content from https://www.seattleu.edu/directory/profiles/kelly-tsang.php and saved to JSON.\n"
     ]
    },
    {
     "name": "stderr",
     "output_type": "stream",
     "text": [
      " 59%|█████▉    | 3715/6321 [6:28:55<7:22:58, 10.20s/it]"
     ]
    },
    {
     "name": "stdout",
     "output_type": "stream",
     "text": [
      "Extracted content from https://www.seattleu.edu/directory/profiles/larke-witten.php and saved to JSON.\n"
     ]
    },
    {
     "name": "stderr",
     "output_type": "stream",
     "text": [
      " 59%|█████▉    | 3716/6321 [6:29:05<7:22:20, 10.19s/it]"
     ]
    },
    {
     "name": "stdout",
     "output_type": "stream",
     "text": [
      "Extracted content from https://www.seattleu.edu/directory/profiles/linda-portnoy.php and saved to JSON.\n"
     ]
    },
    {
     "name": "stderr",
     "output_type": "stream",
     "text": [
      " 59%|█████▉    | 3717/6321 [6:29:15<7:21:36, 10.18s/it]"
     ]
    },
    {
     "name": "stdout",
     "output_type": "stream",
     "text": [
      "Extracted content from https://www.seattleu.edu/directory/profiles/lori-tonnes-priddy.php and saved to JSON.\n"
     ]
    },
    {
     "name": "stderr",
     "output_type": "stream",
     "text": [
      " 59%|█████▉    | 3718/6321 [6:29:26<7:21:01, 10.17s/it]"
     ]
    },
    {
     "name": "stdout",
     "output_type": "stream",
     "text": [
      "Extracted content from https://www.seattleu.edu/directory/profiles/natasha-bailey.php and saved to JSON.\n"
     ]
    },
    {
     "name": "stderr",
     "output_type": "stream",
     "text": [
      " 59%|█████▉    | 3719/6321 [6:29:36<7:20:40, 10.16s/it]"
     ]
    },
    {
     "name": "stdout",
     "output_type": "stream",
     "text": [
      "Extracted content from https://www.seattleu.edu/directory/profiles/nicole-kemp.php and saved to JSON.\n"
     ]
    },
    {
     "name": "stderr",
     "output_type": "stream",
     "text": [
      " 59%|█████▉    | 3720/6321 [6:29:46<7:22:24, 10.21s/it]"
     ]
    },
    {
     "name": "stdout",
     "output_type": "stream",
     "text": [
      "Extracted content from https://www.seattleu.edu/directory/profiles/oskar-rey.php and saved to JSON.\n"
     ]
    },
    {
     "name": "stderr",
     "output_type": "stream",
     "text": [
      " 59%|█████▉    | 3722/6321 [6:29:57<5:13:31,  7.24s/it]"
     ]
    },
    {
     "name": "stdout",
     "output_type": "stream",
     "text": [
      "Error processing https:www.seattleu.edu/directory/profiles/pamela-vance.php: HTTP Error 404: Not Found\n",
      "Extracted content from https://www.seattleu.edu/directory/profiles/peter-boccone.php and saved to JSON.\n"
     ]
    },
    {
     "name": "stderr",
     "output_type": "stream",
     "text": [
      " 59%|█████▉    | 3723/6321 [6:30:07<5:51:14,  8.11s/it]"
     ]
    },
    {
     "name": "stdout",
     "output_type": "stream",
     "text": [
      "Extracted content from https://www.seattleu.edu/directory/profiles/stacy-overton.php and saved to JSON.\n"
     ]
    },
    {
     "name": "stderr",
     "output_type": "stream",
     "text": [
      " 59%|█████▉    | 3724/6321 [6:30:17<6:17:42,  8.73s/it]"
     ]
    },
    {
     "name": "stdout",
     "output_type": "stream",
     "text": [
      "Extracted content from https://www.seattleu.edu/directory/profiles/colleen-mcingalls-mpa.php and saved to JSON.\n"
     ]
    },
    {
     "name": "stderr",
     "output_type": "stream",
     "text": [
      " 59%|█████▉    | 3726/6321 [6:30:27<4:39:56,  6.47s/it]"
     ]
    },
    {
     "name": "stdout",
     "output_type": "stream",
     "text": [
      "Error processing https:www.seattleu.edu/directory/profiles/ashley-christenson.php: HTTP Error 404: Not Found\n",
      "Extracted content from https://www.seattleu.edu/directory/profiles/catherine-thompson.php and saved to JSON.\n"
     ]
    },
    {
     "name": "stderr",
     "output_type": "stream",
     "text": [
      " 59%|█████▉    | 3727/6321 [6:30:38<5:27:58,  7.59s/it]"
     ]
    },
    {
     "name": "stdout",
     "output_type": "stream",
     "text": [
      "Extracted content from https://www.seattleu.edu/directory/profiles/chuy-garcia.php and saved to JSON.\n"
     ]
    },
    {
     "name": "stderr",
     "output_type": "stream",
     "text": [
      " 59%|█████▉    | 3728/6321 [6:30:48<6:01:06,  8.36s/it]"
     ]
    },
    {
     "name": "stdout",
     "output_type": "stream",
     "text": [
      "Extracted content from https://www.seattleu.edu/directory/profiles/drew-ellingson.php and saved to JSON.\n"
     ]
    },
    {
     "name": "stderr",
     "output_type": "stream",
     "text": [
      " 59%|█████▉    | 3729/6321 [6:30:58<6:24:03,  8.89s/it]"
     ]
    },
    {
     "name": "stdout",
     "output_type": "stream",
     "text": [
      "Extracted content from https://www.seattleu.edu/directory/profiles/elisabeth-ronley.php and saved to JSON.\n"
     ]
    },
    {
     "name": "stderr",
     "output_type": "stream",
     "text": [
      " 59%|█████▉    | 3730/6321 [6:31:08<6:40:46,  9.28s/it]"
     ]
    },
    {
     "name": "stdout",
     "output_type": "stream",
     "text": [
      "Extracted content from https://www.seattleu.edu/directory/profiles/karrah-martin.php and saved to JSON.\n"
     ]
    },
    {
     "name": "stderr",
     "output_type": "stream",
     "text": [
      " 59%|█████▉    | 3731/6321 [6:31:18<6:54:48,  9.61s/it]"
     ]
    },
    {
     "name": "stdout",
     "output_type": "stream",
     "text": [
      "Extracted content from https://www.seattleu.edu/directory/profiles/katie-lawrence.php and saved to JSON.\n"
     ]
    },
    {
     "name": "stderr",
     "output_type": "stream",
     "text": [
      " 59%|█████▉    | 3732/6321 [6:31:29<7:01:32,  9.77s/it]"
     ]
    },
    {
     "name": "stdout",
     "output_type": "stream",
     "text": [
      "Extracted content from https://www.seattleu.edu/directory/profiles/lauren-flynn.php and saved to JSON.\n"
     ]
    },
    {
     "name": "stderr",
     "output_type": "stream",
     "text": [
      " 59%|█████▉    | 3733/6321 [6:31:39<7:06:21,  9.88s/it]"
     ]
    },
    {
     "name": "stdout",
     "output_type": "stream",
     "text": [
      "Extracted content from https://www.seattleu.edu/directory/profiles/nadia-smith.php and saved to JSON.\n"
     ]
    },
    {
     "name": "stderr",
     "output_type": "stream",
     "text": [
      " 59%|█████▉    | 3734/6321 [6:31:49<7:10:52,  9.99s/it]"
     ]
    },
    {
     "name": "stdout",
     "output_type": "stream",
     "text": [
      "Extracted content from https://www.seattleu.edu/directory/profiles/natalie-muller.php and saved to JSON.\n"
     ]
    },
    {
     "name": "stderr",
     "output_type": "stream",
     "text": [
      " 59%|█████▉    | 3735/6321 [6:31:59<7:12:58, 10.05s/it]"
     ]
    },
    {
     "name": "stdout",
     "output_type": "stream",
     "text": [
      "Extracted content from https://www.seattleu.edu/directory/profiles/nina-kim.php and saved to JSON.\n"
     ]
    },
    {
     "name": "stderr",
     "output_type": "stream",
     "text": [
      " 59%|█████▉    | 3736/6321 [6:32:09<7:14:48, 10.09s/it]"
     ]
    },
    {
     "name": "stdout",
     "output_type": "stream",
     "text": [
      "Extracted content from https://www.seattleu.edu/directory/profiles/jamie-cho-phd.php and saved to JSON.\n"
     ]
    },
    {
     "name": "stderr",
     "output_type": "stream",
     "text": [
      " 59%|█████▉    | 3737/6321 [6:32:19<7:15:15, 10.11s/it]"
     ]
    },
    {
     "name": "stdout",
     "output_type": "stream",
     "text": [
      "Extracted content from https://www.seattleu.edu/directory/profiles/christine-nutters.php and saved to JSON.\n"
     ]
    },
    {
     "name": "stderr",
     "output_type": "stream",
     "text": [
      " 59%|█████▉    | 3738/6321 [6:32:30<7:15:45, 10.12s/it]"
     ]
    },
    {
     "name": "stdout",
     "output_type": "stream",
     "text": [
      "Extracted content from https://www.seattleu.edu/directory/profiles/daniel-bentson.php and saved to JSON.\n"
     ]
    },
    {
     "name": "stderr",
     "output_type": "stream",
     "text": [
      " 59%|█████▉    | 3740/6321 [6:32:40<5:09:33,  7.20s/it]"
     ]
    },
    {
     "name": "stdout",
     "output_type": "stream",
     "text": [
      "Error processing https:www.seattleu.edu/directory/profiles/david-welch-keliihoomalu.php: HTTP Error 404: Not Found\n",
      "Extracted content from https://www.seattleu.edu/directory/profiles/fenglan-yi-cline.php and saved to JSON.\n"
     ]
    },
    {
     "name": "stderr",
     "output_type": "stream",
     "text": [
      " 59%|█████▉    | 3741/6321 [6:32:50<5:47:47,  8.09s/it]"
     ]
    },
    {
     "name": "stdout",
     "output_type": "stream",
     "text": [
      "Extracted content from https://www.seattleu.edu/directory/profiles/heather-macdonald.php and saved to JSON.\n"
     ]
    },
    {
     "name": "stderr",
     "output_type": "stream",
     "text": [
      " 59%|█████▉    | 3742/6321 [6:33:00<6:14:26,  8.71s/it]"
     ]
    },
    {
     "name": "stdout",
     "output_type": "stream",
     "text": [
      "Extracted content from https://www.seattleu.edu/directory/profiles/vallen-solomon.php and saved to JSON.\n"
     ]
    },
    {
     "name": "stderr",
     "output_type": "stream",
     "text": [
      " 59%|█████▉    | 3743/6321 [6:33:11<6:33:07,  9.15s/it]"
     ]
    },
    {
     "name": "stdout",
     "output_type": "stream",
     "text": [
      "Extracted content from https://www.seattleu.edu/directory/profiles/allison-blackwelder.php and saved to JSON.\n"
     ]
    },
    {
     "name": "stderr",
     "output_type": "stream",
     "text": [
      " 59%|█████▉    | 3744/6321 [6:33:21<6:45:56,  9.45s/it]"
     ]
    },
    {
     "name": "stdout",
     "output_type": "stream",
     "text": [
      "Extracted content from https://www.seattleu.edu/directory/profiles/tara-roth-ma.php and saved to JSON.\n"
     ]
    },
    {
     "name": "stderr",
     "output_type": "stream",
     "text": [
      " 59%|█████▉    | 3745/6321 [6:33:31<6:54:46,  9.66s/it]"
     ]
    },
    {
     "name": "stdout",
     "output_type": "stream",
     "text": [
      "Extracted content from https://www.seattleu.edu/directory/profiles/wendy-bu.php and saved to JSON.\n"
     ]
    },
    {
     "name": "stderr",
     "output_type": "stream",
     "text": [
      " 59%|█████▉    | 3746/6321 [6:33:41<7:01:06,  9.81s/it]"
     ]
    },
    {
     "name": "stdout",
     "output_type": "stream",
     "text": [
      "Extracted content from https://www.seattleu.edu/directory/profiles/esther-park.php and saved to JSON.\n"
     ]
    },
    {
     "name": "stderr",
     "output_type": "stream",
     "text": [
      " 59%|█████▉    | 3747/6321 [6:33:51<7:05:13,  9.91s/it]"
     ]
    },
    {
     "name": "stdout",
     "output_type": "stream",
     "text": [
      "Extracted content from https://www.seattleu.edu/directory/profiles/jeff-minneti.php and saved to JSON.\n"
     ]
    },
    {
     "name": "stderr",
     "output_type": "stream",
     "text": [
      " 59%|█████▉    | 3748/6321 [6:34:02<7:10:29, 10.04s/it]"
     ]
    },
    {
     "name": "stdout",
     "output_type": "stream",
     "text": [
      "Extracted content from https://www.seattleu.edu/directory/profiles/mary-avian.php and saved to JSON.\n"
     ]
    },
    {
     "name": "stderr",
     "output_type": "stream",
     "text": [
      " 59%|█████▉    | 3750/6321 [6:34:12<5:04:37,  7.11s/it]"
     ]
    },
    {
     "name": "stdout",
     "output_type": "stream",
     "text": [
      "Error processing https:www.seattleu.edu/directory/profiles/wais-wais.php: HTTP Error 404: Not Found\n",
      "Extracted content from https://www.seattleu.edu/directory/profiles/deanna-clem.php and saved to JSON.\n"
     ]
    },
    {
     "name": "stderr",
     "output_type": "stream",
     "text": [
      " 59%|█████▉    | 3751/6321 [6:34:22<5:43:35,  8.02s/it]"
     ]
    },
    {
     "name": "stdout",
     "output_type": "stream",
     "text": [
      "Extracted content from https://www.seattleu.edu/directory/profiles/steven-wood.php and saved to JSON.\n"
     ]
    },
    {
     "name": "stderr",
     "output_type": "stream",
     "text": [
      " 59%|█████▉    | 3752/6321 [6:34:32<6:11:05,  8.67s/it]"
     ]
    },
    {
     "name": "stdout",
     "output_type": "stream",
     "text": [
      "Extracted content from https://www.seattleu.edu/directory/profiles/henry-kessler.php and saved to JSON.\n"
     ]
    },
    {
     "name": "stderr",
     "output_type": "stream",
     "text": [
      " 59%|█████▉    | 3753/6321 [6:34:42<6:30:13,  9.12s/it]"
     ]
    },
    {
     "name": "stdout",
     "output_type": "stream",
     "text": [
      "Extracted content from https://www.seattleu.edu/directory/profiles/zachary-howard.php and saved to JSON.\n"
     ]
    },
    {
     "name": "stderr",
     "output_type": "stream",
     "text": [
      " 59%|█████▉    | 3754/6321 [6:34:53<6:44:07,  9.45s/it]"
     ]
    },
    {
     "name": "stdout",
     "output_type": "stream",
     "text": [
      "Extracted content from https://www.seattleu.edu/directory/profiles/matthew-lechner.php and saved to JSON.\n"
     ]
    },
    {
     "name": "stderr",
     "output_type": "stream",
     "text": [
      " 59%|█████▉    | 3755/6321 [6:35:03<6:53:11,  9.66s/it]"
     ]
    },
    {
     "name": "stdout",
     "output_type": "stream",
     "text": [
      "Extracted content from https://www.seattleu.edu/directory/profiles/christopher-koa.php and saved to JSON.\n"
     ]
    },
    {
     "name": "stderr",
     "output_type": "stream",
     "text": [
      " 59%|█████▉    | 3757/6321 [6:35:14<5:00:32,  7.03s/it]"
     ]
    },
    {
     "name": "stdout",
     "output_type": "stream",
     "text": [
      "Error processing https:www.seattleu.edu/directory/profiles/aubrie-cook.php: HTTP Error 404: Not Found\n",
      "Extracted content from https://www.seattleu.edu/directory/profiles/janie-dillard.php and saved to JSON.\n"
     ]
    },
    {
     "name": "stderr",
     "output_type": "stream",
     "text": [
      " 59%|█████▉    | 3758/6321 [6:35:24<5:40:40,  7.98s/it]"
     ]
    },
    {
     "name": "stdout",
     "output_type": "stream",
     "text": [
      "Extracted content from https://www.seattleu.edu/directory/profiles/megan-miller.php and saved to JSON.\n"
     ]
    },
    {
     "name": "stderr",
     "output_type": "stream",
     "text": [
      " 59%|█████▉    | 3759/6321 [6:35:34<6:08:26,  8.63s/it]"
     ]
    },
    {
     "name": "stdout",
     "output_type": "stream",
     "text": [
      "Extracted content from https://www.seattleu.edu/directory/profiles/noi-sakaeo.php and saved to JSON.\n"
     ]
    },
    {
     "name": "stderr",
     "output_type": "stream",
     "text": [
      " 59%|█████▉    | 3760/6321 [6:35:44<6:27:50,  9.09s/it]"
     ]
    },
    {
     "name": "stdout",
     "output_type": "stream",
     "text": [
      "Extracted content from https://www.seattleu.edu/directory/profiles/miguel-romero-sfc.php and saved to JSON.\n"
     ]
    },
    {
     "name": "stderr",
     "output_type": "stream",
     "text": [
      " 60%|█████▉    | 3761/6321 [6:35:54<6:41:23,  9.41s/it]"
     ]
    },
    {
     "name": "stdout",
     "output_type": "stream",
     "text": [
      "Extracted content from https://www.seattleu.edu/directory/profiles/brigitte-krier.php and saved to JSON.\n"
     ]
    },
    {
     "name": "stderr",
     "output_type": "stream",
     "text": [
      " 60%|█████▉    | 3762/6321 [6:36:04<6:50:49,  9.63s/it]"
     ]
    },
    {
     "name": "stdout",
     "output_type": "stream",
     "text": [
      "Extracted content from https://www.seattleu.edu/directory/profiles/brittney-davidge.php and saved to JSON.\n"
     ]
    },
    {
     "name": "stderr",
     "output_type": "stream",
     "text": [
      " 60%|█████▉    | 3763/6321 [6:36:15<6:57:39,  9.80s/it]"
     ]
    },
    {
     "name": "stdout",
     "output_type": "stream",
     "text": [
      "Extracted content from https://www.seattleu.edu/directory/profiles/scott-remily.php and saved to JSON.\n"
     ]
    },
    {
     "name": "stderr",
     "output_type": "stream",
     "text": [
      " 60%|█████▉    | 3764/6321 [6:36:25<7:02:07,  9.91s/it]"
     ]
    },
    {
     "name": "stdout",
     "output_type": "stream",
     "text": [
      "Extracted content from https://www.seattleu.edu/directory/profiles/valerie-zerda.php and saved to JSON.\n"
     ]
    },
    {
     "name": "stderr",
     "output_type": "stream",
     "text": [
      " 60%|█████▉    | 3765/6321 [6:36:35<7:05:15,  9.98s/it]"
     ]
    },
    {
     "name": "stdout",
     "output_type": "stream",
     "text": [
      "Extracted content from https://www.seattleu.edu/directory/profiles/wayne-liou.php and saved to JSON.\n"
     ]
    },
    {
     "name": "stderr",
     "output_type": "stream",
     "text": [
      " 60%|█████▉    | 3766/6321 [6:36:45<7:09:14, 10.08s/it]"
     ]
    },
    {
     "name": "stdout",
     "output_type": "stream",
     "text": [
      "Extracted content from https://www.seattleu.edu/directory/profiles/brian-irwin.php and saved to JSON.\n"
     ]
    },
    {
     "name": "stderr",
     "output_type": "stream",
     "text": [
      " 60%|█████▉    | 3767/6321 [6:36:55<7:10:04, 10.10s/it]"
     ]
    },
    {
     "name": "stdout",
     "output_type": "stream",
     "text": [
      "Extracted content from https://www.seattleu.edu/directory/profiles/curtiss-lyman.php and saved to JSON.\n"
     ]
    },
    {
     "name": "stderr",
     "output_type": "stream",
     "text": [
      " 60%|█████▉    | 3768/6321 [6:37:06<7:10:44, 10.12s/it]"
     ]
    },
    {
     "name": "stdout",
     "output_type": "stream",
     "text": [
      "Extracted content from https://www.seattleu.edu/directory/profiles/dhongkyu-yoon.php and saved to JSON.\n"
     ]
    },
    {
     "name": "stderr",
     "output_type": "stream",
     "text": [
      " 60%|█████▉    | 3769/6321 [6:37:16<7:10:58, 10.13s/it]"
     ]
    },
    {
     "name": "stdout",
     "output_type": "stream",
     "text": [
      "Extracted content from https://www.seattleu.edu/directory/profiles/joel-grossbard.php and saved to JSON.\n"
     ]
    },
    {
     "name": "stderr",
     "output_type": "stream",
     "text": [
      " 60%|█████▉    | 3770/6321 [6:37:26<7:11:24, 10.15s/it]"
     ]
    },
    {
     "name": "stdout",
     "output_type": "stream",
     "text": [
      "Extracted content from https://www.seattleu.edu/directory/profiles/joelle-cann.php and saved to JSON.\n"
     ]
    },
    {
     "name": "stderr",
     "output_type": "stream",
     "text": [
      " 60%|█████▉    | 3771/6321 [6:37:36<7:11:26, 10.15s/it]"
     ]
    },
    {
     "name": "stdout",
     "output_type": "stream",
     "text": [
      "Extracted content from https://www.seattleu.edu/directory/profiles/julian-cassano.php and saved to JSON.\n"
     ]
    },
    {
     "name": "stderr",
     "output_type": "stream",
     "text": [
      " 60%|█████▉    | 3772/6321 [6:37:46<7:11:14, 10.15s/it]"
     ]
    },
    {
     "name": "stdout",
     "output_type": "stream",
     "text": [
      "Extracted content from https://www.seattleu.edu/directory/profiles/kathryn-black.php and saved to JSON.\n"
     ]
    },
    {
     "name": "stderr",
     "output_type": "stream",
     "text": [
      " 60%|█████▉    | 3773/6321 [6:37:56<7:11:09, 10.15s/it]"
     ]
    },
    {
     "name": "stdout",
     "output_type": "stream",
     "text": [
      "Extracted content from https://www.seattleu.edu/directory/profiles/mazen-fadel.php and saved to JSON.\n"
     ]
    },
    {
     "name": "stderr",
     "output_type": "stream",
     "text": [
      " 60%|█████▉    | 3774/6321 [6:38:07<7:12:31, 10.19s/it]"
     ]
    },
    {
     "name": "stdout",
     "output_type": "stream",
     "text": [
      "Extracted content from https://www.seattleu.edu/directory/profiles/miriam-perez.php and saved to JSON.\n"
     ]
    },
    {
     "name": "stderr",
     "output_type": "stream",
     "text": [
      " 60%|█████▉    | 3775/6321 [6:38:17<7:12:11, 10.19s/it]"
     ]
    },
    {
     "name": "stdout",
     "output_type": "stream",
     "text": [
      "Extracted content from https://www.seattleu.edu/directory/profiles/nabeeha-misbah.php and saved to JSON.\n"
     ]
    },
    {
     "name": "stderr",
     "output_type": "stream",
     "text": [
      " 60%|█████▉    | 3776/6321 [6:38:27<7:13:12, 10.21s/it]"
     ]
    },
    {
     "name": "stdout",
     "output_type": "stream",
     "text": [
      "Extracted content from https://www.seattleu.edu/directory/profiles/narges-masoumi.php and saved to JSON.\n"
     ]
    },
    {
     "name": "stderr",
     "output_type": "stream",
     "text": [
      " 60%|█████▉    | 3777/6321 [6:38:37<7:12:42, 10.21s/it]"
     ]
    },
    {
     "name": "stdout",
     "output_type": "stream",
     "text": [
      "Extracted content from https://www.seattleu.edu/directory/profiles/sarah-kate-moore.php and saved to JSON.\n"
     ]
    },
    {
     "name": "stderr",
     "output_type": "stream",
     "text": [
      " 60%|█████▉    | 3778/6321 [6:38:47<7:12:01, 10.19s/it]"
     ]
    },
    {
     "name": "stdout",
     "output_type": "stream",
     "text": [
      "Extracted content from https://www.seattleu.edu/directory/profiles/tiffaney-robinson-duane.php and saved to JSON.\n"
     ]
    },
    {
     "name": "stderr",
     "output_type": "stream",
     "text": [
      " 60%|█████▉    | 3779/6321 [6:38:58<7:11:29, 10.18s/it]"
     ]
    },
    {
     "name": "stdout",
     "output_type": "stream",
     "text": [
      "Extracted content from https://www.seattleu.edu/directory/profiles/austin-dodd.php and saved to JSON.\n"
     ]
    },
    {
     "name": "stderr",
     "output_type": "stream",
     "text": [
      " 60%|█████▉    | 3781/6321 [6:39:08<5:04:31,  7.19s/it]"
     ]
    },
    {
     "name": "stdout",
     "output_type": "stream",
     "text": [
      "Error processing https:www.seattleu.edu/directory/profiles/cassandra-yabes.php: HTTP Error 404: Not Found\n",
      "Extracted content from https://www.seattleu.edu/directory/profiles/chase-tipton.php and saved to JSON.\n"
     ]
    },
    {
     "name": "stderr",
     "output_type": "stream",
     "text": [
      " 60%|█████▉    | 3782/6321 [6:39:18<5:42:08,  8.09s/it]"
     ]
    },
    {
     "name": "stdout",
     "output_type": "stream",
     "text": [
      "Extracted content from https://www.seattleu.edu/directory/profiles/dinah-draluk.php and saved to JSON.\n"
     ]
    },
    {
     "name": "stderr",
     "output_type": "stream",
     "text": [
      " 60%|█████▉    | 3783/6321 [6:39:29<6:10:29,  8.76s/it]"
     ]
    },
    {
     "name": "stdout",
     "output_type": "stream",
     "text": [
      "Extracted content from https://www.seattleu.edu/directory/profiles/joseph-wolyniak.php and saved to JSON.\n"
     ]
    },
    {
     "name": "stderr",
     "output_type": "stream",
     "text": [
      " 60%|█████▉    | 3784/6321 [6:39:39<6:28:15,  9.18s/it]"
     ]
    },
    {
     "name": "stdout",
     "output_type": "stream",
     "text": [
      "Extracted content from https://www.seattleu.edu/directory/profiles/kainoa-evans.php and saved to JSON.\n"
     ]
    },
    {
     "name": "stderr",
     "output_type": "stream",
     "text": [
      " 60%|█████▉    | 3785/6321 [6:39:49<6:40:44,  9.48s/it]"
     ]
    },
    {
     "name": "stdout",
     "output_type": "stream",
     "text": [
      "Extracted content from https://www.seattleu.edu/directory/profiles/laura-pierce-mpa.php and saved to JSON.\n"
     ]
    },
    {
     "name": "stderr",
     "output_type": "stream",
     "text": [
      " 60%|█████▉    | 3786/6321 [6:39:59<6:49:27,  9.69s/it]"
     ]
    },
    {
     "name": "stdout",
     "output_type": "stream",
     "text": [
      "Extracted content from https://www.seattleu.edu/directory/profiles/linda-foster.php and saved to JSON.\n"
     ]
    },
    {
     "name": "stderr",
     "output_type": "stream",
     "text": [
      " 60%|█████▉    | 3787/6321 [6:40:09<6:55:09,  9.83s/it]"
     ]
    },
    {
     "name": "stdout",
     "output_type": "stream",
     "text": [
      "Extracted content from https://www.seattleu.edu/directory/profiles/maxwell-skotheim.php and saved to JSON.\n"
     ]
    },
    {
     "name": "stderr",
     "output_type": "stream",
     "text": [
      " 60%|█████▉    | 3788/6321 [6:40:19<6:59:11,  9.93s/it]"
     ]
    },
    {
     "name": "stdout",
     "output_type": "stream",
     "text": [
      "Extracted content from https://www.seattleu.edu/directory/profiles/andrew-johnson.php and saved to JSON.\n"
     ]
    },
    {
     "name": "stderr",
     "output_type": "stream",
     "text": [
      " 60%|█████▉    | 3789/6321 [6:40:30<7:01:51, 10.00s/it]"
     ]
    },
    {
     "name": "stdout",
     "output_type": "stream",
     "text": [
      "Extracted content from https://www.seattleu.edu/directory/profiles/angelo-domitri.php and saved to JSON.\n"
     ]
    },
    {
     "name": "stderr",
     "output_type": "stream",
     "text": [
      " 60%|█████▉    | 3790/6321 [6:40:40<7:03:28, 10.04s/it]"
     ]
    },
    {
     "name": "stdout",
     "output_type": "stream",
     "text": [
      "Extracted content from https://www.seattleu.edu/directory/profiles/charity-laughlin-ma-lmft.php and saved to JSON.\n"
     ]
    },
    {
     "name": "stderr",
     "output_type": "stream",
     "text": [
      " 60%|█████▉    | 3791/6321 [6:40:50<7:06:35, 10.12s/it]"
     ]
    },
    {
     "name": "stdout",
     "output_type": "stream",
     "text": [
      "Extracted content from https://www.seattleu.edu/directory/profiles/darci-freeman.php and saved to JSON.\n"
     ]
    },
    {
     "name": "stderr",
     "output_type": "stream",
     "text": [
      " 60%|█████▉    | 3792/6321 [6:41:00<7:07:04, 10.13s/it]"
     ]
    },
    {
     "name": "stdout",
     "output_type": "stream",
     "text": [
      "Extracted content from https://www.seattleu.edu/directory/profiles/gayle-clemans.php and saved to JSON.\n"
     ]
    },
    {
     "name": "stderr",
     "output_type": "stream",
     "text": [
      " 60%|██████    | 3793/6321 [6:41:10<7:07:13, 10.14s/it]"
     ]
    },
    {
     "name": "stdout",
     "output_type": "stream",
     "text": [
      "Extracted content from https://www.seattleu.edu/directory/profiles/hahkyung-kim.php and saved to JSON.\n"
     ]
    },
    {
     "name": "stderr",
     "output_type": "stream",
     "text": [
      " 60%|██████    | 3794/6321 [6:41:20<7:07:23, 10.15s/it]"
     ]
    },
    {
     "name": "stdout",
     "output_type": "stream",
     "text": [
      "Extracted content from https://www.seattleu.edu/directory/profiles/heather-nielson.php and saved to JSON.\n"
     ]
    },
    {
     "name": "stderr",
     "output_type": "stream",
     "text": [
      " 60%|██████    | 3795/6321 [6:41:31<7:07:39, 10.16s/it]"
     ]
    },
    {
     "name": "stdout",
     "output_type": "stream",
     "text": [
      "Extracted content from https://www.seattleu.edu/directory/profiles/imani-sims.php and saved to JSON.\n"
     ]
    },
    {
     "name": "stderr",
     "output_type": "stream",
     "text": [
      " 60%|██████    | 3796/6321 [6:41:41<7:07:09, 10.15s/it]"
     ]
    },
    {
     "name": "stdout",
     "output_type": "stream",
     "text": [
      "Extracted content from https://www.seattleu.edu/directory/profiles/jennifer-satterwhite.php and saved to JSON.\n"
     ]
    },
    {
     "name": "stderr",
     "output_type": "stream",
     "text": [
      " 60%|██████    | 3797/6321 [6:41:51<7:06:59, 10.15s/it]"
     ]
    },
    {
     "name": "stdout",
     "output_type": "stream",
     "text": [
      "Extracted content from https://www.seattleu.edu/directory/profiles/jessica-vu.php and saved to JSON.\n"
     ]
    },
    {
     "name": "stderr",
     "output_type": "stream",
     "text": [
      " 60%|██████    | 3798/6321 [6:42:01<7:07:01, 10.16s/it]"
     ]
    },
    {
     "name": "stdout",
     "output_type": "stream",
     "text": [
      "Extracted content from https://www.seattleu.edu/directory/profiles/lillian-martz.php and saved to JSON.\n"
     ]
    },
    {
     "name": "stderr",
     "output_type": "stream",
     "text": [
      " 60%|██████    | 3799/6321 [6:42:11<7:08:10, 10.19s/it]"
     ]
    },
    {
     "name": "stdout",
     "output_type": "stream",
     "text": [
      "Extracted content from https://www.seattleu.edu/directory/profiles/lisa-sibbett.php and saved to JSON.\n"
     ]
    },
    {
     "name": "stderr",
     "output_type": "stream",
     "text": [
      " 60%|██████    | 3800/6321 [6:42:22<7:07:57, 10.19s/it]"
     ]
    },
    {
     "name": "stdout",
     "output_type": "stream",
     "text": [
      "Extracted content from https://www.seattleu.edu/directory/profiles/michelle-byrd.php and saved to JSON.\n"
     ]
    },
    {
     "name": "stderr",
     "output_type": "stream",
     "text": [
      " 60%|██████    | 3801/6321 [6:42:32<7:07:23, 10.18s/it]"
     ]
    },
    {
     "name": "stdout",
     "output_type": "stream",
     "text": [
      "Extracted content from https://www.seattleu.edu/directory/profiles/tammy-huson.php and saved to JSON.\n"
     ]
    },
    {
     "name": "stderr",
     "output_type": "stream",
     "text": [
      " 60%|██████    | 3802/6321 [6:42:42<7:07:04, 10.17s/it]"
     ]
    },
    {
     "name": "stdout",
     "output_type": "stream",
     "text": [
      "Extracted content from https://www.seattleu.edu/directory/profiles/william-cheung.php and saved to JSON.\n"
     ]
    },
    {
     "name": "stderr",
     "output_type": "stream",
     "text": [
      "100%|██████████| 6321/6321 [6:42:52<00:00,  3.82s/it]  "
     ]
    },
    {
     "name": "stdout",
     "output_type": "stream",
     "text": [
      "Extraction completed. 2363 URLs processed successfully.\n"
     ]
    },
    {
     "name": "stderr",
     "output_type": "stream",
     "text": [
      "\n"
     ]
    }
   ],
   "source": [
    "import json\n",
    "import time\n",
    "from tqdm import tqdm\n",
    "\n",
    "res_json = {}\n",
    "for index, row in tqdm(df.iterrows(), total=len(df)):\n",
    "    try:\n",
    "        url = row['URL'].replace('https:', 'https://')\n",
    "        \n",
    "        \n",
    "        # Special handling for academics pages\n",
    "        if row['mainGroup'] == 'directory':\n",
    "            # Use the KeepEverythingExtractor for academics pages\n",
    "            # content = new_ext.get_content_from_url(url)\n",
    "            content = extractor.get_content_from_url(url)\n",
    "\n",
    "        else:\n",
    "            # Use the DefaultExtractor for all other pages\n",
    "            # content = extractor.get_content_from_url(url)\n",
    "            continue\n",
    "            \n",
    "        res_json[url] = content\n",
    "        \n",
    "        # Save the JSON file after each successful extraction\n",
    "        with open('extracted_content_directory.json', 'w') as f:\n",
    "            json.dump(res_json, f)\n",
    "        print(f\"Extracted content from {url} and saved to JSON.\")\n",
    "        # Add a delay of 20 seconds between requests\n",
    "        time.sleep(10)\n",
    "    except Exception as e:\n",
    "        print(f\"Error processing {row['URL']}: {str(e)}\")\n",
    "        # Continue with the next URL if there's an error\n",
    "        continue\n",
    "\n",
    "print(f\"Extraction completed. {len(res_json)} URLs processed successfully.\")"
   ]
  },
  {
   "cell_type": "code",
   "execution_count": 3,
   "id": "2f4d6a07",
   "metadata": {},
   "outputs": [],
   "source": [
    "url = \"https://www.seattleu.edu/admissions-aid/graduate-admissions/\""
   ]
  },
  {
   "cell_type": "code",
   "execution_count": 4,
   "id": "4bcdf616",
   "metadata": {},
   "outputs": [
    {
     "name": "stdout",
     "output_type": "stream",
     "text": [
      "Take the Path That Moves You Forward\n",
      "A Seattle University graduate degree offers flexibility for students and working professionals inspired to make big changes in their world—and ours. Discover the impact of earning an advanced degree in one of the most forward-thinking cities on the planet.\n",
      "Graduate Viewbook\n",
      "Check out our graduate viewbook for more on becoming a student at Seattle University.\n",
      "Full-Time and Part-Time Programs in Seattle\n",
      "With more than 50 graduate degree options—available full time, part time, on campus, hybrid and online—Seattle University offers flexible but highly respected education to further your career goals.\n",
      "MBA, JD, MSCS, MFA, DNP and more.\n",
      "Online Master’s Degrees From Anywhere\n",
      "In our rigorous and respected online graduate degrees, you’ll experience a program that fits your schedule, advances your career and helps fulfill your purpose.\n",
      "#1\n",
      "BEST METRO LOCATION FOR STEM PROFESSIONALS\n",
      "Set yourself up for success in the top city for STEM professionals (WalletHub 2021).\n",
      "Top 16% WALL STREET JOURNAL/TIMES HIGHER EDUCATION\n",
      "The Wall Street Journal ranked Seattle University in the top 16% of all universities.\n",
      "TOP 30 GRADUATE PROGRAMS BY U.S. NEWS & WORLD REPORT\n",
      "Experience how Seattle University helps you take your career to the next level.\n",
      "Application Deadlines\n",
      "Find your program’s deadlines and keep your application on track and on time.\n",
      "Visit Seattle University\n",
      "Come check out our beautiful 55-acre campus in the vibrant Capitol Hill Neighborhood. Take a personalized campus tour, attend an event or register for an online information session.\n",
      "Making Connections, Developing Skills\n",
      "Whether you’re on campus full-time or part-time, you’ll find opportunities to engage with peers and colleagues—and advance your professional skillset.\n",
      "Dayna Eden, ’16 Leadership Executive MBA\n",
      "“We weren’t just being taught how to write a pro forma or how to do statistical regression; we learned how to be better human beings through our leadership. This program changed my life, truly. It made me a better person and a better professional.”\n",
      "Chief People Officer, Aviation Technical Services\n",
      "Contact Us\n",
      "Questions? The admissions office is ready to hear from you. Contact us, and we’ll be happy to assist you in any way during this process.\n",
      "Office of Graduate Admissions\n",
      "\n",
      "2289\n"
     ]
    }
   ],
   "source": [
    "content_def = extractor.get_content_from_url(url)\n",
    "print(content_def)\n",
    "print(len(content_def))"
   ]
  },
  {
   "cell_type": "code",
   "execution_count": 5,
   "id": "756f23c8",
   "metadata": {},
   "outputs": [
    {
     "name": "stdout",
     "output_type": "stream",
     "text": [
      "Skip to main site navigation Skip to main content Skip to footer content\n",
      "Click to visit the home page\n",
      "News\n",
      "Events\n",
      "Athletics\n",
      "Info For\n",
      "Admitted Students\n",
      "Alumni\n",
      "Current Students\n",
      "Faculty & Staff\n",
      "Parents & Families\n",
      "Apply\n",
      "Visit\n",
      "Give\n",
      "Admissions & Aid\n",
      "Apply Now\n",
      "Undergraduate Admissions\n",
      "Graduate Admissions\n",
      "International Admissions\n",
      "Transfer Admissions\n",
      "Executive & Professional Admissions\n",
      "Tuition & Fees\n",
      "Financial Aid & Scholarships\n",
      "Request Information\n",
      "Visit & Tour\n",
      "Academics\n",
      "All Programs\n",
      "Schools & Colleges\n",
      "Centers & Institutes\n",
      "Academic Advising\n",
      "Education Abroad\n",
      "Lemieux Library\n",
      "Academic Calendar\n",
      "Academic Resources\n",
      "Life at Seattle U\n",
      "Our Campus\n",
      "Housing & Dining\n",
      "Get Involved\n",
      "Faith, Spirituality and Meaning\n",
      "University Recreation\n",
      "Graduate Student Life\n",
      "International Student Community\n",
      "Public Safety\n",
      "Health & Wellness\n",
      "Who We Are\n",
      "The Seattle U Impact\n",
      "Mission, Vision & Values\n",
      "Jesuit Education\n",
      "A Diverse & Inclusive Community\n",
      "Global Engagement\n",
      "Sustainability and Climate Action\n",
      "Leadership\n",
      "SU × WCC\n",
      "Cornish at Seattle University\n",
      "Contact Us\n",
      "Search\n",
      "Graduate Admissions\n",
      "Your brighter future starts here.\n",
      "Apply Now\n",
      "More in this Section\n",
      "How to Apply\n",
      "Deadlines\n",
      "FAQs\n",
      "Contact\n",
      "Take the Path That Moves You Forward\n",
      "A Seattle University graduate degree offers flexibility for students and working professionals inspired to make big changes in their world—and ours. Discover the impact of earning an advanced degree in one of the most forward-thinking cities on the planet.\n",
      "Graduate Viewbook\n",
      "Check out our graduate viewbook for more on becoming a student at Seattle University.\n",
      "Graduate Viewbook\n",
      "Explore Graduate Programs\n",
      "Full-Time and Part-Time Programs in Seattle\n",
      "With more than 50 graduate degree options—available full time, part time, on campus, hybrid and online—Seattle University offers flexible but highly respected education to further your career goals.\n",
      "Search Graduate Programs\n",
      "50+\n",
      "Master’s, Doctorate and Certificates Programs\n",
      "MBA, JD, MSCS, MFA, DNP and more.\n",
      "Online Master’s Degrees From Anywhere\n",
      "In our rigorous and respected online graduate degrees, you’ll experience a program that fits your schedule, advances your career and helps fulfill your purpose.\n",
      "Explore Online Degrees\n",
      "In the Best Global Tech City Top-Rated Programs\n",
      "#1\n",
      "BEST METRO LOCATION FOR STEM PROFESSIONALS\n",
      "Set yourself up for success in the top city for STEM professionals (WalletHub 2021).\n",
      "Top 16% WALL STREET JOURNAL/TIMES HIGHER EDUCATION\n",
      "The Wall Street Journal ranked Seattle University in the top 16% of all universities.\n",
      "TOP 30 GRADUATE PROGRAMS BY U.S. NEWS & WORLD REPORT\n",
      "Experience how Seattle University helps you take your career to the next level.\n",
      "Application Deadlines\n",
      "Find your program’s deadlines and keep your application on track and on time.\n",
      "Program Deadlines\n",
      "How to Apply\n",
      "Explore how to apply for a graduate program.\n",
      "Start Today\n",
      "Upcoming Events\n",
      "All Events\n",
      "Browse Information Sessions\n",
      "Featured Event\n",
      "Visit Seattle University\n",
      "Come check out our beautiful 55-acre campus in the vibrant Capitol Hill Neighborhood. Take a personalized campus tour, attend an event or register for an online information session.\n",
      "Learn more about Visiting Campus\n",
      "Making Connections, Developing Skills\n",
      "Whether you’re on campus full-time or part-time, you’ll find opportunities to engage with peers and colleagues—and advance your professional skillset.\n",
      "Explore Graduate Student Life\n",
      "What Our Graduates Say\n",
      "Dayna Eden, ’16 Leadership Executive MBA\n",
      "“We weren’t just being taught how to write a pro forma or how to do statistical regression; we learned how to be better human beings through our leadership. This program changed my life, truly. It made me a better person and a better professional.”\n",
      "Chief People Officer, Aviation Technical Services\n",
      "Contact Us\n",
      "Questions? The admissions office is ready to hear from you. Contact us, and we’ll be happy to assist you in any way during this process.\n",
      "Office of Graduate Admissions\n",
      "grad-admissions@seattleu.edu\n",
      "1-206-220-8010\n",
      "Next steps\n",
      "Apply\n",
      "Visit\n",
      "Request Info\n",
      "Admissions & Aid\n",
      "Academics\n",
      "Life at Seattle U\n",
      "Who We Are\n",
      "Information for\n",
      "Admitted Students\n",
      "Alumni\n",
      "Current Students\n",
      "Faculty & Staff\n",
      "Parents & Families\n",
      "Redhawk Hub\n",
      "Canvas\n",
      "mySeattleU\n",
      "Email\n",
      "ConnectSU\n",
      "Campus Store\n",
      "Careers at Seattle U\n",
      "Faculty & Staff Directory\n",
      "Offices & Departments Directory\n",
      "COVID-19 Response\n",
      "Click to visit the home page\n",
      "901 12th Avenue\n",
      "Seattle, WA 98122\n",
      "206-296-6000\n",
      "Campus Map & Directions\n",
      "Tiktok\n",
      "Threads\n",
      "Twitter\n",
      "YouTube\n",
      "LinkedIn\n",
      "Instagram\n",
      "Facebook\n",
      "Copyright ©\n",
      "Seattle University\n",
      "Policies & Regulations\n",
      "Privacy Policy\n",
      "Terms of Service\n",
      "Accessibility\n",
      "Ethics Line\n",
      "\n",
      "4533\n"
     ]
    }
   ],
   "source": [
    "content_long = new_ext.get_content_from_url(url)\n",
    "print(content_long)\n",
    "print(len(content_long))"
   ]
  },
  {
   "cell_type": "code",
   "execution_count": null,
   "id": "27fc24c8",
   "metadata": {},
   "outputs": [],
   "source": []
  }
 ],
 "metadata": {
  "kernelspec": {
   "display_name": "rag_env",
   "language": "python",
   "name": "python3"
  },
  "language_info": {
   "codemirror_mode": {
    "name": "ipython",
    "version": 3
   },
   "file_extension": ".py",
   "mimetype": "text/x-python",
   "name": "python",
   "nbconvert_exporter": "python",
   "pygments_lexer": "ipython3",
   "version": "3.13.3"
  }
 },
 "nbformat": 4,
 "nbformat_minor": 5
}
